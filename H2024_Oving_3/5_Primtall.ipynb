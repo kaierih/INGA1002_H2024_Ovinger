{
 "cells": [
  {
   "cell_type": "markdown",
   "metadata": {
    "deletable": false,
    "editable": false
   },
   "source": [
    "\n",
    "<nav class=\"navbar navbar-default\">\n",
    "  <div class=\"container-fluid\">\n",
    "    <div class=\"navbar-header\" style=\"float: left\">\n",
    "        <a class=\"navbar-brand\" href=\"0_Forside.ipynb\" target=\"_self\"> <h2> &uarr; Tilbake til forsiden</h2></a>\n",
    "    </div>\n",
    "  </div>\n",
    "</nav>"
   ]
  },
  {
   "cell_type": "markdown",
   "metadata": {
    "deletable": false,
    "editable": false,
    "run_control": {
     "frozen": true
    },
    "slideshow": {
     "slide_type": ""
    },
    "tags": []
   },
   "source": [
    "\n",
    "# Primtall\n",
    "\n",
    "**Læringsmål:**\n",
    "- Anvendelse av for-løkker\n",
    "- Bruk av modulo-operatoren\n",
    "\n",
    "**Oversikt:**\n",
    "* [Oppgave a) Er `a` delelig på `b`?](#oppg_5a)\n",
    "* [Oppgave b) Er `a` et primtall?](#oppg_5b)\n",
    "\n",
    "Som vi har lært i matematikken, er et *primtall* et tall som kun er delelig på seg selv og én. For å sjekke om et tall $a$ er et primtall, må vil man typisk prøve seg frem med å dele $a$ på alle mulige tallverdier være sikker på at $a$ er et primatll. \n",
    "\n",
    "I denne oppgaven skal du gjennom flere steg lage en funksjon bruker for-løkker til å avgjøre om et tall er et primtall.\n",
    "\n",
    "Første steg er å finne en måte for Python å avgjøre om et tall `a` er delelig på `b`. Til dette kommer regneoperatoren [modulo](https://www.geeksforgeeks.org/what-is-a-modulo-operator-in-python/) (`%`) svært godt med, da den forteller hva *resten* etter heltallsdivisjon er. For eksempel kan vi bruke betingelsen `a%2 == 0` for å sjekke om `a` er et partall (altså delelig på 2):\n",
    "```Python\n",
    "if a%2 == 0:\n",
    "    print(f\"{a} er et partall!\")\n",
    "else:\n",
    "    print(f\"{a} er et oddetall!\")\n",
    "```"
   ]
  },
  {
   "cell_type": "markdown",
   "metadata": {
    "deletable": false,
    "editable": false,
    "heading_collapsed": true,
    "run_control": {
     "frozen": true
    },
    "slideshow": {
     "slide_type": ""
    },
    "tags": []
   },
   "source": [
    "<a id=\"oppg_5a\"></a>\n",
    "## a)"
   ]
  },
  {
   "cell_type": "markdown",
   "metadata": {
    "deletable": false,
    "editable": false,
    "hidden": true,
    "run_control": {
     "frozen": true
    }
   },
   "source": [
    "Skriv funksjonen `is_divisable(a, b)` som returnerer `True` dersom `a` er delelig med `b` og `False` ellers.\n",
    "\n",
    "***Skriv koden i kodeblokken under***"
   ]
  },
  {
   "cell_type": "code",
   "execution_count": null,
   "metadata": {
    "deletable": false,
    "editable": true,
    "execution": {
     "iopub.execute_input": "2024-08-28T17:38:46.880737Z",
     "iopub.status.busy": "2024-08-28T17:38:46.879942Z",
     "iopub.status.idle": "2024-08-28T17:38:46.902360Z",
     "shell.execute_reply": "2024-08-28T17:38:46.899923Z"
    },
    "hidden": true,
    "nbgrader": {
     "cell_type": "code",
     "checksum": "d31ef9aaedce68b2b18f336ffc3a5154",
     "grade": false,
     "grade_id": "cell-301178a922d007b9",
     "locked": false,
     "schema_version": 3,
     "solution": true,
     "task": false
    },
    "slideshow": {
     "slide_type": ""
    },
    "tags": []
   },
   "outputs": [],
   "source": [
    "def is_divisable(a, b):\n",
    "    #-------------------------------------\n",
    "    # SKRIV DIN KODE HER!\n",
    "    #-------------------------------------"
   ]
  },
  {
   "cell_type": "markdown",
   "metadata": {
    "deletable": false,
    "editable": false,
    "hidden": true,
    "run_control": {
     "frozen": true
    }
   },
   "source": [
    "Sjekk at funksjonen din fungerer med testkoden under. Output fra denne burde være:\n",
    "```\n",
    "is_divisable(10,5) = True\n",
    "is_divisable(10,3) = False\n",
    "```\n",
    "\n",
    "(Husk å trykke `ctrl + enter` i kodeblokken med funksjonen din før du kjører testkoden)"
   ]
  },
  {
   "cell_type": "code",
   "execution_count": null,
   "metadata": {
    "deletable": false,
    "execution": {
     "iopub.execute_input": "2024-08-28T17:38:46.912541Z",
     "iopub.status.busy": "2024-08-28T17:38:46.911751Z",
     "iopub.status.idle": "2024-08-28T17:38:46.948014Z",
     "shell.execute_reply": "2024-08-28T17:38:46.944398Z"
    }
   },
   "outputs": [],
   "source": [
    "# TESTKODE FOR is_divisable\n",
    "print(f\"{is_divisable(10,5) = }\")\n",
    "print(f\"{is_divisable(10,3) = }\")"
   ]
  },
  {
   "cell_type": "code",
   "execution_count": null,
   "metadata": {
    "ExecuteTime": {
     "end_time": "2019-07-03T09:00:50.589088Z",
     "start_time": "2019-07-03T09:00:50.258480Z"
    },
    "autofeedback": {
     "test_code": "ZnJvbSBhdXRvZmVlZGJhY2sgaW1wb3J0IEZ1bmN0aW9uVGVzdHMKZnJvbSByYW5kb20gaW1wb3J0IHNhbXBsZQpkZWYgaXNfZGl2aXNhYmxlX3NvbHV0aW9uKGEsIGIpOgogICAgaWYgYSViID09IDA6CiAgICAgICAgcmV0dXJuIFRydWUKICAgIGVsc2U6CiAgICAgICAgcmV0dXJuIEZhbHNlCgpncmFkaW5nX3Jlc3VsdHMgPSBGdW5jdGlvblRlc3RzKGlzX2RpdmlzYWJsZV9zb2x1dGlvbikKdHJ5OgogICAgZ3JhZGluZ19yZXN1bHRzLmFkZF90ZXN0X2Z1bmMoaXNfZGl2aXNhYmxlKQpleGNlcHQgRXhjZXB0aW9uIGFzIGU6CiAgICBncmFkaW5nX3Jlc3VsdHMubG9nLmFwcGVuZCgiQ291bGQgbm90IHJ1biB0ZXN0cywgIitlLmFyZ3NbMF0pCmVsc2U6CiAgICBOID0gMgogICAgcHJpbWVzID0gWzIsIDMsIDUsIDcsIDExLCAxMywgMTcsIDE5LCAyMywgMjksIDMxXQoKICAgICMgVGVzdCBkaXZpc2FibGUgbnVtYmVycwogICAgYl92YWx1ZXMgPSBzYW1wbGUocHJpbWVzLCBOKQogICAgcl92YWx1ZXMgPSBzYW1wbGUocHJpbWVzLCBOKQogICAgZm9yIGIsIHIgaW4gemlwKGJfdmFsdWVzLCByX3ZhbHVlcyk6CiAgICAgICAgZ3JhZGluZ19yZXN1bHRzLnRlc3RfcmV0dXJuX3ZhbHVlKGIqciwgYikKCiAgICAjIFRlc3Qgbm9uLWRpdmlzYWJsZSBudW1iZXJzCiAgICB0ZW1wID0gc2FtcGxlKHByaW1lcywgMipOKQogICAgYV92YWx1ZXMgPSB0ZW1wWzo6Ml0KICAgIGJfdmFsdWVzID0gdGVtcFsxOjoyXQogICAgZm9yIGEsIGIgaW4gemlwKGFfdmFsdWVzLCBiX3ZhbHVlcyk6CiAgICAgICAgZ3JhZGluZ19yZXN1bHRzLnRlc3RfcmV0dXJuX3ZhbHVlKGEsIGIpCgpyb3VuZChncmFkaW5nX3Jlc3VsdHMuZ2V0X3Jlc3VsdHMoKSo1LCAyKQ=="
    },
    "deletable": false,
    "editable": false,
    "execution": {
     "iopub.execute_input": "2024-08-28T17:38:46.959818Z",
     "iopub.status.busy": "2024-08-28T17:38:46.959028Z",
     "iopub.status.idle": "2024-08-28T17:38:48.802198Z",
     "shell.execute_reply": "2024-08-28T17:38:48.800336Z"
    },
    "hidden": true,
    "nbgrader": {
     "cell_type": "code",
     "checksum": "bb85c7a4a5e8a01314bbcf92f188d9a8",
     "grade": true,
     "grade_id": "cell-1914bd9aa6d205ec",
     "locked": true,
     "points": 5,
     "schema_version": 3,
     "solution": false,
     "task": false
    },
    "slideshow": {
     "slide_type": ""
    },
    "tags": []
   },
   "outputs": [],
   "source": [
    "# Denne cellen brukes under retting. La stå!"
   ]
  },
  {
   "cell_type": "markdown",
   "metadata": {
    "deletable": false,
    "editable": false,
    "heading_collapsed": true,
    "hidden": true,
    "run_control": {
     "frozen": true
    }
   },
   "source": [
    "#### Hint"
   ]
  },
  {
   "cell_type": "code",
   "execution_count": null,
   "metadata": {
    "deletable": false,
    "hidden": true
   },
   "outputs": [],
   "source": []
  },
  {
   "cell_type": "markdown",
   "metadata": {
    "deletable": false,
    "editable": false,
    "hidden": true,
    "run_control": {
     "frozen": true
    }
   },
   "source": [
    "En modulo-operasjon (% i python) blir brukt i informatikk og i matematikk til å finne resten av et opprinnelig heltall etter en divisjon med et annet tall.\n",
    "\n",
    "Eksempel på en modulo-operasjon: 5%2 = 1"
   ]
  },
  {
   "cell_type": "markdown",
   "metadata": {
    "deletable": false,
    "editable": false,
    "heading_collapsed": true,
    "run_control": {
     "frozen": true
    },
    "slideshow": {
     "slide_type": ""
    },
    "tags": []
   },
   "source": [
    "<a id=\"oppg_5b\"></a>\n",
    "## b)"
   ]
  },
  {
   "cell_type": "markdown",
   "metadata": {
    "deletable": false,
    "editable": false,
    "hidden": true,
    "run_control": {
     "frozen": true
    }
   },
   "source": [
    "Lag funksjonen `isPrime` som tar inn et tall `a`. Funksjonen skal ha en for-løkke som itererer gjennom tallene *b = 2,3,4,...,a-1* og bruke funksjonen fra forrige oppgave for å sjekke om `a` er delelig med `b`. Om de er delelige returnerer funksjonen verdien `False`. Ellers skal du returnere `True`.\n",
    "\n",
    "*Hint: Det er fullt mulig å sende en returverdi fra inni en løkke.*\n",
    "\n",
    "***Skriv koden i kodeblokken under***"
   ]
  },
  {
   "cell_type": "code",
   "execution_count": null,
   "metadata": {
    "deletable": false,
    "editable": true,
    "execution": {
     "iopub.execute_input": "2024-08-28T17:38:48.817210Z",
     "iopub.status.busy": "2024-08-28T17:38:48.816474Z",
     "iopub.status.idle": "2024-08-28T17:38:48.845982Z",
     "shell.execute_reply": "2024-08-28T17:38:48.824038Z"
    },
    "hidden": true,
    "nbgrader": {
     "cell_type": "code",
     "checksum": "f45e52ef61f824788a51683472881385",
     "grade": false,
     "grade_id": "cell-035ff66f7d756b47",
     "locked": false,
     "schema_version": 3,
     "solution": true,
     "task": false
    },
    "slideshow": {
     "slide_type": ""
    },
    "tags": []
   },
   "outputs": [],
   "source": [
    "#-------------------------------------\n",
    "# SKRIV DIN KODE HER!\n",
    "#-------------------------------------"
   ]
  },
  {
   "cell_type": "markdown",
   "metadata": {
    "deletable": false,
    "editable": false,
    "hidden": true,
    "run_control": {
     "frozen": true
    },
    "slideshow": {
     "slide_type": ""
    },
    "tags": []
   },
   "source": [
    "Sjekk at funksjonen din fungerer med testkoden under. Output fra denne burde være:\n",
    "```\n",
    "True\n",
    "False\n",
    "```\n",
    "\n",
    "Test gjerne også med andre verdier"
   ]
  },
  {
   "cell_type": "code",
   "execution_count": null,
   "metadata": {
    "deletable": false,
    "execution": {
     "iopub.execute_input": "2024-08-28T17:38:48.857603Z",
     "iopub.status.busy": "2024-08-28T17:38:48.856728Z",
     "iopub.status.idle": "2024-08-28T17:38:48.869905Z",
     "shell.execute_reply": "2024-08-28T17:38:48.866651Z"
    },
    "hidden": true
   },
   "outputs": [],
   "source": [
    "# Testkode for is_prime\n",
    "print(f\"{is_prime(11) = }\")\n",
    "print(f\"{is_prime(15) = }\")"
   ]
  },
  {
   "cell_type": "code",
   "execution_count": null,
   "metadata": {
    "autofeedback": {
     "test_code": "ZnJvbSBhdXRvZmVlZGJhY2sgaW1wb3J0IEZ1bmN0aW9uVGVzdHMKZnJvbSByYW5kb20gaW1wb3J0IHNhbXBsZQoKZGVmIGlzX3ByaW1lX3NvbHV0aW9uKGEpOgogICAgZm9yIGIgaW4gcmFuZ2UoMiwgYSk6CiAgICAgICAgaWYgYSAlIGIgPT0gMDoKICAgICAgICAgICAgcmV0dXJuIEZhbHNlCiAgICByZXR1cm4gVHJ1ZQoKZ3JhZGluZ19yZXN1bHRzID0gRnVuY3Rpb25UZXN0cyhpc19wcmltZV9zb2x1dGlvbikKdHJ5OgogICAgZ3JhZGluZ19yZXN1bHRzLmFkZF90ZXN0X2Z1bmMoaXNfcHJpbWUpCmV4Y2VwdCBFeGNlcHRpb24gYXMgZToKICAgIGdyYWRpbmdfcmVzdWx0cy5sb2cuYXBwZW5kKCJDb3VsZCBub3QgcnVuIHRlc3RzLCAiK2UuYXJnc1swXSkKZWxzZToKICAgIE4gPSAyCiAgICBwcmltZXMgPSBbMiwgMywgNSwgNywgMTEsIDEzLCAxNywgMTksIDIzLCAyOSwgMzFdCiAgICBub3RfcHJpbWVzID0gWzQsIDYsIDgsIDksIDEwLCAxMiwgMTQsIDE1LCAxNiwgMTgsIDIwLCAyMSwgMjJdCiAgICAjIFRlc3QgcHJpbWVzCiAgICB4X3ZhbHMgPSBzYW1wbGUocHJpbWVzLCBOKQogICAgZm9yIHggaW4geF92YWxzOgogICAgICAgIGdyYWRpbmdfcmVzdWx0cy50ZXN0X3JldHVybl92YWx1ZSh4KQoKICAgICMgVGVzdCBub24tcHJpbWVzCiAgICB4X3ZhbHMgPSBzYW1wbGUobm90X3ByaW1lcywgTikKICAgIGZvciB4IGluIHhfdmFsczoKICAgICAgICBncmFkaW5nX3Jlc3VsdHMudGVzdF9yZXR1cm5fdmFsdWUoeCkKCnJvdW5kKGdyYWRpbmdfcmVzdWx0cy5nZXRfcmVzdWx0cygpKjUsIDIp"
    },
    "deletable": false,
    "editable": false,
    "execution": {
     "iopub.execute_input": "2024-08-28T17:38:48.881022Z",
     "iopub.status.busy": "2024-08-28T17:38:48.880127Z",
     "iopub.status.idle": "2024-08-28T17:38:48.963054Z",
     "shell.execute_reply": "2024-08-28T17:38:48.960137Z"
    },
    "nbgrader": {
     "cell_type": "code",
     "checksum": "4188c810f3657863361efe05cac2fee7",
     "grade": true,
     "grade_id": "cell-ea298203185ed682",
     "locked": true,
     "points": 5,
     "schema_version": 3,
     "solution": false,
     "task": false
    },
    "slideshow": {
     "slide_type": ""
    },
    "tags": []
   },
   "outputs": [],
   "source": [
    "# Denne cellen brukes under retting. La stå!"
   ]
  },
  {
   "cell_type": "markdown",
   "metadata": {
    "deletable": false,
    "editable": false
   },
   "source": [
    "<br>\n",
    "<nav class=\"navbar navbar-default\">\n",
    "        <div class=\"container-fluid\">\n",
    "            <div class=\"navbar-header\" style=\"float: left\">\n",
    "                <a class=\"navbar-brand\" href=\"4_Lister_og_lokker.ipynb\" target=\"_self\">&lt; Forrige side: <i>lister og løkker</i></a>\n",
    "                </div>\n",
    "            <div class=\"navbar-header\" style=\"float: right\">\n",
    "                <a class=\"navbar-brand\" href=\"6_Mer_om_lokker.ipynb\" target=\"_self\">Neste side: <i>mer om løkker</i> &gt;</a>\n",
    "            </div>\n",
    "        </div>\n",
    "</nav>"
   ]
  }
 ],
 "metadata": {
  "kernelspec": {
   "display_name": "Python 3 (ipykernel)",
   "language": "python",
   "name": "python3"
  },
  "language_info": {
   "codemirror_mode": {
    "name": "ipython",
    "version": 3
   },
   "file_extension": ".py",
   "mimetype": "text/x-python",
   "name": "python",
   "nbconvert_exporter": "python",
   "pygments_lexer": "ipython3",
   "version": "3.11.6"
  },
  "toc": {
   "base_numbering": 1,
   "nav_menu": {},
   "number_sections": false,
   "sideBar": true,
   "skip_h1_title": false,
   "title_cell": "Table of Contents",
   "title_sidebar": "Contents",
   "toc_cell": false,
   "toc_position": {},
   "toc_section_display": true,
   "toc_window_display": false
  }
 },
 "nbformat": 4,
 "nbformat_minor": 4
}
