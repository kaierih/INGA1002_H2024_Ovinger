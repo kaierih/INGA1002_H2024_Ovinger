{
 "cells": [
  {
   "cell_type": "markdown",
   "id": "50f81aa2",
   "metadata": {
    "deletable": false,
    "editable": false
   },
   "source": [
    "\n",
    "<nav class=\"navbar navbar-default\">\n",
    "  <div class=\"container-fluid\">\n",
    "    <div class=\"navbar-header\" style=\"float: left\">\n",
    "        <a class=\"navbar-brand\" href=\"0_Forside.ipynb\" target=\"_self\"> <h2> &uarr; Tilbake til forsiden</h2></a>\n",
    "    </div>\n",
    "  </div>\n",
    "</nav>"
   ]
  },
  {
   "cell_type": "markdown",
   "id": "720981ee-7958-428d-81f8-47817bfb32d9",
   "metadata": {
    "deletable": false,
    "editable": false,
    "slideshow": {
     "slide_type": ""
    },
    "tags": []
   },
   "source": [
    "# Å plotte funksjoner av flere variabler\n",
    "\n",
    "**Læringsmål:**\n",
    "* Plotting med for-løkker\n",
    "* Funksjoner av flere variabler\n",
    "\n",
    "**Oversikt:**\n",
    "* [Oppgave a) plotte funksjon med 2 variabler](#oppg_10a)\n",
    "* [Oppgave b) plotte funksjon med 3 variabler](#oppg_10b)\n",
    "  \n",
    "Ofte er det veldig praktisk å kunne plotte flere funksjoner i en graf for å lettere kunne sammenligne dem. For dette er en *for*-løkke veldig praktisk. Fra tidligere vet vi at matplotlib og numpy kan brukes til å plotte kurver slik som vist nedenfor."
   ]
  },
  {
   "cell_type": "code",
   "execution_count": null,
   "id": "e9c98c39-cbd2-4849-964c-266fec0b1430",
   "metadata": {
    "deletable": false,
    "execution": {
     "iopub.execute_input": "2024-08-28T17:38:12.710484Z",
     "iopub.status.busy": "2024-08-28T17:38:12.709226Z",
     "iopub.status.idle": "2024-08-28T17:38:13.882556Z",
     "shell.execute_reply": "2024-08-28T17:38:13.880131Z"
    }
   },
   "outputs": [],
   "source": [
    "import numpy as np\n",
    "import matplotlib.pyplot as plt\n",
    "\n",
    "def f(x):\n",
    "    return x * x / 2\n",
    "\n",
    "x = np.linspace(0, 3, 501)\n",
    "y = f(x)\n",
    "\n",
    "plt.plot(x, y)"
   ]
  },
  {
   "cell_type": "markdown",
   "id": "bd28e3f8-e0b7-42d9-9d16-074430a5b4cd",
   "metadata": {
    "deletable": false,
    "editable": false
   },
   "source": [
    "Når flere kurver skal plottes i samme graf kan dette gjøres ved å kalle funksjon `plt.plot()` flere ganger som i koden nedenfor. Når vi gjør dette er det vanlig å inkludere en merkelapp, eller *label*, som lar oss se forskjellen mellom de to kurvene."
   ]
  },
  {
   "cell_type": "code",
   "execution_count": null,
   "id": "217463a5-e7d9-47f1-81b0-d80c920350b9",
   "metadata": {
    "deletable": false,
    "execution": {
     "iopub.execute_input": "2024-08-28T17:38:13.946796Z",
     "iopub.status.busy": "2024-08-28T17:38:13.945537Z",
     "iopub.status.idle": "2024-08-28T17:38:14.312398Z",
     "shell.execute_reply": "2024-08-28T17:38:14.310171Z"
    }
   },
   "outputs": [],
   "source": [
    "import numpy as np\n",
    "import matplotlib.pyplot as plt\n",
    "\n",
    "def f(x):\n",
    "    return x * x / 2\n",
    "\n",
    "def h(x):\n",
    "    return x\n",
    "\n",
    "x = np.linspace(0, 3, 501)\n",
    "yf = f(x)\n",
    "yh = h(x)\n",
    "\n",
    "plt.plot(x, yf, label = \"f(x)\")\n",
    "plt.plot(x, yh, label = \"h(x)\")\n",
    "\n",
    "plt.legend()"
   ]
  },
  {
   "cell_type": "markdown",
   "id": "75aa6e5b-08a2-4eb0-b0d2-12a9ddd3a473",
   "metadata": {
    "deletable": false,
    "editable": false
   },
   "source": [
    "Denne muligheten for å vise flere kurver i samme figur kan også anvendes til å gi en grafisk fremstilling av funksjoner med *mer enn én* variabel. \n",
    "\n",
    "## Eksempel på funksjon av flere variabler: *normalfordelingskurven*\n",
    "\n",
    "Selv om du ikke enda har hatt emnet statistikk, er sjansene store for at du har sett en [normalfordelingskurve](https://no.wikipedia.org/wiki/Normalfordeling) før:\n",
    "\n",
    "<img src=\"Figurer/Gauss_distribution.png\"  style=\"width: 600px; margin-left: 10%\" />\n",
    "\n",
    "Det er ikke nødvendig å forstå normalfordelingen for å løse opppgaven, men kort fortalt så ser vi her sjansen en tilfeldig variabel med normal sannsynlighetsfordeling har for å havne innenfor et gitt område av grafen. Som grafen illustrerer, er det en parameter $\\sigma$ som forteller oss at variabelen har en gitt sannsynlighet for å havne innenfor området $0 \\pm \\sigma$. Normalfordeling er en sannsynlighetsfordeling som er veldig nyttig til å modellere bl.a. måleusikkerhet ved målinger i den virkelige verden.\n",
    "\n",
    "Funksjonen som beskriver den generelle normalfordelingskurven er oppgitt som følger:\n",
    "\n",
    "### $$f(x, \\mu, \\sigma) = \\frac{1}{\\sigma \\cdot \\sqrt{2\\pi}} \\cdot e^{-\\frac{(x - \\mu)^2}{2\\sigma^2}}$$\n",
    "\n",
    "<!--\n",
    "Rektor ved Blindheim barneskole ønsker å bygge en ny akebakke til elevene sine. Rektor er selvfølgelig opptatt av å finne den rette balansen mellom underholdning og trygghet. Han ønsker derfor at bakken ikke skal være for flat, og heller ikke for bratt. Du har derfor blitt hyret inn for å lage en visualisjon for rektor, hvor han ønsker 5 forslag på brattheten til bakken. Bakken skal følge kurven $$f(x, n) = \\frac{1}{1+x^2\\cdot2^n}$$ hvor x er i intervallet [-5, 5] og n skal gå fra og med 0 til og med 5.\n",
    "\n",
    "Alternativ funksjon:\n",
    "$$f(x, v) = \\frac{1}{v}\\cdot e^{-x^2 \\big{/} v^2}$$\n",
    "\n",
    "Legg gjerne til en label til grafen ved bruk av plt.legend() slik at rektor kan se hvilken verdi av n som hører til de ulike bakkene.\n",
    "\n",
    "Hint: Bruk for-løkken til å inkrementer verdien til n.-->"
   ]
  },
  {
   "cell_type": "markdown",
   "id": "c0952916-85bd-4bc8-8a07-9354417d7c22",
   "metadata": {
    "deletable": false,
    "editable": false
   },
   "source": [
    "<a id=\"oppg_10a\"></a>\n",
    "## a)\n",
    "\n",
    "Din oppgave er å bruke et plott for å vise normalfordelingskurven $f(x, \\mu, \\sigma)$  i området $-5 \\leq x \\leq 5$ gitt parametrene i tabellen nedenfor. Plottet skal ha merkelapper som viser verdien av $\\sigma$ for de ulike kurvene. Det *skal* benyttes en for-løkke for å plotte de ulike figurene.\n",
    "\n",
    "|Kurve nr. | $$\\mu$$ | $$\\sigma$$ |\n",
    "|--:|---|---|\n",
    "|1|0|1|\n",
    "|2|0|2|\n",
    "|3|0|3|\n",
    "|4|0|4|\n",
    "\n",
    "\n",
    "*PS: [Her](Figurer/oppg9a_LF.png) er et forslag til hvordan figuren kan se ut ved riktig utførelse.*<br>\n",
    "*Nyttig å vite: for å skrive mattesymboler i matplotlib-figurer kan vi bruke [latex math](https://www.overleaf.com/learn/latex/Mathematical_expressions). Esempel:* `label=f\"$\\\\sigma = {sigma}$\"` *kan brukes på merkelappene i dette plottet. Dette er dog ikke nødvendig for å få oppgaven godkjent.*\n",
    "\n",
    "\n",
    "\n",
    "\n",
    "<!--\n",
    "Rektor ved Blindheim barneskole ønsker å bygge en ny akebakke til elevene sine. Rektor er selvfølgelig opptatt av å finne den rette balansen mellom underholdning og trygghet. Han ønsker derfor at bakken ikke skal være for flat, og heller ikke for bratt. Du har derfor blitt hyret inn for å lage en visualisjon for rektor, hvor han ønsker 5 forslag på brattheten til bakken. Bakken skal følge kurven $$f(x, n) = \\frac{1}{1+x^2\\cdot2^n}$$ hvor x er i intervallet [-5, 5] og n skal gå fra og med 0 til og med 5.\n",
    "\n",
    "Alternativ funksjon:\n",
    "$$f(x, v) = \\frac{1}{v}\\cdot e^{-x^2 \\big{/} v^2}$$\n",
    "\n",
    "Legg gjerne til en label til grafen ved bruk av plt.legend() slik at rektor kan se hvilken verdi av n som hører til de ulike bakkene.\n",
    "\n",
    "Hint: Bruk for-løkken til å inkrementer verdien til n.-->"
   ]
  },
  {
   "cell_type": "code",
   "execution_count": null,
   "id": "eec6725c-2a50-44c7-8961-4dbc82ffe28f",
   "metadata": {
    "autofeedback": {
     "plot_task": true
    },
    "deletable": false,
    "execution": {
     "iopub.execute_input": "2024-08-28T17:38:14.322248Z",
     "iopub.status.busy": "2024-08-28T17:38:14.321822Z",
     "iopub.status.idle": "2024-08-28T17:38:14.921234Z",
     "shell.execute_reply": "2024-08-28T17:38:14.917514Z"
    },
    "nbgrader": {
     "cell_type": "code",
     "checksum": "31f804d4ef9b690ce2a65638fcfe6946",
     "grade": false,
     "grade_id": "cell-1812d9acd3e7c886",
     "locked": false,
     "schema_version": 3,
     "solution": true,
     "task": false
    }
   },
   "outputs": [],
   "source": [
    "#-------------------------------------\n",
    "# SKRIV DIN KODE HER!\n",
    "#-------------------------------------"
   ]
  },
  {
   "cell_type": "code",
   "execution_count": null,
   "id": "c12df778-c7a4-40ee-85df-4dff09e8c80d",
   "metadata": {
    "autofeedback": {
     "test_code": "ZnJvbSBhdXRvZmVlZGJhY2sgaW1wb3J0IEN1c3RvbVRlc3RzCmltcG9ydCBudW1weSBhcyBucAoKZl9zb2wgPSBsYW1iZGEgc2lnbWE6IDEvKHNpZ21hKm5wLnNxcnQobnAucGkqMikpCgp0ZXN0X3Jlc3VsdHMgPSBDdXN0b21UZXN0cygpCgppZiBsZW4oZmlnLmF4ZXMpIDwgMToKICAgIHRlc3RfcmVzdWx0cy5hZGRfcmVzdWx0KEZhbHNlLCAiTm8gcGxvdCBkZXRlY3RlZC4iKQplbHNlOgogICAgdHJ5OgogICAgICAgIHBlYWtfdmFsLCBwZWFrX2xvYyA9IFtdLCBbXQogICAgICAgIGZvciBsaW5lIGluIGZpZy5heGVzWy0xXS5saW5lczoKICAgICAgICAgICAgcGVha192YWwuYXBwZW5kKG5wLm1heChsaW5lLmdldF95ZGF0YSgpKSkKICAgICAgICAgICAgcGVha19sb2MuYXBwZW5kKGxpbmUuZ2V0X3hkYXRhKClbbnAuYXJnbWF4KGxpbmUuZ2V0X3lkYXRhKCkpXSkKICAgIGV4Y2VwdCBFeGNlcHRpb24gYXMgZToKICAgICAgICB0ZXN0X3Jlc3VsdHMuYWRkX3Jlc3VsdChGYWxzZSwgIkNvdWxkIG5vdCBleHRyYWN0IHBsb3QgaW5mb3JtYXRpb24sICIrZS5hcmdzWzBdKQogICAgZWxzZToKICAgICAgICB0ZXN0X3Jlc3VsdHMudGVzdChsZW4ocGVha192YWwpID09IDQsCiAgICAgICAgICAgICAgICAgICAgICAgICAgIjQgcGxvdHRlZCBjdXJ2ZXMgZGV0ZWN0ZWQuIiwKICAgICAgICAgICAgICAgICAgICAgICAgICBmImRldGVjdGVkIHtsZW4ocGVha192YWwpfSBwbG90dGVkIGN1cnZlcywgYW5kIG5vdCA0LiIpCiAgICAgICAgCiAgICAgICAgdGVzdF9yZXN1bHRzLnRlc3QobnAuYWxsY2xvc2UobnAuc29ydChwZWFrX3ZhbCksIG5wLnNvcnQoZl9zb2wobnAuYXJhbmdlKDEsIDUpKSksIHJ0b2w9MWUtMiksCiAgICAgICAgICAgICAgICAgICAgICAgICAgIlBlYWsgdmFsdWVzIG9mIHBsb3QgY3VydmVzIGFyZSBjb3JyZWN0IiwgCiAgICAgICAgICAgICAgICAgICAgICAgICAgZiJQZWFrIHZhbHVlcyBvZiBwbG90IGN1cnZlcyBhcmUgJ3k9e25wLnNvcnQocGVha192YWwpfScgYW5kIG5vdCAneT17bnAuc29ydChmX3NvbChucC5hcmFuZ2UoMSwgNSkpKX0nIikKICAgICAgICB0ZXN0X3Jlc3VsdHMudGVzdChucC5hbGxjbG9zZShwZWFrX2xvYywgbnAuemVyb3MoNCksIHJ0b2w9MWUtMiksCiAgICAgICAgICAgICAgICAgICAgICAgICAgIlBlYWsgbG9jYXRpb25zIG9mIHBsb3QgY3VydmVzIGFyZSBjb3JyZWN0IiwgCiAgICAgICAgICAgICAgICAgICAgICAgICAgZiJQZWFrIGxvY2F0aW9ucyBvZiBwbG90IGN1cnZlcyBhcmUgJ3g9e3BlYWtfbG9jfScgYW5kIG5vdCAneT17bnAuemVyb3MoNCl9JyIpCgpyb3VuZCh0ZXN0X3Jlc3VsdHMuZ2V0X3Jlc3VsdHMoKSo1LCAyKQ=="
    },
    "deletable": false,
    "editable": false,
    "execution": {
     "iopub.execute_input": "2024-08-28T17:38:14.933479Z",
     "iopub.status.busy": "2024-08-28T17:38:14.932599Z",
     "iopub.status.idle": "2024-08-28T17:38:16.688497Z",
     "shell.execute_reply": "2024-08-28T17:38:16.685826Z"
    },
    "nbgrader": {
     "cell_type": "code",
     "checksum": "816e013eaadc33713b95ee0c724c80a2",
     "grade": true,
     "grade_id": "cell-dcd03a090e2b592a",
     "locked": true,
     "points": 5,
     "schema_version": 3,
     "solution": false,
     "task": false
    }
   },
   "outputs": [],
   "source": [
    "# Denne cellen brukes under retting. La Stå!"
   ]
  },
  {
   "cell_type": "markdown",
   "id": "c33f3688-8dd1-4a37-89f4-2e28386ca65b",
   "metadata": {
    "deletable": false,
    "editable": false
   },
   "source": [
    "<a id=\"oppg_10b\"></a>\n",
    "## b) \n",
    "I deloppgave **a)** endret vi kun på parameteren $\\sigma$ i løpet av plottingen, men ikke på parameteren $\\mu$ som er kjent som *forventingsverdien* (med andre ord, gjennomsnittet til den tilfeldige variabelen over tid). Vi skal nå lage en figur der vi viser normalfordelingskurven for forskjellige verdier av $\\mu$ og $\\sigma$:\n",
    "\n",
    "|Kurve nr. | $$\\mu$$ | $$\\sigma$$ |\n",
    "|--:|---|---|\n",
    "|1|0|1|\n",
    "|2|1|0.6|\n",
    "|3|-2|0.8|\n",
    "|4|0|2|\n",
    "\n",
    "*PS: [Her](Figurer/oppg9b_LF.png) er et forslag til hvordan figuren kan se ut ved riktig utførelse.*"
   ]
  },
  {
   "cell_type": "code",
   "execution_count": null,
   "id": "6957388a-e5cd-4cef-9296-4cecaaef6128",
   "metadata": {
    "autofeedback": {
     "plot_task": true
    },
    "deletable": false,
    "execution": {
     "iopub.execute_input": "2024-08-28T17:38:16.697042Z",
     "iopub.status.busy": "2024-08-28T17:38:16.696373Z",
     "iopub.status.idle": "2024-08-28T17:38:17.278553Z",
     "shell.execute_reply": "2024-08-28T17:38:17.275918Z"
    },
    "nbgrader": {
     "cell_type": "code",
     "checksum": "6a65e84ef93756e83edd018200de7664",
     "grade": false,
     "grade_id": "cell-8f54def37ec6f9db",
     "locked": false,
     "schema_version": 3,
     "solution": true,
     "task": false
    }
   },
   "outputs": [],
   "source": [
    "#-------------------------------------\n",
    "# SKRIV DIN KODE HER!\n",
    "#-------------------------------------"
   ]
  },
  {
   "cell_type": "markdown",
   "id": "897d73ca-3d1e-437b-9263-254bd18a0f9a",
   "metadata": {
    "deletable": false,
    "editable": false
   },
   "source": [
    "**Nyttig tips:** For å iterere gjennom *to* lister i parallell kan man bruke funksjonen [`zip`](https://docs.python.org/3/library/functions.html#zip). Eksempelet nedenfor viser hvordan det kan brukes for å skrive ut verdiene i to like lange lister med $x$- og $y$ verdier."
   ]
  },
  {
   "cell_type": "code",
   "execution_count": null,
   "id": "77749a16-cbf3-4b3a-a30f-17d05b4b72aa",
   "metadata": {
    "deletable": false,
    "execution": {
     "iopub.execute_input": "2024-08-28T17:38:17.289163Z",
     "iopub.status.busy": "2024-08-28T17:38:17.288427Z",
     "iopub.status.idle": "2024-08-28T17:38:17.298605Z",
     "shell.execute_reply": "2024-08-28T17:38:17.296617Z"
    }
   },
   "outputs": [],
   "source": [
    "for x, y in zip([1, 2, 3], [1, 4, 9]): \n",
    "    print(f\"{x = }, {y = }\")"
   ]
  },
  {
   "cell_type": "code",
   "execution_count": null,
   "id": "993cefc0-d647-4681-9021-017161996d15",
   "metadata": {
    "autofeedback": {
     "test_code": "ZnJvbSBhdXRvZmVlZGJhY2sgaW1wb3J0IEN1c3RvbVRlc3RzCmltcG9ydCBudW1weSBhcyBucAoKZl9zb2wgPSBsYW1iZGEgc2lnbWE6IDEvKHNpZ21hKm5wLnNxcnQobnAucGkqMikpCgp0ZXN0X3Jlc3VsdHMgPSBDdXN0b21UZXN0cygpCgppZiBsZW4oZmlnLmF4ZXMpIDwgMToKICAgIHRlc3RfcmVzdWx0cy5hZGRfcmVzdWx0KEZhbHNlLCAiTm8gcGxvdCBkZXRlY3RlZC4iKQplbHNlOgogICAgdHJ5OgogICAgICAgIHBlYWtfdmFsLCBwZWFrX2xvYyA9IFtdLCBbXQogICAgICAgIGZvciBsaW5lIGluIGZpZy5heGVzWy0xXS5saW5lczoKICAgICAgICAgICAgcGVha192YWwuYXBwZW5kKG5wLm1heChsaW5lLmdldF95ZGF0YSgpKSkKICAgICAgICAgICAgcGVha19sb2MuYXBwZW5kKGxpbmUuZ2V0X3hkYXRhKClbbnAuYXJnbWF4KGxpbmUuZ2V0X3lkYXRhKCkpXSkKICAgIGV4Y2VwdCBFeGNlcHRpb24gYXMgZToKICAgICAgICB0ZXN0X3Jlc3VsdHMuYWRkX3Jlc3VsdChGYWxzZSwgIkNvdWxkIG5vdCBleHRyYWN0IHBsb3QgaW5mb3JtYXRpb24sICIrZS5hcmdzWzBdKQogICAgZWxzZToKICAgICAgICB0ZXN0X3Jlc3VsdHMudGVzdChsZW4ocGVha192YWwpID09IDQsCiAgICAgICAgICAgICAgICAgICAgICAgICAgIjQgcGxvdHRlZCBjdXJ2ZXMgZGV0ZWN0ZWQuIiwKICAgICAgICAgICAgICAgICAgICAgICAgICBmImRldGVjdGVkIHtsZW4ocGVha192YWwpfSBwbG90dGVkIGN1cnZlcywgYW5kIG5vdCA0LiIpCiAgICAgICAgdGVzdF9yZXN1bHRzLnRlc3QobnAuYWxsY2xvc2UobnAuc29ydChwZWFrX3ZhbCksIG5wLnNvcnQoZl9zb2wobnAuYXJyYXkoWzEsIDAuNiwgMC44LCAyXSkpKSwgcnRvbD0xZS0yKSwKICAgICAgICAgICAgICAgICAgICAgICAgICAiUGVhayB2YWx1ZXMgb2YgcGxvdCBjdXJ2ZXMgYXJlIGNvcnJlY3QiLCAKICAgICAgICAgICAgICAgICAgICAgICAgICBmIlBlYWsgdmFsdWVzIG9mIHBsb3QgY3VydmVzIGFyZSAneT17bnAuc29ydChwZWFrX3ZhbCl9JyBhbmQgbm90ICd5PXtucC5zb3J0KGZfc29sKG5wLmFycmF5KFsxLCAwLjYsIDAuOCwgMl0pKSl9JyIpCiAgICAgICAgdGVzdF9yZXN1bHRzLnRlc3QobnAuYWxsY2xvc2UobnAuc29ydChwZWFrX2xvYyksIG5wLnNvcnQobnAuYXJyYXkoWzAsIDEsIC0yLCAwXSkpLCBydG9sPTFlLTIpLAogICAgICAgICAgICAgICAgICAgICAgICAgICJQZWFrIGxvY2F0aW9ucyBvZiBwbG90IGN1cnZlcyBhcmUgY29ycmVjdCIsIAogICAgICAgICAgICAgICAgICAgICAgICAgIGYiUGVhayBsb2NhdGlvbnMgb2YgcGxvdCBjdXJ2ZXMgYXJlICd4PXtwZWFrX2xvY30nIGFuZCBub3QgJ3k9e25wLnNvcnQobnAuYXJyYXkoWzAsIDEsIC0yLCAwXSkpfSciKQoKcm91bmQodGVzdF9yZXN1bHRzLmdldF9yZXN1bHRzKCkqNSwgMik="
    },
    "deletable": false,
    "editable": false,
    "execution": {
     "iopub.execute_input": "2024-08-28T17:38:17.308776Z",
     "iopub.status.busy": "2024-08-28T17:38:17.308255Z",
     "iopub.status.idle": "2024-08-28T17:38:17.373031Z",
     "shell.execute_reply": "2024-08-28T17:38:17.370012Z"
    },
    "nbgrader": {
     "cell_type": "code",
     "checksum": "0ca1c29c6be4e518370ba737d1a894a5",
     "grade": true,
     "grade_id": "cell-5f4b62f1e836934f",
     "locked": true,
     "points": 5,
     "schema_version": 3,
     "solution": false,
     "task": false
    }
   },
   "outputs": [],
   "source": [
    "# Denne cellen brukes under retting. La Stå!"
   ]
  },
  {
   "cell_type": "markdown",
   "id": "8ad8644d",
   "metadata": {
    "deletable": false,
    "editable": false
   },
   "source": [
    "<br>\n",
    "<nav class=\"navbar navbar-default\">\n",
    "        <div class=\"container-fluid\">\n",
    "            <div class=\"navbar-header\" style=\"float: left\">\n",
    "                <a class=\"navbar-brand\" href=\"9_Hastighetsberegning.ipynb\" target=\"_self\">&lt; Forrige side: <i>hastighetsberegning</i></a>\n",
    "                </div>\n",
    "        </div>\n",
    "</nav>"
   ]
  }
 ],
 "metadata": {
  "kernelspec": {
   "display_name": "Python 3 (ipykernel)",
   "language": "python",
   "name": "python3"
  },
  "language_info": {
   "codemirror_mode": {
    "name": "ipython",
    "version": 3
   },
   "file_extension": ".py",
   "mimetype": "text/x-python",
   "name": "python",
   "nbconvert_exporter": "python",
   "pygments_lexer": "ipython3",
   "version": "3.11.6"
  },
  "toc": {
   "base_numbering": 1
  }
 },
 "nbformat": 4,
 "nbformat_minor": 5
}
