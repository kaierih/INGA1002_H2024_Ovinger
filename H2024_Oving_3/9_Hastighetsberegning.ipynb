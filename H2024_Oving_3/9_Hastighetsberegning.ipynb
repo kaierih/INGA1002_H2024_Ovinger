{
 "cells": [
  {
   "cell_type": "markdown",
   "id": "80ef2b3d",
   "metadata": {
    "deletable": false,
    "editable": false
   },
   "source": [
    "\n",
    "<nav class=\"navbar navbar-default\">\n",
    "  <div class=\"container-fluid\">\n",
    "    <div class=\"navbar-header\" style=\"float: left\">\n",
    "        <a class=\"navbar-brand\" href=\"0_Forside.ipynb\" target=\"_self\"> <h2> &uarr; Tilbake til forsiden</h2></a>\n",
    "    </div>\n",
    "  </div>\n",
    "</nav>"
   ]
  },
  {
   "cell_type": "markdown",
   "id": "62d37bb5-9a72-49a6-84d6-307dc0586121",
   "metadata": {
    "deletable": false,
    "editable": false,
    "slideshow": {
     "slide_type": ""
    },
    "tags": []
   },
   "source": [
    "# Hastighetsberegning\n",
    "\n",
    "**Læringsmål:**\n",
    "* Analyse av datasett\n",
    "* Enkel numerisk derivasjon\n",
    "\n",
    "**Oversikt:**\n",
    "* [Oppgave a) Snittfart](#oppg_9a)\n",
    "* [Oppgave b) Hastighet i intervall](#oppg_9b)\n",
    "* [Oppgave c) Hastighet ved stort antall målinger](#oppg_9c)\n",
    "* [Oppgave d) Håndtering og plotting av datasett](#oppg_9d)\n",
    "\n"
   ]
  },
  {
   "cell_type": "markdown",
   "id": "048ca268-573d-470c-bbdc-673d64a413aa",
   "metadata": {
    "deletable": false,
    "editable": false
   },
   "source": [
    "<a id=\"oppg_9a\"></a>\n",
    "## a)\n",
    "\n",
    "Numerisk derivasjon handler om å finne en tilnærming til den matematisk deriverte. Se for deg at en venn lurer på hvor raskt han kan løpe. Du har ingen stoppeklokke på deg, men kan notere deg tiden når han starter, og når han slutter. Dere bestemmer dere for å bruke en strekning på 100 meter. Da kan du ved hjelp av numerisk derivasjon finne snittfarten hans gjennom løpet, ved å bruke formelen for gjennomsnittshastighet:\n",
    "\n",
    "$$\\text{gjennomsnittshastighet} = \\frac{\\text{avlagt strekning}}{\\text{forbrukt tid}}$$\n",
    "\n",
    "Implementer en funksjon nedenfor som tar inn en start-tid og slutt-tid, som returnerer snitthastigheten over løpet. Du kan gå ut ifra at løpsdistansen er lik $100$ meter uansett. Skriv gjerne funksjonskall for å teste funksjonen din, men merk at om du tester funksjonen din vil svaret gies i meter per sekund. For å gjøre om til kilometer per time ganger du med 3.6"
   ]
  },
  {
   "cell_type": "code",
   "execution_count": null,
   "id": "849294aa-fc2f-496d-815d-5c203ddf12e8",
   "metadata": {
    "deletable": false,
    "execution": {
     "iopub.execute_input": "2024-08-28T17:39:16.049568Z",
     "iopub.status.busy": "2024-08-28T17:39:16.047350Z",
     "iopub.status.idle": "2024-08-28T17:39:16.068564Z",
     "shell.execute_reply": "2024-08-28T17:39:16.066205Z"
    },
    "nbgrader": {
     "cell_type": "code",
     "checksum": "fa34770fabca2040d5955fde657d9b9c",
     "grade": false,
     "grade_id": "cell-46f9cfbd731a7116",
     "locked": false,
     "schema_version": 3,
     "solution": true,
     "task": false
    }
   },
   "outputs": [],
   "source": [
    "def v_snitt(t0, t1):\n",
    "    #-------------------------------------\n",
    "    # SKRIV DIN KODE HER!\n",
    "    #-------------------------------------"
   ]
  },
  {
   "cell_type": "code",
   "execution_count": null,
   "id": "f4cde9c1-1c60-4065-91ef-12b9e653e0d0",
   "metadata": {
    "autofeedback": {
     "test_code": "aW1wb3J0IG51bXB5IGFzIG5wCmZyb20gcmFuZG9tIGltcG9ydCBzYW1wbGUKZnJvbSBhdXRvZmVlZGJhY2sgaW1wb3J0IEZ1bmN0aW9uVGVzdHMKCmRlZiBhdmdfdmVsX3NvbHV0aW9uKHQwLCB0MSk6CiAgICByZXR1cm4gMTAwIC8gKHQxIC0gdDApCgpncmFkaW5nX3Jlc3VsdHMgPSBGdW5jdGlvblRlc3RzKGF2Z192ZWxfc29sdXRpb24pCnRyeToKICAgIGdyYWRpbmdfcmVzdWx0cy5hZGRfdGVzdF9mdW5jKHZfc25pdHQpCmV4Y2VwdCBFeGNlcHRpb24gYXMgZToKICAgIGdyYWRpbmdfcmVzdWx0cy5sb2cuYXBwZW5kKCJDb3VsZCBub3QgcnVuIHRlc3RzLCAiK2UuYXJnc1swXSkKZWxzZToKICAgICMgSW5nZW4gcmVlbGxlIGxvc25pbmdlcjoKICAgIE4gPSAzCiAgICB0MF92YWxzID0gbnAucmFuZG9tLnJhbmQoTikqMTAKICAgIHQxX3ZhbHMgPSBucC5yYW5kb20ucmFuZChOKSoxMCArIHQwX3ZhbHMKICAgIGZvciB0MCwgdDEgaW4gemlwKHQwX3ZhbHMsIHQxX3ZhbHMpOgogICAgICAgIGdyYWRpbmdfcmVzdWx0cy50ZXN0X3JldHVybl92YWx1ZSh0MCwgdDEpCgoKcm91bmQoZ3JhZGluZ19yZXN1bHRzLmdldF9yZXN1bHRzKCkqMiwgMik="
    },
    "deletable": false,
    "editable": false,
    "execution": {
     "iopub.execute_input": "2024-08-28T17:39:16.075547Z",
     "iopub.status.busy": "2024-08-28T17:39:16.075020Z",
     "iopub.status.idle": "2024-08-28T17:39:17.993481Z",
     "shell.execute_reply": "2024-08-28T17:39:17.991259Z"
    },
    "nbgrader": {
     "cell_type": "code",
     "checksum": "3a74d27a1f8f59eba97e208b2236acb4",
     "grade": true,
     "grade_id": "cell-4de898b692011b08",
     "locked": true,
     "points": 2,
     "schema_version": 3,
     "solution": false,
     "task": false
    }
   },
   "outputs": [],
   "source": [
    "# Denne cellen brukes under retting. La stå!"
   ]
  },
  {
   "cell_type": "markdown",
   "id": "cef1daab-ab24-4ff1-aad5-c3c2b82d39f2",
   "metadata": {
    "deletable": false,
    "editable": false
   },
   "source": [
    "Etter løpet er kompisen din litt skuffet. Han har tidligere funnet hastigheten sin med smartklokke og oppnåd høyere hastigheter. Du vet heldigvis at farten dere fant bare var snittfart over 100 meter. I starten av løpet måtte han akselerere opp, og dette vil dra ned snittfarten hans. Du foreslår derfor istedenfor at dere måler snittfarta i et mye kortere intervall av banen ca. på midten av 100-meter strekningen, da det er tenkelig at han holder maksfart i dette området. <!--Vi at i tilegg til start og slutt kan du notere ned tiden i midten av løpet. Da vil ikke akselerasjonen fra starten dra ned snitthastigheten.--> Dere finner ut at dere nå trenger å notere 4 forskjellige verdier for å finne regne ut farten:\n",
    "\n",
    "* Posisjonen $x_1$ til første sjekkpunkt (i meter).\n",
    "* Tidspunkt $t_1$ for passering av første sjekkpunkt (i sekund).\n",
    "* Posisjonen $x_2$ til andre sjekkpunkt (i meter).\n",
    "* Tidspunkt $t_2$ for passering av andre sjekkpunkt (i sekund).\n",
    "\n",
    "Vi finner hastigheten ved å regne *differansen* mellom sjekkpunkt-plasseringer, og dele på *differansen* mellom tidspunkt for passering:\n",
    "\n",
    "$$v_1 = \\frac{\\Delta x_1}{\\Delta t_1} = \\frac{x_2 - x_1}{t_2 - t_1}$$"
   ]
  },
  {
   "cell_type": "markdown",
   "id": "7b5111f4-4609-4ce9-a5bb-4c4c235f66f8",
   "metadata": {
    "deletable": false,
    "editable": false
   },
   "source": [
    "<a id=\"oppg_9b\"></a>\n",
    "## b)\n",
    "\n",
    "Implementer en funksjon som tar inn verdiene $x_1$, $x_2$, $t_1$ og $t_2$, og finner snitthastigheten i dette intervallet. <!--Intervallene blir 50 meter hver, men la oss tenke litt frem i tid. Det kan jo være at kompisen din ikke er helt fornøyd med dette heller, og ønsker flere intervaller. Derfor kan det være lurt om funksjonen tar inn hvor langt intervallet er også.-->\n",
    "\n",
    "<!--Hint: for å returnere to tall i python kan du skrive `return tall0, tall1`-->"
   ]
  },
  {
   "cell_type": "code",
   "execution_count": null,
   "id": "010caaa6-b02d-4d81-9ee9-04d2aed9d17f",
   "metadata": {
    "deletable": false,
    "execution": {
     "iopub.execute_input": "2024-08-28T17:39:18.003132Z",
     "iopub.status.busy": "2024-08-28T17:39:18.002371Z",
     "iopub.status.idle": "2024-08-28T17:39:18.011221Z",
     "shell.execute_reply": "2024-08-28T17:39:18.009491Z"
    },
    "nbgrader": {
     "cell_type": "code",
     "checksum": "38aa4c1da472e2d1a682bcd986cbd501",
     "grade": false,
     "grade_id": "cell-1af59f0820f9ead2",
     "locked": false,
     "schema_version": 3,
     "solution": true,
     "task": false
    }
   },
   "outputs": [],
   "source": [
    "def v_intervall(x_1, x_2, t_1, t_2):\n",
    "    #-------------------------------------\n",
    "    # SKRIV DIN KODE HER!\n",
    "    #-------------------------------------"
   ]
  },
  {
   "cell_type": "code",
   "execution_count": null,
   "id": "fdeb87cc-6ae2-495e-ba5e-514210e333fe",
   "metadata": {
    "autofeedback": {
     "test_code": "aW1wb3J0IG51bXB5IGFzIG5wCmZyb20gYXV0b2ZlZWRiYWNrIGltcG9ydCBGdW5jdGlvblRlc3RzCgpkZWYgdl9pbnRlcnZhbGxfc29sdXRpb24oeF8xLCB4XzIsIHRfMSwgdF8yKToKICAgIHJldHVybiAoeF8yIC0geF8xKS8odF8yIC0gdF8xKQoKZ3JhZGluZ19yZXN1bHRzID0gRnVuY3Rpb25UZXN0cyh2X2ludGVydmFsbF9zb2x1dGlvbikKdHJ5OgogICAgZ3JhZGluZ19yZXN1bHRzLmFkZF90ZXN0X2Z1bmModl9pbnRlcnZhbGwpCmV4Y2VwdCBFeGNlcHRpb24gYXMgZToKICAgIGdyYWRpbmdfcmVzdWx0cy5sb2cuYXBwZW5kKCJDb3VsZCBub3QgcnVuIHRlc3RzLCAiK2UuYXJnc1swXSkKZWxzZToKICAgICMgSW5nZW4gcmVlbGxlIGxvc25pbmdlcjoKICAgIE4gPSAzCiAgICB0MF92YWxzID0gbnAucmFuZG9tLnJhbmQoTikqMTAKICAgIHQxX3ZhbHMgPSBucC5yYW5kb20ucmFuZChOKSoxMCArIHQwX3ZhbHMgKyAxMAogICAgeDBfdmFscyA9IG5wLnJhbmRvbS5yYW5kKE4pKjEwCiAgICB4MV92YWxzID0gbnAucmFuZG9tLnJhbmQoTikqMTAgKyB4MF92YWxzICsgNTAKICAgIGZvciB4MCwgeDEsIHQwLCB0MSBpbiB6aXAoeDBfdmFscywgeDFfdmFscywgdDBfdmFscywgdDFfdmFscyk6CiAgICAgICAgZ3JhZGluZ19yZXN1bHRzLnRlc3RfcmV0dXJuX3ZhbHVlKHgwLCB4MSwgdDAsIHQxKQoKCnJvdW5kKGdyYWRpbmdfcmVzdWx0cy5nZXRfcmVzdWx0cygpKjMsIDIp"
    },
    "deletable": false,
    "editable": false,
    "execution": {
     "iopub.execute_input": "2024-08-28T17:39:18.023206Z",
     "iopub.status.busy": "2024-08-28T17:39:18.020790Z",
     "iopub.status.idle": "2024-08-28T17:39:18.074518Z",
     "shell.execute_reply": "2024-08-28T17:39:18.072437Z"
    },
    "nbgrader": {
     "cell_type": "code",
     "checksum": "aa116c8e3b053e539e53e2251c3d17cb",
     "grade": true,
     "grade_id": "cell-94a4df9c65c0accb",
     "locked": true,
     "points": 3,
     "schema_version": 3,
     "solution": false,
     "task": false
    }
   },
   "outputs": [],
   "source": [
    "# Denne cellen brukes under retting. La stå!"
   ]
  },
  {
   "cell_type": "markdown",
   "id": "d83faa90-e199-4ac4-ade5-309a9269aa70",
   "metadata": {
    "deletable": false,
    "editable": false
   },
   "source": [
    "Kompisen din er litt mindre skuffet denne gangen, men han oppnådde fremdeles høyere hastighet med smartklokken sin. Dere bestemmer dere for å ta en ny test, og forsøke å danne et bilde av hvordan farten hans utvikler seg over tid. Denne gangen skal du notere ned tiden for hver meter han løper. Dette blir da 101 datapunkter ettersom at start og slutt er med. Skulle du laget en funksjon for 101 datapunkter hadde du nok sittet en stund, derfor er det veldig praktisk å bruke lister for akkurat dette."
   ]
  },
  {
   "cell_type": "markdown",
   "id": "210a4b7a-a3c6-466b-8e98-40cd8a7f73f0",
   "metadata": {
    "deletable": false,
    "editable": false
   },
   "source": [
    "<a id=\"oppg_9c\"></a>\n",
    "## c)\n",
    "\n",
    "Din oppgave er derfor å lage en funksjon som tar inn en liste med passeringstidspunkt `t_n` *og* en liste med posisjoner `x_n`. Funksjonen skal returnere en liste med hastigheter for hvert intervall mellom sjekkpunktene. Her er det veldig praktisk å bruke en for-løkke. Merk at siden hastigheten er *mellom* to tider vil listen være ett element kortere, slik at for $N$ datapunkter vil vi få en liste med $N-1$ hastighetsberegnigner. \n",
    "\n",
    "Obs! I funksjonsdeklerasjonen står det \"`x_n: list[float], t_n: list[float]`\". Dette er en måte å fortelle at argumentene `t_n` og `x_n` skal være av typen liste, og denne listen inneholder flyttall."
   ]
  },
  {
   "cell_type": "code",
   "execution_count": null,
   "id": "2b22da28-7b48-48c8-a573-058f60b713da",
   "metadata": {
    "deletable": false,
    "execution": {
     "iopub.execute_input": "2024-08-28T17:39:18.084762Z",
     "iopub.status.busy": "2024-08-28T17:39:18.084081Z",
     "iopub.status.idle": "2024-08-28T17:39:18.101684Z",
     "shell.execute_reply": "2024-08-28T17:39:18.098648Z"
    },
    "nbgrader": {
     "cell_type": "code",
     "checksum": "342507e85aea7e3a84ce6402bc104a26",
     "grade": false,
     "grade_id": "cell-e0f998fbce48d656",
     "locked": false,
     "schema_version": 3,
     "solution": true,
     "task": false
    },
    "slideshow": {
     "slide_type": ""
    },
    "tags": []
   },
   "outputs": [],
   "source": [
    "def v_serie(x_n: list[float], t_n: list[float]):\n",
    "    #-------------------------------------\n",
    "    # SKRIV DIN KODE HER!\n",
    "    #-------------------------------------\n",
    "\n",
    "# Bruk noen korte lister som for eksempel x_n = [0, 1, 2] og t_n = [0, 0.1, 0.17] til å teste funksjonen din\n",
    "#-------------------------------------\n",
    "# SKRIV DIN KODE HER!\n",
    "#-------------------------------------"
   ]
  },
  {
   "cell_type": "code",
   "execution_count": null,
   "id": "ffc4b0de-9a5e-4672-b425-56f6ed769e47",
   "metadata": {
    "autofeedback": {
     "test_code": "aW1wb3J0IG51bXB5IGFzIG5wCmZyb20gYXV0b2ZlZWRiYWNrIGltcG9ydCBGdW5jdGlvblRlc3RzCgpkZWYgdl9zZXJpZV9zb2x1dGlvbih4X246IGxpc3RbZmxvYXRdLCB0X246IGxpc3RbZmxvYXRdKToKICAgIG91dCA9IFtdCiAgICBmb3IgaSBpbiByYW5nZShsZW4odF9uKSAtIDEpOgogICAgICAgIGR4ID0geF9uW2kgKyAxXSAtIHhfbltpXQogICAgICAgIGR0ID0gdF9uW2kgKyAxXSAtIHRfbltpXQogICAgICAgIAogICAgICAgIG91dC5hcHBlbmQoZHggLyBkdCkKICAgIHJldHVybiBvdXQKCmdyYWRpbmdfcmVzdWx0cyA9IEZ1bmN0aW9uVGVzdHModl9zZXJpZV9zb2x1dGlvbikKdHJ5OgogICAgZ3JhZGluZ19yZXN1bHRzLmFkZF90ZXN0X2Z1bmModl9zZXJpZSkKZXhjZXB0IEV4Y2VwdGlvbiBhcyBlOgogICAgZ3JhZGluZ19yZXN1bHRzLmxvZy5hcHBlbmQoIkNvdWxkIG5vdCBydW4gdGVzdHMsICIrZS5hcmdzWzBdKQplbHNlOgogICAgIyBJbmdlbiByZWVsbGUgbG9zbmluZ2VyOgogICAgTiA9IDMKICAgIFRfdmFscyA9IHNhbXBsZShsaXN0KHJhbmdlKDEwLCAyMCkpLCBOKQogICAgRF92YWxzID0gc2FtcGxlKGxpc3QocmFuZ2UoMTAwLCAyMDAsIDEwKSksIE4pCiAgICByZXNfdmFscyA9IHNhbXBsZShsaXN0KHJhbmdlKDUwLCAxNTAsIDEwKSksIE4pCiAgICBmb3IgVCwgRCwgcmVzIGluIHppcChUX3ZhbHMsIERfdmFscywgcmVzX3ZhbHMpOgogICAgICAgIGdyYWRpbmdfcmVzdWx0cy50ZXN0X3JldHVybl92YWx1ZShucC5saW5zcGFjZSgwLCBELCByZXMrMSksIG5wLmxpbnNwYWNlKDAsIFQsIHJlcysxKSkKCgpyb3VuZChncmFkaW5nX3Jlc3VsdHMuZ2V0X3Jlc3VsdHMoKSozLCAyKQ=="
    },
    "deletable": false,
    "editable": false,
    "execution": {
     "iopub.execute_input": "2024-08-28T17:39:18.113465Z",
     "iopub.status.busy": "2024-08-28T17:39:18.111951Z",
     "iopub.status.idle": "2024-08-28T17:39:18.193298Z",
     "shell.execute_reply": "2024-08-28T17:39:18.190178Z"
    },
    "nbgrader": {
     "cell_type": "code",
     "checksum": "4a6a10dcc0368376b2297947b1cd220a",
     "grade": true,
     "grade_id": "cell-df1f0b4927f3b7ab",
     "locked": true,
     "points": 3,
     "schema_version": 3,
     "solution": false,
     "task": false
    }
   },
   "outputs": [],
   "source": []
  },
  {
   "cell_type": "markdown",
   "id": "4c55c063-0889-41d4-b718-1c0ebca1e14a",
   "metadata": {
    "deletable": false,
    "editable": false
   },
   "source": [
    "Måledataen finner du i fila `sprintmålinger.csv` i mappen `Data`, og kan lastes inn med bruk av Pandas slik vi gjorde med nedbørsdataen."
   ]
  },
  {
   "cell_type": "code",
   "execution_count": null,
   "id": "3c23cf92-db8c-4100-92d4-cfb1cf25069d",
   "metadata": {
    "deletable": false,
    "execution": {
     "iopub.execute_input": "2024-08-28T17:39:18.204142Z",
     "iopub.status.busy": "2024-08-28T17:39:18.203181Z",
     "iopub.status.idle": "2024-08-28T17:39:18.252275Z",
     "shell.execute_reply": "2024-08-28T17:39:18.248652Z"
    }
   },
   "outputs": [],
   "source": [
    "# Importer biblioteker\n",
    "import pandas as pd\n",
    "\n",
    "# Hent data fra fil\n",
    "df = pd.read_csv(\"Data/sprintmålinger.csv\", delimiter=\";\", decimal=\".\") # Kolonner separert med semikolon (;), desimaltegn er lik komma (,)\n",
    "timestamps = list(pd.to_numeric(df[\"Tid (s)\"]))\n",
    "checkpoints = list(pd.to_numeric(df[\"Strekning (m)\"]))"
   ]
  },
  {
   "cell_type": "markdown",
   "id": "7d2dd171-8fa7-40ef-8206-74e984fd3ccd",
   "metadata": {
    "deletable": false,
    "editable": false
   },
   "source": [
    "<a id=\"oppg_9d\"></a>\n",
    "## d)\n",
    "Bruk funksjonen din fra deloppgave **c)** og pyplot til å plotte en kurve av hastigheten til kompisen din over tid. Det kan å være lurt å legge til et element med hastighet lik $0$ helt i starten."
   ]
  },
  {
   "cell_type": "code",
   "execution_count": null,
   "id": "9b1f69ab-42e7-4a15-834e-f256269e24b2",
   "metadata": {
    "autofeedback": {
     "plot_task": true
    },
    "deletable": false,
    "editable": true,
    "execution": {
     "iopub.execute_input": "2024-08-28T17:39:18.263386Z",
     "iopub.status.busy": "2024-08-28T17:39:18.262463Z",
     "iopub.status.idle": "2024-08-28T17:39:19.252234Z",
     "shell.execute_reply": "2024-08-28T17:39:19.249067Z"
    },
    "nbgrader": {
     "cell_type": "code",
     "checksum": "c00d998d07be8079defa1c4cbeb02d34",
     "grade": false,
     "grade_id": "cell-8c8ef2651a04bc09",
     "locked": false,
     "schema_version": 3,
     "solution": true,
     "task": false
    },
    "slideshow": {
     "slide_type": ""
    },
    "tags": []
   },
   "outputs": [],
   "source": [
    "#-------------------------------------\n",
    "# SKRIV DIN KODE HER!\n",
    "#-------------------------------------"
   ]
  },
  {
   "cell_type": "markdown",
   "id": "96894fe9-4123-446e-a781-d71566e92e4b",
   "metadata": {
    "deletable": false,
    "editable": false,
    "slideshow": {
     "slide_type": ""
    },
    "tags": []
   },
   "source": [
    "Nå er kompisen din fornøyd! Han får samme resultat som med smartklokken og kan være sikker på at hans toppfart er relatvit presis.<br>\n",
    "*NB! Har du løst oppgaven riktig vil den se noe [slik](Figurer/oppg9d_lf.png) ut.*\n",
    "<!--\n",
    "DENNE KODEN BLE BRUKT FOR Å GENERERE DATASETT:\n",
    "\n",
    "import numpy as  np\n",
    "import matplotlib.pyplot as plt\n",
    "import pandas as pd\n",
    "\n",
    "slope = 0.009\n",
    "midpoint = 7.6\n",
    "offset = 0.11\n",
    "\n",
    "def a(x):\n",
    "    return slope*(midpoint-x)**3 + offset\n",
    "def a_int(x):\n",
    "    return -slope/4*(midpoint-x)**4+offset*x\n",
    "def v(x):\n",
    "    return a_int(x) - a_int(0)\n",
    "\n",
    "def v_int(x):\n",
    "    return slope/20*(midpoint-x)**5 + offset/2*x**2 - a_int(0)*x\n",
    "\n",
    "def s(x):\n",
    "    return v_int(x) - v_int(0)\n",
    "\n",
    "t = np.linspace(0, 15, 501)\n",
    "plt.plot(t, a(t))\n",
    "plt.plot(t, v(t))\n",
    "plt.plot(t, s(t))\n",
    "\n",
    "def numDiff(f, x, h=1e-4):\n",
    "    return (f(x+h)-f(x-h))/(2*h)\n",
    "\n",
    "def newton_solve(f, y, x_eval=0, tol=1e-6):\n",
    "    \n",
    "    while abs(f(x_eval)-y) > tol:\n",
    "        x_eval -= (f(x_eval)-y)/numDiff(f, x_eval)\n",
    "    return x_eval\n",
    "\n",
    "def midpoint_solve(f, a, b, y=0, tol=1e-6):\n",
    "    midpoint = (b+a)/2\n",
    "    while abs(f(midpoint)-y) > tol:\n",
    "        if (f(midpoint)-y)*numDiff(f, midpoint)<0 :\n",
    "            a = midpoint\n",
    "        else:\n",
    "            b = midpoint\n",
    "        midpoint = (b+a)/2\n",
    "    return midpoint\n",
    "\n",
    "timestamps =[0]\n",
    "for dist in range(1, 101):\n",
    "    timestamps.append(midpoint_solve(s, 0, 15, dist))\n",
    "\n",
    "\n",
    "timestamps_df = pd.DataFrame({\"Tid (s)\":timestamps, \"Strekning (m)\": np.linspace(0, 100, 101)})\n",
    "timestamps_df.to_csv(\"sprintmålinger.csv\", index=False, sep=\";\")\n",
    "\n",
    "-->"
   ]
  },
  {
   "cell_type": "code",
   "execution_count": null,
   "id": "4b284ce7-00b2-4ffa-b5c5-c98d99e3a1fa",
   "metadata": {
    "autofeedback": {
     "test_code": "ZnJvbSBhdXRvZmVlZGJhY2sgaW1wb3J0IFZhcmlhYmxlVGVzdHMKCnRlc3RfcmVzdWx0cyA9IFZhcmlhYmxlVGVzdHMoKQoKaWYgbGVuKGZpZy5heGVzKSA8IDE6CiAgICB0ZXN0X3Jlc3VsdHMuYWRkX3Jlc3VsdChGYWxzZSwgIk5vIHBsb3QgZGV0ZWN0ZWQgaW4gc3VibWl0dGVkIGFuc3dlciBjZWxsLiIpCmVsc2U6CiAgICB2X2luX3Bsb3QgPSBmaWcuYXhlc1stMV0ubGluZXNbLTFdLmdldF95ZGF0YSgpCiAgICBpZiBsZW4odl9pbl9wbG90KSA9PSBsZW4odGltZXN0YW1wcykgb3IgbGVuKHZfaW5fcGxvdCkgPT0gbGVuKHRpbWVzdGFtcHMpLTE6CiAgICAgICAgdGVzdF9yZXN1bHRzLmFkZF9yZXN1bHQoVHJ1ZSwgImNvcnJlY3QgbnVtYmVyIG9mIHBvaW50cyBpbiBwbG90LiIpCiAgICBlbHNlOgogICAgICAgIHRlc3RfcmVzdWx0cy5hZGRfcmVzdWx0KEZhbHNlLCAicGxvdCBkb2VzIG5vdCBjb250YWluIGNvcnJlY3QgbnVtYmVyIG9mIHBvaW50cy4iKQoKcm91bmQodGVzdF9yZXN1bHRzLmdldF9yZXN1bHRzKCkqMiAsMik="
    },
    "deletable": false,
    "editable": false,
    "execution": {
     "iopub.execute_input": "2024-08-28T17:39:19.264493Z",
     "iopub.status.busy": "2024-08-28T17:39:19.263072Z",
     "iopub.status.idle": "2024-08-28T17:39:19.293053Z",
     "shell.execute_reply": "2024-08-28T17:39:19.290302Z"
    },
    "nbgrader": {
     "cell_type": "code",
     "checksum": "3a19cedfb1f8266900397b3b4f0fecd3",
     "grade": true,
     "grade_id": "cell-4df977dffa654516",
     "locked": true,
     "points": 2,
     "schema_version": 3,
     "solution": false,
     "task": false
    },
    "slideshow": {
     "slide_type": ""
    },
    "tags": []
   },
   "outputs": [],
   "source": []
  },
  {
   "cell_type": "markdown",
   "id": "7060d590",
   "metadata": {
    "deletable": false,
    "editable": false,
    "slideshow": {
     "slide_type": ""
    },
    "tags": []
   },
   "source": [
    "<br>\n",
    "<nav class=\"navbar navbar-default\">\n",
    "        <div class=\"container-fluid\">\n",
    "            <div class=\"navbar-header\" style=\"float: left\">\n",
    "                <a class=\"navbar-brand\" href=\"8_Fakultet.ipynb\" target=\"_self\">&lt; Forrige side: <i>fakultet</i></a>\n",
    "                </div>\n",
    "            <div class=\"navbar-header\" style=\"float: right\">\n",
    "                <a class=\"navbar-brand\" href=\"10_Plotting_av_flere_kurver.ipynb\" target=\"_self\">Neste side: <i>plotting av flere kurver</i> &gt;</a>\n",
    "            </div>\n",
    "        </div>\n",
    "</nav>"
   ]
  }
 ],
 "metadata": {
  "kernelspec": {
   "display_name": "Python 3 (ipykernel)",
   "language": "python",
   "name": "python3"
  },
  "language_info": {
   "codemirror_mode": {
    "name": "ipython",
    "version": 3
   },
   "file_extension": ".py",
   "mimetype": "text/x-python",
   "name": "python",
   "nbconvert_exporter": "python",
   "pygments_lexer": "ipython3",
   "version": "3.11.6"
  },
  "toc": {
   "base_numbering": 1
  }
 },
 "nbformat": 4,
 "nbformat_minor": 5
}
