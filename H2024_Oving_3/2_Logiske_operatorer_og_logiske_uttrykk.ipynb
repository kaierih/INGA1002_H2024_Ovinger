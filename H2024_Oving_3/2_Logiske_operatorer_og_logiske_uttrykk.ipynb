{
 "cells": [
  {
   "cell_type": "markdown",
   "id": "60980ed0",
   "metadata": {
    "deletable": false,
    "editable": false
   },
   "source": [
    "\n",
    "<nav class=\"navbar navbar-default\">\n",
    "  <div class=\"container-fluid\">\n",
    "    <div class=\"navbar-header\" style=\"float: left\">\n",
    "        <a class=\"navbar-brand\" href=\"0_Forside.ipynb\" target=\"_self\"> <h2> &uarr; Tilbake til forsiden</h2></a>\n",
    "    </div>\n",
    "  </div>\n",
    "</nav>"
   ]
  },
  {
   "cell_type": "markdown",
   "metadata": {
    "deletable": false,
    "editable": false,
    "run_control": {
     "frozen": true
    },
    "slideshow": {
     "slide_type": ""
    },
    "tags": []
   },
   "source": [
    "# Logiske operatorer og logiske uttrykk\n",
    "\n",
    "**Læringsmål:**\n",
    "- Logiske uttrykk og boolske operatorer\n",
    "- Betingelser\n",
    "- Kodeforståelse\n",
    "\n",
    "I denne oppgaven skal vi lære om logiske uttrykk og hvordan de kan settes sammen med `and`, `or` og `not`.\n",
    "\n",
    "**Oversikt:**\n",
    "* [Oppgave a) Quiz kodeforståelse](#oppg_2a)\n",
    "* [Oppgave b) Rett opp feil i betingelse](#oppg_2b)\n",
    "* [Oppgave c) Sammensatte betingelser](#oppg_2c)"
   ]
  },
  {
   "cell_type": "markdown",
   "metadata": {
    "deletable": false,
    "editable": false,
    "heading_collapsed": true,
    "run_control": {
     "frozen": true
    }
   },
   "source": [
    "## Generelt om logiske operatorer og logiske uttrykk\n",
    "\n",
    "Dette er ikke en del av oppgaven, men kan være lurt å lese før du begynner."
   ]
  },
  {
   "cell_type": "markdown",
   "metadata": {
    "deletable": false,
    "editable": false,
    "hidden": true,
    "run_control": {
     "frozen": true
    }
   },
   "source": [
    "I de tidligere oppgavene i denne øvingen var alle betingelsene enkle betingelser hvor vi typisk sammenlignet to verdier. De vanlige operatorene vi har for å sammenligne verdier er:\n",
    "\n",
    "- `==` (som betyr \"er lik\", merk at her er to likhetstegn nødvendig for å skille fra tilordningsoperatoren)\n",
    "- `!=` (som betyr \"ulik\", altså det motsatte av ==)\n",
    "- `>` , `<` , `>=` , `<=` (som betyr henholdsvis større, mindre, større eller lik, og mindre eller lik)\n",
    "\n",
    "Ofte kan beslutninger være avhengig av verdien til **flere** variable, eller for den del flere betingelser for samme variabel.\n",
    "\n",
    "Ved hjelp av logiske operatorer kan vi teste for flere betingelser i samme if-setning. Eksemplet nedenfor viser et lite program som leser inn temperatur og vind og så skal skrive et varsel om ekstremvær hvis det er kaldere enn -30, varmere enn 40, eller mer vind enn 20 m/s.\n",
    "\n",
    "Her viser vi dette løst på to alternative måter, først med enkle betingelser og en if-elif-setning (linje 5-10), deretter med en enkelt if-setning med en sammensatt betingelse med `or` mellom (linje 13-14). **OBS:** Trykk på View -> Toggle Line Numbers i menyen på toppen for å se linjenummer.\n",
    "\n",
    "Når det står `or` mellom betingelser er det nok at en av dem er sann for at hele uttrykket skal bli sant (men også sant om begge er sanne); den sammensatte varianten vil dermed gi samme resultat som if-elif-setningen bare at vi med vilje har droppet utropstegn i siste print så du lett skal se hva som er hva."
   ]
  },
  {
   "cell_type": "code",
   "execution_count": null,
   "metadata": {
    "deletable": false,
    "execution": {
     "iopub.execute_input": "2024-08-28T17:38:27.313567Z",
     "iopub.status.busy": "2024-08-28T17:38:27.313115Z",
     "iopub.status.idle": "2024-08-28T17:38:27.335430Z",
     "shell.execute_reply": "2024-08-28T17:38:27.333612Z"
    },
    "hidden": true
   },
   "outputs": [],
   "source": [
    "########## Eksempel 1 ##########\n",
    "\n",
    "# VARIANT MED if-elif\n",
    "def ekstremvær_if_elif(temp, vind):\n",
    "    if temp < -30:\n",
    "        return \"VARSEL: Ekstremvær!\"\n",
    "    elif temp > 40:\n",
    "        return \"VARSEL: Ekstremvær!\"\n",
    "    elif vind > 20:\n",
    "        return \"VARSEL: Ekstremvær!\"\n",
    "    \n",
    "ekstremvær_if_elif(50, 2)"
   ]
  },
  {
   "cell_type": "code",
   "execution_count": null,
   "metadata": {
    "deletable": false,
    "execution": {
     "iopub.execute_input": "2024-08-28T17:38:27.345595Z",
     "iopub.status.busy": "2024-08-28T17:38:27.344767Z",
     "iopub.status.idle": "2024-08-28T17:38:27.360582Z",
     "shell.execute_reply": "2024-08-28T17:38:27.358495Z"
    }
   },
   "outputs": [],
   "source": [
    "########## Eksempel 2 ##########\n",
    "\n",
    "# VARIANT MED SAMMENSATT BETINGELSE\n",
    "def ekstremvær_sammensatt(temp, vind):\n",
    "    if temp < -30 or temp > 40 or vind > 20:\n",
    "        return \"VARSEL: Ekstremvær\"\n",
    "\n",
    "ekstremvær_sammensatt(10, 40)"
   ]
  },
  {
   "cell_type": "markdown",
   "metadata": {
    "deletable": false,
    "editable": false,
    "hidden": true,
    "run_control": {
     "frozen": true
    }
   },
   "source": [
    "Merk at varianten med sammensatt betingelse kun funker her fordi det er samme tekst som skal skrives i alle de tre tilfellene. Hvis utskriften skulle ha vært mer spesifikk (f.eks. ekstremt kaldt / ekstremt varmt / ...), måtte vi ha brukt if-elif...\n",
    "\n",
    "Tilsvarende kan vi i noen tilfeller unngå nøstede if-setninger (linje 5-7 i eksemplet under) ved å sette sammen betingelser med `and` (linje 10-11 under). Når det er `and` mellom to betingelser, må **begge** være sanne for at hele uttrykket skal bli sant."
   ]
  },
  {
   "cell_type": "code",
   "execution_count": null,
   "metadata": {
    "ExecuteTime": {
     "end_time": "2019-07-02T06:42:19.110725Z",
     "start_time": "2019-07-02T06:42:10.950922Z"
    },
    "deletable": false,
    "execution": {
     "iopub.execute_input": "2024-08-28T17:38:27.371033Z",
     "iopub.status.busy": "2024-08-28T17:38:27.370250Z",
     "iopub.status.idle": "2024-08-28T17:38:27.385728Z",
     "shell.execute_reply": "2024-08-28T17:38:27.383656Z"
    },
    "hidden": true
   },
   "outputs": [],
   "source": [
    "########## Eksempel 3 ##########\n",
    "\n",
    "def paraply(regn, vind):\n",
    "    print(f\"Regn i mm: {regn}\")\n",
    "    print(f\"Vind i sekundmeter: {vind}\")\n",
    "    \n",
    "    # VARIANT MED NØSTEDE if-setninger\n",
    "    if regn > 0.2:\n",
    "        if vind < 7.0:\n",
    "            return \"Anbefaler paraply.\"\n",
    "    return \"Anbefaler ikke paraply\"\n",
    "        \n",
    "\n",
    "anbefaling = paraply(0.3, 6.0)\n",
    "print(anbefaling)"
   ]
  },
  {
   "cell_type": "code",
   "execution_count": null,
   "metadata": {
    "deletable": false,
    "execution": {
     "iopub.execute_input": "2024-08-28T17:38:27.395528Z",
     "iopub.status.busy": "2024-08-28T17:38:27.394785Z",
     "iopub.status.idle": "2024-08-28T17:38:27.408738Z",
     "shell.execute_reply": "2024-08-28T17:38:27.406381Z"
    }
   },
   "outputs": [],
   "source": [
    "########## Eksempel 4 ##########\n",
    "\n",
    "def paraply_sammensatt(regn, vind):\n",
    "    print(f\"Regn i mm: {regn}\")\n",
    "    print(f\"Vind i sekundmeter: {vind}\")\n",
    "    \n",
    "    # VARIANT MED SAMMENSATT BETINGELSE\n",
    "    if regn > 0.2 and vind < 7.0:\n",
    "        return \"Anbefaler paraply.\"\n",
    "    return \"Anbefaler ikke paraply\"\n",
    "\n",
    "anbefaling = paraply_sammensatt(0.3, 6.0)\n",
    "print(anbefaling)"
   ]
  },
  {
   "cell_type": "markdown",
   "metadata": {
    "deletable": false,
    "editable": false,
    "hidden": true,
    "run_control": {
     "frozen": true
    }
   },
   "source": [
    "I begge de foregående eksemplene vil nok de fleste si at variantene med sammensatte betingelser er klart å foretrekke framfor if-elif eller nøstet if. Bruk av sammensatte betingelser gjør koden kortere og enklere å forstå.\n",
    "\n",
    "Det er typisk tre operatorer vi bruker for å sette sammen betingelser: `and`, `or`, `not`\n",
    "\n",
    "Disse virker på følgende måte:\n",
    "\n",
    "- betingelse1 `and` betingelse2 blir True (sant) bare hvis **både** betingelse1 og betingelse2 er True, ellers blir uttrykket False (usant)\n",
    "- betingelse1 `or` betingelse2 blir True (sann) hvis **minst en** av betingelsene er True, ellers False\n",
    "- `not` betingelse1 blir True hvis betingelse1 er False, og False hvis betingelse1 er True\n",
    "- Man kan sette sammen mer komplekse betingelser ved å bruke flere av dem. \n",
    "\n",
    "Presedensregler: `not` har større presedens enn `and`, som har større enn `or`.\n",
    "\n",
    "F.eks. anta at\n",
    "\n",
    "`if regn > 0.2 and vind < 7.0 or solbrentfare > 0.9 and not solkrembeholdning > 0:` er gitt som betingelse for å ta med paraply\n",
    "\n",
    "Ifølge presedensreglene vil `not` evalueres først, deretter `and`, og til slutt `or`. Uttrykket kan dermed ses som to alternative måter for å anbefale paraply (delt av `or` i midten), nemlig:\n",
    "\n",
    "ENTEN at både `regn > 0.2` og `vind < 0.7` er sanne. Det spiller da ingen rolle hvilken verdi vi har for solbrentfare osv. (siden den har `or` foran seg)\n",
    "ELLER at `solbrentfare > 0.9` er sann, samtidig som `solkrembeholdning > 0` er usann (slik at `not solkrembeholdning > 0` vil være sann)\n",
    "I det siste tilfellet er det rimelig å anta at paraply er tenkt å beskytte mot sol, ikke mot regn.\n",
    "\n",
    "Merk at selv om sammensatte betingelser gjorde koden kortere og enklere å forstå i eksemplene over, er ikke dette alltid tilfelle. Hvis man ender med veldig store sammensatte betingelser, vil disse i seg selv være vanskelig å forstå, slik at kanskje noe oppsplitting med if-elif... eller nøsting av if-setninger kunne ha vært bedre.\n",
    "\n",
    "Men se først om det er mulig å skrive betingelsen enklere. Dette gjelder særlig hvis det er mye bruk av `not`. Akkurat som mye bruk av negasjoner i vanlig norsk vil gjøre en tekst vanskelig å forstå, vil mye bruk av `not` gjøre Python-betingelser vanskelige å forstå - og kunne kanskje vært unngått. F.eks.\n",
    "\n",
    "- `not a < 10` kan like gjerne skrives `a >= 10`\n",
    "- `not a == 10` kan like gjerne skrives `a != 10`\n",
    "- `not (c < 0 or c > 255)` kan like gjerne skrives `c >= 0 and c <= 255` eller enda enklere `0 <= c <= 255`.\n",
    "Det fins tilfeller hvor `not` er lurt å bruke, men bruk den med måte, bare når bedre alternativer ikke finnes."
   ]
  },
  {
   "cell_type": "markdown",
   "metadata": {
    "deletable": false,
    "editable": false,
    "run_control": {
     "frozen": true
    },
    "slideshow": {
     "slide_type": ""
    },
    "tags": []
   },
   "source": [
    "<a id=\"oppg_2a\"></a>\n",
    "\n",
    "## a) Quizspørsmål\n",
    "\n",
    "Hvilken av de følgende logiske uttrykkene vil gi den boolske verdien  True  dersom x=3, y=8 og z=-3?\n",
    "\n",
    "|Alternativ|Svar|\n",
    "|---|---|\n",
    "|1|`not y == 8`|\n",
    "|2|`x == 8 or y == 3`|\n",
    "|3|`-5 < z and 5 > z`\n",
    "|4|`not (x <= 3)`|\n",
    "\n",
    "*Besvar spørsmålet ved å skrive en tallverdi for hvilket alternativ som er korrekt i variabelen `mitt_svar`*."
   ]
  },
  {
   "cell_type": "code",
   "execution_count": null,
   "metadata": {
    "deletable": false,
    "execution": {
     "iopub.execute_input": "2024-08-28T17:38:27.452422Z",
     "iopub.status.busy": "2024-08-28T17:38:27.451463Z",
     "iopub.status.idle": "2024-08-28T17:38:27.468403Z",
     "shell.execute_reply": "2024-08-28T17:38:27.465000Z"
    }
   },
   "outputs": [],
   "source": [
    "mitt_svar = ? # Skriv svaralternativ nr. 1, 2, 3 eller 4 her!"
   ]
  },
  {
   "cell_type": "code",
   "execution_count": null,
   "metadata": {
    "autofeedback": {
     "test_code": "ZnJvbSBhdXRvZmVlZGJhY2sgaW1wb3J0IEN1c3RvbVRlc3RzCmdyYWRpbmdfcmVzdWx0ID0gQ3VzdG9tVGVzdHMoKQpncmFkaW5nX3Jlc3VsdC50ZXN0KCdtaXR0X3N2YXInIGluIGdsb2JhbHMoKSBhbmQgbWl0dF9zdmFyID09IDMsIAogICAgICAgICAgICAgICAgICAgc3VjY2VzcyA9ICJjb3JyZWN0IGFuc3dlciB0byBxdWl6ISIsCiAgICAgICAgICAgICAgICAgICBmYWlsID0gImluY29ycmVjdCBhbnN3ZXIgdG8gcXVpeiEiIGlmICdtaXR0X3N2YXInIGluIGdsb2JhbHMoKSBlbHNlICJubyB2YWxpZCBhbnN3ZXIgZ2l2ZW4uIikKcm91bmQoZ3JhZGluZ19yZXN1bHQuZ2V0X3Jlc3VsdHMoKSozLCAzKQ=="
    },
    "deletable": false,
    "editable": false,
    "execution": {
     "iopub.execute_input": "2024-08-28T17:38:27.479955Z",
     "iopub.status.busy": "2024-08-28T17:38:27.477825Z",
     "iopub.status.idle": "2024-08-28T17:38:29.513521Z",
     "shell.execute_reply": "2024-08-28T17:38:29.511752Z"
    },
    "nbgrader": {
     "cell_type": "code",
     "checksum": "d9a4f9a4b844b129e73144aa550f5d3d",
     "grade": true,
     "grade_id": "cell-9f20566104822cbe",
     "locked": true,
     "points": 3,
     "schema_version": 3,
     "solution": false,
     "task": false
    }
   },
   "outputs": [],
   "source": []
  },
  {
   "cell_type": "markdown",
   "metadata": {
    "deletable": false,
    "editable": false,
    "heading_collapsed": true,
    "run_control": {
     "frozen": true
    }
   },
   "source": [
    "#### Hint"
   ]
  },
  {
   "cell_type": "markdown",
   "metadata": {
    "deletable": false,
    "editable": false,
    "hidden": true,
    "run_control": {
     "frozen": true
    }
   },
   "source": [
    "Om du sliter kan du sjekke ved å skrive et program som gir x, y og z verdiene 3, 8, -3 og bruke `print(<logisk uttrykk>)`.\n",
    "\n",
    "Husk presedensregler: `not` har større presedens enn `and`, som har større enn `or`.  \n",
    "Du kan teste kode her:"
   ]
  },
  {
   "cell_type": "code",
   "execution_count": null,
   "metadata": {
    "deletable": false,
    "hidden": true
   },
   "outputs": [],
   "source": []
  },
  {
   "cell_type": "markdown",
   "metadata": {
    "deletable": false,
    "editable": false
   },
   "source": [
    "<a id=\"oppg_2b\"></a>\n",
    "## b)"
   ]
  },
  {
   "cell_type": "markdown",
   "metadata": {
    "deletable": false,
    "editable": false
   },
   "source": [
    "En venn av deg er fridykker og trenger hjelp til å overvåke lufttanken sin. Den skal fylles med luft etter å ha blitt brukt. Problemet er at når tanken fylles vil både trykk og temperatur øke, om trykket eller temperaturen blir for stor vil tanken bli ødelagt. Vennen din ønsker derfor en funksjon `isSafe` som sier om tankens trykk/temperatur målinger er under tankens spesifikasjoner. Grenseverdien til både trykk og temperatur er 85 (PSI for trykk, celsius for temperatur). Om en eller begge av målingene er over anbefalt verdi skal porgrammet `returnere` false, og true ellers. For dette burde du bruke *or* operatoren.\n",
    "\n",
    "Eksempelvis\n",
    "```Python\n",
    "Trykk = 10, Temp = 20 => return True\n",
    "Trykk = 70, Temp = 100 => return False\n",
    "```\n",
    "\n",
    "Vennen din, som er veldig ny til programmering, har forsøkt å skrive funksjonen på egen hånd. Dessverre fungerer den ikke helt slik den skal, og returnerer *alltid* `False` uansett hva trykke eller temperaturen er. Klarer du å finne, og rette opp i feilen?"
   ]
  },
  {
   "cell_type": "code",
   "execution_count": null,
   "metadata": {
    "deletable": false,
    "execution": {
     "iopub.execute_input": "2024-08-28T17:38:29.527528Z",
     "iopub.status.busy": "2024-08-28T17:38:29.526894Z",
     "iopub.status.idle": "2024-08-28T17:38:29.550494Z",
     "shell.execute_reply": "2024-08-28T17:38:29.547806Z"
    }
   },
   "outputs": [],
   "source": [
    "def is_safe(trykk, temp):\n",
    "    limit = 85 # Celcius for temp, PSI for pressure\n",
    "    if trykk or temp >= limit:\n",
    "        return False\n",
    "    else:\n",
    "        return True\n"
   ]
  },
  {
   "cell_type": "markdown",
   "metadata": {
    "deletable": false,
    "editable": false
   },
   "source": [
    "Et eksempel på et funksjonakall er gitt nedenfor. Når vi kaller funksjonen `is_safe` med inngangsverdiene `trykk = 60` og `temp = 30`, så bør funksjonen returnere `True` (noe den ikke gjør nå)\\\n",
    "NB! Husk å kjøre cellen der funksjonen `is_safe` er definert etter at du har endret den."
   ]
  },
  {
   "cell_type": "code",
   "execution_count": null,
   "metadata": {
    "deletable": false,
    "execution": {
     "iopub.execute_input": "2024-08-28T17:38:29.560990Z",
     "iopub.status.busy": "2024-08-28T17:38:29.560319Z",
     "iopub.status.idle": "2024-08-28T17:38:29.572737Z",
     "shell.execute_reply": "2024-08-28T17:38:29.570313Z"
    }
   },
   "outputs": [],
   "source": [
    "print(f\"{is_safe(60, 30) = }\")"
   ]
  },
  {
   "cell_type": "markdown",
   "metadata": {
    "deletable": false,
    "editable": false
   },
   "source": [
    "#### Hint\n",
    "*Hva blir egentlig på de to siden av **or** operatoren?*"
   ]
  },
  {
   "cell_type": "code",
   "execution_count": null,
   "metadata": {
    "autofeedback": {
     "test_code": "ZnJvbSByYW5kb20gaW1wb3J0IHNhbXBsZQpmcm9tIGF1dG9mZWVkYmFjayBpbXBvcnQgRnVuY3Rpb25UZXN0cwppbXBvcnQgbnVtcHkgYXMgbnAKCmRlZiBpc19zYWZlX3NvbHV0aW9uKHRyeWtrLCB0ZW1wKToKICAgIHJldHVybiBub3QgKCh0cnlrayA+PSA4NSkgb3IgKHRlbXAgPj0gODUpKQoKZ3JhZGluZ19yZXN1bHRzID0gRnVuY3Rpb25UZXN0cyhpc19zYWZlX3NvbHV0aW9uKQoKdHJ5OgogICAgZ3JhZGluZ19yZXN1bHRzLmFkZF90ZXN0X2Z1bmMoaXNfc2FmZSkKZXhjZXB0IEV4Y2VwdGlvbiBhcyBlOgogICAgZ3JhZGluZ19yZXN1bHRzLmxvZy5hcHBlbmQoIkNvdWxkIG5vdCBydW4gdGVzdHMsICIrZS5hcmdzWzBdKQplbHNlOgogICAgdHJ5a2tfdmFscyA9IHNhbXBsZShsaXN0KHJhbmdlKDEsIDg1KSksIDMpICsgc2FtcGxlKGxpc3QocmFuZ2UoODUsIDEyMCkpLCAxKQogICAgdGVtcF92YWxzID0gc2FtcGxlKGxpc3QocmFuZ2UoMSwgODUpKSwgMykgKyBzYW1wbGUobGlzdChyYW5nZSg4NSwgMTIwKSksIDEpCiAgICBmb3IgdHJ5a2ssIHRlbXAgaW4gemlwKHRyeWtrX3ZhbHMsIHRlbXBfdmFscyk6CiAgICAgICAgZ3JhZGluZ19yZXN1bHRzLnRlc3RfcmV0dXJuX3ZhbHVlKHRyeWtrLCB0ZW1wKQpyb3VuZChncmFkaW5nX3Jlc3VsdHMuZ2V0X3Jlc3VsdHMoKSozLCAzKQ=="
    },
    "deletable": false,
    "editable": false,
    "execution": {
     "iopub.execute_input": "2024-08-28T17:38:29.583365Z",
     "iopub.status.busy": "2024-08-28T17:38:29.582330Z",
     "iopub.status.idle": "2024-08-28T17:38:29.657518Z",
     "shell.execute_reply": "2024-08-28T17:38:29.654129Z"
    },
    "nbgrader": {
     "cell_type": "code",
     "checksum": "9efbe750e28ab8e98faabe8508e67c5a",
     "grade": true,
     "grade_id": "cell-c7774ba8f85d0f58",
     "locked": true,
     "points": 3,
     "schema_version": 3,
     "solution": false,
     "task": false
    },
    "slideshow": {
     "slide_type": ""
    },
    "tags": []
   },
   "outputs": [],
   "source": [
    "# Denne cellen brukes under retting. La stå!"
   ]
  },
  {
   "cell_type": "markdown",
   "metadata": {
    "deletable": false,
    "editable": false
   },
   "source": [
    "<a id=\"oppg_2c\"></a>\n",
    "## c)"
   ]
  },
  {
   "cell_type": "markdown",
   "metadata": {
    "deletable": false,
    "editable": false
   },
   "source": [
    "Etter at du lagde funksjonen fra forrige oppgave leste dykkeren spesifikasjonen til tanken litt nærmere, og fant ut tanken har både en maksverdi og anbefalt verdi. Du blir derfor bedt om du kan lage en ny funksjon, denne gangen som indikerer farenivået. Funksjonen vil ta inn trykket og temperaturen i tanken som parametere og returnere en verdi basert på disse. Funksjonen skal returnere `0` om alt er ok, `1` om en eller begge av verdiene er over anbefalt, og `2` om en eller begge av verdiene er over maks grensen. Disse grenseverdiene er oppgitt nedenfor i tankens spesifikasjoner.\n",
    "\n",
    "<img src=\"Figurer/databladTank.png\"  style=\"width: 600px; margin-left: 10%\" />\n",
    "\n",
    "Eksempel:\n",
    "```\n",
    "trykk = 190, temp = 45\n",
    "return 0\n",
    "\n",
    "trykk = 270, temp = 110\n",
    "return 2\n",
    "\n",
    "```\n",
    "\n",
    "Hint: Det kan være en fordel å jobbe seg nedover i prioritering. Begynn for eksempel med å sjekke om enten trykk eller temp er over maksverdien.\n",
    "\n",
    "For å finne ut x `eller` y bruker vi `or` i python. Eks: `if (trykk >= 300) or (temp >= 100): return 2`"
   ]
  },
  {
   "cell_type": "code",
   "execution_count": null,
   "metadata": {
    "deletable": false,
    "execution": {
     "iopub.execute_input": "2024-08-28T17:38:29.669192Z",
     "iopub.status.busy": "2024-08-28T17:38:29.668280Z",
     "iopub.status.idle": "2024-08-28T17:38:29.680786Z",
     "shell.execute_reply": "2024-08-28T17:38:29.678342Z"
    },
    "nbgrader": {
     "cell_type": "code",
     "checksum": "e2b04931ef1606f6f4962263aa263902",
     "grade": false,
     "grade_id": "cell-1e859349e147b49d",
     "locked": false,
     "schema_version": 3,
     "solution": true,
     "task": false
    }
   },
   "outputs": [],
   "source": [
    "def tank_warning_system(trykk, temp):\n",
    "    #-------------------------------------\n",
    "    # SKRIV DIN KODE HER!\n",
    "    #-------------------------------------"
   ]
  },
  {
   "cell_type": "markdown",
   "metadata": {
    "deletable": false,
    "editable": false
   },
   "source": [
    "*Nedenfor ser du forslag til tre funksjonskall som tester eksempel-input for de tre ulike utfallene*"
   ]
  },
  {
   "cell_type": "code",
   "execution_count": null,
   "metadata": {
    "deletable": false,
    "execution": {
     "iopub.execute_input": "2024-08-28T17:38:29.692518Z",
     "iopub.status.busy": "2024-08-28T17:38:29.691433Z",
     "iopub.status.idle": "2024-08-28T17:38:29.744628Z",
     "shell.execute_reply": "2024-08-28T17:38:29.703163Z"
    }
   },
   "outputs": [],
   "source": [
    "print(f\"{tank_warning_system(trykk=200, temp=50) = }\") # Forventer 0\n",
    "print(f\"{tank_warning_system(trykk=250, temp=90) = }\") # Forventer 1\n",
    "print(f\"{tank_warning_system(trykk=310, temp=110) = }\") # Forventer 0"
   ]
  },
  {
   "cell_type": "code",
   "execution_count": null,
   "metadata": {
    "autofeedback": {
     "test_code": "ZnJvbSByYW5kb20gaW1wb3J0IHNhbXBsZQpmcm9tIGF1dG9mZWVkYmFjayBpbXBvcnQgRnVuY3Rpb25UZXN0cwppbXBvcnQgbnVtcHkgYXMgbnAKCmRlZiB0YW5rX3dhcm5pbmdfc29sdXRpb24odHJ5a2ssIHRlbXApOgogICAgaWYgKHRyeWtrID4gMzAwKSBvciAodGVtcCA+IDEwMCk6IHJldHVybiAyCiAgICBlbGlmICh0cnlrayA+IDI0MCkgb3IgKHRlbXAgPiA4NSk6IHJldHVybiAxCiAgICBlbHNlOiByZXR1cm4gMAoKZ3JhZGluZ19yZXN1bHRzID0gRnVuY3Rpb25UZXN0cyh0YW5rX3dhcm5pbmdfc29sdXRpb24pCgp0cnk6CiAgICBncmFkaW5nX3Jlc3VsdHMuYWRkX3Rlc3RfZnVuYyh0YW5rX3dhcm5pbmdfc3lzdGVtKQpleGNlcHQgRXhjZXB0aW9uIGFzIGU6CiAgICBncmFkaW5nX3Jlc3VsdHMubG9nLmFwcGVuZCgiQ291bGQgbm90IHJ1biB0ZXN0cywgIitlLmFyZ3NbMF0pCmVsc2U6CiAgICB0cnlra192YWxzID0gc2FtcGxlKGxpc3QocmFuZ2UoMTAwLCAyNDApKSwgMSkgKyBzYW1wbGUobGlzdChyYW5nZSgyNDAsIDMwMCkpLCAxKSArIHNhbXBsZShsaXN0KHJhbmdlKDMwMCwgNDAwKSksIDEpCiAgICB0ZW1wX3ZhbHMgPSBzYW1wbGUobGlzdChyYW5nZSgxLCA4NSkpLCAxKSArIHNhbXBsZShsaXN0KHJhbmdlKDg1LCAxMDApKSwgMSkgKyBzYW1wbGUobGlzdChyYW5nZSgxMDAsIDIwMCkpLCAxKQogICAgZm9yIHRyeWtrIGluIHRyeWtrX3ZhbHM6CiAgICAgICAgZm9yIHRlbXAgaW4gdGVtcF92YWxzOgogICAgICAgICAgICBncmFkaW5nX3Jlc3VsdHMudGVzdF9yZXR1cm5fdmFsdWUodHJ5a2ssIHRlbXApCnJvdW5kKGdyYWRpbmdfcmVzdWx0cy5nZXRfcmVzdWx0cygpKjQsIDMp"
    },
    "deletable": false,
    "editable": false,
    "execution": {
     "iopub.execute_input": "2024-08-28T17:38:29.757026Z",
     "iopub.status.busy": "2024-08-28T17:38:29.756104Z",
     "iopub.status.idle": "2024-08-28T17:38:29.800444Z",
     "shell.execute_reply": "2024-08-28T17:38:29.798090Z"
    },
    "nbgrader": {
     "cell_type": "code",
     "checksum": "9dd2c5c728bc4a80e18d7514afe5931b",
     "grade": true,
     "grade_id": "cell-f8ec2271d1f382c3",
     "locked": true,
     "points": 4,
     "schema_version": 3,
     "solution": false,
     "task": false
    },
    "slideshow": {
     "slide_type": ""
    },
    "tags": []
   },
   "outputs": [],
   "source": [
    "# Denne cellen brukes under retting. La stå!"
   ]
  },
  {
   "cell_type": "markdown",
   "id": "9f37908c",
   "metadata": {
    "deletable": false,
    "editable": false
   },
   "source": [
    "<br>\n",
    "<nav class=\"navbar navbar-default\">\n",
    "        <div class=\"container-fluid\">\n",
    "            <div class=\"navbar-header\" style=\"float: left\">\n",
    "                <a class=\"navbar-brand\" href=\"1_Ulike_typer_if-setninger.ipynb\" target=\"_self\">&lt; Forrige side: <i>ulike type if-setninger</i></a>\n",
    "                </div>\n",
    "            <div class=\"navbar-header\" style=\"float: right\">\n",
    "                <a class=\"navbar-brand\" href=\"3_Andregradsligning.ipynb\" target=\"_self\">Neste side: <i>andregradsligning</i> &gt;</a>\n",
    "            </div>\n",
    "        </div>\n",
    "</nav>"
   ]
  }
 ],
 "metadata": {
  "kernelspec": {
   "display_name": "Python 3 (ipykernel)",
   "language": "python",
   "name": "python3"
  },
  "language_info": {
   "codemirror_mode": {
    "name": "ipython",
    "version": 3
   },
   "file_extension": ".py",
   "mimetype": "text/x-python",
   "name": "python",
   "nbconvert_exporter": "python",
   "pygments_lexer": "ipython3",
   "version": "3.11.6"
  },
  "toc": {
   "base_numbering": 1,
   "nav_menu": {},
   "number_sections": false,
   "sideBar": true,
   "skip_h1_title": false,
   "title_cell": "Table of Contents",
   "title_sidebar": "Contents",
   "toc_cell": false,
   "toc_position": {},
   "toc_section_display": true,
   "toc_window_display": false
  }
 },
 "nbformat": 4,
 "nbformat_minor": 4
}
