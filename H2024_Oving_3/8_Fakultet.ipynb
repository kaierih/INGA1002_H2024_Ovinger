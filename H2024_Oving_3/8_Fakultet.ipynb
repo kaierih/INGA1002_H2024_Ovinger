{
 "cells": [
  {
   "cell_type": "markdown",
   "metadata": {
    "deletable": false,
    "editable": false
   },
   "source": [
    "\n",
    "<nav class=\"navbar navbar-default\">\n",
    "  <div class=\"container-fluid\">\n",
    "    <div class=\"navbar-header\" style=\"float: left\">\n",
    "        <a class=\"navbar-brand\" href=\"0_Forside.ipynb\" target=\"_self\"> <h2> &uarr; Tilbake til forsiden</h2></a>\n",
    "    </div>\n",
    "  </div>\n",
    "</nav>"
   ]
  },
  {
   "cell_type": "markdown",
   "metadata": {
    "deletable": false,
    "editable": false,
    "nbgrader": {
     "cell_type": "markdown",
     "checksum": "62bd14ac9d908409638e04a20b7e47ad",
     "grade": false,
     "grade_id": "cell-e5d33f5085c67bb3",
     "locked": true,
     "schema_version": 3,
     "solution": false,
     "task": false
    },
    "slideshow": {
     "slide_type": ""
    },
    "tags": []
   },
   "source": [
    "# Utregning av fakultet\n",
    "\n",
    "**Læringsmål:**\n",
    "\n",
    "* Løkker, kumulative regneoperasjoner.\n",
    "\n",
    "**Oversikt:**\n",
    "* [Oppgave a) Fakultet](#oppg_8a)\n",
    "* [Oppgave b) Fakultet med input-validering](#oppg_8b)\n",
    "\n",
    "### Om fakultetsoperasjonen\n",
    "\n",
    "En sentral matteoperasjon i Statistikk er [*Fakultet*](https://en.wikipedia.org/wiki/Factorial), som matematisk skrives med utropstegn $n!$, og utføres på *heltall*. Formelen for utregning av fakultet er som følger:\n",
    "$$n! = \\prod_{k=1}^{n} k = 1\\cdot2\\cdot3\\cdot4\\cdot\\ldots\\cdot n$$\n",
    "\n",
    "Du har kanskje ikke sett $\\prod$ brukt på denne måten i en matteformel før, men som du ser betyr det kumulativt produkt fra nedre heltall til øvre heltall. I programmering løses dette typisk med en oppsamlingsløkke."
   ]
  },
  {
   "cell_type": "markdown",
   "metadata": {
    "deletable": false,
    "editable": false
   },
   "source": [
    "<a id=\"oppg_8a\"></a>\n",
    "## a)\n",
    "\n",
    "Fullfør en funksjon som regner ut fakultet med bruk av for-løkke. Du skal _ikke_ ta i bruk noen funksjoner fra `math`-modulen i denne oppgaven."
   ]
  },
  {
   "cell_type": "code",
   "execution_count": null,
   "metadata": {
    "deletable": false,
    "editable": false,
    "execution": {
     "iopub.execute_input": "2024-08-28T17:39:10.644511Z",
     "iopub.status.busy": "2024-08-28T17:39:10.643594Z",
     "iopub.status.idle": "2024-08-28T17:39:10.668505Z",
     "shell.execute_reply": "2024-08-28T17:39:10.665198Z"
    },
    "nbgrader": {
     "cell_type": "code",
     "checksum": "37754ce0cc5514193edf30ed32fb037f",
     "grade": false,
     "grade_id": "cell-c714cdd9b766dad2",
     "locked": false,
     "schema_version": 3,
     "solution": true,
     "task": false
    },
    "slideshow": {
     "slide_type": ""
    },
    "tags": []
   },
   "outputs": [],
   "source": [
    "def fakultet(n):\n",
    "    #-------------------------------------\n",
    "    # SKRIV DIN KODE HER!\n",
    "    #-------------------------------------\n",
    "    return n_fakultet"
   ]
  },
  {
   "cell_type": "markdown",
   "metadata": {
    "deletable": false,
    "editable": false
   },
   "source": [
    "__Test av utregning:__"
   ]
  },
  {
   "cell_type": "code",
   "execution_count": null,
   "metadata": {
    "autofeedback": {
     "test_code": "ZnJvbSB1bml0dGVzdC5tb2NrIGltcG9ydCBwYXRjaApmcm9tIGF1dG9mZWVkYmFjayBpbXBvcnQgRnVuY3Rpb25UZXN0cwpmcm9tIHJhbmRvbSBpbXBvcnQgc2FtcGxlCgpkZWYgZmFrdWx0ZXRfc29sdXRpb24obik6CiAgICBuX2Zha3VsdGV0ID0gMQogICAgZm9yIGkgaW4gcmFuZ2UoMSwgbisxKToKICAgICAgICBuX2Zha3VsdGV0Kj1pCiAgICByZXR1cm4gbl9mYWt1bHRldAoKZ3JhZGluZ19yZXN1bHRzID0gRnVuY3Rpb25UZXN0cyhmYWt1bHRldF9zb2x1dGlvbikKdHJ5OgogICAgZ3JhZGluZ19yZXN1bHRzLmFkZF90ZXN0X2Z1bmMoZmFrdWx0ZXQpCmV4Y2VwdCBFeGNlcHRpb24gYXMgZToKICAgIGdyYWRpbmdfcmVzdWx0cy5sb2cuYXBwZW5kKCJDb3VsZCBub3QgcnVuIHRlc3RzLCAiK2UuYXJnc1swXSkKZWxzZToKICAgIHhfdmFscyA9IHNhbXBsZShsaXN0KHJhbmdlKDEsIDE1KSksIDUpCiAgICBmb3IgeCBpbiB4X3ZhbHM6CiAgICAgICAgdHJ5OgogICAgICAgICAgICAjIENoZWNrIGZvciBjYWxscyB0byAiYWJzIiBmdW5jdGlvbgogICAgICAgICAgICB3aXRoIHBhdGNoKCJtYXRoLmZhY3RvcmlhbCIpIGFzIG1vY2tfZmFjdG9yaWFsOgogICAgICAgICAgICAgICAgXyA9IGZha3VsdGV0KHgpCiAgICAgICAgZXhjZXB0IEV4Y2VwdGlvbiBhcyBlOgogICAgICAgICAgICBwYXNzCiAgICAgICAgZmluYWxseToKICAgICAgICAgICAgaWYgbW9ja19mYWN0b3JpYWwuY2FsbGVkOgogICAgICAgICAgICAgICAgZ3JhZGluZ19yZXN1bHRzLmFkZF9yZXN1bHQoRmFsc2UsIGYiQnVpbHQtaW4gZnVuY3Rpb24gJ21hdGguZmFjdG9yaWFsKCknIGNhbGxlZCBkdXJpbmcgdGhlIGV4ZWN1dGlvbiBvZiBmdW5jdGlvbiBjYWxsICdhYnNfdmFsdWUoe3h9KSciKQogICAgICAgICAgICBlbHNlOgogICAgICAgICAgICAgICAgZ3JhZGluZ19yZXN1bHRzLnRlc3RfcmV0dXJuX3ZhbHVlKHgpCgpyb3VuZChncmFkaW5nX3Jlc3VsdHMuZ2V0X3Jlc3VsdHMoKSo1LCAyKQ=="
    },
    "deletable": false,
    "editable": false,
    "execution": {
     "iopub.execute_input": "2024-08-28T17:39:10.679410Z",
     "iopub.status.busy": "2024-08-28T17:39:10.678667Z",
     "iopub.status.idle": "2024-08-28T17:39:12.827496Z",
     "shell.execute_reply": "2024-08-28T17:39:12.825057Z"
    },
    "nbgrader": {
     "cell_type": "code",
     "checksum": "df5589e9458445e39964721c4b87cdc4",
     "grade": true,
     "grade_id": "cell-6349b300904c4b8b",
     "locked": true,
     "points": 5,
     "schema_version": 3,
     "solution": false,
     "task": false
    }
   },
   "outputs": [],
   "source": []
  },
  {
   "cell_type": "markdown",
   "metadata": {
    "deletable": false,
    "editable": false,
    "slideshow": {
     "slide_type": ""
    },
    "tags": []
   },
   "source": [
    "Noe som er verdt å bemerke seg er at fakultetsoperasjonen ikke er definert for negative tall, og laveste verdi $n$ med en definerbar $n!$ er null, hvor $0! = 1$. Om funksjonen `fakultet(n)` fra deloppgave **a)** skal brukes videre så kan det være lurt at den klarer å gi et passende output for tilfeller der $n < 0$. En mulighet da er å returnere `nan` som er en forkortelse for **n**ot **a** **n**umber, som ofte brukes når resultatet av en beregning er et tall som ikke eksisterer. Merk at verdien fremdeles behandles av python som om det var et tall, selv symbolene `nan` minner mer om tekst.\n",
    "\n",
    "**Eksempel:**"
   ]
  },
  {
   "cell_type": "code",
   "execution_count": null,
   "metadata": {
    "deletable": false,
    "execution": {
     "iopub.execute_input": "2024-08-28T17:39:12.846698Z",
     "iopub.status.busy": "2024-08-28T17:39:12.845891Z",
     "iopub.status.idle": "2024-08-28T17:39:12.858585Z",
     "shell.execute_reply": "2024-08-28T17:39:12.856137Z"
    }
   },
   "outputs": [],
   "source": [
    "ugyldig_tall = float(\"NaN\") \n",
    "print(ugyldig_tall)"
   ]
  },
  {
   "cell_type": "markdown",
   "metadata": {
    "deletable": false,
    "editable": false,
    "slideshow": {
     "slide_type": ""
    },
    "tags": []
   },
   "source": [
    "<a id=\"oppg_8b\"></a>\n",
    "## b)\n",
    "Oppdater funksjonen `fakultet(n)` i deloppgave **a)** slik at den returnerer `nan` dersom tallet $n$ er et negativt tall. For $n\\geq 0$ skal den fortsatt returnere $n!$ som vanlig."
   ]
  },
  {
   "cell_type": "code",
   "execution_count": null,
   "metadata": {
    "autofeedback": {
     "test_code": "ZnJvbSB1bml0dGVzdC5tb2NrIGltcG9ydCBwYXRjaApmcm9tIGF1dG9mZWVkYmFjayBpbXBvcnQgRnVuY3Rpb25UZXN0cwpmcm9tIHJhbmRvbSBpbXBvcnQgc2FtcGxlLCByYW5kaW50CmZyb20gbnVtcHkgaW1wb3J0IGlzbmFuCgpkZWYgZmFrdWx0ZXRfc29sdXRpb24obik6CiAgICBpZiBuIDwgMDoKICAgICAgICByZXR1cm4gZmxvYXQoIm5hbiIpCiAgICBuX2Zha3VsdGV0ID0gMQogICAgZm9yIGkgaW4gcmFuZ2UoMSwgbisxKToKICAgICAgICBuX2Zha3VsdGV0Kj1pCiAgICByZXR1cm4gbl9mYWt1bHRldAoKZ3JhZGluZ19yZXN1bHRzID0gRnVuY3Rpb25UZXN0cyhmYWt1bHRldF9zb2x1dGlvbikKdHJ5OgogICAgZ3JhZGluZ19yZXN1bHRzLmFkZF90ZXN0X2Z1bmMoZmFrdWx0ZXQpCmV4Y2VwdCBFeGNlcHRpb24gYXMgZToKICAgIGdyYWRpbmdfcmVzdWx0cy5sb2cuYXBwZW5kKCJDb3VsZCBub3QgcnVuIHRlc3RzLCAiK2UuYXJnc1swXSkKZWxzZToKICAgIHhfdmFscyA9ICBzYW1wbGUobGlzdChyYW5nZSgxLCAxNSkpLCAxKSArIFswXQogICAgZm9yIHggaW4geF92YWxzOgogICAgICAgIHRyeToKICAgICAgICAgICAgIyBDaGVjayBmb3IgY2FsbHMgdG8gImFicyIgZnVuY3Rpb24KICAgICAgICAgICAgd2l0aCBwYXRjaCgibWF0aC5mYWN0b3JpYWwiKSBhcyBtb2NrX2ZhY3RvcmlhbDoKICAgICAgICAgICAgICAgIF8gPSBmYWt1bHRldCh4KQogICAgICAgIGV4Y2VwdCBFeGNlcHRpb24gYXMgZToKICAgICAgICAgICAgcGFzcwogICAgICAgIGZpbmFsbHk6CiAgICAgICAgICAgIGlmIG1vY2tfZmFjdG9yaWFsLmNhbGxlZDoKICAgICAgICAgICAgICAgIGdyYWRpbmdfcmVzdWx0cy5hZGRfcmVzdWx0KEZhbHNlLCBmIkJ1aWx0LWluIGZ1bmN0aW9uICdtYXRoLmZhY3RvcmlhbCgpJyBjYWxsZWQgZHVyaW5nIHRoZSBleGVjdXRpb24gb2YgZnVuY3Rpb24gY2FsbCAnYWJzX3ZhbHVlKHt4fSknIikKICAgICAgICAgICAgZWxzZToKICAgICAgICAgICAgICAgIGdyYWRpbmdfcmVzdWx0cy50ZXN0X3JldHVybl92YWx1ZSh4KQogICAgeF9uZWdhdGl2ZSA9IHJhbmRpbnQoLTEwLCAtMSkKICAgIHJldHVybl92YWx1ZSA9IGZha3VsdGV0KHhfbmVnYXRpdmUpCiAgICBpZiBpc25hbihyZXR1cm5fdmFsdWUpOgogICAgICAgIGdyYWRpbmdfcmVzdWx0cy5hZGRfcmVzdWx0KFRydWUsIGYiZnVuY3Rpb24gY2FsbCAnZmFjdG9yaWFsKHt4X25lZ2F0aXZlfSknIHJldHVybmVkICduYW4nIHdoaWNoIGlzIGV4cGVjdGVkIiwgd2d0ID0gMTApCiAgICBlbHNlOgogICAgICAgIGdyYWRpbmdfcmVzdWx0cy5hZGRfcmVzdWx0KEZhbHNlLCBmImZ1bmN0aW9uIGNhbGwgJ2ZhY3RvcmlhbCh7eF9uZWdhdGl2ZX0pJyBkaWQgbm90IHJldHVybiAnbmFuJyBhcyBleHBlY3RlZCIsIHdndCA9IDEwKQpyb3VuZChncmFkaW5nX3Jlc3VsdHMuZ2V0X3Jlc3VsdHMoKSo1LCAyKQ=="
    },
    "deletable": false,
    "editable": false,
    "execution": {
     "iopub.execute_input": "2024-08-28T17:39:12.867157Z",
     "iopub.status.busy": "2024-08-28T17:39:12.866632Z",
     "iopub.status.idle": "2024-08-28T17:39:12.899708Z",
     "shell.execute_reply": "2024-08-28T17:39:12.897055Z"
    },
    "nbgrader": {
     "cell_type": "code",
     "checksum": "827b73308cd0ee42b80dc1fcc0a2b4ff",
     "grade": true,
     "grade_id": "cell-41485ad0d5cad378",
     "locked": true,
     "points": 5,
     "schema_version": 3,
     "solution": false,
     "task": false
    }
   },
   "outputs": [],
   "source": []
  },
  {
   "cell_type": "markdown",
   "metadata": {
    "deletable": false,
    "editable": false
   },
   "source": [
    "<br>\n",
    "<nav class=\"navbar navbar-default\">\n",
    "        <div class=\"container-fluid\">\n",
    "            <div class=\"navbar-header\" style=\"float: left\">\n",
    "                <a class=\"navbar-brand\" href=\"7_Nedborsdata.ipynb\" target=\"_self\">&lt; Forrige side: <i>nedbørsdata</i></a>\n",
    "                </div>\n",
    "            <div class=\"navbar-header\" style=\"float: right\">\n",
    "                <a class=\"navbar-brand\" href=\"9_Hastighetsberegning.ipynb\" target=\"_self\">Neste side: <i>hastighetsberegning</i> &gt;</a>\n",
    "            </div>\n",
    "        </div>\n",
    "</nav>"
   ]
  }
 ],
 "metadata": {
  "kernelspec": {
   "display_name": "Python 3 (ipykernel)",
   "language": "python",
   "name": "python3"
  },
  "language_info": {
   "codemirror_mode": {
    "name": "ipython",
    "version": 3
   },
   "file_extension": ".py",
   "mimetype": "text/x-python",
   "name": "python",
   "nbconvert_exporter": "python",
   "pygments_lexer": "ipython3",
   "version": "3.11.6"
  },
  "toc": {
   "base_numbering": 1
  },
  "varInspector": {
   "cols": {
    "lenName": 16,
    "lenType": 16,
    "lenVar": 40
   },
   "kernels_config": {
    "python": {
     "delete_cmd_postfix": "",
     "delete_cmd_prefix": "del ",
     "library": "var_list.py",
     "varRefreshCmd": "print(var_dic_list())"
    },
    "r": {
     "delete_cmd_postfix": ") ",
     "delete_cmd_prefix": "rm(",
     "library": "var_list.r",
     "varRefreshCmd": "cat(var_dic_list()) "
    }
   },
   "types_to_exclude": [
    "module",
    "function",
    "builtin_function_or_method",
    "instance",
    "_Feature"
   ],
   "window_display": false
  }
 },
 "nbformat": 4,
 "nbformat_minor": 4
}
