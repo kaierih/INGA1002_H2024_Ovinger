{
 "cells": [
  {
   "cell_type": "markdown",
   "metadata": {
    "deletable": false,
    "editable": false
   },
   "source": [
    "\n",
    "<nav class=\"navbar navbar-default\">\n",
    "  <div class=\"container-fluid\">\n",
    "    <div class=\"navbar-header\" style=\"float: left\">\n",
    "        <a class=\"navbar-brand\" href=\"0_Forside.ipynb\" target=\"_self\"> <h2> &uarr; Tilbake til forsiden</h2></a>\n",
    "    </div>\n",
    "  </div>\n",
    "</nav>"
   ]
  },
  {
   "cell_type": "markdown",
   "metadata": {
    "deletable": false,
    "editable": false,
    "run_control": {
     "frozen": true
    },
    "slideshow": {
     "slide_type": ""
    },
    "tags": []
   },
   "source": [
    "# Mer om løkker - oppsamlingsløkker\n",
    "\n",
    "**Læringsmål:**\n",
    "\n",
    "* Løkker\n",
    "* Inkrementering\n",
    "* Matematiske rekkesummer i python\n",
    "\n",
    "**Oversikt:**\n",
    "* [Oppgave a) Sum as positive tall i liste](#oppg_6a)\n",
    "* [Oppgave b) Antall positive tall i liste](#oppg_6b)\n",
    "\n",
    "\n",
    "I denne oppgaven ser vi spesielt på løkker som samler opp et resultat underveis, og bruker denne kunnskapen til å analysere nedbørsdata fra det siste året i Ålesund. Hvis du har programmert noe før, vil dette være enkle oppgaver, men for deg som er helt uerfaren, se gjerne gjennom følgende tutorial om oppsamlingsløkker før du setter i gang:"
   ]
  },
  {
   "cell_type": "markdown",
   "metadata": {
    "deletable": false,
    "editable": false,
    "heading_collapsed": true,
    "run_control": {
     "frozen": true
    }
   },
   "source": [
    "### Tutorial om oppsamlingsløkker"
   ]
  },
  {
   "cell_type": "markdown",
   "metadata": {
    "deletable": false,
    "editable": true,
    "hidden": true,
    "run_control": {
     "frozen": true
    },
    "slideshow": {
     "slide_type": ""
    },
    "tags": []
   },
   "source": [
    "Ofte brukes løkker til å samle opp et resultat (f.eks. en tallverdi) som vi er interessert i å finne. Et enkelt eksempel på en oppsamlingsløkke, er et program som summerer alle tallene i en tallrekke $x_i$ med lengde $N$. Matematisk skriver vi dette med et summasjonstegn:\n",
    "\n",
    "$$\\sum_{i=0}^{N-1} x_i  = x_0 + x_1 + x_2 + \\cdots + x_{N-1}$$\n",
    "\n",
    "For å regne ut denne summen (uten bruk av funksjonen `sum()`) bruker vi en for-løkke som følger:"
   ]
  },
  {
   "cell_type": "code",
   "execution_count": null,
   "metadata": {
    "deletable": false,
    "editable": true,
    "execution": {
     "iopub.execute_input": "2024-09-04T09:46:12.477643Z",
     "iopub.status.busy": "2024-09-04T09:46:12.476769Z",
     "iopub.status.idle": "2024-09-04T09:46:12.773475Z",
     "shell.execute_reply": "2024-09-04T09:46:12.771153Z"
    },
    "hidden": true,
    "slideshow": {
     "slide_type": ""
    },
    "tags": []
   },
   "outputs": [],
   "source": [
    "import numpy as np\n",
    "x_verdier = np.array([4,1,6,3,9,2,1,7])\n",
    "summen = 0\n",
    "for x in x_verdier:\n",
    "    summen += x          # summen = summen + i\n",
    "print(f\"Summen av tallene {x_verdier} er: {summen}\")"
   ]
  },
  {
   "cell_type": "markdown",
   "metadata": {
    "deletable": false,
    "hidden": true,
    "run_control": {
     "frozen": true
    },
    "tags": []
   },
   "source": [
    "Variabelen **summen** er den som brukes til å samle opp resultatet underveis. Det kunne ha vært fristende å kalle variabelen bare sum, men dette er navnet på en standardfunksjon i Python og dermed ikke lurt å bruke som variabelnavn. Merk deg at summen må defineres **før** løkka, og der gis verdien 0 (fordi vi ikke har summert inn noen av tallene ennå). Dette fordi vi inni løkka ønsker å utføre summen = summen + 1 (som kortere kan skrives summen += 1), og et slikt uttrykk hvor summen også fins på høyre side av `=` kan bare fungere hvis den allerede har fått en verdi. Måten dette programmet funker på, er altså at vi starter med å gi summen verdi 0. Så begynner løkka, med x = 4, og vi legger til x (dvs. 4) til summen som da blir 4. Så blir x 1, som legges til summen, som nå blir 5. Så x=6, summen = 11. Så x=3, summen = 14, osv. Siste gang løkka kjøres er x=7 og summen blir 33, så avslutter løkka og vi printer resultatet på skjermen.\n",
    "\n",
    "Tilsvarende hvis vi skulle gange sammen alle tallene i $x_i$:"
   ]
  },
  {
   "cell_type": "code",
   "execution_count": null,
   "metadata": {
    "deletable": false,
    "execution": {
     "iopub.execute_input": "2024-09-04T09:46:12.782790Z",
     "iopub.status.busy": "2024-09-04T09:46:12.782015Z",
     "iopub.status.idle": "2024-09-04T09:46:12.793574Z",
     "shell.execute_reply": "2024-09-04T09:46:12.791101Z"
    },
    "hidden": true,
    "tags": []
   },
   "outputs": [],
   "source": [
    "produktet = 1\n",
    "for x in x_verdier:\n",
    "    produktet *= x         # produktet = produktet * i\n",
    "print(f\"Produktet av tallene {x_verdier} er: {produktet}\")"
   ]
  },
  {
   "cell_type": "markdown",
   "metadata": {
    "deletable": false,
    "hidden": true,
    "run_control": {
     "frozen": true
    },
    "tags": []
   },
   "source": [
    "Strukturelt er dette temmelig likt - en viktig forskjell er at når vi skal gange, blir riktig startverdi 1 (som er det tallet som ikke påvirker et produkt) mens det var 0 for summering."
   ]
  },
  {
   "cell_type": "markdown",
   "metadata": {
    "deletable": false,
    "editable": false,
    "run_control": {
     "frozen": true
    },
    "slideshow": {
     "slide_type": ""
    },
    "tags": []
   },
   "source": [
    "<a id=\"oppg_6a\"></a>\n",
    "## a)"
   ]
  },
  {
   "cell_type": "markdown",
   "metadata": {
    "deletable": false,
    "run_control": {
     "frozen": true
    }
   },
   "source": [
    "Lag en funksjon som ved hjelp av en løkke regner ut summen av kun de positive tallene i en array.\n",
    "\n",
    "***Skriv koden din her:***\n",
    "\n",
    "<!-- Til neste år: Husk å spesifisere at funksjonen skal returnere verdien!\n",
    "-->"
   ]
  },
  {
   "cell_type": "code",
   "execution_count": null,
   "metadata": {
    "deletable": false,
    "execution": {
     "iopub.execute_input": "2024-09-04T09:46:12.805509Z",
     "iopub.status.busy": "2024-09-04T09:46:12.803681Z",
     "iopub.status.idle": "2024-09-04T09:46:12.815087Z",
     "shell.execute_reply": "2024-09-04T09:46:12.812386Z"
    },
    "nbgrader": {
     "cell_type": "code",
     "checksum": "61f50845bcc11d37cfb6a09584041282",
     "grade": false,
     "grade_id": "cell-3c02c39e30c91dd1",
     "locked": false,
     "schema_version": 3,
     "solution": true,
     "task": false
    },
    "tags": []
   },
   "outputs": [],
   "source": [
    "def sum_positive(values):\n",
    "    #-------------------------------------\n",
    "    # SKRIV DIN KODE HER!\n",
    "    #-------------------------------------"
   ]
  },
  {
   "cell_type": "markdown",
   "metadata": {
    "deletable": false
   },
   "source": [
    "**Eksempel på funksjonskall:**"
   ]
  },
  {
   "cell_type": "code",
   "execution_count": null,
   "metadata": {
    "autofeedback": {
     "test_code": "ZnJvbSBhdXRvZmVlZGJhY2sgaW1wb3J0IEZ1bmN0aW9uVGVzdHMKZnJvbSByYW5kb20gaW1wb3J0IHJhbmRpbnQKZGVmIHN1bV9wb3NpdGl2ZV9zb2x1dGlvbih2YWx1ZXMpOgogICAgcG9zaXRpdmVfc3VtID0gMAogICAgZm9yIHggaW4gdmFsdWVzOgogICAgICAgIGlmKHggPiAwKToKICAgICAgICAgICAgcG9zaXRpdmVfc3VtICs9IHgKICAgIHJldHVybiBwb3NpdGl2ZV9zdW0KCmdyYWRpbmdfcmVzdWx0cyA9IEZ1bmN0aW9uVGVzdHMoc3VtX3Bvc2l0aXZlX3NvbHV0aW9uKQp0cnk6CiAgICBncmFkaW5nX3Jlc3VsdHMuYWRkX3Rlc3RfZnVuYyhzdW1fcG9zaXRpdmUpCmV4Y2VwdCBFeGNlcHRpb24gYXMgZToKICAgIGdyYWRpbmdfcmVzdWx0cy5sb2cuYXBwZW5kKCJDb3VsZCBub3QgcnVuIHRlc3RzLCAiK2UuYXJnc1swXSkKZWxzZToKICAgIE4gPSAyCiAgICBzdGFydCA9IFtyYW5kaW50KC0xMCwgLTEpIGZvciBfIGluIHJhbmdlKE4pXQogICAgc3RvcCA9IFtyYW5kaW50KDEsIDEwKSBmb3IgXyBpbiByYW5nZShOKV0KICAgIAogICAgZm9yIGEsIGIgaW4gemlwKHN0YXJ0LCBzdG9wKToKICAgICAgICBhcnJheSA9IGxpc3QocmFuZ2UoYSwgYisxKSkKICAgICAgICBncmFkaW5nX3Jlc3VsdHMudGVzdF9yZXR1cm5fdmFsdWUoYXJyYXkpCgpyb3VuZChncmFkaW5nX3Jlc3VsdHMuZ2V0X3Jlc3VsdHMoKSo1LCAyKQ=="
    },
    "deletable": false,
    "editable": false,
    "execution": {
     "iopub.execute_input": "2024-09-04T09:46:12.852539Z",
     "iopub.status.busy": "2024-09-04T09:46:12.850935Z",
     "iopub.status.idle": "2024-09-04T09:46:14.397781Z",
     "shell.execute_reply": "2024-09-04T09:46:14.395414Z"
    },
    "nbgrader": {
     "cell_type": "code",
     "checksum": "7c7346c543c8c56c376b4cd30216ca45",
     "grade": true,
     "grade_id": "cell-be9796a73855f803",
     "locked": true,
     "points": 5,
     "schema_version": 3,
     "solution": false,
     "task": false
    },
    "slideshow": {
     "slide_type": ""
    },
    "tags": []
   },
   "outputs": [],
   "source": [
    "print(f\"{sum_positive([-5, -4, -3, -2, -1,  0,  1,  2,  3,  4,  5]) = }\")\n",
    "print(f\"{sum_positive([-8, -6, -4, -2,  0,  2,  4]) = }\")"
   ]
  },
  {
   "cell_type": "markdown",
   "metadata": {
    "deletable": false
   },
   "source": [
    "Forventet utskrift ved riktig løsning:<br>\n",
    "`sum_positive([-5, -4, -3, -2, -1,  0,  1,  2,  3,  4,  5]) = 15`<br>\n",
    "`sum_positive([-8, -6, -4, -2,  0,  2,  4]) = 6`"
   ]
  },
  {
   "cell_type": "markdown",
   "metadata": {
    "deletable": false,
    "editable": false,
    "heading_collapsed": true,
    "run_control": {
     "frozen": true
    }
   },
   "source": [
    "#### Hint"
   ]
  },
  {
   "cell_type": "markdown",
   "metadata": {
    "deletable": false,
    "editable": false,
    "hidden": true,
    "run_control": {
     "frozen": true
    }
   },
   "source": [
    "Du vil trenge en variabel til å summere inn ett og ett nytt tall for hver runde av løkka. Husk at denne variabelen må være opprettet og gitt en passende startverdi før løkka, ellers vil du ikke klare å bruke den i løkka."
   ]
  },
  {
   "cell_type": "markdown",
   "metadata": {
    "deletable": false,
    "run_control": {
     "frozen": true
    }
   },
   "source": [
    "<a id=\"oppg_6b\"></a>\n",
    "## b)"
   ]
  },
  {
   "cell_type": "markdown",
   "metadata": {
    "deletable": false,
    "run_control": {
     "frozen": true
    }
   },
   "source": [
    "Lag en funksjon som teller hvor mange positive (dvs. $x \\geq 0$) tall det er i en array.\n",
    "\n",
    "***Skriv koden din her:***"
   ]
  },
  {
   "cell_type": "code",
   "execution_count": null,
   "metadata": {
    "ExecuteTime": {
     "end_time": "2019-07-02T12:56:17.761917Z",
     "start_time": "2019-07-02T12:56:17.756785Z"
    },
    "deletable": false,
    "editable": true,
    "execution": {
     "iopub.execute_input": "2024-09-04T09:46:14.405391Z",
     "iopub.status.busy": "2024-09-04T09:46:14.404332Z",
     "iopub.status.idle": "2024-09-04T09:46:14.413644Z",
     "shell.execute_reply": "2024-09-04T09:46:14.411558Z"
    },
    "nbgrader": {
     "cell_type": "code",
     "checksum": "78dbc0f62cdb2958d5f6681f27ae4b6e",
     "grade": false,
     "grade_id": "cell-02d7e729cc807bc2",
     "locked": false,
     "schema_version": 3,
     "solution": true,
     "task": false
    },
    "slideshow": {
     "slide_type": ""
    },
    "tags": []
   },
   "outputs": [],
   "source": [
    "def count_positive(values):\n",
    "    #-------------------------------------\n",
    "    # SKRIV DIN KODE HER!\n",
    "    #-------------------------------------"
   ]
  },
  {
   "cell_type": "markdown",
   "metadata": {
    "deletable": false
   },
   "source": [
    "**Eksempel på funksjonskall:**"
   ]
  },
  {
   "cell_type": "code",
   "execution_count": null,
   "metadata": {
    "autofeedback": {
     "test_code": "ZnJvbSBhdXRvZmVlZGJhY2sgaW1wb3J0IEZ1bmN0aW9uVGVzdHMKZnJvbSByYW5kb20gaW1wb3J0IHJhbmRpbnQKZGVmIGNvdW50X3Bvc2l0aXZlX3NvbHV0aW9uKHZhbHVlcyk6CiAgICBwb3NpdGl2ZV9jb3VudCA9IDAKICAgIGZvciB4IGluIHZhbHVlczoKICAgICAgICBpZiAoeCA+PSAwKToKICAgICAgICAgICAgcG9zaXRpdmVfY291bnQgKz0gMQogICAgcmV0dXJuIHBvc2l0aXZlX2NvdW50CgpncmFkaW5nX3Jlc3VsdHMgPSBGdW5jdGlvblRlc3RzKGNvdW50X3Bvc2l0aXZlX3NvbHV0aW9uKQp0cnk6CiAgICBncmFkaW5nX3Jlc3VsdHMuYWRkX3Rlc3RfZnVuYyhjb3VudF9wb3NpdGl2ZSkKZXhjZXB0IEV4Y2VwdGlvbiBhcyBlOgogICAgZ3JhZGluZ19yZXN1bHRzLmxvZy5hcHBlbmQoIkNvdWxkIG5vdCBydW4gdGVzdHMsICIrZS5hcmdzWzBdKQplbHNlOgogICAgTiA9IDIKICAgIHN0YXJ0ID0gW3JhbmRpbnQoLTEwLCAtMSkgZm9yIF8gaW4gcmFuZ2UoTildCiAgICBzdG9wID0gW3JhbmRpbnQoMSwgMTApIGZvciBfIGluIHJhbmdlKE4pXQogICAgCiAgICBmb3IgYSwgYiBpbiB6aXAoc3RhcnQsIHN0b3ApOgogICAgICAgIGFycmF5ID0gbGlzdChyYW5nZShhLCBiKzEpKQogICAgICAgIGdyYWRpbmdfcmVzdWx0cy50ZXN0X3JldHVybl92YWx1ZShhcnJheSkKCnJvdW5kKGdyYWRpbmdfcmVzdWx0cy5nZXRfcmVzdWx0cygpKjUsIDIp"
    },
    "deletable": false,
    "editable": false,
    "execution": {
     "iopub.execute_input": "2024-09-04T09:46:14.419871Z",
     "iopub.status.busy": "2024-09-04T09:46:14.419446Z",
     "iopub.status.idle": "2024-09-04T09:46:14.475231Z",
     "shell.execute_reply": "2024-09-04T09:46:14.473205Z"
    },
    "nbgrader": {
     "cell_type": "code",
     "checksum": "d93419d639a90616dd740e7f9e138085",
     "grade": true,
     "grade_id": "cell-e41b3f506c7f86e1",
     "locked": true,
     "points": 5,
     "schema_version": 3,
     "solution": false,
     "task": false
    },
    "slideshow": {
     "slide_type": ""
    },
    "tags": []
   },
   "outputs": [],
   "source": [
    "print(f\"{count_positive([-5, -4, -3, -2, -1,  0,  1,  2,  3,  4,  5]) = }\")\n",
    "print(f\"{count_positive([-8, -6, -4, -2,  0,  2,  4]) = }\")"
   ]
  },
  {
   "cell_type": "markdown",
   "metadata": {
    "deletable": false,
    "editable": true,
    "slideshow": {
     "slide_type": ""
    },
    "tags": []
   },
   "source": [
    "Forventet utskrift ved riktig løsning:<br>\n",
    "`count_positive([-5, -4, -3, -2, -1,  0,  1,  2,  3,  4,  5]) = 6`<br>\n",
    "`count_positive([-8, -6, -4, -2,  0,  2,  4]) = 3`"
   ]
  },
  {
   "cell_type": "markdown",
   "metadata": {
    "deletable": false,
    "editable": false
   },
   "source": [
    "<br>\n",
    "<nav class=\"navbar navbar-default\">\n",
    "        <div class=\"container-fluid\">\n",
    "            <div class=\"navbar-header\" style=\"float: left\">\n",
    "                <a class=\"navbar-brand\" href=\"5_Primtall.ipynb\" target=\"_self\">&lt; Forrige side: <i>primtall</i></a>\n",
    "                </div>\n",
    "            <div class=\"navbar-header\" style=\"float: right\">\n",
    "                <a class=\"navbar-brand\" href=\"7_Nedborsdata.ipynb\" target=\"_self\">Neste side: <i>nedbørsdata</i> &gt;</a>\n",
    "            </div>\n",
    "        </div>\n",
    "</nav>"
   ]
  }
 ],
 "metadata": {
  "kernelspec": {
   "display_name": "Python 3 (ipykernel)",
   "language": "python",
   "name": "python3"
  },
  "language_info": {
   "codemirror_mode": {
    "name": "ipython",
    "version": 3
   },
   "file_extension": ".py",
   "mimetype": "text/x-python",
   "name": "python",
   "nbconvert_exporter": "python",
   "pygments_lexer": "ipython3",
   "version": "3.11.6"
  },
  "toc": {
   "base_numbering": 1,
   "nav_menu": {},
   "number_sections": false,
   "sideBar": true,
   "skip_h1_title": false,
   "title_cell": "Table of Contents",
   "title_sidebar": "Contents",
   "toc_cell": false,
   "toc_position": {},
   "toc_section_display": true,
   "toc_window_display": false
  }
 },
 "nbformat": 4,
 "nbformat_minor": 4
}
