{
 "cells": [
  {
   "cell_type": "markdown",
   "metadata": {
    "deletable": false,
    "editable": false
   },
   "source": [
    "\n",
    "<nav class=\"navbar navbar-default\">\n",
    "  <div class=\"container-fluid\">\n",
    "    <div class=\"navbar-header\" style=\"float: left\">\n",
    "        <a class=\"navbar-brand\" href=\"0_Forside.ipynb\" target=\"_self\"> <h2> &uarr; Tilbake til forsiden</h2></a>\n",
    "    </div>\n",
    "  </div>\n",
    "</nav>"
   ]
  },
  {
   "cell_type": "markdown",
   "metadata": {
    "deletable": false,
    "editable": false,
    "run_control": {
     "frozen": true
    },
    "slideshow": {
     "slide_type": ""
    },
    "tags": []
   },
   "source": [
    "# Ulike typer if-setninger\n",
    "\n",
    "**Læringsmål:**\n",
    "\n",
    "- Betingelser i Python og matematikk\n",
    "- Kontrollflyt med if, elif, else\n",
    "\n",
    "**Oversikt:**\n",
    "* [Oppgave a) if setinger](#oppg_1a)\n",
    "* [Oppgave b) if-else setinger](#oppg_1b)\n",
    "* [Oppgave c) if-elif-else setinger](#oppg_1c)"
   ]
  },
  {
   "cell_type": "markdown",
   "metadata": {
    "deletable": false,
    "editable": false,
    "heading_collapsed": true,
    "run_control": {
     "frozen": true
    },
    "slideshow": {
     "slide_type": ""
    },
    "tags": []
   },
   "source": [
    "## Generelt om if-setninger\n",
    "Dette er ikke en del av oppgaven, men kan være lurt å lese før du begynnner. **Trykk på pilen til venstre for å lese**"
   ]
  },
  {
   "cell_type": "markdown",
   "metadata": {
    "ExecuteTime": {
     "end_time": "2019-07-01T08:54:49.298821Z",
     "start_time": "2019-07-01T08:54:49.289265Z"
    },
    "deletable": false,
    "editable": false,
    "hidden": true,
    "run_control": {
     "frozen": true
    }
   },
   "source": [
    "I oppgavene i øving 1 og 2 har det vært slik at alle setningene i programmet skulle utføres hver gang programmet kjørte. De fleste nyttige programmer er ikke så enkle. Ofte skal visse programsetninger kun utføres under gitte betingelser. Overtidslønn skal utbetales bare hvis det har vært jobbet overtid. Monsteret du kjemper mot i et spill, skal miste liv bare hvis skuddet eller sverdslaget ditt har truffet. En alarm skal aktiveres bare hvis pasientens hjerterytme er blitt unormal. En sosial app på mobilen skal gi et spesielt varsel bare hvis du har fått nye meldinger der. Funksjonen nedenfor viser et eksempel hvor alle linjene blir utført uavhengig av hva som gis som input - denne funksjonen vil anbefale paraply uansett hvor mye nedbør som er meldt."
   ]
  },
  {
   "cell_type": "code",
   "execution_count": null,
   "metadata": {
    "ExecuteTime": {
     "end_time": "2019-07-01T08:54:49.298821Z",
     "start_time": "2019-07-01T08:54:49.289265Z"
    },
    "deletable": false,
    "execution": {
     "iopub.execute_input": "2024-08-28T17:38:20.980897Z",
     "iopub.status.busy": "2024-08-28T17:38:20.978261Z",
     "iopub.status.idle": "2024-08-28T17:38:21.006588Z",
     "shell.execute_reply": "2024-08-28T17:38:21.003057Z"
    },
    "hidden": true
   },
   "outputs": [],
   "source": [
    "def paraply_simpel(regn):\n",
    "    print(f\"Regn i mm: {regn}\")\n",
    "    print(\"Da anbefaler jeg paraply!\")\n",
    "    print(\"Ha en fin tur til universitetet!\")\n",
    "\n",
    "paraply_simpel(0.1)"
   ]
  },
  {
   "cell_type": "markdown",
   "metadata": {
    "ExecuteTime": {
     "end_time": "2019-07-01T08:54:49.298821Z",
     "start_time": "2019-07-01T08:54:49.289265Z"
    },
    "deletable": false,
    "editable": false,
    "hidden": true,
    "run_control": {
     "frozen": true
    }
   },
   "source": [
    "Paraply bør anbefales bare ved behov, f.eks. hvis det var meldt mer enn 0.2 mm regn. Det oppnår vi ved å inkludere en if-setning i funksjonen som undersøker hvor mye regn det er meldt:"
   ]
  },
  {
   "cell_type": "code",
   "execution_count": null,
   "metadata": {
    "deletable": false,
    "editable": true,
    "execution": {
     "iopub.execute_input": "2024-08-28T17:38:21.018385Z",
     "iopub.status.busy": "2024-08-28T17:38:21.017392Z",
     "iopub.status.idle": "2024-08-28T17:38:21.051926Z",
     "shell.execute_reply": "2024-08-28T17:38:21.048650Z"
    },
    "slideshow": {
     "slide_type": ""
    },
    "tags": []
   },
   "outputs": [],
   "source": [
    "def paraply_anbefaling(regn):\n",
    "    print(f\"Regn i mm: {regn}\")\n",
    "    \n",
    "    if regn > 0.2:\n",
    "        return \"Ja\"\n",
    "    return \"Nei\"\n",
    "\n",
    "# Vi tester funksjonen med mindre enn 0.2 mm regn meldt.\n",
    "anbefaling = paraply_anbefaling(0.1)\n",
    "print(f\"Jeg burde bruke paraply i dag: {anbefaling}\")\n",
    "\n",
    "# Vi tester funksjonen med mer enn 0.2 mm regn meldt.\n",
    "anbefaling = paraply_anbefaling(0.3)\n",
    "print(f\"Jeg burde bruke paraply i dag: {anbefaling}\")"
   ]
  },
  {
   "cell_type": "markdown",
   "metadata": {
    "ExecuteTime": {
     "end_time": "2019-07-01T08:54:49.298821Z",
     "start_time": "2019-07-01T08:54:49.289265Z"
    },
    "deletable": false,
    "editable": false,
    "hidden": true,
    "run_control": {
     "frozen": true
    }
   },
   "source": [
    "Den ovenstående funksjonen viser en if-setning. Den har følgende struktur:\n",
    "\n",
    "- starter med ordet `if`, dette er et beskyttet ord i Python og kan derfor ikke brukes som variabelnavn e.l.\n",
    "- bak if kommer en logisk betingelse - i dette tilfellet `regn > 0.2` - som vil være enten sann (`True`) eller usann (`False`), her avhengig av innholdet i variabelen regn\n",
    "- bak betingelsen **må** if-setningen ha `:` **(kolon)** - hvis du glemmer kolon vil du få syntaksfeil. \n",
    "- kodelinjen like under if har et innrykk (tabulator), dette betyr at denne linjen - `return \"Ja\"` - er del av if-setningen. Den vil bli utført **kun hvis betingelsen i if-setningen er sann**, som vil inntreffe hvis brukeren skriver inn et større tall enn 0.2\n",
    "- siste kodelinje, `return \"Nei\"` har ikke innrykk, og vil utføres dersom det ikke har blitt returnert noe fra funksjonen enda, med andre ord, dersom `if`-blokken ikke ble gjennomført\n",
    "\n",
    "Når vi er ferdig med å lage funksjonen bruker vi to separate funksjonskall med 0.1mm regn meldt, og 0.3 mm regn meldt. Da får vi bekreftet at funkjsonen vår gir den anbefalingen vi ønsker både i tilfellet hvor nedbør er mindre enn 0.2 mm ***og*** i tilfellet hvor nedbør er mre enn 0.2 mm."
   ]
  },
  {
   "cell_type": "markdown",
   "metadata": {
    "ExecuteTime": {
     "end_time": "2019-07-01T08:54:49.298821Z",
     "start_time": "2019-07-01T08:54:49.289265Z"
    },
    "deletable": false,
    "editable": false,
    "hidden": true,
    "run_control": {
     "frozen": true
    }
   },
   "source": [
    "Det er mulig å ha flere programsetninger som del av if-setningen, for eksempel:"
   ]
  },
  {
   "cell_type": "code",
   "execution_count": null,
   "metadata": {
    "ExecuteTime": {
     "end_time": "2019-07-01T08:54:49.298821Z",
     "start_time": "2019-07-01T08:54:49.289265Z"
    },
    "deletable": false,
    "editable": true,
    "execution": {
     "iopub.execute_input": "2024-08-28T17:38:21.065452Z",
     "iopub.status.busy": "2024-08-28T17:38:21.062432Z",
     "iopub.status.idle": "2024-08-28T17:38:21.078587Z",
     "shell.execute_reply": "2024-08-28T17:38:21.075678Z"
    },
    "hidden": true,
    "slideshow": {
     "slide_type": ""
    },
    "tags": []
   },
   "outputs": [],
   "source": [
    "def paraply_if(regn):\n",
    "    print(f\"Regn i mm: {regn}\")\n",
    "    \n",
    "    if regn > 0.2:\n",
    "        print(\"Da anbefaler jeg paraply!\")\n",
    "        print(\"Gjerne en paraply med NTNU-logo.\")\n",
    "    print(\"Ha en fin tur til universitetet!\")\n",
    "\n",
    "paraply_if(0.3)"
   ]
  },
  {
   "cell_type": "markdown",
   "metadata": {
    "ExecuteTime": {
     "end_time": "2019-07-01T08:54:49.298821Z",
     "start_time": "2019-07-01T08:54:49.289265Z"
    },
    "deletable": false,
    "editable": false,
    "hidden": true,
    "run_control": {
     "frozen": true
    }
   },
   "source": [
    "Her vil begge \"print\"-setningene om paraply kun bli utført hvis betingelsen er sann, mens \"fin tur\"-setningen fortsatt blir utført uansett utfall av if-setningen.\n",
    "\n",
    "**Altså: I Python viser innrykk hvor mange av de påfølgende setningene som styres av if-betingelsen.** Det er derfor viktig å være nøye med innrykkene og få alle programsetninger på korrekt indentasjonsnivå.\n",
    "\n",
    "Test gjerne ut koden over med forskjellige svar på mm regn for å se hvordan den virker."
   ]
  },
  {
   "cell_type": "markdown",
   "metadata": {
    "deletable": false,
    "editable": false,
    "slideshow": {
     "slide_type": ""
    },
    "tags": []
   },
   "source": [
    "### Eksempel på bruk av if-setninger i matematikk: *betingede funksjoner*\n",
    "I den matematiske verden er det en rekke funksjoner som har ulike funksjonsuttrykk for ulike input-verdier. Nedenfor ser du et eksempel på et formeluttrykk for funksjonen $f(x) = |x|$ som regner ut absoluttverdien til $x$ beskrevet med betingelser:\n",
    "\n",
    "$$ \n",
    "\\begin{align}\n",
    "f(x) &= |x| \\\\\n",
    " &= \\begin{cases}\n",
    "x, & x \\geq 0\\\\ -x, & x < 0 \n",
    "\\end{cases}\n",
    "\\end{align}$$\n",
    "\n",
    "Den nederste linjen i formelen her beskriver altså at $f(x) = x$ *dersom* $x$ er et positivt tall, og $f(x) = -x$ *dersom* $x$ er et negativt tall.\n"
   ]
  },
  {
   "cell_type": "markdown",
   "metadata": {
    "deletable": false,
    "editable": false,
    "slideshow": {
     "slide_type": ""
    },
    "tags": []
   },
   "source": [
    "<a id=\"oppg_1a\"></a>\n",
    "## a)"
   ]
  },
  {
   "cell_type": "markdown",
   "metadata": {
    "deletable": false,
    "editable": false
   },
   "source": [
    "Nedenfor er en funksjon som skal returnere absoluttverdien til ett tall. Personen som skulle implementere funksjonen rakk desverre ikke bli ferdig, så din jobb er å fullføre funksjonen *uten* å bruke ferdige funksjoner som [`abs`](https://docs.python.org/3/library/functions.html#abs).\n",
    "\n",
    "\n",
    "$$\n",
    "|x| = \\begin{cases} x, & x \\geq 0 \\\\ -x, & x < 0 \\end{cases}\n",
    "$$\n",
    "Absoluttverdi vil gjøre om negative tall til positive, mens positive vil holde seg positive. Eksempel på hvordan resultatet skal se ut kan være slik:\n",
    "```Python\n",
    "abs_value(5)\n",
    "```\n",
    "Returverdi: `5`\n",
    "\n",
    "```Python\n",
    "abs_value(-17)\n",
    "```\n",
    "Returverdi: `17`\n",
    "\n",
    "Hint: bruk en `if`-setning til å endre på verdien til `x` dersom `x < 0`. \n",
    "\n",
    "[https://nbgrader.readthedocs.io/en/stable/user_guide/autograding_resources.html](https://nbgrader.readthedocs.io/en/stable/user_guide/autograding_resources.html)"
   ]
  },
  {
   "cell_type": "code",
   "execution_count": null,
   "metadata": {
    "deletable": false,
    "editable": true,
    "execution": {
     "iopub.execute_input": "2024-08-28T17:38:21.090876Z",
     "iopub.status.busy": "2024-08-28T17:38:21.089948Z",
     "iopub.status.idle": "2024-08-28T17:38:21.103640Z",
     "shell.execute_reply": "2024-08-28T17:38:21.100393Z"
    },
    "nbgrader": {
     "cell_type": "code",
     "checksum": "971ffc2527e3f5ac402b167c6a47ea3b",
     "grade": false,
     "grade_id": "cell-b79277552df10098",
     "locked": false,
     "schema_version": 3,
     "solution": true,
     "task": false
    },
    "slideshow": {
     "slide_type": ""
    },
    "tags": []
   },
   "outputs": [],
   "source": [
    "def abs_value(x):\n",
    "    #-------------------------------------\n",
    "    # SKRIV DIN KODE HER!\n",
    "    #-------------------------------------"
   ]
  },
  {
   "cell_type": "code",
   "execution_count": null,
   "metadata": {
    "autofeedback": {
     "test_code": "ZnJvbSB1bml0dGVzdC5tb2NrIGltcG9ydCBwYXRjaApmcm9tIGF1dG9mZWVkYmFjayBpbXBvcnQgRnVuY3Rpb25UZXN0cwpmcm9tIHJhbmRvbSBpbXBvcnQgc2FtcGxlCgpkZWYgYWJzX3ZhbHVlX3NvbHV0aW9uKHgpOgogICAgcmV0dXJuIGFicyh4KQoKZ3JhZGluZ19yZXN1bHRzID0gRnVuY3Rpb25UZXN0cyhhYnNfdmFsdWVfc29sdXRpb24pCnRyeToKICAgIGdyYWRpbmdfcmVzdWx0cy5hZGRfdGVzdF9mdW5jKGFic192YWx1ZSkKZXhjZXB0IEV4Y2VwdGlvbiBhcyBlOgogICAgZ3JhZGluZ19yZXN1bHRzLmxvZy5hcHBlbmQoIkNvdWxkIG5vdCBydW4gdGVzdHMsICIrZS5hcmdzWzBdKQplbHNlOgogICAgeF92YWxzID0gc2FtcGxlKGxpc3QocmFuZ2UoLTIwLCAyMSkpLCA1KQogICAgZm9yIHggaW4geF92YWxzOgogICAgICAgIHRyeToKICAgICAgICAgICAgIyBDaGVjayBmb3IgY2FsbHMgdG8gImFicyIgZnVuY3Rpb24KICAgICAgICAgICAgd2l0aCBwYXRjaChmIntfX25hbWVfX30uYWJzIikgYXMgbW9ja19hYnM6CiAgICAgICAgICAgICAgICBfID0gYWJzX3ZhbHVlKHgpCiAgICAgICAgZXhjZXB0IEV4Y2VwdGlvbiBhcyBlOgogICAgICAgICAgICBwYXNzCiAgICAgICAgZmluYWxseToKICAgICAgICAgICAgaWYgbW9ja19hYnMuY2FsbGVkOgogICAgICAgICAgICAgICAgZ3JhZGluZ19yZXN1bHRzLmFkZF9yZXN1bHQoRmFsc2UsIGYiQnVpbHQtaW4gZnVuY3Rpb24gJ2FicygpJyBjYWxsZWQgZHVyaW5nIHRoZSBleGVjdXRpb24gb2YgZnVuY3Rpb24gY2FsbCAnYWJzX3ZhbHVlKHt4fSknIikKICAgICAgICAgICAgZWxzZToKICAgICAgICAgICAgICAgIGdyYWRpbmdfcmVzdWx0cy50ZXN0X3JldHVybl92YWx1ZSh4KQoKcm91bmQoZ3JhZGluZ19yZXN1bHRzLmdldF9yZXN1bHRzKCkqMywgMik="
    },
    "deletable": false,
    "editable": false,
    "execution": {
     "iopub.execute_input": "2024-08-28T17:38:21.155075Z",
     "iopub.status.busy": "2024-08-28T17:38:21.154137Z",
     "iopub.status.idle": "2024-08-28T17:38:23.276017Z",
     "shell.execute_reply": "2024-08-28T17:38:23.272530Z"
    },
    "nbgrader": {
     "cell_type": "code",
     "checksum": "207a7024ec491979574267cb3248dd18",
     "grade": true,
     "grade_id": "cell-6aa7a7dff87b6697",
     "locked": true,
     "points": 3,
     "schema_version": 3,
     "solution": false,
     "task": false
    },
    "slideshow": {
     "slide_type": ""
    },
    "tags": []
   },
   "outputs": [],
   "source": []
  },
  {
   "cell_type": "markdown",
   "metadata": {
    "deletable": false,
    "editable": false,
    "heading_collapsed": true,
    "run_control": {
     "frozen": true
    },
    "slideshow": {
     "slide_type": ""
    },
    "tags": []
   },
   "source": [
    "## Generelt om if-else-setninger\n",
    "Dette er ikke en del av oppgaven, men kan være lurt å lese før du går videre. **Trykk på pilen til venstre for å lese**"
   ]
  },
  {
   "cell_type": "markdown",
   "metadata": {
    "deletable": false,
    "editable": false,
    "hidden": true,
    "run_control": {
     "frozen": true
    }
   },
   "source": [
    "I eksemplene knyttet til (a) og (b) skulle vi gjøre noe ekstra hvis en betingelse var sann, ellers la være. I andre tilfeller kan vi ønske å gjøre en handling hvis betingelsen er sann, og en alternativ handling hvis den er usann.\n",
    "\n",
    "Det kan vi oppnå med en **if-else**-setning. Eksemplet nedenfor bygger videre på tilsvarende eksempel for if-setninger."
   ]
  },
  {
   "cell_type": "code",
   "execution_count": null,
   "metadata": {
    "ExecuteTime": {
     "start_time": "2019-07-01T10:30:04.105Z"
    },
    "deletable": false,
    "execution": {
     "iopub.execute_input": "2024-08-28T17:38:23.287242Z",
     "iopub.status.busy": "2024-08-28T17:38:23.284754Z",
     "iopub.status.idle": "2024-08-28T17:38:23.304793Z",
     "shell.execute_reply": "2024-08-28T17:38:23.302285Z"
    },
    "hidden": true
   },
   "outputs": [],
   "source": [
    "def paraply_if_else(regn):\n",
    "    print(f\"Regn i mm: {regn}\")\n",
    "    \n",
    "    if regn > 0.2:\n",
    "        anbefaling = \"Ja\"\n",
    "    else:\n",
    "        anbefaling = \"Nei\"\n",
    "    hilsen = \"Ha en fin tur til universitetet!\"\n",
    "    return anbefaling, hilsen\n",
    "\n",
    "anbefaling, hilsen = paraply_if_else(0.0)\n",
    "\n",
    "print(f\"Jeg burde bruke paraply i dag: {anbefaling}\")\n",
    "print(hilsen)"
   ]
  },
  {
   "cell_type": "markdown",
   "metadata": {
    "deletable": false,
    "editable": false,
    "hidden": true,
    "run_control": {
     "frozen": true
    }
   },
   "source": [
    "I dette eksemplet vil følgende skje hvis vi svarer mer enn 0.2 mm nedbør slik at betingelsen blir sann:\n",
    "\n",
    "**Eksempel på kjøring med over 0.3 mm nedbør:**\n",
    "```\n",
    "paraply_if_else(0.3)\n",
    "\n",
    "Output:\n",
    "Jeg burde bruke paraply i dag: Ja\n",
    "Ha en fin tur til universitetet!\n",
    "```\n",
    "\n",
    "Svares det derimot et lavere tall, slik at betingelsen blir usann, skjer følgende:\n",
    "\n",
    "**Eksempel på kjøring med under 0.0 mm nedbør:**  \n",
    "```\n",
    "paraply_if_else(0.0)\n",
    "\n",
    "Output:\n",
    "Jeg burde bruke paraply i dag: Nei\n",
    "Ha en fin tur til universitetet!\n",
    "```\n",
    "\n",
    "Altså:\n",
    "- Anbefalingen settes til \"Ja\" under `if`-uttrykket bare hvis betingelsen er sann.\n",
    "- Setningen som står på innrykk under `else` blir utført bare hvis betingelsen er usann (kunne også hatt flere setninger på innrykk etter `else`).\n",
    "- Den siste hilsenen, som ikke har innrykk (Ha en fin tur...), blir returnert uansett."
   ]
  },
  {
   "cell_type": "markdown",
   "metadata": {
    "deletable": false,
    "editable": false,
    "run_control": {
     "frozen": true
    },
    "slideshow": {
     "slide_type": ""
    },
    "tags": []
   },
   "source": [
    "<a id=\"oppg_1b\"></a>\n",
    "## b)"
   ]
  },
  {
   "cell_type": "markdown",
   "metadata": {
    "deletable": false,
    "editable": false,
    "run_control": {
     "frozen": true
    },
    "slideshow": {
     "slide_type": ""
    },
    "tags": []
   },
   "source": [
    "Som kjent er det en dårlig idé å dele på 0 i matematikken, noe som kan skape problemer når vi prøver å regne ut funksjonen $g(x)$ nedenfor gitt $x=0$. I denne oppgaven skal du implementere en funksjon som genererer riktig output for den matematiske funksjonen for alle verdier av $x$, der $f(x) = 1$ når $x = 0$:\n",
    "\n",
    "$$g(x) = \\frac{\\sin(x)}{x}$$\n",
    "\n",
    "Heldigvis er det mulig å finne $g(0)$ med bruk av grenseverdier, og løsningen blir at vi da kan skrive uttrykket for $g(x)$ som en betinget funksjon:\n",
    "\n",
    "$$g(x) = \\begin{cases}\n",
    "1, & x = 0 \\\\ \\\\\n",
    "\\frac{\\sin(x)}{x}, & x \\neq 0\n",
    "\\end{cases}\n",
    "$$\n",
    "**Bruk en `if-else` setning til å skrive den matematiske funksjonen $g(x)$ med Python:**\n"
   ]
  },
  {
   "cell_type": "code",
   "execution_count": null,
   "metadata": {
    "deletable": false,
    "execution": {
     "iopub.execute_input": "2024-08-28T17:38:23.312129Z",
     "iopub.status.busy": "2024-08-28T17:38:23.311510Z",
     "iopub.status.idle": "2024-08-28T17:38:23.350069Z",
     "shell.execute_reply": "2024-08-28T17:38:23.346716Z"
    },
    "nbgrader": {
     "cell_type": "code",
     "checksum": "77ce84b3257c6ddff918718d631fa1ca",
     "grade": false,
     "grade_id": "cell-3b4c4729e9ba2478",
     "locked": false,
     "schema_version": 3,
     "solution": true,
     "task": false
    }
   },
   "outputs": [],
   "source": [
    "import numpy as np\n",
    "def g(x):\n",
    "    #-------------------------------------\n",
    "    # SKRIV DIN KODE HER!\n",
    "    #-------------------------------------"
   ]
  },
  {
   "cell_type": "code",
   "execution_count": null,
   "metadata": {
    "autofeedback": {
     "test_code": "ZnJvbSB1bml0dGVzdC5tb2NrIGltcG9ydCBwYXRjaApmcm9tIGF1dG9mZWVkYmFjayBpbXBvcnQgRnVuY3Rpb25UZXN0cwpmcm9tIHJhbmRvbSBpbXBvcnQgcmFuZGludAoKZGVmIGdfc29sdXRpb24oeCk6CiAgICBpZiB4ID09IDA6CiAgICAgICAgcmV0dXJuIDEuMAogICAgZWxzZToKICAgICAgICByZXR1cm4gbnAuc2luKHgpL3gKCmdyYWRpbmdfcmVzdWx0cyA9IEZ1bmN0aW9uVGVzdHMoZ19zb2x1dGlvbikKdHJ5OgogICAgZ3JhZGluZ19yZXN1bHRzLmFkZF90ZXN0X2Z1bmMoZykKZXhjZXB0IEV4Y2VwdGlvbiBhcyBlOgogICAgZ3JhZGluZ19yZXN1bHRzLmxvZy5hcHBlbmQoIkNvdWxkIG5vdCBydW4gdGVzdHMsICIrZS5hcmdzWzBdKQplbHNlOgoKICAgIGdyYWRpbmdfcmVzdWx0cy50ZXN0X3JldHVybl92YWx1ZShyYW5kaW50KDEsIDIwKSkKICAgIGdyYWRpbmdfcmVzdWx0cy50ZXN0X3JldHVybl92YWx1ZSgwKQogICAgZ3JhZGluZ19yZXN1bHRzLnNjb3JlLndlaWdodHNbLTFdICo9IDQKcm91bmQoZ3JhZGluZ19yZXN1bHRzLmdldF9yZXN1bHRzKCkqNCwgMik="
    },
    "deletable": false,
    "editable": false,
    "execution": {
     "iopub.execute_input": "2024-08-28T17:38:23.364320Z",
     "iopub.status.busy": "2024-08-28T17:38:23.361483Z",
     "iopub.status.idle": "2024-08-28T17:38:23.397235Z",
     "shell.execute_reply": "2024-08-28T17:38:23.394293Z"
    },
    "nbgrader": {
     "cell_type": "code",
     "checksum": "9306cfe5e40ff0f498f9d37057b7dc6a",
     "grade": true,
     "grade_id": "cell-2c4e7f0d8a9ab7fb",
     "locked": true,
     "points": 4,
     "schema_version": 3,
     "solution": false,
     "task": false
    },
    "slideshow": {
     "slide_type": ""
    },
    "tags": []
   },
   "outputs": [],
   "source": []
  },
  {
   "cell_type": "markdown",
   "metadata": {
    "deletable": false,
    "editable": false,
    "heading_collapsed": true,
    "run_control": {
     "frozen": true
    },
    "tags": []
   },
   "source": [
    "## Generelt om if-elif-else-setninger\n",
    "Les gjerne denne før du går videre. **Trykk på pilen til venstre for å lese**"
   ]
  },
  {
   "cell_type": "markdown",
   "metadata": {
    "deletable": false,
    "editable": false,
    "hidden": true,
    "run_control": {
     "frozen": true
    }
   },
   "source": [
    "I eksemplene vi har sett hittil, har det vært kun to mulige utfall på betingelsene - kaken har stått >= 50 minutt, eller ikke; antall barn er > 0, eller ikke; alder er over 18, eller ikke. I mange praktiske situasjoner kan det være tre eller flere mulige utfall.\n",
    "\n",
    "F.eks. hvis det var meldt mer enn 3 mm nedbør er kanskje ikke paraply tilstrekkelig, vi ville heller anbefale støvler og regntøy.  Vårt tidligere eksempel kunne da utvides som følger:"
   ]
  },
  {
   "cell_type": "code",
   "execution_count": null,
   "metadata": {
    "deletable": false,
    "execution": {
     "iopub.execute_input": "2024-08-28T17:38:23.408904Z",
     "iopub.status.busy": "2024-08-28T17:38:23.406540Z",
     "iopub.status.idle": "2024-08-28T17:38:23.456973Z",
     "shell.execute_reply": "2024-08-28T17:38:23.454025Z"
    },
    "hidden": true
   },
   "outputs": [],
   "source": [
    "# EKSEMPEL 1\n",
    "\n",
    "def paraply_if_elif_else(regn):\n",
    "    print(f\"Regn i mm: {regn}\")\n",
    "    \n",
    "    if regn > 3.0:\n",
    "        anbefaling = \"Støvler og regntøy\"\n",
    "    elif regn > 0.2:\n",
    "        anbefaling = \"Paraply\"\n",
    "    else:\n",
    "        anbefaling = \"T-skjorte med NTNU-logo\"\n",
    "    hilsen = \"Ha en fin tur til universitetet!\"\n",
    "    \n",
    "    return anbefaling, hilsen\n",
    "\n",
    "anbefaling, hilsen = paraply_if_elif_else(4)\n",
    "print(f\"Dagens anbefaling: {anbefaling}\")\n",
    "print(hilsen)"
   ]
  },
  {
   "cell_type": "markdown",
   "metadata": {
    "deletable": false,
    "editable": false,
    "hidden": true,
    "run_control": {
     "frozen": true
    }
   },
   "source": [
    "Under vises tre kjøringer av denne koden:\n",
    "\n",
    "```\n",
    "paraply_if_elif_else(4.2)\n",
    "\n",
    "Output:\n",
    "Regn i mm: 4.2\n",
    "Dagens anbefaling: Støvler og regntøy\n",
    "Ha en fin tur til universitetet!\n",
    ">>>\n",
    "```\n",
    "\n",
    "```\n",
    "paraply_if_elif_else(0.3)\n",
    "\n",
    "Output:\n",
    "Regn i mm: 0.3\n",
    "Dagens anbefaling: Paraply\n",
    "Ha en fin tur til universitetet!\n",
    ">>>\n",
    "```\n",
    "\n",
    "```\n",
    "paraply_if_elif_else(0.0)\n",
    "\n",
    "Output:\n",
    "Regn i mm: 0.0\n",
    "Dagens anbefaling: T-skjorte med NTNU-logo\n",
    "Ha en fin tur til universitetet!\n",
    "```"
   ]
  },
  {
   "cell_type": "markdown",
   "metadata": {
    "deletable": false,
    "editable": false,
    "hidden": true,
    "run_control": {
     "frozen": true
    }
   },
   "source": [
    "Hvis betingelsen `regn > 3.0` er sann, settes anbefalingen til støvler og regntøy, deretter går programmet til første kodelinje etter hele if-elif-else-setningen, og setter hilsenen til (\"Ha en fin tur...\")\n",
    "\n",
    "Hvis betingelsen `regn > 3.0` er usann, settes **ikke** anbefalingen til støvler, programmet sjekker i stedet betingelsen på `elif`. Hvis denne er sann, settes anbefalingen til paraply, og dersom `elif`-påstanden også er usann, settes anbefalingen til T-skjorte med NTNU-logo som tidligere.\n",
    "\n",
    "Det er mulig å klare seg uten if-elif-else-setninger og i stedet bare putte if-else-setninger inni hverandre for å oppnå det samme. Eksemplet ovenfor kunne alternativt skrives:"
   ]
  },
  {
   "cell_type": "code",
   "execution_count": null,
   "metadata": {
    "deletable": false,
    "execution": {
     "iopub.execute_input": "2024-08-28T17:38:23.467836Z",
     "iopub.status.busy": "2024-08-28T17:38:23.467010Z",
     "iopub.status.idle": "2024-08-28T17:38:23.481346Z",
     "shell.execute_reply": "2024-08-28T17:38:23.478088Z"
    },
    "hidden": true
   },
   "outputs": [],
   "source": [
    "# EKSEMPEL 2\n",
    "def paraply_nested_if(regn):\n",
    "    if regn > 3.0:\n",
    "        anbefaling = \"Støvler og regntøy\"\n",
    "    else:\n",
    "        if regn > 0.2:\n",
    "            anbefaling = \"Paraply\"\n",
    "        else:\n",
    "            anbefaling = \"T-skjorte med NTNU-logo\"\n",
    "    hilsen = \"Ha en fin tur til universitetet!\"\n",
    "    return anbefaling, hilsen\n",
    "\n",
    "anbefaling, hilsen = paraply_nested_if(0.3)"
   ]
  },
  {
   "cell_type": "markdown",
   "metadata": {
    "deletable": false,
    "editable": false,
    "hidden": true,
    "run_control": {
     "frozen": true
    }
   },
   "source": [
    "Særlig i tilfeller hvor det dreier seg om tre eller flere alternative utfall basert på verdien av den **samme variabelen** (f.eks. `regn` her) vil de fleste oppfatte **if-elif-else**-setninger som både lettere å skrive og lettere å forstå, enn flere nøstede if-else-setninger.\n",
    "\n",
    "Ett typisk eksempel er antall oppnådde poeng på en eksamen, som kan transformeres til en bokstavkarakter A-F etter gitte grenser. Det er da 6 mulige utfall, dette gir mye innrykk og blir vanskelig å lese med nøstede if-setninger:"
   ]
  },
  {
   "cell_type": "code",
   "execution_count": null,
   "metadata": {
    "deletable": false,
    "execution": {
     "iopub.execute_input": "2024-08-28T17:38:23.494171Z",
     "iopub.status.busy": "2024-08-28T17:38:23.490743Z",
     "iopub.status.idle": "2024-08-28T17:38:23.548070Z",
     "shell.execute_reply": "2024-08-28T17:38:23.544555Z"
    },
    "hidden": true
   },
   "outputs": [],
   "source": [
    "# EKSEMPEL 3\n",
    "def hvilken_karakter(score):  \n",
    "    if score >= 89:\n",
    "        return \"A\"\n",
    "    else:\n",
    "        if score >= 77:\n",
    "            return \"B\"\n",
    "        else:\n",
    "            if score >= 65:\n",
    "                return \"C\"\n",
    "            else:\n",
    "                if score >= 53:\n",
    "                    return \"D\"\n",
    "                else:\n",
    "                    if score >= 41:\n",
    "                        return \"E\"\n",
    "                    else:\n",
    "                        return \"F\"\n",
    "\n",
    "karakter = hvilken_karakter(75)\n",
    "print(f\"Du fikk {karakter}\")"
   ]
  },
  {
   "cell_type": "markdown",
   "metadata": {
    "deletable": false,
    "editable": false,
    "hidden": true,
    "run_control": {
     "frozen": true
    }
   },
   "source": [
    "if-elif-else-setning vil være klart å foretrekke i en slik situasjon; det er mye lettere å se at koden her tar en beslutning med 6 alternativer basert på verdien av en enkelt variabel:"
   ]
  },
  {
   "cell_type": "code",
   "execution_count": null,
   "metadata": {
    "deletable": false,
    "execution": {
     "iopub.execute_input": "2024-08-28T17:38:23.559528Z",
     "iopub.status.busy": "2024-08-28T17:38:23.558638Z",
     "iopub.status.idle": "2024-08-28T17:38:23.574695Z",
     "shell.execute_reply": "2024-08-28T17:38:23.571755Z"
    },
    "hidden": true
   },
   "outputs": [],
   "source": [
    "# EKSEMPEL 4\n",
    "def hvilken_karakter(score):  \n",
    "    if score >= 89:\n",
    "        return \"A\"\n",
    "    elif score >= 77:\n",
    "        return \"B\"\n",
    "    elif score >= 65:\n",
    "        return \"C\"\n",
    "    elif score >= 53:\n",
    "        return \"D\"\n",
    "    elif score >= 41:\n",
    "        return \"E\"\n",
    "    else:\n",
    "        return \"F\"\n",
    "\n",
    "karakter = hvilken_karakter(75)\n",
    "print(f\"Du fikk {karakter}\")"
   ]
  },
  {
   "cell_type": "markdown",
   "metadata": {
    "deletable": false,
    "editable": false,
    "hidden": true,
    "run_control": {
     "frozen": true
    }
   },
   "source": [
    "Ved bruk av if-elif-else er det avgjørende at betingelsene kommer i riktig rekkefølge. Anta at vi hadde gjort karaktereksemplet motsatt:"
   ]
  },
  {
   "cell_type": "code",
   "execution_count": null,
   "metadata": {
    "deletable": false,
    "execution": {
     "iopub.execute_input": "2024-08-28T17:38:23.585703Z",
     "iopub.status.busy": "2024-08-28T17:38:23.584792Z",
     "iopub.status.idle": "2024-08-28T17:38:23.646892Z",
     "shell.execute_reply": "2024-08-28T17:38:23.601091Z"
    },
    "hidden": true
   },
   "outputs": [],
   "source": [
    "# EKSEMPEL 5\n",
    "# HER HAR VI MED VILJE HAR GJORT FEIL!\n",
    "def hvilken_karakter(score): \n",
    "    if score >= 0:\n",
    "        return \"F\"\n",
    "    elif score >= 41:\n",
    "        return \"E\"\n",
    "    elif score >= 53:\n",
    "        return \"D\"\n",
    "    elif score >= 65:\n",
    "        return \"C\"\n",
    "    elif score >= 77:\n",
    "        return \"B\"\n",
    "    elif score >= 89:\n",
    "        return \"A\"\n",
    "\n",
    "karakter = hvilken_karakter(75)\n",
    "print(f\"Du fikk {karakter}\")"
   ]
  },
  {
   "cell_type": "markdown",
   "metadata": {
    "deletable": false,
    "editable": false,
    "hidden": true,
    "run_control": {
     "frozen": true
    }
   },
   "source": [
    "Her vil øverste betingelse vil være sann for alle eksamensbesvarelser - og alle ender opp med karakteren F.\n",
    "\n",
    "Det er også viktig når det er snakk om alternativt ekskluderende utfall av samme beslutning at vi bruker **if-elif-else**-setning; **IKKE en serie med frittstående if-setninger**.\n",
    "\n",
    "Eksempel 6 under ser nesten ut som Eksempel 4, bare at vi kun skriver `if` der vi før skrev `elif`. Merk også at funksjonen her bruker en variabel `karakter` for å holde på karakteren, heller enn å returnere den - dette er gjort for å fremheve feilen som oppstår."
   ]
  },
  {
   "cell_type": "code",
   "execution_count": null,
   "metadata": {
    "deletable": false,
    "execution": {
     "iopub.execute_input": "2024-08-28T17:38:23.659503Z",
     "iopub.status.busy": "2024-08-28T17:38:23.658429Z",
     "iopub.status.idle": "2024-08-28T17:38:23.678236Z",
     "shell.execute_reply": "2024-08-28T17:38:23.675419Z"
    },
    "hidden": true
   },
   "outputs": [],
   "source": [
    "# EKSEMPEL 6\n",
    "# HER HAR VI MED VILJE HAR GJORT FEIL!\n",
    "def hvilken_karakter(score):\n",
    "    karakter = \"\"\n",
    "    if score >= 89:\n",
    "        karakter = \"A\"\n",
    "        print(f\"Karakter etter første if: {karakter}\")\n",
    "    if score >= 77:\n",
    "        karakter = \"B\"\n",
    "        print(f\"Karakter etter andre if: {karakter}\")\n",
    "    if score >= 65:\n",
    "        karakter = \"C\"\n",
    "        print(f\"Karakter etter tredje if: {karakter}\")\n",
    "    if score >= 53:\n",
    "        karakter = \"D\"\n",
    "        print(f\"Karakter etter fjerde if: {karakter}\")\n",
    "    if score >= 41:\n",
    "        karakter = \"E\"\n",
    "        print(f\"Karakter etter femte if: {karakter}\")\n",
    "    else:\n",
    "        karakter = \"F\"\n",
    "    return karakter\n",
    "\n",
    "hvilken_karakter(92)\n",
    "print(f\"Du fikk {karakter}\")"
   ]
  },
  {
   "cell_type": "markdown",
   "metadata": {
    "deletable": false,
    "editable": false,
    "hidden": true,
    "run_control": {
     "frozen": true
    }
   },
   "source": [
    "En student som har fått 92 poeng vil her komme riktig ut av den første if-setningen, og karakter settes til A. Men 92 > 77 er også sant, så karakter omgjøres deretter til B. Så til C, så til D, så til E.\n",
    "\n",
    "De eneste tilfellene som dette programmet vil takle korrekt blir dermed studenter som skal ha E eller F.\n",
    "\n",
    "Feilen her er at vi bruker nye frittstående if-setninger (dvs. som ikke er relatert til hverandre), mens vi egentlig har å gjøre med gjensidig ekskluderende alternativer som skulle vært løst med if-elif-else.\n",
    "\n",
    "Hvor er det eventuelt riktig å bruke frittstående if-setninger? Jo, hvis det er snakk om flere uavhengige beslutninger. I eksempel 7 under er det to uavhengige beslutninger, den ene om man skal ta paraply eller ikke, den andre om brodder eller ikke. Hver beslutning tas uavhengig av den andre, da blir det riktig med to frittstående if-setninger.\n",
    "\n",
    "Hadde vi i stedet brukt if-elif her, ville programmet ikke ha virket som det skulle, da det kun ville ha vært i stand til å anbefale brodder i oppholdsvær (mens det jo kan være minst like glatt om det regner)."
   ]
  },
  {
   "cell_type": "code",
   "execution_count": null,
   "metadata": {
    "ExecuteTime": {
     "start_time": "2019-07-01T11:00:12.045Z"
    },
    "deletable": false,
    "execution": {
     "iopub.execute_input": "2024-08-28T17:38:23.688737Z",
     "iopub.status.busy": "2024-08-28T17:38:23.687784Z",
     "iopub.status.idle": "2024-08-28T17:38:23.704491Z",
     "shell.execute_reply": "2024-08-28T17:38:23.701948Z"
    },
    "hidden": true
   },
   "outputs": [],
   "source": [
    "# EKSEMPEL 7\n",
    "def paraply_og_brodder(regn, glatt):\n",
    "    print(f\"Regn i mm: {regn}\")\n",
    "    print(f\"Hvor glatt er det på en skala fra 1 til 10: {glatt}\")\n",
    "    anbefaling = \"\"\n",
    "    if regn > 0.2:\n",
    "        anbefaling += \"Da anbefaler jeg paraply. \\n\"\n",
    "    if glatt > 8:\n",
    "        anbefaling += \"Da anbefaler jeg sko med brodder eller pigger.\"\n",
    "    return anbefaling\n",
    "\n",
    "anbefaling = paraply_og_brodder(0.3, 9)\n",
    "print(anbefaling)"
   ]
  },
  {
   "cell_type": "markdown",
   "metadata": {
    "deletable": false,
    "editable": false,
    "hidden": true,
    "run_control": {
     "frozen": true
    }
   },
   "source": [
    "I andre tilfeller kan en beslutning være avhengig av en annen, f.eks. kun være aktuell ved et visst utfall av en foregående if-setning. Som i eksempel 8 under:"
   ]
  },
  {
   "cell_type": "code",
   "execution_count": null,
   "metadata": {
    "deletable": false,
    "execution": {
     "iopub.execute_input": "2024-08-28T17:38:23.753478Z",
     "iopub.status.busy": "2024-08-28T17:38:23.752554Z",
     "iopub.status.idle": "2024-08-28T17:38:23.769988Z",
     "shell.execute_reply": "2024-08-28T17:38:23.766792Z"
    },
    "hidden": true
   },
   "outputs": [],
   "source": [
    "# EKSEMPEL 8\n",
    "def paraply_i_vind(regn, vind):\n",
    "    print(f\"Regn i mm: {regn}\")\n",
    "    print(f\"Vind i sekundmeter: {vind}\")\n",
    "    if regn > 0.2:\n",
    "        if vind < 7.0:\n",
    "            return \"Da anbefaler jeg paraply.\"\n",
    "        else:\n",
    "            return \"Anbefaler regntøy, for mye vind for paraply.\"\n",
    "\n",
    "anbefaling = paraply_i_vind(0.3, 9)\n",
    "print(anbefaling)"
   ]
  },
  {
   "cell_type": "markdown",
   "metadata": {
    "deletable": false,
    "editable": false,
    "hidden": true,
    "run_control": {
     "frozen": true
    },
    "slideshow": {
     "slide_type": ""
    },
    "tags": []
   },
   "source": [
    "Her ville if `regn > 0.2:` .....`elif vind < 7.0` ha blitt feil.\n",
    "\n",
    "Programmet ville da ha gjort vurderinger av vinden kun hvis det ikke regnet, og dermed ha vært ute av stand til å fraråde paraply hvis det regner og samtidig blåser kraftig.\n",
    "\n",
    "**Oppsummert:**\n",
    "\n",
    "- flere helt uavhengige beslutninger: bruk frittstående if-setninger\n",
    "- beslutning med gjensidig utelukkende handlingsalternativer: bruk if-else (2 alternativer) eller if-elif-else (3 eller flere alternativer)\n",
    "- beslutninger relatert på annen måte, f.eks. at en betingelse (som `vind < 7.0` ovenfor) kun er aktuell gitt et visst utfall av en annen betingelse: kan løses ved å nøste flere if-setninger inni hverandre\n"
   ]
  },
  {
   "cell_type": "markdown",
   "metadata": {
    "deletable": false,
    "editable": false,
    "run_control": {
     "frozen": true
    },
    "tags": []
   },
   "source": [
    "<a id=\"oppg_1c\"></a>\n",
    "## c)\n",
    "\n",
    "En matematisk funksjon $h(x)$ med betingelser er beskrevet nedenfor:\n",
    "\n",
    "$$h(x) = \n",
    "\\begin{cases}\n",
    "10, & x < 0 \\\\\n",
    "10 - x, & 0 \\leq x < 10 \\\\\n",
    "0, & x \\geq 10\n",
    "\\end{cases}\n",
    "$$\n",
    "\n",
    "Bruk en **if-elif-else** setning til å skrive funksjonen $h(x)$ med Python"
   ]
  },
  {
   "cell_type": "code",
   "execution_count": null,
   "metadata": {
    "deletable": false,
    "execution": {
     "iopub.execute_input": "2024-08-28T17:38:23.780341Z",
     "iopub.status.busy": "2024-08-28T17:38:23.779466Z",
     "iopub.status.idle": "2024-08-28T17:38:23.792898Z",
     "shell.execute_reply": "2024-08-28T17:38:23.789656Z"
    },
    "nbgrader": {
     "cell_type": "code",
     "checksum": "683eac00ef51b9f075d258bda6e11f6b",
     "grade": false,
     "grade_id": "cell-47888f1b677f4c5b",
     "locked": false,
     "schema_version": 3,
     "solution": true,
     "task": false
    }
   },
   "outputs": [],
   "source": [
    "def h(x):\n",
    "    #-------------------------------------\n",
    "    # SKRIV DIN KODE HER!\n",
    "    #-------------------------------------"
   ]
  },
  {
   "cell_type": "code",
   "execution_count": null,
   "metadata": {
    "autofeedback": {
     "test_code": "ZnJvbSB1bml0dGVzdC5tb2NrIGltcG9ydCBwYXRjaApmcm9tIGF1dG9mZWVkYmFjayBpbXBvcnQgRnVuY3Rpb25UZXN0cwpmcm9tIHJhbmRvbSBpbXBvcnQgcmFuZGludAoKZGVmIGhfc29sdXRpb24oeCk6CiAgICBpZiB4IDwgMDoKICAgICAgICByZXR1cm4gMTAKICAgIGVsaWYgeCA8IDEwOgogICAgICAgIHJldHVybiAxMCAtIHgKICAgIGVsc2U6CiAgICAgICAgcmV0dXJuIDAKCmdyYWRpbmdfcmVzdWx0cyA9IEZ1bmN0aW9uVGVzdHMoaF9zb2x1dGlvbikKdHJ5OgogICAgZ3JhZGluZ19yZXN1bHRzLmFkZF90ZXN0X2Z1bmMoaCkKZXhjZXB0IEV4Y2VwdGlvbiBhcyBlOgogICAgZ3JhZGluZ19yZXN1bHRzLmxvZy5hcHBlbmQoIkNvdWxkIG5vdCBydW4gdGVzdHMsICIrZS5hcmdzWzBdKQplbHNlOgogICAgZ3JhZGluZ19yZXN1bHRzLnRlc3RfcmV0dXJuX3ZhbHVlKHJhbmRpbnQoLTEwLCAtMSkpICMgeCA8IDAKICAgIGdyYWRpbmdfcmVzdWx0cy50ZXN0X3JldHVybl92YWx1ZShyYW5kaW50KDAsIDIwKS8xMCkgIyAwIDw9IHggPCAyCiAgICBncmFkaW5nX3Jlc3VsdHMudGVzdF9yZXR1cm5fdmFsdWUocmFuZGludCgyLCAxMikpICMgeCA+PSAyCnJvdW5kKGdyYWRpbmdfcmVzdWx0cy5nZXRfcmVzdWx0cygpKjMsIDIp"
    },
    "deletable": false,
    "editable": false,
    "execution": {
     "iopub.execute_input": "2024-08-28T17:38:23.804489Z",
     "iopub.status.busy": "2024-08-28T17:38:23.802072Z",
     "iopub.status.idle": "2024-08-28T17:38:23.874479Z",
     "shell.execute_reply": "2024-08-28T17:38:23.871808Z"
    },
    "nbgrader": {
     "cell_type": "code",
     "checksum": "21db4eda3a3892a12bcd8488d75e6492",
     "grade": true,
     "grade_id": "cell-cf51e9e9efe1291d",
     "locked": true,
     "points": 3,
     "schema_version": 3,
     "solution": false,
     "task": false
    }
   },
   "outputs": [],
   "source": []
  },
  {
   "cell_type": "markdown",
   "metadata": {
    "deletable": false,
    "editable": false
   },
   "source": [
    "<br>\n",
    "<nav class=\"navbar navbar-default\">\n",
    "        <div class=\"container-fluid\">\n",
    "            <div class=\"navbar-header\" style=\"float: right\">\n",
    "                <a class=\"navbar-brand\" href=\"2_Logiske_operatorer_og_logiske_uttrykk.ipynb\" target=\"_self\">Neste side: <i>logiske operatorer og logiske_uttrykk</i> &gt;</a>\n",
    "            </div>\n",
    "        </div>\n",
    "</nav>"
   ]
  }
 ],
 "metadata": {
  "kernelspec": {
   "display_name": "Python 3 (ipykernel)",
   "language": "python",
   "name": "python3"
  },
  "language_info": {
   "codemirror_mode": {
    "name": "ipython",
    "version": 3
   },
   "file_extension": ".py",
   "mimetype": "text/x-python",
   "name": "python",
   "nbconvert_exporter": "python",
   "pygments_lexer": "ipython3",
   "version": "3.11.6"
  },
  "toc": {
   "base_numbering": 1,
   "nav_menu": {},
   "number_sections": false,
   "sideBar": true,
   "skip_h1_title": false,
   "title_cell": "Table of Contents",
   "title_sidebar": "Contents",
   "toc_cell": false,
   "toc_position": {
    "height": "calc(100% - 180px)",
    "left": "10px",
    "top": "150px",
    "width": "265px"
   },
   "toc_section_display": true,
   "toc_window_display": false
  }
 },
 "nbformat": 4,
 "nbformat_minor": 4
}
