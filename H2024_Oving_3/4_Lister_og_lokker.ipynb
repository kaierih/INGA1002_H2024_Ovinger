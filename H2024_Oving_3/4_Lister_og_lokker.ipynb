{
 "cells": [
  {
   "cell_type": "markdown",
   "metadata": {
    "deletable": false,
    "editable": false
   },
   "source": [
    "\n",
    "<nav class=\"navbar navbar-default\">\n",
    "  <div class=\"container-fluid\">\n",
    "    <div class=\"navbar-header\" style=\"float: left\">\n",
    "        <a class=\"navbar-brand\" href=\"0_Forside.ipynb\" target=\"_self\"> <h2> &uarr; Tilbake til forsiden</h2></a>\n",
    "    </div>\n",
    "  </div>\n",
    "</nav>"
   ]
  },
  {
   "cell_type": "markdown",
   "metadata": {
    "deletable": false,
    "editable": true,
    "run_control": {
     "frozen": true
    },
    "slideshow": {
     "slide_type": ""
    },
    "tags": []
   },
   "source": [
    "# Lister og løkker\n",
    "\n",
    "**Læringsmål:**\n",
    "\n",
    "* For-løkker\n",
    "* Iterering over sekvenser\n",
    "\n",
    "**Oversikt:**\n",
    "* [Oppgave a) Skriv ut tall i liste](#oppg_4a)\n",
    "* [Oppgave b) Gangetabellen](#oppg_4b)\n",
    "* [Oppgave c) Sorter ut positive tall i liste](#oppg_4c)"
   ]
  },
  {
   "cell_type": "markdown",
   "metadata": {
    "deletable": false
   },
   "source": [
    "### Hva gjør en for-løkke? \n",
    "I Øving 2 utforsket vi hvordan biblioteket `numpy` sine arrays enkelt kan brukes i matteuttrykk der vi utfører en gitt regneoperasjon på *hvert element* i en array. La oss ta et eksempel der vi regner ut $a\\cdot 5$ for en array med flere mulige verdier for $a$:"
   ]
  },
  {
   "cell_type": "code",
   "execution_count": null,
   "metadata": {
    "deletable": false,
    "execution": {
     "iopub.execute_input": "2024-09-04T09:45:59.522554Z",
     "iopub.status.busy": "2024-09-04T09:45:59.521584Z",
     "iopub.status.idle": "2024-09-04T09:45:59.846056Z",
     "shell.execute_reply": "2024-09-04T09:45:59.828081Z"
    },
    "tags": []
   },
   "outputs": [],
   "source": [
    "import numpy as np\n",
    "a = np.array([1, 2, 3, 4])\n",
    "b = a*5\n",
    "print(b)"
   ]
  },
  {
   "cell_type": "markdown",
   "metadata": {
    "deletable": false
   },
   "source": [
    "De tre kodelinjene etter importering av numpy-biblioteket kan forklares slik:\n",
    "1. Vi starter med å lage en array `a = np.array([1, 2, 3, 4])`. I matematikken kan vi skrive:\n",
    "$$\n",
    "a = \\begin{bmatrix}\n",
    "1 & 2 & 3 & 4 \n",
    "\\end{bmatrix} \n",
    "$$\n",
    "2. I neste steg lager vi en array `b` som er produktet av arrayen `a` og tallet `5`, altså `b= a*5`, og numpy multipliserer da hvert element i `a` med `5` slik som beskrevet under:\n",
    "$$\n",
    "\\begin{align}\n",
    "b &= a \\cdot 5 & \\\\\n",
    "&=\\begin{bmatrix}\n",
    "1 & 2 & 3 & 4 \n",
    "\\end{bmatrix}\n",
    "\\cdot 5 \\\\\n",
    "&= \\begin{bmatrix}\n",
    "1\\cdot 5 & 2 \\cdot 5 & 3 \\cdot 5 & 4 \\cdot 5 \n",
    "\\end{bmatrix} \\\\ \n",
    "&=\\begin{bmatrix}\n",
    "5 & 10 & 15 & 20 \n",
    "\\end{bmatrix}\n",
    "\\end{align}\n",
    "$$\n",
    "3. Når vi til slutt skriver ut innholdet i `b`, ser vi at alle elementene i `b` tilsvarer verdien til et korresponderende element i `a` multiplisert med 5."
   ]
  },
  {
   "cell_type": "markdown",
   "metadata": {
    "deletable": false
   },
   "source": [
    "Men i datamaskinen skjer ikke alt i steg 2 samtidig. Det som foregår bak kulissene her, er at Python blar seg gjennom hvert element i `a` én etter én, og ufører en multiplikasjon med `5`. Steg 2 ovenfor kan altså brytes opp i 4 distinkte regneoperasjoner:\n",
    "\n",
    "2. ***For*** hver tallverdi i `a`, multiplisér med `5` og lagre resultatet i `b`.\n",
    "    * $b[0] = a[0]\\cdot 5 = 1\\cdot 5 = 5$\n",
    "    * $b[1] = a[1]\\cdot 5 = 2\\cdot 5 = 10$\n",
    "    * $b[2] = a[2]\\cdot 5 = 3\\cdot 5 = 15$\n",
    "    * $b[3] = a[3]\\cdot 5 = 4\\cdot 5 = 20$\n",
    "    \n",
    "Det vi skal lære nå er hvordan vi manuelt kan lage en slik såkalt ***for-løkke*** til å bla gjennom hvert element i en liste (på fagspråket kalles dette å iterere gjennom en liste/array). I eksempelet over kan det virke litt unødvendig da numpy gjør det for oss, men dersom vi øsnker å skrive ut resultatet av hver regneoperasjon etter tur så kan ikke dette oppnås like elegant som kodeeksempelet over. Uten for-løkker må vi faktisk skrive 4 nesten identiske kodelinjer, og bruke indeksverdier for å hente ut de individuelle tallene i `a`:"
   ]
  },
  {
   "cell_type": "code",
   "execution_count": null,
   "metadata": {
    "deletable": false,
    "execution": {
     "iopub.execute_input": "2024-09-04T09:45:59.855963Z",
     "iopub.status.busy": "2024-09-04T09:45:59.855402Z",
     "iopub.status.idle": "2024-09-04T09:45:59.867390Z",
     "shell.execute_reply": "2024-09-04T09:45:59.864655Z"
    }
   },
   "outputs": [],
   "source": [
    "a = np.array([1, 2, 3, 4])\n",
    "print(f\"{a[0]} ganger 5 er lik {a[0]*5}\")\n",
    "print(f\"{a[1]} ganger 5 er lik {a[1]*5}\")\n",
    "print(f\"{a[2]} ganger 5 er lik {a[2]*5}\")\n",
    "print(f\"{a[3]} ganger 5 er lik {a[3]*5}\")"
   ]
  },
  {
   "cell_type": "markdown",
   "metadata": {
    "deletable": false
   },
   "source": [
    "Den samme utskriften kan oppnås elegant med bruk av en ***for-løkke***:"
   ]
  },
  {
   "cell_type": "code",
   "execution_count": null,
   "metadata": {
    "deletable": false,
    "execution": {
     "iopub.execute_input": "2024-09-04T09:45:59.877956Z",
     "iopub.status.busy": "2024-09-04T09:45:59.877019Z",
     "iopub.status.idle": "2024-09-04T09:45:59.892585Z",
     "shell.execute_reply": "2024-09-04T09:45:59.889940Z"
    },
    "tags": []
   },
   "outputs": [],
   "source": [
    "a = np.array([1, 2, 3, 4])\n",
    "for number in a:\n",
    "    print(f\"{number} ganger 5 er lik {number*5}\")"
   ]
  },
  {
   "cell_type": "markdown",
   "metadata": {
    "deletable": false
   },
   "source": [
    "Kodelinjen `for number in a:` starter altså en **for**-løkke, og gjør at alle påfølgende kodelinjer med innrykk utføres én gang for hver av tallene **`number`** vi finner i sekvensen **`a`** . Med en gang vi lager en kodelinje uten innrykk forekommer dette utenfor løkken, og denne kodelinjen vil da kjøre når løkken er ferdig."
   ]
  },
  {
   "cell_type": "code",
   "execution_count": null,
   "metadata": {
    "deletable": false,
    "execution": {
     "iopub.execute_input": "2024-09-04T09:45:59.903125Z",
     "iopub.status.busy": "2024-09-04T09:45:59.902310Z",
     "iopub.status.idle": "2024-09-04T09:45:59.957678Z",
     "shell.execute_reply": "2024-09-04T09:45:59.954321Z"
    },
    "tags": []
   },
   "outputs": [],
   "source": [
    "a = np.array([1, 2, 3, 4])\n",
    "for number in a:\n",
    "    print(f\"{number} ganger 5 er lik {number*5}\")\n",
    "print(\"Løkken er ferdig!\")"
   ]
  },
  {
   "cell_type": "markdown",
   "metadata": {
    "deletable": false
   },
   "source": [
    "**for**-løkker er én av to typer løkker vi skal lære å bruke, hvor den andre typen er **while**-løkker som vi skal komme tilbake til i øving 4. Løkker er utrolig nyttige å lære seg, da det lar oss skrive program som utnytter det datamaskiner er best på; å utføre gjentatte handlinger/regneoperasjoner i et høyt tempo."
   ]
  },
  {
   "cell_type": "markdown",
   "metadata": {
    "deletable": false
   },
   "source": [
    "<a id=\"oppg_4a\"></a>\n",
    "## a)\n",
    "Lag en funksjon, `print_array(numbers)`, som printer tallene i en array `numbers`. Bruk en forløkke i funksjonen.\n",
    "\n",
    "***Skriv koden din her:***"
   ]
  },
  {
   "cell_type": "code",
   "execution_count": null,
   "metadata": {
    "deletable": false,
    "execution": {
     "iopub.execute_input": "2024-09-04T09:45:59.968393Z",
     "iopub.status.busy": "2024-09-04T09:45:59.967501Z",
     "iopub.status.idle": "2024-09-04T09:45:59.980630Z",
     "shell.execute_reply": "2024-09-04T09:45:59.976905Z"
    },
    "nbgrader": {
     "cell_type": "code",
     "checksum": "4c14f9b4dcaf3270e03d16fcb20b2324",
     "grade": false,
     "grade_id": "cell-ae33bb25350f313e",
     "locked": false,
     "schema_version": 3,
     "solution": true,
     "task": false
    },
    "tags": []
   },
   "outputs": [],
   "source": [
    "def print_numbers(numbers):\n",
    "    #-------------------------------------\n",
    "    # SKRIV DIN KODE HER!\n",
    "    #-------------------------------------"
   ]
  },
  {
   "cell_type": "markdown",
   "metadata": {
    "deletable": false
   },
   "source": [
    "Du kan teste funksjonen ved å bruke følgende funksjonskall:\n",
    "```Python\n",
    "print_numbers([0, 1, 2, 3, 4])\n",
    "```\n",
    "Har du løst oppgaven riktig skal funksjonskallet skrive ut:\\\n",
    "`0`\\\n",
    "`1`\\\n",
    "`2`\\\n",
    "`3`\\\n",
    "`4`\n",
    "\n",
    "*Tips: Prøv å endre listen du sender til `print_numbers`, og sjekk at funksjonen fungerer slik den skal for mange forskjellige lister*"
   ]
  },
  {
   "cell_type": "code",
   "execution_count": null,
   "metadata": {
    "autofeedback": {
     "test_code": "ZnJvbSBhdXRvZmVlZGJhY2sgaW1wb3J0IEZ1bmN0aW9uVGVzdHMKZnJvbSByYW5kb20gaW1wb3J0IHJhbmRpbnQKZGVmIHByaW50X251bWJlcnNfc29sdXRpb24obnVtYmVycyk6CiAgICBmb3IgbnVtYmVyIGluIG51bWJlcnM6CiAgICAgICAgcHJpbnQobnVtYmVyKQoKZ3JhZGluZ19yZXN1bHRzID0gRnVuY3Rpb25UZXN0cyhwcmludF9udW1iZXJzX3NvbHV0aW9uKQp0cnk6CiAgICBncmFkaW5nX3Jlc3VsdHMuYWRkX3Rlc3RfZnVuYyhwcmludF9udW1iZXJzKQpleGNlcHQgRXhjZXB0aW9uIGFzIGU6CiAgICBncmFkaW5nX3Jlc3VsdHMubG9nLmFwcGVuZCgiQ291bGQgbm90IHJ1biB0ZXN0cywgIitlLmFyZ3NbMF0pCmVsc2U6CiAgICBOID0gMwogICAgc3RhcnQgPSBbcmFuZGludCgtMTAsIC0xKSBmb3IgXyBpbiByYW5nZShOKV0KICAgIHN0b3AgPSBbcmFuZGludCgxLCAxMCkgZm9yIF8gaW4gcmFuZ2UoTildCiAgICAKICAgIGZvciBhLCBiIGluIHppcChzdGFydCwgc3RvcCk6CiAgICAgICAgYXJyYXkgPSBsaXN0KHJhbmdlKGEsIGIrMSkpCiAgICAgICAgZ3JhZGluZ19yZXN1bHRzLnRlc3RfcmV0dXJuX3ZhbHVlKGFycmF5KQoKcm91bmQoZ3JhZGluZ19yZXN1bHRzLmdldF9yZXN1bHRzKCkqMywgMik="
    },
    "deletable": false,
    "editable": false,
    "execution": {
     "iopub.execute_input": "2024-09-04T09:45:59.990659Z",
     "iopub.status.busy": "2024-09-04T09:45:59.989729Z",
     "iopub.status.idle": "2024-09-04T09:46:01.756415Z",
     "shell.execute_reply": "2024-09-04T09:46:01.754134Z"
    },
    "nbgrader": {
     "cell_type": "code",
     "checksum": "b813f31074354a517761e94864811178",
     "grade": true,
     "grade_id": "cell-57e21c14625f95da",
     "locked": true,
     "points": 3,
     "schema_version": 3,
     "solution": false,
     "task": false
    },
    "slideshow": {
     "slide_type": ""
    },
    "tags": []
   },
   "outputs": [],
   "source": []
  },
  {
   "cell_type": "markdown",
   "metadata": {
    "deletable": false,
    "editable": true,
    "slideshow": {
     "slide_type": ""
    },
    "tags": []
   },
   "source": [
    "## For-løkker med funksjonen `range()`\n",
    "\n",
    "Noen ganger er det aktuelt å repetere samme programkode flere ganger, uten at det nødvenigvis er snakk om å iterere gjennom en forhåndsdefinert array. `range()` er en ekstremt nyttig funksjon i slike situasjoner, da den er designet spesielt for å brukes med for-løkker. La oss ta for oss kodeeksempelet nedenfor, der vi skriver ut `\"Hipp\"` tree ganger, før vi avslutter med `\"Hurra!\"`.\n",
    "<!--\n",
    "## range()\n",
    "\n",
    "\n",
    "Når vi jobber med for-løkker er `range` en ekstremt nyttig funksjon. Denne funksjonen kan ta inn opp til 3 argumenter. Nedenfor vil det bli gått gjennom hvordan funksjonen funker med henholdsvis 1, 2, og 3 parameter.\n",
    "\n",
    "#### 1 Parameter\n",
    "Den letteste måten å bruke range funksjonen på er med ett argument. Om vi skal loope over tallene fra `0` til `x-1` kan vi skrive\n",
    "\n",
    "`for i in range(x)`\n",
    "\n",
    "Eksempelvis vil `for i in range(5)` gå gjennom tallene `[0, 1, 2, 3, 4]`\n",
    "\n",
    "#### 2 Parameter\n",
    "Parameter nr 2 er for å presisere hvor vi ønsker å starte løkken. Dette gjøres da med `for i in range(start, stopp)`. Samme som tidligere er `start` inklusiv, mens stopp er `eksklusiv`. Det fører til at\n",
    "\n",
    "`for i in range(3, 7)` går gjennom tallene `[3, 4, 5, 6]`\n",
    "\n",
    "#### 3 Parameter\n",
    "Det siste parameteret i range funksjonen vil si hvor store `hopp` som blir gjort. Dette kan også være et negativt tall om du ønsker å gå gjennom tall synkende, men da må man huske at start må være større enn stopp.\n",
    "\n",
    "For eksempel `for i in range(0, 10, 2)` => `[0, 2, 4, 6, 8]`\n",
    "\n",
    "Mens `for i in range(17, 10, -3)` => `[17, 14, 11]`\n",
    "-->"
   ]
  },
  {
   "cell_type": "code",
   "execution_count": null,
   "metadata": {
    "deletable": false,
    "execution": {
     "iopub.execute_input": "2024-09-04T09:46:01.770369Z",
     "iopub.status.busy": "2024-09-04T09:46:01.767446Z",
     "iopub.status.idle": "2024-09-04T09:46:01.783290Z",
     "shell.execute_reply": "2024-09-04T09:46:01.779906Z"
    }
   },
   "outputs": [],
   "source": [
    "print(\"Hipp\")\n",
    "print(\"Hipp\")\n",
    "print(\"Hipp\")\n",
    "print(\"Hurra!\")"
   ]
  },
  {
   "cell_type": "markdown",
   "metadata": {
    "deletable": false
   },
   "source": [
    "Samme utskrift kan oppnås med løkke:"
   ]
  },
  {
   "cell_type": "code",
   "execution_count": null,
   "metadata": {
    "deletable": false,
    "execution": {
     "iopub.execute_input": "2024-09-04T09:46:01.794892Z",
     "iopub.status.busy": "2024-09-04T09:46:01.793117Z",
     "iopub.status.idle": "2024-09-04T09:46:01.845477Z",
     "shell.execute_reply": "2024-09-04T09:46:01.804674Z"
    }
   },
   "outputs": [],
   "source": [
    "for i in range(3):\n",
    "    print(\"Hipp\")\n",
    "print(\"Hurra!\")"
   ]
  },
  {
   "cell_type": "markdown",
   "metadata": {
    "deletable": false
   },
   "source": [
    "**for &lt;variabel&gt; in range(3)**: gjør at påfølgende kodesetning(er) med innrykk blir repetert 3 ganger.\n",
    "\n",
    "print(\"Hurra!\") som ikke har innrykk, er ikke del av løkka, og vil derfor bare bli utført en gang, etter at løkka er ferdig.\n",
    "\n",
    "Funksjonskallet `range(3)` genererer en spesiell type sekvens som inneholder heltallene 0, 1 og 2. [`range`](https://www.w3schools.com/python/ref_func_range.asp) kan også ta imot argument for `start`, `stop` og `step` akkurat slik som [`np.arange()`](https://numpy.org/doc/stable/reference/generated/numpy.arange.html). Én betydelig forskjell er at [`range`](https://www.w3schools.com/python/ref_func_range.asp) kun fungerer for heltall."
   ]
  },
  {
   "cell_type": "markdown",
   "metadata": {
    "deletable": false
   },
   "source": [
    "<a id=\"oppg_4b\"></a>\n",
    "## b)\n",
    "\n",
    "Skriv ferdig funksjonen `print_gangetabell(x)` nedenfor, som tar inn et tall  `x` og skriver ut gangetabellen på følgende vis:\\\n",
    "`x-gangen:`\\\n",
    "`x * 1 = __`\\\n",
    "`x * 2 = __`\\\n",
    "`x * 3 = __`\\\n",
    "`x * 4 = __`\\\n",
    "`x * 5 = __`\\\n",
    "`x * 6 = __`\\\n",
    "`x * 7 = __`\\\n",
    "`x * 8 = __`\\\n",
    "`x * 9 = __`\\\n",
    "`x * 10 = __`\n",
    "\n",
    "*Hint: her vil det være lurt å lage en liste med tallene 1-10 som du itererer over. Dette kan du gjøre manuelt med range eller med bruk av numpy.arange()*\n",
    "\n",
    "***Skriv koden din her:***"
   ]
  },
  {
   "cell_type": "code",
   "execution_count": null,
   "metadata": {
    "deletable": false,
    "execution": {
     "iopub.execute_input": "2024-09-04T09:46:01.856758Z",
     "iopub.status.busy": "2024-09-04T09:46:01.855730Z",
     "iopub.status.idle": "2024-09-04T09:46:01.869121Z",
     "shell.execute_reply": "2024-09-04T09:46:01.866107Z"
    },
    "nbgrader": {
     "cell_type": "code",
     "checksum": "2b8a422649045cf725ddc775a57728cf",
     "grade": false,
     "grade_id": "cell-33e1ea49c7e9942c",
     "locked": false,
     "schema_version": 3,
     "solution": true,
     "task": false
    },
    "tags": []
   },
   "outputs": [],
   "source": [
    "def print_gangetabell(x):\n",
    "    #-------------------------------------\n",
    "    # SKRIV DIN KODE HER!\n",
    "    #-------------------------------------"
   ]
  },
  {
   "cell_type": "markdown",
   "metadata": {
    "deletable": false
   },
   "source": [
    "Du kan teste funksjonen ved å bruke følgende funksjonskall:\n",
    "```Python\n",
    "print_gangetabell(5)\n",
    "```\n",
    "Har du løst oppgaven riktig skal funksjonskallet skrive ut:\\\n",
    "`5-gangen:`\\\n",
    "`5 * 1 = 5`\\\n",
    "`5 * 2 = 10`\\\n",
    "`5 * 3 = 15`\\\n",
    "`5 * 4 = 20`\\\n",
    "`5 * 5 = 25`\\\n",
    "`5 * 6 = 30`\\\n",
    "`5 * 7 = 35`\\\n",
    "`5 * 8 = 40`\\\n",
    "`5 * 9 = 45`\\\n",
    "`5 * 10 = 50`\n",
    "\n",
    "*Tips: Prøv å endre listen du sender til `print_gangetabell`, og sjekk at funksjonen fungerer slik den skal for mange forskjellige lister*"
   ]
  },
  {
   "cell_type": "code",
   "execution_count": null,
   "metadata": {
    "autofeedback": {
     "test_code": "ZnJvbSBhdXRvZmVlZGJhY2sgaW1wb3J0IEZ1bmN0aW9uVGVzdHMKZnJvbSByYW5kb20gaW1wb3J0IHJhbmRpbnQKZGVmIHByaW50X2dhbmdldGFiZWxsX3NvbHV0aW9uKHgpOgogICAgZm9yIGkgaW4gcmFuZ2UoMSwxMSk6CiAgICAgICAgcHJpbnQoZiJ7eCppfSIpCgpncmFkaW5nX3Jlc3VsdHMgPSBGdW5jdGlvblRlc3RzKHByaW50X2dhbmdldGFiZWxsX3NvbHV0aW9uKQp0cnk6CiAgICBncmFkaW5nX3Jlc3VsdHMuYWRkX3Rlc3RfZnVuYyhwcmludF9nYW5nZXRhYmVsbCkKZXhjZXB0IEV4Y2VwdGlvbiBhcyBlOgogICAgZ3JhZGluZ19yZXN1bHRzLmxvZy5hcHBlbmQoIkNvdWxkIG5vdCBydW4gdGVzdHMsICIrZS5hcmdzWzBdKQplbHNlOgogICAgTiA9IDIKICAgIHRhbGwgPSBbcmFuZGludCgxLCAxMCkgZm9yIF8gaW4gcmFuZ2UoTildCgogICAgZm9yIHggaW4gdGFsbDoKICAgICAgICBncmFkaW5nX3Jlc3VsdHMudGVzdF9yZXR1cm5fdmFsdWUoeCkKCnJvdW5kKGdyYWRpbmdfcmVzdWx0cy5nZXRfcmVzdWx0cygpKjQsIDIp"
    },
    "deletable": false,
    "editable": false,
    "execution": {
     "iopub.execute_input": "2024-09-04T09:46:01.880251Z",
     "iopub.status.busy": "2024-09-04T09:46:01.879389Z",
     "iopub.status.idle": "2024-09-04T09:46:01.949871Z",
     "shell.execute_reply": "2024-09-04T09:46:01.946449Z"
    },
    "nbgrader": {
     "cell_type": "code",
     "checksum": "6066e3be91bfcb300c15dd9c5726348e",
     "grade": true,
     "grade_id": "cell-5726405cddee7506",
     "locked": true,
     "points": 4,
     "schema_version": 3,
     "solution": false,
     "task": false
    }
   },
   "outputs": [],
   "source": []
  },
  {
   "cell_type": "markdown",
   "metadata": {
    "deletable": false
   },
   "source": [
    "### For-løkker og if-setninger\n",
    "\n",
    "Ett veldig tydelig eksempel på elementvis operasjon i en sekvens der vi må ty til for-løkker er om vi ønsker å gjøre en handling for et element i en sekvens *kun* dersom en betingelse er oppfylt. For eksempel, dersom vi har en array med tall `a`, og ønsker å printe ut *kun* de negative tallene, kan det utføres med en if-setning ***inni*** for-løkken slik som vist nedenfor.\n",
    "\n",
    "```python\n",
    "for number in a: \n",
    "    if(number < 0):\n",
    "        print(number)\n",
    "```\n",
    "\n",
    "Legg spesielt merke til at if-setningen starter med innrykk, og at print-kommandoen inni if-setningen har dobbelt innrykk i og med at den er inni en if-setning som igjen er inni en for-løkke."
   ]
  },
  {
   "cell_type": "markdown",
   "metadata": {
    "deletable": false
   },
   "source": [
    "<a id=\"oppg_4c\"></a>\n",
    "## c) \n",
    "\n",
    "Skriv ferdig funksjonen `print_numbers_above_limit(numbers, limit)` som printer alle tallene i en array `numbers` med en verdi større enn `limit`."
   ]
  },
  {
   "cell_type": "code",
   "execution_count": null,
   "metadata": {
    "deletable": false,
    "execution": {
     "iopub.execute_input": "2024-09-04T09:46:01.962640Z",
     "iopub.status.busy": "2024-09-04T09:46:01.960480Z",
     "iopub.status.idle": "2024-09-04T09:46:01.974144Z",
     "shell.execute_reply": "2024-09-04T09:46:01.971454Z"
    },
    "nbgrader": {
     "cell_type": "code",
     "checksum": "0683e012025a18ede1c10b897c4932ee",
     "grade": false,
     "grade_id": "cell-e501e398625c7d0f",
     "locked": false,
     "schema_version": 3,
     "solution": true,
     "task": false
    },
    "tags": []
   },
   "outputs": [],
   "source": [
    "def print_numbers_above_limit(numbers, limit):\n",
    "    #-------------------------------------\n",
    "    # SKRIV DIN KODE HER!\n",
    "    #-------------------------------------"
   ]
  },
  {
   "cell_type": "markdown",
   "metadata": {
    "deletable": false
   },
   "source": [
    "Du kan teste funksjonen ved å bruke følgende funksjonskall:\n",
    "```Python\n",
    "print_numbers_above_limit([10, 90, 20, 80, 30, 70], 50) \n",
    "```\n",
    "Har du løst oppgaven riktig skal funksjonskallet skrive ut:\\\n",
    "`90`\\\n",
    "`80`\\\n",
    "`70`\n",
    "\n",
    "*Tips: Prøv å endre listen du sender til `print_numbers_above_limit`, og sjekk at funksjonen fungerer slik den skal for mange forskjellige lister*"
   ]
  },
  {
   "cell_type": "code",
   "execution_count": null,
   "metadata": {
    "autofeedback": {
     "test_code": "ZnJvbSBhdXRvZmVlZGJhY2sgaW1wb3J0IEZ1bmN0aW9uVGVzdHMKZnJvbSByYW5kb20gaW1wb3J0IHJhbmRpbnQKCmRlZiBwcmludF9udW1iZXJzX2Fib3ZlX2xpbWl0X3NvbHV0aW9uKG51bWJlcnMsIGxpbWl0KToKICAgIGZvciB4IGluIG51bWJlcnM6CiAgICAgICAgaWYgeCA+IGxpbWl0OgogICAgICAgICAgICBwcmludCh4KQoKCmdyYWRpbmdfcmVzdWx0cyA9IEZ1bmN0aW9uVGVzdHMocHJpbnRfbnVtYmVyc19hYm92ZV9saW1pdF9zb2x1dGlvbikKdHJ5OgogICAgZ3JhZGluZ19yZXN1bHRzLmFkZF90ZXN0X2Z1bmMocHJpbnRfbnVtYmVyc19hYm92ZV9saW1pdCkKZXhjZXB0IEV4Y2VwdGlvbiBhcyBlOgogICAgZ3JhZGluZ19yZXN1bHRzLmxvZy5hcHBlbmQoIkNvdWxkIG5vdCBydW4gdGVzdHMsICIrZS5hcmdzWzBdKQplbHNlOgogICAgTiA9IDIKICAgIGxpbWl0cyA9IFtyYW5kaW50KDksIDExKSBmb3IgXyBpbiByYW5nZShOKV0KICAgIHN0YXJ0cyA9IFtyYW5kaW50KDAsIDEwKSBmb3IgXyBpbiByYW5nZShOKV0KICAgIHN0b3BzID0gW3JhbmRpbnQoMTMsIDIyKSBmb3IgXyBpbiByYW5nZShOKV0KCiAgICBmb3Igc3RhcnQsIHN0b3AsIGxpbWl0IGluIHppcChzdGFydHMsIHN0b3BzLCBsaW1pdHMpOgogICAgICAgIGdyYWRpbmdfcmVzdWx0cy50ZXN0X3JldHVybl92YWx1ZShsaXN0KHJhbmdlKHN0YXJ0LCBzdG9wKSksIGxpbWl0KQoKcm91bmQoZ3JhZGluZ19yZXN1bHRzLmdldF9yZXN1bHRzKCkqMywgMik="
    },
    "deletable": false,
    "editable": false,
    "execution": {
     "iopub.execute_input": "2024-09-04T09:46:01.983723Z",
     "iopub.status.busy": "2024-09-04T09:46:01.982907Z",
     "iopub.status.idle": "2024-09-04T09:46:02.048528Z",
     "shell.execute_reply": "2024-09-04T09:46:02.045451Z"
    },
    "nbgrader": {
     "cell_type": "code",
     "checksum": "b1d1539e53218c129a2989ccb8671ccf",
     "grade": true,
     "grade_id": "cell-9b9fa9d464ba0936",
     "locked": true,
     "points": 3,
     "schema_version": 3,
     "solution": false,
     "task": false
    },
    "slideshow": {
     "slide_type": ""
    },
    "tags": []
   },
   "outputs": [],
   "source": []
  },
  {
   "cell_type": "markdown",
   "metadata": {
    "deletable": false,
    "editable": false
   },
   "source": [
    "<br>\n",
    "<nav class=\"navbar navbar-default\">\n",
    "        <div class=\"container-fluid\">\n",
    "            <div class=\"navbar-header\" style=\"float: left\">\n",
    "                <a class=\"navbar-brand\" href=\"3_Andregradsligning.ipynb\" target=\"_self\">&lt; Forrige side: <i>andregradsligning</i></a>\n",
    "                </div>\n",
    "            <div class=\"navbar-header\" style=\"float: right\">\n",
    "                <a class=\"navbar-brand\" href=\"5_Primtall.ipynb\" target=\"_self\">Neste side: <i>primtall</i> &gt;</a>\n",
    "            </div>\n",
    "        </div>\n",
    "</nav>"
   ]
  }
 ],
 "metadata": {
  "kernelspec": {
   "display_name": "Python 3 (ipykernel)",
   "language": "python",
   "name": "python3"
  },
  "language_info": {
   "codemirror_mode": {
    "name": "ipython",
    "version": 3
   },
   "file_extension": ".py",
   "mimetype": "text/x-python",
   "name": "python",
   "nbconvert_exporter": "python",
   "pygments_lexer": "ipython3",
   "version": "3.11.6"
  },
  "toc": {
   "base_numbering": 1,
   "nav_menu": {},
   "number_sections": false,
   "sideBar": true,
   "skip_h1_title": false,
   "title_cell": "Table of Contents",
   "title_sidebar": "Contents",
   "toc_cell": false,
   "toc_position": {},
   "toc_section_display": true,
   "toc_window_display": false
  },
  "vscode": {
   "interpreter": {
    "hash": "aee8b7b246df8f9039afb4144a1f6fd8d2ca17a180786b69acc140d282b71a49"
   }
  }
 },
 "nbformat": 4,
 "nbformat_minor": 4
}
