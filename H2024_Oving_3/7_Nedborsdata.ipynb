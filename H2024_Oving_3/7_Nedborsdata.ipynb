{
 "cells": [
  {
   "cell_type": "markdown",
   "id": "f13295ef",
   "metadata": {
    "deletable": false,
    "editable": false
   },
   "source": [
    "\n",
    "<nav class=\"navbar navbar-default\">\n",
    "  <div class=\"container-fluid\">\n",
    "    <div class=\"navbar-header\" style=\"float: left\">\n",
    "        <a class=\"navbar-brand\" href=\"0_Forside.ipynb\" target=\"_self\"> <h2> &uarr; Tilbake til forsiden</h2></a>\n",
    "    </div>\n",
    "  </div>\n",
    "</nav>"
   ]
  },
  {
   "cell_type": "markdown",
   "id": "0c5f1507-20a0-4f6b-83e7-7025dbec8a66",
   "metadata": {
    "deletable": false,
    "editable": false,
    "slideshow": {
     "slide_type": ""
    },
    "tags": []
   },
   "source": [
    "# Dataanalyse: nedbørsdata\n",
    "\n",
    "**Læringsmål:**\n",
    "\n",
    "* Praktisk bruk av løkker i dataanalyse\n",
    "\n",
    "**Oversikt:**\n",
    "* [Oppgave a) Totalt nedbør i mm](#oppg_7a)\n",
    "* [Oppgave b) Antall regnværsdager](#oppg_7b)\n",
    "\n",
    "Vedlagt denne øvingen er en `.csv`-fil med nedbørsdata fra Ålesund for kalenderåret 2023. Dataen er hentet fra [https://seklima.met.no/](https://seklima.met.no/). Nedbørsdataen er i tabellform og kan inspiseres ved å [åpne filen \n",
    "table.csv](table.csv). Vi skal i denne oppgaven bruke det vi har lært om oppsamlingsløkker til å utføre litt enkel analyse av nedbørsdataen.<br> PS: Løsningene fra oppgave **6** kan kommme godt med her.\n",
    "\n",
    "Men først skal vi bruke python til å bli litt bedre kjent med datasettet. Merk at det ***ikke*** er forventet at dere skal gjøre noe mer enn å kjøre de neste to kodecellene, da den hovedsakelig er ment for å gi starthjelp til en programmeringsoppgave som bruker data fra den virkelige verden.\n",
    "\n",
    "### Innlasting av datasett\n",
    "Det aller første vi trenger å gjøre er å lese inn dataen med Python. Kodecellen nedenfor vil laste inn nedbørsdata ved hjelp av funksjonen [read_csv](https://pandas.pydata.org/pandas-docs/stable/reference/api/pandas.read_csv.html) i modulen [pandas](https://pandas.pydata.org/docs/user_guide/10min.html). \n",
    "Deretter konverteres de interessante kolonnene til lister, slik at dataen nå er lagret i en datatype vi kjenner til., samt lage et plot av nedbørsdataen som et stolpediagram. Plottet er her hovedsakelig for å illustrere, vi skal ikke jobbe spesifikkt med plotting i denne oppgaven. "
   ]
  },
  {
   "cell_type": "code",
   "execution_count": null,
   "id": "f03c0181-2410-4318-8650-d2b32fa9920a",
   "metadata": {
    "deletable": false,
    "execution": {
     "iopub.execute_input": "2024-09-04T09:46:19.668388Z",
     "iopub.status.busy": "2024-09-04T09:46:19.665961Z",
     "iopub.status.idle": "2024-09-04T09:46:20.519250Z",
     "shell.execute_reply": "2024-09-04T09:46:20.516862Z"
    }
   },
   "outputs": [],
   "source": [
    "# Importer biblioteker\n",
    "import pandas as pd\n",
    "\n",
    "# Hent data fra fil\n",
    "df = pd.read_csv(\"Data/nedborsdata.csv\", delimiter=\";\", decimal=\",\") # Kolonner separert med semikolon (;), desimaltegn er lik komma (,)\n",
    "rain_values = list(pd.to_numeric(df[\"Nedbør (døgn)\"]))\n",
    "dates = list(df[\"Tid(norsk normaltid)\"])"
   ]
  },
  {
   "cell_type": "markdown",
   "id": "05e6a17f-e222-4335-b1f6-f147c9acebde",
   "metadata": {
    "deletable": false
   },
   "source": [
    "### Plotting av datasett\n",
    "\n",
    "Plotting av datasett er ofte en sentral del av dataanalyse. Kodecellen nedenfor lager et stolpediagram basert på datasettet "
   ]
  },
  {
   "cell_type": "code",
   "execution_count": null,
   "id": "a9d0050e-8bc9-4d26-b4d3-dc30be71e8b3",
   "metadata": {
    "deletable": false,
    "execution": {
     "iopub.execute_input": "2024-09-04T09:46:20.529412Z",
     "iopub.status.busy": "2024-09-04T09:46:20.528921Z",
     "iopub.status.idle": "2024-09-04T09:46:22.144830Z",
     "shell.execute_reply": "2024-09-04T09:46:22.142396Z"
    }
   },
   "outputs": [],
   "source": [
    "# Importer biblioteker\n",
    "import numpy as np\n",
    "import matplotlib.pyplot as plt\n",
    "\n",
    "# Plot nedbørsdataen i en stor figur som et stolpediagram\n",
    "plt.figure(figsize=(18,6)) # Lag ny figur\n",
    "plt.bar(np.arange(len(rain_values)), rain_values) # Tegn stolpediagram\n",
    "\n",
    "# Pynt på figuren \n",
    "# P.S: det er ikke forventet at du har kontroll på alt som skjer i linjene nedenfor!\n",
    "plt.title(f\"Nedbørsdata for Ålesund i perioden {dates[0]} til {dates[-1]}\")\n",
    "plt.ylabel(\"Nedbør per døgn (mm)\")\n",
    "plt.xlabel(\"Dato\")\n",
    "plt.xlim([0, len(rain_values)-1])\n",
    "plt.grid(True)\n",
    "xticks = np.where([date[0:2]=='01' for date in dates])[0] # Lag en array med indeksverdier for første dag i hver måned\n",
    "xticklabels = [dates[i] for i in xticks] # Lag en liste med datostrengene kun for første dag i hver måned\n",
    "plt.xticks(xticks, labels = xticklabels); # Angi merkepunkt langs x-aksen, og gi punktene datoer som merkelapp"
   ]
  },
  {
   "cell_type": "markdown",
   "id": "0d87fed2-2d18-4bec-9450-6c910abec4be",
   "metadata": {
    "deletable": false,
    "editable": false,
    "slideshow": {
     "slide_type": ""
    },
    "tags": []
   },
   "source": [
    "Daten vi er interessert i for denne oppgaven er samlet i variabelen `rain_values`, som er en liste med lengde lik 365 element, hvor hvert element `rain_values[index]` er et mål på antall millimeter nedbør som fant sted på datoen `dates[index]`.\n"
   ]
  },
  {
   "cell_type": "markdown",
   "id": "6bfbe955-6d47-4299-8029-a02a749407a0",
   "metadata": {
    "deletable": false
   },
   "source": [
    "<a id=\"oppg_7a\"></a>\n",
    "## a)\n",
    "Bruk for-løkker til å regne ut total mengde nedbør i Ålesund det siste året, og skriv ut resultatet med `print()`."
   ]
  },
  {
   "cell_type": "code",
   "execution_count": null,
   "id": "ae5d07ce-914a-4dc1-817a-ce19b903c9f7",
   "metadata": {
    "deletable": false,
    "execution": {
     "iopub.execute_input": "2024-09-04T09:46:22.154177Z",
     "iopub.status.busy": "2024-09-04T09:46:22.153594Z",
     "iopub.status.idle": "2024-09-04T09:46:22.165482Z",
     "shell.execute_reply": "2024-09-04T09:46:22.162756Z"
    },
    "nbgrader": {
     "cell_type": "code",
     "checksum": "845a5f60ec7e52b3e8ad7dad4a0f2b67",
     "grade": false,
     "grade_id": "cell-d589df770af2237c",
     "locked": false,
     "schema_version": 3,
     "solution": true,
     "task": false
    },
    "slideshow": {
     "slide_type": ""
    },
    "tags": []
   },
   "outputs": [],
   "source": [
    "#-------------------------------------\n",
    "# SKRIV DIN KODE HER!\n",
    "#-------------------------------------"
   ]
  },
  {
   "cell_type": "markdown",
   "id": "35ea236c-7e12-48b2-8e24-a052d52e3ab3",
   "metadata": {
    "deletable": false
   },
   "source": [
    "Eksempel på hvordan utskriften kan se ut (minus de korrekte tallverdiene):\n",
    "\n",
    "`Samlet nedbør i Ålesund i perioden 01.09.2022 til 31.08.2023: ____mm` "
   ]
  },
  {
   "cell_type": "code",
   "execution_count": null,
   "id": "a7712ffe-be28-495e-9c7f-4e7580acde8e",
   "metadata": {
    "autofeedback": {
     "test_code": "ZnJvbSBhdXRvZmVlZGJhY2sgaW1wb3J0IENvZGVDZWxsVGVzdHMKCmFuc3dlcl9jZWxsX2luZGV4ID0gbGVuKEluKS0yCmFuc3dlcl9jZWxsX2NvbnRlbnRzID0gSW5bYW5zd2VyX2NlbGxfaW5kZXhdCgpncmFkaW5nX3Jlc3VsdHMgPSBDb2RlQ2VsbFRlc3RzKGFuc3dlcl9jZWxsX2NvbnRlbnRzLCBsb2NhbHM9bG9jYWxzKCksIGdsb2JhbHM9Z2xvYmFscygpKQpncmFkaW5nX3Jlc3VsdHMudGVzdF9vdXRwdXQociIxNTJbNDVdIiwgc2FtcGxlPSIxNTI1IiwgaWdub3JlX2NvZGVfbWF0Y2g9RmFsc2UpCnJvdW5kKGdyYWRpbmdfcmVzdWx0cy5nZXRfcmVzdWx0cygpKjUsIDIp"
    },
    "deletable": false,
    "editable": false,
    "execution": {
     "iopub.execute_input": "2024-09-04T09:46:22.172468Z",
     "iopub.status.busy": "2024-09-04T09:46:22.172047Z",
     "iopub.status.idle": "2024-09-04T09:46:23.393185Z",
     "shell.execute_reply": "2024-09-04T09:46:23.391254Z"
    },
    "nbgrader": {
     "cell_type": "code",
     "checksum": "cf132312d1dac4b393ffeca408af3fe2",
     "grade": true,
     "grade_id": "cell-4c7c7678372f068e",
     "locked": true,
     "points": 5,
     "schema_version": 3,
     "solution": false,
     "task": false
    }
   },
   "outputs": [],
   "source": []
  },
  {
   "cell_type": "markdown",
   "id": "87d7c21c-0530-4c1c-b151-1449a1e7717b",
   "metadata": {
    "deletable": false
   },
   "source": [
    "<a id=\"oppg_7b\"></a>\n",
    "## b)\n",
    "Regn ut hvor mange regnværsdager det har vært i Ålesund det siste året, og skriv ut resultatet med `print() `. I denne oppgaven regner vi en dag som en regnværsdag dersom det har vært $> 0.4$mm nedbør i løpet av døgnet (dvs. mer nedbør enn hva som er tillatt i kategorien [\"Stort sett oppholdsvær\"](https://www.met.no/vaer-og-klima/begreper-i-vaervarsling))."
   ]
  },
  {
   "cell_type": "code",
   "execution_count": null,
   "id": "f8d0d017-4fd3-4dbd-afe8-1a68d3117b1c",
   "metadata": {
    "deletable": false,
    "editable": true,
    "execution": {
     "iopub.execute_input": "2024-09-04T09:46:23.402672Z",
     "iopub.status.busy": "2024-09-04T09:46:23.401950Z",
     "iopub.status.idle": "2024-09-04T09:46:23.414619Z",
     "shell.execute_reply": "2024-09-04T09:46:23.412160Z"
    },
    "nbgrader": {
     "cell_type": "code",
     "checksum": "129524222228812bb12cb5d8251a92b0",
     "grade": false,
     "grade_id": "cell-e93eace1a47f4a04",
     "locked": false,
     "schema_version": 3,
     "solution": true,
     "task": false
    },
    "slideshow": {
     "slide_type": ""
    },
    "tags": []
   },
   "outputs": [],
   "source": [
    "#-------------------------------------\n",
    "# SKRIV DIN KODE HER!\n",
    "#-------------------------------------"
   ]
  },
  {
   "cell_type": "markdown",
   "id": "d248362c-9ff7-406b-a625-b2b4c923786c",
   "metadata": {
    "deletable": false
   },
   "source": [
    "Eksempel på hvordan utskriften kan se ut (minus de korrekte tallverdiene):\n",
    "\n",
    "`Det var ____ regnværsdager i Ålesund i perioden 01.09.2022 til 31.08.2023.`"
   ]
  },
  {
   "cell_type": "code",
   "execution_count": null,
   "id": "210fdb15-43eb-405b-bc8b-f4e6c6d8b2c5",
   "metadata": {
    "autofeedback": {
     "test_code": "ZnJvbSBhdXRvZmVlZGJhY2sgaW1wb3J0IENvZGVDZWxsVGVzdHMKCmFuc3dlcl9jZWxsX2luZGV4ID0gbGVuKEluKS0yCmFuc3dlcl9jZWxsX2NvbnRlbnRzID0gSW5bYW5zd2VyX2NlbGxfaW5kZXhdCgpncmFkaW5nX3Jlc3VsdHMgPSBDb2RlQ2VsbFRlc3RzKGFuc3dlcl9jZWxsX2NvbnRlbnRzLCBsb2NhbHM9bG9jYWxzKCksIGdsb2JhbHM9Z2xvYmFscygpKQpncmFkaW5nX3Jlc3VsdHMudGVzdF9vdXRwdXQociIxODkiLCBpZ25vcmVfY29kZV9tYXRjaD1GYWxzZSkKcm91bmQoZ3JhZGluZ19yZXN1bHRzLmdldF9yZXN1bHRzKCkqNSwgMik="
    },
    "deletable": false,
    "editable": false,
    "execution": {
     "iopub.execute_input": "2024-09-04T09:46:23.445165Z",
     "iopub.status.busy": "2024-09-04T09:46:23.422773Z",
     "iopub.status.idle": "2024-09-04T09:46:23.472069Z",
     "shell.execute_reply": "2024-09-04T09:46:23.469954Z"
    },
    "nbgrader": {
     "cell_type": "code",
     "checksum": "cbf2c4543715b475f1eea6fabbe26514",
     "grade": true,
     "grade_id": "cell-5dcfea5378ca9f8c",
     "locked": true,
     "points": 5,
     "schema_version": 3,
     "solution": false,
     "task": false
    },
    "slideshow": {
     "slide_type": ""
    },
    "tags": []
   },
   "outputs": [],
   "source": []
  },
  {
   "cell_type": "markdown",
   "id": "624f3c46",
   "metadata": {
    "deletable": false,
    "editable": false
   },
   "source": [
    "<br>\n",
    "<nav class=\"navbar navbar-default\">\n",
    "        <div class=\"container-fluid\">\n",
    "            <div class=\"navbar-header\" style=\"float: left\">\n",
    "                <a class=\"navbar-brand\" href=\"6_Mer_om_lokker.ipynb\" target=\"_self\">&lt; Forrige side: <i>mer om løkker</i></a>\n",
    "                </div>\n",
    "            <div class=\"navbar-header\" style=\"float: right\">\n",
    "                <a class=\"navbar-brand\" href=\"8_Fakultet.ipynb\" target=\"_self\">Neste side: <i>fakultet</i> &gt;</a>\n",
    "            </div>\n",
    "        </div>\n",
    "</nav>"
   ]
  }
 ],
 "metadata": {
  "kernelspec": {
   "display_name": "Python 3 (ipykernel)",
   "language": "python",
   "name": "python3"
  },
  "language_info": {
   "codemirror_mode": {
    "name": "ipython",
    "version": 3
   },
   "file_extension": ".py",
   "mimetype": "text/x-python",
   "name": "python",
   "nbconvert_exporter": "python",
   "pygments_lexer": "ipython3",
   "version": "3.11.6"
  },
  "toc": {
   "base_numbering": 1
  }
 },
 "nbformat": 4,
 "nbformat_minor": 5
}
