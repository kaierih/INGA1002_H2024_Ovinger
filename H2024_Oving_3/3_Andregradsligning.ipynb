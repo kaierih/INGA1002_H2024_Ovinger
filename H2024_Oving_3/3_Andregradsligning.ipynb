{
 "cells": [
  {
   "cell_type": "markdown",
   "id": "fd61a6a3",
   "metadata": {
    "deletable": false,
    "editable": false
   },
   "source": [
    "\n",
    "<nav class=\"navbar navbar-default\">\n",
    "  <div class=\"container-fluid\">\n",
    "    <div class=\"navbar-header\" style=\"float: left\">\n",
    "        <a class=\"navbar-brand\" href=\"0_Forside.ipynb\" target=\"_self\"> <h2> &uarr; Tilbake til forsiden</h2></a>\n",
    "    </div>\n",
    "  </div>\n",
    "</nav>"
   ]
  },
  {
   "cell_type": "markdown",
   "metadata": {
    "Collapsed": "false",
    "deletable": false,
    "editable": false,
    "run_control": {
     "frozen": true
    },
    "slideshow": {
     "slide_type": ""
    },
    "tags": []
   },
   "source": [
    "# Andregradsligning\n",
    "\n",
    "**Læringsmål:**\n",
    "- Betingelser\n",
    "\n",
    "**Oversikt:**\n",
    "* [Oppgave a) Finn riktig type løsning](#oppg_3a)\n",
    "* [Oppgave b) Regn ut reelle løsninger](#oppg_3b)"
   ]
  },
  {
   "cell_type": "markdown",
   "metadata": {
    "Collapsed": "false",
    "deletable": false,
    "editable": false,
    "run_control": {
     "frozen": true
    },
    "tags": []
   },
   "source": [
    "I denne oppgaven skal vi prøve å skrive et program som finner løsningene/nullpunktene til en andregradsligning. Som vi husker fra matematikk så skrives typisk en generell andregradsligning på følgende måte:\n",
    "\n",
    "$$\n",
    "a\\cdot x^2 + b\\cdot x + c = 0\n",
    "$$\n",
    "\n",
    "En enkel måte å løse denne ligningen på er å bruke ABC-formelen. Gitt en andregradsligning med konstante verdier for $a$, $b$ og $c$ slik som ovenfor, vil eventuelle løsninger identifiseres ved hjelp av følgende uttrykk:\n",
    "\n",
    "$$x = \\frac{-b \\pm \\sqrt{b^2-4\\cdot a \\cdot c}}{2\\cdot a}$$\n",
    "\n",
    "Som vi ser i ABC-formelen vil vi ut ifra leddet $b^2 - 4 \\cdot a \\cdot c$, kunne formulere 3 ulike scenario for hva løsningene til andregradsligningen vil være:\n",
    "* **Scenario 1:**   $\\ b^2 - 4 \\cdot a \\cdot c > 0$ <br>\n",
    "    Vi tar kvadratroten av et positivt tall, og ABC-formelen gir 2 reelle løsninger.\n",
    "* **Scenario 2:**   $\\ b^2 -4\\cdot a \\cdot c = 0$ <br>\n",
    "    Kvadratroten av null er lik null. ABC-formelen gir kun 1 reell løsning.\n",
    "* **Scenario 3:**   $\\ b^2 - 4 \\cdot a \\cdot c < 0$ <br>\n",
    "    Det eksisterer ingen reelle tall som er kvadratroten til et negativt tall. ABC-formelen gir 0 relle løsninger.\n"
   ]
  },
  {
   "cell_type": "markdown",
   "metadata": {
    "Collapsed": "false",
    "deletable": false,
    "editable": false,
    "run_control": {
     "frozen": true
    },
    "slideshow": {
     "slide_type": ""
    },
    "tags": []
   },
   "source": [
    "<a id=\"oppg_3a\"></a>\n",
    "## a) Finn riktig type løsning"
   ]
  },
  {
   "cell_type": "markdown",
   "metadata": {
    "Collapsed": "false",
    "deletable": false,
    "editable": false,
    "run_control": {
     "frozen": true
    }
   },
   "source": [
    "***Lag en funksjon som tar inn de tre verdiene a, b og c. Deretter skal den regen ut om ligningen har null, én eller to reelle løsninger og returnerer dette som et tall.***\n",
    "\n",
    "Sjekk for alle de tre mulige utfallene:\n",
    "\n",
    "- Ingen reelle løsninger\n",
    "  - f.eks.: a = 2, b = 4, c = 9   \n",
    "      - $2x^2+4x+9=0$\n",
    "  - Ønsket returverdi: `0`\n",
    "- To reelle løsninger\n",
    "  - f.eks.: a = 2, b = -5, c = 0  \n",
    "      - $2x^2-5x=0$\n",
    "  - Ønsket returverdi: `2`\n",
    "- Én reell løsning\n",
    "  - f.eks.: a = 2, b = 4, c = 2   \n",
    "      - $2x^2+4x+2=0$\n",
    "  - Ønsket returverdi: `1`\n",
    "  \n",
    "***Skriv koden under***"
   ]
  },
  {
   "cell_type": "code",
   "execution_count": null,
   "metadata": {
    "Collapsed": "false",
    "deletable": false,
    "execution": {
     "iopub.execute_input": "2024-08-28T17:38:33.173186Z",
     "iopub.status.busy": "2024-08-28T17:38:33.172291Z",
     "iopub.status.idle": "2024-08-28T17:38:33.202366Z",
     "shell.execute_reply": "2024-08-28T17:38:33.198712Z"
    },
    "nbgrader": {
     "cell_type": "code",
     "checksum": "65bf7a5125568f42fc2e409676ae162c",
     "grade": false,
     "grade_id": "cell-c0bc668db8c4da44",
     "locked": false,
     "schema_version": 3,
     "solution": true,
     "task": false
    },
    "tags": []
   },
   "outputs": [],
   "source": [
    "def antall_losninger(a, b, c):\n",
    "    #-------------------------------------\n",
    "    # SKRIV DIN KODE HER!\n",
    "    #-------------------------------------\n",
    "    \n",
    "# Her er funksjonskall med utskrift for å sjekke de tre mulige utfallene:\n",
    "print(f\"{antall_losninger(2, 4, 9) = }\")\n",
    "print(f\"{antall_losninger(2, -5, 0) = }\")\n",
    "print(f\"{antall_losninger(2, 4, 2) = }\")"
   ]
  },
  {
   "cell_type": "code",
   "execution_count": null,
   "metadata": {
    "autofeedback": {
     "test_code": "ZnJvbSByYW5kb20gaW1wb3J0IHNhbXBsZQpmcm9tIGF1dG9mZWVkYmFjayBpbXBvcnQgRnVuY3Rpb25UZXN0cwoKZGVmIGFudGFsbF9sb3NuaW5nZXJfc29sdXRpb24oYSwgYiwgYyk6CiAgICBkID0gYioqMiAtIDQqYSpjCiAgICBpZiBkID4gMDoKICAgICAgICByZXR1cm4gMgogICAgZWxpZiBkIDwgMDoKICAgICAgICByZXR1cm4gMAogICAgZWxzZToKICAgICAgICByZXR1cm4gMQoKZ3JhZGluZ19yZXN1bHRzID0gRnVuY3Rpb25UZXN0cyhhbnRhbGxfbG9zbmluZ2VyX3NvbHV0aW9uKQp0cnk6CiAgICBncmFkaW5nX3Jlc3VsdHMuYWRkX3Rlc3RfZnVuYyhhbnRhbGxfbG9zbmluZ2VyKQpleGNlcHQgRXhjZXB0aW9uIGFzIGU6CiAgICBncmFkaW5nX3Jlc3VsdHMubG9nLmFwcGVuZCgiQ291bGQgbm90IHJ1biB0ZXN0cywgIitlLmFyZ3NbMF0pCmVsc2U6CiAgICAjIEluZ2VuIHJlZWxsZSBsb3NuaW5nZXI6CiAgICBOID0gMgogICAgeF92YWxzID0gc2FtcGxlKGxpc3QocmFuZ2UoLTUsIDYpKSwgTikKICAgIHlfdmFscyA9IHNhbXBsZShsaXN0KHJhbmdlKDEsIDExKSksIE4pCiAgICBhX3ZhbHMgPSBzYW1wbGUobGlzdChyYW5nZSgxLCA2KSksIE4pCiAgICBmb3IgeCwgeSwgYSBpbiB6aXAoeF92YWxzLCB5X3ZhbHMsIGFfdmFscyk6CiAgICAgICAgYiwgYyA9IC0yKngqYSwgKHgqKjIgKyB5KioyKSphCiAgICAgICAgZ3JhZGluZ19yZXN1bHRzLnRlc3RfcmV0dXJuX3ZhbHVlKGEsIGIsIGMpCgogICAgIyBEb2JiZWx0cm90OgogICAgeF92YWxzID0gc2FtcGxlKGxpc3QocmFuZ2UoLTUsIDYpKSwgTikKICAgIGFfdmFscyA9IHNhbXBsZShsaXN0KHJhbmdlKDEsIDYpKSwgTikKICAgIGZvciB4LCBhIGluIHppcCh4X3ZhbHMsIGFfdmFscyk6CiAgICAgICAgYiwgYyA9IC0yKngqYSwgeCoqMiphCiAgICAgICAgZ3JhZGluZ19yZXN1bHRzLnRlc3RfcmV0dXJuX3ZhbHVlKGEsIGIsIGMpCgogICAgIyBUbyByZWVsbGUgbMO4c25pbmdlcgogICAgdG90YWxfcm9vdHMgPSBzYW1wbGUobGlzdChyYW5nZSgtNSwgNikpLCAyKk4pCiAgICB4MV92YWxzID0gdG90YWxfcm9vdHNbOjoyXQogICAgeDJfdmFscyA9IHRvdGFsX3Jvb3RzWzE6OjJdCiAgICBhX3ZhbHMgPSBzYW1wbGUobGlzdChyYW5nZSgxLCA2KSksIE4pCiAgICBmb3IgeDEsIHgyLCBhIGluIHppcCh4MV92YWxzLCB4Ml92YWxzLCBhX3ZhbHMpOgogICAgICAgIGIsIGMgPSAtKHgxK3gyKSphLCBhKngxKngyCiAgICAgICAgZ3JhZGluZ19yZXN1bHRzLnRlc3RfcmV0dXJuX3ZhbHVlKGEsIGIsIGMpCgpyb3VuZChncmFkaW5nX3Jlc3VsdHMuZ2V0X3Jlc3VsdHMoKSo1LCAyKQ=="
    },
    "deletable": false,
    "editable": false,
    "execution": {
     "iopub.execute_input": "2024-08-28T17:38:33.215057Z",
     "iopub.status.busy": "2024-08-28T17:38:33.212969Z",
     "iopub.status.idle": "2024-08-28T17:38:35.252886Z",
     "shell.execute_reply": "2024-08-28T17:38:35.250332Z"
    },
    "nbgrader": {
     "cell_type": "code",
     "checksum": "be5bbe214017ef9c87a01d48efbefc73",
     "grade": true,
     "grade_id": "cell-6908cf61195eb2bc",
     "locked": true,
     "points": 5,
     "schema_version": 3,
     "solution": false,
     "task": false
    },
    "slideshow": {
     "slide_type": ""
    },
    "tags": []
   },
   "outputs": [],
   "source": [
    "# Denne cellen brukes under retting. La stå!"
   ]
  },
  {
   "cell_type": "markdown",
   "metadata": {
    "Collapsed": "false",
    "deletable": false,
    "editable": false,
    "run_control": {
     "frozen": true
    }
   },
   "source": [
    "<a id=\"oppg_3b\"></a>\n",
    "## b) Reelle løsninger"
   ]
  },
  {
   "cell_type": "markdown",
   "metadata": {
    "Collapsed": "false",
    "deletable": false,
    "editable": false,
    "run_control": {
     "frozen": true
    },
    "slideshow": {
     "slide_type": ""
    },
    "tags": []
   },
   "source": [
    "***Utvid nå funksjonen fra a) slik at et funksjonskall returnerer de reelle løsningene som en liste***\n",
    "\n",
    "**Eksempel på kjøring av kode:**\n",
    "\n",
    "```python\n",
    "#Eksempel 1: ingen reelle løsninger\n",
    "andregradsligning(2, 4, 9)\n",
    "[]\n",
    "``` \n",
    "\n",
    "\n",
    "```python\n",
    "#Eksempel 2: to reelle løsninger\n",
    "andregradsligning(2, -5, 0)\n",
    "[0.0, 2.5]\n",
    "```\n",
    "\n",
    "```python\n",
    "#Eksempel 3: én reell løsning\n",
    "andregradsligning(2, 4, 2)\n",
    "[-1.0]\n",
    "```\n",
    "\n",
    "**Skriv koden her:**"
   ]
  },
  {
   "cell_type": "code",
   "execution_count": null,
   "metadata": {
    "deletable": false,
    "execution": {
     "iopub.execute_input": "2024-08-28T17:38:35.262412Z",
     "iopub.status.busy": "2024-08-28T17:38:35.261757Z",
     "iopub.status.idle": "2024-08-28T17:38:35.274480Z",
     "shell.execute_reply": "2024-08-28T17:38:35.272186Z"
    },
    "nbgrader": {
     "cell_type": "code",
     "checksum": "e334d3fb869b2c092eb9e642ce9bf8fd",
     "grade": false,
     "grade_id": "cell-53852541c5bd88c5",
     "locked": false,
     "schema_version": 3,
     "solution": true,
     "task": false
    },
    "tags": []
   },
   "outputs": [],
   "source": [
    "def andregradsligning(a, b, c):\n",
    "    #-------------------------------------\n",
    "    # SKRIV DIN KODE HER!\n",
    "    #-------------------------------------\n",
    "\n",
    "# Funksjonskall for å sjekke de tre foreslåtte utfallene.\n",
    "# Eksempel 1: ingen reelle løsninger\n",
    "print(f\"{andregradsligning(2, 4, 9) = }\")\n",
    "\n",
    "# Eksempel 2: to reelle løsninger\n",
    "print(f\"{andregradsligning(2, 5, 2) = }\")\n",
    "\n",
    "# Eksempel 3: én reell løsning\n",
    "print(f\"{andregradsligning(2, 4, 2) = }\")"
   ]
  },
  {
   "cell_type": "code",
   "execution_count": null,
   "metadata": {
    "autofeedback": {
     "test_code": "ZnJvbSByYW5kb20gaW1wb3J0IHNhbXBsZQpmcm9tIGF1dG9mZWVkYmFjayBpbXBvcnQgRnVuY3Rpb25UZXN0cwpmcm9tIHVuaXR0ZXN0Lm1vY2sgaW1wb3J0IHBhdGNoCmltcG9ydCBudW1weSBhcyBucAoKZGVmIGFuZHJlZ3JhZHNsaWduaW5nX3NvbHV0aW9uKGEsIGIsIGMpOgogICAgZCA9IGIqKjIgLSA0KmEqYwogICAgaWYgZCA8IDA6CiAgICAgICAgbG9zbmluZyA9IFtdCiAgICBlbGlmIGQgPT0gMDoKICAgICAgICBsb3NuaW5nID0gWy1iLygyKmEpXQogICAgZWxzZToKICAgICAgICB4XzEgPSAoLWIrZCoqMC41KS8oMiphKQogICAgICAgIHhfMiA9ICgtYi1kKiowLjUpLygyKmEpCiAgICAgICAgbG9zbmluZyA9IFt4XzEsIHhfMl0KICAgIGxvc25pbmcgPSBucC5zb3J0KGxvc25pbmcpCiAgICByZXR1cm4gbG9zbmluZwoKZ3JhZGluZ19yZXN1bHRzID0gRnVuY3Rpb25UZXN0cyhhbmRyZWdyYWRzbGlnbmluZ19zb2x1dGlvbikKdHJ5OgogICAgYW5kcmVncmFkc2xpZ25pbmdfc3R1ZGVudF9zdWIgPSBhbmRyZWdyYWRzbGlnbmluZwogICAgZGVmIGFuZHJlZ3JhZHNsaWduaW5nKGEsIGIsIGMpOgogICAgICAgIHJldHVybiBucC5zb3J0KGFuZHJlZ3JhZHNsaWduaW5nX3N0dWRlbnRfc3ViKGEsIGIsIGMpKQogICAgZ3JhZGluZ19yZXN1bHRzLmFkZF90ZXN0X2Z1bmMoYW5kcmVncmFkc2xpZ25pbmcpCmV4Y2VwdCBFeGNlcHRpb24gYXMgZToKICAgIGdyYWRpbmdfcmVzdWx0cy5sb2cuYXBwZW5kKCJDb3VsZCBub3QgcnVuIHRlc3RzLCAiK2UuYXJnc1swXSkKZWxzZToKICAgICMgSW5nZW4gcmVlbGxlIGxvc25pbmdlcjoKICAgIE4gPSAyCiAgICB4X3ZhbHMgPSBzYW1wbGUobGlzdChyYW5nZSgtNSwgNikpLCBOKQogICAgeV92YWxzID0gc2FtcGxlKGxpc3QocmFuZ2UoMSwgMTEpKSwgTikKICAgIGFfdmFscyA9IHNhbXBsZShsaXN0KHJhbmdlKDEsIDYpKSwgTikKICAgIGZvciB4LCB5LCBhIGluIHppcCh4X3ZhbHMsIHlfdmFscywgYV92YWxzKToKICAgICAgICBiLCBjID0gLTIqeCphLCAoeCoqMiArIHkqKjIpKmEKICAgICAgICBncmFkaW5nX3Jlc3VsdHMudGVzdF9yZXR1cm5fdmFsdWUoYSwgYiwgYykKCiAgICAjIERvYmJlbHRyb3Q6CiAgICB4X3ZhbHMgPSBzYW1wbGUobGlzdChyYW5nZSgtNSwgNikpLCBOKQogICAgYV92YWxzID0gc2FtcGxlKGxpc3QocmFuZ2UoMSwgNikpLCBOKQogICAgZm9yIHgsIGEgaW4gemlwKHhfdmFscywgYV92YWxzKToKICAgICAgICBiLCBjID0gLTIqeCphLCB4KioyKmEKICAgICAgICBncmFkaW5nX3Jlc3VsdHMudGVzdF9yZXR1cm5fdmFsdWUoYSwgYiwgYykKCiAgICAjIFRvIHJlZWxsZSBsw7hzbmluZ2VyCiAgICB0b3RhbF9yb290cyA9IHNhbXBsZShsaXN0KHJhbmdlKC01LCA2KSksIDIqTikKICAgIHgxX3ZhbHMgPSB0b3RhbF9yb290c1s6OjJdCiAgICB4Ml92YWxzID0gdG90YWxfcm9vdHNbMTo6Ml0KICAgIGFfdmFscyA9IHNhbXBsZShsaXN0KHJhbmdlKDEsIDYpKSwgTikKICAgIGZvciB4MSwgeDIsIGEgaW4gemlwKHgxX3ZhbHMsIHgyX3ZhbHMsIGFfdmFscyk6CiAgICAgICAgYiwgYyA9IC0oeDEreDIpKmEsIGEqeDEqeDIKICAgICAgICBncmFkaW5nX3Jlc3VsdHMudGVzdF9yZXR1cm5fdmFsdWUoYSwgYiwgYykgCgpyb3VuZChncmFkaW5nX3Jlc3VsdHMuZ2V0X3Jlc3VsdHMoKSo1LCAyKQ=="
    },
    "deletable": false,
    "editable": false,
    "execution": {
     "iopub.execute_input": "2024-08-28T17:38:35.282022Z",
     "iopub.status.busy": "2024-08-28T17:38:35.281477Z",
     "iopub.status.idle": "2024-08-28T17:38:35.350281Z",
     "shell.execute_reply": "2024-08-28T17:38:35.346926Z"
    },
    "nbgrader": {
     "cell_type": "code",
     "checksum": "9490225ac9eb7c72c5e5a60dbf9f0deb",
     "grade": true,
     "grade_id": "cell-39963c737e94672f",
     "locked": true,
     "points": 5,
     "schema_version": 3,
     "solution": false,
     "task": false
    },
    "slideshow": {
     "slide_type": ""
    },
    "tags": []
   },
   "outputs": [],
   "source": [
    "# Denne cellen brukes under retting. La stå!"
   ]
  },
  {
   "cell_type": "markdown",
   "id": "09b48822",
   "metadata": {
    "deletable": false,
    "editable": false
   },
   "source": [
    "<br>\n",
    "<nav class=\"navbar navbar-default\">\n",
    "        <div class=\"container-fluid\">\n",
    "            <div class=\"navbar-header\" style=\"float: left\">\n",
    "                <a class=\"navbar-brand\" href=\"2_Logiske_operatorer_og_logiske_uttrykk.ipynb\" target=\"_self\">&lt; Forrige side: <i>logiske operatorer og logiske_uttrykk</i></a>\n",
    "                </div>\n",
    "            <div class=\"navbar-header\" style=\"float: right\">\n",
    "                <a class=\"navbar-brand\" href=\"4_Lister_og_lokker.ipynb\" target=\"_self\">Neste side: <i>lister og løkker</i> &gt;</a>\n",
    "            </div>\n",
    "        </div>\n",
    "</nav>"
   ]
  }
 ],
 "metadata": {
  "kernelspec": {
   "display_name": "Python 3 (ipykernel)",
   "language": "python",
   "name": "python3"
  },
  "language_info": {
   "codemirror_mode": {
    "name": "ipython",
    "version": 3
   },
   "file_extension": ".py",
   "mimetype": "text/x-python",
   "name": "python",
   "nbconvert_exporter": "python",
   "pygments_lexer": "ipython3",
   "version": "3.11.6"
  },
  "toc": {
   "base_numbering": 1,
   "nav_menu": {},
   "number_sections": false,
   "sideBar": true,
   "skip_h1_title": false,
   "title_cell": "Table of Contents",
   "title_sidebar": "Contents",
   "toc_cell": false,
   "toc_position": {},
   "toc_section_display": true,
   "toc_window_display": false
  },
  "vscode": {
   "interpreter": {
    "hash": "1af34073cf870790cfc76b9595972df681b22c7711d0d010a36b0715767a3067"
   }
  }
 },
 "nbformat": 4,
 "nbformat_minor": 4
}
