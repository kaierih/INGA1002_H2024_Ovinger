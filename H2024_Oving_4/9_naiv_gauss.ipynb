{
 "cells": [
  {
   "cell_type": "markdown",
   "id": "f7d60f15",
   "metadata": {
    "deletable": false,
    "editable": false
   },
   "source": [
    "\n",
    "<nav class=\"navbar navbar-default\">\n",
    "  <div class=\"container-fluid\">\n",
    "    <div class=\"navbar-header\" style=\"float: left\">\n",
    "        <a class=\"navbar-brand\" href=\"0_Forside.ipynb\" target=\"_self\"> <h2> &uarr; Tilbake til forsiden</h2></a>\n",
    "    </div>\n",
    "  </div>\n",
    "</nav>"
   ]
  },
  {
   "cell_type": "markdown",
   "id": "cd098274-a461-4c88-95d2-df8e4192a784",
   "metadata": {
    "deletable": false
   },
   "source": [
    "# Naiv Gauss-eliminasjon med Python\n",
    "\n",
    "#### Læringsmål:\n",
    "* Bruk av matriseoperasjoner til å løse lineære ligningssett\n",
    "* Algoritmeforståelse for gauss-eliminasjon\n",
    "* Forbedre forstålse for både lineær algebra og programmering med 2-dimensjonale arrays\n",
    "\n",
    "#### Introduksjon:\n",
    "\n",
    "I lineær algebra har vi lært om naiv Gauss-eliminasjon, og hvordan det kan brukes til å løse lineære ligningssett. I denne oppgaven skal vi skrive et python-program som kan utføre naiv Gauss-eliminasjon på et sett med 3 ligninger med 3 ukjente.\n",
    "\n",
    "Vi tar for oss følgende ligningssett:\n",
    "\n",
    "$$\n",
    "\\begin{align}\n",
    "x_1 -x_2 + 3x_3 &= 7\\\\\n",
    "2x_1 + x_2 + x_3 &= 4\\\\\n",
    "-3 x_1 + 2x_2 -2x_3 &= -10\n",
    "\\end{align}\n",
    "$$\n",
    "\n",
    "Ligningssettet kan skrives på matriseform \n",
    "\n",
    "$$ \\boldsymbol{A}\\cdot \\vec{x} = \\vec{b}$$\n",
    "\n",
    "$$\\text{der}$$ \n",
    "$$ \\boldsymbol{A} = \\begin{bmatrix} 1 & -1 & 3 \\\\ 2 & 1 & 1 \\\\ -3 & 2 & -2  \\end{bmatrix}, \\ \\ \\ \\vec{b} = \\begin{bmatrix}7 \\\\ 4 \\\\ -10 \\end{bmatrix}\\ \\ \\ \\text{ og }\\ \\  \\vec{x} = \\begin{bmatrix}x_1 \\\\ x_2 \\\\ x_3 \\end{bmatrix}$$\n",
    "\n",
    "Kodecellen nedenfor definerer matrisene-variablene `A` og `b` som vi skal bruke videre i oppgaven.\n",
    "\n"
   ]
  },
  {
   "cell_type": "code",
   "execution_count": null,
   "id": "7d8e7d11-69d0-44fd-aadd-94119d3ca95f",
   "metadata": {
    "autofeedback": {
     "test_code": "IyBPdmVyc2tyaXZlciBtYXRyaXNlbmUgQSBvZyBiIG1lZCBueWUgdmVyZGllciBmb3IgYnJ1ayB1bmRlciB0ZXN0aW5nCmZyb20gSVB5dGhvbi5kaXNwbGF5IGltcG9ydCBIVE1MCmZyb20gcmFuZG9tIGltcG9ydCByYW5kaW50CgpBID0gbnAuYXJyYXkoW1syLjAsIC00LjAsIC03LjBdLAogICAgICAgICAgICAgIFstNC4wLCAzLjAsIC02LjBdLAogICAgICAgICAgICAgIFstMi4wLCA2LjAsIDIuMF1dKQoKZGVmIGNhbGN1bGF0ZV9iKEEsIHgpOgogICAgeCA9IG5wLnJlc2hhcGUoeCwgKC0xLCAxKSkKICAgIGIgPSBBQHgKICAgIHJldHVybiBiCgpiID0gY2FsY3VsYXRlX2IoQSwgW3ggaWYgeCE9MCBlbHNlIDkgZm9yIHggaW4gW3JhbmRpbnQoLTksOSkgZm9yIF8gaW4gcmFuZ2UoMyldXSkKQV9yZWZlcmVuY2UsIGJfcmVmZXJlbmNlID0gQS5jb3B5KCksIGIuY29weSgpCkhUTUwoZiIiIjxkaXYgY2xhc3MgPSAiYWxlcnQgYWxlcnQtaW5mbyI+ClJlcGxhY2luZyB2YWx1ZXMgaW4gbWF0cml4ICdBJyBhbmQgdmVjdG9yICdiJyBmb3IgdGVzdGluZy4gTmV3IHZhbHVlczogPGJyPgo8ZGl2IHN0eWxlPSJtYXJnaW4tbGVmdDoyMHB4Ij5BID0ge3N0cihBKX08YnI+YiA9IHtzdHIoYil9PC9kaXY+PGJyPgpTdWJzZXF1ZW50IHRlc3RzIHdpbGwgZmFpbCBpZiBjb2RlIHNvbHV0aW9ucyBkbyBub3QgdXNlIHVwZGF0ZWQgdmFsdWVzLgo8L2Rpdj4iIiIp"
    },
    "deletable": false,
    "editable": false,
    "execution": {
     "iopub.execute_input": "2024-09-10T11:34:06.214547Z",
     "iopub.status.busy": "2024-09-10T11:34:06.213792Z",
     "iopub.status.idle": "2024-09-10T11:34:06.552180Z",
     "shell.execute_reply": "2024-09-10T11:34:06.550223Z"
    },
    "nbgrader": {
     "cell_type": "code",
     "checksum": "efb5b2fda748cb9f76dd6fee03f893a7",
     "grade": true,
     "grade_id": "cell-06ff132a6401c6d2",
     "locked": true,
     "points": 0,
     "schema_version": 3,
     "solution": false,
     "task": false
    }
   },
   "outputs": [],
   "source": [
    "import numpy as np\n",
    "\n",
    "A = np.array([[1.0, -1.0, 3.0],\n",
    "              [2.0, 1.0, 1.0],\n",
    "              [-3.0, 2.0, -2.0]])\n",
    "b = np.array([[7.0], \n",
    "              [4.0], \n",
    "              [-10.0]])"
   ]
  },
  {
   "cell_type": "markdown",
   "id": "8a4c3fc5-998e-4dd9-929b-73f8aadc354f",
   "metadata": {
    "deletable": false
   },
   "source": [
    "### a)\n",
    "Første steg i naiv Gauss-eliminasjon er å slå sammen $n\\times n$ matrisen $\\boldsymbol{A}$ og kolonnevektoren $\\vec{b}$ til en ny matrise $\\boldsymbol{M}$.\n",
    "\n",
    "$$\n",
    "\\boldsymbol{M} = \n",
    "\\begin{bmatrix}\n",
    "a_{11} & a_{12} & \\cdots & a_{1n} & b_1\\\\ \n",
    "a_{21} & a_{22} & \\cdots & a_{2n} & b_2\\\\ \n",
    "\\vdots & \\vdots & \\ddots & \\vdots & \\vdots \\\\\n",
    "a_{n1} & a_{n2}& \\cdots & a_{nn}& b_n\n",
    "\\end{bmatrix}\n",
    "$$\n",
    "\n",
    "Lag to variabler `A` og `b` som inneholder matrisen $\\boldsymbol{A}$ og kolonnevektore $\\vec{b}$ definert ovenfor. Bruk deretter `python` til å slå sammen `A` og `b` til en ny $3\\times 4$ matrise `M`. <br>\n",
    "*Hint: Her kan `numpy.hstack()` være til hjelp, men det er også fullt mulig å løse ved bruk av slicing*"
   ]
  },
  {
   "cell_type": "code",
   "execution_count": null,
   "id": "787243cc-a81f-45a3-8fc2-51fc3fc56f3b",
   "metadata": {
    "deletable": false,
    "execution": {
     "iopub.execute_input": "2024-09-10T11:34:06.561193Z",
     "iopub.status.busy": "2024-09-10T11:34:06.560631Z",
     "iopub.status.idle": "2024-09-10T11:34:06.568357Z",
     "shell.execute_reply": "2024-09-10T11:34:06.566241Z"
    },
    "nbgrader": {
     "cell_type": "code",
     "checksum": "2b28860a279908437ed2b5d5861fbca9",
     "grade": false,
     "grade_id": "cell-174f3c3d4c05a13b",
     "locked": false,
     "schema_version": 3,
     "solution": true,
     "task": false
    }
   },
   "outputs": [],
   "source": [
    "#-------------------------------------\n",
    "# SKRIV DIN KODE HER!\n",
    "#-------------------------------------"
   ]
  },
  {
   "cell_type": "markdown",
   "id": "96789265-1367-408a-a90e-3acd42c9d841",
   "metadata": {
    "deletable": false
   },
   "source": [
    "Kjør cellen under for å skrive ut innholdet i matrisen `M`:"
   ]
  },
  {
   "cell_type": "code",
   "execution_count": null,
   "id": "a4973cca-0d90-4572-b02c-2438146529ab",
   "metadata": {
    "autofeedback": {
     "test_code": "ZnJvbSBhdXRvZmVlZGJhY2sgaW1wb3J0IFRlc3RDbGFzcwoKdGVzdF9yZXN1bHRzID0gVGVzdENsYXNzKCkKaWYgIk0iIG5vdCBpbiBnbG9iYWxzKCk6CiAgICB0ZXN0X3Jlc3VsdHMuYWRkX3Jlc3VsdChGYWxzZSwgIm5vIHZhcmlhYmxlIG5hbWVkICdNJyBmb3VuZC4iKQplbGlmIG5vdCBpc2luc3RhbmNlKE0sIG5wLm5kYXJyYXkpOgogICAgdGVzdF9yZXN1bHRzLmFkZF9yZXN1bHQoRmFsc2UsIGYiJ00nIGlzIHR5cGUge3R5cGUoTSkuX19uYW1lX199IGFuZCBub3QgJ2FycmF5Jy4iKQplbHNlOgogICAgaWYgbnAuc2hhcGUoTSkgIT0gKDMsIDQpOgogICAgICAgIHRlc3RfcmVzdWx0cy5hZGRfcmVzdWx0KEZhbHNlLCBmInRoZSBtYXRyaXggJ00nIGhhcyBzaGFwZSB7TS5zaGFwZX0gYW5kIG5vdCAoMywgNCkiKQogICAgICAgIAogICAgZWxpZiBucC5hbGwoTSA9PSBucC5hcnJheShbWzEuMCwgLTEuMCwgMy4wLCA3Ll0sCiAgICAgICAgICAgICAgICAgICAgICAgICAgICAgICBbMi4wLCAxLjAsIDEuMCwgNC5dLAogICAgICAgICAgICAgICAgICAgICAgICAgICAgICAgWy0zLjAsIDIuMCwgLTIuMCwgLTEwLl1dKSk6CiAgICAgICAgdGVzdF9yZXN1bHRzLmFkZF9yZXN1bHQoRmFsc2UsIGYiY29udGVudHMgb2YgbWF0cml4ICdNJyBhcmUge019IGV2ZW4gdGhvdWdoIHRoZSBvcmlnaW5hbCB2YWx1ZXMgb2YgJ0EnIGFuZCAnYicgaGF2ZSBiZWVuIHJlcGxhY2VkLiBNYWtlIHN1cmUgdG8gcmVtb3ZlIGFueSByZS1kZWNsYXJhdGlvbnMgJ0EnIG9yICdiJyB3aGljaCBtYXkgb3ZlcnJpZGUgdGhpcyByZXBsYWNlbWVudC4iKQogICAgCiAgICBlbGlmIG5wLmFsbChNID09IG5wLmhzdGFjaygoQV9yZWZlcmVuY2UsIGJfcmVmZXJlbmNlKSkpOgogICAgICAgIHRlc3RfcmVzdWx0cy5hZGRfcmVzdWx0KFRydWUsICJ0aGUgbWF0cml4ICdNJyBjb250YWlucyBleHBlY3RlZCB2YWx1ZXMuIikKCiAgICBlbHNlOgogICAgICAgIHRlc3RfcmVzdWx0cy5hZGRfcmVzdWx0KEZhbHNlLCAiZWxlbWVudHMgaW4gbWF0cml4ICdNJyBhcmUgaW5jb3JyZWN0LiIpCgpyb3VuZCh0ZXN0X3Jlc3VsdHMuZ2V0X3Jlc3VsdHMoKSoxLCAyKQ=="
    },
    "deletable": false,
    "editable": false,
    "execution": {
     "iopub.execute_input": "2024-09-10T11:34:06.576516Z",
     "iopub.status.busy": "2024-09-10T11:34:06.576074Z",
     "iopub.status.idle": "2024-09-10T11:34:08.065541Z",
     "shell.execute_reply": "2024-09-10T11:34:08.064127Z"
    },
    "nbgrader": {
     "cell_type": "code",
     "checksum": "3850d7e7d050fa6d47179ee10530624e",
     "grade": true,
     "grade_id": "cell-ab65e82bf245f261",
     "locked": true,
     "points": 1,
     "schema_version": 3,
     "solution": false,
     "task": false
    }
   },
   "outputs": [],
   "source": [
    "print(f\"M: \\n{M}\")"
   ]
  },
  {
   "cell_type": "markdown",
   "id": "79bf117c-13f9-4243-84a4-c640d3c11056",
   "metadata": {
    "deletable": false
   },
   "source": [
    "Vi kan nå utføre Gauss-eliminasjon ved å bruke *list-slicing* til å hente ut enkelt-rader i matrisen $\\boldsymbol{M}$, multiplisere de med en bestemt faktor, og trekke fra eksisterende rader.\n",
    "\n",
    "### b)\n",
    "Første steg er å utføre følgende eliminasjon i Python, slik at matrise-elementet $m_{21}=0$:\n",
    "$$\n",
    "\\begin{bmatrix}\n",
    "1 & -1 & 3 & 7\\\\ 2 & 1 & 1 & 4\\\\ -3 & 2 & -2 & -10  \n",
    "\\end{bmatrix}\n",
    "\\xRightarrow{\\text{trekk } \\frac{m_{21}}{m_{11}} \\times \\text{rad 1 fra rad 2}}\n",
    "\\begin{bmatrix}\n",
    "1 & -1 & 3 & 7\\\\ 0 & 5 & -5 & -10\\\\ -3 & 2 & -2 & -10  \n",
    "\\end{bmatrix}\n",
    "$$\n",
    "\n",
    "*NB! Kodeløsningen skal være **generell**, og hente tallverdier fra matrisen `M` med indeksering. Koden din skal få til samme eliminasjon av kolonne 1 rad 2 for enhver matrise `M`*\n"
   ]
  },
  {
   "cell_type": "code",
   "execution_count": null,
   "id": "c26f066b-adad-49dc-b445-090f95433c4f",
   "metadata": {
    "deletable": false,
    "execution": {
     "iopub.execute_input": "2024-09-10T11:34:08.073136Z",
     "iopub.status.busy": "2024-09-10T11:34:08.072515Z",
     "iopub.status.idle": "2024-09-10T11:34:08.083093Z",
     "shell.execute_reply": "2024-09-10T11:34:08.080214Z"
    },
    "nbgrader": {
     "cell_type": "code",
     "checksum": "2d8a81405a0f3d8559c299308120ea8a",
     "grade": false,
     "grade_id": "cell-4ba8e6f8db4a8758",
     "locked": false,
     "schema_version": 3,
     "solution": true,
     "task": false
    }
   },
   "outputs": [],
   "source": [
    "#-------------------------------------\n",
    "# SKRIV DIN KODE HER!\n",
    "#-------------------------------------"
   ]
  },
  {
   "cell_type": "markdown",
   "id": "4d5e3c16-741d-4962-8fca-3ca228035b0d",
   "metadata": {
    "deletable": false
   },
   "source": [
    "Kjør cellen under for å skrive ut innholdet i matrisen `M` dersom du vil verifisere:"
   ]
  },
  {
   "cell_type": "code",
   "execution_count": null,
   "id": "b2bea8d7-98ce-4c39-80f3-18b67d1877f7",
   "metadata": {
    "autofeedback": {
     "test_code": "ZnJvbSBhdXRvZmVlZGJhY2sgaW1wb3J0IFRlc3RDbGFzcwpkZWYgYl9zb2woQSwgYik6CiAgICBNID0gbnAuaHN0YWNrKChBLCBiKSkKICAgIE1bMSw6XSA9IE1bMSw6XSAtIE1bMCw6XSooTVsxLDBdL01bMCwwXSkKICAgIHJldHVybiBNCnRlc3RfcmVzdWx0cyA9IFRlc3RDbGFzcygpCmlmICJNIiBub3QgaW4gZ2xvYmFscygpOgogICAgdGVzdF9yZXN1bHRzLmFkZF9yZXN1bHQoRmFsc2UsICJubyB2YXJpYWJsZSBuYW1lZCAnTScgZm91bmQuIikKZWxpZiBub3QgaXNpbnN0YW5jZShNLCBucC5uZGFycmF5KToKICAgIHRlc3RfcmVzdWx0cy5hZGRfcmVzdWx0KEZhbHNlLCBmIidNJyBpcyB0eXBlIHt0eXBlKE0pLl9fbmFtZV9ffSBhbmQgbm90ICdhcnJheScuIikKZWxzZToKICAgIGlmIG5wLmFsbChNID09IGJfc29sKEFfcmVmZXJlbmNlLCBiX3JlZmVyZW5jZSkpOgogICAgICAgIHRlc3RfcmVzdWx0cy5hZGRfcmVzdWx0KFRydWUsICJ0aGUgbWF0cml4ICdNJyBjb250YWlucyBleHBlY3RlZCB2YWx1ZXMuIikKICAgIGVsaWYgbnAuYWxsKE0gPT0gbnAuYXJyYXkoW1sxLjAsIC0xLjAsIDMuMCwgNy5dLAogICAgICAgICAgICAgICAgICAgICAgICAgICAgICAgWzAuMCwgNS4wLCAtNS4wLCAtMTAuXSwKICAgICAgICAgICAgICAgICAgICAgICAgICAgICAgIFstMy4wLCAyLjAsIC0yLjAsIC0xMC5dXSkpOgogICAgICAgIHRlc3RfcmVzdWx0cy5hZGRfcmVzdWx0KEZhbHNlLCBmImNvbnRlbnRzIG9mIG1hdHJpeCAnTScgYXJlIHtNfSBldmVuIHRob3VnaCB0aGUgb3JpZ2luYWwgdmFsdWVzIG9mICdBJyBhbmQgJ2InIGhhdmUgYmVlbiByZXBsYWNlZC4gTWFrZSBzdXJlIHRvIHJlbW92ZSBhbnkgcmUtZGVjbGFyYXRpb25zICdBJyBvciAnYicgd2hpY2ggbWF5IG92ZXJyaWRlIHRoaXMgcmVwbGFjZW1lbnQuIikKICAgIGVsc2U6CiAgICAgICAgdGVzdF9yZXN1bHRzLmFkZF9yZXN1bHQoRmFsc2UsICJlbGVtZW50cyBpbiBtYXRyaXggJ00nIGFyZSBpbmNvcnJlY3QuIikKCnJvdW5kKHRlc3RfcmVzdWx0cy5nZXRfcmVzdWx0cygpKjEsIDIp"
    },
    "deletable": false,
    "editable": false,
    "execution": {
     "iopub.execute_input": "2024-09-10T11:34:08.092691Z",
     "iopub.status.busy": "2024-09-10T11:34:08.092003Z",
     "iopub.status.idle": "2024-09-10T11:34:08.151689Z",
     "shell.execute_reply": "2024-09-10T11:34:08.148629Z"
    },
    "nbgrader": {
     "cell_type": "code",
     "checksum": "ef2f41451661de162167d4e8363979ed",
     "grade": true,
     "grade_id": "cell-48f9a416a8e3141a",
     "locked": true,
     "points": 1,
     "schema_version": 3,
     "solution": false,
     "task": false
    }
   },
   "outputs": [],
   "source": [
    "print(f\"M: \\n{M}\")"
   ]
  },
  {
   "cell_type": "markdown",
   "id": "f9207898-3527-4151-a5bb-c481ccf77187",
   "metadata": {
    "deletable": false
   },
   "source": [
    "### c) \n",
    "Andre steg er å utføre følgende eliminasjon i Python, slik at matrise-elementet $m_{31}=0$:\n",
    "$$\n",
    "\\begin{bmatrix}\n",
    "1 & -1 & 3 & 7\\\\ 0 & 5 & -5 & -10\\\\ -3 & 2 & -2 & -10  \n",
    "\\end{bmatrix}\n",
    "\\xRightarrow{\\text{trekk } \\frac{m_{31}}{m_{11}} \\times \\text{ rad 1 fra rad 3}}\n",
    "\\begin{bmatrix}\n",
    "1 & -1 & 3 & 7\\\\ 0 & 5 & -5 & -10\\\\ 0 & -4 & 7 & 11  \n",
    "\\end{bmatrix}\n",
    "$$"
   ]
  },
  {
   "cell_type": "code",
   "execution_count": null,
   "id": "cdcaa000-3598-4439-b47c-f79c6b11a572",
   "metadata": {
    "deletable": false,
    "execution": {
     "iopub.execute_input": "2024-09-10T11:34:08.161322Z",
     "iopub.status.busy": "2024-09-10T11:34:08.160284Z",
     "iopub.status.idle": "2024-09-10T11:34:08.172419Z",
     "shell.execute_reply": "2024-09-10T11:34:08.169666Z"
    },
    "nbgrader": {
     "cell_type": "code",
     "checksum": "befcfa032d783aa631a8b7e54b7ea41a",
     "grade": false,
     "grade_id": "cell-b072f7feba0ff96d",
     "locked": false,
     "schema_version": 3,
     "solution": true,
     "task": false
    }
   },
   "outputs": [],
   "source": [
    "#-------------------------------------\n",
    "# SKRIV DIN KODE HER!\n",
    "#-------------------------------------"
   ]
  },
  {
   "cell_type": "markdown",
   "id": "1df6e552-e4ad-43e6-91e5-add1e04fabac",
   "metadata": {
    "deletable": false
   },
   "source": [
    "Kjør cellen under for å skrive ut innholdet i matrisen `M` dersom du vil verifisere:"
   ]
  },
  {
   "cell_type": "code",
   "execution_count": null,
   "id": "7516a0bd-cf36-465b-9bf8-aa20700307ae",
   "metadata": {
    "autofeedback": {
     "test_code": "ZnJvbSBhdXRvZmVlZGJhY2sgaW1wb3J0IFRlc3RDbGFzcwpkZWYgY19zb2woQSwgYik6CiAgICBNID0gbnAuaHN0YWNrKChBLCBiKSkKICAgIE1bMSw6XSA9IE1bMSw6XSAtIE1bMCw6XSooTVsxLDBdL01bMCwwXSkKICAgIE1bMiw6XSA9IE1bMiw6XSAtIE1bMCw6XSooTVsyLDBdL01bMCwwXSkKICAgIHJldHVybiBNCgp0ZXN0X3Jlc3VsdHMgPSBUZXN0Q2xhc3MoKQppZiAiTSIgbm90IGluIGdsb2JhbHMoKToKICAgIHRlc3RfcmVzdWx0cy5hZGRfcmVzdWx0KEZhbHNlLCAibm8gdmFyaWFibGUgbmFtZWQgJ00nIGZvdW5kLiIpCmVsaWYgbm90IGlzaW5zdGFuY2UoTSwgbnAubmRhcnJheSk6CiAgICB0ZXN0X3Jlc3VsdHMuYWRkX3Jlc3VsdChGYWxzZSwgZiInTScgaXMgdHlwZSB7dHlwZShNKS5fX25hbWVfX30gYW5kIG5vdCAnYXJyYXknLiIpCmVsc2U6CiAgICBpZiBucC5hbGwoTSA9PSBjX3NvbChBX3JlZmVyZW5jZSwgYl9yZWZlcmVuY2UpKToKICAgICAgICB0ZXN0X3Jlc3VsdHMuYWRkX3Jlc3VsdChUcnVlLCAidGhlIG1hdHJpeCAnTScgY29udGFpbnMgZXhwZWN0ZWQgdmFsdWVzLiIpCiAgICBlbGlmIG5wLmFsbChNID09IG5wLmFycmF5KFtbMS4wLCAtMS4wLCAzLjAsIDcuXSwKICAgICAgICAgICAgICAgICAgICAgICAgICAgICAgIFswLjAsIDUuMCwgLTUuMCwgLTEwLl0sCiAgICAgICAgICAgICAgICAgICAgICAgICAgICAgICBbMC4wLCAtNC4wLCA3LjAsIDExLl1dKSk6CiAgICAgICAgdGVzdF9yZXN1bHRzLmFkZF9yZXN1bHQoRmFsc2UsIGYiY29udGVudHMgb2YgbWF0cml4ICdNJyBhcmUge019IGV2ZW4gdGhvdWdoIHRoZSBvcmlnaW5hbCB2YWx1ZXMgb2YgJ0EnIGFuZCAnYicgaGF2ZSBiZWVuIHJlcGxhY2VkLiBNYWtlIHN1cmUgdG8gcmVtb3ZlIGFueSByZS1kZWNsYXJhdGlvbnMgJ0EnIG9yICdiJyB3aGljaCBtYXkgb3ZlcnJpZGUgdGhpcyByZXBsYWNlbWVudC4iKQogICAgZWxzZToKICAgICAgICB0ZXN0X3Jlc3VsdHMuYWRkX3Jlc3VsdChGYWxzZSwgImVsZW1lbnRzIGluIG1hdHJpeCAnTScgYXJlIGluY29ycmVjdC4iKQoKcm91bmQodGVzdF9yZXN1bHRzLmdldF9yZXN1bHRzKCkqMSwgMik="
    },
    "deletable": false,
    "editable": false,
    "execution": {
     "iopub.execute_input": "2024-09-10T11:34:08.182271Z",
     "iopub.status.busy": "2024-09-10T11:34:08.181341Z",
     "iopub.status.idle": "2024-09-10T11:34:08.248794Z",
     "shell.execute_reply": "2024-09-10T11:34:08.245425Z"
    },
    "nbgrader": {
     "cell_type": "code",
     "checksum": "8f57fd61fbc208d325e9be0be0be218e",
     "grade": true,
     "grade_id": "cell-9a1a8bc143e9c7ae",
     "locked": true,
     "points": 1,
     "schema_version": 3,
     "solution": false,
     "task": false
    }
   },
   "outputs": [],
   "source": [
    "print(f\"M: \\n{M}\")"
   ]
  },
  {
   "cell_type": "markdown",
   "id": "2223ebd7-4d19-4209-9588-e2335bb226f6",
   "metadata": {
    "deletable": false
   },
   "source": [
    "### d)\n",
    "Tredje steg, oppnår $m_{32} = 0$:\n",
    "$$\n",
    "\\begin{bmatrix}\n",
    "1 & -1 & 3 & 7\\\\ 0 & 5 & -5 & -10\\\\ 0 & -4 & 7 & 11    \n",
    "\\end{bmatrix}\n",
    "\\xRightarrow{\\text{trekk } \\frac{m_{32}}{m_{22}} \\times \\text{ rad 2 fra rad 3}}\n",
    "\\begin{bmatrix}\n",
    "1 & -1 & 3 & 7\\\\ 0 & 5 & -5 & -10\\\\ 0 & 0 & 3 & 3  \n",
    "\\end{bmatrix}\n",
    "$$"
   ]
  },
  {
   "cell_type": "code",
   "execution_count": null,
   "id": "128b996e-516e-41a8-945f-01b173148eef",
   "metadata": {
    "deletable": false,
    "execution": {
     "iopub.execute_input": "2024-09-10T11:34:08.260181Z",
     "iopub.status.busy": "2024-09-10T11:34:08.259138Z",
     "iopub.status.idle": "2024-09-10T11:34:08.274594Z",
     "shell.execute_reply": "2024-09-10T11:34:08.272001Z"
    },
    "nbgrader": {
     "cell_type": "code",
     "checksum": "191fa6765543351b4be8084f479f6f8b",
     "grade": false,
     "grade_id": "cell-7eb21b786f02dcfb",
     "locked": false,
     "schema_version": 3,
     "solution": true,
     "task": false
    }
   },
   "outputs": [],
   "source": [
    "#-------------------------------------\n",
    "# SKRIV DIN KODE HER!\n",
    "#-------------------------------------"
   ]
  },
  {
   "cell_type": "markdown",
   "id": "286efed9-b3e4-4e11-9c33-d94a49afabcb",
   "metadata": {
    "deletable": false
   },
   "source": [
    "Kjør cellen under for å skrive ut innholdet i matrisen `M` dersom du vil verifisere:"
   ]
  },
  {
   "cell_type": "code",
   "execution_count": null,
   "id": "1daff578-28c1-4e01-81a3-4046c90be0a0",
   "metadata": {
    "autofeedback": {
     "test_code": "ZnJvbSBhdXRvZmVlZGJhY2sgaW1wb3J0IFRlc3RDbGFzcwpkZWYgZF9zb2woQSwgYik6CiAgICBNID0gbnAuaHN0YWNrKChBLCBiKSkKICAgIE1bMSw6XSA9IE1bMSw6XSAtIE1bMCw6XSooTVsxLDBdL01bMCwwXSkKICAgIE1bMiw6XSA9IE1bMiw6XSAtIE1bMCw6XSooTVsyLDBdL01bMCwwXSkKICAgIE1bMiw6XSA9IE1bMiw6XSAtIE1bMSw6XSooTVsyLDFdL01bMSwxXSkKICAgIHJldHVybiBNCgp0ZXN0X3Jlc3VsdHMgPSBUZXN0Q2xhc3MoKQppZiAiTSIgbm90IGluIGdsb2JhbHMoKToKICAgIHRlc3RfcmVzdWx0cy5hZGRfcmVzdWx0KEZhbHNlLCAibm8gdmFyaWFibGUgbmFtZWQgJ00nIGZvdW5kLiIpCmVsaWYgbm90IGlzaW5zdGFuY2UoTSwgbnAubmRhcnJheSk6CiAgICB0ZXN0X3Jlc3VsdHMuYWRkX3Jlc3VsdChGYWxzZSwgZiInTScgaXMgdHlwZSB7dHlwZShNKS5fX25hbWVfX30gYW5kIG5vdCAnYXJyYXknLiIpCmVsc2U6CiAgICBpZiBucC5hbGwoTSA9PSBkX3NvbChBX3JlZmVyZW5jZSwgYl9yZWZlcmVuY2UpKToKICAgICAgICB0ZXN0X3Jlc3VsdHMuYWRkX3Jlc3VsdChUcnVlLCAidGhlIG1hdHJpeCAnTScgY29udGFpbnMgZXhwZWN0ZWQgdmFsdWVzLiIpCiAgICBlbGlmIG5wLmFsbChNID09IG5wLmFycmF5KFtbMS4wLCAtMS4wLCAzLjAsIDcuXSwKICAgICAgICAgICAgICAgICAgICAgICAgICAgICAgIFswLjAsIDUuMCwgLTUuMCwgLTEwLl0sCiAgICAgICAgICAgICAgICAgICAgICAgICAgICAgICBbMC4wLCAwLjAsIDMuMCwgMy5dXSkpOgogICAgICAgIHRlc3RfcmVzdWx0cy5hZGRfcmVzdWx0KEZhbHNlLCBmImNvbnRlbnRzIG9mIG1hdHJpeCAnTScgYXJlIHtNfSBldmVuIHRob3VnaCB0aGUgb3JpZ2luYWwgdmFsdWVzIG9mICdBJyBhbmQgJ2InIGhhdmUgYmVlbiByZXBsYWNlZC4gTWFrZSBzdXJlIHRvIHJlbW92ZSBhbnkgcmUtZGVjbGFyYXRpb25zICdBJyBvciAnYicgd2hpY2ggbWF5IG92ZXJyaWRlIHRoaXMgcmVwbGFjZW1lbnQuIikKICAgIGVsc2U6CiAgICAgICAgdGVzdF9yZXN1bHRzLmFkZF9yZXN1bHQoRmFsc2UsICJlbGVtZW50cyBpbiBtYXRyaXggJ00nIGFyZSBpbmNvcnJlY3QuIikKCnJvdW5kKHRlc3RfcmVzdWx0cy5nZXRfcmVzdWx0cygpKjEsIDIp"
    },
    "deletable": false,
    "editable": false,
    "execution": {
     "iopub.execute_input": "2024-09-10T11:34:08.284200Z",
     "iopub.status.busy": "2024-09-10T11:34:08.283567Z",
     "iopub.status.idle": "2024-09-10T11:34:08.350109Z",
     "shell.execute_reply": "2024-09-10T11:34:08.346683Z"
    },
    "nbgrader": {
     "cell_type": "code",
     "checksum": "7b1f3641074406341e2192a13b76f1aa",
     "grade": true,
     "grade_id": "cell-c01ab8170808bacf",
     "locked": true,
     "points": 1,
     "schema_version": 3,
     "solution": false,
     "task": false
    }
   },
   "outputs": [],
   "source": [
    "print(f\"M: \\n{M}\")"
   ]
  },
  {
   "cell_type": "markdown",
   "id": "8c206f07-6334-4d8a-b86d-28b6f02d5b75",
   "metadata": {
    "deletable": false
   },
   "source": [
    "#### Tilbakesubstitusjon\n",
    "\n",
    "Vi er nå ferdige med Gauss-eliminasjon, og alt som gjenstår for å finne verdiene i $\\vec{x}$ er å utføre tilbakesubstitusjon. Da begynner vi med den nederste raden i matrisen $\\boldsymbol{M}$, og jobber oss systematisk oppover;\n",
    "$$\n",
    "\\begin{align}\n",
    "x_3 &= \\frac{m_{34}}{m_{33}} \\\\\n",
    "x_2 &= \\frac{m_{24} - m_{23}\\cdot x_3}{m_{22}} \\\\\n",
    "x_1 &= \\frac{m_{14} - m_{12}\\cdot x_2 - m_{13}\\cdot x_3}{m_{11}}\n",
    "\\end{align}\n",
    "$$\n",
    "### e)\n",
    "\n",
    "* Bruk tilbakesubstitusjon slik som beskrevet ovenfor til å finne løsningen til ligningssettet, og lagre svarene i en $3\\times 1$-matrise `x`."
   ]
  },
  {
   "cell_type": "code",
   "execution_count": null,
   "id": "a6a75b2e-6602-4a75-b5e4-fe2747f0187d",
   "metadata": {
    "deletable": false,
    "execution": {
     "iopub.execute_input": "2024-09-10T11:34:08.360689Z",
     "iopub.status.busy": "2024-09-10T11:34:08.359834Z",
     "iopub.status.idle": "2024-09-10T11:34:08.375347Z",
     "shell.execute_reply": "2024-09-10T11:34:08.372442Z"
    },
    "nbgrader": {
     "cell_type": "code",
     "checksum": "fedae110490cffbe7c85a7d09ed16876",
     "grade": false,
     "grade_id": "cell-3005afd3cd91ce34",
     "locked": false,
     "schema_version": 3,
     "solution": true,
     "task": false
    }
   },
   "outputs": [],
   "source": [
    "#-------------------------------------\n",
    "# SKRIV DIN KODE HER!\n",
    "#-------------------------------------"
   ]
  },
  {
   "cell_type": "markdown",
   "id": "8750d8b6-ef28-45f0-8a76-2d12590bdf0d",
   "metadata": {
    "deletable": false
   },
   "source": [
    "Du kan kjøre cellen endenfor for å verifisere at løsningen er korrekt. Dersom løsningen er riktig, skal $\\boldsymbol{A}\\cdot \\vec{x} - \\vec{b} = \\begin{bmatrix} 0 \\\\ 0 \\\\ 0 \\end{bmatrix}$"
   ]
  },
  {
   "cell_type": "code",
   "execution_count": null,
   "id": "77fe5641-ddf8-48a2-bd34-0808626daa8b",
   "metadata": {
    "autofeedback": {
     "test_code": "ZnJvbSBhdXRvZmVlZGJhY2sgaW1wb3J0IFRlc3RDbGFzcwpkZWYgZV9zb2woQSwgYik6CiAgICBNID0gbnAuaHN0YWNrKChBLCBiKSkKICAgIE1bMSw6XSA9IE1bMSw6XSAtIE1bMCw6XSooTVsxLDBdL01bMCwwXSkKICAgIE1bMiw6XSA9IE1bMiw6XSAtIE1bMCw6XSooTVsyLDBdL01bMCwwXSkKICAgIE1bMiw6XSA9IE1bMiw6XSAtIE1bMSw6XSooTVsyLDFdL01bMSwxXSkKCiAgICB4ID0gbnAuemVyb3MoKDMsMSkpCiAgICB4WzJdID0gTVsyLC0xXS9NWzIsMl0KICAgIHhbMV0gPSAoTVsxLCAtMV0gLSBNWzEsMl0qeFsyXSkvTVsxLDFdCiAgICB4WzBdID0gKE1bMCwgLTFdIC0gTVswLDFdKnhbMV0gLSBNWzAsMl0qeFsyXSkvTVswLDBdCiAgICByZXR1cm4gTQogICAgCnRlc3RfcmVzdWx0cyA9IFRlc3RDbGFzcygpCmlmICJNIiBub3QgaW4gZ2xvYmFscygpOgogICAgdGVzdF9yZXN1bHRzLmFkZF9yZXN1bHQoRmFsc2UsICJubyB2YXJpYWJsZSBuYW1lZCAnTScgZm91bmQuIikKZWxpZiBub3QgaXNpbnN0YW5jZShNLCBucC5uZGFycmF5KToKICAgIHRlc3RfcmVzdWx0cy5hZGRfcmVzdWx0KEZhbHNlLCBmIidNJyBpcyB0eXBlIHt0eXBlKE0pLl9fbmFtZV9ffSBhbmQgbm90ICdhcnJheScuIikKZWxzZToKICAgIGlmIG5wLnNoYXBlKE0pICE9ICgzLCA0KToKICAgICAgICB0ZXN0X3Jlc3VsdHMuYWRkX3Jlc3VsdChGYWxzZSwgZiJ0aGUgbWF0cml4ICdNJyBoYXMgc2hhcGUge00uc2hhcGV9IGFuZCBub3QgKDMsIDQpIikKICAgICAgICAKICAgIGVsaWYgbnAuYWxsKE0gPT0gbnAuYXJyYXkoW1sxLjAsIC0xLjAsIDMuMCwgNy5dLAogICAgICAgICAgICAgICAgICAgICAgICAgICAgICAgWzIuMCwgMS4wLCAxLjAsIDQuXSwKICAgICAgICAgICAgICAgICAgICAgICAgICAgICAgIFstMy4wLCAyLjAsIC0yLjAsIC0xMC5dXSkpOgogICAgICAgIHRlc3RfcmVzdWx0cy5hZGRfcmVzdWx0KEZhbHNlLCBmImNvbnRlbnRzIG9mIG1hdHJpeCAnTScgYXJlIHtNfSBldmVuIHRob3VnaCB0aGUgb3JpZ2luYWwgdmFsdWVzIG9mICdBJyBhbmQgJ2InIGhhdmUgYmVlbiByZXBsYWNlZC4gTWFrZSBzdXJlIHRvIHJlbW92ZSBhbnkgcmUtZGVjbGFyYXRpb25zICdBJyBvciAnYicgd2hpY2ggbWF5IG92ZXJyaWRlIHRoaXMgcmVwbGFjZW1lbnQuIikKICAgIAogICAgZWxpZiBucC5hbGwoTSA9PSBlX3NvbChBX3JlZmVyZW5jZSwgYl9yZWZlcmVuY2UpKToKICAgICAgICB0ZXN0X3Jlc3VsdHMuYWRkX3Jlc3VsdChUcnVlLCAidGhlIG1hdHJpeCAnTScgY29udGFpbnMgZXhwZWN0ZWQgdmFsdWVzLiIpCgogICAgZWxzZToKICAgICAgICB0ZXN0X3Jlc3VsdHMuYWRkX3Jlc3VsdChGYWxzZSwgImVsZW1lbnRzIGluIG1hdHJpeCAnTScgYXJlIGluY29ycmVjdC4iKQoKcm91bmQodGVzdF9yZXN1bHRzLmdldF9yZXN1bHRzKCkqMiwgMik="
    },
    "deletable": false,
    "editable": false,
    "execution": {
     "iopub.execute_input": "2024-09-10T11:34:08.385170Z",
     "iopub.status.busy": "2024-09-10T11:34:08.384416Z",
     "iopub.status.idle": "2024-09-10T11:34:08.452407Z",
     "shell.execute_reply": "2024-09-10T11:34:08.449596Z"
    },
    "nbgrader": {
     "cell_type": "code",
     "checksum": "4bb7787c96db0154d1b984ff00a72844",
     "grade": true,
     "grade_id": "cell-d8f9ff9a57660308",
     "locked": true,
     "points": 2,
     "schema_version": 3,
     "solution": false,
     "task": false
    }
   },
   "outputs": [],
   "source": [
    "print(f\"||A*x-b|| = {np.linalg.norm(A@x - b)}\")"
   ]
  },
  {
   "cell_type": "markdown",
   "id": "64d08142-caf3-4529-af26-eb51389bf88d",
   "metadata": {
    "deletable": false
   },
   "source": [
    "Nå har vi skrevet alle kodelinjene som kreves for å løse ligningssettet vårt steg for steg. Men, dersom vi skal bruke dette vidrere, vil det være gunstig å samle alle stegene i deloppgavene **a)**-**e)** i en *funksjon* som vi kan kalle på ved behov for å utføre de samme stegvise instruksene på et vilkårlig ligningssett med 3 ukjente.\n",
    "\n",
    "### f)\n",
    "\n",
    "* Skriv ferdig funksjonen `naive_gauss_3deg(A, b)` nedenfor, som tar inn én $3\\times 3$ matrise $\\boldsymbol{A}$ og én $3\\times 1$ kolonnevektor $\\vec{b}$, og returnerer løsningen $\\vec{x}$ til ligningssettet."
   ]
  },
  {
   "cell_type": "code",
   "execution_count": null,
   "id": "c0cb1cf0-6ddb-42ba-9c88-c33b43253c01",
   "metadata": {
    "deletable": false,
    "execution": {
     "iopub.execute_input": "2024-09-10T11:34:08.462701Z",
     "iopub.status.busy": "2024-09-10T11:34:08.461820Z",
     "iopub.status.idle": "2024-09-10T11:34:08.510992Z",
     "shell.execute_reply": "2024-09-10T11:34:08.508751Z"
    },
    "nbgrader": {
     "cell_type": "code",
     "checksum": "d5d26cdb1f4827778ca87877d463762e",
     "grade": false,
     "grade_id": "cell-1be5cd84173e19f8",
     "locked": false,
     "schema_version": 3,
     "solution": true,
     "task": false
    }
   },
   "outputs": [],
   "source": [
    "from numpy.typing import ArrayLike\n",
    "def naive_gauss_3deg(A: ArrayLike, b: ArrayLike)->ArrayLike:\n",
    "    #-------------------------------------\n",
    "    # SKRIV DIN KODE HER!\n",
    "    #-------------------------------------\n",
    "    return x"
   ]
  },
  {
   "cell_type": "code",
   "execution_count": null,
   "id": "90630194-7a42-4b8a-91e7-d422cc791866",
   "metadata": {
    "autofeedback": {
     "test_code": "ZnJvbSBhdXRvZmVlZGJhY2sgaW1wb3J0IEZ1bmN0aW9uVGVzdHMKaW1wb3J0IG51bXB5IGFzIG5wCmZyb20gcmFuZG9tIGltcG9ydCByYW5kaW50CgpkZWYgbmFpdmVfZ2F1c3NfM2RlZ19zb2x1dGlvbihBOiBBcnJheUxpa2UsIGI6IEFycmF5TGlrZSktPkFycmF5TGlrZToKICAgIE0gPSBucC5oc3RhY2soKEEsIGIpKQogICAgTVsxLDpdID0gTVsxLDpdIC0gTVswLDpdKihNWzEsMF0vTVswLDBdKQogICAgTVsyLDpdID0gTVsyLDpdIC0gTVswLDpdKihNWzIsMF0vTVswLDBdKQogICAgTVsyLDpdID0gTVsyLDpdIC0gTVsxLDpdKihNWzIsMV0vTVsxLDFdKQogICAgeCA9IG5wLnplcm9zKCgzLDEpKQogICAgeFsyXSA9IE1bMiwtMV0vTVsyLDJdCiAgICB4WzFdID0gKE1bMSwgLTFdIC0gTVsxLDJdKnhbMl0pL01bMSwxXQogICAgeFswXSA9IChNWzAsIC0xXSAtIE1bMCwxXSp4WzFdIC0gTVswLDJdKnhbMl0pL01bMCwwXQogICAgcmV0dXJuIHgKCgpncmFkaW5nX3Jlc3VsdHMgPSBGdW5jdGlvblRlc3RzKG5haXZlX2dhdXNzXzNkZWdfc29sdXRpb24pCnRyeToKICAgIGdyYWRpbmdfcmVzdWx0cy5hZGRfdGVzdF9mdW5jKG5haXZlX2dhdXNzXzNkZWcpCmV4Y2VwdCBFeGNlcHRpb24gYXMgZToKICAgIGdyYWRpbmdfcmVzdWx0cy5sb2cuYXBwZW5kKCJDb3VsZCBub3QgcnVuIHRlc3RzLCAiK2UuYXJnc1swXSkKZWxzZToKICAgIE4gPSAzCiAgICBmb3IgXyBpbiByYW5nZShOKToKICAgICAgICBiX3Rlc3QgPSBjYWxjdWxhdGVfYihBX3JlZmVyZW5jZSwgW3ggaWYgeCE9MCBlbHNlIDkgZm9yIHggaW4gW3JhbmRpbnQoLTksOSkgZm9yIF8gaW4gcmFuZ2UoMyldXSkKICAgICAgICBncmFkaW5nX3Jlc3VsdHMudGVzdF9yZXR1cm5fdmFsdWUoQV9yZWZlcmVuY2UsIGJfdGVzdCkKCnJvdW5kKGdyYWRpbmdfcmVzdWx0cy5nZXRfcmVzdWx0cygpKjIsIDIp"
    },
    "deletable": false,
    "editable": false,
    "execution": {
     "iopub.execute_input": "2024-09-10T11:34:08.519315Z",
     "iopub.status.busy": "2024-09-10T11:34:08.518909Z",
     "iopub.status.idle": "2024-09-10T11:34:08.589158Z",
     "shell.execute_reply": "2024-09-10T11:34:08.586316Z"
    },
    "nbgrader": {
     "cell_type": "code",
     "checksum": "31267e9d086445ee247615c41ef1d623",
     "grade": true,
     "grade_id": "cell-904a64e2657912c5",
     "locked": true,
     "points": 4,
     "schema_version": 3,
     "solution": false,
     "task": false
    }
   },
   "outputs": [],
   "source": [
    "naive_gauss_3deg(A, b)"
   ]
  },
  {
   "cell_type": "markdown",
   "id": "896bebc7-9a8e-4353-ad8a-4e1b1b7c3f4d",
   "metadata": {
    "deletable": false
   },
   "source": [
    "Helt til slutt vil det være enda mer nyttig dersom funksjonen vår også kan håndtere ligningssett med et annet antall ukjente verdier enn bare $3$ (f.eks. $5$ eller $2$). \n",
    "\n",
    "### g) *(vanskelig, gir 5 bonuspoeng)*\n",
    "\n",
    "* Prøv å skrive en mer generell funksjon `naive_gauss(A, b)`, som kan finne løsningen til et lineært ligningssett av ubestemt orden.\n",
    "    * Hint: bruk løsningen din på deloppgave **f)** som referanse, og forsøk å tyde hvilke indekser som kan erstattes med tellervariabler i en for-løkke."
   ]
  },
  {
   "cell_type": "code",
   "execution_count": null,
   "id": "12b8ac83-9444-4812-ad6f-8aa73a078407",
   "metadata": {
    "deletable": false,
    "execution": {
     "iopub.execute_input": "2024-09-10T11:34:08.600025Z",
     "iopub.status.busy": "2024-09-10T11:34:08.598443Z",
     "iopub.status.idle": "2024-09-10T11:34:08.616519Z",
     "shell.execute_reply": "2024-09-10T11:34:08.613648Z"
    },
    "nbgrader": {
     "cell_type": "code",
     "checksum": "d5c5f0396d8c49af3a16727eca647210",
     "grade": false,
     "grade_id": "cell-19e24124d574cd48",
     "locked": false,
     "schema_version": 3,
     "solution": true,
     "task": false
    }
   },
   "outputs": [],
   "source": [
    "def naive_gauss(A: ArrayLike, b: ArrayLike) -> ArrayLike:\n",
    "    #-------------------------------------\n",
    "    # SKRIV DIN KODE HER!\n",
    "    #-------------------------------------\n",
    "    return x"
   ]
  },
  {
   "cell_type": "code",
   "execution_count": null,
   "id": "331ab505-7ae9-40fa-bc7b-78d4fa3deeb2",
   "metadata": {
    "autofeedback": {
     "test_code": "ZGVmIHJ1bl90ZXN0c19nKCk6CiAgICBmcm9tIGF1dG9mZWVkYmFjayBpbXBvcnQgRnVuY3Rpb25UZXN0cwogICAgaW1wb3J0IG51bXB5IGFzIG5wCiAgICBmcm9tIHJhbmRvbSBpbXBvcnQgcmFuZGludAoKICAgIEExID0gbnAuYXJyYXkoW1stMSwgNF0sCiAgICAgICAgICAgICAgICAgICBbMiwgLTNdXSwgZHR5cGU9bnAuZmxvYXQ2NCkKICAgIHhfdGVzdDEgPSBbeCBpZiB4IT0wIGVsc2UgOSBmb3IgeCBpbiBbcmFuZGludCgtOSw5KSBmb3IgXyBpbiByYW5nZSgyKV1dCiAgICBiMSA9IGNhbGN1bGF0ZV9iKEExLCB4X3Rlc3QxKQoKICAgIEEyID0gbnAuYXJyYXkoW1stMSwgIDksIC01LCAgN10sCiAgICAgICAgICAgICAgICAgIFstNiwgLTEsICA4LCAgNV0sCiAgICAgICAgICAgICAgICAgIFsgNiwgLTYsIC0yLCAgN10sCiAgICAgICAgICAgICAgICAgIFstMSwgIDIsICA2LCAtNF1dLCBkdHlwZT1ucC5mbG9hdDY0KQogICAgeF90ZXN0MiA9IFt4IGlmIHghPTAgZWxzZSA5IGZvciB4IGluIFtyYW5kaW50KC05LDkpIGZvciBfIGluIHJhbmdlKDQpXV0KICAgIGIyID0gY2FsY3VsYXRlX2IoQTIsIHhfdGVzdDIpCiAgICAKICAgIGdyYWRpbmdfcmVzdWx0cyA9IEZ1bmN0aW9uVGVzdHMobnAubGluYWxnLnNvbHZlKQogICAgdHJ5OgogICAgICAgIGdyYWRpbmdfcmVzdWx0cy5hZGRfdGVzdF9mdW5jKG5haXZlX2dhdXNzKQogICAgZXhjZXB0IEV4Y2VwdGlvbiBhcyBlOgogICAgICAgIGdyYWRpbmdfcmVzdWx0cy5sb2cuYXBwZW5kKCJDb3VsZCBub3QgcnVuIHRlc3RzLCAiK2UuYXJnc1swXSkKICAgIGVsc2U6CiAgICAgICAgZ3JhZGluZ19yZXN1bHRzLnRlc3RfcmV0dXJuX3ZhbHVlKEExLCBiMSkKICAgICAgICBncmFkaW5nX3Jlc3VsdHMudGVzdF9yZXR1cm5fdmFsdWUoQTIsIGIyKQogICAgCiAgICByZXR1cm4gcm91bmQoZ3JhZGluZ19yZXN1bHRzLmdldF9yZXN1bHRzKCkqMiwgMikKcnVuX3Rlc3RzX2coKQ=="
    },
    "deletable": false,
    "editable": false,
    "execution": {
     "iopub.execute_input": "2024-09-10T11:34:08.652656Z",
     "iopub.status.busy": "2024-09-10T11:34:08.651611Z",
     "iopub.status.idle": "2024-09-10T11:34:08.698659Z",
     "shell.execute_reply": "2024-09-10T11:34:08.695712Z"
    },
    "nbgrader": {
     "cell_type": "code",
     "checksum": "2d4bbfac3b1ba7b0f2a5aaace05777ba",
     "grade": true,
     "grade_id": "cell-f2ddb7853df1e9be",
     "locked": true,
     "points": 5,
     "schema_version": 3,
     "solution": false,
     "task": false
    }
   },
   "outputs": [],
   "source": [
    "naive_gauss(A, b)"
   ]
  },
  {
   "cell_type": "markdown",
   "id": "ef1c2ccb",
   "metadata": {
    "deletable": false,
    "editable": false
   },
   "source": [
    "<br>\n",
    "<nav class=\"navbar navbar-default\">\n",
    "        <div class=\"container-fluid\">\n",
    "            <div class=\"navbar-header\" style=\"float: left\">\n",
    "                <a class=\"navbar-brand\" href=\"8_fikspunktiterasjon.ipynb\" target=\"_self\">&lt; Forrige side: <i>fikspunktiterasjon</i></a>\n",
    "                </div>\n",
    "            <div class=\"navbar-header\" style=\"float: right\">\n",
    "                <a class=\"navbar-brand\" href=\"10_koch_snoflak.ipynb\" target=\"_self\">Neste side: <i>koch's snøflak</i> &gt;</a>\n",
    "            </div>\n",
    "        </div>\n",
    "</nav>"
   ]
  }
 ],
 "metadata": {
  "kernelspec": {
   "display_name": "Python 3 (ipykernel)",
   "language": "python",
   "name": "python3"
  },
  "language_info": {
   "codemirror_mode": {
    "name": "ipython",
    "version": 3
   },
   "file_extension": ".py",
   "mimetype": "text/x-python",
   "name": "python",
   "nbconvert_exporter": "python",
   "pygments_lexer": "ipython3",
   "version": "3.11.6"
  }
 },
 "nbformat": 4,
 "nbformat_minor": 5
}
