{
 "cells": [
  {
   "cell_type": "markdown",
   "metadata": {
    "deletable": false,
    "editable": false
   },
   "source": [
    "\n",
    "<nav class=\"navbar navbar-default\">\n",
    "  <div class=\"container-fluid\">\n",
    "    <div class=\"navbar-header\" style=\"float: left\">\n",
    "        <a class=\"navbar-brand\" href=\"0_Forside.ipynb\" target=\"_self\"> <h2> &uarr; Tilbake til forsiden</h2></a>\n",
    "    </div>\n",
    "  </div>\n",
    "</nav>"
   ]
  },
  {
   "cell_type": "markdown",
   "metadata": {
    "deletable": false,
    "editable": false,
    "nbgrader": {
     "cell_type": "markdown",
     "checksum": "74eaef591c3749a2cbae1ba0163cd256",
     "grade": false,
     "grade_id": "cell-86e9e3d0b7069b37",
     "locked": true,
     "schema_version": 3,
     "solution": false,
     "task": false
    }
   },
   "source": [
    "# Koch's Snøkflak \n",
    "### (*ekstra vanskelig*)\n",
    "\n",
    "#### Læringsmål:\n",
    "* Oppdeling av store og kompliserte problem.\n",
    "<br></br>\n",
    "\n",
    "Koch's Snøflak er en matematisk kurve, og en av de tidligste breskrevede _fraktale_ kurver. Fraktaler er typisk tilsynelatende uendelig intrikate mønster som gjentar et \"grunnmønster\" igjen og igjen etter hvert som man \"zoomer inn\" på mønsteret. Fraktaler kan du lese mer om [her](https://en.wikipedia.org/wiki/Fractal).\n",
    "\n",
    "Se for deg at man starter med en likesidet trekant, og så bryter opp hver side av trekanten i tre like store segment. Om man da erstatter det midterste segmentet i hver av sidene med en ny likesidet trekant hvor sidene har $\\frac{1}{3}$ av lengden de hadde før, og så fjerner segmentet som var en del va den \"gamle\" trekanten, så ender man opp med en sekskantet stjerne.\n",
    "\n",
    "Prosessen beskrevet over kan man repetere for alle de 12 siden i den sekskantede stjernen, og så alle 48 sidene av kurven dette vil gi osv. Gjentar man denne prosessen mange nok ganger vil man ende opp med en kurve som ser ut som et snøflak.\n",
    "\n",
    "Hvis vi sier at $K_n$ er kurven til Koch's snøflak, der $n$ er antall iterasjoner, så vil de ulike iterasjonene gi et resultat slik som beskrevet i tabellen nedenfor:\n",
    "\n",
    "Iterasjoner ($n$) | Geometrisk form på $K_n$ | Antall sider\n",
    "---|---|---\n",
    "0 | Likesidet Trekant | 3\n",
    "1 | Sekskantet Stjerne | 12\n",
    "2 | Snøflak | 48\n",
    "3 | Snøflak | 192\n",
    "4 | Snøflak | 768\n",
    "osv.. | osv.. | osv..\n",
    "\n",
    "Det er tydelig at antalllet sider firedobles ved hver iterasjon. Formelen for antallet sider $N_n$ ved $n$'te iterasjon er da:\n",
    "$$N_n = 3\\cdot 4^{n}$$\n",
    "\n",
    "De første 7 iterasjonene av Koch's Snøflak er vist i animasjonen nedenfor. Ønsker du å lese mer om Koch's Snøflak så er wikipedia-artikkelen [her](https://en.wikipedia.org/wiki/Koch_snowflake).\n",
    "\n",
    "![7 iterasjoner av Koch's Snøflak](Figurer/Von_Koch_curve.gif)\n",
    "\n",
    "Nedenfor ser du pythonkode som plotter en trekant. Vi skal ta utgangspunkt i denne programkoden, og bygge på den slik at vi kan lage et snøflak med $n$ iterasjoner."
   ]
  },
  {
   "cell_type": "code",
   "execution_count": null,
   "metadata": {
    "deletable": false,
    "execution": {
     "iopub.execute_input": "2024-09-10T11:33:13.620299Z",
     "iopub.status.busy": "2024-09-10T11:33:13.617935Z",
     "iopub.status.idle": "2024-09-10T11:33:14.824419Z",
     "shell.execute_reply": "2024-09-10T11:33:14.822474Z"
    }
   },
   "outputs": [],
   "source": [
    "from numpy import pi, sin, cos\n",
    "import numpy as np\n",
    "import matplotlib.pyplot as plt\n",
    "# (ipympl lar oss lage interaktive plot, som kan zoomes inn på e.l.)\n",
    "%matplotlib ipympl\n",
    "\n",
    "# Vi kan tegne en trekant ved å plotte kurven mellom 4 punkt.\n",
    "# Listen med koordinater må gå \"full sirkel\" så det er viktig \n",
    "# at første og siste element har samme verdier.\n",
    "# En trekant (3 sider) kan derfor plottes med 3+1=4 punkt.\n",
    "\n",
    "theta = np.array([-pi/2, pi/6, 5*pi/6, 3*pi/2]) # ndarray som inneholder vinklene -90, 30, 150 og 270 grader.\n",
    "x = cos(theta) # x-koordinater for kantene\n",
    "y = sin(theta) # y-koordinater for kantene\n",
    "\n",
    "#Plot kurven til slutt:\n",
    "plt.close(1); plt.figure(1, figsize=(9,9)) # Lukk figur 1 (hvis den allerede finnes), og åpne en ny blank figur 1\n",
    "plt.plot(x, y)  # Plot den geometriske figuren bestemt av listene x og y\n",
    "plt.gca().set_aspect(\"equal\")  # Pass på at skaleringen av x- og y-aksen er lik. Ellers kan figuren bli forvrengt"
   ]
  },
  {
   "cell_type": "markdown",
   "metadata": {
    "deletable": false
   },
   "source": [
    "### Løsningsmetode\n",
    "\n",
    "Trikset i denne oppgaven er å kunne utføre én iterasjon, altså omforme trekanten til en sekskantet stjerne. Får man til dette, gjenstår det bare å bruke en løkke til å gjenta prossessen $n$ ganger. Videre, kan vi forenkle problemet enda mere: klarer vi å omforme én side av trekanten til en \n",
    "\n",
    "For å angripe denne oppgaven skal vi prøve å skrelle bort noen lag med kompleksitet:\n",
    "1. Først og fremst, må vi være i stand til å utføre én iterasjon, altså omforme trekanten til en sekskantet stjerne. Får man til dette, gjenstår det bare å bruke en løkke til å gjenta prossessen $n$ ganger.\n",
    "2. Å gjøre en trekant om til en stjerne, koker ned til å kunne omforme én av sidene til trekanten. Dette kan så repeteres for de 2 andre sidene.\n",
    "\n",
    "<img src=\"Figurer/snoflak_steg.png\"  style=\"width: 300px; margin-left: 10%\" />\n",
    "\n",
    "3. Dersom vi tenker på hver linje i trekanten som en *vektor* $\\vec{v}$, så kan vi bruke skalering, rotasjon, og vektoraddisjon for å finne koordinatene til alle de relevante punktene i den omformede siden.\n",
    "\n",
    "<img src=\"Figurer/snoflak_vektor.png\"  style=\"width: 600px; margin-left: 10%\" />\n"
   ]
  },
  {
   "cell_type": "markdown",
   "metadata": {
    "deletable": false
   },
   "source": [
    "## a) \n",
    "Lag funksjonen`points2vector` som tar inn to lister `x` og `y` som begge har en lengde på 2. De to listene repreesenterer koordinatene som er start og slutt på én side av trekanten: $p_{start} = (\\text{x[0]}, \\text{y[0]})$,   $p_{stopp} = (\\text{x[1]}, \\text{y[1]})$. Funksjonen skal returnere startkoordinatene $p_{start} = (\\text{x[0]}, \\text{y[0]})$ som én array, og vektoren $\\vec{v} =p_{stopp} - p_{start}$ som en annen array."
   ]
  },
  {
   "cell_type": "code",
   "execution_count": null,
   "metadata": {
    "deletable": false,
    "execution": {
     "iopub.execute_input": "2024-09-10T11:33:14.852059Z",
     "iopub.status.busy": "2024-09-10T11:33:14.851499Z",
     "iopub.status.idle": "2024-09-10T11:33:14.864712Z",
     "shell.execute_reply": "2024-09-10T11:33:14.861187Z"
    },
    "nbgrader": {
     "cell_type": "code",
     "checksum": "850b1b350ac5caa5202fe0468c2a3e30",
     "grade": false,
     "grade_id": "cell-61b88ef1aa10aaf6",
     "locked": false,
     "schema_version": 3,
     "solution": true,
     "task": false
    }
   },
   "outputs": [],
   "source": [
    "def points2vector(x, y):\n",
    "    #-------------------------------------\n",
    "    # SKRIV DIN KODE HER!\n",
    "    #-------------------------------------\n",
    "    return p, v"
   ]
  },
  {
   "cell_type": "code",
   "execution_count": null,
   "metadata": {
    "autofeedback": {
     "test_code": "ZnJvbSBhdXRvZmVlZGJhY2sgaW1wb3J0IEZ1bmN0aW9uVGVzdHMKaW1wb3J0IG51bXB5IGFzIG5wCgpkZWYgcG9pbnRzMnZlY3Rvcl9zb2x1dGlvbih4LCB5KToKICAgIHAgPSBucC5hcnJheShbeFswXSwgeVswXV0pCiAgICB2ID0gbnAuYXJyYXkoW3hbMV0gLSB4WzBdLCB5WzFdLXlbMF1dKQogICAgcmV0dXJuIHAsIHYKCgpncmFkaW5nX3Jlc3VsdHMgPSBGdW5jdGlvblRlc3RzKHBvaW50czJ2ZWN0b3Jfc29sdXRpb24pCnRyeToKICAgIGdyYWRpbmdfcmVzdWx0cy5hZGRfdGVzdF9mdW5jKHBvaW50czJ2ZWN0b3IpCmV4Y2VwdCBFeGNlcHRpb24gYXMgZToKICAgIGdyYWRpbmdfcmVzdWx0cy5sb2cuYXBwZW5kKCJDb3VsZCBub3QgcnVuIHRlc3RzLCAiK2UuYXJnc1swXSkKZWxzZToKICAgIE4gPSAzCiAgICBmb3IgXyBpbiByYW5nZShOKToKICAgICAgICB4X3Rlc3QgPSBucC5yYW5kb20ucmFuZGludCgtMTAsIDEwLCAyKSoxLjAKICAgICAgICB5X3Rlc3QgPSBucC5yYW5kb20ucmFuZGludCgtMTAsIDEwLCAyKSoxLjAKICAgICAgICBncmFkaW5nX3Jlc3VsdHMudGVzdF9yZXR1cm5fdmFsdWUoeF90ZXN0LCB5X3Rlc3QpCgpyb3VuZChncmFkaW5nX3Jlc3VsdHMuZ2V0X3Jlc3VsdHMoKSoyLCAyKQ=="
    },
    "deletable": false,
    "editable": false,
    "execution": {
     "iopub.execute_input": "2024-09-10T11:33:14.875681Z",
     "iopub.status.busy": "2024-09-10T11:33:14.874920Z",
     "iopub.status.idle": "2024-09-10T11:33:16.373766Z",
     "shell.execute_reply": "2024-09-10T11:33:16.371782Z"
    },
    "nbgrader": {
     "cell_type": "code",
     "checksum": "92c6e617dcb48a8ae39aa2f189e87770",
     "grade": true,
     "grade_id": "cell-b9817b596b32b60b",
     "locked": true,
     "points": 2,
     "schema_version": 3,
     "solution": false,
     "task": false
    }
   },
   "outputs": [],
   "source": [
    "# Denne cellen brukes under retting. La stå!"
   ]
  },
  {
   "cell_type": "markdown",
   "metadata": {
    "deletable": false
   },
   "source": [
    "## b) \n",
    "Lag funksjonen `rotate_vector` som tar inn vektoren `v` (som en array) og vinkelen `angle` i **grader**. Den skal returnere den roterte vektoren `v_rot` som en ny array.\n",
    "\n",
    "NB! Vektorer $\\vec{v}$ kan roteres $\\theta$ radianer ved å multiplisere med en _rotasjonsmatrise_ $\\boldsymbol{R}$ :\n",
    "$$\\vec{v}_{rot} = \\boldsymbol{R}\\cdot \\vec{v}, \\ \\ \\ \\boldsymbol{R} = \\begin{bmatrix} \\cos(\\theta) & -\\sin(\\theta) \\\\ \\sin(\\theta) & \\cos(\\theta) \\end{bmatrix}$$"
   ]
  },
  {
   "cell_type": "code",
   "execution_count": null,
   "metadata": {
    "deletable": false,
    "execution": {
     "iopub.execute_input": "2024-09-10T11:33:16.382507Z",
     "iopub.status.busy": "2024-09-10T11:33:16.381930Z",
     "iopub.status.idle": "2024-09-10T11:33:16.392174Z",
     "shell.execute_reply": "2024-09-10T11:33:16.390028Z"
    },
    "nbgrader": {
     "cell_type": "code",
     "checksum": "4631b3c66162c7c652e016e45e43bb57",
     "grade": false,
     "grade_id": "cell-ed2346b6c48c11d1",
     "locked": false,
     "schema_version": 3,
     "solution": true,
     "task": false
    }
   },
   "outputs": [],
   "source": [
    "def rotate(v, angle):\n",
    "    #-------------------------------------\n",
    "    # SKRIV DIN KODE HER!\n",
    "    #-------------------------------------\n",
    "    return v_rot"
   ]
  },
  {
   "cell_type": "code",
   "execution_count": null,
   "metadata": {
    "autofeedback": {
     "test_code": "ZnJvbSBhdXRvZmVlZGJhY2sgaW1wb3J0IEZ1bmN0aW9uVGVzdHMKaW1wb3J0IG51bXB5IGFzIG5wCgpkZWYgcm90YXRlX3NvbHV0aW9uKHYsIGFuZ2xlKToKICAgICNhbmdsZSA9IG5wLmRlZzJyYWQoYW5nbGUpCiAgICBSID0gbnAuYXJyYXkoW1tucC5jb3MoYW5nbGUpLCAtbnAuc2luKGFuZ2xlKV0sIFtucC5zaW4oYW5nbGUpLCBucC5jb3MoYW5nbGUpXV0pCiAgICB2X3JvdCA9IFJAdgogICAgdl9yb3QgPSB2X3JvdC5yZXNoYXBlKCgtMSkpCiAgICByZXR1cm4gdl9yb3QKCgpncmFkaW5nX3Jlc3VsdHMgPSBGdW5jdGlvblRlc3RzKHJvdGF0ZV9zb2x1dGlvbikKdHJ5OgogICAgZ3JhZGluZ19yZXN1bHRzLmFkZF90ZXN0X2Z1bmMocm90YXRlKQpleGNlcHQgRXhjZXB0aW9uIGFzIGU6CiAgICBncmFkaW5nX3Jlc3VsdHMubG9nLmFwcGVuZCgiQ291bGQgbm90IHJ1biB0ZXN0cywgIitlLmFyZ3NbMF0pCmVsc2U6CiAgICBOID0gMwogICAgZm9yIF8gaW4gcmFuZ2UoTik6CiAgICAgICAgdl90ZXN0ID0gbnAucmFuZG9tLnJhbmRpbnQoLTEwLCAxMCwgMikqMS4wCiAgICAgICAgYW5nbGVfdGVzdCA9IG5wLnJhbmRvbS5yYW5kaW50KC0xODAsIDE4MCwgMikqMS4wCiAgICAgICAgZ3JhZGluZ19yZXN1bHRzLnRlc3RfcmV0dXJuX3ZhbHVlKHZfdGVzdCwgYW5nbGVfdGVzdCkKCnJvdW5kKGdyYWRpbmdfcmVzdWx0cy5nZXRfcmVzdWx0cygpKjIsIDIp"
    },
    "deletable": false,
    "editable": false,
    "execution": {
     "iopub.execute_input": "2024-09-10T11:33:16.399019Z",
     "iopub.status.busy": "2024-09-10T11:33:16.398668Z",
     "iopub.status.idle": "2024-09-10T11:33:16.461659Z",
     "shell.execute_reply": "2024-09-10T11:33:16.458666Z"
    },
    "nbgrader": {
     "cell_type": "code",
     "checksum": "f643b9d70567c2d4aaddd01feb7f99a5",
     "grade": true,
     "grade_id": "cell-d664979c1ecc5d07",
     "locked": true,
     "points": 2,
     "schema_version": 3,
     "solution": false,
     "task": false
    }
   },
   "outputs": [],
   "source": [
    "# Denne cellen brukes under retting. La stå!"
   ]
  },
  {
   "cell_type": "markdown",
   "metadata": {
    "deletable": false
   },
   "source": [
    "## c)\n",
    "Skriv funksjonen `split_line` som omformer én side av trekanten. Den skal ta inn to arrays `x` og `y` med lengde 2 som representerer én linje, og returnere to arrays `x_new` og `y_new` med lengde 4 som representerer en omformet side av trekanten. Funksjonen oppnår dette ved å ta i bruk funksjonene fra deloppgave **a)** og **b)**"
   ]
  },
  {
   "cell_type": "code",
   "execution_count": null,
   "metadata": {
    "deletable": false,
    "execution": {
     "iopub.execute_input": "2024-09-10T11:33:16.472382Z",
     "iopub.status.busy": "2024-09-10T11:33:16.471517Z",
     "iopub.status.idle": "2024-09-10T11:33:16.489975Z",
     "shell.execute_reply": "2024-09-10T11:33:16.487253Z"
    },
    "nbgrader": {
     "cell_type": "code",
     "checksum": "2c1393e1451668df0058792e122a165a",
     "grade": false,
     "grade_id": "cell-450837d3d4df1604",
     "locked": false,
     "schema_version": 3,
     "solution": true,
     "task": false
    }
   },
   "outputs": [],
   "source": [
    "def split_line(x, y):\n",
    "    #-------------------------------------\n",
    "    # SKRIV DIN KODE HER!\n",
    "    #-------------------------------------\n",
    "    return np.array(x_new), np.array(y_new)"
   ]
  },
  {
   "cell_type": "code",
   "execution_count": null,
   "metadata": {
    "autofeedback": {
     "test_code": "ZnJvbSBhdXRvZmVlZGJhY2sgaW1wb3J0IEZ1bmN0aW9uVGVzdHMKaW1wb3J0IG51bXB5IGFzIG5wCgpkZWYgc3BsaXRfbGluZV9zb2x1dGlvbih4LCB5KToKICAgIHAsIHYgPSBwb2ludHMydmVjdG9yX3NvbHV0aW9uKHgsIHkpCiAgICB4X25ldyA9IFt4WzBdXQogICAgeV9uZXcgPSBbeVswXV0KICAgIGFuZ2xlcyA9IFswLCAtbnAucGkvMywgbnAucGkvM10KICAgIGZvciBhbmdsZSBpbiBhbmdsZXM6CiAgICAgICAgdl9yb3QgPSByb3RhdGVfc29sdXRpb24odiwgYW5nbGUpLzMKICAgICAgICB4X25ldy5hcHBlbmQoeF9uZXdbLTFdICsgdl9yb3RbMF0pCiAgICAgICAgeV9uZXcuYXBwZW5kKHlfbmV3Wy0xXSArIHZfcm90WzFdKQogICAgcmV0dXJuIG5wLmFycmF5KHhfbmV3KSwgbnAuYXJyYXkoeV9uZXcpCgpncmFkaW5nX3Jlc3VsdHMgPSBGdW5jdGlvblRlc3RzKHNwbGl0X2xpbmVfc29sdXRpb24pCnRyeToKICAgIGdyYWRpbmdfcmVzdWx0cy5hZGRfdGVzdF9mdW5jKHNwbGl0X2xpbmUpCmV4Y2VwdCBFeGNlcHRpb24gYXMgZToKICAgIGdyYWRpbmdfcmVzdWx0cy5sb2cuYXBwZW5kKCJDb3VsZCBub3QgcnVuIHRlc3RzLCAiK2UuYXJnc1swXSkKZWxzZToKICAgIE4gPSAzCiAgICBmb3IgXyBpbiByYW5nZShOKToKICAgICAgICB4X3Rlc3QgPSBucC5yYW5kb20ucmFuZGludCgtMTAsIDEwLCAyKSoxLjAKICAgICAgICB5X3Rlc3QgPSBucC5yYW5kb20ucmFuZGludCgtMTAsIDEwLCAyKSoxLjAKICAgICAgICBncmFkaW5nX3Jlc3VsdHMudGVzdF9yZXR1cm5fdmFsdWUodl90ZXN0LCBhbmdsZV90ZXN0KQoKcm91bmQoZ3JhZGluZ19yZXN1bHRzLmdldF9yZXN1bHRzKCkqMiwgMik="
    },
    "deletable": false,
    "editable": false,
    "execution": {
     "iopub.execute_input": "2024-09-10T11:33:16.501075Z",
     "iopub.status.busy": "2024-09-10T11:33:16.499756Z",
     "iopub.status.idle": "2024-09-10T11:33:16.579064Z",
     "shell.execute_reply": "2024-09-10T11:33:16.576671Z"
    },
    "nbgrader": {
     "cell_type": "code",
     "checksum": "3b67d082eac6945d453c18e92070e9ad",
     "grade": true,
     "grade_id": "cell-2afc882413beec99",
     "locked": true,
     "points": 2,
     "schema_version": 3,
     "solution": false,
     "task": false
    }
   },
   "outputs": [],
   "source": [
    "# Denne cellen brukes under retting. La stå!"
   ]
  },
  {
   "cell_type": "markdown",
   "metadata": {
    "deletable": false
   },
   "source": [
    "## d)\n",
    "Fullfør nå funksjonen `single_iteration`. Den skal bruke funksjonen fra deloppgave **c)** til å transformere *alle* sidene i trekanten. Input er to arrays `x` og `y` med lengde $3\\cdot 4^{N-1} + 1$, og output er to arrays `x_new` og `y_new`med lengde $3 \\cdot 4^{N} +1$."
   ]
  },
  {
   "cell_type": "code",
   "execution_count": null,
   "metadata": {
    "deletable": false,
    "execution": {
     "iopub.execute_input": "2024-09-10T11:33:16.587599Z",
     "iopub.status.busy": "2024-09-10T11:33:16.586871Z",
     "iopub.status.idle": "2024-09-10T11:33:16.599917Z",
     "shell.execute_reply": "2024-09-10T11:33:16.597506Z"
    },
    "nbgrader": {
     "cell_type": "code",
     "checksum": "38c9fa19cfd5fd3e1ee06f81f8889684",
     "grade": false,
     "grade_id": "cell-0fa202ac9f10e834",
     "locked": false,
     "schema_version": 3,
     "solution": true,
     "task": false
    }
   },
   "outputs": [],
   "source": [
    "def single_iteration(x, y):\n",
    "    #-------------------------------------\n",
    "    # SKRIV DIN KODE HER!\n",
    "    #-------------------------------------\n",
    "    return x_new, y_new"
   ]
  },
  {
   "cell_type": "code",
   "execution_count": null,
   "metadata": {
    "autofeedback": {
     "test_code": "ZnJvbSBhdXRvZmVlZGJhY2sgaW1wb3J0IEZ1bmN0aW9uVGVzdHMKaW1wb3J0IG51bXB5IGFzIG5wCgpkZWYgc2luZ2xlX2l0ZXJhdGlvbl9zb2x1dGlvbih4LCB5KToKICAgIEwgPSA0Kmxlbih4KSAtIDMKICAgIHhfbmV3ID0gbnAuemVyb3MoTCkKICAgIHlfbmV3ID0gbnAuemVyb3MoTCkKICAgIGZvciBpIGluIHJhbmdlKDAsIGxlbih4KS0xKToKICAgICAgICBuZXdfc2lkZV94LCBuZXdfc2lkZV95ID0gc3BsaXRfbGluZV9zb2x1dGlvbih4W2k6aSsyXSwgeVtpOmkrMl0pCiAgICAgICAgeF9uZXdbNCppOjQqKGkrMSldID0gbmV3X3NpZGVfeAogICAgICAgIHlfbmV3WzQqaTo0KihpKzEpXSA9IG5ld19zaWRlX3kKICAgIHhfbmV3Wy0xXSA9IHhbLTFdCiAgICB5X25ld1stMV0gPSB5Wy0xXQogICAgcmV0dXJuIHhfbmV3LCB5X25ldwoKZ3JhZGluZ19yZXN1bHRzID0gRnVuY3Rpb25UZXN0cyhzaW5nbGVfaXRlcmF0aW9uX3NvbHV0aW9uKQp0cnk6CiAgICBncmFkaW5nX3Jlc3VsdHMuYWRkX3Rlc3RfZnVuYyhzaW5nbGVfaXRlcmF0aW9uKQpleGNlcHQgRXhjZXB0aW9uIGFzIGU6CiAgICBncmFkaW5nX3Jlc3VsdHMubG9nLmFwcGVuZCgiQ291bGQgbm90IHJ1biB0ZXN0cywgIitlLmFyZ3NbMF0pCmVsc2U6CiAgICBOID0gMgogICAgcl90ZXN0cyA9IG5wLnJhbmRvbS5yYW5kaW50KDEsIDEwLCBOKQogICAgYWxpZ25fdGVzdHMgPSBucC5yYW5kb20ucmFuZGludCgtMTgwLCAxODAsIE4pCiAgICBmb3Igcl90ZXN0LCBhbGlnbl90ZXN0IGluIHppcChyX3Rlc3RzLCBhbGlnbl90ZXN0cyk6CiAgICAgICAgeF90ZXN0ID0gbnAucmFuZG9tLnJhbmRpbnQoLTEwLCAxMCwgMikqMS4wCiAgICAgICAgeV90ZXN0ID0gbnAucmFuZG9tLnJhbmRpbnQoLTEwLCAxMCwgMikqMS4wCiAgICAgICAgdGhldGFfdGVzdCA9IG5wLmFycmF5KFstcGkvMiwgcGkvNiwgNSpwaS82LCAzKnBpLzJdKSArIG5wLmRlZzJyYWQoYWxpZ25fdGVzdCkgCiAgICAgICAgeF90ZXN0ID0gcl90ZXN0Km5wLmNvcyh0aGV0YV90ZXN0KQogICAgICAgIHlfdGVzdCA9IHJfdGVzdCpucC5zaW4odGhldGFfdGVzdCkKICAgICAgICBncmFkaW5nX3Jlc3VsdHMudGVzdF9yZXR1cm5fdmFsdWUoeF90ZXN0LCB5X3Rlc3QpCgpyb3VuZChncmFkaW5nX3Jlc3VsdHMuZ2V0X3Jlc3VsdHMoKSoyLCAyKQ=="
    },
    "deletable": false,
    "editable": false,
    "execution": {
     "iopub.execute_input": "2024-09-10T11:33:16.645766Z",
     "iopub.status.busy": "2024-09-10T11:33:16.645245Z",
     "iopub.status.idle": "2024-09-10T11:33:16.686371Z",
     "shell.execute_reply": "2024-09-10T11:33:16.683691Z"
    },
    "nbgrader": {
     "cell_type": "code",
     "checksum": "6922aee1129ae6c520c8e2aa56c9e730",
     "grade": true,
     "grade_id": "cell-eb878de574422740",
     "locked": true,
     "points": 2,
     "schema_version": 3,
     "solution": false,
     "task": false
    }
   },
   "outputs": [],
   "source": [
    "# Denne cellen brukes under retting. La stå!"
   ]
  },
  {
   "cell_type": "markdown",
   "metadata": {
    "deletable": false
   },
   "source": [
    "## e)\n",
    "\n",
    "Nå er vi nesten i mål! nå gjenstår det bare å skrive ferdig programmet nedenfor som genererer hele snøflaket i $N$ iterasjoner."
   ]
  },
  {
   "cell_type": "code",
   "execution_count": null,
   "metadata": {
    "autofeedback": {
     "plot_task": true
    },
    "deletable": false,
    "execution": {
     "iopub.execute_input": "2024-09-10T11:33:16.696063Z",
     "iopub.status.busy": "2024-09-10T11:33:16.693890Z",
     "iopub.status.idle": "2024-09-10T11:33:17.062807Z",
     "shell.execute_reply": "2024-09-10T11:33:17.059385Z"
    },
    "nbgrader": {
     "cell_type": "code",
     "checksum": "7b14cd57c83c6b9b5676aec25222a20a",
     "grade": false,
     "grade_id": "cell-1ebc2a5717353a66",
     "locked": false,
     "schema_version": 3,
     "solution": true,
     "task": false
    }
   },
   "outputs": [],
   "source": [
    "# Trekant!\n",
    "theta = np.array([-pi/2, pi/6, 5*pi/6, 3*pi/2]) # ndarray som inneholder vinklene -90, 30, 150 og 270 grader.\n",
    "x = cos(theta) # x-koordinater for kantene\n",
    "y = sin(theta) # y-koordinater for kantene\n",
    "\n",
    "N = 2 # Antall iterasjoner\n",
    "\n",
    "#-------------------------------------\n",
    "# SKRIV DIN KODE HER!\n",
    "#-------------------------------------\n",
    "\n",
    "#Plot kurven til slutt:\n",
    "plt.close(2); plt.figure(2, figsize=(9,9))\n",
    "plt.plot(x, y)\n",
    "plt.gca().set_aspect(\"equal\")\n",
    "fig = plt.gcf()"
   ]
  },
  {
   "cell_type": "code",
   "execution_count": null,
   "metadata": {
    "autofeedback": {
     "test_code": "ZnJvbSBhdXRvZmVlZGJhY2sgaW1wb3J0IEN1c3RvbVRlc3RzCmltcG9ydCBudW1weSBhcyBucAoKdGVzdF9yZXN1bHRzID0gQ3VzdG9tVGVzdHMoKQoKaWYgbGVuKGZpZy5heGVzKSA8IDE6CiAgICB0ZXN0X3Jlc3VsdHMuYWRkX3Jlc3VsdChGYWxzZSwgIk5vIHBsb3QgZGV0ZWN0ZWQuIikKZWxzZToKICAgIHRyeToKICAgICAgICBzbm93Zmxha2VfeCA9IGZpZy5heGVzWy0xXS5saW5lc1stMV0uZ2V0X3hkYXRhKCkKICAgICAgICBzbm93Zmxha2VfeSA9IGZpZy5heGVzWy0xXS5saW5lc1stMV0uZ2V0X3lkYXRhKCkKICAgIGV4Y2VwdCBFeGNlcHRpb24gYXMgZToKICAgICAgICB0ZXN0X3Jlc3VsdHMuYWRkX3Jlc3VsdChGYWxzZSwgIkNvdWxkIG5vdCBleHRyYWN0IHBsb3QgaW5mb3JtYXRpb24sICIrZS5hcmdzWzBdKQogICAgZWxzZToKICAgICAgICB0ZXN0X3Jlc3VsdHMudGVzdChsZW4oc25vd2ZsYWtlX3gpID09IDMqNCoqTisxLAogICAgICAgICAgICAgICAgICAgICAgICAgIGYicGxvdCBoYXMgdGhlIGNvcnJlY3QgbnVtYmVyIG9mIHBvaW50cyBmb3Ige059IGl0ZXJhdGlvbnMuIiwKICAgICAgICAgICAgICAgICAgICAgICAgICBmImRldGVjdGVkIHtsZW4oc25vd2ZsYWtlX3gpfSBwb2ludHMgaW4gcGxvdCwgYW5kIG5vdCB7Myo0KipOKzF9IHdoaWNoIGlzIHRoZSBjb3JyZWN0IG51bWJlciBvZiBwb2ludHMgZm9yIHtOfSBpdGVyYXRpb25zLiIpCiAgICAgICAgCgpyb3VuZCh0ZXN0X3Jlc3VsdHMuZ2V0X3Jlc3VsdHMoKSoyLCAyKQ=="
    },
    "deletable": false,
    "editable": false,
    "execution": {
     "iopub.execute_input": "2024-09-10T11:33:17.072367Z",
     "iopub.status.busy": "2024-09-10T11:33:17.071526Z",
     "iopub.status.idle": "2024-09-10T11:33:17.097633Z",
     "shell.execute_reply": "2024-09-10T11:33:17.095905Z"
    },
    "nbgrader": {
     "cell_type": "code",
     "checksum": "2d260ae1de0d7669d6e6d518c8505729",
     "grade": true,
     "grade_id": "cell-d91a668b24fe09d9",
     "locked": true,
     "points": 2,
     "schema_version": 3,
     "solution": false,
     "task": false
    }
   },
   "outputs": [],
   "source": [
    "# Denne cellen brukes under retting. La Stå!"
   ]
  },
  {
   "cell_type": "markdown",
   "metadata": {
    "deletable": false
   },
   "source": [
    "#### Lykke til!\n",
    "**P.S.** Ikke bli forundret hvis programmet ditt bruker lang tid på å kjøre. Utregninger med noe særlig mer enn 10 iterasjoner er ikke anbefalt."
   ]
  },
  {
   "cell_type": "markdown",
   "metadata": {
    "deletable": false,
    "editable": false
   },
   "source": [
    "<br>\n",
    "<nav class=\"navbar navbar-default\">\n",
    "        <div class=\"container-fluid\">\n",
    "            <div class=\"navbar-header\" style=\"float: left\">\n",
    "                <a class=\"navbar-brand\" href=\"9_naiv_gauss.ipynb\" target=\"_self\">&lt; Forrige side: <i>naiv gausseliminasjon</i></a>\n",
    "                </div>\n",
    "        </div>\n",
    "</nav>"
   ]
  }
 ],
 "metadata": {
  "kernelspec": {
   "display_name": "Python 3 (ipykernel)",
   "language": "python",
   "name": "python3"
  },
  "language_info": {
   "codemirror_mode": {
    "name": "ipython",
    "version": 3
   },
   "file_extension": ".py",
   "mimetype": "text/x-python",
   "name": "python",
   "nbconvert_exporter": "python",
   "pygments_lexer": "ipython3",
   "version": "3.11.6"
  },
  "widgets": {
   "application/vnd.jupyter.widget-state+json": {
    "state": {
     "60a97717f9ef476b89c310f39dc769c6": {
      "model_module": "@jupyter-widgets/base",
      "model_module_version": "2.0.0",
      "model_name": "LayoutModel",
      "state": {
       "_model_module": "@jupyter-widgets/base",
       "_model_module_version": "2.0.0",
       "_model_name": "LayoutModel",
       "_view_count": null,
       "_view_module": "@jupyter-widgets/base",
       "_view_module_version": "2.0.0",
       "_view_name": "LayoutView",
       "align_content": null,
       "align_items": null,
       "align_self": null,
       "border_bottom": null,
       "border_left": null,
       "border_right": null,
       "border_top": null,
       "bottom": null,
       "display": null,
       "flex": null,
       "flex_flow": null,
       "grid_area": null,
       "grid_auto_columns": null,
       "grid_auto_flow": null,
       "grid_auto_rows": null,
       "grid_column": null,
       "grid_gap": null,
       "grid_row": null,
       "grid_template_areas": null,
       "grid_template_columns": null,
       "grid_template_rows": null,
       "height": null,
       "justify_content": null,
       "justify_items": null,
       "left": null,
       "margin": null,
       "max_height": null,
       "max_width": null,
       "min_height": null,
       "min_width": null,
       "object_fit": null,
       "object_position": null,
       "order": null,
       "overflow": null,
       "padding": null,
       "right": null,
       "top": null,
       "visibility": null,
       "width": null
      }
     },
     "61cd9b4d873c44f4b8af4901a5c8cb5d": {
      "model_module": "jupyter-matplotlib",
      "model_module_version": "^0.11",
      "model_name": "MPLCanvasModel",
      "state": {
       "_cursor": "pointer",
       "_data_url": "data:image/png;base64,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",
       "_dom_classes": [],
       "_figure_label": "Figure",
       "_image_mode": "full",
       "_message": "",
       "_model_module": "jupyter-matplotlib",
       "_model_module_version": "^0.11",
       "_model_name": "MPLCanvasModel",
       "_rubberband_height": 0,
       "_rubberband_width": 0,
       "_rubberband_x": 0,
       "_rubberband_y": 0,
       "_size": [
        900,
        900
       ],
       "_view_count": null,
       "_view_module": "jupyter-matplotlib",
       "_view_module_version": "^0.11",
       "_view_name": "MPLCanvasView",
       "capture_scroll": false,
       "footer_visible": true,
       "header_visible": true,
       "layout": "IPY_MODEL_b7b7cb29618948449eefadf14f18ce28",
       "pan_zoom_throttle": 33,
       "resizable": true,
       "tabbable": null,
       "toolbar": "IPY_MODEL_b15f9131c63540d18fcd76250a3a7d54",
       "toolbar_position": "left",
       "toolbar_visible": "fade-in-fade-out",
       "tooltip": null
      }
     },
     "9e23fd0e99354310b17d466796947e21": {
      "model_module": "jupyter-matplotlib",
      "model_module_version": "^0.11",
      "model_name": "MPLCanvasModel",
      "state": {
       "_cursor": "pointer",
       "_data_url": "data:image/png;base64,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",
       "_dom_classes": [],
       "_figure_label": "Figure",
       "_image_mode": "full",
       "_message": "",
       "_model_module": "jupyter-matplotlib",
       "_model_module_version": "^0.11",
       "_model_name": "MPLCanvasModel",
       "_rubberband_height": 0,
       "_rubberband_width": 0,
       "_rubberband_x": 0,
       "_rubberband_y": 0,
       "_size": [
        900,
        900
       ],
       "_view_count": null,
       "_view_module": "jupyter-matplotlib",
       "_view_module_version": "^0.11",
       "_view_name": "MPLCanvasView",
       "capture_scroll": false,
       "footer_visible": true,
       "header_visible": true,
       "layout": "IPY_MODEL_e89533d154ac45bea79c891d20da3d02",
       "pan_zoom_throttle": 33,
       "resizable": true,
       "tabbable": null,
       "toolbar": "IPY_MODEL_b62d2da79c11403783e84b28f50fb02f",
       "toolbar_position": "left",
       "toolbar_visible": "fade-in-fade-out",
       "tooltip": null
      }
     },
     "b15f9131c63540d18fcd76250a3a7d54": {
      "model_module": "jupyter-matplotlib",
      "model_module_version": "^0.11",
      "model_name": "ToolbarModel",
      "state": {
       "_current_action": "",
       "_dom_classes": [],
       "_model_module": "jupyter-matplotlib",
       "_model_module_version": "^0.11",
       "_model_name": "ToolbarModel",
       "_view_count": null,
       "_view_module": "jupyter-matplotlib",
       "_view_module_version": "^0.11",
       "_view_name": "ToolbarView",
       "button_style": "",
       "collapsed": true,
       "layout": "IPY_MODEL_fa4dea4647ec43dcb31d6f7ed0bceb18",
       "orientation": "vertical",
       "tabbable": null,
       "toolitems": [
        [
         "Home",
         "Reset original view",
         "home",
         "home"
        ],
        [
         "Back",
         "Back to previous view",
         "arrow-left",
         "back"
        ],
        [
         "Forward",
         "Forward to next view",
         "arrow-right",
         "forward"
        ],
        [
         "Pan",
         "Left button pans, Right button zooms\nx/y fixes axis, CTRL fixes aspect",
         "arrows",
         "pan"
        ],
        [
         "Zoom",
         "Zoom to rectangle\nx/y fixes axis",
         "square-o",
         "zoom"
        ],
        [
         "Download",
         "Download plot",
         "floppy-o",
         "save_figure"
        ]
       ],
       "tooltip": null
      }
     },
     "b62d2da79c11403783e84b28f50fb02f": {
      "model_module": "jupyter-matplotlib",
      "model_module_version": "^0.11",
      "model_name": "ToolbarModel",
      "state": {
       "_current_action": "",
       "_dom_classes": [],
       "_model_module": "jupyter-matplotlib",
       "_model_module_version": "^0.11",
       "_model_name": "ToolbarModel",
       "_view_count": null,
       "_view_module": "jupyter-matplotlib",
       "_view_module_version": "^0.11",
       "_view_name": "ToolbarView",
       "button_style": "",
       "collapsed": true,
       "layout": "IPY_MODEL_60a97717f9ef476b89c310f39dc769c6",
       "orientation": "vertical",
       "tabbable": null,
       "toolitems": [
        [
         "Home",
         "Reset original view",
         "home",
         "home"
        ],
        [
         "Back",
         "Back to previous view",
         "arrow-left",
         "back"
        ],
        [
         "Forward",
         "Forward to next view",
         "arrow-right",
         "forward"
        ],
        [
         "Pan",
         "Left button pans, Right button zooms\nx/y fixes axis, CTRL fixes aspect",
         "arrows",
         "pan"
        ],
        [
         "Zoom",
         "Zoom to rectangle\nx/y fixes axis",
         "square-o",
         "zoom"
        ],
        [
         "Download",
         "Download plot",
         "floppy-o",
         "save_figure"
        ]
       ],
       "tooltip": null
      }
     },
     "b7b7cb29618948449eefadf14f18ce28": {
      "model_module": "@jupyter-widgets/base",
      "model_module_version": "2.0.0",
      "model_name": "LayoutModel",
      "state": {
       "_model_module": "@jupyter-widgets/base",
       "_model_module_version": "2.0.0",
       "_model_name": "LayoutModel",
       "_view_count": null,
       "_view_module": "@jupyter-widgets/base",
       "_view_module_version": "2.0.0",
       "_view_name": "LayoutView",
       "align_content": null,
       "align_items": null,
       "align_self": null,
       "border_bottom": null,
       "border_left": null,
       "border_right": null,
       "border_top": null,
       "bottom": null,
       "display": null,
       "flex": null,
       "flex_flow": null,
       "grid_area": null,
       "grid_auto_columns": null,
       "grid_auto_flow": null,
       "grid_auto_rows": null,
       "grid_column": null,
       "grid_gap": null,
       "grid_row": null,
       "grid_template_areas": null,
       "grid_template_columns": null,
       "grid_template_rows": null,
       "height": null,
       "justify_content": null,
       "justify_items": null,
       "left": null,
       "margin": null,
       "max_height": null,
       "max_width": null,
       "min_height": null,
       "min_width": null,
       "object_fit": null,
       "object_position": null,
       "order": null,
       "overflow": null,
       "padding": null,
       "right": null,
       "top": null,
       "visibility": null,
       "width": null
      }
     },
     "e89533d154ac45bea79c891d20da3d02": {
      "model_module": "@jupyter-widgets/base",
      "model_module_version": "2.0.0",
      "model_name": "LayoutModel",
      "state": {
       "_model_module": "@jupyter-widgets/base",
       "_model_module_version": "2.0.0",
       "_model_name": "LayoutModel",
       "_view_count": null,
       "_view_module": "@jupyter-widgets/base",
       "_view_module_version": "2.0.0",
       "_view_name": "LayoutView",
       "align_content": null,
       "align_items": null,
       "align_self": null,
       "border_bottom": null,
       "border_left": null,
       "border_right": null,
       "border_top": null,
       "bottom": null,
       "display": null,
       "flex": null,
       "flex_flow": null,
       "grid_area": null,
       "grid_auto_columns": null,
       "grid_auto_flow": null,
       "grid_auto_rows": null,
       "grid_column": null,
       "grid_gap": null,
       "grid_row": null,
       "grid_template_areas": null,
       "grid_template_columns": null,
       "grid_template_rows": null,
       "height": null,
       "justify_content": null,
       "justify_items": null,
       "left": null,
       "margin": null,
       "max_height": null,
       "max_width": null,
       "min_height": null,
       "min_width": null,
       "object_fit": null,
       "object_position": null,
       "order": null,
       "overflow": null,
       "padding": null,
       "right": null,
       "top": null,
       "visibility": null,
       "width": null
      }
     },
     "fa4dea4647ec43dcb31d6f7ed0bceb18": {
      "model_module": "@jupyter-widgets/base",
      "model_module_version": "2.0.0",
      "model_name": "LayoutModel",
      "state": {
       "_model_module": "@jupyter-widgets/base",
       "_model_module_version": "2.0.0",
       "_model_name": "LayoutModel",
       "_view_count": null,
       "_view_module": "@jupyter-widgets/base",
       "_view_module_version": "2.0.0",
       "_view_name": "LayoutView",
       "align_content": null,
       "align_items": null,
       "align_self": null,
       "border_bottom": null,
       "border_left": null,
       "border_right": null,
       "border_top": null,
       "bottom": null,
       "display": null,
       "flex": null,
       "flex_flow": null,
       "grid_area": null,
       "grid_auto_columns": null,
       "grid_auto_flow": null,
       "grid_auto_rows": null,
       "grid_column": null,
       "grid_gap": null,
       "grid_row": null,
       "grid_template_areas": null,
       "grid_template_columns": null,
       "grid_template_rows": null,
       "height": null,
       "justify_content": null,
       "justify_items": null,
       "left": null,
       "margin": null,
       "max_height": null,
       "max_width": null,
       "min_height": null,
       "min_width": null,
       "object_fit": null,
       "object_position": null,
       "order": null,
       "overflow": null,
       "padding": null,
       "right": null,
       "top": null,
       "visibility": null,
       "width": null
      }
     }
    },
    "version_major": 2,
    "version_minor": 0
   }
  }
 },
 "nbformat": 4,
 "nbformat_minor": 4
}
