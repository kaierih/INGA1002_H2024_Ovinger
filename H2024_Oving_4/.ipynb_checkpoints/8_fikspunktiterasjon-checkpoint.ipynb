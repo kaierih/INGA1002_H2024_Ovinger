{
 "cells": [
  {
   "cell_type": "markdown",
   "id": "67a063af",
   "metadata": {
    "deletable": false,
    "editable": false
   },
   "source": [
    "\n",
    "<nav class=\"navbar navbar-default\">\n",
    "  <div class=\"container-fluid\">\n",
    "    <div class=\"navbar-header\" style=\"float: left\">\n",
    "        <a class=\"navbar-brand\" href=\"0_Forside.ipynb\" target=\"_self\"> <h2> &uarr; Tilbake til forsiden</h2></a>\n",
    "    </div>\n",
    "  </div>\n",
    "</nav>"
   ]
  },
  {
   "cell_type": "markdown",
   "id": "e02d4a9d-1e5c-43cc-95b6-84bab07a2967",
   "metadata": {
    "deletable": false
   },
   "source": [
    "# Enkel iterativ metode: andregradsligning del 2\n",
    "\n",
    "**Læringsmål:**\n",
    "\n",
    "* While-løkker\n",
    "* For-løkker\n",
    "* Intro til iterative metoder\n",
    "\n",
    "### Intro til løsning av andregradsligning med iterativ metode\n",
    "\n",
    "I Øving 3 skrev vi et program for å løse en andregradsligning analytisk med bruk av andregradsformelen. Andregradslignigner er som kjent ligninger på formen $a\\cdot x^2 + b\\cdot x + c = 0$, og utfordringen vår er å finne verdien til løsningen $x$ i ligningen. I denne oppgaven skal vi introduseres for en enkel ***iterativ metode*** for å løse ligninger. Iterative metoder er svært nyttige algoritmer for å løse vanskelige matematiske problemer med bruk av strategisk gjetting. \n",
    "\n",
    "Typisk forløper iterative metoder seg som følger:\n",
    "1. Velg en initiell verdi for $x=x_0$ å bruke som startpunkt.\n",
    "2. Regn ut $f(x_0)$, som i dette tilfellet blir $a\\cdot x_0^2 + b\\cdot x_0 + c$\n",
    "3. Bruk resultatet fra $f(x_0)$ til å bestemme en ny *neste estimat* for $x=x_1$. Gå gå så tilbake til steg 2 og gjenta utregningen.\n",
    "\n",
    "Over mange iterasjoner så skal estimatene $x_n$ for $x$ konvergere mot ligningens løsning når $n \\rightarrow \\infty$.\n",
    "\n",
    "Den enkleste varianten av en iterativ metode vi kan bruke er fikspunktiterasjon, som dere vil lære mer om i numerikkdelen. For å løse en andregradsligning med fikspunktiterasjon er første steg å skrive om selve andregradsligningen for å finne en \"oppdateringsfunksjon\" for $x$.\n",
    "\n",
    "$$\n",
    "\\begin{align}\n",
    "a \\cdot x^2 + b \\cdot x + c &= 0 \\\\\n",
    "b \\cdot x &= -a \\cdot x^2 - c \\\\\n",
    "x &= -\\frac{a\\cdot x^2 + c}{b} \n",
    "\\end{align}\n",
    "$$\n",
    "\n",
    "Her har vi gjort noe så uintuitivt som å skrive $x$ som en funksjon av $x$. Men, nøkkelen til den iterative metoden er at $x$'en på venstresiden av likhetstegnet er det *neste* estimatet vårt for $x$ som vi regner ut basert på estimatet allerede har. Oppdateringsfunksjonen vår blir da:\n",
    "\n",
    "$$ x_{n+1} = -\\frac{a \\cdot x_{n}^2 + c}{b}$$\n",
    "\n",
    "Hvor heltallet $n$ representerer *antallet iterajoner*. For å gjøre denne prosessen litt tydeligere, kan vi ta et eksempel og gå gjennom iterasjonene steg for steg for andregradsligningen $2x^2 - 5x + 2 = 0$. Oppdateringsfunksjonen blir da $x_{n+1} = \\frac{2x_n^2+2}{5}$. Vi kan starte enkelt med et initielt estimat for $x$: $x_0 = 0$.\n",
    "\n",
    "\n",
    "|Iterasjon nr. | Nåværende estimat $x_n$ | Neste estimat $x_{n+1}$ |\n",
    "|---|---|---|\n",
    "| $$0$$ | $$0$$ | $$\\frac{2\\cdot 0^2 + 2}{5} = 0.4$$ |\n",
    "| $$1$$ | $$0.4$$ | $$\\frac{2\\cdot 0.4^2 + 2}{5} = 0.464$$ |\n",
    "| $$2$$ | $$0.465$$ | $$\\frac{2\\cdot 0.464^2 + 2}{5} = 0.48612$$ |\n",
    "| $$3$$ | $$0.48612$$ | $$\\frac{2\\cdot 0.48612^2 + 2}{5} = 0.49452$$|\n",
    "| $$4$$ | $$0.49452$$ | $$\\frac{2\\cdot 0.49452^2 + 2}{5} = 0.49782$$ |\n",
    "| $$5$$ | $$0.49782$$ | $$\\frac{2\\cdot 0.49782^2 + 2}{5} = 0.49913$$ |\n",
    "\n",
    "På dette stadiet kan vi røpe at $x=0.5$ er én av løsningene til andregradsligningen $2x^2 - 5x + 2 = 0$. Som vi ser kommer estimatet vårt nærmere og nærmere $x=0.5$ for hvert steg, og differansen mellom $x_{n+1}$ og $x_n$ blir mindre og mindre. Som du ser i tabellen gjennomfører vi en serie med repetitive regneoperasjoner, hvor resultatet fra ett steg blir input til neste steg. I python er dette et klassisk eksempel på en metode vi kan implementere med en **løkke**.\n",
    "\n",
    "## a)\n",
    "\n",
    "Bruk en **for**-løkke til å skrive ferdig funksjonen `quadraticSolver100(a, b, c)`, som skal utføre nøyaktig `100` iterasjoner av metoden beskrevet ovenfor, og returnere verdien den ender opp med. Du kan sette standard initialverdi for $x_0$ lik $0$."
   ]
  },
  {
   "cell_type": "code",
   "execution_count": null,
   "id": "fd417d83-0bb9-4c39-8ff2-12ddb8f87a54",
   "metadata": {
    "deletable": false,
    "execution": {
     "iopub.execute_input": "2024-09-10T11:34:01.137034Z",
     "iopub.status.busy": "2024-09-10T11:34:01.134890Z",
     "iopub.status.idle": "2024-09-10T11:34:01.157077Z",
     "shell.execute_reply": "2024-09-10T11:34:01.154219Z"
    },
    "nbgrader": {
     "cell_type": "code",
     "checksum": "cf4be93c7fdb37272791dc76604b8001",
     "grade": false,
     "grade_id": "cell-3f16889679c12732",
     "locked": false,
     "schema_version": 3,
     "solution": true,
     "task": false
    },
    "tags": []
   },
   "outputs": [],
   "source": [
    "def quadraticSolver100(a, b, c):\n",
    "    #-------------------------------------\n",
    "    # SKRIV DIN KODE HER!\n",
    "    #-------------------------------------"
   ]
  },
  {
   "cell_type": "markdown",
   "id": "67221c06-66f5-4ee8-9d10-d98d206ebfda",
   "metadata": {
    "deletable": false
   },
   "source": [
    "Funksjonskallet under tester funksjonen vår for ligningen $2\\cdot x^2 - 5\\cdot x + 2 = 0$:"
   ]
  },
  {
   "cell_type": "code",
   "execution_count": null,
   "id": "a0aaa010-f9bc-4848-9130-e01fbbcb01a6",
   "metadata": {
    "autofeedback": {
     "test_code": "ZnJvbSBhdXRvZmVlZGJhY2sgaW1wb3J0IEZ1bmN0aW9uVGVzdHMKaW1wb3J0IG51bXB5IGFzIG5wCmZyb20gcmFuZG9tIGltcG9ydCBzYW1wbGUKCmRlZiBxdWFkcmF0aWNTb2x2ZXIxMDBfc29sdXRpb24oYSwgYiwgYyk6CiAgICB4X2VzdCA9IDAKICAgIGZvciBpIGluIHJhbmdlKDEwMCk6CiAgICAgICAgeF9lc3QgPSAtKGEqeF9lc3QqKjIrYykvYgogICAgcmV0dXJuIHhfZXN0CgoKZ3JhZGluZ19yZXN1bHRzID0gRnVuY3Rpb25UZXN0cyhxdWFkcmF0aWNTb2x2ZXIxMDBfc29sdXRpb24sIHJ0b2w9MWUtNCkKdHJ5OgogICAgZ3JhZGluZ19yZXN1bHRzLmFkZF90ZXN0X2Z1bmMocXVhZHJhdGljU29sdmVyMTAwKQpleGNlcHQgRXhjZXB0aW9uIGFzIGU6CiAgICBncmFkaW5nX3Jlc3VsdHMubG9nLmFwcGVuZCgiQ291bGQgbm90IHJ1biB0ZXN0cywgIitlLmFyZ3NbMF0pCmVsc2U6CiAgICBOID0gMwogICAgdG90YWxfcm9vdHMgPSBzYW1wbGUobGlzdChyYW5nZSgxLCAxMSkpLCAyKk4pCiAgICB4MV92YWxzID0gdG90YWxfcm9vdHNbOjoyXQogICAgeDJfdmFscyA9IHRvdGFsX3Jvb3RzWzE6OjJdCiAgICBhX3ZhbHMgPSBzYW1wbGUobGlzdChyYW5nZSgxLCA2KSksIE4pCiAgICBmb3IgeDEsIHgyLCBhIGluIHppcCh4MV92YWxzLCB4Ml92YWxzLCBhX3ZhbHMpOgogICAgICAgIGIsIGMgPSAtKHgxK3gyKSphLCBhKngxKngyCiAgICAgICAgZ3JhZGluZ19yZXN1bHRzLnRlc3RfcmV0dXJuX3ZhbHVlKGE9YSwgYj1iLCBjPWMpCgpyb3VuZChncmFkaW5nX3Jlc3VsdHMuZ2V0X3Jlc3VsdHMoKSo1LCAyKQ=="
    },
    "deletable": false,
    "editable": false,
    "execution": {
     "iopub.execute_input": "2024-09-10T11:34:01.167667Z",
     "iopub.status.busy": "2024-09-10T11:34:01.166927Z",
     "iopub.status.idle": "2024-09-10T11:34:03.077702Z",
     "shell.execute_reply": "2024-09-10T11:34:03.075902Z"
    },
    "nbgrader": {
     "cell_type": "code",
     "checksum": "38dd02fe5f74b62227d46f10701cb30d",
     "grade": true,
     "grade_id": "cell-f3ba591072f88689",
     "locked": true,
     "points": 5,
     "schema_version": 3,
     "solution": false,
     "task": false
    },
    "tags": []
   },
   "outputs": [],
   "source": [
    "quadraticSolver100(2, -5, 2)\n",
    "# Denne cellen brukes under retting. La stå!"
   ]
  },
  {
   "cell_type": "markdown",
   "id": "0d370e83-b48b-4842-9a2b-0590988bb925",
   "metadata": {
    "deletable": false
   },
   "source": [
    "\n",
    "Det kan hende det ikke er garantert at algoritmen når ønsket nøyaktighet etter 100 iterasjoner. Det er også mulig at vi får et bra nok svar etter 5 iterajsoner, og ikke trenger å utføre de neste 95 iterasjonene. For å gjøre metoden vår litt mere intelligent kan vi ta i bruk en **while**-løkke, som gjentar iterasjoner helt til den merker at forskjellen mellom $x_n$ og $x_{n+1}$ er mindre enn en bestemt grenseverdi for presisjon. Denne grenseverdien kan vi kalle `tol` (for *toleranse*).\n",
    "\n",
    "## b)\n",
    "\n",
    "Skriv ferdig funksjonen `quadraticSolverB(a, b, c, tol)`, som tar inn alle de tidligere parametrene i tillegg til en ny parameter `tol` som angir øsnket presisjon."
   ]
  },
  {
   "cell_type": "code",
   "execution_count": null,
   "id": "98a4680c-6a25-4c3f-aa65-27725b38c680",
   "metadata": {
    "deletable": false,
    "execution": {
     "iopub.execute_input": "2024-09-10T11:34:03.086515Z",
     "iopub.status.busy": "2024-09-10T11:34:03.085968Z",
     "iopub.status.idle": "2024-09-10T11:34:03.095894Z",
     "shell.execute_reply": "2024-09-10T11:34:03.093162Z"
    },
    "nbgrader": {
     "cell_type": "code",
     "checksum": "2941d046b3f523e3ca7e72bd81ca546c",
     "grade": false,
     "grade_id": "cell-9cad3a2541b66987",
     "locked": false,
     "schema_version": 3,
     "solution": true,
     "task": false
    },
    "tags": []
   },
   "outputs": [],
   "source": [
    "def quadraticSolverB(a, b, c, tol):\n",
    "    #-------------------------------------\n",
    "    # SKRIV DIN KODE HER!\n",
    "    #-------------------------------------"
   ]
  },
  {
   "cell_type": "markdown",
   "id": "86d36059-fcb0-4904-8447-89b7197176da",
   "metadata": {
    "deletable": false
   },
   "source": [
    "Funksjonskallet under tester funksjonen vår for ligningen $2\\cdot x^2 - 5\\cdot x + 2 = 0$:"
   ]
  },
  {
   "cell_type": "code",
   "execution_count": null,
   "id": "c34fbab8-a45d-4b83-893e-a240083a6ea4",
   "metadata": {
    "autofeedback": {
     "test_code": "ZnJvbSBhdXRvZmVlZGJhY2sgaW1wb3J0IEZ1bmN0aW9uVGVzdHMKaW1wb3J0IG51bXB5IGFzIG5wCmZyb20gcmFuZG9tIGltcG9ydCBzYW1wbGUKCmRlZiBxdWFkcmF0aWNTb2x2ZXJCX3NvbHV0aW9uKGEsIGIsIGMsIHRvbCk6CiAgICB4X25vdyA9IDAKICAgIHhfbmV4dCA9IC0oYSp4X25vdyoqMitjKS9iCiAgICB3aGlsZSBhYnMoeF9uZXh0IC0geF9ub3cpID4gdG9sOgogICAgICAgIHhfbm93ID0geF9uZXh0CiAgICAgICAgeF9uZXh0ID0gLShhKnhfbm93KioyK2MpL2IKICAgIHJldHVybiB4X25leHQKCgpncmFkaW5nX3Jlc3VsdHMgPSBGdW5jdGlvblRlc3RzKHF1YWRyYXRpY1NvbHZlckJfc29sdXRpb24sIHJ0b2w9MWUtNCkKdHJ5OgogICAgZ3JhZGluZ19yZXN1bHRzLmFkZF90ZXN0X2Z1bmMocXVhZHJhdGljU29sdmVyQikKZXhjZXB0IEV4Y2VwdGlvbiBhcyBlOgogICAgZ3JhZGluZ19yZXN1bHRzLmxvZy5hcHBlbmQoIkNvdWxkIG5vdCBydW4gdGVzdHMsICIrZS5hcmdzWzBdKQplbHNlOgogICAgTiA9IDMKICAgIHRvdGFsX3Jvb3RzID0gc2FtcGxlKGxpc3QocmFuZ2UoMSwgMTEpKSwgMipOKQogICAgeDFfdmFscyA9IHRvdGFsX3Jvb3RzWzo6Ml0KICAgIHgyX3ZhbHMgPSB0b3RhbF9yb290c1sxOjoyXQogICAgYV92YWxzID0gc2FtcGxlKGxpc3QocmFuZ2UoMSwgNikpLCBOKQogICAgdG9scyA9IFsyKioteCBmb3IgeCBpbiBzYW1wbGUobGlzdChyYW5nZSg4LCAxMykpLCBOKV0KICAgIGZvciB4MSwgeDIsIGEsIHRvbCBpbiB6aXAoeDFfdmFscywgeDJfdmFscywgYV92YWxzLCB0b2xzKToKICAgICAgICBiLCBjID0gLSh4MSt4MikqYSwgYSp4MSp4MgogICAgICAgIGdyYWRpbmdfcmVzdWx0cy50ZXN0X3JldHVybl92YWx1ZShhPWEsIGI9YiwgYz1jLCB0b2w9dG9sKQoKcm91bmQoZ3JhZGluZ19yZXN1bHRzLmdldF9yZXN1bHRzKCkqNSwgMik="
    },
    "deletable": false,
    "editable": false,
    "execution": {
     "iopub.execute_input": "2024-09-10T11:34:03.105759Z",
     "iopub.status.busy": "2024-09-10T11:34:03.104957Z",
     "iopub.status.idle": "2024-09-10T11:34:03.164249Z",
     "shell.execute_reply": "2024-09-10T11:34:03.162008Z"
    },
    "nbgrader": {
     "cell_type": "code",
     "checksum": "331bab3225563ddb192eaeabcd2c7f41",
     "grade": true,
     "grade_id": "cell-5bfa857835a66b8c",
     "locked": true,
     "points": 5,
     "schema_version": 3,
     "solution": false,
     "task": false
    },
    "tags": []
   },
   "outputs": [],
   "source": [
    "quadraticSolverB(2, -5, 2, 1e-5)\n",
    "# Denne cellen brukes under retting. La stå!"
   ]
  },
  {
   "cell_type": "markdown",
   "id": "40b51e64",
   "metadata": {
    "deletable": false,
    "editable": false
   },
   "source": [
    "<br>\n",
    "<nav class=\"navbar navbar-default\">\n",
    "        <div class=\"container-fluid\">\n",
    "            <div class=\"navbar-header\" style=\"float: left\">\n",
    "                <a class=\"navbar-brand\" href=\"7_regneoperasjoner_matriser.ipynb\" target=\"_self\">&lt; Forrige side: <i>matriseoperasjoner med numpy</i></a>\n",
    "                </div>\n",
    "            <div class=\"navbar-header\" style=\"float: right\">\n",
    "                <a class=\"navbar-brand\" href=\"9_naiv_gauss.ipynb\" target=\"_self\">Neste side: <i>naiv gausseliminasjon</i> &gt;</a>\n",
    "            </div>\n",
    "        </div>\n",
    "</nav>"
   ]
  }
 ],
 "metadata": {
  "kernelspec": {
   "display_name": "Python 3 (ipykernel)",
   "language": "python",
   "name": "python3"
  },
  "language_info": {
   "codemirror_mode": {
    "name": "ipython",
    "version": 3
   },
   "file_extension": ".py",
   "mimetype": "text/x-python",
   "name": "python",
   "nbconvert_exporter": "python",
   "pygments_lexer": "ipython3",
   "version": "3.11.6"
  }
 },
 "nbformat": 4,
 "nbformat_minor": 5
}
