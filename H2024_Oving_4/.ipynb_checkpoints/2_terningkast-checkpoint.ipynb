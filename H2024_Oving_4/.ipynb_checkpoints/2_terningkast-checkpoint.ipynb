{
 "cells": [
  {
   "cell_type": "markdown",
   "id": "62056f56",
   "metadata": {
    "deletable": false,
    "editable": false
   },
   "source": [
    "\n",
    "<nav class=\"navbar navbar-default\">\n",
    "  <div class=\"container-fluid\">\n",
    "    <div class=\"navbar-header\" style=\"float: left\">\n",
    "        <a class=\"navbar-brand\" href=\"0_Forside.ipynb\" target=\"_self\"> <h2> &uarr; Tilbake til forsiden</h2></a>\n",
    "    </div>\n",
    "  </div>\n",
    "</nav>"
   ]
  },
  {
   "cell_type": "markdown",
   "id": "8e5e7526-b308-499e-8071-5cc5f4766fa1",
   "metadata": {
    "deletable": false
   },
   "source": [
    "# Tilfeldige tall og while-løkker\n",
    "\n",
    "#### Læringsmål:\n",
    "* Mer om while\n",
    "* Veldig grunnleggende om tilfeldige tall i python\n"
   ]
  },
  {
   "cell_type": "markdown",
   "id": "8c4018e6-c550-4134-9ac4-db2ebf1cb62c",
   "metadata": {
    "deletable": false
   },
   "source": [
    "### While-løkker og terningkast\n",
    "\n",
    "Et annet eksempel der antallet ganger man må repetere koden i en løkke ikke er forhåndsbestemt, kan være når man har med tilfeldige tall å gjøre. La oss si at vi skal lage et program som simulerer tærningkast. Programmet skal kaste ternignen gjentatte ganger helt til den ruller tallet 6, og fortelle hvor mange kast den gjennomførte totalt. For å gjøre dette tar vi i bruk en funksjon `randint(a, b)` fra et python-bibliotek som heter `random`. Funksjonen `randint(a, b)` vil generere et tilfeldig heltall fra `a` til `b` hver gang funksjonen blir kalt. For å simulere et terningkast kan vi f.eks. skrive:\n",
    "\n",
    "```python\n",
    "randint(1,6) # Generer et tilfeldig tall fra 1 til 6\n",
    "```\n",
    "\n",
    "Nå som vi kan simulere et terningkast kan vi bruke sammenlingningsoperatoren `!=` til å sjekke om terningkastet er ulik `6`, og gjenta terningkastet dersom dette er sant. Nedenfor ser du hvordan det fulle kodeeksempelet blir. "
   ]
  },
  {
   "cell_type": "code",
   "execution_count": null,
   "id": "123c7d70-501b-40a1-bd5b-7bdad2ae9a5f",
   "metadata": {
    "deletable": false,
    "execution": {
     "iopub.execute_input": "2024-09-10T11:33:29.517528Z",
     "iopub.status.busy": "2024-09-10T11:33:29.516626Z",
     "iopub.status.idle": "2024-09-10T11:33:29.542471Z",
     "shell.execute_reply": "2024-09-10T11:33:29.539617Z"
    },
    "tags": []
   },
   "outputs": [],
   "source": [
    "from random import randint  # Importer funksjonen 'randint' fra biblioteket 'random'\n",
    "\n",
    "antall_kast = 1             # Tellevariabel som øker med 1 for hver iterasjon av while-løkka. \n",
    "while randint(1,6) != 6:    # Utfør koden inni løkka så lenge terningkastet ikke er 6\n",
    "    antall_kast +=1         # Dersom denne linjen kjøres betyr det at terningkastet ikke var 6. Legg til 1 i antall_kast og prøv igjen.\n",
    "    \n",
    "print(f\"Terningen landet på 6 på forsøk nr. {antall_kast}.\") # Skriv ut sluttresultatet"
   ]
  },
  {
   "cell_type": "markdown",
   "id": "9a527344-7f46-4e95-993b-1bb887c46c93",
   "metadata": {
    "deletable": false
   },
   "source": [
    "Legg merke til at variabelen `antall_kast` initialiseres til verdien `1` (og ikke `0`), da funksjonen `randint(1,6)` alltid vil kjøre minst 1 gang.\n",
    "\n",
    "Hvis vi i tillegg ønsker å vite hva alle terningkastene ble underveis, må vi lage enda en variabel `terningkast` for å huske verdien til terningkastet på ulike steder i løkka. Da kan man både sjekke om terningkastet ble 6 **og** skrive det ut til utskritfsfeltet:"
   ]
  },
  {
   "cell_type": "code",
   "execution_count": null,
   "id": "3473ce92-a3f3-49c3-8584-eb19726fe1ac",
   "metadata": {
    "deletable": false,
    "editable": true,
    "execution": {
     "iopub.execute_input": "2024-09-10T11:33:29.552105Z",
     "iopub.status.busy": "2024-09-10T11:33:29.551406Z",
     "iopub.status.idle": "2024-09-10T11:33:29.567593Z",
     "shell.execute_reply": "2024-09-10T11:33:29.564611Z"
    },
    "slideshow": {
     "slide_type": ""
    },
    "tags": []
   },
   "outputs": [],
   "source": [
    "from random import randint\n",
    "\n",
    "antall_kast = 1\n",
    "terningkast = randint(1,6) # Første terningkast gjennomføres uansett. Kast derfor terningen én gang utenfor løkka, og lagre resultatet\n",
    "\n",
    "while terningkast != 6:    # Kontroller om terningkastet var 6\n",
    "    print(f\"Kast nr. {antall_kast}: {terningkast}\") # Skriv ut hva dette terningkastet ble.\n",
    "    terningkast = randint(1,6) # Kast terningen på nytt\n",
    "    antall_kast +=1 # Legg til 1 i antall_kast og prøv igjen.\n",
    "    \n",
    "print(f\"Terningen landet på 6 på forsøk nr. {antall_kast}.\") # Skriv ut sluttresultatet"
   ]
  },
  {
   "cell_type": "markdown",
   "id": "36596831-608f-457f-acf4-d23dbe1e9e4f",
   "metadata": {
    "deletable": false
   },
   "source": [
    "Det kan være en god idé å kjøre cellen ovenfor et par ganger, og observere de ulike resultatetene hver gang. Det begynner å bli en del å holde styr på i denne løkken, så gå gjerne gjennom koden steg for steg og kontroller opp mot verdiene som ble skrevet ut. Det kan også være nyttig å kjøre koden i [pythontutor](https://pythontutor.com/python-compiler.html) så du kan se koden kjøre steg for steg."
   ]
  },
  {
   "cell_type": "markdown",
   "id": "37195b5f-c760-4fd9-ab6b-800a7530ac42",
   "metadata": {
    "deletable": false
   },
   "source": [
    "## a)\n",
    "\n",
    "Ta utgangspunkt i eksemplene over, og lag en løkke som kaster terningen gjentatte ganger helt til den ruller $5$ *eller* $6$. Programmet skal skrive ut hva som til slutt ble rullet og hvor mange kast det krevde."
   ]
  },
  {
   "cell_type": "code",
   "execution_count": null,
   "id": "e03e3ef1-bc06-4715-9c43-17a608e1061b",
   "metadata": {
    "deletable": false,
    "execution": {
     "iopub.execute_input": "2024-09-10T11:33:29.580684Z",
     "iopub.status.busy": "2024-09-10T11:33:29.578554Z",
     "iopub.status.idle": "2024-09-10T11:33:29.593637Z",
     "shell.execute_reply": "2024-09-10T11:33:29.590713Z"
    },
    "nbgrader": {
     "cell_type": "code",
     "checksum": "fcc905bd468b3023c12f483b48f60c85",
     "grade": false,
     "grade_id": "cell-317fecbe5befa5ee",
     "locked": false,
     "schema_version": 3,
     "solution": true,
     "task": false
    },
    "tags": []
   },
   "outputs": [],
   "source": [
    "from random import randint\n",
    "#-------------------------------------\n",
    "# SKRIV DIN KODE HER!\n",
    "#-------------------------------------"
   ]
  },
  {
   "cell_type": "markdown",
   "id": "ee656c3a-140c-4c76-baa7-d296d4c7f48a",
   "metadata": {
    "deletable": false
   },
   "source": [
    "Eksempel på utskrift:\\\n",
    "`Rullet 6 på forsøk nr. 9`"
   ]
  },
  {
   "cell_type": "code",
   "execution_count": null,
   "id": "ee493576-2e01-446b-b15e-fc32382497ba",
   "metadata": {
    "autofeedback": {
     "test_code": "ZnJvbSByYW5kb20gaW1wb3J0IHNlZWQKZnJvbSBhdXRvZmVlZGJhY2sgaW1wb3J0IENvZGVDZWxsVGVzdHMKCmFuc3dlcl9jZWxsX2luZGV4ID0gbGVuKEluKS0yCmFuc3dlcl9jZWxsX2NvbnRlbnRzID0gSW5bYW5zd2VyX2NlbGxfaW5kZXhdCnNlZWQoNCkgIyBGaXJzdCBmb3J1IHJvbGxzOiBbMiwgMywgMSwgNl0KCmdyYWRpbmdfcmVzdWx0cyA9IENvZGVDZWxsVGVzdHMoYW5zd2VyX2NlbGxfY29udGVudHMsIGdsb2JhbHM9Z2xvYmFscygpLCBsb2NhbHM9bG9jYWxzKCkpCmdyYWRpbmdfcmVzdWx0cy50ZXN0X291dHB1dChyIlxEKzRcRCsiLCBzYW1wbGU9IjQiKQpncmFkaW5nX3Jlc3VsdHMudGVzdF9vdXRwdXQociJcRCs2XEQrIiwgc2FtcGxlPSI2IikKcm91bmQoZ3JhZGluZ19yZXN1bHRzLmdldF9yZXN1bHRzKCkqNSwgMyk="
    },
    "deletable": false,
    "editable": false,
    "execution": {
     "iopub.execute_input": "2024-09-10T11:33:29.603819Z",
     "iopub.status.busy": "2024-09-10T11:33:29.603086Z",
     "iopub.status.idle": "2024-09-10T11:33:31.576509Z",
     "shell.execute_reply": "2024-09-10T11:33:31.574710Z"
    },
    "nbgrader": {
     "cell_type": "code",
     "checksum": "9514e1d312dc00ab5eae8ab8bac6332e",
     "grade": true,
     "grade_id": "cell-f1afeb709839ae73",
     "locked": true,
     "points": 5,
     "schema_version": 3,
     "solution": false,
     "task": false
    },
    "slideshow": {
     "slide_type": ""
    },
    "tags": []
   },
   "outputs": [],
   "source": []
  },
  {
   "cell_type": "markdown",
   "id": "d4b30020-8c33-4dd6-8796-8b3e99a813a8",
   "metadata": {
    "deletable": false
   },
   "source": [
    "## b)\n",
    "\n",
    "I enkelte terningbaserte spill (f.eks. ludo) får man kaste et ekstra terningkast og flytte brikken sin enda lengre dersom man triller $6$. Dette vil repetere dersom spilleren triller 6 enda en gang. Du skal nå lage et program som simulerer terningksast for å angi hvor mange ruter en spiller får flytte. Så lenge terningkastet er 6 skal programmet fortsette å trille terningen og summere sammen det totale antallet flytt som spillerens brikke får. Programmet skal til slutt skrive ut hva de ulike kastene var, og hvor mange flytt spilleren får totalt."
   ]
  },
  {
   "cell_type": "code",
   "execution_count": null,
   "id": "31780e50-70a7-4cf7-b2fe-50e871dea0cb",
   "metadata": {
    "deletable": false,
    "execution": {
     "iopub.execute_input": "2024-09-10T11:33:31.584577Z",
     "iopub.status.busy": "2024-09-10T11:33:31.584046Z",
     "iopub.status.idle": "2024-09-10T11:33:31.594349Z",
     "shell.execute_reply": "2024-09-10T11:33:31.592466Z"
    },
    "nbgrader": {
     "cell_type": "code",
     "checksum": "d0695cc5775d8040e0a419185b7fb433",
     "grade": false,
     "grade_id": "cell-aaadcb302e54b244",
     "locked": false,
     "schema_version": 3,
     "solution": true,
     "task": false
    },
    "tags": []
   },
   "outputs": [],
   "source": [
    "#-------------------------------------\n",
    "# SKRIV DIN KODE HER!\n",
    "#-------------------------------------"
   ]
  },
  {
   "cell_type": "markdown",
   "id": "d95dd728-16e9-475f-9807-a494fd2139bf",
   "metadata": {
    "deletable": false
   },
   "source": [
    "Eksempel på utskrift (dog noe usannsynlig):\\\n",
    "`Du trillet 6`\\\n",
    "`Du fikk et ekstra kast og trillet 6`\\\n",
    "`Du fikk et ekstra kast og trillet 5`\\\n",
    "`Du kan flytte 17 ruter`"
   ]
  },
  {
   "cell_type": "code",
   "execution_count": null,
   "id": "fe9aaef1-3cde-480a-b550-0637caadce44",
   "metadata": {
    "autofeedback": {
     "test_code": "ZnJvbSByYW5kb20gaW1wb3J0IHNlZWQKZnJvbSBhdXRvZmVlZGJhY2sgaW1wb3J0IENvZGVDZWxsVGVzdHMKCmFuc3dlcl9jZWxsX2luZGV4ID0gbGVuKEluKS0yCmFuc3dlcl9jZWxsX2NvbnRlbnRzID0gSW5bYW5zd2VyX2NlbGxfaW5kZXhdCnNlZWQoMTkpICMgRmlyc3QgdHdvIHJvbGxzOiBbNiwgMV0KCmdyYWRpbmdfcmVzdWx0cyA9IENvZGVDZWxsVGVzdHMoYW5zd2VyX2NlbGxfY29udGVudHMsIGdsb2JhbHM9Z2xvYmFscygpLCBsb2NhbHM9bG9jYWxzKCkpCmdyYWRpbmdfcmVzdWx0cy50ZXN0X291dHB1dChyIlxEKzZcRCsiLCBzYW1wbGU9IjYiKQpncmFkaW5nX3Jlc3VsdHMudGVzdF9vdXRwdXQociJcRCsxXEQrIiwgc2FtcGxlPSIxIikKZ3JhZGluZ19yZXN1bHRzLnRlc3Rfb3V0cHV0KHIiXEQrN1xEKyIsIHNhbXBsZT0iNyIpCnJvdW5kKGdyYWRpbmdfcmVzdWx0cy5nZXRfcmVzdWx0cygpKjUsIDMp"
    },
    "deletable": false,
    "editable": false,
    "execution": {
     "iopub.execute_input": "2024-09-10T11:33:31.601218Z",
     "iopub.status.busy": "2024-09-10T11:33:31.600831Z",
     "iopub.status.idle": "2024-09-10T11:33:31.618166Z",
     "shell.execute_reply": "2024-09-10T11:33:31.616601Z"
    },
    "nbgrader": {
     "cell_type": "code",
     "checksum": "7b7c7f28e515a5a4decd836a59fa7daf",
     "grade": true,
     "grade_id": "cell-45fdde647fde05f5",
     "locked": true,
     "points": 5,
     "schema_version": 3,
     "solution": false,
     "task": false
    }
   },
   "outputs": [],
   "source": []
  },
  {
   "cell_type": "code",
   "execution_count": null,
   "id": "e71ccd8d-7f8c-4a64-9eb7-36540ef37956",
   "metadata": {
    "deletable": false
   },
   "outputs": [],
   "source": []
  },
  {
   "cell_type": "markdown",
   "id": "2f3890e9",
   "metadata": {
    "deletable": false,
    "editable": false
   },
   "source": [
    "<br>\n",
    "<nav class=\"navbar navbar-default\">\n",
    "        <div class=\"container-fluid\">\n",
    "            <div class=\"navbar-header\" style=\"float: left\">\n",
    "                <a class=\"navbar-brand\" href=\"1_while_intro.ipynb\" target=\"_self\">&lt; Forrige side: <i>while intro</i></a>\n",
    "                </div>\n",
    "            <div class=\"navbar-header\" style=\"float: right\">\n",
    "                <a class=\"navbar-brand\" href=\"3_Nedbetaling_av_laan.ipynb\" target=\"_self\">Neste side: <i>nedbetaling av lån</i> &gt;</a>\n",
    "            </div>\n",
    "        </div>\n",
    "</nav>"
   ]
  }
 ],
 "metadata": {
  "kernelspec": {
   "display_name": "Python 3 (ipykernel)",
   "language": "python",
   "name": "python3"
  },
  "language_info": {
   "codemirror_mode": {
    "name": "ipython",
    "version": 3
   },
   "file_extension": ".py",
   "mimetype": "text/x-python",
   "name": "python",
   "nbconvert_exporter": "python",
   "pygments_lexer": "ipython3",
   "version": "3.11.6"
  }
 },
 "nbformat": 4,
 "nbformat_minor": 5
}
