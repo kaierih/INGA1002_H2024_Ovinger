{
 "cells": [
  {
   "cell_type": "markdown",
   "metadata": {
    "deletable": false,
    "editable": false
   },
   "source": [
    "\n",
    "<nav class=\"navbar navbar-default\">\n",
    "  <div class=\"container-fluid\">\n",
    "    <div class=\"navbar-header\" style=\"float: left\">\n",
    "        <a class=\"navbar-brand\" href=\"0_Forside.ipynb\" target=\"_self\"> <h2> &uarr; Tilbake til forsiden</h2></a>\n",
    "    </div>\n",
    "  </div>\n",
    "</nav>"
   ]
  },
  {
   "cell_type": "markdown",
   "metadata": {
    "deletable": false
   },
   "source": [
    "# Matriser og nøstede for-løkker\n",
    "\n",
    "#### Læringsmål:\n",
    "* Nøstede for-løkker\n",
    "* Bearbeiding av matriser med løkker"
   ]
  },
  {
   "cell_type": "code",
   "execution_count": null,
   "metadata": {
    "deletable": false,
    "execution": {
     "iopub.execute_input": "2024-09-10T11:33:50.566798Z",
     "iopub.status.busy": "2024-09-10T11:33:50.564302Z",
     "iopub.status.idle": "2024-09-10T11:33:51.306076Z",
     "shell.execute_reply": "2024-09-10T11:33:51.303786Z"
    }
   },
   "outputs": [],
   "source": [
    "import numpy as np\n",
    "import matplotlib.pyplot as plt"
   ]
  },
  {
   "cell_type": "markdown",
   "metadata": {
    "deletable": false
   },
   "source": [
    "## Mer om matriser\n",
    "Som kjent kan vi ved hjelp av numpy lage matriser, eller 2D-arrays, som lar oss representere flere verdier. Vi kan enten lage dette fra lister. På samme måte som vi kan skrive"
   ]
  },
  {
   "cell_type": "code",
   "execution_count": null,
   "metadata": {
    "deletable": false,
    "execution": {
     "iopub.execute_input": "2024-09-10T11:33:51.315284Z",
     "iopub.status.busy": "2024-09-10T11:33:51.314768Z",
     "iopub.status.idle": "2024-09-10T11:33:51.329578Z",
     "shell.execute_reply": "2024-09-10T11:33:51.327133Z"
    }
   },
   "outputs": [],
   "source": [
    "a = np.array([1, 2, 3])\n",
    "a"
   ]
  },
  {
   "cell_type": "markdown",
   "metadata": {
    "deletable": false
   },
   "source": [
    "kan vi skrive følgende, med lister-i-lister"
   ]
  },
  {
   "cell_type": "code",
   "execution_count": null,
   "metadata": {
    "deletable": false,
    "execution": {
     "iopub.execute_input": "2024-09-10T11:33:51.352682Z",
     "iopub.status.busy": "2024-09-10T11:33:51.352197Z",
     "iopub.status.idle": "2024-09-10T11:33:51.366763Z",
     "shell.execute_reply": "2024-09-10T11:33:51.364340Z"
    }
   },
   "outputs": [],
   "source": [
    "A = np.array([[1, 2, 3], [4, 5, 6]])\n",
    "A"
   ]
  },
  {
   "cell_type": "markdown",
   "metadata": {
    "deletable": false
   },
   "source": [
    "Da får vi en $2 \\times 3$ matrise. \n",
    "\n",
    "Vi kan også bruke funksjoner som [`zeros`](https://numpy.org/doc/stable/reference/generated/numpy.zeros.html) og [`ones`](https://numpy.org/doc/stable/reference/generated/numpy.ones.html) til å lage lage en tom matrise. På samme måte som vi kan skrive følgende for å lage en én-dimensjonal array:"
   ]
  },
  {
   "cell_type": "code",
   "execution_count": null,
   "metadata": {
    "deletable": false,
    "execution": {
     "iopub.execute_input": "2024-09-10T11:33:51.389611Z",
     "iopub.status.busy": "2024-09-10T11:33:51.388630Z",
     "iopub.status.idle": "2024-09-10T11:33:51.404927Z",
     "shell.execute_reply": "2024-09-10T11:33:51.402352Z"
    }
   },
   "outputs": [],
   "source": [
    "b = np.zeros(3)\n",
    "b"
   ]
  },
  {
   "cell_type": "markdown",
   "metadata": {
    "deletable": false
   },
   "source": [
    "...kan vi angi en liste med størrelser i 2 dimensjoner:"
   ]
  },
  {
   "cell_type": "code",
   "execution_count": null,
   "metadata": {
    "deletable": false,
    "execution": {
     "iopub.execute_input": "2024-09-10T11:33:51.416516Z",
     "iopub.status.busy": "2024-09-10T11:33:51.415730Z",
     "iopub.status.idle": "2024-09-10T11:33:51.449578Z",
     "shell.execute_reply": "2024-09-10T11:33:51.446694Z"
    }
   },
   "outputs": [],
   "source": [
    "B = np.zeros([2, 3])  # Matrise med 2 rader og 3 kolonner\n",
    "B"
   ]
  },
  {
   "cell_type": "markdown",
   "metadata": {
    "deletable": false
   },
   "source": [
    "Som vi ser er matrisen $\\boldsymbol{B}$ også en $2\\times3$ matrise, akkurat som $\\boldsymbol{A}$, men inneholder kun verdien $0$.\n",
    "\n",
    "## Iterering gjennom matriser\n",
    "\n",
    "Når man arbeider med matriser, så er ofte for-løkker essensielle for å få gjort det vi vil. Når vi skal gjøre dette, så kan numpy-funksjonen [`shape`](https://numpy.org/doc/stable/reference/generated/numpy.shape.html) komme veldig godt med. Denne kan fortelle hvor mange rader og kolonner en matrise har.\n",
    "\n",
    "Nedenfor ser vi en eksempelfunksjon som regner ut absoluttverdien til tallene i en matrise:"
   ]
  },
  {
   "cell_type": "code",
   "execution_count": null,
   "metadata": {
    "deletable": false,
    "execution": {
     "iopub.execute_input": "2024-09-10T11:33:51.460300Z",
     "iopub.status.busy": "2024-09-10T11:33:51.459440Z",
     "iopub.status.idle": "2024-09-10T11:33:51.484681Z",
     "shell.execute_reply": "2024-09-10T11:33:51.482253Z"
    }
   },
   "outputs": [],
   "source": [
    "def abs_matrix(A):\n",
    "    rows, cols = np.shape(A)  # Finner dimensjonene til matrisen A\n",
    "    A_abs = np.zeros([rows, cols])  # Lager en ny matrise med samme dimensjoner som A\n",
    "\n",
    "    for i in range(rows):  # For hver rad 'i'\n",
    "        for j in range(cols):  # For hver kolonne 'j'\n",
    "            # Skriv inn absoluttverdien til A[i,j] i den nye matrisen A_abs[i, j]\n",
    "            if A[i,j] < 0:\n",
    "                A_abs[i, j] = -A[i, j]\n",
    "            else:\n",
    "                A_abs[i, j] = A[i, j]\n",
    "\n",
    "    return A_abs\n",
    "\n",
    "test_matrix = np.array([[-1, -2, -3],  # Lag en 2x3 matrise\n",
    "                        [4, 5, 6]])\n",
    "abs_matrix(test_matrix)"
   ]
  },
  {
   "cell_type": "markdown",
   "metadata": {
    "deletable": false
   },
   "source": [
    "Tankegangen bak funksjonen `abs_matrix` kan beskrives som følger:\n",
    "1. Finn antall rader og kolonner i matrisen med `shape`\n",
    "2. Lag en ny \"tom\" matrise `A_abs` med bare nuller. Målet er at denne skal fylles med de riktige tallene etter hvert\n",
    "3. Lag en for-løkke som itererer gjennom gyldige rad-indekser `i`: $0 \\leq i < 2$\n",
    "4. Lag en ny for-løkke *inni* den første for-løkka som itererer gjennom gyldige kolonne-indekser $j$. Denne for-løkken vil gjentas for hver radi i matrisen.\n",
    "5. Nøstet inni begge for-løkkene bruker vi en if-setning til å fylle inn de riktige tallene $|a_{ij}|$ i den nye matrisen `A_abs`.\n",
    "\n"
   ]
  },
  {
   "cell_type": "markdown",
   "metadata": {
    "deletable": false
   },
   "source": [
    "## a)\n",
    "\n",
    "Skriv ferdig funksjonen `get_diagonal` som tar inn en matrise `A`, og returnerer en ny matrise `A_diag` der det *kun* er diagonalelementene fra `A` som er med (resten av matriseelementene er lik `0`). \n",
    "\n",
    "For eksempel, dersom input til funksjonen er matrisen $\\boldsymbol{A}$ nedenfor, så skal output være matrisen $\\boldsymbol{D}$.\n",
    "$$ \\boldsymbol{A} = \\begin{bmatrix}\n",
    "    -3 & -2 & -1 \\\\\n",
    "    1  & 2  & 3 \\\\\n",
    "    7 & 8 & 9\n",
    "\\end{bmatrix}  \\;\\; \\rightarrow \\;\\; \\boldsymbol{D} = \\begin{bmatrix}\n",
    "    -3 & 0 & 0 \\\\\n",
    "    0 & 2 & 0 \\\\\n",
    "    0 & 0 & 9\n",
    "\\end{bmatrix} $$\n",
    "\n",
    "*Hint: et matriseelement ligger langs diagonalen dersom $i = j$*"
   ]
  },
  {
   "cell_type": "code",
   "execution_count": null,
   "metadata": {
    "deletable": false,
    "execution": {
     "iopub.execute_input": "2024-09-10T11:33:51.494042Z",
     "iopub.status.busy": "2024-09-10T11:33:51.493379Z",
     "iopub.status.idle": "2024-09-10T11:33:51.515068Z",
     "shell.execute_reply": "2024-09-10T11:33:51.512610Z"
    },
    "nbgrader": {
     "cell_type": "code",
     "checksum": "dc5ae2ec48aa6e3650128de390c370ca",
     "grade": false,
     "grade_id": "cell-73b7f5ab8d23a0b5",
     "locked": false,
     "schema_version": 3,
     "solution": true,
     "task": false
    }
   },
   "outputs": [],
   "source": [
    "def get_diagonal(A):\n",
    "    #-------------------------------------\n",
    "    # SKRIV DIN KODE HER!\n",
    "    #-------------------------------------\n",
    "    return A_diag\n",
    "\n",
    "# Her er foreslått testkode for å teste matteeksempelet over:\n",
    "A = np.array([[-3, -2, -1], \n",
    "              [1,  2,  3],\n",
    "              [7,  8,  9]])\n",
    "get_diagonal(A)"
   ]
  },
  {
   "cell_type": "code",
   "execution_count": null,
   "metadata": {
    "autofeedback": {
     "test_code": "ZnJvbSBhdXRvZmVlZGJhY2sgaW1wb3J0IEZ1bmN0aW9uVGVzdHMKaW1wb3J0IG51bXB5IGFzIG5wCmZyb20gcmFuZG9tIGltcG9ydCBzYW1wbGUKCmRlZiBnZXRfZGlhZ29uYWxfc29sdXRpb24oQSk6CiAgICByb3dzLCBjb2xzID0gbnAuc2hhcGUoQSkgICMgRmlubiBhbnRhbGwgcmFkZXIgb2cga29sb25uZXIKICAgIEFfZGlhZyA9IG5wLnplcm9zKFtyb3dzLCBjb2xzXSkgICMgQmVneW5uIG1lZCDDpSBsYWdlIGVuIG1hdHJpc2UgbWVkIDAgb3ZlcmFsdAoKICAgIGZvciBpIGluIHJhbmdlKHJvd3MpOgogICAgICAgIGZvciBqIGluIHJhbmdlKGNvbHMpOgogICAgICAgICAgICBpZiBpPT1qOgogICAgICAgICAgICAgICAgQV9kaWFnW2ksIGpdID0gQVtpLCBqXQogICAgcmV0dXJuIEFfZGlhZwoKCmdyYWRpbmdfcmVzdWx0cyA9IEZ1bmN0aW9uVGVzdHMoZ2V0X2RpYWdvbmFsX3NvbHV0aW9uKQp0cnk6CiAgICBncmFkaW5nX3Jlc3VsdHMuYWRkX3Rlc3RfZnVuYyhnZXRfZGlhZ29uYWwpCmV4Y2VwdCBFeGNlcHRpb24gYXMgZToKICAgIGdyYWRpbmdfcmVzdWx0cy5sb2cuYXBwZW5kKCJDb3VsZCBub3QgcnVuIHRlc3RzLCAiK2UuYXJnc1swXSkKZWxzZToKICAgIE4gPSAyCiAgICBzaXplcyA9IHNhbXBsZShsaXN0KHJhbmdlKDIsIDYpKSwgTikKICAgIHByaW50KHNpemVzKQogICAgZm9yIHNpemUgaW4gc2l6ZXM6CiAgICAgICAgQV90ZXN0ID0gbnAucmFuZG9tLnJhbmRpbnQoLTksIDEwLCAoc2l6ZSwgc2l6ZSkpCiAgICAgICAgZ3JhZGluZ19yZXN1bHRzLnRlc3RfcmV0dXJuX3ZhbHVlKEFfdGVzdCkKCnJvdW5kKGdyYWRpbmdfcmVzdWx0cy5nZXRfcmVzdWx0cygpKjUsIDIp"
    },
    "deletable": false,
    "editable": false,
    "execution": {
     "iopub.execute_input": "2024-09-10T11:33:51.551597Z",
     "iopub.status.busy": "2024-09-10T11:33:51.550734Z",
     "iopub.status.idle": "2024-09-10T11:33:53.094763Z",
     "shell.execute_reply": "2024-09-10T11:33:53.092804Z"
    },
    "nbgrader": {
     "cell_type": "code",
     "checksum": "91780857cf2ef9e2d82df5a03dc1902d",
     "grade": true,
     "grade_id": "cell-e4c1a894cb01892b",
     "locked": true,
     "points": 5,
     "schema_version": 3,
     "solution": false,
     "task": false
    }
   },
   "outputs": [],
   "source": [
    "# Denne cellen brukes under retting. La stå!"
   ]
  },
  {
   "cell_type": "markdown",
   "metadata": {
    "deletable": false
   },
   "source": [
    "## b) \n",
    "\n",
    "Skriv ferdig funksjonen `get_upper` som tar inn en matrise`A`, og returnerer en ny matrise `A_upper` der det *kun* er matriseelementene fra `A` som ligger ovenfor diagonalen som er med (resten av matriseelementene er lik `0`).\n",
    "\n",
    "For eksempel, dersom input til funksjonen er matrisen $\\boldsymbol{A}$ nedenfor, så skal output være matrisen $\\boldsymbol{U}$.\n",
    "$$ \\boldsymbol{A} = \\begin{bmatrix}\n",
    "    -3 & -2 & -1 \\\\\n",
    "    1  & 2  & 3 \\\\\n",
    "    7 & 8 & 9\n",
    "\\end{bmatrix}  \\;\\; \\rightarrow \\;\\; \\boldsymbol{U} = \\begin{bmatrix}\n",
    "    0 & -2 & -1 \\\\\n",
    "    0 & 0 & 3 \\\\\n",
    "    0 & 0 & 0\n",
    "\\end{bmatrix} $$\n",
    "\n",
    "Dere har fått litt starhjelp for å få til programmet. Output-matrisen `D` er allerede deklarert, og er en matrise med samme dimensjoner som `A`, men fyllt med bare tallet `0`. Det som gjenstår er å fylle inn de riktige tallene langs diagonalen.<br>\n",
    "*Hint: hvilken betingelse avgjør om et element ligger ovenfor diagonalen?*"
   ]
  },
  {
   "cell_type": "code",
   "execution_count": null,
   "metadata": {
    "deletable": false,
    "execution": {
     "iopub.execute_input": "2024-09-10T11:33:53.103113Z",
     "iopub.status.busy": "2024-09-10T11:33:53.102419Z",
     "iopub.status.idle": "2024-09-10T11:33:53.116636Z",
     "shell.execute_reply": "2024-09-10T11:33:53.114182Z"
    },
    "nbgrader": {
     "cell_type": "code",
     "checksum": "da2fbbdf6bf3209d1d778f0493c007dc",
     "grade": false,
     "grade_id": "cell-fc1cc1d8fe295aed",
     "locked": false,
     "schema_version": 3,
     "solution": true,
     "task": false
    }
   },
   "outputs": [],
   "source": [
    "def get_upper(A):\n",
    "    #-------------------------------------\n",
    "    # SKRIV DIN KODE HER!\n",
    "    #-------------------------------------\n",
    "    return A_upper\n",
    "\n",
    "\n",
    "# Her er foreslått testkode for å teste matteeksempelet over:\n",
    "A = np.array([[-3, -2, -1],\n",
    "              [1,  2,  3],\n",
    "              [7,  8,  9]])\n",
    "get_upper(A)"
   ]
  },
  {
   "cell_type": "code",
   "execution_count": null,
   "metadata": {
    "autofeedback": {
     "test_code": "ZnJvbSBhdXRvZmVlZGJhY2sgaW1wb3J0IEZ1bmN0aW9uVGVzdHMKaW1wb3J0IG51bXB5IGFzIG5wCmZyb20gcmFuZG9tIGltcG9ydCBzYW1wbGUKCmRlZiBnZXRfdXBwZXJfc29sdXRpb24oQSk6CiAgICByb3dzLCBjb2xzID0gbnAuc2hhcGUoQSkKICAgIEFfdXBwZXIgPSBucC56ZXJvcyhbcm93cywgY29sc10pCgogICAgZm9yIGkgaW4gcmFuZ2Uocm93cyk6CiAgICAgICAgZm9yIGogaW4gcmFuZ2UoY29scyk6CiAgICAgICAgICAgIGlmIGogPiBpOgogICAgICAgICAgICAgICAgQV91cHBlcltpLCBqXSA9IEFbaSwgal0KICAgIHJldHVybiBBX3VwcGVyCgoKZ3JhZGluZ19yZXN1bHRzID0gRnVuY3Rpb25UZXN0cyhnZXRfdXBwZXJfc29sdXRpb24pCnRyeToKICAgIGdyYWRpbmdfcmVzdWx0cy5hZGRfdGVzdF9mdW5jKGdldF91cHBlcikKZXhjZXB0IEV4Y2VwdGlvbiBhcyBlOgogICAgZ3JhZGluZ19yZXN1bHRzLmxvZy5hcHBlbmQoIkNvdWxkIG5vdCBydW4gdGVzdHMsICIrZS5hcmdzWzBdKQplbHNlOgogICAgTiA9IDIKICAgIHNpemVzID0gc2FtcGxlKGxpc3QocmFuZ2UoMiwgNikpLCBOKQogICAgZm9yIHNpemUgaW4gc2l6ZXM6CiAgICAgICAgQV90ZXN0ID0gbnAucmFuZG9tLnJhbmRpbnQoLTksIDEwLCAoc2l6ZSwgc2l6ZSkpCiAgICAgICAgZ3JhZGluZ19yZXN1bHRzLnRlc3RfcmV0dXJuX3ZhbHVlKEFfdGVzdCkKCnJvdW5kKGdyYWRpbmdfcmVzdWx0cy5nZXRfcmVzdWx0cygpKjUsIDIp"
    },
    "deletable": false,
    "editable": false,
    "execution": {
     "iopub.execute_input": "2024-09-10T11:33:53.149382Z",
     "iopub.status.busy": "2024-09-10T11:33:53.148709Z",
     "iopub.status.idle": "2024-09-10T11:33:53.175899Z",
     "shell.execute_reply": "2024-09-10T11:33:53.173051Z"
    },
    "nbgrader": {
     "cell_type": "code",
     "checksum": "4ff30ec5e59ed4cfe3c767bb858e4283",
     "grade": true,
     "grade_id": "cell-39281b2162df62cd",
     "locked": true,
     "points": 5,
     "schema_version": 3,
     "solution": false,
     "task": false
    }
   },
   "outputs": [],
   "source": [
    "# Denne cellen brukes under retting. La stå!"
   ]
  },
  {
   "cell_type": "markdown",
   "metadata": {
    "deletable": false,
    "editable": false
   },
   "source": [
    "<br>\n",
    "<nav class=\"navbar navbar-default\">\n",
    "        <div class=\"container-fluid\">\n",
    "            <div class=\"navbar-header\" style=\"float: left\">\n",
    "                <a class=\"navbar-brand\" href=\"5_matriser_intro.ipynb\" target=\"_self\">&lt; Forrige side: <i>intro til matriser</i></a>\n",
    "                </div>\n",
    "            <div class=\"navbar-header\" style=\"float: right\">\n",
    "                <a class=\"navbar-brand\" href=\"7_regneoperasjoner_matriser.ipynb\" target=\"_self\">Neste side: <i>matriseoperasjoner med numpy</i> &gt;</a>\n",
    "            </div>\n",
    "        </div>\n",
    "</nav>"
   ]
  }
 ],
 "metadata": {
  "kernelspec": {
   "display_name": "Python 3 (ipykernel)",
   "language": "python",
   "name": "python3"
  },
  "language_info": {
   "codemirror_mode": {
    "name": "ipython",
    "version": 3
   },
   "file_extension": ".py",
   "mimetype": "text/x-python",
   "name": "python",
   "nbconvert_exporter": "python",
   "pygments_lexer": "ipython3",
   "version": "3.11.6"
  }
 },
 "nbformat": 4,
 "nbformat_minor": 4
}
