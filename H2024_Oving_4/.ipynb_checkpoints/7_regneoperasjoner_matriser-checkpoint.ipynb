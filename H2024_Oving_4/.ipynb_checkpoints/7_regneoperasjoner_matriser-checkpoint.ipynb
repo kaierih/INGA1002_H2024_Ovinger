{
 "cells": [
  {
   "cell_type": "markdown",
   "id": "169c4aba",
   "metadata": {
    "deletable": false,
    "editable": false
   },
   "source": [
    "\n",
    "<nav class=\"navbar navbar-default\">\n",
    "  <div class=\"container-fluid\">\n",
    "    <div class=\"navbar-header\" style=\"float: left\">\n",
    "        <a class=\"navbar-brand\" href=\"0_Forside.ipynb\" target=\"_self\"> <h2> &uarr; Tilbake til forsiden</h2></a>\n",
    "    </div>\n",
    "  </div>\n",
    "</nav>"
   ]
  },
  {
   "cell_type": "markdown",
   "id": "02fd8eb7-9f85-4bef-8bc0-3bba686161f5",
   "metadata": {
    "deletable": false,
    "editable": true,
    "slideshow": {
     "slide_type": ""
    },
    "tags": []
   },
   "source": [
    "# Regneoperasjoner med matriser\n",
    "\n",
    "#### Læringsmål:\n",
    "* Bruk av matriser og matematiske operatorer\n",
    "* Transponering, omforming osv.\n",
    "\n",
    "#### Oversikt:\n",
    "\n",
    "Akkurat som med vanlige 1-dimensjonale arrays så kan 2-dimensjonale arrays brukes sammen med vanlige matematiske operatorer, eller spesielle matematiske funksjoner til å utføre ***elementvise regneoperasjoner***. I tillegg har vi også en egen operator `@` som brukes til ***matrisemultiplikasjon***.\n",
    "\n",
    "```python\n",
    "A = np.array([[1, 0],\n",
    "              [1, 2]])\n",
    "```\n",
    "\n",
    "Gitt en 2-dimensjonal array `A` slik som beskrevet ovenfor, kan du se en oversikt under over hva ulike matematiske operatorer vil utføre med elementene i denne matrisen. Legg spesielt merke til matrisemupltiplikasjonen `A@A`.\n",
    "\n",
    "\n",
    "|**Med Numpy** | **I matematikken** |**Med Numpy** | **I matematikken**|\n",
    "|---|---|---|---|\n",
    "|`A + 5` | $$ \\begin{bmatrix} 1+5 & 0+5 \\\\ 1+5 & 2+5 \\end{bmatrix} = \\begin{bmatrix} 6 & 5 \\\\ 6 & 7 \\end{bmatrix} $$| `A - 5` | $$ \\begin{bmatrix} 1-5 & 0-5 \\\\ 1-5 & 2-5 \\end{bmatrix} = \\begin{bmatrix} -4 & -5 \\\\ -4 & -3 \\end{bmatrix} $$\n",
    "|`A * 5` | $$ \\begin{bmatrix} 1\\cdot5 & 0\\cdot5 \\\\ 1\\cdot5 & 2\\cdot5 \\end{bmatrix} = \\begin{bmatrix} 10& 0 \\\\ 10 & 20 \\end{bmatrix} $$|`A @ A` | $$ \\begin{bmatrix} 1 & 0 \\\\ 1 & 2 \\end{bmatrix} \\cdot \\begin{bmatrix} 1 & 0 \\\\ 1 & 2 \\end{bmatrix} = \\begin{bmatrix} 1 \\cdot 1 + 0 \\cdot 1 & 1 \\cdot 0 + 0 \\cdot 2 \\\\ 1 \\cdot 1 + 2 \\cdot 1 & 1 \\cdot 0 + 2 \\cdot 2 \\end{bmatrix} = \\begin{bmatrix} 1 & 0 \\\\ 3 & 4 \\end{bmatrix} $$|\n",
    "|`A / 5` | $$ \\begin{bmatrix} \\frac{1}{5} & \\frac{0}{5} \\\\ \\frac{1}{5} & \\frac{2}{5} \\end{bmatrix} = \\begin{bmatrix} 0.2 & 0.0 \\\\ 0.2 & 0.4 \\end{bmatrix} $$|`5 / A` | $$ \\begin{bmatrix} \\frac{5}{1} & \\frac{5}{0} \\\\ \\frac{5}{1} & \\frac{5}{2} \\end{bmatrix} = \\begin{bmatrix} 5.0 & \\infty \\\\ 5.0 & 2.5 \\end{bmatrix} $$|\n",
    "|`A ** 2` | $$ \\begin{bmatrix} 1^2 & 0^2 \\\\ 1^2 & 2^2 \\end{bmatrix} = \\begin{bmatrix} 1 & 0 \\\\ 1 & 4 \\end{bmatrix} $$|`2 ** A` | $$ \\begin{bmatrix} 2^1 & 2^0 \\\\ 2^1 & 2^2 \\end{bmatrix} = \\begin{bmatrix} 2 & 1 \\\\ 2 & 4 \\end{bmatrix} $$|\n",
    "|`A ** A` | $$ \\begin{bmatrix} 1^1 & 0^0 \\\\ 1^1 & 2^2 \\end{bmatrix} = \\begin{bmatrix} 1 & 0 \\\\ 1 & 4 \\end{bmatrix} $$|`A + A` | $$ \\begin{bmatrix} 1+1 & 0+0 \\\\ 1+1 & 2+2 \\end{bmatrix} = \\begin{bmatrix} 2 & 0 \\\\ 2 & 4 \\end{bmatrix} $$|\n",
    "\n",
    "For matematiske funksjoner, følger et par eksempler på elementvise regneoperasjoner på matrisen $A$.\n",
    "\n",
    "\n",
    "|**Med Numpy** | **I Matematikken**|\n",
    "|---|---|\n",
    "|`np.cos(A)`| $$ \\begin{bmatrix} \\cos(1) & \\cos(0) \\\\ \\cos(1) & \\cos(2) \\end{bmatrix}$$\n",
    "|`np.sin(A)`| $$ \\begin{bmatrix} \\sin(1) & \\sin(0) \\\\ \\sin(1) & \\sin(2) \\end{bmatrix}$$\n",
    "|`np.exp(A)`| $$ \\begin{bmatrix} e^1 & e^0 \\\\ e^1 & e^2 \\end{bmatrix}$$\n",
    "|`np.log10(A)`| $$ \\begin{bmatrix} \\log_{10}(1) & \\log_{10}(0) \\\\ \\log_{10}(1) & \\log_{10}(2) \\end{bmatrix}$$\n",
    "\n",
    "Vi kan også utføre matematiske operasjoner mellom matriser og vektorer/arrays.\n",
    "\n",
    "|**Med Numpy** | **I Matematikken**|\n",
    "|---|---|\n",
    "|`A * np.array([1, 2])`| $$\\begin{bmatrix} 1 \\cdot 1 & 0\\cdot 2 \\\\ 1\\cdot 1 & 2 \\cdot 2 \\end{bmatrix} = \\begin{bmatrix} 1 & 0 \\\\ 1 & 4 \\end{bmatrix}$$\n",
    "|`A * np.array([[1], [2]])`| $$\\begin{bmatrix} 1 \\cdot 1 & 0\\cdot 1 \\\\ 1\\cdot 2 & 2 \\cdot 2 \\end{bmatrix} = \\begin{bmatrix} 1 & 0 \\\\ 2 & 4 \\end{bmatrix}$$"
   ]
  },
  {
   "cell_type": "code",
   "execution_count": null,
   "id": "b839dde3-4014-45c1-ad2e-5d0a5590d99c",
   "metadata": {
    "autofeedback": {
     "test_code": "ZnJvbSBJUHl0aG9uLmRpc3BsYXkgaW1wb3J0IEhUTUwKQyA9IG5wLmFycmF5KFtbNCwgMl0sCiAgICAgICAgICAgICAgWzMsIDFdXSkKSFRNTChmIiIiPGRpdiBjbGFzcyA9ICJhbGVydCBhbGVydC1pbmZvIj4KUmVwbGFjaW5nIHZhbHVlcyBpbiBtYXRyaXggJ0MnIGZvciB0ZXN0aW5nLiBOZXcgdmFsdWVzOiA8YnI+CjxkaXYgc3R5bGU9Im1hcmdpbi1sZWZ0OjIwcHgiPkMgPSB7c3RyKEMpfTwvZGl2Pjxicj4KU3Vic2VxdWVudCB0ZXN0cyB3aWxsIGZhaWwgaWYgY29kZSBzb2x1dGlvbnMgZG8gbm90IHVzZSB1cGRhdGVkIHZhbHVlcy4KPC9kaXY+IiIiKQ=="
    },
    "deletable": false,
    "editable": false,
    "execution": {
     "iopub.execute_input": "2024-09-10T11:33:56.344896Z",
     "iopub.status.busy": "2024-09-10T11:33:56.344122Z",
     "iopub.status.idle": "2024-09-10T11:33:56.657687Z",
     "shell.execute_reply": "2024-09-10T11:33:56.654647Z"
    },
    "nbgrader": {
     "cell_type": "code",
     "checksum": "f53cd00b600e633f0d91bba4860c8197",
     "grade": true,
     "grade_id": "cell-2d9d822ccac9ced1",
     "locked": true,
     "points": 0,
     "schema_version": 3,
     "solution": false,
     "task": false
    }
   },
   "outputs": [],
   "source": [
    "import numpy as np\n",
    "C = np.array([[0, 2],\n",
    "              [1, 3]])\n",
    "C"
   ]
  },
  {
   "cell_type": "markdown",
   "id": "65232268-dd52-414b-8f5d-666843e62b05",
   "metadata": {
    "deletable": false,
    "editable": true,
    "slideshow": {
     "slide_type": ""
    },
    "tags": []
   },
   "source": [
    "## a)\n",
    "Gitt matrisen `C` deklarert i kodecellen over, bruk matrisen `C` og elementvise regneoperasjoner til å lage en ny matrise `M` med innhold som følger:\n",
    "\n",
    "$$ \\boldsymbol{M} = \\begin{bmatrix} 1 & 100 \\\\ 10 & 1000 \\end{bmatrix}$$\n",
    "\n",
    "*I tilfelle uklareheter: finn funksjonsuttrykket $f(x)$ slik at $f(c_{i,j}) = m_{i,j}$, og bruk det til å regne ut $\\boldsymbol{M}$ med bruk av $\\boldsymbol{C}$.*"
   ]
  },
  {
   "cell_type": "code",
   "execution_count": null,
   "id": "6bea5371-5ebb-4064-96da-88914b57e320",
   "metadata": {
    "deletable": false,
    "execution": {
     "iopub.execute_input": "2024-09-10T11:33:56.667017Z",
     "iopub.status.busy": "2024-09-10T11:33:56.666524Z",
     "iopub.status.idle": "2024-09-10T11:33:56.681181Z",
     "shell.execute_reply": "2024-09-10T11:33:56.677885Z"
    },
    "nbgrader": {
     "cell_type": "code",
     "checksum": "c31a286be66b3b68cdac88907ad6039f",
     "grade": false,
     "grade_id": "cell-fe1fbc90ea0ba71f",
     "locked": false,
     "schema_version": 3,
     "solution": true,
     "task": false
    }
   },
   "outputs": [],
   "source": [
    "#-------------------------------------\n",
    "# SKRIV DIN KODE HER!\n",
    "#-------------------------------------"
   ]
  },
  {
   "cell_type": "code",
   "execution_count": null,
   "id": "35570d13-11ed-4a42-ac18-bd4b0764dd1f",
   "metadata": {
    "autofeedback": {
     "test_code": "ZnJvbSBhdXRvZmVlZGJhY2sgaW1wb3J0IFRlc3RDbGFzcwoKdGVzdF9yZXN1bHRzID0gVGVzdENsYXNzKCkKaWYgIk0iIG5vdCBpbiBnbG9iYWxzKCk6CiAgICB0ZXN0X3Jlc3VsdHMuYWRkX3Jlc3VsdChGYWxzZSwgIm5vIHZhcmlhYmxlIG5hbWVkICdNJyBmb3VuZC4iKQplbGlmIG5vdCBpc2luc3RhbmNlKE0sIG5wLm5kYXJyYXkpOgogICAgdGVzdF9yZXN1bHRzLmFkZF9yZXN1bHQoRmFsc2UsIGYiJ00nIGlzIHR5cGUge3R5cGUoTSkuX19uYW1lX199IGFuZCBub3QgJ2FycmF5Jy4iKQplbHNlOgogICAgaWYgbnAuYWxsKE0gPT0gbnAuYXJyYXkoW1sxMDAwMCwgMTAwXSxbMTAwMCwgMTBdXSkpOgogICAgICAgIHRlc3RfcmVzdWx0cy5hZGRfcmVzdWx0KFRydWUsICJ0aGUgbWF0cml4ICdNJyBjb250YWlucyBleHBlY3RlZCB2YWx1ZXMuIikKICAgIGVsaWYgbnAuYWxsKE0gPT0gbnAuYXJyYXkoW1sxLCAxMDBdLFsxMCwgMTAwMF1dKSk6CiAgICAgICAgdGVzdF9yZXN1bHRzLmFkZF9yZXN1bHQoRmFsc2UsIGYiY29udGVudHMgb2YgbWF0cml4ICdNJyBhcmUge019IGV2ZW4gdGhvdWdoIHRoZSBvcmlnaW5hbCB2YWx1ZXMgb2YgJ0MnIGhhdmUgYmVlbiByZXBsYWNlZC4gTWFrZSBzdXJlIHRvIHJlbW92ZSBhbnkgcmUtZGVjbGFyYXRpb25zICdDJyB3aGljaCBtYXkgb3ZlcnJpZGUgdGhpcyByZXBsYWNlbWVudC4iKQogICAgZWxzZToKICAgICAgICB0ZXN0X3Jlc3VsdHMuYWRkX3Jlc3VsdChGYWxzZSwgImVsZW1lbnRzIGluIG1hdHJpeCAnTScgYXJlIGluY29ycmVjdC4iKQoKcm91bmQodGVzdF9yZXN1bHRzLmdldF9yZXN1bHRzKCkqMywgMik="
    },
    "deletable": false,
    "editable": false,
    "execution": {
     "iopub.execute_input": "2024-09-10T11:33:56.691821Z",
     "iopub.status.busy": "2024-09-10T11:33:56.691158Z",
     "iopub.status.idle": "2024-09-10T11:33:58.192824Z",
     "shell.execute_reply": "2024-09-10T11:33:58.191060Z"
    },
    "nbgrader": {
     "cell_type": "code",
     "checksum": "11cec66028e0a512299bfc1eee295575",
     "grade": true,
     "grade_id": "cell-6ac9fae3ebb81bf6",
     "locked": true,
     "points": 3,
     "schema_version": 3,
     "solution": false,
     "task": false
    }
   },
   "outputs": [],
   "source": []
  },
  {
   "cell_type": "markdown",
   "id": "d5dd20ae-9678-4d17-bc22-2cb249c7f912",
   "metadata": {
    "deletable": false
   },
   "source": [
    "### Matrisemultiplikasjon i Python\n",
    "\n",
    "Matriser er verktøy for å representere lineære ligningssett i Python. La oss ta et eksempel på et sett med 2 lignigner med 2 ukente:\n",
    "\n",
    "$$\n",
    "\\begin{align}\n",
    "2 \\cdot x_1 + 3 \\cdot x_2 &= 1 \\\\\n",
    "5 \\cdot x_1 + 2 \\cdot x_2 &= 8\n",
    "\\end{align}\n",
    "$$\n",
    "\n",
    "Disse to ligningene kan skrives om til én ligning på matriseform:\n",
    "\n",
    "$$ \\begin{bmatrix} 2 & 3 \\\\ 5 & 2 \\end{bmatrix} \\cdot \\begin{bmatrix} x_1 \\\\ x_2 \\end{bmatrix} = \\begin{bmatrix} 1 \\\\ 8 \\end{bmatrix}$$\n",
    "\n",
    "Generelt så skrives slike ligningssystem slik:\n",
    "\n",
    "$$\\boldsymbol{A} \\cdot x = b$$\n",
    "\n",
    "Dersom vi vil lage arrays for matrisen $\\boldsymbol{A}$ og vektoren $b$ fra eksempelet over i Python, kan det gjøres slik som nedenfor. Legg merke til at `b` er en $2 \\times 1$ matrise, og ikke en \"vanlig\" 1-dimensjonal array."
   ]
  },
  {
   "cell_type": "code",
   "execution_count": null,
   "id": "ab16e0f5-c6f6-4229-8112-df41f8fc061a",
   "metadata": {
    "deletable": false,
    "execution": {
     "iopub.execute_input": "2024-09-10T11:33:58.201435Z",
     "iopub.status.busy": "2024-09-10T11:33:58.199718Z",
     "iopub.status.idle": "2024-09-10T11:33:58.208056Z",
     "shell.execute_reply": "2024-09-10T11:33:58.206139Z"
    }
   },
   "outputs": [],
   "source": [
    "A = np.array([[2, 3],\n",
    "              [5, 2]])\n",
    "b = np.array([[1],\n",
    "              [8]])"
   ]
  },
  {
   "cell_type": "markdown",
   "id": "7f069cc1-9071-4a04-b032-37030bd7e434",
   "metadata": {
    "deletable": false
   },
   "source": [
    "\n",
    "## b)\n",
    "Skriv ferdig funksjonen `check_Axb(A, b, x)` nedenfor som tar inn matriser `A`, `b` og `x`. Funksjonen skal sjekke om vektoren $x$ er en løsning på ligningen $\\boldsymbol{A}\\cdot x = b$, og returnere enten `True` eller `False`.\n",
    "\n",
    "Dere kan bruke ekspelet over, som har løsningen $x = \\begin{bmatrix} 2 \\\\ -1 \\end{bmatrix} $ til å teste ut funksjonen.\n",
    "\n",
    "*Hint 1: Her er det sterkt anbefalt å bruke operatoren for matrisemultiplikasjon* `@`. \\\n",
    "*Hint 2: Dere kan skjekke om to arrays `A` og `B` er like med følgende modifiserte betingelse:* `(A == B).all()` "
   ]
  },
  {
   "cell_type": "code",
   "execution_count": null,
   "id": "ee871b8e-13be-49b2-a15d-04ebab6add7c",
   "metadata": {
    "deletable": false,
    "execution": {
     "iopub.execute_input": "2024-09-10T11:33:58.216280Z",
     "iopub.status.busy": "2024-09-10T11:33:58.215984Z",
     "iopub.status.idle": "2024-09-10T11:33:58.245327Z",
     "shell.execute_reply": "2024-09-10T11:33:58.221763Z"
    },
    "nbgrader": {
     "cell_type": "code",
     "checksum": "27f0fb5ad328abfc082291073eb5aa6d",
     "grade": false,
     "grade_id": "cell-b9c64f357b257bc3",
     "locked": false,
     "schema_version": 3,
     "solution": true,
     "task": false
    }
   },
   "outputs": [],
   "source": [
    "def check_Axb(A, b, x):\n",
    "    #-------------------------------------\n",
    "    # SKRIV DIN KODE HER!\n",
    "    #-------------------------------------"
   ]
  },
  {
   "cell_type": "code",
   "execution_count": null,
   "id": "a518696c-8ec9-4ebf-982d-a0062483c331",
   "metadata": {
    "autofeedback": {
     "test_code": "ZnJvbSBhdXRvZmVlZGJhY2sgaW1wb3J0IEZ1bmN0aW9uVGVzdHMKaW1wb3J0IG51bXB5IGFzIG5wCmZyb20gcmFuZG9tIGltcG9ydCBzYW1wbGUKCmRlZiBjaGVja19BeEJfc29sdXRpb24oQSwgYiwgeCk6CiAgICByZXR1cm4gKEFAeCA9PSBiKS5hbGwoKQoKCmdyYWRpbmdfcmVzdWx0cyA9IEZ1bmN0aW9uVGVzdHMoY2hlY2tfQXhCX3NvbHV0aW9uKQp0cnk6CiAgICBncmFkaW5nX3Jlc3VsdHMuYWRkX3Rlc3RfZnVuYyhjaGVja19BeGIpCmV4Y2VwdCBFeGNlcHRpb24gYXMgZToKICAgIGdyYWRpbmdfcmVzdWx0cy5sb2cuYXBwZW5kKCJDb3VsZCBub3QgcnVuIHRlc3RzLCAiK2UuYXJnc1swXSkKZWxzZToKICAgIE4gPSAyCiAgICBzaXplcyA9IHNhbXBsZShsaXN0KHJhbmdlKDIsIDUpKSwgTikKICAgIGZvciBzaXplIGluIHNpemVzOgogICAgICAgIEFfdGVzdCA9IG5wLnJhbmRvbS5yYW5kaW50KC05LCAxMCwgKHNpemUsIHNpemUpKQogICAgICAgIHhfdGVzdCA9IG5wLnJhbmRvbS5yYW5kaW50KC05LCAxMCwgc2l6ZSkKICAgICAgICBiX3Rlc3QgPSBBX3Rlc3RAeF90ZXN0CiAgICAgICAgZ3JhZGluZ19yZXN1bHRzLnRlc3RfcmV0dXJuX3ZhbHVlKEFfdGVzdCwgYl90ZXN0LCB4X3Rlc3QpCgpyb3VuZChncmFkaW5nX3Jlc3VsdHMuZ2V0X3Jlc3VsdHMoKSozLCAyKQ=="
    },
    "deletable": false,
    "editable": false,
    "execution": {
     "iopub.execute_input": "2024-09-10T11:33:58.256007Z",
     "iopub.status.busy": "2024-09-10T11:33:58.254982Z",
     "iopub.status.idle": "2024-09-10T11:33:58.290395Z",
     "shell.execute_reply": "2024-09-10T11:33:58.287809Z"
    },
    "nbgrader": {
     "cell_type": "code",
     "checksum": "6ef6af987cbf01b72689170330e700e9",
     "grade": true,
     "grade_id": "cell-e777fed64fe1a2ef",
     "locked": true,
     "points": 3,
     "schema_version": 3,
     "solution": false,
     "task": false
    },
    "slideshow": {
     "slide_type": ""
    },
    "tags": []
   },
   "outputs": [],
   "source": [
    "# Denne cellen brukes under retting. La stå!"
   ]
  },
  {
   "cell_type": "markdown",
   "id": "ecf8b966-1dde-49c5-9123-7f824919d9dd",
   "metadata": {
    "deletable": false
   },
   "source": [
    "### Utvalgte matrisemanipulasjoner\n",
    "\n",
    "Av og til er det nødvendig å gjøre en del manipulering av matriser for at regneoperasjonene skal fungere slik vi ønsker. Vi skal her se på to av de mest vanlige: **Transponering** og **Omforming**. For dette antar vi at vi har deklarert en matrise `A` som følger:\n",
    "```Python\n",
    "A = np.array([[1, 2]\n",
    "              [3, 4]])\n",
    "```\n",
    "\n",
    "Manipulasjoner av matrisen `A` kan vi da utføre ved å kalle på ulike *metoder* som er knyttet til matrisen `A`. Syntaks for dette blir `A.<metdoe_navn>`\n",
    "#### Transponering:\n",
    "\n",
    "* Utføres enklest med notasjonen `<matrise>.T`\n",
    "\n",
    "| I Python |I Matematikken |\n",
    "|---|---|\n",
    "| `A.T` |$$\\begin{bmatrix} 1 & 2 \\\\ 3 & 4 \\end{bmatrix} ^T = \\begin{bmatrix} 1 & 3 \\\\ 2 & 4 \\end{bmatrix}$$ |\n",
    "\n",
    "\n",
    "#### Omforming:\n",
    "* Utføres med notasjonen `<matrise>.reshape([rows, cols])`\n",
    "    * Det er mulig å sette `rows` eller `cols` lik `-1`, da vil numpy automatisk regne ut hvor mange rader/kolonner som trengs.\n",
    "\n",
    "**Eksempel:**\n",
    ">```Python\n",
    ">A = np.arange(20)\n",
    ">A.reshape([5, -1])\n",
    ">A\n",
    ">```\n",
    ">\n",
    ">Gir:\n",
    ">```\n",
    ">[[0, 1, 2, 3],\n",
    ">[4, 5, 6, 7],\n",
    ">[8, 9, 10, 11],\n",
    ">[12, 13, 14, 15],\n",
    ">[16, 17, 18, 19]]\n",
    ">```\n"
   ]
  },
  {
   "cell_type": "markdown",
   "id": "35430b7d-9a02-41c8-82b3-89dde8dfe571",
   "metadata": {
    "deletable": false
   },
   "source": [
    "## c) \n",
    "Bruk matrisemanipulering og regneoperasjoner til å lage en $10\\times 10$ matrise $\\boldsymbol{D}$ som inneholder gangetabellen for tallene $1$ til $10$. Dvs: [$d_{ij} = i \\cdot j$](Figurer/oppg7_c_LF.png)\n",
    "\n",
    "#### *Hint:*\n",
    "$$\n",
    "\\begin{bmatrix} a_1 \\\\ a_2 \\end{bmatrix}\\cdot \\begin{bmatrix} b_1 & b_2 \\end{bmatrix} = \n",
    "\\begin{bmatrix}\n",
    "a_1 \\cdot b_1 & a_1 \\cdot b_2 \\\\\n",
    "a_2 \\cdot b_1 & a_2 \\cdot b_2\n",
    "\\end{bmatrix}\n",
    "$$"
   ]
  },
  {
   "cell_type": "code",
   "execution_count": null,
   "id": "6660ea86-22de-4e58-96b0-49ee2fc03e56",
   "metadata": {
    "deletable": false,
    "execution": {
     "iopub.execute_input": "2024-09-10T11:33:58.299572Z",
     "iopub.status.busy": "2024-09-10T11:33:58.298906Z",
     "iopub.status.idle": "2024-09-10T11:33:58.345914Z",
     "shell.execute_reply": "2024-09-10T11:33:58.313013Z"
    },
    "nbgrader": {
     "cell_type": "code",
     "checksum": "dd52ca7d21e98fc1a5a1889ace16d10e",
     "grade": false,
     "grade_id": "cell-6133619208c5c19b",
     "locked": false,
     "schema_version": 3,
     "solution": true,
     "task": false
    }
   },
   "outputs": [],
   "source": [
    "#-------------------------------------\n",
    "# SKRIV DIN KODE HER!\n",
    "#-------------------------------------"
   ]
  },
  {
   "cell_type": "code",
   "execution_count": null,
   "id": "5f9a89ca-f9c0-4967-9543-d4087221c23c",
   "metadata": {
    "autofeedback": {
     "test_code": "ZnJvbSBhdXRvZmVlZGJhY2sgaW1wb3J0IFRlc3RDbGFzcwoKRF9zb2x1dGlvbiA9IG5wLmFyYW5nZSgxLCAxMSkucmVzaGFwZSgtMSwgMSlAbnAuYXJhbmdlKDEsMTEpLnJlc2hhcGUoMSwgLTEpCgp0ZXN0X3Jlc3VsdHMgPSBUZXN0Q2xhc3MoKQppZiAiRCIgbm90IGluIGdsb2JhbHMoKToKICAgIHRlc3RfcmVzdWx0cy5hZGRfcmVzdWx0KEZhbHNlLCAibm8gdmFyaWFibGUgbmFtZWQgJ0QnIGZvdW5kLiIpCmVsaWYgbm90IGlzaW5zdGFuY2UoRCwgbnAubmRhcnJheSk6CiAgICB0ZXN0X3Jlc3VsdHMuYWRkX3Jlc3VsdChGYWxzZSwgZiInRCcgaXMgdHlwZSB7dHlwZShEKS5fX25hbWVfX30gYW5kIG5vdCAnYXJyYXknLiIpCmVsc2U6CiAgICBpZiBELnNoYXBlICE9IERfc29sdXRpb24uc2hhcGU6CiAgICAgICAgdGVzdF9yZXN1bHRzLmFkZF9yZXN1bHQoRmFsc2UsIGYidGhlIG1hdHJpeCAnRCcgaGFzIHNoYXBlIHtELnNoYXBlfSBhbmQgbm90ICgxMCwgMTApIikKICAgIGVsaWYgbnAuYWxsKEQgPT0gRF9zb2x1dGlvbik6CiAgICAgICAgdGVzdF9yZXN1bHRzLmFkZF9yZXN1bHQoVHJ1ZSwgInRoZSBtYXRyaXggJ0QnIGNvbnRhaW5zIGV4cGVjdGVkIHZhbHVlcy4iKQogICAgZWxzZToKICAgICAgICB0ZXN0X3Jlc3VsdHMuYWRkX3Jlc3VsdChGYWxzZSwgImVsZW1lbnRzIGluIG1hdHJpeCAnRCcgYXJlIGluY29ycmVjdC4iKQoKcm91bmQodGVzdF9yZXN1bHRzLmdldF9yZXN1bHRzKCkqNCwgMik="
    },
    "deletable": false,
    "editable": false,
    "execution": {
     "iopub.execute_input": "2024-09-10T11:33:58.358749Z",
     "iopub.status.busy": "2024-09-10T11:33:58.357817Z",
     "iopub.status.idle": "2024-09-10T11:33:58.385364Z",
     "shell.execute_reply": "2024-09-10T11:33:58.382772Z"
    },
    "nbgrader": {
     "cell_type": "code",
     "checksum": "159f580fa617fe118be7394471de7693",
     "grade": true,
     "grade_id": "cell-4e92841d1a4a1d37",
     "locked": true,
     "points": 4,
     "schema_version": 3,
     "solution": false,
     "task": false
    }
   },
   "outputs": [],
   "source": []
  },
  {
   "cell_type": "markdown",
   "id": "bfdf5e46",
   "metadata": {
    "deletable": false,
    "editable": false
   },
   "source": [
    "<br>\n",
    "<nav class=\"navbar navbar-default\">\n",
    "        <div class=\"container-fluid\">\n",
    "            <div class=\"navbar-header\" style=\"float: left\">\n",
    "                <a class=\"navbar-brand\" href=\"6_matriser_og_lokker.ipynb\" target=\"_self\">&lt; Forrige side: <i>matriser og for-løkker</i></a>\n",
    "                </div>\n",
    "            <div class=\"navbar-header\" style=\"float: right\">\n",
    "                <a class=\"navbar-brand\" href=\"8_fikspunktiterasjon.ipynb\" target=\"_self\">Neste side: <i>fikspunktiterasjon</i> &gt;</a>\n",
    "            </div>\n",
    "        </div>\n",
    "</nav>"
   ]
  }
 ],
 "metadata": {
  "kernelspec": {
   "display_name": "Python 3 (ipykernel)",
   "language": "python",
   "name": "python3"
  },
  "language_info": {
   "codemirror_mode": {
    "name": "ipython",
    "version": 3
   },
   "file_extension": ".py",
   "mimetype": "text/x-python",
   "name": "python",
   "nbconvert_exporter": "python",
   "pygments_lexer": "ipython3",
   "version": "3.11.6"
  }
 },
 "nbformat": 4,
 "nbformat_minor": 5
}
