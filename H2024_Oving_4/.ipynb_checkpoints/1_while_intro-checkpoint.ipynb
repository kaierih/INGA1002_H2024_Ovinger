{
 "cells": [
  {
   "cell_type": "markdown",
   "id": "d3728888",
   "metadata": {
    "deletable": false,
    "editable": false
   },
   "source": [
    "\n",
    "<nav class=\"navbar navbar-default\">\n",
    "  <div class=\"container-fluid\">\n",
    "    <div class=\"navbar-header\" style=\"float: left\">\n",
    "        <a class=\"navbar-brand\" href=\"0_Forside.ipynb\" target=\"_self\"> <h2> &uarr; Tilbake til forsiden</h2></a>\n",
    "    </div>\n",
    "  </div>\n",
    "</nav>"
   ]
  },
  {
   "cell_type": "markdown",
   "id": "63445695-5c63-49b0-8dfb-0f95c3f62e8b",
   "metadata": {
    "deletable": false,
    "editable": true,
    "slideshow": {
     "slide_type": ""
    },
    "tags": []
   },
   "source": [
    "# Intro til While-løkker\n",
    "\n",
    "#### Læringsmål:\n",
    "* Grunnleggende om while-løkker\n",
    "\n",
    "### Hva er en `while`-løkke?`\n",
    "En while-løkke er, i likhet med en `for`-løkke, en måte å repetere en seksjon av programkoden ved behov. I motsetning til for-løkker som repeterer kode et bestemt antall ganger, så er while-løkker styrt av en betingelse. Én måte å tenke på while-løkker er som en if-setning, der man \"går tilbake til start\" etter at innholdet i if-setningen er utført. \n",
    "\n",
    "Et eksempel på en praktisk oppgave som kunne vært styrt av en while-løkke er manuell oppvask av en gryte med matrester som har brent seg litt ekstra godt fast. Figuren nedenfor to flytskjema som illustrerer to ulike tilnærminger til å prøve å ta oppvasken: én med bruk av while-løkke, og én med bruk av en if-setning (som ikke vil lykkes med mindre gryten er ren på første forsøk).\n",
    "\n",
    "<img src=\"Figurer/while_flowchart.png\"  style=\"width: 700px; margin-left: 10%\" />\n",
    "\n",
    "Her vil flytskjemaet med if-setningen gjøre kun ett forsøk på å vaske gryten, og sette den på plass dersom den er ren. Men dersom gryten fortsatt er skitten stopper prossessen der uten videre instrukser. While-løkken derimot vil utføre nye forsøk på å vaske gryten helt til gryten er ren og kan settes på plass. Noe som er spesielt viktig å bemerke er betingelsene i de to flytskjemaene: while-løkken tester *om vi skal fortsette å vaske*, som er det motsatte av if-setningen som tester om *vasken er fullført slik at gryten kan settes på plass*. Med andre ord, dersom man skal gjenta en kodeoperasjon frem til man lykkes med noe, må betingelsen i while-løkken være \"har du ikke lykkes enda?\".\n",
    "\n",
    "### Forskjellen mellom `for` og `while` i Python\n",
    "**While**-løkker kan være noe mer kompliserte å mestre enn for-løkker, da den har potensiale til å oppføre seg veldig ulikt fra gang til gang. Vi kan begynne med å se på en enkel løkke som skriver ut $3\\times$ `Hipp` og så til slutt `Hurra!`. Med en for-løkke blir dette nokså greit. Linjen\n",
    "```python\n",
    "for i in range(3):\n",
    "``` \n",
    "gjør at påfølgende kodesetning(er) med innrykk blir repetert 3 ganger, så da kan vi ha en kodelinje som printer ordet `Hipp` inni løkken, og så en kodelinje som printer ordet `Hurra!` etterpå."
   ]
  },
  {
   "cell_type": "code",
   "execution_count": null,
   "id": "c022c3c7-bc88-4527-ae9e-1282998ea033",
   "metadata": {
    "deletable": false,
    "execution": {
     "iopub.execute_input": "2024-09-10T11:33:20.569431Z",
     "iopub.status.busy": "2024-09-10T11:33:20.568580Z",
     "iopub.status.idle": "2024-09-10T11:33:20.594598Z",
     "shell.execute_reply": "2024-09-10T11:33:20.592217Z"
    }
   },
   "outputs": [],
   "source": [
    "for i in range(3):\n",
    "    print(\"Hipp\")\n",
    "print(\"Hurra!\")"
   ]
  },
  {
   "cell_type": "markdown",
   "id": "39a4835e-6903-4fb4-9f02-3648b9bbf37b",
   "metadata": {
    "deletable": false
   },
   "source": [
    "Vi kan gjøre tilsvarende oppgave med en while-løkke, ved å lage en egen tellevariabel `i` som vi øker verdien av med $1$ hver gang løkken vår kjører. Prosessen blir da som følger:\n",
    "1. Sett variabelen `i` lik $0$ \n",
    "2. Så lenge $i < 3$ så skal vi gjøre følgende gjentatte ganger:\\\n",
    "    a. Skrive ut ordet `\"Hipp\"`\\\n",
    "    b. Øke verdien til `i` med $1$.\n",
    "3. Skrive ut ordet `\"Hurra!\"`\n",
    "\n",
    "Koden som gjør dette kan du se nedenfor."
   ]
  },
  {
   "cell_type": "code",
   "execution_count": null,
   "id": "a88e1d25-7959-4e85-9cbe-ae35d0b258c4",
   "metadata": {
    "deletable": false,
    "execution": {
     "iopub.execute_input": "2024-09-10T11:33:20.604372Z",
     "iopub.status.busy": "2024-09-10T11:33:20.603670Z",
     "iopub.status.idle": "2024-09-10T11:33:20.617037Z",
     "shell.execute_reply": "2024-09-10T11:33:20.614380Z"
    }
   },
   "outputs": [],
   "source": [
    "i = 0\n",
    "while (i < 3):\n",
    "    print(\"Hipp\")\n",
    "    i = i + 1\n",
    "print(\"Hurra!\")"
   ]
  },
  {
   "cell_type": "markdown",
   "id": "7f1fc0c4-d2b9-4502-a47e-4cc54794c1b8",
   "metadata": {
    "deletable": false
   },
   "source": [
    "Som du ser er while noe mer tungvint her. vi må eksplisitt øke `i` med 1 for hver runde, noe som for-løkka gjør automatisk. \n",
    "\n",
    "while-løkka vil fortsette så lenge betingelsen (her: i < 3) er sann, den vil derfor kjøre når i er 0, 1, 2, men deretter stoppe når i blir 3. Som i for-løkka gjør dette at Hipp skrives 3 ganger.\n",
    "\n",
    "I andre situasjoner er while-løkke derimot bedre enn  for-løkke. Generelt gjelder følgende:\n",
    "\n",
    "* **for-løkke** egner seg når vi har et **kjent antall repetisjoner**. Eksempel fra den virkelige verden: hver måned skal et firma utbetale lønn til alle sine ansatte. Firmaet og dets datasystem vet (forhåpentligvis) hvor mange ansatte det har, dermed har løkka \"for alle ansatte, beregn og utbetal lønn\" et kjent antall repetisjoner når lønningsdagen kommer.\n",
    "* **while-løkke** er derimot nødvendig hvis **maks antall repetisjoner er uvisst** når løkka starter og vi først finner ut underveis når løkka skal avsluttes. F.eks.\n",
    "    * numerisk løsning av matematiske likninger, hvor stoppkriteriet er at vi skal ha nådd en viss presisjon. Hvis vi ikke aner på forhånd hvor mange iterasjoner som trengs for å nå denne presisjonen, vil while-løkke være best.\n",
    "    * produksjonsutstyr i en fabrikk skal kjøre som normalt med mindre sensordata indikerer en krisesituasjon, og da gå over til en alternativ nødprosedyre. Vi aner ikke om det går tusen sekunder, eller millioner av sekunder... kanskje inntreffer krisesituasjonen slett ikke. Dermed vil antall repetisjoner av løkka for normal oppførsel være ukjent når den starter, som tilsier while-løkke."
   ]
  },
  {
   "cell_type": "markdown",
   "id": "2ed8048a-e09a-42b7-bc60-04e9d6802515",
   "metadata": {
    "deletable": false
   },
   "source": [
    "## a) \n",
    "Fullfør funksjonen `countdown(number)` som teller ned fra heltallet `number` til og med `0`, og skriver ut tallene fra start til slutt. Funksjonen ***skal*** bruke en while-løkke!\n",
    "\n",
    "*Dersom du vil gjøre det litt mer synlig at du teller ned, kan du bruke funksjonen `sleep` fra `time-modulen`. Dette er frivillig.*\n",
    "```Python\n",
    "from time import sleep  # Importerer funksjonen 'sleep'\n",
    "sleep(1)  # Setter programmet på pause i ett sekund\n",
    "```"
   ]
  },
  {
   "cell_type": "code",
   "execution_count": null,
   "id": "fd94f1a2-8c05-49a0-be34-1c3c6d87190e",
   "metadata": {
    "deletable": false,
    "execution": {
     "iopub.execute_input": "2024-09-10T11:33:20.651663Z",
     "iopub.status.busy": "2024-09-10T11:33:20.650733Z",
     "iopub.status.idle": "2024-09-10T11:33:24.665514Z",
     "shell.execute_reply": "2024-09-10T11:33:24.662298Z"
    },
    "nbgrader": {
     "cell_type": "code",
     "checksum": "4f4aa7b1ad3994ebd000f2733a2f09cc",
     "grade": false,
     "grade_id": "cell-833d63037613f6ae",
     "locked": false,
     "schema_version": 3,
     "solution": true,
     "task": false
    }
   },
   "outputs": [],
   "source": [
    "from time import sleep # Bruk denne hvis du skal telle ned med forsinkelse\n",
    "\n",
    "def countdown(number):\n",
    "    #-------------------------------------\n",
    "    # SKRIV DIN KODE HER!\n",
    "    #-------------------------------------\n",
    "\n",
    "# Forslag til testkall: tell ned fra 3!\n",
    "countdown(3)"
   ]
  },
  {
   "cell_type": "code",
   "execution_count": null,
   "id": "4115fb9b-54c7-40c2-848f-b052ede488d9",
   "metadata": {
    "autofeedback": {
     "test_code": "ZnJvbSB1bml0dGVzdC5tb2NrIGltcG9ydCBwYXRjaApmcm9tIHJhbmRvbSBpbXBvcnQgc2FtcGxlCmZyb20gdGltZSBpbXBvcnQgc2xlZXAKaW1wb3J0IHRpbWUKZnJvbSBhdXRvZmVlZGJhY2sgaW1wb3J0IEZ1bmN0aW9uVGVzdHMKCmRlZiBjb3VudGRvd25fc29sdXRpb24obnVtYmVyKToKICAgIHdoaWxlIG51bWJlciA+PSAwOgogICAgICAgIHByaW50KG51bWJlcikKICAgICAgICBudW1iZXIgLT0gMQoKZ3JhZGluZ19yZXN1bHRzID0gRnVuY3Rpb25UZXN0cyhjb3VudGRvd25fc29sdXRpb24pCgp0cnk6CiAgICBncmFkaW5nX3Jlc3VsdHMuYWRkX3Rlc3RfZnVuYyhjb3VudGRvd24pCmV4Y2VwdCBFeGNlcHRpb24gYXMgZToKICAgIGdyYWRpbmdfcmVzdWx0cy5sb2cuYXBwZW5kKCJDb3VsZCBub3QgcnVuIHRlc3RzLCAiK2UuYXJnc1swXSkKZWxzZToKICAgIE4gPSAyCiAgICBudW1iZXJzID0gc2FtcGxlKGxpc3QocmFuZ2UoMSwgMTApKSwgTikKICAgIAogICAgZm9yIG51bWJlciBpbiBudW1iZXJzOgogICAgICAgIHdpdGggKHBhdGNoKGYie19fbmFtZV9ffS5zbGVlcCIpLCAjIERpc2FibGUgc2xlZXAoKSBkdXJpbmcgZ3JhZGluZwogICAgICAgICAgICAgIHBhdGNoKGYie19fbmFtZV9ffS50aW1lLnNsZWVwIiksCiAgICAgICAgICAgICAgcGF0Y2goZiJ7X19uYW1lX199LnJhbmdlIikgYXMgbW9ja19yYW5nZSk6CiAgICAgICAgICAgIGdyYWRpbmdfcmVzdWx0cy50ZXN0X3JldHVybl92YWx1ZShudW1iZXIpCiAgICAgICAgICAgIAogICAgICAgIGlmIG1vY2tfcmFuZ2UuY2FsbGVkIGFuZCBncmFkaW5nX3Jlc3VsdHMuc2NvcmUudGVzdF9yZXN1bHRzWy0xXSA9PSBGYWxzZToKICAgICAgICAgICAgZ3JhZGluZ19yZXN1bHRzLmxvZy5tZXNzYWdlX2xvZ1stMV0gPSBmIlRlc3Qge2xlbihncmFkaW5nX3Jlc3VsdHMubG9nLm1lc3NhZ2VfbG9nKX0gZmFpbGVkOiBkZXRlY3RlZCB1c2Ugb2YgZm9yLWxvb3AuIgoKcm91bmQoZ3JhZGluZ19yZXN1bHRzLmdldF9yZXN1bHRzKCkqNSwgMyk="
    },
    "deletable": false,
    "editable": false,
    "execution": {
     "iopub.execute_input": "2024-09-10T11:33:24.678217Z",
     "iopub.status.busy": "2024-09-10T11:33:24.675633Z",
     "iopub.status.idle": "2024-09-10T11:33:26.460469Z",
     "shell.execute_reply": "2024-09-10T11:33:26.458703Z"
    },
    "nbgrader": {
     "cell_type": "code",
     "checksum": "b248e621f4f904f47e5404bda6eaab8f",
     "grade": true,
     "grade_id": "cell-ecd715026e3a3a82",
     "locked": true,
     "points": 5,
     "schema_version": 3,
     "solution": false,
     "task": false
    }
   },
   "outputs": [],
   "source": [
    "# Denne cellen brukes under retting. La stå!"
   ]
  },
  {
   "cell_type": "markdown",
   "id": "43e2dd6f-9c68-411c-9863-c023bfca79cb",
   "metadata": {
    "deletable": false
   },
   "source": [
    "Nedtelling slik som vi utfører i deloppgave **a)** virker kanskje ikke som en spesielt nyttig bruk av while-løkker, da det sikkert kunne vært løst enklere med en for-løkke. Men, det er mange problemer man kan komme over der det ikke er umiddelbart tydelig hvor mange ganger man må kjøre en løkke. Hva for eksempel om mengden vi teller ned for hvert steg ikke er lik for hver gang løkken kjører?\n",
    "\n",
    "**Eksempel:**\n",
    ">En eiendomsmegler med nokså grådige kollegaer setter frem en skål med $100$ twist-sjokolader til felleskapet på kontoret. Hver av kollegaene kommer da etter tur og forsyner seg med havparten av det som er i skålen, rundet opp til nærmeste hele sjokolade. Fordelingen av sjokolader på kollegaene blir da:\n",
    ">\n",
    "> | Kollega nr. | Antall sjokolader forsynt | Gjenværende sjokolader|\n",
    "> |---|---|---|\n",
    "> |1|50|50|\n",
    "> |2|25|25|\n",
    "> |3|13|12|\n",
    "> |4|6|6|\n",
    "> |5|3|3|\n",
    "> |6|2|1|\n",
    "> |7|1|0|\n",
    "\n",
    "Gitt eksempelet over, så er det *mulig* å regne ut matematisk hvor mange kollegaer som kan forsyne seg med sjokolade før det går tomt, men det kan være like enkelt å sette opp en while-løkke som utfører gjentatte halveringer av et tall frem til man står igjen med $0$."
   ]
  },
  {
   "cell_type": "markdown",
   "id": "88bd4159-d6f2-4b3e-b9a2-b6ad11b9d4dd",
   "metadata": {
    "deletable": false
   },
   "source": [
    "## b)\n",
    "Fullfør funksjonen `felles_sjokolade` nedenfor, som simulerer fordelingen av twist-sjokolader fra eksempelet ovenfor men for et variabelt antall sjokolader gitt ved parameteren `antall`. Funksjonen skal bruke en while-løkke, og skrive ut antallet sjokolader som ligger igjen i skålen for hver gang noen har forsynt seg fra den frem til det er $0$ igjen.\n",
    "\n",
    "Eksempel på kjøring:\n",
    ">```Python\n",
    ">felles_sjokolade(16)\n",
    ">```\n",
    ">`En kollega har forsynt seg. Det er nå 8 sjokolader igjen!`<br>\n",
    ">`En kollega har forsynt seg. Det er nå 4 sjokolader igjen!`<br>\n",
    ">`En kollega har forsynt seg. Det er nå 2 sjokolader igjen!`<br>\n",
    ">`En kollega har forsynt seg. Det er nå 1 sjokolader igjen!`<br>\n",
    ">`En kollega har forsynt seg. Det er nå 0 sjokolader igjen!`<br>\n",
    "\n",
    "*PS: Du kan bruke funksjonen* `int` *til å runde **ned** et desimaltall til nærmeste hele tall*"
   ]
  },
  {
   "cell_type": "code",
   "execution_count": null,
   "id": "818cfdd7-cd43-446d-9aff-95268923f384",
   "metadata": {
    "deletable": false,
    "execution": {
     "iopub.execute_input": "2024-09-10T11:33:26.470584Z",
     "iopub.status.busy": "2024-09-10T11:33:26.469330Z",
     "iopub.status.idle": "2024-09-10T11:33:26.484743Z",
     "shell.execute_reply": "2024-09-10T11:33:26.482309Z"
    },
    "nbgrader": {
     "cell_type": "code",
     "checksum": "04b61c394f26f0328827d1b059171284",
     "grade": false,
     "grade_id": "cell-a6aa0c0684ea7f10",
     "locked": false,
     "schema_version": 3,
     "solution": true,
     "task": false
    }
   },
   "outputs": [],
   "source": [
    "def felles_sjokolade(antall):\n",
    "    #-------------------------------------\n",
    "    # SKRIV DIN KODE HER!\n",
    "    #-------------------------------------\n",
    "\n",
    "# Forslag på funksjonskall for å teste funksjonen:\n",
    "felles_sjokolade(16)"
   ]
  },
  {
   "cell_type": "code",
   "execution_count": null,
   "id": "d7234bf1-e485-4264-ac36-e09e2605e07d",
   "metadata": {
    "autofeedback": {
     "test_code": "ZnJvbSB1bml0dGVzdC5tb2NrIGltcG9ydCBwYXRjaApmcm9tIHJhbmRvbSBpbXBvcnQgc2FtcGxlCmZyb20gdGltZSBpbXBvcnQgc2xlZXAKaW1wb3J0IHRpbWUKZnJvbSBhdXRvZmVlZGJhY2sgaW1wb3J0IEZ1bmN0aW9uVGVzdHMKCmRlZiBmZWxsZXNfc2pva29sYWRlX3NvbHV0aW9uKGFudGFsbCk6CiAgICB3aGlsZSBhbnRhbGwgIT0gMDoKICAgICAgICBhbnRhbGwgLz0gMgogICAgICAgIGFudGFsbCA9IGludChhbnRhbGwpCiAgICAgICAgcHJpbnQoYW50YWxsKQoKZ3JhZGluZ19yZXN1bHRzID0gRnVuY3Rpb25UZXN0cyhmZWxsZXNfc2pva29sYWRlX3NvbHV0aW9uKQoKdHJ5OgogICAgZ3JhZGluZ19yZXN1bHRzLmFkZF90ZXN0X2Z1bmMoZmVsbGVzX3Nqb2tvbGFkZSkKZXhjZXB0IEV4Y2VwdGlvbiBhcyBlOgogICAgZ3JhZGluZ19yZXN1bHRzLmxvZy5hcHBlbmQoIkNvdWxkIG5vdCBydW4gdGVzdHMsICIrZS5hcmdzWzBdKQplbHNlOgogICAgTiA9IDIKICAgIG51bWJlcnMgPSBzYW1wbGUobGlzdChyYW5nZSgxLCAxMCkpLCBOKQogICAgCiAgICBmb3IgbnVtYmVyIGluIG51bWJlcnM6CiAgICAgICAgd2l0aCAocGF0Y2goZiJ7X19uYW1lX199LnNsZWVwIiksICMgRGlzYWJsZSBzbGVlcCgpIGR1cmluZyBncmFkaW5nCiAgICAgICAgICAgICAgcGF0Y2goZiJ7X19uYW1lX199LnRpbWUuc2xlZXAiKSwKICAgICAgICAgICAgICBwYXRjaChmIntfX25hbWVfX30ucmFuZ2UiKSBhcyBtb2NrX3JhbmdlKToKICAgICAgICAgICAgZ3JhZGluZ19yZXN1bHRzLnRlc3RfcmV0dXJuX3ZhbHVlKG51bWJlcikKCiAgICAgICAgaWYgbW9ja19yYW5nZS5jYWxsZWQgYW5kIGdyYWRpbmdfcmVzdWx0cy5zY29yZS50ZXN0X3Jlc3VsdHNbLTFdID09IEZhbHNlOgogICAgICAgICAgICBncmFkaW5nX3Jlc3VsdHMubG9nLm1lc3NhZ2VfbG9nWy0xXSA9IGYiVGVzdCB7bGVuKGdyYWRpbmdfcmVzdWx0cy5sb2cubWVzc2FnZV9sb2cpfSBmYWlsZWQ6IGRldGVjdGVkIHVzZSBvZiBmb3ItbG9vcC4iCgpyb3VuZChncmFkaW5nX3Jlc3VsdHMuZ2V0X3Jlc3VsdHMoKSo1LCAzKQ=="
    },
    "deletable": false,
    "editable": false,
    "execution": {
     "iopub.execute_input": "2024-09-10T11:33:26.494306Z",
     "iopub.status.busy": "2024-09-10T11:33:26.493621Z",
     "iopub.status.idle": "2024-09-10T11:33:26.560564Z",
     "shell.execute_reply": "2024-09-10T11:33:26.557928Z"
    },
    "nbgrader": {
     "cell_type": "code",
     "checksum": "92aedd82b664ccd4a1a2463235f49008",
     "grade": true,
     "grade_id": "cell-05fe7352eed25e43",
     "locked": true,
     "points": 5,
     "schema_version": 3,
     "solution": false,
     "task": false
    }
   },
   "outputs": [],
   "source": []
  },
  {
   "cell_type": "markdown",
   "id": "959d6bbe",
   "metadata": {
    "deletable": false,
    "editable": false
   },
   "source": [
    "<br>\n",
    "<nav class=\"navbar navbar-default\">\n",
    "        <div class=\"container-fluid\">\n",
    "            <div class=\"navbar-header\" style=\"float: right\">\n",
    "                <a class=\"navbar-brand\" href=\"2_terningkast.ipynb\" target=\"_self\">Neste side: <i>simulering av terningkast</i> &gt;</a>\n",
    "            </div>\n",
    "        </div>\n",
    "</nav>"
   ]
  }
 ],
 "metadata": {
  "kernelspec": {
   "display_name": "Python 3 (ipykernel)",
   "language": "python",
   "name": "python3"
  },
  "language_info": {
   "codemirror_mode": {
    "name": "ipython",
    "version": 3
   },
   "file_extension": ".py",
   "mimetype": "text/x-python",
   "name": "python",
   "nbconvert_exporter": "python",
   "pygments_lexer": "ipython3",
   "version": "3.11.6"
  }
 },
 "nbformat": 4,
 "nbformat_minor": 5
}
