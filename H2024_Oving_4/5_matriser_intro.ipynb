{
 "cells": [
  {
   "cell_type": "markdown",
   "id": "1b7c7a8a",
   "metadata": {
    "deletable": false,
    "editable": false
   },
   "source": [
    "\n",
    "<nav class=\"navbar navbar-default\">\n",
    "  <div class=\"container-fluid\">\n",
    "    <div class=\"navbar-header\" style=\"float: left\">\n",
    "        <a class=\"navbar-brand\" href=\"0_Forside.ipynb\" target=\"_self\"> <h2> &uarr; Tilbake til forsiden</h2></a>\n",
    "    </div>\n",
    "  </div>\n",
    "</nav>"
   ]
  },
  {
   "cell_type": "markdown",
   "id": "4de2a6cc",
   "metadata": {
    "deletable": false,
    "editable": true,
    "slideshow": {
     "slide_type": ""
    },
    "tags": []
   },
   "source": [
    "# Intro til Matriser\n",
    "\n",
    "#### Læringsmål:\n",
    "* Arrays med 2 dimensjoner\n",
    "* Indeksering i matriser\n",
    "* Regneoperasjoner med matriser"
   ]
  },
  {
   "cell_type": "markdown",
   "id": "460b93c2-9fc9-4bd3-9aab-4f0d5e1eada6",
   "metadata": {
    "deletable": false,
    "editable": true,
    "slideshow": {
     "slide_type": ""
    },
    "tags": []
   },
   "source": [
    "### Matriser\n",
    "\n",
    "I Øving 2 ble vi kjent med ulike typer sekvenser som lister og arrays, og blant de er arrays noe vil være i spesielt fokus i numerisk matematikk. En array `x` med verdiene $[2, 3, 1, 0]$ kan vi for eksempel lage ganske enkelt med å liste opp verdiene innenfor klammeparantes `[]` slik at vi får en liste, og konvertere det hele til en numpy-array med funksonen `numpy.array`."
   ]
  },
  {
   "cell_type": "code",
   "execution_count": null,
   "id": "a9327ac2-4912-43d3-801a-8a48637c5865",
   "metadata": {
    "deletable": false,
    "execution": {
     "iopub.execute_input": "2024-09-10T11:33:45.340516Z",
     "iopub.status.busy": "2024-09-10T11:33:45.339707Z",
     "iopub.status.idle": "2024-09-10T11:33:45.711052Z",
     "shell.execute_reply": "2024-09-10T11:33:45.709252Z"
    },
    "tags": []
   },
   "outputs": [],
   "source": [
    "import numpy as np\n",
    "x = np.array([2, 3, 1, 2])\n",
    "print(f\"x = {x}\")"
   ]
  },
  {
   "cell_type": "markdown",
   "id": "41055ec8-8808-4f75-a0e3-a4181f4b85d3",
   "metadata": {
    "deletable": false
   },
   "source": [
    "Arrayen `x` i kodecellen over er det vi kaller en 1-dimensjonal array; den inneholder altså bare én rad med tall. I denne oppgaven skal vi bli kjent med 2-dimensjonale arrays, også kjent som ***matriser*** i matematikkens verden. Matriser er altså et rektangulært sett av elementer, ordnet i rekker og kolonner slik som eksempel-matrisen $A$ nedenfor:\n",
    "\n",
    "$$ A = \\begin{bmatrix} 3 & 2 & 1 \\\\ 2 & 3 & 2 \\\\ 1 & 2 & 3 \\end{bmatrix} $$\n",
    "\n",
    "Dersom vi skal lage en array som inneholder matrisen $A$, må vi lage en sekvens der hvert element er en ny sekvens: "
   ]
  },
  {
   "cell_type": "code",
   "execution_count": null,
   "id": "87100544-6e25-4146-ac2a-2ee3e2d85489",
   "metadata": {
    "deletable": false,
    "execution": {
     "iopub.execute_input": "2024-09-10T11:33:45.719860Z",
     "iopub.status.busy": "2024-09-10T11:33:45.719373Z",
     "iopub.status.idle": "2024-09-10T11:33:45.747596Z",
     "shell.execute_reply": "2024-09-10T11:33:45.745367Z"
    },
    "tags": []
   },
   "outputs": [],
   "source": [
    "A = np.array([[3, 2, 1], [2, 3, 2], [1, 2, 3]])\n",
    "A"
   ]
  },
  {
   "cell_type": "markdown",
   "id": "0b2e6ea5-0226-4aee-aebe-9b2c90d89a2e",
   "metadata": {
    "deletable": false
   },
   "source": [
    "Legg merke til at vi her har lister-i-lister grunnet doble lag med klammeparantes, og det ytterste \"laget\" representerer matrisens *rader*. I den første raden finner vi altså arrayen `[3, 2, 1]`, i den andre raden finner vi arrayen `[2, 3, 2]` og så videre. Som du ser kan det fort bli uoversiktlig når man skriver inn verdiene til matriser på denne måten, men heldigvis er det faktisk lov i Python å dele opp matrise-strukturen over flere linjer:"
   ]
  },
  {
   "cell_type": "code",
   "execution_count": null,
   "id": "bfc2d56a-98db-4b9a-afa6-00b2d5cc9c61",
   "metadata": {
    "deletable": false,
    "execution": {
     "iopub.execute_input": "2024-09-10T11:33:45.757476Z",
     "iopub.status.busy": "2024-09-10T11:33:45.756886Z",
     "iopub.status.idle": "2024-09-10T11:33:45.770226Z",
     "shell.execute_reply": "2024-09-10T11:33:45.767922Z"
    },
    "tags": []
   },
   "outputs": [],
   "source": [
    "A = np.array([[3, 2, 1], \n",
    "              [2, 3, 2], \n",
    "              [1, 2, 3]])\n",
    "A"
   ]
  },
  {
   "cell_type": "markdown",
   "id": "d332926b-6fe6-4e50-9805-a8e3311c31a7",
   "metadata": {
    "deletable": false
   },
   "source": [
    "Kodecellen ovenfor kjører altså helt uten feilmelding, og strukturen på deklarasjonen av variabelen `A` gjør det veldig tydelig at `A` inneholder en $3 \\times 3$ matrise, og hvilke tall som finnes i de ulike posisjonene i matrisa."
   ]
  },
  {
   "cell_type": "markdown",
   "id": "362afe7c-289a-41a5-8f28-70fbb0cf8e14",
   "metadata": {
    "deletable": false
   },
   "source": [
    "## a) \n",
    "\n",
    "Lag en variabel `B` som inneholder den følgende $3 \\times 4$ matrisen:\n",
    "\n",
    "$$ B = \\begin{bmatrix} 11 & 12 & 13 & 14 \\\\ 21 & 22 & 23 & 24 \\\\ 31 & 32 & 33 & 34 \\end{bmatrix} $$"
   ]
  },
  {
   "cell_type": "code",
   "execution_count": null,
   "id": "1762b968-0730-472e-80ed-4b74099063d5",
   "metadata": {
    "deletable": false,
    "editable": true,
    "execution": {
     "iopub.execute_input": "2024-09-10T11:33:45.780054Z",
     "iopub.status.busy": "2024-09-10T11:33:45.779443Z",
     "iopub.status.idle": "2024-09-10T11:33:45.793902Z",
     "shell.execute_reply": "2024-09-10T11:33:45.791517Z"
    },
    "nbgrader": {
     "cell_type": "code",
     "checksum": "dd22ffc7c83ac5ecc5ec79fb0a9f1fad",
     "grade": false,
     "grade_id": "cell-80e627c681ca9b01",
     "locked": false,
     "schema_version": 3,
     "solution": true,
     "task": false
    },
    "slideshow": {
     "slide_type": ""
    },
    "tags": []
   },
   "outputs": [],
   "source": [
    "#-------------------------------------\n",
    "# SKRIV DIN KODE HER!\n",
    "#-------------------------------------"
   ]
  },
  {
   "cell_type": "markdown",
   "id": "57970f50-ca34-4a2f-a6a7-3692bcb39e77",
   "metadata": {
    "deletable": false
   },
   "source": [
    "Under retting vil innholdet i variabelen `B` kontrolleres. Kjør cellen under for å verifisere at `B` eksisterer."
   ]
  },
  {
   "cell_type": "code",
   "execution_count": null,
   "id": "4b415039-645c-4773-92b4-6d95afc1802b",
   "metadata": {
    "autofeedback": {
     "test_code": "ZnJvbSBhdXRvZmVlZGJhY2sgaW1wb3J0IFZhcmlhYmxlVGVzdHMKaW1wb3J0IG51bXB5IGFzIG5wCgpCX3NvbHV0aW9uID0gbnAuYXJyYXkoW1sxMSwgMTIsIDEzLCAxNF0sCiAgICAgICAgICAgICAgICAgICAgICBbMjEsIDIyLCAyMywgMjRdLAogICAgICAgICAgICAgICAgICAgICAgWzMxLCAzMiwgMzMsIDM0XV0pCgp0ZXN0X3Jlc3VsdHMgPSBWYXJpYWJsZVRlc3RzKCkKaWYgaXNpbnN0YW5jZShCLCBucC5uZGFycmF5KToKICAgIHRlc3RfcmVzdWx0cy5hZGRfcmVzdWx0KFRydWUsICJ2YXJpYWJsZSAnQicgaXMgb2YgdHlwZSBudW1weSBhcnJheSIsIHdndCA9IDAuNSkKICAgIHRlc3RfcmVzdWx0cy5jb21wYXJlX3ZhbHVlcyhCLCBCX3NvbHV0aW9uLCBuYW1lPSJCIikKZWxzZToKICAgIHRlc3RfcmVzdWx0cy5hZGRfcmVzdWx0KEZhbHNlLCBmInZhcmlhYmxlICdCJyBpcyBvZiB0eXBlIHt0eXBlKEIpLl9fbmFtZV9ffSBhbmQgbm90IG51bXB5IGFycmF5IikKcm91bmQodGVzdF9yZXN1bHRzLmdldF9yZXN1bHRzKCkqMywgMik="
    },
    "deletable": false,
    "editable": false,
    "execution": {
     "iopub.execute_input": "2024-09-10T11:33:45.802793Z",
     "iopub.status.busy": "2024-09-10T11:33:45.802260Z",
     "iopub.status.idle": "2024-09-10T11:33:47.348614Z",
     "shell.execute_reply": "2024-09-10T11:33:47.346203Z"
    },
    "nbgrader": {
     "cell_type": "code",
     "checksum": "2ccf68aba16a7122942854879b1cc168",
     "grade": true,
     "grade_id": "cell-2298fafe88c51cac",
     "locked": true,
     "points": 3,
     "schema_version": 3,
     "solution": false,
     "task": false
    },
    "slideshow": {
     "slide_type": ""
    },
    "tags": []
   },
   "outputs": [],
   "source": [
    "B"
   ]
  },
  {
   "cell_type": "markdown",
   "id": "d64fafe8-72b5-4866-aaac-ef19bfc8656b",
   "metadata": {
    "deletable": false
   },
   "source": [
    "### Indeksering\n",
    "\n",
    "Med 2-dimensjonale arrays (aka. matriser) må vi indeksere først etter rad og så kolonne: `A[row, column]`. Det er også viktig å bemerke at den første raden og første kolonnen har indeksverid lik `0` og ikke `1` . Dette betyr at dersom oppgave **a)** er løst riktig så skal f.eks. `B[0, 0]` ha verdien `11`, og `B[2, 1]` ha verdien `32`.\n",
    "\n",
    "*Merk: denne syntaksen er spesiell for numpy, for å tillate slicing av matriser. Arbeider du med 2-dimensjonale lister må du indeksere rader og indekser separat:* `A[row][column]`\n",
    "\n",
    "## b) \n",
    "\n",
    "Bruk ***indeksering*** til å endre verdien på tallene $32$, $23$ og $22$ i matrisen `B` fra deloppgave **a)** til $-1$."
   ]
  },
  {
   "cell_type": "code",
   "execution_count": null,
   "id": "bb224106-22e6-4206-a3b3-a1202664a4a5",
   "metadata": {
    "deletable": false,
    "editable": true,
    "execution": {
     "iopub.execute_input": "2024-09-10T11:33:47.357317Z",
     "iopub.status.busy": "2024-09-10T11:33:47.356667Z",
     "iopub.status.idle": "2024-09-10T11:33:47.366450Z",
     "shell.execute_reply": "2024-09-10T11:33:47.363892Z"
    },
    "nbgrader": {
     "cell_type": "code",
     "checksum": "cbc645aa91ebe684295e601a5ded8726",
     "grade": false,
     "grade_id": "cell-f9a682ab0e42d07c",
     "locked": false,
     "schema_version": 3,
     "solution": true,
     "task": false
    },
    "slideshow": {
     "slide_type": ""
    },
    "tags": []
   },
   "outputs": [],
   "source": [
    "#-------------------------------------\n",
    "# SKRIV DIN KODE HER!\n",
    "#-------------------------------------"
   ]
  },
  {
   "cell_type": "code",
   "execution_count": null,
   "id": "3e429241-4205-46ce-af0e-63a0f759bd41",
   "metadata": {
    "autofeedback": {
     "test_code": "ZnJvbSBhdXRvZmVlZGJhY2sgaW1wb3J0IFZhcmlhYmxlVGVzdHMKaW1wb3J0IG51bXB5IGFzIG5wCgpCX3NvbHV0aW9uID0gbnAuYXJyYXkoW1sxMSwgMTIsIDEzLCAxNF0sCiAgICAgICAgICAgICAgICAgICBbMjEsIC0xLCAtMSwgMjRdLAogICAgICAgICAgICAgICAgICAgWzMxLCAtMSwgMzMsIDM0XV0pCgp0ZXN0X3Jlc3VsdHMgPSBWYXJpYWJsZVRlc3RzKCkKaWYgJ0InIGluIGdsb2JhbHMoKToKICAgIGlmIGlzaW5zdGFuY2UoQiwgbnAubmRhcnJheSk6CiAgICAgICAgdGVzdF9yZXN1bHRzLmNvbXBhcmVfdmFsdWVzKEIsIEJfc29sdXRpb24sIG5hbWU9IkIiKQogICAgZWxzZToKICAgICAgICB0ZXN0X3Jlc3VsdHMuYWRkX3Jlc3VsdChGYWxzZSwgZiJ2YXJpYWJsZSAnQicgaXMgb2YgdHlwZSB7dHlwZShCKS5fX25hbWVfX30gYW5kIG5vdCBudW1weSBhcnJheSIpCmVsc2U6CiAgICB0ZXN0X3Jlc3VsdHMuYWRkX3Jlc3VsdChGYWxzZSwgIk5vIHZhcmlhYmxlICdCJyBkZWNsYXJlZC4iKQpyb3VuZCh0ZXN0X3Jlc3VsdHMuZ2V0X3Jlc3VsdHMoKSo0LCAyKQ=="
    },
    "deletable": false,
    "editable": false,
    "execution": {
     "iopub.execute_input": "2024-09-10T11:33:47.375118Z",
     "iopub.status.busy": "2024-09-10T11:33:47.374672Z",
     "iopub.status.idle": "2024-09-10T11:33:47.392515Z",
     "shell.execute_reply": "2024-09-10T11:33:47.390391Z"
    },
    "nbgrader": {
     "cell_type": "code",
     "checksum": "dfe0c265b4dda0e3985a220adaccfde7",
     "grade": true,
     "grade_id": "cell-3873a57ad71da78d",
     "locked": true,
     "points": 4,
     "schema_version": 3,
     "solution": false,
     "task": false
    },
    "slideshow": {
     "slide_type": ""
    },
    "tags": []
   },
   "outputs": [],
   "source": []
  },
  {
   "cell_type": "markdown",
   "id": "45cfbb0d-fc83-4b48-89ab-69a6b72d7353",
   "metadata": {
    "deletable": false
   },
   "source": [
    "## Slicing\n",
    "\n",
    "Som med vanlige 1D-arrays er det også mulig å bruke *slicing* for å hente ut mange element på en gang. Forskjellen er at for en matrise må vi spesifisere en slice for både rad-dimensjonen *og* kolonne-dimensjonen. Slicing av matriser kan utføres på følgende vis:\n",
    "```Python\n",
    "A[rad_start:rad_stopp:rad_steg, kol_start:kol_stopp:kol_steg]\n",
    "```\n",
    "Indekseringen over vil plukke ut rad nr. `rad_start`, `rad_start` + `rad_steg`, osv.. helt frem til `rad_stopp`. Fra disse radene vil det da plukkes ut element nr. `kol_start`, `kol_start` + `kol_steg`, osv.. helt frem til `kol_stopp`. Hvis du synes dette ble hårete, er det heldigvis sjelden man trenger å ta i bruk alle disse mulighetene. Noen svært vanlige slicing-operasjoner med matriser er å *hente ut en hel rad*, og *hente ut en hel kolonne*.\n",
    "\n",
    "**Eksempel: indeksering kolonne nr. `1`:** \n",
    ">```Python\n",
    ">A[:,1]\n",
    ">```\n",
    "\n",
    "## c) \n",
    "\n",
    "Bruk ***slicing*** til å sette alle elementene i den første raden til matrisen `B` i deloppgave **a)** til `0`."
   ]
  },
  {
   "cell_type": "code",
   "execution_count": null,
   "id": "26c7043c-b387-452b-87e2-3b83f7f184fc",
   "metadata": {
    "deletable": false,
    "execution": {
     "iopub.execute_input": "2024-09-10T11:33:47.401001Z",
     "iopub.status.busy": "2024-09-10T11:33:47.400427Z",
     "iopub.status.idle": "2024-09-10T11:33:47.450948Z",
     "shell.execute_reply": "2024-09-10T11:33:47.448200Z"
    },
    "nbgrader": {
     "cell_type": "code",
     "checksum": "076171062f9e2715c824749585fb030d",
     "grade": false,
     "grade_id": "cell-027441c1a509e4f0",
     "locked": false,
     "schema_version": 3,
     "solution": true,
     "task": false
    }
   },
   "outputs": [],
   "source": [
    "#-------------------------------------\n",
    "# SKRIV DIN KODE HER!\n",
    "#-------------------------------------\n",
    "B"
   ]
  },
  {
   "cell_type": "code",
   "execution_count": null,
   "id": "229d1d42-6567-4568-bb1c-ce3ffda2dbc4",
   "metadata": {
    "autofeedback": {
     "test_code": "ZnJvbSBhdXRvZmVlZGJhY2sgaW1wb3J0IFZhcmlhYmxlVGVzdHMKaW1wb3J0IG51bXB5IGFzIG5wCgpCX3NvbHV0aW9uID0gbnAuYXJyYXkoW1sgMCwgIDAsICAwLCAgMF0sCiAgICAgICAgICAgICAgICAgICAgICAgWzIxLCAtMSwgLTEsIDI0XSwKICAgICAgICAgICAgICAgICAgICAgICBbMzEsIC0xLCAzMywgMzRdXSkKCnRlc3RfcmVzdWx0cyA9IFZhcmlhYmxlVGVzdHMoKQppZiAnQicgaW4gZ2xvYmFscygpOgogICAgaWYgaXNpbnN0YW5jZShCLCBucC5uZGFycmF5KToKICAgICAgICB0ZXN0X3Jlc3VsdHMuY29tcGFyZV92YWx1ZXMoQiwgQl9zb2x1dGlvbikKICAgIGVsc2U6CiAgICAgICAgdGVzdF9yZXN1bHRzLmFkZF9yZXN1bHQoRmFsc2UsIGYidmFyaWFibGUgJ0InIGlzIG9mIHR5cGUge3R5cGUoQikuX19uYW1lX199IGFuZCBub3QgbnVtcHkgYXJyYXkiKQplbHNlOgogICAgdGVzdF9yZXN1bHRzLmFkZF9yZXN1bHQoRmFsc2UsICJObyB2YXJpYWJsZSAnQicgZGVjbGFyZWQuIikKcm91bmQodGVzdF9yZXN1bHRzLmdldF9yZXN1bHRzKCkqMywgMik="
    },
    "deletable": false,
    "editable": false,
    "execution": {
     "iopub.execute_input": "2024-09-10T11:33:47.462077Z",
     "iopub.status.busy": "2024-09-10T11:33:47.459984Z",
     "iopub.status.idle": "2024-09-10T11:33:47.485345Z",
     "shell.execute_reply": "2024-09-10T11:33:47.482999Z"
    },
    "nbgrader": {
     "cell_type": "code",
     "checksum": "9ecc8192a532e186479b4c374018e25d",
     "grade": true,
     "grade_id": "cell-5ae5989a355707e1",
     "locked": true,
     "points": 3,
     "schema_version": 3,
     "solution": false,
     "task": false
    },
    "slideshow": {
     "slide_type": ""
    },
    "tags": []
   },
   "outputs": [],
   "source": []
  },
  {
   "cell_type": "markdown",
   "id": "1be39fe2",
   "metadata": {
    "deletable": false,
    "editable": false
   },
   "source": [
    "<br>\n",
    "<nav class=\"navbar navbar-default\">\n",
    "        <div class=\"container-fluid\">\n",
    "            <div class=\"navbar-header\" style=\"float: left\">\n",
    "                <a class=\"navbar-brand\" href=\"4_betingede_funksjoner_arrays.ipynb\" target=\"_self\">&lt; Forrige side: <i>elementvise operasjoner med løkker</i></a>\n",
    "                </div>\n",
    "            <div class=\"navbar-header\" style=\"float: right\">\n",
    "                <a class=\"navbar-brand\" href=\"6_matriser_og_lokker.ipynb\" target=\"_self\">Neste side: <i>matriser og for-løkker</i> &gt;</a>\n",
    "            </div>\n",
    "        </div>\n",
    "</nav>"
   ]
  }
 ],
 "metadata": {
  "kernelspec": {
   "display_name": "Python 3 (ipykernel)",
   "language": "python",
   "name": "python3"
  },
  "language_info": {
   "codemirror_mode": {
    "name": "ipython",
    "version": 3
   },
   "file_extension": ".py",
   "mimetype": "text/x-python",
   "name": "python",
   "nbconvert_exporter": "python",
   "pygments_lexer": "ipython3",
   "version": "3.11.6"
  }
 },
 "nbformat": 4,
 "nbformat_minor": 5
}
