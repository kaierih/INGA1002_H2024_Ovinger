{
 "cells": [
  {
   "cell_type": "markdown",
   "id": "597d4f91",
   "metadata": {
    "deletable": false,
    "editable": false
   },
   "source": [
    "\n",
    "<nav class=\"navbar navbar-default\">\n",
    "  <div class=\"container-fluid\">\n",
    "    <div class=\"navbar-header\" style=\"float: left\">\n",
    "        <a class=\"navbar-brand\" href=\"0_Forside.ipynb\" target=\"_self\"> <h2> &uarr; Tilbake til forsiden</h2></a>\n",
    "    </div>\n",
    "  </div>\n",
    "</nav>"
   ]
  },
  {
   "cell_type": "markdown",
   "id": "quantitative-retrieval",
   "metadata": {
    "deletable": false,
    "editable": true,
    "slideshow": {
     "slide_type": ""
    },
    "tags": []
   },
   "source": [
    "# Betingede funksjoner med arrays\n",
    "\n",
    "**Læringsmål:**\n",
    "\n",
    "- Betingelser\n",
    "- For-løkker\n",
    "- Funksjoner\n",
    "- Elementvise operasjoner med arrays/lister\n",
    "\n",
    "### Oppsummering betingede funksjoner\n",
    "\n",
    "I øving 3 så vi på bruk av if-setinger til å regne på betingede funksjoner (som f.eks. `abs(x)`). I denne oppgaven skal vi se nærmere på bruk av beslutninger på alle elementene i en array.\n",
    "\n",
    "Først importerer vi biblioteket, `numpy` som vi kommer til å benytte til matematiske beregninger i denne oppgaven. "
   ]
  },
  {
   "cell_type": "code",
   "execution_count": null,
   "id": "divided-boston",
   "metadata": {
    "deletable": false,
    "execution": {
     "iopub.execute_input": "2024-09-10T11:33:39.244628Z",
     "iopub.status.busy": "2024-09-10T11:33:39.240977Z",
     "iopub.status.idle": "2024-09-10T11:33:39.579252Z",
     "shell.execute_reply": "2024-09-10T11:33:39.576198Z"
    }
   },
   "outputs": [],
   "source": [
    "import numpy as np"
   ]
  },
  {
   "cell_type": "markdown",
   "id": "stretch-mexican",
   "metadata": {
    "deletable": false,
    "editable": true,
    "slideshow": {
     "slide_type": ""
    },
    "tags": []
   },
   "source": [
    "I den matematiske verden er det en rekke funksjoner som har ulike funksjonsuttrykk for ulike input-verdier. Den naturlige logaritmen $ln(x)$ er definert for alle reelle verdier større enn 0. Dette kan skrives som følger:\n",
    "\n",
    "$ g(x) = \\begin{cases} \\ln(x), \\text{ if } x > 0\\\\ \\text{undef.}, \\text{ if } x \\leqslant 0 \\end{cases}$\n",
    "\n",
    "I Python kan vi håndtere dette ved å undersøke hvilken input som gis til funksjonen, og returnere den riktige verdien, slik det er gjort i eksempelet nedenfor."
   ]
  },
  {
   "cell_type": "code",
   "execution_count": null,
   "id": "comprehensive-queue",
   "metadata": {
    "deletable": false,
    "execution": {
     "iopub.execute_input": "2024-09-10T11:33:39.588532Z",
     "iopub.status.busy": "2024-09-10T11:33:39.587979Z",
     "iopub.status.idle": "2024-09-10T11:33:39.599415Z",
     "shell.execute_reply": "2024-09-10T11:33:39.596400Z"
    }
   },
   "outputs": [],
   "source": [
    "def g(x):\n",
    "    if x <= 0:\n",
    "        return float(\"NaN\") # NaN står for \"Not A Number\", og brukes når resultatet av en utregning er et tall som ikke eksisteres.\n",
    "    return np.log(x)"
   ]
  },
  {
   "cell_type": "code",
   "execution_count": null,
   "id": "freelance-invitation",
   "metadata": {
    "deletable": false,
    "execution": {
     "iopub.execute_input": "2024-09-10T11:33:39.608423Z",
     "iopub.status.busy": "2024-09-10T11:33:39.607780Z",
     "iopub.status.idle": "2024-09-10T11:33:39.649439Z",
     "shell.execute_reply": "2024-09-10T11:33:39.646143Z"
    }
   },
   "outputs": [],
   "source": [
    "# Dersom vi gir en negativ verdi som input, forventer vi tom output\n",
    "g(-2)"
   ]
  },
  {
   "cell_type": "code",
   "execution_count": null,
   "id": "turkish-daughter",
   "metadata": {
    "deletable": false,
    "execution": {
     "iopub.execute_input": "2024-09-10T11:33:39.659483Z",
     "iopub.status.busy": "2024-09-10T11:33:39.658657Z",
     "iopub.status.idle": "2024-09-10T11:33:39.674761Z",
     "shell.execute_reply": "2024-09-10T11:33:39.671900Z"
    }
   },
   "outputs": [],
   "source": [
    "# Dersom vi gir en positiv verdi, forventer vi at denne skal være lik den naturlige logaritmen som output\n",
    "g(np.e)"
   ]
  },
  {
   "cell_type": "markdown",
   "id": "513f6417-d8f4-4933-9fc3-2a81a480a486",
   "metadata": {
    "deletable": false,
    "editable": true,
    "slideshow": {
     "slide_type": ""
    },
    "tags": []
   },
   "source": [
    "### Betingede funksjoner med array som input\n",
    "\n",
    "Som kjent er **if**-setninger dårlig egnet til å håndtere arrays, og dersom vi ønsker å regne ut $f(x)$ for alle verdiene i en array må vi benytte en løkke. Nedenfor modifiserer vi funksjonen $f(x)$ slik at den kan brukes med arrays som input.\n",
    "\n",
    "<!--*PS: koden* `: np.ndarray` *i første linjen er det vi kaller et [type hint](https://www.geeksforgeeks.org/type-hints-in-python/), og der for å fortelle hva slags data som skal sendes til funksjonen `g(x)`. Når man programmerer matematiske uttrykk i python, kan dette være et svært nyttig verktøy for å oppklare hva funksjonen gjør.*-->"
   ]
  },
  {
   "cell_type": "code",
   "execution_count": null,
   "id": "194ab27b-8646-4eaf-ba5d-3c303a7cc5ba",
   "metadata": {
    "deletable": false,
    "execution": {
     "iopub.execute_input": "2024-09-10T11:33:39.684529Z",
     "iopub.status.busy": "2024-09-10T11:33:39.683775Z",
     "iopub.status.idle": "2024-09-10T11:33:39.696777Z",
     "shell.execute_reply": "2024-09-10T11:33:39.693812Z"
    },
    "tags": []
   },
   "outputs": [],
   "source": [
    "def g(x_array):\n",
    "    y_list = []  # Forbered en tom liste som skal holde alle verdiene y = f(x)\n",
    "    for x in x_array:\n",
    "        if x <= 0:\n",
    "            y = float(\"NaN\")\n",
    "        else:\n",
    "            y = np.log(x)\n",
    "        y_list.append(y)\n",
    "    return np.array(y_list)"
   ]
  },
  {
   "cell_type": "markdown",
   "id": "b2ea6de2-5984-4e65-af5a-4a2e29582953",
   "metadata": {
    "deletable": false,
    "editable": true,
    "slideshow": {
     "slide_type": ""
    },
    "tags": []
   },
   "source": [
    "Forklaringen av funksjonens innhold er som følger:\n",
    "1. Lag en \"tom\" liste `y_list`. Denne skal etter hvert inneholde funksjonsverdiene $f(x)$ for alle verdiene i `x_array` når løkken er ferdig.\n",
    "    * Vi bruker en liste og ikke en array for å kunne dra nytte av muligheten til å legge til elementer underveis.\n",
    "3. Begynn en for-løkke som itererer over alle elementer i arrayen `x_array`. \n",
    "    * For hver av verdiene `x`, finner vi den riktige utgangsverdien `y` med samme if-setning som tidligere.\n",
    "    * Vi skal dog ikke returnere utregnede verdier `y`, men istedenfor skrive de til listen vi lagde i steg 1.\n",
    "4. Returner til slutt hele listen `y_list` konvertert til en numpy-array."
   ]
  },
  {
   "cell_type": "markdown",
   "id": "biological-lingerie",
   "metadata": {
    "deletable": false,
    "editable": true,
    "slideshow": {
     "slide_type": ""
    },
    "tags": []
   },
   "source": [
    "## a)\n",
    "\n",
    "Det er fortsatt en dårlig idé å dele på 0 i matematikken. I denne oppgaven skal du implementere en funksjon som genererer riktig output for den matematiske funksjonen $f(x)$ for alle verdier av $x$, der $f(x) = 1$ når $x = 0$:\n",
    "\n",
    "$$f(x) = \\frac{\\sin(x)}{x}$$\n"
   ]
  },
  {
   "cell_type": "code",
   "execution_count": null,
   "id": "viral-objective",
   "metadata": {
    "deletable": false,
    "execution": {
     "iopub.execute_input": "2024-09-10T11:33:39.707240Z",
     "iopub.status.busy": "2024-09-10T11:33:39.706453Z",
     "iopub.status.idle": "2024-09-10T11:33:39.749651Z",
     "shell.execute_reply": "2024-09-10T11:33:39.746791Z"
    },
    "nbgrader": {
     "cell_type": "code",
     "checksum": "40d142075618b7da616237770ee7ab72",
     "grade": false,
     "grade_id": "cell-67ce8f1e8adfa620",
     "locked": false,
     "schema_version": 3,
     "solution": true,
     "task": false
    }
   },
   "outputs": [],
   "source": [
    "def f(x_array):\n",
    "    #-------------------------------------\n",
    "    # SKRIV DIN KODE HER!\n",
    "    #-------------------------------------"
   ]
  },
  {
   "cell_type": "markdown",
   "id": "1bc0c1ff-5e1e-473d-9f94-7895ceda079e",
   "metadata": {
    "deletable": false,
    "tags": []
   },
   "source": [
    "Vi kan teste ut funksjonen med et par ulike arrays som input:"
   ]
  },
  {
   "cell_type": "code",
   "execution_count": null,
   "id": "7e718547-ffbe-4a17-8ad7-d726aadb55bc",
   "metadata": {
    "autofeedback": {
     "test_code": "ZnJvbSBhdXRvZmVlZGJhY2sgaW1wb3J0IEZ1bmN0aW9uVGVzdHMKZnJvbSByYW5kb20gaW1wb3J0IHNhbXBsZQpmcm9tIG51bXB5IGltcG9ydCBhcmFuZ2UKCgpkZWYgZl9zb2x1dGlvbih4KToKICAgIHkgPSBucC56ZXJvcyhsZW4oeCkpCiAgICBmb3IgaSBpbiByYW5nZShsZW4oeCkpOgogICAgICAgIGlmIHhbaV0gPT0gMDoKICAgICAgICAgICAgeVtpXSA9IDEuMAogICAgICAgIGVsc2U6CiAgICAgICAgICAgIHlbaV0gPSBucC5zaW4oeFtpXSkveFtpXQogICAgcmV0dXJuIHkKCmdyYWRpbmdfcmVzdWx0cyA9IEZ1bmN0aW9uVGVzdHMoZl9zb2x1dGlvbikKdHJ5OgogICAgZ3JhZGluZ19yZXN1bHRzLmFkZF90ZXN0X2Z1bmMoZikKZXhjZXB0IEV4Y2VwdGlvbiBhcyBlOgogICAgZ3JhZGluZ19yZXN1bHRzLmxvZy5hcHBlbmQoIkNvdWxkIG5vdCBydW4gdGVzdHMsICIrZS5hcmdzWzBdKQplbHNlOgogICAgTiA9IDMKICAgIGFfdmFscyA9IHNhbXBsZShsaXN0KHJhbmdlKC0xMCwgMCkpLCBOKQogICAgYl92YWxzID0gc2FtcGxlKGxpc3QocmFuZ2UoMSwgMTEpKSwgTikKCiAgICAjIFRlc3Qgbm9uLXByaW1lcwogICAgZm9yIGEsIGIgaW4gemlwKGFfdmFscywgYl92YWxzKToKICAgICAgICBncmFkaW5nX3Jlc3VsdHMudGVzdF9yZXR1cm5fdmFsdWUoYXJhbmdlKGEsIGIrMSkpCgpyb3VuZChncmFkaW5nX3Jlc3VsdHMuZ2V0X3Jlc3VsdHMoKSo1LCAzKQ=="
    },
    "deletable": false,
    "editable": false,
    "execution": {
     "iopub.execute_input": "2024-09-10T11:33:39.759924Z",
     "iopub.status.busy": "2024-09-10T11:33:39.759139Z",
     "iopub.status.idle": "2024-09-10T11:33:41.214225Z",
     "shell.execute_reply": "2024-09-10T11:33:41.211794Z"
    },
    "nbgrader": {
     "cell_type": "code",
     "checksum": "419f73949919750daf0174992ae5a3e5",
     "grade": true,
     "grade_id": "cell-881830fb2d9143f4",
     "locked": true,
     "points": 5,
     "schema_version": 3,
     "solution": false,
     "task": false
    },
    "slideshow": {
     "slide_type": ""
    },
    "tags": []
   },
   "outputs": [],
   "source": [
    "testArray1 = np.array([-1, 0, 1])\n",
    "print(f\"f({testArray1}) = {f(testArray1)}\")\n",
    "testArray2 = np.arange(-5,6,4)\n",
    "print(f\"f({testArray2}) = {f(testArray2)}\")\n",
    "# Denne cellen brukes under retting. La stå!"
   ]
  },
  {
   "cell_type": "markdown",
   "id": "5f3992e0-fdab-4d11-a355-4b448c8d02de",
   "metadata": {
    "deletable": false
   },
   "source": [
    "Har du løst oppgaven riktig skal utskriften være:\\\n",
    "`f([-1  0  1]) = [0.84147098 1.         0.84147098]`\\\n",
    "`f([-5 -1  3]) = [-0.19178485  0.84147098  0.04704   ]`"
   ]
  },
  {
   "cell_type": "markdown",
   "id": "focused-secondary",
   "metadata": {
    "deletable": false
   },
   "source": [
    "## b)\n",
    "\n",
    "#### Beregning av en fallskjermhoppers hastighet\n",
    "\n",
    "I denne oppgaven skal det implementeres en funksjon for å returnere hastigheten til en fallskjermhopper før fallskjermen utløses som en funksjon av hvor lenge det er siden hopperen forlot flyet. Vi antar at det er to tilfeller:\n",
    "\n",
    "1. Perioden før hopperen når sin terminalfart\n",
    "2. Perioden når hopperen beveger seg i terminalfart\n",
    "\n",
    "**Perioden før terminalfart:**\n",
    "Ved $t=0$ antar vi at farten er 0. Deretter er det en lineær sammenheng mellom tiden og hastigheten, denne sammenhengen er gitt ved forenklede ligningen:\n",
    "\n",
    "$ v(t) = t \\cdot g$\n",
    "\n",
    "Der $g \\approx 9.81$ er tyngdeakselerasjonen og $t$ er tiden siden hoppet startet.\n",
    "\n",
    "**Perioden etter terminalhastighet er oppnådd:**\n",
    "For enkelhets skyld antar vi at alle hoppere, uavhengig av vekt, oppnår terminalhastighet etter like lang tid, nemlig etter $t=10$. Hastigheten til hopperen etter dette er tidsuavhengig, og er gitt ved ligningen:\n",
    "\n",
    "$v_{terminal} = 10 \\cdot g$\n",
    "\n",
    "Du skal skrive en funksjon som tar inn en array med tidspunkt, og returnerer hastigheten til hopperen på de ulike tidspunktene.\n",
    "\n",
    "**Skriv koden din her:**"
   ]
  },
  {
   "cell_type": "code",
   "execution_count": null,
   "id": "altered-symphony",
   "metadata": {
    "deletable": false,
    "execution": {
     "iopub.execute_input": "2024-09-10T11:33:41.224785Z",
     "iopub.status.busy": "2024-09-10T11:33:41.223250Z",
     "iopub.status.idle": "2024-09-10T11:33:41.250379Z",
     "shell.execute_reply": "2024-09-10T11:33:41.246991Z"
    },
    "nbgrader": {
     "cell_type": "code",
     "checksum": "bc05ec8fc197ee1699976a4ef826d6dc",
     "grade": false,
     "grade_id": "cell-edacc9ae90a1005a",
     "locked": false,
     "schema_version": 3,
     "solution": true,
     "task": false
    }
   },
   "outputs": [],
   "source": [
    "def hastighet(tid):\n",
    "    #-------------------------------------\n",
    "    # SKRIV DIN KODE HER!\n",
    "    #-------------------------------------"
   ]
  },
  {
   "cell_type": "markdown",
   "id": "leading-depth",
   "metadata": {
    "deletable": false
   },
   "source": [
    "Vi kan lage et plot av hastighet over tid for å sjekke at funksjonen fungerer slik den skal:"
   ]
  },
  {
   "cell_type": "code",
   "execution_count": null,
   "id": "portable-serum",
   "metadata": {
    "autofeedback": {
     "test_code": "ZnJvbSBhdXRvZmVlZGJhY2sgaW1wb3J0IEZ1bmN0aW9uVGVzdHMKZnJvbSByYW5kb20gaW1wb3J0IHNhbXBsZQpmcm9tIG51bXB5IGltcG9ydCBsaW5zcGFjZQoKZGVmIGhhc3RpZ2hldF9zb2x1dGlvbih0aWQpOgogICAgZyA9IDkuODEKICAgIHkgPSBucC56ZXJvcyhsZW4odGlkKSkKICAgIGZvciBpIGluIHJhbmdlKGxlbih0aWQpKToKICAgICAgICBpZiB0aWRbaV0gPj0gMTA6CiAgICAgICAgICAgIHlbaV0gPSAxMCpnCiAgICAgICAgZWxzZToKICAgICAgICAgICAgeVtpXSA9IHRpZFtpXSpnCiAgICByZXR1cm4geQoKZ3JhZGluZ19yZXN1bHRzID0gRnVuY3Rpb25UZXN0cyhoYXN0aWdoZXRfc29sdXRpb24pCnRyeToKICAgIGdyYWRpbmdfcmVzdWx0cy5hZGRfdGVzdF9mdW5jKGhhc3RpZ2hldCkKZXhjZXB0IEV4Y2VwdGlvbiBhcyBlOgogICAgZ3JhZGluZ19yZXN1bHRzLmxvZy5hcHBlbmQoIkNvdWxkIG5vdCBydW4gdGVzdHMsICIrZS5hcmdzWzBdKQplbHNlOgogICAgTiA9IDMKICAgIFRfdmFscyA9IHNhbXBsZShsaXN0KHJhbmdlKDEyLCAzMCkpLCBOKQogICAgcmVzX3ZhbHMgPSBzYW1wbGUobGlzdChyYW5nZSg0MCwgMTEwLCAxMCkpLCBOKQoKICAgICMgVGVzdCBub24tcHJpbWVzCiAgICBmb3IgVCwgcmVzIGluIHppcChUX3ZhbHMsIHJlc192YWxzKToKICAgICAgICBncmFkaW5nX3Jlc3VsdHMudGVzdF9yZXR1cm5fdmFsdWUobGluc3BhY2UoMCwgVCwgcmVzKSkKCnJvdW5kKGdyYWRpbmdfcmVzdWx0cy5nZXRfcmVzdWx0cygpKjUsIDMp"
    },
    "deletable": false,
    "editable": false,
    "execution": {
     "iopub.execute_input": "2024-09-10T11:33:41.262984Z",
     "iopub.status.busy": "2024-09-10T11:33:41.261779Z",
     "iopub.status.idle": "2024-09-10T11:33:42.223437Z",
     "shell.execute_reply": "2024-09-10T11:33:42.221308Z"
    },
    "nbgrader": {
     "cell_type": "code",
     "checksum": "5118b9c737c03474be5319c15a721a25",
     "grade": true,
     "grade_id": "cell-429d9839ffba84c9",
     "locked": true,
     "points": 5,
     "schema_version": 3,
     "solution": false,
     "task": false
    },
    "tags": []
   },
   "outputs": [],
   "source": [
    "t = np.linspace(0, 20, 501)\n",
    "import matplotlib.pyplot as plt\n",
    "plt.plot(t, hastighet(t))\n",
    "plt.xlabel(\"Tid (sekund)\")\n",
    "plt.ylabel(\"Hastighet (m/s)\")\n",
    "plt.grid(True)"
   ]
  },
  {
   "cell_type": "markdown",
   "id": "977ee815",
   "metadata": {
    "deletable": false,
    "editable": true,
    "slideshow": {
     "slide_type": ""
    },
    "tags": []
   },
   "source": [
    "[her](Figurer/fallskjermhopper.png) kan du se hvordan plottet skal se ut."
   ]
  },
  {
   "cell_type": "markdown",
   "id": "43176baf-316b-4dd0-ac90-3603dcdd4bf9",
   "metadata": {
    "deletable": false
   },
   "source": [
    "### Noen refleksjoner rundt lesbar kode og matematikk\n",
    "\n",
    "Når man skriver python-kode som utfører en matematisk beregning, er det veldig vanlig å bruke matematisk notasjon for variabelnavn/funksjonsnavn. Selv om dette gir mening rent faglig, kan det gjøre koden vanskelig å få oversikt over, da det er litt mindre selvforklarende hva en funksjon skal gjøre. Heldigvis finnes det noen ting vi kan gjøre for å rette opp i dette.\n",
    "\n",
    "#### [Type Hints:](https://www.geeksforgeeks.org/type-hints-in-python/)\n",
    "Når vi skriver en funksjonsbeskrivelse er det mulig å spesifisere hvilken datatype funksjonen forventer som input, og hva som returneres. For eksempel, kan en funksjon `f` som fegner ut $\\frac{\\sin(x)}{x}$ slik som i deloppgave **a)** startes med:\n",
    "```Python\n",
    "def f(x: np.ndarray) -> np.ndarray:\n",
    "```\n",
    "Her sier vi at funksjonen `f` tar inn én parameter `x`, og forventer at `x` er av typen [`np.ndarray`](https://numpy.org/doc/stable/reference/generated/numpy.ndarray.html) (vanlig numpy-array) basert på den påfølgende koden `: np.ndarray`. Videre forteller vi også at *returverdien* fra funksjonen også er en array med koden `-> np.ndarray`. På denne måten vil noen som ser funksjonsbeskrivelsen av `f` lett kunne se at for å bruke funksjonen riktig må de sende en array som input, og behandle returverdien de får tilbake som en array.\n",
    "\n",
    "#### [Docstrings:](https://www.geeksforgeeks.org/python-docstrings/)\n",
    "Dersom vi lager en streng med triple hermetegn, kan den brukes som en *dokumentasjon* for en funksjon. Her kan man fortelle med ord hva det er funksjonen gjør:\n",
    "\n",
    "```Python\n",
    "def f(x: np.ndarray) -> np.ndarray:\n",
    "    \"\"\"\n",
    "    Regner ut funksjonen f(x) = sin(x)/x, og bruker kjente grenseverdier for å\n",
    "    evaluere spesialtilfellet sin(0)/0 som 1.\n",
    "\n",
    "    Parametre:\n",
    "    x - en array med tallverdier\n",
    "\n",
    "    Returnerer:\n",
    "    y - en array med funksjonsverdier f(x) for input-verdiene gitt i x\n",
    "    \"\"\"\n",
    "    # Selve funksjonskoden kommer her!\n",
    "    return y\n",
    "```\n",
    "\n",
    "Det som er gunstig med å skrive funksjoner på denne måten, er at dersom man senere skal bruke funskjonen `f`, kan man hente opp dokumentasjonen (ved å trykke  `shift` + `tab` på windows), og da vil man få opp dokumentasjonen som er skrevet i for funksjonen i et lite popup-vindu (nøyaktig funksjonalitet vil avhenge litt av programmeringsmiljø). Prøv ut eksempelet nedenfor:"
   ]
  },
  {
   "cell_type": "code",
   "execution_count": null,
   "id": "a01b446c-7617-483b-8155-4565300a22a2",
   "metadata": {
    "deletable": false,
    "execution": {
     "iopub.execute_input": "2024-09-10T11:33:42.232020Z",
     "iopub.status.busy": "2024-09-10T11:33:42.231488Z",
     "iopub.status.idle": "2024-09-10T11:33:42.249168Z",
     "shell.execute_reply": "2024-09-10T11:33:42.247227Z"
    }
   },
   "outputs": [],
   "source": [
    "def f(x: np.ndarray) -> np.ndarray:\n",
    "    \"\"\"\n",
    "    Regner ut funksjonen f(x) = sin(x)/x, og bruker kjente grenseverdier for å\n",
    "    evaluere spesialtilfellet sin(0)/0 som 1.\n",
    "\n",
    "    Parametre:\n",
    "    x - en array med tallverdier\n",
    "\n",
    "    Returnerer:\n",
    "    y - en array med funksjonsverdier f(x) for input-verdiene gitt i x\n",
    "    \"\"\"\n",
    "    # Selve funksjonskoden kommer her!\n",
    "    return y\n",
    "f # Kjør ellen, så sett musemarkøren på funksjonsnavnet og trykk shift+tab!"
   ]
  },
  {
   "cell_type": "markdown",
   "id": "bbfc4680",
   "metadata": {
    "deletable": false,
    "editable": false
   },
   "source": [
    "<br>\n",
    "<nav class=\"navbar navbar-default\">\n",
    "        <div class=\"container-fluid\">\n",
    "            <div class=\"navbar-header\" style=\"float: left\">\n",
    "                <a class=\"navbar-brand\" href=\"3_Nedbetaling_av_laan.ipynb\" target=\"_self\">&lt; Forrige side: <i>nedbetaling av lån</i></a>\n",
    "                </div>\n",
    "            <div class=\"navbar-header\" style=\"float: right\">\n",
    "                <a class=\"navbar-brand\" href=\"5_matriser_intro.ipynb\" target=\"_self\">Neste side: <i>intro til matriser</i> &gt;</a>\n",
    "            </div>\n",
    "        </div>\n",
    "</nav>"
   ]
  }
 ],
 "metadata": {
  "kernelspec": {
   "display_name": "Python 3 (ipykernel)",
   "language": "python",
   "name": "python3"
  },
  "language_info": {
   "codemirror_mode": {
    "name": "ipython",
    "version": 3
   },
   "file_extension": ".py",
   "mimetype": "text/x-python",
   "name": "python",
   "nbconvert_exporter": "python",
   "pygments_lexer": "ipython3",
   "version": "3.11.6"
  },
  "toc": {
   "base_numbering": 1
  }
 },
 "nbformat": 4,
 "nbformat_minor": 5
}
