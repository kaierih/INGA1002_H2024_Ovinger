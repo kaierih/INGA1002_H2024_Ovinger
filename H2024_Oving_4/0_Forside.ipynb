{
 "cells": [
  {
   "cell_type": "markdown",
   "id": "4963af65-8d0f-4e8c-9f12-fe6d403a10eb",
   "metadata": {
    "deletable": false
   },
   "source": [
    "# Øving 4\n",
    "\n",
    "Hei og velkommen til fjerde øving i Programmeringsdelen av emnet INGA1002 - Programmering, numerikk og sikkerhet. Hovedfokuset for denne øvingen er å lære om while-løkker, samt litt mer om for-løkker. I tillegg vil vi se på litt mer kompleks bruk av løkker og arrays med introduksjon av 2-dimensjonale arrays og nøstede løkker.\n",
    "\n",
    "\n",
    "## Læringsmål\n",
    "\n",
    "- While-løkker\n",
    "- Elementvise operasjoner med for-løkker\n",
    "- Arrays med 2 Dimensjoner (Matriser)\n",
    "- Nøstede løkker"
   ]
  },
  {
   "cell_type": "markdown",
   "id": "8a604e15-ee48-4bac-a8dc-fd92400db50b",
   "metadata": {
    "deletable": false
   },
   "source": [
    "## Om oppgavene\n",
    "\n",
    "Oppgaver markert som \"grunnleggende\" dekker tema som er regnet som kjernepensum, og vil med stor sannsynlighet være aktuell for numerikk senere. Andre oppgaver vil absolutt styrke forståelsen for faget, og kan ofte være mer spennende å jobbe med, men er i større grad frivillig å arbeide med. Er du ny til programmering, er det anbefalt å begynne med de grunnleggende oppgavene, men om du har programmert litt før, kan det være mer spennende å arbeide med de øvrige oppgavene.\n",
    "\n",
    "Alle oppgavene til sammen kan gi inntil 100 poeng. Kravet for godkjenning er 40 poeng eller mer.\n"
   ]
  },
  {
   "cell_type": "markdown",
   "id": "991a8971-84c4-40ae-9821-c6166bcfb446",
   "metadata": {
    "deletable": false
   },
   "source": [
    "Oppgave | Tema | Merknad | Poeng\n",
    "--- | --- | --- | ---\n",
    "[While intro](1_while_intro.ipynb) | Intro til betingelsesstyrte løkker | Grunnleggende | 10\n",
    "[Simulering av terningkast](2_terningkast.ipynb) | While-løkker og tilfeldige tall | Grunnleggende | 10\n",
    "[Nedbetaling av lån](3_Nedbetaling_av_laan.ipynb) | While-løkker med oppsamling | Grunnleggende, litt krevende | 10\n",
    "[Elementvise operasjoner med løkker](4_betingede_funksjoner_arrays.ipynb) | Elementvis if-else med lister/arrays | Grunnleggende, litt krevende | 10\n",
    "[Intro til matriser](5_matriser_intro.ipynb) | 2-Dimensjonale arrays | Grunnleggende |10\n",
    "[Matriser og for-løkker](6_matriser_og_lokker.ipynb) | Nøsting av for-løkker og indeksering i matriser | Grunnleggende, litt krevende | 10\n",
    "[Matriseoperasjoner med numpy](7_regneoperasjoner_matriser.ipynb) | Tips og triks for å bruke matriser effektivt | Kjekt å kunne, litt krevende |10\n",
    "[Fikspunktiterasjon](8_fikspunktiterasjon.ipynb) | Intro til numerisk løsning av ligninger | Kjekt å kunne, litt krevende | 10\n",
    "[Naiv Gausseliminasjon](9_naiv_gauss.ipynb) | Forsmak på iterative metoder med løkker | Kjekt å kunne, nokså krevende | 10 (+5)\n",
    "[Koch's Snøflak](10_koch_snoflak.ipynb) |  For de aller ivrigste som vil ha en ekstra utfordring | Kjekt å kunne, svært krevende | 10"
   ]
  },
  {
   "cell_type": "code",
   "execution_count": 1,
   "id": "21421c7c-eb20-428b-8669-18aa335104e0",
   "metadata": {
    "deletable": false
   },
   "outputs": [
    {
     "name": "stdout",
     "output_type": "stream",
     "text": [
      "Installing autofeedback. Please Wait...\n",
      "Autofeedback installed.\n"
     ]
    },
    {
     "name": "stderr",
     "output_type": "stream",
     "text": [
      "0.00s - Debugger warning: It seems that frozen modules are being used, which may\n",
      "0.00s - make the debugger miss breakpoints. Please pass -Xfrozen_modules=off\n",
      "0.00s - to python to disable frozen modules.\n",
      "0.00s - Note: Debugging will proceed. Set PYDEVD_DISABLE_FILE_VALIDATION=1 to disable this validation.\n"
     ]
    },
    {
     "data": {
      "text/markdown": [
       "1_while_intro.ipynb graded, score: 0.0/10.0. See [1_while_intro.html](test_results/1_while_intro.html) for detailed report."
      ],
      "text/plain": [
       "<IPython.core.display.Markdown object>"
      ]
     },
     "metadata": {},
     "output_type": "display_data"
    },
    {
     "name": "stderr",
     "output_type": "stream",
     "text": [
      "0.00s - Debugger warning: It seems that frozen modules are being used, which may\n",
      "0.00s - make the debugger miss breakpoints. Please pass -Xfrozen_modules=off\n",
      "0.00s - to python to disable frozen modules.\n",
      "0.00s - Note: Debugging will proceed. Set PYDEVD_DISABLE_FILE_VALIDATION=1 to disable this validation.\n"
     ]
    },
    {
     "data": {
      "text/markdown": [
       "2_terningkast.ipynb graded, score: 2.917/10.0. See [2_terningkast.html](test_results/2_terningkast.html) for detailed report."
      ],
      "text/plain": [
       "<IPython.core.display.Markdown object>"
      ]
     },
     "metadata": {},
     "output_type": "display_data"
    },
    {
     "name": "stderr",
     "output_type": "stream",
     "text": [
      "0.00s - Debugger warning: It seems that frozen modules are being used, which may\n",
      "0.00s - make the debugger miss breakpoints. Please pass -Xfrozen_modules=off\n",
      "0.00s - to python to disable frozen modules.\n",
      "0.00s - Note: Debugging will proceed. Set PYDEVD_DISABLE_FILE_VALIDATION=1 to disable this validation.\n"
     ]
    },
    {
     "data": {
      "text/markdown": [
       "3_Nedbetaling_av_laan.ipynb graded, score: 0.0/10.0. See [3_Nedbetaling_av_laan.html](test_results/3_Nedbetaling_av_laan.html) for detailed report."
      ],
      "text/plain": [
       "<IPython.core.display.Markdown object>"
      ]
     },
     "metadata": {},
     "output_type": "display_data"
    },
    {
     "name": "stderr",
     "output_type": "stream",
     "text": [
      "0.00s - Debugger warning: It seems that frozen modules are being used, which may\n",
      "0.00s - make the debugger miss breakpoints. Please pass -Xfrozen_modules=off\n",
      "0.00s - to python to disable frozen modules.\n",
      "0.00s - Note: Debugging will proceed. Set PYDEVD_DISABLE_FILE_VALIDATION=1 to disable this validation.\n"
     ]
    },
    {
     "data": {
      "text/markdown": [
       "4_betingede_funksjoner_arrays.ipynb graded, score: 0/10.0. See [4_betingede_funksjoner_arrays.html](test_results/4_betingede_funksjoner_arrays.html) for detailed report."
      ],
      "text/plain": [
       "<IPython.core.display.Markdown object>"
      ]
     },
     "metadata": {},
     "output_type": "display_data"
    },
    {
     "name": "stderr",
     "output_type": "stream",
     "text": [
      "0.00s - Debugger warning: It seems that frozen modules are being used, which may\n",
      "0.00s - make the debugger miss breakpoints. Please pass -Xfrozen_modules=off\n",
      "0.00s - to python to disable frozen modules.\n",
      "0.00s - Note: Debugging will proceed. Set PYDEVD_DISABLE_FILE_VALIDATION=1 to disable this validation.\n"
     ]
    },
    {
     "data": {
      "text/markdown": [
       "5_matriser_intro.ipynb graded, score: 0.0/10.0. See [5_matriser_intro.html](test_results/5_matriser_intro.html) for detailed report."
      ],
      "text/plain": [
       "<IPython.core.display.Markdown object>"
      ]
     },
     "metadata": {},
     "output_type": "display_data"
    },
    {
     "name": "stderr",
     "output_type": "stream",
     "text": [
      "0.00s - Debugger warning: It seems that frozen modules are being used, which may\n",
      "0.00s - make the debugger miss breakpoints. Please pass -Xfrozen_modules=off\n",
      "0.00s - to python to disable frozen modules.\n",
      "0.00s - Note: Debugging will proceed. Set PYDEVD_DISABLE_FILE_VALIDATION=1 to disable this validation.\n"
     ]
    },
    {
     "data": {
      "text/markdown": [
       "6_matriser_og_lokker.ipynb graded, score: 0.0/10.0. See [6_matriser_og_lokker.html](test_results/6_matriser_og_lokker.html) for detailed report."
      ],
      "text/plain": [
       "<IPython.core.display.Markdown object>"
      ]
     },
     "metadata": {},
     "output_type": "display_data"
    },
    {
     "name": "stderr",
     "output_type": "stream",
     "text": [
      "0.00s - Debugger warning: It seems that frozen modules are being used, which may\n",
      "0.00s - make the debugger miss breakpoints. Please pass -Xfrozen_modules=off\n",
      "0.00s - to python to disable frozen modules.\n",
      "0.00s - Note: Debugging will proceed. Set PYDEVD_DISABLE_FILE_VALIDATION=1 to disable this validation.\n"
     ]
    },
    {
     "data": {
      "text/markdown": [
       "7_regneoperasjoner_matriser.ipynb graded, score: 0.0/10.0. See [7_regneoperasjoner_matriser.html](test_results/7_regneoperasjoner_matriser.html) for detailed report."
      ],
      "text/plain": [
       "<IPython.core.display.Markdown object>"
      ]
     },
     "metadata": {},
     "output_type": "display_data"
    },
    {
     "name": "stderr",
     "output_type": "stream",
     "text": [
      "0.00s - Debugger warning: It seems that frozen modules are being used, which may\n",
      "0.00s - make the debugger miss breakpoints. Please pass -Xfrozen_modules=off\n",
      "0.00s - to python to disable frozen modules.\n",
      "0.00s - Note: Debugging will proceed. Set PYDEVD_DISABLE_FILE_VALIDATION=1 to disable this validation.\n"
     ]
    },
    {
     "data": {
      "text/markdown": [
       "8_fikspunktiterasjon.ipynb graded, score: 0/10.0. See [8_fikspunktiterasjon.html](test_results/8_fikspunktiterasjon.html) for detailed report."
      ],
      "text/plain": [
       "<IPython.core.display.Markdown object>"
      ]
     },
     "metadata": {},
     "output_type": "display_data"
    },
    {
     "name": "stderr",
     "output_type": "stream",
     "text": [
      "0.00s - Debugger warning: It seems that frozen modules are being used, which may\n",
      "0.00s - make the debugger miss breakpoints. Please pass -Xfrozen_modules=off\n",
      "0.00s - to python to disable frozen modules.\n",
      "0.00s - Note: Debugging will proceed. Set PYDEVD_DISABLE_FILE_VALIDATION=1 to disable this validation.\n"
     ]
    },
    {
     "data": {
      "text/markdown": [
       "9_naiv_gauss.ipynb graded, score: 0.0/15.0. See [9_naiv_gauss.html](test_results/9_naiv_gauss.html) for detailed report."
      ],
      "text/plain": [
       "<IPython.core.display.Markdown object>"
      ]
     },
     "metadata": {},
     "output_type": "display_data"
    },
    {
     "name": "stderr",
     "output_type": "stream",
     "text": [
      "0.00s - Debugger warning: It seems that frozen modules are being used, which may\n",
      "0.00s - make the debugger miss breakpoints. Please pass -Xfrozen_modules=off\n",
      "0.00s - to python to disable frozen modules.\n",
      "0.00s - Note: Debugging will proceed. Set PYDEVD_DISABLE_FILE_VALIDATION=1 to disable this validation.\n"
     ]
    },
    {
     "data": {
      "text/markdown": [
       "10_koch_snoflak.ipynb graded, score: 0.0/10.0. See [10_koch_snoflak.html](test_results/10_koch_snoflak.html) for detailed report."
      ],
      "text/plain": [
       "<IPython.core.display.Markdown object>"
      ]
     },
     "metadata": {},
     "output_type": "display_data"
    },
    {
     "data": {
      "text/markdown": [
       "Finished grading all tasks! Final score: 2.917/105.0."
      ],
      "text/plain": [
       "<IPython.core.display.Markdown object>"
      ]
     },
     "metadata": {},
     "output_type": "display_data"
    }
   ],
   "source": [
    "# Make sure autofeedback package is installed\n",
    "try:\n",
    "    from autofeedback import autograde_notebooks\n",
    "except ModuleNotFoundError:\n",
    "    print(\"Installing autofeedback. Please Wait...\")\n",
    "    output = !pip install git+https://github.com/kaierih/autofeedback.git\n",
    "    from autofeedback import autograde_notebooks\n",
    "    print(\"Autofeedback installed.\")\n",
    "\n",
    "# Generate feedback from grading tests\n",
    "task_files = [\"1_while_intro.ipynb\",\n",
    "              \"2_terningkast.ipynb\",\n",
    "              \"3_Nedbetaling_av_laan.ipynb\",\n",
    "              \"4_betingede_funksjoner_arrays.ipynb\",\n",
    "              \"5_matriser_intro.ipynb\", \n",
    "              \"6_matriser_og_lokker.ipynb\",\n",
    "              \"7_regneoperasjoner_matriser.ipynb\",\n",
    "              \"8_fikspunktiterasjon.ipynb\",\n",
    "              \"9_naiv_gauss.ipynb\",\n",
    "              \"10_koch_snoflak.ipynb\"]\n",
    "autograde_notebooks(task_files)"
   ]
  }
 ],
 "metadata": {
  "kernelspec": {
   "display_name": "Python 3 (ipykernel)",
   "language": "python",
   "name": "python3"
  },
  "language_info": {
   "codemirror_mode": {
    "name": "ipython",
    "version": 3
   },
   "file_extension": ".py",
   "mimetype": "text/x-python",
   "name": "python",
   "nbconvert_exporter": "python",
   "pygments_lexer": "ipython3",
   "version": "3.11.6"
  }
 },
 "nbformat": 4,
 "nbformat_minor": 5
}
