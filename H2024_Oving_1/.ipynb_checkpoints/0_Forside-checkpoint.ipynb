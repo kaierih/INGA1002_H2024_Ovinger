{
 "cells": [
  {
   "cell_type": "markdown",
   "id": "b5b4d0d0-e4ba-4838-aee8-4d24c65770e1",
   "metadata": {},
   "source": [
    "# Øving 1\n",
    "\n",
    "Hei og velkommen til første øving i Programmeringsdelen av emnet INGA1002 - Programmering, numerikk og sikkerhet. I denne øvingen vil vi gå gjennom de grunnleggende temaene som kreves for å kunne begynne å bruke Python til å løse vanskelige matematiske problemer. Nedenfor ser du en oversikt over læringsmål for øvingen, samt informasjon om de forskjellige oppgavene og hva som kreves for å få øvingen godkjent.\n",
    "\n",
    "## Læringsmål:\n",
    "* Bli kjent med Jupyter Lab som programmeringsmiljø.\n",
    "* Forstå hvorfor og hvordan vi bruker variabler i programmering, og at variabeltilordning ikke er det samme som matematisk likhet\n",
    "* Kunne bruke vanlige regneoperatorer i Python: addisjon + , subtraksjon – , multiplikasjon * , divisjon / og potens **\n",
    "* Forstå forskjellen på de fire elementære datatypene: heltall (int), flyttall (float) og tekststrenger (str)\n",
    "* Skjønne hvordan regneoperatorene virker for de ulike datatypene\n",
    "* Kunne bruke vitenskapelig notasjon for spesielt små og spesielt store flyttall\n",
    "* Forstå at kode må være uten feil for å kjøre, og kunne rette enkle syntaksfeil\n",
    "\n",
    "\n",
    "## Godkjenning:\n",
    "\n",
    "- Ved retting kan denne øvingen gi inntil 100 poeng. Kravet for godkjenning av øvingsoppgaven er 60 poeng eller mer.\n",
    "\n",
    "Oppgave| Tittel | Kommentar | Poeng\n",
    "--- |--- | --- | ---\n",
    "1|[Intro til Jupyter](1_Intro_til_jupyter.ipynb)|Grunnleggende om jupyter notebooks | 10\n",
    "2|[Variabler](2_Variabler.ipynb)|Bruk av variabler i utregninger | 10\n",
    "3|[Kalkulasjoner](3_Kalkulasjoner.ipynb)|Bruk av grunnleggende matematiske operasjoner| 10\n",
    "4|[Moduler](4_Moduler.ipynb)|Importering og bruk av moduler, matematiske funksjoner| 10\n",
    "5|[Funksjoner](5_Funksjoner.ipynb)|Hvordan skrive egne funksjoner|  10\n",
    "6|[Mer om funksjoner](6_Funksjoner_forts.ipynb)|Funksjoner med flere variabler, globale variabler|10\n",
    "7|[Vitenskapelig notasjon](7_Vitenskapelig_notasjon.ipynb)|Vitenskapelig notasjon for svært store og svært små tall| 10\n",
    "8| [Flyttallspresisjon](8_Flyttallspresisjon.ipynb)|Mulige kilder til feil i matematiske utregninger med python| 10\n",
    "9| [Mer om flyttall](9_Flyttallspresisjon2.ipynb)|Binærtall (og IEEE standard ?)|10\n",
    "10| [Karbondatering](10_Karbondatering.ipynb)|Vanskelig oppgave for de som vil ha en utfordring|10"
   ]
  },
  {
   "cell_type": "markdown",
   "id": "b6d8fcec-85f2-46dd-b385-67a72f0a5761",
   "metadata": {},
   "source": [
    "### For å kjøre retting av øvingsoppgaver, kjør kodecellen nedenfor:"
   ]
  },
  {
   "cell_type": "code",
   "execution_count": null,
   "id": "306f1f86-f97e-4523-9aaa-566e9ef1d417",
   "metadata": {},
   "outputs": [],
   "source": [
    "from autofeedback import autograde_notebooks\n",
    "task_files = [\"1_Intro_til_jupyter.ipynb\",\n",
    "              \"2_Variabler.ipynb\",\n",
    "              \"3_Kalkulasjoner.ipynb\",\n",
    "              \"4_Moduler.ipynb\",\n",
    "              \"5_Funksjoner.ipynb\",\n",
    "              \"6_Funksjoner_forts.ipynb\",\n",
    "              \"7_Vitenskapelig_notasjon.ipynb\",\n",
    "              \"8_Flyttallspresisjon.ipynb\",\n",
    "              \"9_Binaertall.ipynb\",\n",
    "              \"10_Karbondatering.ipynb\"]\n",
    "autograde_notebooks(task_files)"
   ]
  },
  {
   "cell_type": "markdown",
   "id": "4263d72a-edce-4b53-b202-13c5f93147d0",
   "metadata": {},
   "source": [
    "## To-do liste \n",
    "### Oppgaver og forbedringer:\n",
    "1. **Intro til Jupyter** Legg til \"hva gjør vi dersom Jupyter henger seg opp\"?\n",
    "2. **Variabler** OK (?)\n",
    "3. **Kalkulasjoner** OK (?)\n",
    "4. **Moduler** Legg til en oppgave b) før fysikk-oppgaven.\n",
    "     * Forslag: hva må radiusen til en kule være for at den skal et volum på ??\n",
    "5. **Funksjoner** \n",
    "    * Oppgave b: klassisk fysikk utgår (ihvertfall på dette stadiet).\n",
    "    * Ny oppgave b: lær om funksjonskall\n",
    "        * Regn ut $f(11) + g(8)$ (for eksempel)\n",
    "    * Kort tekstintro til funksjnoer med beskrivende navn\n",
    "    * Alternativ oppgave c: *rett opp i følgende funksjon*\n",
    "        * Oppgaven skal ha som formål å illustrere hvordan man bruker et funksjons-argument.\n",
    "```Python\n",
    "def kuleVolum(radius):\n",
    "    radius = 10 #cm\n",
    "    volum = 4/3*np.pi*radius**3\n",
    "    return volum\n",
    "```\n",
    "6. **Ny oppgave**. \n",
    "    * Funksjoner med flere argument\n",
    "        * INtro om flere argument\n",
    "        * Regn ut volum av sylinder (lag funksjon)\n",
    "        * INtro om globale vs. lokale variabler\n",
    "        * Bruk funksjon fra a) til å regne ut materialbehov i rør (ytre radius minus indre radius)\n",
    "7. **Vitenskapelig notasjon** (formerly 6)\n",
    "    * Ta med notasjonen `1_000_000` for store tall\n",
    "    * Omskriv oppgave b) slik at den ikke krever forkunnskap om kjemi i det hele tatt.\n",
    "8. **Flyttallspresisjon**\n",
    "    * Gi en forklaring på avrundingsfeil som bygger på titallsystem og ikke binærsystem\n",
    "    * Samme oppgave a og b\n",
    "    * Gi en overfladisk forklaring om binærtall og hva som er \"runde tall\" i binærsystemet (e.g. 0.125 er et \"rundt\" tall, men 0.1 er ikke det).\n",
    "    * Teorispørsmål om noe binærtallsrelatert\n",
    "        * Hvor mange bit(posisjoner) trenger vi for å skrive tallet 0.125 binært?\n",
    "9. **Vanskelig matteoppgave for de som vil ha en utfordring**\n",
    "    * Karbondatering: Gitt en kjent halveringstid, og målt C14-konsentrasjon som argument, hvor gammel er den oppgravde treplanken?\n",
    "10. **Finn en vanskelig oppgave**    "
   ]
  }
 ],
 "metadata": {
  "kernelspec": {
   "display_name": "Python 3 (ipykernel)",
   "language": "python",
   "name": "python3"
  },
  "language_info": {
   "codemirror_mode": {
    "name": "ipython",
    "version": 3
   },
   "file_extension": ".py",
   "mimetype": "text/x-python",
   "name": "python",
   "nbconvert_exporter": "python",
   "pygments_lexer": "ipython3",
   "version": "3.11.6"
  },
  "scenes_data": {
   "active_scene": "Default Scene",
   "init_scene": "",
   "scenes": [
    "Default Scene"
   ]
  }
 },
 "nbformat": 4,
 "nbformat_minor": 5
}
