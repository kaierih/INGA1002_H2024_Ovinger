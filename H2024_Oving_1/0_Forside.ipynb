{
 "cells": [
  {
   "cell_type": "markdown",
   "id": "b5b4d0d0-e4ba-4838-aee8-4d24c65770e1",
   "metadata": {
    "deletable": false,
    "editable": false
   },
   "source": [
    "# Øving 1\n",
    "\n",
    "Hei og velkommen til første øving i Programmeringsdelen av emnet INGA1002 - Programmering, numerikk og sikkerhet. I denne øvingen vil vi gå gjennom de grunnleggende temaene som kreves for å kunne begynne å bruke Python til å løse vanskelige matematiske problemer. Nedenfor ser du en oversikt over læringsmål for øvingen, samt informasjon om de forskjellige oppgavene og hva som kreves for å få øvingen godkjent.\n",
    "\n",
    "## Læringsmål:\n",
    "* Bli kjent med Jupyter Lab som programmeringsmiljø.\n",
    "* Forstå hvorfor og hvordan vi bruker variabler i programmering, og at variabeltilordning ikke er det samme som matematisk likhet\n",
    "* Kunne bruke vanlige regneoperatorer i Python: addisjon + , subtraksjon – , multiplikasjon * , divisjon / og potens **\n",
    "* Kunne bruke moduler for å få tilgang til spesielle matematiske funksjoner for trigonometri, kvadratrot e.l.\n",
    "* Forstå at kode må være uten feil for å kjøre, og kunne rette enkle syntaksfeil\n",
    "* Kunne bruke vitenskapelig notasjon for spesielt små og spesielt store flyttall\n",
    "* Bli kjent med de tre elementære datatypene: heltall (int), flyttall (float) og tekststrenger (str)\n",
    "\n",
    "<!--* Forstå forskjellen på de tre elementære datatypene: heltall (int), flyttall (float) og tekststrenger (str)\n",
    "* Skjønne hvordan regneoperatorene virker for de ulike datatypene -->\n",
    "\n",
    "## Om oppgavene:\n",
    "Oppgaver markert som \"grunnleggende\" dekker tema som er regnet som kjernepensum, og er nødvendig å beherske for å gå videre med øving 2, 3 & 4. Andre oppgaver vil absolutt styrke forståelsen for faget, og kan ofte være mer spennende å jobbe med, men er i større grad frivillig å arbeide med. Er du ny til programmering, er det anbefalt å begynne med de grunnleggende oppgavene, men om du har programmert litt før, kan det være mer spennende å arbeide med de øvrige oppgavene.\n",
    "\n",
    "Alle oppgavene til sammen kan gi inntil 100 poeng. Kravet for godkjenning er 40 poeng eller mer.\n",
    "\n",
    "Oppgave| Tittel | Tema | Merknad |  Poeng\n",
    "--- |--- | --- | --- | ---\n",
    "1|[Intro til Jupyter](1_Intro_til_jupyter.ipynb)|Grunnleggende om jupyter notebooks|Grunnleggende | 10\n",
    "2|[Variabler](2_Variabler.ipynb)|Bruk av variabler i utregninger |Grunnleggende| 10\n",
    "3|[Kalkulasjoner](3_Kalkulasjoner.ipynb)|Bruk av grunnleggende matematiske operasjoner|Grunnleggende| 10\n",
    "4|[Moduler](4_Moduler.ipynb)|Importering og bruk av moduler, matematiske funksjoner|Grunnleggende| 10\n",
    "5|[Funksjoner](5_Funksjoner.ipynb)|Hvordan skrive egne funksjoner| Grunnleggende | 10\n",
    "6|[Mer om funksjoner](6_Funksjoner_forts.ipynb)|Funksjoner med flere variabler, globale variabler| Grunnleggende | 10 \n",
    "7|[Vitenskapelig notasjon](7_Vitenskapelig_notasjon.ipynb)|Vitenskapelig notasjon for svært store og svært små tall| Nyttig å vite |10\n",
    "8| [Flyttallspresisjon](8_Flyttallspresisjon.ipynb)|Mulige kilder til feil i matematiske utregninger med python| Nyttig å vite, avansert |10\n",
    "9| [Binærtall](9_Binaertall.ipynb)|Begrensninger med binær tallrepresentasjon | Nyttig å vite, avansert |10\n",
    "10| [Karbondatering](10_Karbondatering.ipynb)| Praktisk matematisk oppgave | Avansert, krever matematikk |10"
   ]
  },
  {
   "cell_type": "markdown",
   "id": "b6d8fcec-85f2-46dd-b385-67a72f0a5761",
   "metadata": {
    "deletable": false,
    "editable": false
   },
   "source": [
    "### For å kjøre retting av øvingsoppgaver, kjør kodecellen nedenfor:\n",
    "\n",
    "*NB! Husk å lagre alle oppgavefilene før du kjører retting*"
   ]
  },
  {
   "cell_type": "code",
   "execution_count": null,
   "id": "306f1f86-f97e-4523-9aaa-566e9ef1d417",
   "metadata": {
    "deletable": false,
    "editable": true,
    "execution": {
     "iopub.execute_input": "2024-08-20T10:42:33.332939Z",
     "iopub.status.busy": "2024-08-20T10:42:33.332058Z",
     "iopub.status.idle": "2024-08-20T10:43:04.972350Z",
     "shell.execute_reply": "2024-08-20T10:43:03.335698Z"
    },
    "slideshow": {
     "slide_type": ""
    },
    "tags": []
   },
   "outputs": [],
   "source": [
    "# Make sure autofeedback package is installed and imported\n",
    "try:\n",
    "    from autofeedback import autograde_notebooks\n",
    "except ModuleNotFoundError:\n",
    "    print(\"Installing autofeedback. Please Wait...\")\n",
    "    output = !pip install git+https://github.com/kaierih/autofeedback.git\n",
    "    from autofeedback import autograde_notebooks\n",
    "    print(\"Autofeedback installed.\")\n",
    "\n",
    "# Generate feedback from grading tests\n",
    "task_files = [\"1_Intro_til_jupyter.ipynb\",\n",
    "              \"2_Variabler.ipynb\",\n",
    "              \"3_Kalkulasjoner.ipynb\",\n",
    "              \"4_Moduler.ipynb\",\n",
    "              \"5_Funksjoner.ipynb\",\n",
    "              \"6_Funksjoner_forts.ipynb\",\n",
    "              \"7_Vitenskapelig_notasjon.ipynb\",\n",
    "              \"8_Flyttallspresisjon.ipynb\",\n",
    "              \"9_Binaertall.ipynb\",\n",
    "              \"10_Karbondatering.ipynb\"]\n",
    "autograde_notebooks(task_files)"
   ]
  }
 ],
 "metadata": {
  "kernelspec": {
   "display_name": "Python 3 (ipykernel)",
   "language": "python",
   "name": "python3"
  },
  "language_info": {
   "codemirror_mode": {
    "name": "ipython",
    "version": 3
   },
   "file_extension": ".py",
   "mimetype": "text/x-python",
   "name": "python",
   "nbconvert_exporter": "python",
   "pygments_lexer": "ipython3",
   "version": "3.11.6"
  },
  "scenes_data": {
   "active_scene": "Default Scene",
   "init_scene": "",
   "scenes": [
    "Default Scene"
   ]
  },
  "toc": {
   "base_numbering": 1
  }
 },
 "nbformat": 4,
 "nbformat_minor": 5
}
