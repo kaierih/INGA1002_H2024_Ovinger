{
 "cells": [
  {
   "cell_type": "markdown",
   "id": "91399c07-077e-4ae1-afde-a0e6e005e53d",
   "metadata": {
    "deletable": false,
    "editable": false
   },
   "source": [
    "<nav class=\"navbar navbar-default\">\n",
    "  <div class=\"container-fluid\">\n",
    "    <div class=\"navbar-header\" style=\"float: left\">\n",
    "        <a class=\"navbar-brand\" href=\"0_Forside.ipynb\" target=\"_self\"> <h2> &uarr; Tilbake til forsiden</h2></a>\n",
    "    </div>\n",
    "  </div>\n",
    "</nav>"
   ]
  },
  {
   "cell_type": "markdown",
   "id": "b2dd49dc",
   "metadata": {
    "deletable": false,
    "editable": false
   },
   "source": [
    "# Binære tall og flyttall\n",
    "\n",
    "**Læringsmål:**\n",
    "\n",
    "* Binære tall\n",
    "* Flyttallrepresentasjon\n",
    "* Avrundingsfeil"
   ]
  },
  {
   "cell_type": "markdown",
   "id": "528e52b5",
   "metadata": {
    "deletable": false,
    "editable": false,
    "heading_collapsed": true
   },
   "source": [
    "## Om Binære tall"
   ]
  },
  {
   "cell_type": "markdown",
   "id": "f0bda90c-df1f-41fd-ba69-829995ff1b9e",
   "metadata": {
    "deletable": false,
    "editable": false
   },
   "source": [
    "    \n",
    "<div style=\"width: 100%;\">\n",
    "    <img src=\"Figurer/binary_example.png\" width=\"30%\" align=\"right\" />\n",
    "    <div style=\"width: 65%\">\n",
    "Du har sikkert hørt at datamaskiner er bygd opp av $1$-ere og $0$-ere. Dette er sant, og tallene som datamaskinen opererer med kalles for binære tall. Binære tall er egentlig ikke noe skummelt, men kan være vankskelig å \"wrappe\" hodet rundt i starten. \n",
    "\n",
    "Til vanlig er vi vant med titallsystemet (base 10). Alle tall vi vanligvis jobber med og tenker på er bygd opp av tallene fra $0-9$. F.eks er $14$ bygd opp av $1$ og $4$. Binære tall er også kalt base 2 eller totallsystemet, og basen vår i totallsystemet er tallene $0$ og $1$. Med andre ord er alle tall i totallsystemet bygget opp av disse to tallene. For eksempel er $14$ i skrevet som $1110$ i det binære tallsystemet.\n",
    "\n",
    "Andre måter å tenke på denne oppbyggingen av tall er ved hjelp av base-tallet ($10$ eller $2$). F.eks er $14$ lik $1 \\cdot 10^1 + 4 \\cdot 10^0$ (eller $10 + 4$). Akkurat det samme gjelder for binære tall. $1110_2 = 1 \\cdot 2^3 + 1 \\cdot 2^2 + 1 \\cdot 2^1 + 0 \\cdot 2^0 = 14_{10}$ (når det kan oppstå tvil om hvilket tallsystem man jobber i er det vanlig å legge til grunntallet på slutten, og nedsenket slik som i ligningen).\n",
    "        \n",
    "Figuren til høyre illustrerer hvordan denne konverteringen fra binærtall til titallsystemet foregår. Kodecellen nedenfor bruker `b` for binær når vi skriver ut verdien til variabelen `tall`. På den måten får vi se hva binærkoden til tallet blir.\n",
    "\n",
    "</div>\n",
    "</div> "
   ]
  },
  {
   "cell_type": "code",
   "execution_count": null,
   "id": "9a94cb42-2702-4ff7-b53e-e5cff14528a1",
   "metadata": {
    "deletable": false,
    "execution": {
     "iopub.execute_input": "2024-08-23T09:19:44.973773Z",
     "iopub.status.busy": "2024-08-23T09:19:44.972966Z",
     "iopub.status.idle": "2024-08-23T09:19:45.152936Z",
     "shell.execute_reply": "2024-08-23T09:19:45.056590Z"
    }
   },
   "outputs": [],
   "source": [
    "tall = 14\n",
    "print(f\"Tallet {tall} på binærform er {tall:b}.\")"
   ]
  },
  {
   "cell_type": "markdown",
   "id": "9af175c4",
   "metadata": {
    "deletable": false,
    "editable": false,
    "heading_collapsed": true
   },
   "source": [
    "## Desimaltall (flyttall) på binærform"
   ]
  },
  {
   "cell_type": "markdown",
   "id": "0aac08d2",
   "metadata": {
    "deletable": false,
    "editable": false,
    "hidden": true
   },
   "source": [
    "På samme måte som vi kan representere heltall i titallsystemet med basetallet (f.eks. $14=1 \\cdot 10^1 + 4 \\cdot 10^0$), kan vi representere desimaltall (flytall) med basetallet. Vi bare gjør eksponenten negativ. For eksempel er tallet $0.125 = \\frac{1}{10} + \\frac{2}{100} + \\frac{5}{1000} = 1 \\cdot 10^{-1} + 2 \\cdot 10^{-2} + 5 \\cdot 10^{-3}$ . Representert ved hjelp av basetallet $2$ istedenfor $10$ får vi $0.125 = \\frac{0}{2} + \\frac{0}{4} + \\frac{1}{8}$ (eller $0 \\cdot 2^{-1} + 0 \\cdot 2^{-2} + 1 \\cdot 2^{-3}$). Binærkoden for $0.125_{10}$ er altså $0.001_{2}$.\n",
    "\n",
    "Dessverre, kan vi ikke representere alle mulige desimaltall helt korrekt. $\\frac{1}{3}$ (base 10) vet vi er $0.33333...$. dette kan vi runde av til $0.3$, som blir $\\frac{3}{10}$. Eventuelt kan vi være mer presise og legge til flere siffer og få $0.33 = \\frac{3}{10} + \\frac{3}{100}$ eller $0.333 = \\frac{3}{10} + \\frac{3}{100} + \\frac{3}{1000}$osv., men vi vil aldri få nøyaktig $\\frac{1}{3}$. I binært er dette enda verre. Ta for eksempel desimaltallet $0.1$ (base 10). Dette tallet kan ikke representeres nøyaktig med binære tall, men vi kan jo prøve. Fra over vet vi at flyttall i binært representeres ved grunntallet $2$ med negative eksponenter: \n",
    "\n",
    "<div style=\"width: 100%;\">\n",
    "    <img src=\"Figurer/binary_decimal.gif\" width=\"40%\" align=\"right\" />\n",
    "    <div style=\"width: 60%\">\n",
    "    <br>\n",
    "    <ul>\n",
    "        <li> $1 \\cdot 2^{-1} = 0.5$. Det vil si vi er over $0.1$. Første desimaltegn er da $0$ og det binære tallet vårt er hittil $0.0$, og vi har $0.1$ i rest.</li>\n",
    "        <li> $1 \\cdot 2^{-2} = 0.25$. Det er fortsatt over $0.1$. Neste siffer er også $0$ og det binære tallet vårt er hittil $0.00$, med $0.1$ i rest.</li>\n",
    "        <li> $1 \\cdot 2^{-3} = 0.125$. Det er fremdeles over $0.1$. Neste siffer er også $0$ og det binære tallet vårt er hittil $0.000$, med $0.1$ i rest.</li>\n",
    "        <li> $1 \\cdot 2^{-4} = 0.0625$. Det er mindre enn $0.1$! Det neste sifferet i det binære tallet er da $1$, som gir $0.0001$, med $0.1-0.0625=0.0375$ i rest.</li>\n",
    "        <li> $1 \\cdot 2^{-5} = 0.03125$. Det er mindre enn $0.0375$, som er resten fra forrige steg. Neste siffer er $1$, som gir $0.00011$, med $0.0375-0.03125=0.00625$ i rest.</li>\n",
    "        <li> $1 \\cdot 2^{-6} = 0.015625$. Det er mer enn $0.00625$. Neste siffer er igjen $0$ og det binære tallet vårt er hittil $0.000110$, med $0.00625$ i rest.</li>\n",
    "    </ul>\n",
    "    </div>\n",
    "</div> \n",
    "\n",
    "<br>\n",
    "\n",
    "\n",
    "Slik kan vi fortsette ut i evigheten, uten å få nøyaktig $0.1$. Vi approksimerer derfor $0.1$ til et tall *veldig nærme* $0.1$, men ikke akkurat $0.1$. Dette skjer i datamaskiner og i Python også, noe som gjør at vi kan få avrundingsfeil. Et veldig klassisk eksempel på dette er $0.1 + 0.2$, som vi forventer at skal bli $0.3$. Prøv å kjøre kodeblokken under og se hva output blir.\n"
   ]
  },
  {
   "cell_type": "code",
   "execution_count": null,
   "id": "61abb57c",
   "metadata": {
    "deletable": false,
    "execution": {
     "iopub.execute_input": "2024-08-23T09:19:45.166412Z",
     "iopub.status.busy": "2024-08-23T09:19:45.164002Z",
     "iopub.status.idle": "2024-08-23T09:19:45.176770Z",
     "shell.execute_reply": "2024-08-23T09:19:45.174285Z"
    },
    "hidden": true
   },
   "outputs": [],
   "source": [
    "print(f'0.1 + 0.2 = {0.1 + 0.2}')\n",
    "print(f'Er 0.1 + 0.2 lik 0.3? {0.1 + 0.2 == 0.3}')"
   ]
  },
  {
   "cell_type": "markdown",
   "id": "6590f7e5",
   "metadata": {
    "deletable": false,
    "editable": false,
    "hidden": true
   },
   "source": [
    "I kodeblokken over ser du at $0.1 + 0.2$ faktisk ikke er nøyaktig lik $0.3$ i Python. Dette er siden vi ikke kan representere $0.1$ og $0.2$ nøyaktig i binær form, og python har en øvre grense for hvor mange binære verdier (eller *bits*) som kan brukes til å representere en tallverdi. Vi skal nå undersøke nærmere hva slags tall som kan representeres eksakt med python og hva slags tall som ikke kan det."
   ]
  },
  {
   "cell_type": "markdown",
   "id": "e370165e-b690-401d-bb21-521b07240505",
   "metadata": {
    "deletable": false,
    "editable": false
   },
   "source": [
    "### a) Binærtall med og uten avrundingsfeil\n",
    "\n",
    "I kodecellen nedenfor ser du 5 forskjellige desimaltall lagret i hver sin variabel. Din oppgave er å avgjøre hvorvidt hvert av desimaltallene kan representeres presist med det binære tallsystemet eller ikke. Oppgaven skal besvares ved å sette de aktuelle variablene til enten `True` eller `False`. \n",
    "\n",
    "**Eksempel:**\n",
    "```Python\n",
    "tall_X = 0.5\n",
    "tall_X_uten_avrundingsfeil = True # 0.5 = 1/2, og kan skrives som 0.1 med binærtall\n",
    "```"
   ]
  },
  {
   "cell_type": "code",
   "execution_count": null,
   "id": "330e9b9c-8765-4b35-b162-29f6dedf3559",
   "metadata": {
    "deletable": false,
    "execution": {
     "iopub.execute_input": "2024-08-23T09:19:45.260341Z",
     "iopub.status.busy": "2024-08-23T09:19:45.259525Z",
     "iopub.status.idle": "2024-08-23T09:19:45.274697Z",
     "shell.execute_reply": "2024-08-23T09:19:45.272393Z"
    }
   },
   "outputs": [],
   "source": [
    "# Desimaltall som skal lagres binært\n",
    "tall_1 = 0.25\n",
    "tall_2 = 0.125\n",
    "tall_3 = 0.15\n",
    "tall_4 = 0.625\n",
    "tall_5 = 0.45\n",
    "\n",
    "# Kan den eksakte tallverdien representeres binært?\n",
    "tall_1_uten_avrundingsfeil = ?\n",
    "tall_2_uten_avrundingsfeil = ?\n",
    "tall_3_uten_avrundingsfeil = ?\n",
    "tall_4_uten_avrundingsfeil = ?\n",
    "tall_5_uten_avrundingsfeil = ?"
   ]
  },
  {
   "cell_type": "code",
   "execution_count": null,
   "id": "abe13d02-fb95-4406-ad59-3d89b2eb6d8b",
   "metadata": {
    "autofeedback": {
     "test_code": "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"
    },
    "deletable": false,
    "editable": false,
    "execution": {
     "iopub.execute_input": "2024-08-23T09:19:45.284356Z",
     "iopub.status.busy": "2024-08-23T09:19:45.283619Z",
     "iopub.status.idle": "2024-08-23T09:19:50.861701Z",
     "shell.execute_reply": "2024-08-23T09:19:50.858479Z"
    },
    "nbgrader": {
     "cell_type": "code",
     "checksum": "0ca370e085b91679821837600735f147",
     "grade": true,
     "grade_id": "cell-ebe452f8e68a82f0",
     "locked": true,
     "points": 4,
     "schema_version": 3,
     "solution": false,
     "task": false
    }
   },
   "outputs": [],
   "source": []
  },
  {
   "cell_type": "markdown",
   "id": "d6016823",
   "metadata": {
    "deletable": false,
    "editable": false,
    "heading_collapsed": true
   },
   "source": [
    "## Avrundingsfeil i beregninger\n",
    "\n",
    "Vi har etablert at flyttall ofte vil ha en liten avrundignsfeil når den lagres i en variabel. Vi skal nå se på hvordan denne avrundingsfeilen kan føre til ulike resultat for regneoperasjoner som i teorien burde gi identisk resultat.\n",
    "\n",
    "### b)  Tredje kvadratsetning"
   ]
  },
  {
   "cell_type": "markdown",
   "id": "b3be988f",
   "metadata": {
    "deletable": false,
    "editable": false,
    "hidden": true
   },
   "source": [
    "Matematisk er $(a+b)(a-b)$ ekvivalent med $a^2 – b^2$ og de to skal dermed ideelt sett gi samme resultat. Beregninger med flyttall med endelig presisjon i en datamaskin kan imidlertid gi ulike resultat, hvor typisk den ene utregningsmåten er mer sårbar for avrundingsfeil enn den andre.\n",
    "\n",
    "Lag tre funksjoner:\n",
    "\n",
    "* `a_pluss_b_ganger_a_minus_b(a, b)` som tar inn tallene `a` og `b` og returnerer $(a+b)(a-b)$\n",
    "* `a_opphoyd_i_annen_minus_b_opphoyd_i_annen(a, b)` som tar inn tallene `a` og `b` og returnerer $a^2 – b^2$\n",
    "* `avvik(a, b)` som tar inn tallene `a` og `b` og returnerer avviket mellom $(a+b)(a-b)$ og $a^2 – b^2$\n",
    "\n",
    "***Skriv koden din i kodeblokken under.***"
   ]
  },
  {
   "cell_type": "code",
   "execution_count": null,
   "id": "b0ce1918",
   "metadata": {
    "deletable": false,
    "editable": true,
    "execution": {
     "iopub.execute_input": "2024-08-23T09:19:50.875948Z",
     "iopub.status.busy": "2024-08-23T09:19:50.872727Z",
     "iopub.status.idle": "2024-08-23T09:19:50.960423Z",
     "shell.execute_reply": "2024-08-23T09:19:50.957281Z"
    },
    "hidden": true,
    "nbgrader": {
     "cell_type": "code",
     "checksum": "39dcab01a7f202d8d4306e67052b1391",
     "grade": false,
     "grade_id": "cell-1ffb49577c5e21a7",
     "locked": false,
     "schema_version": 3,
     "solution": true,
     "task": false
    },
    "slideshow": {
     "slide_type": ""
    },
    "tags": []
   },
   "outputs": [],
   "source": [
    "def a_pluss_b_ganger_a_minus_b(a, b):\n",
    "    #-------------------------------------\n",
    "    # SKRIV DIN KODE HER!\n",
    "    #-------------------------------------\n",
    "\n",
    "def a_opphoyd_i_annen_minus_b_opphoyd_i_annen(a, b):\n",
    "    #-------------------------------------\n",
    "    # SKRIV DIN KODE HER!\n",
    "    #-------------------------------------\n",
    "    \n",
    "def avvik(a, b):\n",
    "    #-------------------------------------\n",
    "    # SKRIV DIN KODE HER!\n",
    "    #-------------------------------------"
   ]
  },
  {
   "cell_type": "markdown",
   "id": "ce653a5b",
   "metadata": {
    "deletable": false,
    "editable": false,
    "hidden": true
   },
   "source": [
    "Hvis du har gjort alt rett, skal kodeblokken under gi følgende output:\n",
    "\n",
    "```python\n",
    "0.21^2 - 0.2^2 = 0.0040999999999999925\n",
    "0.21^2 - 0.2^2 = 0.004099999999999986\n",
    "Avvik mellom de to regnemetodene = 6.938893903907228e-18\n",
    "```"
   ]
  },
  {
   "cell_type": "code",
   "execution_count": null,
   "id": "a98b289c",
   "metadata": {
    "autofeedback": {
     "test_code": "CmFfdGVzdCA9IDEuNDA1CmJfdGVzdCA9IDEuNAoKZnJvbSByYW5kb20gaW1wb3J0IHJhbmRpbnQgCmZyb20gYXV0b2ZlZWRiYWNrIGltcG9ydCBGdW5jdGlvblRlc3RzCgpkZWYgcm9vdHNfZmlyc3Rfc29sdXRpb24oYSwgYik6CiAgICByZXR1cm4gKGEgKyBiKSAqIChhIC0gYikKCmRlZiBwb2x5X2ZpcnN0X3NvbHV0aW9uKGEsIGIpOgogICAgcmV0dXJuIChhICoqIDIgLSBiKioyKQoKZGVmIGVycm9yX3NvbHV0aW9uKGEsIGIpOgogICAgcmV0dXJuIHJvb3RzX2ZpcnN0X3NvbHV0aW9uKGEsIGIpIC0gcG9seV9maXJzdF9zb2x1dGlvbihhLCBiKQoKZ3JhZGluZ19yZXN1bHRzID0gRnVuY3Rpb25UZXN0cyhOb25lKQp0cnk6CiAgICBncmFkaW5nX3Jlc3VsdHMudGVzdF9uZXdfZnVuYyhhX3BsdXNzX2JfZ2FuZ2VyX2FfbWludXNfYiwgcm9vdHNfZmlyc3Rfc29sdXRpb24sIGFfdGVzdCwgYl90ZXN0KQogICAgZ3JhZGluZ19yZXN1bHRzLnRlc3RfbmV3X2Z1bmMoYV9vcHBob3lkX2lfYW5uZW5fbWludXNfYl9vcHBob3lkX2lfYW5uZW4sIHBvbHlfZmlyc3Rfc29sdXRpb24sIGFfdGVzdCwgYl90ZXN0KQogICAgZ3JhZGluZ19yZXN1bHRzLnRlc3RfbmV3X2Z1bmMoYXZ2aWssIGVycm9yX3NvbHV0aW9uLCBhX3Rlc3QsIGJfdGVzdCkKZXhjZXB0IEV4Y2VwdGlvbiBhcyBlOgogICAgZ3JhZGluZ19yZXN1bHRzLmFkZF9yZXN1bHQoRmFsc2UsICJUZXN0aW5nIGV4aXRlZCB3aXRoIGVycm9yczogIiArIGUuYXJnc1swXSkKcm91bmQoZ3JhZGluZ19yZXN1bHRzLmdldF9yZXN1bHRzKCkqNCwgMik="
    },
    "deletable": false,
    "editable": false,
    "execution": {
     "iopub.execute_input": "2024-08-23T09:19:50.971575Z",
     "iopub.status.busy": "2024-08-23T09:19:50.970689Z",
     "iopub.status.idle": "2024-08-23T09:19:51.075640Z",
     "shell.execute_reply": "2024-08-23T09:19:51.072441Z"
    },
    "hidden": true,
    "nbgrader": {
     "cell_type": "code",
     "checksum": "7682dd0091c9b0250312fbb836734e3c",
     "grade": true,
     "grade_id": "cell-7f18529cd210d00e",
     "locked": true,
     "points": 4,
     "schema_version": 3,
     "solution": false,
     "task": false
    },
    "tags": []
   },
   "outputs": [],
   "source": [
    "a = 0.21\n",
    "b = 0.2\n",
    "\n",
    "print(f'0.21^2 - 0.2^2 = {a_pluss_b_ganger_a_minus_b(a, b)}')\n",
    "print(f'0.21^2 - 0.2^2 = {a_opphoyd_i_annen_minus_b_opphoyd_i_annen(a, b)}')\n",
    "print(f'Avvik mellom de to regnemetodene = {avvik(a, b)}')"
   ]
  },
  {
   "cell_type": "markdown",
   "id": "33497ab9-3de1-460a-bc60-81232a342392",
   "metadata": {
    "deletable": false,
    "editable": false
   },
   "source": [
    "### Quizspørsmål:\n",
    "Hvilken måte å regne ut $a^2 - b^2$ kommer nærmest det matematisk korrekte svaret?\n",
    "\n",
    "| Alternativ | Svar |\n",
    "|---|---|\n",
    "| 1 | `(a+b)*(a-b)` |\n",
    "| 2 | `a**2 - b**2` |\n",
    "\n",
    "*Besvar spørsmålet ved å skrive en tallverdi for hvilket alternativ som er korrekt i variabelen `mitt_svar`*."
   ]
  },
  {
   "cell_type": "code",
   "execution_count": null,
   "id": "8fdb4f3a-bf2c-4541-99eb-33841d3182ae",
   "metadata": {
    "deletable": false,
    "execution": {
     "iopub.execute_input": "2024-08-23T09:19:51.153337Z",
     "iopub.status.busy": "2024-08-23T09:19:51.152305Z",
     "iopub.status.idle": "2024-08-23T09:19:51.168271Z",
     "shell.execute_reply": "2024-08-23T09:19:51.165708Z"
    },
    "tags": []
   },
   "outputs": [],
   "source": [
    "mitt_svar = ? # Skriv et heltall her!"
   ]
  },
  {
   "cell_type": "code",
   "execution_count": null,
   "id": "d802cea4-6b5b-4140-b277-6cf9842c0a1b",
   "metadata": {
    "autofeedback": {
     "test_code": "ZnJvbSBhdXRvZmVlZGJhY2sgaW1wb3J0IEN1c3RvbVRlc3RzCmdyYWRpbmdfcmVzdWx0ID0gQ3VzdG9tVGVzdHMoKQpncmFkaW5nX3Jlc3VsdC50ZXN0KCdtaXR0X3N2YXInIGluIGdsb2JhbHMoKSBhbmQgbWl0dF9zdmFyID09IDEsIAogICAgICAgICAgICAgICAgICAgc3VjY2VzcyA9ICJjb3JyZWN0IGFuc3dlciB0byBxdWl6ISIsCiAgICAgICAgICAgICAgICAgICBmYWlsID0gImluY29ycmVjdCBhbnN3ZXIgdG8gcXVpeiEiIGlmICdtaXR0X3N2YXInIGluIGdsb2JhbHMoKSBlbHNlICJubyB2YWxpZCBhbnN3ZXIgZ2l2ZW4uIikKZ3JhZGluZ19yZXN1bHQuZ2V0X3Jlc3VsdHMoKQ=="
    },
    "deletable": false,
    "editable": false,
    "execution": {
     "iopub.execute_input": "2024-08-23T09:19:51.178576Z",
     "iopub.status.busy": "2024-08-23T09:19:51.177522Z",
     "iopub.status.idle": "2024-08-23T09:19:51.203044Z",
     "shell.execute_reply": "2024-08-23T09:19:51.200754Z"
    },
    "nbgrader": {
     "cell_type": "code",
     "checksum": "aa108bdec961b2aba17e8fffc26aad69",
     "grade": true,
     "grade_id": "cell-792f9639afacc4b7",
     "locked": true,
     "points": 1,
     "schema_version": 3,
     "solution": false,
     "task": false
    }
   },
   "outputs": [],
   "source": []
  },
  {
   "cell_type": "markdown",
   "id": "3482f708-6255-425c-ad35-041ea8ccf41f",
   "metadata": {
    "deletable": false,
    "editable": false
   },
   "source": [
    "## Flytende desimaltegn (floating point) med binærtall\n",
    "\n",
    "I Python blir flyttall representert med *vitenskapelig notasjon* med tallet $2$ som base. Som et eksempel kan vi se på hvordan tallet $14.75$ representeres med vitenskapelig notasjon både i titallsystemet og binært:\n",
    "\n",
    "<img src=\"Figurer/floatingpoint_illustration.png\" width=\"60%\" align=\"center\" />\n",
    "\n",
    "Begrensningene til flyttall kommer av at de er reprsentert med 32 bits, etter IEEE 754-standarden. Kort oppsummer betyr det at flyttall:\n",
    "\n",
    "* Bruk en bit til fortegn (sign) ($+ / -$)\n",
    "* Bruk 8 bit til eksponent (exponent). Dette tilsvarer litt over 2 siffer i titallsystemet.\n",
    "* Bruk 23 bit til signifikanten (fraction). Tilsvarer omtrent 7 siffer i titallsystemet.\n",
    "\n",
    "Konsekvensen av dette er med andre ord at vi kan representere svært store tall med grov presisjon ***eller*** svært små tall med fin presisjon, men vi kan ikke ha store tall som også har høy presisjon. Høyere tallverdi betyr dermed også større avvik.\n",
    "\n",
    "Du kan lese mer om IEEE 754-standarden [her](https://en.wikipedia.org/wiki/IEEE_754), men dette kan trygt regnes som å være utenfor pensum."
   ]
  },
  {
   "cell_type": "markdown",
   "id": "f1b19e3d-8d8c-4bbc-b49e-f9965753f52f",
   "metadata": {
    "deletable": false,
    "editable": false
   },
   "source": [
    "## c)\n",
    "\n",
    "Matematisk er rekkefølgen på leddene i en sum likegyldig, dvs. f.eks. skal $a + b + c + d + e + f + g$ gi samme resultat som $g + f + e + d + c + b + a$ (eller hvilken som helst annen rekkefølge), uavhengig av størrelsen til leddene. \n",
    "\n",
    "I en praktisk beregning med flyttall med endelig presisjon kan imidlertid rekkefølgen ha betydning, særlig hvis det er stor forskjell på tallenes størrelse (noen veldig store tall og noen bitte små tall). \n",
    "\n",
    "I denne oppgaven er det laget et program for deg. Dette programmet skal du lese, kjøre, endre og forstå. Det som er viktig at du får med deg her er at de ulike summeringsrekkefølgene gir ulike resultater. \n",
    "\n",
    "\n",
    "\n",
    "***Les, kjør, endre på tallene, og forså hva koden under gjør. Svar på spørsmålet som kommentar i koden***"
   ]
  },
  {
   "cell_type": "code",
   "execution_count": null,
   "id": "38d08656-0646-4960-ab2b-226257bee86d",
   "metadata": {
    "deletable": false,
    "execution": {
     "iopub.execute_input": "2024-08-23T09:19:51.261863Z",
     "iopub.status.busy": "2024-08-23T09:19:51.259901Z",
     "iopub.status.idle": "2024-08-23T09:19:51.282330Z",
     "shell.execute_reply": "2024-08-23T09:19:51.279141Z"
    },
    "tags": []
   },
   "outputs": [],
   "source": [
    "T = 3.1e11 # et stort tall\n",
    "t = 3.1e-5 # et lite tall\n",
    "\n",
    "#sum av mange små tall\n",
    "sum_mange    = t+t+t+t+t+t+t+t+t+t+t+t+t+t+t+t+t+t+t+t+t+t+t+t+t+t+t+t+t+t+t+t+t+t+t+t+t+t+t\n",
    "\n",
    "# summerer med stort tall fremst, så de små\n",
    "stor_fremst  = T+t+t+t+t+t+t+t+t+t+t+t+t+t+t+t+t+t+t+t+t+t+t+t+t+t+t+t+t+t+t+t+t+t+t+t+t+t+t+t\n",
    "\n",
    "# samme sum men nå med stort tall bakerst\n",
    "stor_bakerst = t+t+t+t+t+t+t+t+t+t+t+t+t+t+t+t+t+t+t+t+t+t+t+t+t+t+t+t+t+t+t+t+t+t+t+t+t+t+t+T\n",
    "\n",
    "print(f'Sum av bare de små: {sum_mange}')\n",
    "print(f'Sum med stort tall først: {stor_fremst}')\n",
    "print(f'Sum med lite tall først: {stor_bakerst}')"
   ]
  },
  {
   "cell_type": "markdown",
   "id": "f19429f4-3ad8-4c00-98ed-b84686a410fa",
   "metadata": {
    "deletable": false,
    "editable": false
   },
   "source": [
    "#### Quizspørsmål:\n",
    "Hvilken av metodene gir det mest korrekte svaret?\n",
    "\n",
    "| Alternativ | Svar |\n",
    "|---|---|\n",
    "| 1 | Sum med stort tall først |\n",
    "| 2 | Sum med lite tall først |\n",
    "\n",
    "*Besvar spørsmålet ved å skrive en tallverdi for hvilket alternativ som er korrekt i variabelen `mitt_svar`*."
   ]
  },
  {
   "cell_type": "code",
   "execution_count": null,
   "id": "78f36313-50c8-44eb-a5a3-0d8872be2c47",
   "metadata": {
    "deletable": false,
    "execution": {
     "iopub.execute_input": "2024-08-23T09:19:51.293011Z",
     "iopub.status.busy": "2024-08-23T09:19:51.291908Z",
     "iopub.status.idle": "2024-08-23T09:19:51.307121Z",
     "shell.execute_reply": "2024-08-23T09:19:51.304580Z"
    }
   },
   "outputs": [],
   "source": [
    "mitt_svar = ? # Skriv et heltall her!"
   ]
  },
  {
   "cell_type": "code",
   "execution_count": null,
   "id": "2c410508-2679-4188-a73c-f7ae44ef8acd",
   "metadata": {
    "autofeedback": {
     "test_code": "ZnJvbSBhdXRvZmVlZGJhY2sgaW1wb3J0IEN1c3RvbVRlc3RzCmdyYWRpbmdfcmVzdWx0ID0gQ3VzdG9tVGVzdHMoKQpncmFkaW5nX3Jlc3VsdC50ZXN0KCdtaXR0X3N2YXInIGluIGdsb2JhbHMoKSBhbmQgbWl0dF9zdmFyID09IDIsIAogICAgICAgICAgICAgICAgICAgc3VjY2VzcyA9ICJjb3JyZWN0IGFuc3dlciB0byBxdWl6ISIsCiAgICAgICAgICAgICAgICAgICBmYWlsID0gImluY29ycmVjdCBhbnN3ZXIgdG8gcXVpeiEiIGlmICdtaXR0X3N2YXInIGluIGdsb2JhbHMoKSBlbHNlICJubyB2YWxpZCBhbnN3ZXIgZ2l2ZW4uIikKZ3JhZGluZ19yZXN1bHQuZ2V0X3Jlc3VsdHMoKQ=="
    },
    "deletable": false,
    "editable": false,
    "execution": {
     "iopub.execute_input": "2024-08-23T09:19:51.317133Z",
     "iopub.status.busy": "2024-08-23T09:19:51.315714Z",
     "iopub.status.idle": "2024-08-23T09:19:51.364739Z",
     "shell.execute_reply": "2024-08-23T09:19:51.362263Z"
    },
    "nbgrader": {
     "cell_type": "code",
     "checksum": "810d1ad73bf18bff515c1e6ecdc8d218",
     "grade": true,
     "grade_id": "cell-40ed4bd52b0924bf",
     "locked": true,
     "points": 1,
     "schema_version": 3,
     "solution": false,
     "task": false
    },
    "tags": []
   },
   "outputs": [],
   "source": []
  },
  {
   "cell_type": "markdown",
   "id": "142a84ed-7574-414b-b5cf-240e6e735e9a",
   "metadata": {
    "deletable": false,
    "editable": false
   },
   "source": [
    "<br>\n",
    "<nav class=\"navbar navbar-default\">\n",
    "  <div class=\"container-fluid\">\n",
    "    <div class=\"navbar-header\" style=\"float: left\">\n",
    "      <a class=\"navbar-brand\" href=\"8_Flyttallspresisjon.ipynb\" target=\"_self\">&lt; Forrige side: <i>Flyttallspresisjon</i></a>\n",
    "      </div>\n",
    "          <div class=\"navbar-header\" style=\"float: right\">\n",
    "      <a class=\"navbar-brand\" href=\"10_Karbondatering.ipynb\" target=\"_self\">Neste side: <i>Karbondatering</i> &gt;</a>\n",
    "    </div>\n",
    "  </div>\n",
    "</nav>"
   ]
  }
 ],
 "metadata": {
  "hide_input": false,
  "kernelspec": {
   "display_name": "Python 3 (ipykernel)",
   "language": "python",
   "name": "python3"
  },
  "language_info": {
   "codemirror_mode": {
    "name": "ipython",
    "version": 3
   },
   "file_extension": ".py",
   "mimetype": "text/x-python",
   "name": "python",
   "nbconvert_exporter": "python",
   "pygments_lexer": "ipython3",
   "version": "3.11.6"
  },
  "scenes_data": {
   "active_scene": "Default Scene",
   "init_scene": "",
   "scenes": [
    "Default Scene"
   ]
  },
  "toc": {
   "base_numbering": 1,
   "nav_menu": {},
   "number_sections": false,
   "sideBar": true,
   "skip_h1_title": false,
   "title_cell": "Innholdstabell",
   "title_sidebar": "Innhold",
   "toc_cell": false,
   "toc_position": {},
   "toc_section_display": true,
   "toc_window_display": true
  },
  "varInspector": {
   "cols": {
    "lenName": 16,
    "lenType": 16,
    "lenVar": 40
   },
   "kernels_config": {
    "python": {
     "delete_cmd_postfix": "",
     "delete_cmd_prefix": "del ",
     "library": "var_list.py",
     "varRefreshCmd": "print(var_dic_list())"
    },
    "r": {
     "delete_cmd_postfix": ") ",
     "delete_cmd_prefix": "rm(",
     "library": "var_list.r",
     "varRefreshCmd": "cat(var_dic_list()) "
    }
   },
   "types_to_exclude": [
    "module",
    "function",
    "builtin_function_or_method",
    "instance",
    "_Feature"
   ],
   "window_display": false
  }
 },
 "nbformat": 4,
 "nbformat_minor": 5
}
