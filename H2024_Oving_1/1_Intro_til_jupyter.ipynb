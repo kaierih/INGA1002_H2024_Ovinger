{
 "cells": [
  {
   "cell_type": "markdown",
   "id": "36c72d3f",
   "metadata": {
    "deletable": false,
    "editable": false,
    "tags": []
   },
   "source": [
    "<nav class=\"navbar navbar-default\">\n",
    "  <div class=\"container-fluid\">\n",
    "    <div class=\"navbar-header\" style=\"float: left\">\n",
    "        <a class=\"navbar-brand\" href=\"0_Forside.ipynb\" target=\"_self\"> <h2> &uarr; Tilbake til forsiden</h2></a>\n",
    "    </div>\n",
    "  </div>\n",
    "</nav>"
   ]
  },
  {
   "cell_type": "markdown",
   "id": "54647a27-bd05-4cfc-bd6f-28f846342531",
   "metadata": {
    "deletable": false,
    "editable": false,
    "slideshow": {
     "slide_type": ""
    },
    "tags": []
   },
   "source": [
    "# Introduksjon til Jupyter\n",
    "\n",
    "Hei, og velkommen til Jupyter, en annen måte å skrive kode på! Jupyter er et system som lar deg lage dokumenter som inneholder både tekst og programkode på en gang. Det fine her er at du kan kjøre programkoden inne i samme dokumentet som oppgaveteksten, og se resultatet umiddelbart. I denne oppgaven skal vi lære om hvordan man skriver et program i Jupyter, og få en smakebit på noen grunnleggende prinsipp i Python.\n",
    "\n",
    "## Kodeceller\n",
    "\n",
    "\n",
    "\n",
    "Noe av det første vi må lære oss er å kjøre en kodecelle. Dersom du trykker en plass på programkoden nedenfor for å velge cellen, kan hele cellen kjøres ved å trykke på $\\blacktriangleright$-knappen oppe i verktøylinjen, eller med hurtigtastkombinasjonen `ctrl + enter` (PC) / `cmd + enter` (Mac). \n"
   ]
  },
  {
   "cell_type": "code",
   "execution_count": null,
   "id": "039efbbb-4a5d-4a09-9578-c9645730da4e",
   "metadata": {
    "deletable": false,
    "execution": {
     "iopub.execute_input": "2024-08-19T08:02:34.388664Z",
     "iopub.status.busy": "2024-08-19T08:02:34.387263Z",
     "iopub.status.idle": "2024-08-19T08:02:34.406359Z",
     "shell.execute_reply": "2024-08-19T08:02:34.404354Z"
    }
   },
   "outputs": [],
   "source": [
    "print(\"Velkommen til Øving 1!\")  # Skriver ut en beskjed!"
   ]
  },
  {
   "cell_type": "markdown",
   "id": "66b8fd78-721f-4ad4-94b7-af7afe62204f",
   "metadata": {
    "deletable": false,
    "editable": false,
    "slideshow": {
     "slide_type": ""
    },
    "tags": []
   },
   "source": [
    "En kodecelle vil altså alltid vise resultatet fra den aller siste linjen i kodecellen som et \"Output\" i dokumentet. Dette kan være nyttig dersom man bruker jupyter litt som en kalkulator, da vi kan skrive koden for en matematisk utregning og få resultatet med en gang ved å kjøre cellen.\n",
    "\n",
    "### a) enkel utregning i jupyter\n",
    "Bruk kodecellen nedenfor til å utføre addisjonen `5 + 10`.\n",
    "\n",
    "*P.S. symbolet `+` betyr addisjon i Python* "
   ]
  },
  {
   "cell_type": "code",
   "execution_count": null,
   "id": "76427e3b-eefb-4857-91ac-c2b92ae1d05b",
   "metadata": {
    "deletable": false,
    "editable": true,
    "execution": {
     "iopub.execute_input": "2024-08-19T08:02:34.414333Z",
     "iopub.status.busy": "2024-08-19T08:02:34.413707Z",
     "iopub.status.idle": "2024-08-19T08:02:34.431531Z",
     "shell.execute_reply": "2024-08-19T08:02:34.429469Z"
    },
    "nbgrader": {
     "cell_type": "code",
     "checksum": "a858721b6f62e1629c6062e6108d0af6",
     "grade": false,
     "grade_id": "cell-4529e29b37b44b44",
     "locked": false,
     "schema_version": 3,
     "solution": true,
     "task": false
    },
    "slideshow": {
     "slide_type": ""
    },
    "tags": []
   },
   "outputs": [],
   "source": [
    "#-------------------------------------\n",
    "# SKRIV DIN KODE HER!\n",
    "#-------------------------------------"
   ]
  },
  {
   "cell_type": "code",
   "execution_count": null,
   "id": "113c38ef-24a0-4a91-ad7a-a6d8507eeacc",
   "metadata": {
    "autofeedback": {
     "test_code": "aW1wb3J0IHJlCmZyb20gYXV0b2ZlZWRiYWNrIGltcG9ydCBDb2RlQ2VsbFRlc3RzCgphbnN3ZXJfY2VsbF9uciA9IGxlbihJbiktMgpwcmV2aW91c19jZWxsX2NvbnRlbnRzID0gSW5bYW5zd2VyX2NlbGxfbnJdCiNwcmV2aW91c19jZWxsX291dHB1dCA9IE91dFtsaXN0KE91dC5rZXlzKCkpWy0xXV0KcHJldmlvdXNfY2VsbF9vdXRwdXQgPSBPdXRbYW5zd2VyX2NlbGxfbnJdIGlmIGFuc3dlcl9jZWxsX25yIGluIE91dC5rZXlzKCkgZWxzZSBOb25lCgpncmFkaW5nX3Jlc3VsdHMgPSBDb2RlQ2VsbFRlc3RzKHByZXZpb3VzX2NlbGxfY29udGVudHMsIGluaXRfd2d0PTAuNSkKaWYgcHJldmlvdXNfY2VsbF9vdXRwdXQgPT0gMTU6CiAgICBncmFkaW5nX3Jlc3VsdHMuYWRkX3Jlc3VsdChUcnVlLCBmIk91dHB1dCBmcm9tIGNlbGwge2Fuc3dlcl9jZWxsX25yfSBpcyBjb3JyZWN0LiIpCmVsc2U6CiAgICBncmFkaW5nX3Jlc3VsdHMudGVzdF9vdXRwdXQociIxNSIpCgppZiByZS5zZWFyY2gociIoNXwxMClccypbK117MX1ccyooNXwxMCkiLCBwcmV2aW91c19jZWxsX2NvbnRlbnRzKSBpcyBub3QgTm9uZToKICAgIGdyYWRpbmdfcmVzdWx0cy5hZGRfcmVzdWx0KFRydWUsIGYiRm91bmQgbWF0Y2ggZm9yIG1hdGggb3BlcmF0aW9uICc1ICsgMTAnIGluIGNlbGwge2Fuc3dlcl9jZWxsX25yfS4iKQplbHNlOgogICAgZ3JhZGluZ19yZXN1bHRzLmFkZF9yZXN1bHQoRmFsc2UsIGYiTm8gbWF0Y2ggZm9yIG1hdGggb3BlcmF0aW9uICc1ICsgMTAnIGZvdW5kIGluIGNlbGwge2Fuc3dlcl9jZWxsX25yfS4iKQogICAgICAgCnJvdW5kKGdyYWRpbmdfcmVzdWx0cy5nZXRfcmVzdWx0cygpKjMsIDIp"
    },
    "deletable": false,
    "editable": false,
    "execution": {
     "iopub.execute_input": "2024-08-19T08:02:34.440886Z",
     "iopub.status.busy": "2024-08-19T08:02:34.439588Z",
     "iopub.status.idle": "2024-08-19T08:02:36.026177Z",
     "shell.execute_reply": "2024-08-19T08:02:36.025337Z"
    },
    "nbgrader": {
     "cell_type": "code",
     "checksum": "ab364764922a6931e5a7411c98a35612",
     "grade": true,
     "grade_id": "cell-07edd38e3fd34dc3",
     "locked": true,
     "points": 3,
     "schema_version": 3,
     "solution": false,
     "task": false
    },
    "slideshow": {
     "slide_type": ""
    },
    "tags": []
   },
   "outputs": [],
   "source": [
    "# Denne cellen brukes til retting. La stå!"
   ]
  },
  {
   "cell_type": "markdown",
   "id": "72feb20f-92df-4cf5-b55b-b85ed81269ef",
   "metadata": {
    "deletable": false,
    "editable": false,
    "tags": []
   },
   "source": [
    "## Utskrift fra program\n",
    "\n",
    "Ofte er det ønskelig at programmet skriver ut mer enn bare resultatet fra siste kodelinje i cellen. Det kan for eksempel være ønskelig å tilføye forklarende tekst som forteller hva en tallverdi representerer. I tillegg er det svært nyttig å kunne skrive ut meldinger underveis i programmet, og ikke bare på slutten. \n",
    "\n",
    "Til dette formålet har python en funkson som heter `print` som vi kan bruke. Det gjøres ved å skrive nøkkelordet *print*, og deretter omslutte ønsket utskrift med paranteser. Dersom vi ønsker å skrive ut tekst, gjøres dette ved å omslutte teksten med hermetgn `\"`, eller enkelt apostrof `'`. Når vi gjør dette lager vi det som kalles en ***streng***. I tillegg er det mulig å kombinere utskrift av tall/utregninger og forklarende tekst ved å lage en såkalt `f-string` som forklart under.\n",
    "\n",
    "Nedenfor ser du en rekke eksempel med bruk av `print()`. Kjør cellen og studer hva som blir skrevet ut.\n",
    "\n"
   ]
  },
  {
   "cell_type": "code",
   "execution_count": null,
   "id": "c9a1f276",
   "metadata": {
    "deletable": false,
    "execution": {
     "iopub.execute_input": "2024-08-19T08:02:36.030782Z",
     "iopub.status.busy": "2024-08-19T08:02:36.030102Z",
     "iopub.status.idle": "2024-08-19T08:02:36.035495Z",
     "shell.execute_reply": "2024-08-19T08:02:36.034552Z"
    },
    "tags": []
   },
   "outputs": [],
   "source": [
    "print(\"Vi ønsker å regne ut 6*2\")\n",
    "print(6 * 2)\n",
    "print(\"Hva med litt forklarende tekst?\")\n",
    "print(f\"6 ganger 2 er lik  {6*2}\")"
   ]
  },
  {
   "cell_type": "markdown",
   "id": "9b0d8863-e9ed-4248-9892-53eca70fcebc",
   "metadata": {
    "deletable": false,
    "editable": false,
    "tags": []
   },
   "source": [
    "#### Om f-strings\n",
    "Som man kan se i den siste linjen i kodecellen over så starter teksten med en `f` før hermetegnene `\"` i den siste print-setningen. Dette er en spesiell måte å lage en tekststreng på, som lar oss enkelt inkludere resultatet fra regneoperasjoner eller variabler (som vi skal lære om i neste oppgave) i teksten ved å omslutte med krøllparantes `{}`. Merk at når teksten skrives ut, er det *resultatet* av regneoperasjonen som skrives ut og ikke `6*2`."
   ]
  },
  {
   "cell_type": "markdown",
   "id": "be1f2913",
   "metadata": {
    "deletable": false,
    "editable": false,
    "tags": []
   },
   "source": [
    "### b) bruk av `print()`\n",
    "\n",
    "Bruk `print()` til å skrive ut resultate av regneoperasjonen $3\\cdot 10 - 17$. Pass på å inkludere forklarende tekst slik at utskriften blir noe som f.eks. `3 ganger 10 minus 17 er lik ...`.\n",
    "\n",
    "*P.S. symbolene `*` og `-` betyr henholdsvis multiplikasjon og subtraksjon i Python.*"
   ]
  },
  {
   "cell_type": "code",
   "execution_count": null,
   "id": "70b21d0e-ec92-4d82-9734-a177aae2127f",
   "metadata": {
    "deletable": false,
    "execution": {
     "iopub.execute_input": "2024-08-19T08:02:36.039446Z",
     "iopub.status.busy": "2024-08-19T08:02:36.039174Z",
     "iopub.status.idle": "2024-08-19T08:02:36.045424Z",
     "shell.execute_reply": "2024-08-19T08:02:36.044143Z"
    },
    "nbgrader": {
     "cell_type": "code",
     "checksum": "5569e18b8ef27871cb88620929d9568a",
     "grade": false,
     "grade_id": "cell-dadac0eb95a03184",
     "locked": false,
     "schema_version": 3,
     "solution": true,
     "task": false
    }
   },
   "outputs": [],
   "source": [
    "#-------------------------------------\n",
    "# SKRIV DIN KODE HER!\n",
    "#-------------------------------------"
   ]
  },
  {
   "cell_type": "code",
   "execution_count": null,
   "id": "15adc0cb-9b44-4d3c-b218-a20e444b5ed4",
   "metadata": {
    "autofeedback": {
     "test_code": "ZnJvbSBhdXRvZmVlZGJhY2sgaW1wb3J0IENvZGVDZWxsVGVzdHMKCmFuc3dlcl9jZWxsX2luZGV4ID0gbGVuKEluKS0yCgphbnN3ZXJfY2VsbF9jb250ZW50cyA9IEluW2Fuc3dlcl9jZWxsX2luZGV4XQoKZ3JhZGluZ19yZXN1bHRzID0gQ29kZUNlbGxUZXN0cyhhbnN3ZXJfY2VsbF9jb250ZW50cywgaW5pdF93Z3Q9MC41KQpncmFkaW5nX3Jlc3VsdHMudGVzdF9vdXRwdXQociIzLioxMC4qMTciLCBzYW1wbGUgPSAiMyBnYW5nZXIgMTAgbWludXMgMTciKQpncmFkaW5nX3Jlc3VsdHMudGVzdF9vdXRwdXQociIxMyIsIGlnbm9yZV9jb2RlX21hdGNoPUZhbHNlKQpyb3VuZChncmFkaW5nX3Jlc3VsdHMuZ2V0X3Jlc3VsdHMoKSo0LCAyKQ=="
    },
    "deletable": false,
    "editable": false,
    "execution": {
     "iopub.execute_input": "2024-08-19T08:02:36.049340Z",
     "iopub.status.busy": "2024-08-19T08:02:36.048759Z",
     "iopub.status.idle": "2024-08-19T08:02:36.059283Z",
     "shell.execute_reply": "2024-08-19T08:02:36.058331Z"
    },
    "nbgrader": {
     "cell_type": "code",
     "checksum": "e62138847631bce8894f0bd4f0b41e65",
     "grade": true,
     "grade_id": "cell-26c9954b6393a2a0",
     "locked": true,
     "points": 4,
     "schema_version": 3,
     "solution": false,
     "task": false
    },
    "slideshow": {
     "slide_type": ""
    },
    "tags": []
   },
   "outputs": [],
   "source": [
    "# Denne cellen brukes til retting. La stå!"
   ]
  },
  {
   "cell_type": "markdown",
   "id": "3e6def20-8549-4955-86fe-bf59dee6c3a7",
   "metadata": {
    "deletable": false,
    "editable": false,
    "tags": []
   },
   "source": [
    "## Kommentarer\n",
    "\n",
    "Kommentarer er tekst som kan tilføyes programkode som ikke vil kjøres som programkode. Kommentarer er en essensiell del av programmering, da de kan brukes til å gjøre programkoden mer forståelig for både deg selv og andre. I tillegg kan det hende man vil midlertidig fjerne noen kodelinjer fra et program, men ha muligheten til å sette de tilbake senere. Da er det nyttig å kommentere de vekk istedenfor å slette de fullstendig. \n",
    "\n",
    "En kommentar skrives ved hjelp av symbolet `#`, som du sikkert allerede har sett i de to siste oppgavene med linjen `# Skriv din kode her:`. Alt som blir skrevet på en linje som kommer til vensre for en `#`, vil farges blått og regnes som en kommentar. Dette vil altså ignoreres av python dersom du trykker \"run\" på cellen.\n",
    "\n",
    "```Python\n",
    "# Dette er en kommentar\n",
    "print(\"Dette er ikke en kommentar\")\n",
    "```"
   ]
  },
  {
   "cell_type": "markdown",
   "id": "db8fb7c0-23e8-4e6d-91a1-ba0c464a3e95",
   "metadata": {
    "deletable": false,
    "editable": false,
    "tags": []
   },
   "source": [
    "### c) kodekommentarer\n",
    "\n",
    "Legg til en linje med kommentar i kodecellen nedenfor med teksten \"Kommentarer er kult\""
   ]
  },
  {
   "cell_type": "code",
   "execution_count": null,
   "id": "2ea7919d",
   "metadata": {
    "deletable": false,
    "execution": {
     "iopub.execute_input": "2024-08-19T08:02:36.063385Z",
     "iopub.status.busy": "2024-08-19T08:02:36.062864Z",
     "iopub.status.idle": "2024-08-19T08:02:36.067475Z",
     "shell.execute_reply": "2024-08-19T08:02:36.066546Z"
    },
    "nbgrader": {
     "cell_type": "code",
     "checksum": "08aa52771661419d870ddf60965736f7",
     "grade": false,
     "grade_id": "cell-b350bdb0969a2758",
     "locked": false,
     "schema_version": 3,
     "solution": true,
     "task": false
    }
   },
   "outputs": [],
   "source": [
    "#-------------------------------------\n",
    "# SKRIV DIN KODE HER!\n",
    "#-------------------------------------"
   ]
  },
  {
   "cell_type": "code",
   "execution_count": null,
   "id": "b28c9d36",
   "metadata": {
    "autofeedback": {
     "test_code": "aW1wb3J0IHJlCmZyb20gYXV0b2ZlZWRiYWNrIGltcG9ydCBDdXN0b21UZXN0cwpncmFkaW5nX3Jlc3VsdHMgPSBDdXN0b21UZXN0cygpCgphbnN3ZXJfY2VsbF9uciA9IGxlbihJbiktMQpwcmV2aW91c19jZWxsX2NvbnRlbnQgPSBJblthbnN3ZXJfY2VsbF9uci0xXQoKZ3JhZGluZ19yZXN1bHRzLnRlc3QocmUuc2VhcmNoKHIiI3sxfS4qa29tbWVudGFyZXIgZXIga3VsdCIsIHByZXZpb3VzX2NlbGxfY29udGVudC5sb3dlcigpKSBpcyBub3QgTm9uZSwKICAgICAgICAgICAgICAgICAgICAgc3VjY2Vzcz1mIkFwcHJvcHJpYXRlIGNvZGUgY29tbWVudCBmb3VuZCBpbiBjZWxsIHthbnN3ZXJfY2VsbF9ucn0uIiwKICAgICAgICAgICAgICAgICAgICAgZmFpbD1mIk5vIGNvZGUgY29tbWVudCBtYXRjaGluZyAnS29tbWVudGFyZXIgZXIga3VsdCcgZm91bmQgaW4gY2VsbCB7YW5zd2VyX2NlbGxfbnJ9LiIpCgpyb3VuZChncmFkaW5nX3Jlc3VsdHMuZ2V0X3Jlc3VsdHMoKSozLCAyKQ=="
    },
    "deletable": false,
    "editable": false,
    "execution": {
     "iopub.execute_input": "2024-08-19T08:02:36.071165Z",
     "iopub.status.busy": "2024-08-19T08:02:36.070869Z",
     "iopub.status.idle": "2024-08-19T08:02:36.082471Z",
     "shell.execute_reply": "2024-08-19T08:02:36.081504Z"
    },
    "nbgrader": {
     "cell_type": "code",
     "checksum": "61b39bae4b16dbb3253ce82c0278732c",
     "grade": true,
     "grade_id": "cell-079da3c13c050182",
     "locked": true,
     "points": 3,
     "schema_version": 3,
     "solution": false,
     "task": false
    },
    "tags": []
   },
   "outputs": [],
   "source": [
    "# Denne cellen brukes til retting. La stå!"
   ]
  },
  {
   "cell_type": "markdown",
   "id": "b0db2d6d",
   "metadata": {
    "deletable": false,
    "editable": false,
    "tags": []
   },
   "source": [
    "## Til info: tekstceller\n",
    "\n",
    "Teksten i tekstcellene slik som denne er skrevet med noe som heter *markdown*, som er et enkelt språk for tekstredigering. Med markdown kan man lage tabeller og punktlister, men også gjøre mer avanserte tign som å skrive matematiske formler og sette inn bilder.\n",
    "\n",
    "Dersom du dobbeltklikker på en tekstcelle vil du se kildeteksten som genererer den redigierte tekstcellen. For å få tilbake den lesbare utgaven, er det bare å velge \"run cell\" med tekstcellen markert. "
   ]
  },
  {
   "cell_type": "markdown",
   "id": "fd7c6923-53c2-40a1-83d3-963ee6934f77",
   "metadata": {
    "deletable": false,
    "editable": false
   },
   "source": [
    "<br>\n",
    "<nav class=\"navbar navbar-default\">\n",
    "  <div class=\"container-fluid\">\n",
    "    <div class=\"navbar-header\" style=\"float: right\">\n",
    "        <a class=\"navbar-brand\" href=\"2_Variabler.ipynb\" target=\"_self\">Neste side: <i>Variabler</i> &gt;</a>\n",
    "    </div>\n",
    "  </div>\n",
    "</nav>"
   ]
  }
 ],
 "metadata": {
  "kernelspec": {
   "display_name": "Python 3 (ipykernel)",
   "language": "python",
   "name": "python3"
  },
  "language_info": {
   "codemirror_mode": {
    "name": "ipython",
    "version": 3
   },
   "file_extension": ".py",
   "mimetype": "text/x-python",
   "name": "python",
   "nbconvert_exporter": "python",
   "pygments_lexer": "ipython3",
   "version": "3.11.6"
  },
  "scenes_data": {
   "active_scene": "Default Scene",
   "init_scene": "",
   "scenes": [
    "Default Scene"
   ]
  },
  "toc": {
   "base_numbering": 1
  }
 },
 "nbformat": 4,
 "nbformat_minor": 5
}
