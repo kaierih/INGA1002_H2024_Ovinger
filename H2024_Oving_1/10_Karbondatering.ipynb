{
 "cells": [
  {
   "cell_type": "markdown",
   "id": "25d20cfb-955e-4dfd-a46a-6a7ae64dbc02",
   "metadata": {},
   "source": [
    "# Karbondatering av treverk (vanskelig)\n",
    "\n",
    "Karbondatering er en spennende måte å finne alderen til organisk materiale basert på forholdet mellom Karbon-14 (c14) og Karbon-12 (c12). Når organisk materiale (som trær) vokser vil de ta opp karbon fra atmosfæren. Ved fotosyntese vil denne karbonen bli gjort om til glukose, og deretter lagret i treet. Nesten all karbon i atmosfæren er c12, dette er et stabilt atom. c14 derimot er radioaktivt og blir laget når nitrogen blir truffet av stråler fra sola og andre himmellegemer. Denne kollisjonen av stråler gjør at et proton fra karbonet blir slått løst og gjort om til c14. Siden Karbon-14 er radioaktivt vil det gå gjennom beta-henfall, som gjør om c14 til nitrogen.\n",
    "\n",
    "<img src=\"Figurer/CarbonDating.webp\" width=\"40%\" align=\"right\" />\n",
    "\n",
    "Dette vil si at når et tre vokser og lever vil forholdet mellom c14 og c12 være stabil. Deretter når treet dør vil c14 bli gjort om til nitrogen, og forholdet mellom de to karbon isotopene vil forskyves. Dette gjør at hvis man vet halveringstiden til c14 kan man regne ut hvor gammelt det organiske materialet er.\n",
    "\n",
    "I atmosfæren er forholdet mellom c14 og c12 $1.3 \\text{ epb}$ (enheter per milliard). Dette betyr at hvis vi leter gjennom karbon atomer til vi har 1 milliard c12, har vi i snitt funnet 1.3 c14 atomer. Halveringstiden til c14 er 5730 år.\n",
    "\n",
    "Med disse verdiene kan vi regne ut hvor gammelt organisk materiale er. For eksempel, hvis vi ser at forholdet mellom c14 og c12 er blitt 0.65epb vet vi at dette materialet er 5730 år siden mengden c14 er halvparten så mye som orginalt.\n",
    "\n",
    "Din oppgave er å bruke både matematikk-kunnskaper *og* programmeringskunnskaper til å lage en python funksjon som tar inn forholdet mellom c14 og c12 oppgitt i $\\text{epb}$ og returnerer alderen til materialet. Forkunnskapen som trengs for å løse dette kan oppsummeres i to punkt:\n",
    "1. Funksjonen $N(t)$ som beskriver konsentrasjon av c14 over tid $t$ oppgitt i år er et eksponentielt uttrykk\n",
    "$$ N(t) = N_0 \\cdot e ^{-\\lambda \\cdot t}$$\n",
    "der $\\lambda$ er [omdanningskonstanten](https://en.wikipedia.org/wiki/Exponential_decay), og $N_0$ er konsentrasjonen av c14 i levende organisk materiale.\n",
    "\n",
    "3. Halveringstiden $t_{\\text{1/2}}$ forteller oss at $N(t_{\\text{1/2}}) = \\frac{N_0}{2}$\n",
    "\n",
    "\n",
    "Hint: For å løse denne oppgaven må du ta i bruk logaritmiske funksjoner. Disse kan du finne i biblioteket `numpy`, og en demonstrasjon av hvordan de kan tas i bruk er vist i kodecellen under."
   ]
  },
  {
   "cell_type": "code",
   "execution_count": null,
   "id": "194751a2-d2b9-4c70-9e1b-ae66b06398a8",
   "metadata": {},
   "outputs": [],
   "source": [
    "# Showcase math.log()\n",
    "import numpy as np\n",
    "x = np.log10(10_000) # log10(10000)\n",
    "y = np.log2(2048)    # log2(2048)\n",
    "z = np.log(100)      # ln(10)\n",
    "print(f\"{x = }, {y = } og {z = }\")"
   ]
  },
  {
   "cell_type": "markdown",
   "id": "2b4e2c76-0ed7-4c0c-be05-e41d62ae5b4f",
   "metadata": {},
   "source": [
    "### a) \n",
    "Skriv ferdig funksjonen `find_age`."
   ]
  },
  {
   "cell_type": "code",
   "execution_count": null,
   "id": "513052ac-ae3c-4fd0-be3e-bbfcd3184897",
   "metadata": {
    "deletable": false,
    "nbgrader": {
     "cell_type": "code",
     "checksum": "ce4be6facefd2c809486b92f0ce07a40",
     "grade": false,
     "grade_id": "cell-1c13b3d960ea6e7c",
     "locked": false,
     "schema_version": 3,
     "solution": true,
     "task": false
    }
   },
   "outputs": [],
   "source": [
    "import numpy as np\n",
    "\n",
    "def find_age(N):\n",
    "    #-------------------------------------\n",
    "    # SKRIV DIN KODE HER:\n",
    "    #-------------------------------------"
   ]
  },
  {
   "cell_type": "code",
   "execution_count": null,
   "id": "299a0da9-11c1-4669-975d-3b5e26e9eb3a",
   "metadata": {
    "deletable": false,
    "distributed_autograding": {
     "test_code": "ZnJvbSByYW5kb20gaW1wb3J0IHJhbmRpbnQsIHNhbXBsZQppbXBvcnQgbnVtcHkgYXMgbnAKZnJvbSBhdXRvZmVlZGJhY2sgaW1wb3J0IEZ1bmN0aW9uVGVzdHMKCmRlZiBzb2x1dGlvbl9maW5kX2FnZShOKToKICAgIE5fMCA9IDEuMwogICAgdF9oYWxmID0gNTczMAogICAgYWdlID0gLW5wLmxvZzIoTi9OXzApKnRfaGFsZgogICAgcmV0dXJuIGFnZQoKZ3JhZGluZ19yZXN1bHRzID0gRnVuY3Rpb25UZXN0cyhzb2x1dGlvbl9maW5kX2FnZSkKdHJ5OgogICAgZ3JhZGluZ19yZXN1bHRzLmFkZF90ZXN0X2Z1bmMoZmluZF9hZ2UpCmV4Y2VwdCBFeGNlcHRpb24gYXMgZToKICAgIGdyYWRpbmdfcmVzdWx0cy5sb2cuYXBwZW5kKCJDb3VsZCBub3QgcnVuIHRlc3RzLCAiK2UuYXJnc1swXSkKZWxzZToKICAgIE5fdmFscyA9IG5wLmNvbmNhdGVuYXRlKChbMS4zLCAwLjY1XSwgbnAucmFuZG9tLnJhbmQoMykqMS4yKzAuMDUpKQogICAgZm9yIE4gaW4gTl92YWxzOgogICAgICAgIGdyYWRpbmdfcmVzdWx0cy50ZXN0X3JldHVybl92YWx1ZShOKQpyb3VuZChncmFkaW5nX3Jlc3VsdHMuZ2V0X3Jlc3VsdHMoKSo3LCAyKQ=="
    },
    "editable": false,
    "nbgrader": {
     "cell_type": "code",
     "checksum": "791af243b459f91cd1a27686ebb3c088",
     "grade": true,
     "grade_id": "cell-b52ce3b7c2ba51f1",
     "locked": true,
     "points": 7,
     "schema_version": 3,
     "solution": false,
     "task": false
    }
   },
   "outputs": [],
   "source": []
  },
  {
   "cell_type": "markdown",
   "id": "22230c47-af04-4b2a-a24f-4451d90b01f5",
   "metadata": {},
   "source": [
    "## Validering av funksjon\n",
    "\n",
    "Hvordan kan vi være sikker på at funksjonen vi har laget er riktig? Et godt alternativ er å sammenligne resultatet funksjonen vår gir med én eller flere konkrete eksempler som vi enkelt kan finne svaret til. Disse eksemplene kan være konsentrasjoner $N$ lik $\\frac{N_0}{2}, \\frac{N_0}{4}, \\frac{N_0}{8}$ osv, der alderen vil være et henholdsvis $1$, $2$ og $3$ ganger halverinstiden:\n",
    "\n",
    "|c14-konsentrasjon|alder| \n",
    "|---|---|\n",
    "|$$\\frac{N_0}{2}$$|$$t_{\\text{1/2}}$$|\n",
    "|$$\\frac{N_0}{4}$$|$$2\\cdot t_{\\text{1/2}}$$|\n",
    "|$$\\frac{N_0}{8}$$|$$3 \\cdot t_{\\text{1/2}}$$|\n",
    "\n",
    "### b) \n",
    "\n",
    "Lag et Python-program som bruker funksjonen `find_age` til å regne ut alderen tigitt c14-konsentrasjonene gitt i tabellen over. Programmet skal deretter skrive ut differansen mellom funksjonens returverdi og verdiene i tabellen ovenfor. Ved riktig utførelse skal differansen være lik $0$ i alle tre tilfeller."
   ]
  },
  {
   "cell_type": "markdown",
   "id": "59f69560-9d86-41a3-a6d5-2ba0457942e8",
   "metadata": {},
   "source": [
    "$$N_t = \\left(\\frac{1}{2}\\right)^{\\frac{t}{t_{half}}}$$"
   ]
  },
  {
   "cell_type": "code",
   "execution_count": null,
   "id": "1c5aba63-e68e-48cc-a6a1-6cd9450c1528",
   "metadata": {
    "deletable": false,
    "nbgrader": {
     "cell_type": "code",
     "checksum": "25ac502478c0d84f21d9044539c01e72",
     "grade": false,
     "grade_id": "cell-4df6e2377fcea8bc",
     "locked": false,
     "schema_version": 3,
     "solution": true,
     "task": false
    }
   },
   "outputs": [],
   "source": [
    "#-------------------------------------\n",
    "# SKRIV DIN KODE HER:\n",
    "#-------------------------------------"
   ]
  },
  {
   "cell_type": "code",
   "execution_count": null,
   "id": "b32846a6-fedb-4930-bb01-0bdd48f80dd1",
   "metadata": {
    "deletable": false,
    "distributed_autograding": {
     "test_code": "ZnJvbSB1bml0dGVzdC5tb2NrIGltcG9ydCBwYXRjaApmcm9tIGF1dG9mZWVkYmFjayBpbXBvcnQgQ3VzdG9tVGVzdHMKCmFuc3dlcl9jZWxsX2luZGV4ID0gbGVuKEluKS0yCmFuc3dlcl9jZWxsX2NvbnRlbnRzID0gSW5bYW5zd2VyX2NlbGxfaW5kZXhdCgpncmFkaW5nX3Jlc3VsdHMgPSBDdXN0b21UZXN0cygpCnRyeToKICAgIHdpdGggcGF0Y2goZiJ7X19uYW1lX199LmZpbmRfYWdlIikgYXMgbW9ja19maW5kX2FnZToKICAgICAgICB3aXRoIHBhdGNoKGYie19fbmFtZV9ffS5wcmludCIpIGFzIG1vY2tfcHJpbnQ6CiAgICAgICAgICAgIGV4ZWMoYW5zd2VyX2NlbGxfY29udGVudHMpCmV4Y2VwdCBFeGNlcHRpb24gYXMgZToKICAgIGdyYWRpbmdfcmVzdWx0cy5hZGRfcmVzdWx0KEZhbHNlLCAiY291bGQgbm90IHJ1biBhbnN3ZXIgY2VsbDogIiArIGUuYXJnc1swXSkKZWxzZToKICAgIHNvbHV0aW9uX2FyZ3NfbGlzdCA9IFswLjY1LCAwLjMyNSwgMC4xNjI1XQogICAgZm9yIGNhbGxfYXJncyBpbiBtb2NrX2ZpbmRfYWdlLmNhbGxfYXJnc19saXN0OgogICAgICAgIGlmIGxlbihjYWxsX2FyZ3MuYXJncyk+MCBhbmQgY2FsbF9hcmdzLmFyZ3NbMF0gaW4gc29sdXRpb25fYXJnc19saXN0OgogICAgICAgICAgICBzb2x1dGlvbl9hcmdzX2xpc3QucmVtb3ZlKGNhbGxfYXJncy5hcmdzWzBdKQogICAgICAgICAgICBncmFkaW5nX3Jlc3VsdHMuYWRkX3Jlc3VsdChUcnVlLCBmImRldGVjdGVkIGZ1bmN0aW9uIGNhbGwgd2l0aCBpbnB1dCBOPXtjYWxsX2FyZ3MuYXJnc1swXX0iKQogICAgZm9yIHZhbHVlIGluIHNvbHV0aW9uX2FyZ3NfbGlzdDoKICAgICAgICBncmFkaW5nX3Jlc3VsdHMuYWRkX3Jlc3VsdChGYWxzZSwgZiJubyBmdW5jdGlvbiBjYWxsIGRldGVjdGVkIHdpdGggaW5wdXQgTj17dmFsdWV9IikKcm91bmQoZ3JhZGluZ19yZXN1bHRzLmdldF9yZXN1bHRzKCkqMywgMik="
    },
    "editable": false,
    "nbgrader": {
     "cell_type": "code",
     "checksum": "ddb400b249ce004b1284a51f54d2357e",
     "grade": true,
     "grade_id": "cell-0d82608e01132436",
     "locked": true,
     "points": 3,
     "schema_version": 3,
     "solution": false,
     "task": false
    }
   },
   "outputs": [],
   "source": []
  }
 ],
 "metadata": {
  "kernelspec": {
   "display_name": "Python 3 (ipykernel)",
   "language": "python",
   "name": "python3"
  },
  "language_info": {
   "codemirror_mode": {
    "name": "ipython",
    "version": 3
   },
   "file_extension": ".py",
   "mimetype": "text/x-python",
   "name": "python",
   "nbconvert_exporter": "python",
   "pygments_lexer": "ipython3",
   "version": "3.11.6"
  }
 },
 "nbformat": 4,
 "nbformat_minor": 5
}
