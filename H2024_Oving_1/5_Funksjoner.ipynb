{
 "cells": [
  {
   "cell_type": "markdown",
   "id": "bc29b822-93c7-4869-8cba-e4575ac708ce",
   "metadata": {
    "deletable": false,
    "editable": false
   },
   "source": [
    "<nav class=\"navbar navbar-default\">\n",
    "  <div class=\"container-fluid\">\n",
    "    <div class=\"navbar-header\" style=\"float: left\">\n",
    "        <a class=\"navbar-brand\" href=\"0_Forside.ipynb\" target=\"_self\"> <h2> &uarr; Tilbake til forsiden</h2></a>\n",
    "    </div>\n",
    "  </div>\n",
    "</nav>"
   ]
  },
  {
   "cell_type": "markdown",
   "id": "e80a077b-99c5-49d9-9b16-3405846714b3",
   "metadata": {
    "deletable": false,
    "editable": false
   },
   "source": [
    "# Funksjoner\n",
    "\n",
    "I tillegg til likheter mellom matematikk og Python med hensyn til aritmetiske uttrykk, finnes det likheter for funksjoner. I matematikken mapper funksjoner en input $X$ til en output $Y$. Vi kan for eksempel ha funksjonen $f(x) = 2x + 3$, som mapper input-verdien $x$ til en ny verdi $y = 2x + 3$. Setter man inn en verdi i denne funksjonen, f.eks $2$, vil man få outputen $2 \\cdot 2 + 3 = 4 + 3 = 7$. \n",
    "\n",
    "<img src=\"Figurer/funksjons_forklaring.png\" width=\"30%\" align=\"right\" />\n",
    "\n",
    "Det samme gjelder for funksjoner i Python. Forskjellen mellom funksjoner i Python og funksjoner i matematikken er at  i Python trenger ikke nødvendigvis funksjonene å være matematiske. I tillegg er det en forskjell i opprettelsen av funksjonene. Denne øvingen vil gi en smakebit på bruk av funksjoner i Python, resten kommer i en senere øving. \n",
    "\n",
    "I denne øvingen skal du lære å skrive matetmatiske funksjoner, som over, i Python. En funksjon i Python defineres med `def`-nøkkelordet. Deretter kommer et funksjonsnavn, for eksempel `f`. Funksjonsnavnet kan være hva som helst, så lenge det følger de vanlige reglene for variabelnavn. Funksjonsdefinisjonen avsluttes med parenteser `()` og kolon `:`. Parentesene kan være tomme, eller de kan inneholde _parametere_ som i matematikken. Et parameter i matematikken er gjerne `x`, og er et tall. I Python kan parameterene være av hvilken som helst variabeltype, og er en helt vanlig variabel.\n",
    "\n",
    "Etter definisjonen av funksjonen kommer funksjonskroppen. Her skiller funksjonene i Python seg mest ut fra matematiske funksjoner. Matematiske funksjoner gir deg kun et output. De gjør kun én ting. Funksjoner i Python kan være lengre og gjøre flere ting før den gir output. Dette kan f.eks være å sjekke at parameteren som gis med i funksjonen er korrekt, eller mellomlagre verdier og gjøre flere utregninger. \n",
    "\n",
    "Når en funksjon i Python skal gi output brukes `return`-nøkkelordet. Her sier man \"returner denne verdien\". Den returnerte verdien kan være av hvilken som helst variabeltype, i motsetning til matematikken som gir et tall som output.\n",
    "\n",
    "Eksempel på den matematiske funksjonen $f(x) = 2x + 3$ i Python:"
   ]
  },
  {
   "cell_type": "code",
   "execution_count": null,
   "id": "2f2d6c79-770f-4507-a400-5338785765a4",
   "metadata": {
    "deletable": false,
    "execution": {
     "iopub.execute_input": "2024-08-20T10:43:42.737990Z",
     "iopub.status.busy": "2024-08-20T10:43:42.737217Z",
     "iopub.status.idle": "2024-08-20T10:43:42.756971Z",
     "shell.execute_reply": "2024-08-20T10:43:42.755089Z"
    }
   },
   "outputs": [],
   "source": [
    "def f(x): # Definerer funksjonen\n",
    "    y = 2 * x + 3 # Regner ut utgangsverdien y, som er lik 2 ganger x pluss 3\n",
    "    return y # Returnerer utgangsverdien y"
   ]
  },
  {
   "cell_type": "markdown",
   "id": "dc46208d-3abc-4aad-bb8c-e5f54a617358",
   "metadata": {
    "deletable": false,
    "editable": false
   },
   "source": [
    "Når en funksjon står for seg selv, som funksjonen over, får vi ingen output når vi kjører koden. Funksjonen er kun _definert_, akkurat som når man oppretter seg en variabel. På samme måte som man ikke kan bruke variabler før de er definert, kan man ikke bruke funksjoner før de er definert:\n",
    "\n",
    "```python\n",
    "# Her kan man ikke bruke a eller min_funksjon\n",
    "\n",
    "a = 1.3 # Assosierer navnet a med et flyttallsobjekt i minnet\n",
    "\n",
    "# Her kan man bruke a, men ikke min_funksjon\n",
    "\n",
    "def min_funksjon(): # Assosierer navnet min_funksjon med et funksjonsobjekt i minnet\n",
    "\n",
    "# Her kan man bruke begge\n",
    "```\n",
    "\n",
    "\n",
    "Prøv å kjøre kodeblokken over og se at du ikke får noe output.\n",
    "\n",
    "Når en funksjon er defniert, kan vi _kalle_ på den. Dette kan man gjøre ved å skrive funksjonsnavnet, etterfulgt av parenteser og eventuelle _argumenter_ i parentesene. Kodeblokken under kaller på funksjonen `f(x)`, med argumentet $2$. Prøv å kjøre den!"
   ]
  },
  {
   "cell_type": "code",
   "execution_count": null,
   "id": "59c1d63d-59ec-424a-a9d8-71c1a86a9e43",
   "metadata": {
    "deletable": false,
    "execution": {
     "iopub.execute_input": "2024-08-20T10:43:42.766235Z",
     "iopub.status.busy": "2024-08-20T10:43:42.765585Z",
     "iopub.status.idle": "2024-08-20T10:43:42.782257Z",
     "shell.execute_reply": "2024-08-20T10:43:42.780494Z"
    }
   },
   "outputs": [],
   "source": [
    "f(2)"
   ]
  },
  {
   "cell_type": "markdown",
   "id": "2a8b8be1-b974-4f03-913e-797450a5ba66",
   "metadata": {
    "deletable": false,
    "editable": false
   },
   "source": [
    "### a) Skrive funksjonsuttrykk riktig i Python\n",
    "\n",
    "**Skriv følgende matematiske funksjoner i Python:**\n",
    "\n",
    "$f(x) = 2x + 1$\n",
    "\n",
    "$g(x) = \\frac{-4x + 2}{5x + 3}$\n",
    "\n",
    "$h(x) = x^2 + 2x + 1$\n",
    "\n",
    "$i(x) = \\sqrt{x}$\n",
    "\n",
    "$j(x) = \\sin{x} + \\cos{x}$\n",
    "\n",
    "**_Skriv koden din i kodeblokken under_**\n",
    "\n",
    "**Hint:** Bruk av **numpy** biblioteket kan gjøre noen av funksjonene lettere "
   ]
  },
  {
   "cell_type": "code",
   "execution_count": null,
   "id": "0f327665-057f-4c55-be3e-045beadfbd9e",
   "metadata": {
    "deletable": false,
    "execution": {
     "iopub.execute_input": "2024-08-20T10:43:42.791094Z",
     "iopub.status.busy": "2024-08-20T10:43:42.790445Z",
     "iopub.status.idle": "2024-08-20T10:43:43.035902Z",
     "shell.execute_reply": "2024-08-20T10:43:43.033986Z"
    },
    "nbgrader": {
     "cell_type": "code",
     "checksum": "0aa3d6317b15f19c3ce9337a974c312e",
     "grade": false,
     "grade_id": "cell-717331bd390185a7",
     "locked": false,
     "schema_version": 3,
     "solution": true,
     "task": false
    },
    "tags": []
   },
   "outputs": [],
   "source": [
    "#-------------------------------------\n",
    "# SKRIV DIN KODE HER!\n",
    "#-------------------------------------"
   ]
  },
  {
   "cell_type": "code",
   "execution_count": null,
   "id": "b0b76163-7692-46b7-85ec-da1faf81836c",
   "metadata": {
    "autofeedback": {
     "test_code": "ZnJvbSByYW5kb20gaW1wb3J0IHJhbmRpbnQgCmZyb20gYXV0b2ZlZWRiYWNrIGltcG9ydCBGdW5jdGlvblRlc3RzCgpmX3NvbCA9IGxhbWJkYSB4OiAyKngrMQpnX3NvbCA9IGxhbWJkYSB4OiAoLTQqeCsyKS8oNSp4KzMpCmhfc29sID0gbGFtYmRhIHg6IHgqKjIgKyAyKnggKyAxCmlfc29sID0gbGFtYmRhIHg6IG5wLnNxcnQoeCkKal9zb2wgPSBsYW1iZGEgeDogbnAuc2luKHgpICsgbnAuY29zKHgpCgpncmFkaW5nX3Jlc3VsdHMgPSBGdW5jdGlvblRlc3RzKE5vbmUpCgpmb3IgZnVuY19uYW1lLCBmdW5jX3NvbCBpbiB6aXAoWyJmIiwgImciLCAiaCIsICJpIiwgImoiXSwgW2Zfc29sLCBnX3NvbCwgaF9zb2wsIGlfc29sLCBqX3NvbF0pOgogICAgdHJ5OgogICAgICAgIGdyYWRpbmdfcmVzdWx0cy50ZXN0X25ld19mdW5jKGdsb2JhbHMoKVtmdW5jX25hbWVdLCBmdW5jX3NvbCwgcmFuZGludCgwLCAyMCkpCiAgICBleGNlcHQgRXhjZXB0aW9uIGFzIGU6CiAgICAgICAgZ3JhZGluZ19yZXN1bHRzLmFkZF9yZXN1bHQoRmFsc2UsICJUZXN0aW5nIGV4aXRlZCB3aXRoIGVycm9yczogIiArIGUuYXJnc1swXSkKcm91bmQoZ3JhZGluZ19yZXN1bHRzLmdldF9yZXN1bHRzKCkqNCwgMik="
    },
    "deletable": false,
    "editable": false,
    "execution": {
     "iopub.execute_input": "2024-08-20T10:43:43.058151Z",
     "iopub.status.busy": "2024-08-20T10:43:43.057746Z",
     "iopub.status.idle": "2024-08-20T10:43:44.483962Z",
     "shell.execute_reply": "2024-08-20T10:43:44.481650Z"
    },
    "nbgrader": {
     "cell_type": "code",
     "checksum": "c0be6f7ff063f7853e5d0e7f5e69f4cf",
     "grade": true,
     "grade_id": "cell-71b1cc236483d16f",
     "locked": true,
     "points": 4,
     "schema_version": 3,
     "solution": false,
     "task": false
    },
    "tags": []
   },
   "outputs": [],
   "source": [
    "# Denne kodecellen brukes under retting. La stå!"
   ]
  },
  {
   "cell_type": "markdown",
   "id": "e32ca905-dc9a-4ccb-a72e-ea8c72830a5b",
   "metadata": {
    "deletable": false,
    "editable": false
   },
   "source": [
    "## Bruk av funksjonskall\n",
    "\n",
    "Forrige oppgave lagde vi en rekke funksjonsbeskrivelser, men vi har enda ikke testet de for å se om de fungerer slik de skal. For å kontrollere at funksjonene våre gir riktig output-verdi ($y=f(x)$) for en bestemt input-verdi $x$, kan vi bruke et funksonskall `f(x)` og kontrollregne returverdien den gir oss. Når man programmerer, er det ofte en god idé å bruke slike kontroll-funksjonskall underveis. Da kan man være rimelig trygg på at funksjonene gjør jobben sin korrekt når de skal tas i bruk i et mer komplekst python-program.\n",
    "\n",
    "### b) Validering av funksjonsbeskrivelser\n",
    "Nedenfor ser du en oversikt over kjente returverdier for hver av de matematiske funksjonene du implementerte i deloppgave **a)**. \n",
    "$$\\begin{align}\n",
    "f(10) &= 21 \\\\\n",
    "g(17) &= -0.75 \\\\\n",
    "h(3) &= 16 \\\\\n",
    "i(16) &= 4 \\\\\n",
    "j(0) &= 1 \n",
    "\\end{align}$$\n",
    "Pruk python til å skrive ut returverdien til hver av funksjonene i deloppgave **a)** gitt input-verdiene som er listet ovenfor. Dersom du har skrevet funksjonene dine riktig, skal de utskrevne verdiene være lik de listede funksjonsverdiene.<br>\n",
    "Merk: Du skal *ikke* deklarere funksjonene $f-j$ på nytt i cellen under, kun bruke de.\n",
    "\n",
    "Nedenfor er et eksempel på kode som skriver ut returverdi for et bestemt input $x = 42$:\n",
    "```Python\n",
    "print(f\"{f(42) = }\")\n",
    "```\n",
    "Utskrift:<br>\n",
    "`>> f(42) = 85`\n",
    "\n",
    "*PS: å legge til `=` bak koden `f(42)` i kodeeksempelet over gjør at vi slipper å eksplisitt skrive `f\"f(42) = {f(42)}\"` for å få den forklarende teksten `f(42) = ` i utskriften.*"
   ]
  },
  {
   "cell_type": "code",
   "execution_count": null,
   "id": "24dd740b-0e09-4a2d-9479-573dc6016038",
   "metadata": {
    "deletable": false,
    "execution": {
     "iopub.execute_input": "2024-08-20T10:43:44.492903Z",
     "iopub.status.busy": "2024-08-20T10:43:44.492371Z",
     "iopub.status.idle": "2024-08-20T10:43:44.502678Z",
     "shell.execute_reply": "2024-08-20T10:43:44.500213Z"
    },
    "nbgrader": {
     "cell_type": "code",
     "checksum": "87a819e58e71a826c95f353e46958a1e",
     "grade": false,
     "grade_id": "cell-45713ffe15c87c78",
     "locked": false,
     "schema_version": 3,
     "solution": true,
     "task": false
    }
   },
   "outputs": [],
   "source": [
    "#-------------------------------------\n",
    "# SKRIV DIN KODE HER!\n",
    "#-------------------------------------"
   ]
  },
  {
   "cell_type": "code",
   "execution_count": null,
   "id": "372ff4ac-02a0-4780-bebf-017588b89f62",
   "metadata": {
    "autofeedback": {
     "test_code": "ZnJvbSB1bml0dGVzdC5tb2NrIGltcG9ydCBwYXRjaApmcm9tIGF1dG9mZWVkYmFjayBpbXBvcnQgQ3VzdG9tVGVzdHMKCmFuc3dlcl9jZWxsX2luZGV4ID0gbGVuKEluKS0yCmFuc3dlcl9jZWxsX2NvbnRlbnRzID0gSW5bYW5zd2VyX2NlbGxfaW5kZXhdCgpncmFkaW5nX3Jlc3VsdHMgPSBDdXN0b21UZXN0cygpCnRyeToKICAgIHdpdGggKHBhdGNoKGYie19fbmFtZV9ffS5wcmludCIpLAogICAgICAgICAgcGF0Y2goZiJ7X19uYW1lX199LmYiKSBhcyBtb2NrX2YsCiAgICAgICAgICBwYXRjaChmIntfX25hbWVfX30uZyIpIGFzIG1vY2tfZywKICAgICAgICAgIHBhdGNoKGYie19fbmFtZV9ffS5oIikgYXMgbW9ja19oLAogICAgICAgICAgcGF0Y2goZiJ7X19uYW1lX199LmkiKSBhcyBtb2NrX2ksCiAgICAgICAgICBwYXRjaChmIntfX25hbWVfX30uaiIpIGFzIG1vY2tfaik6CiAgICAgICAgZXhlYyhhbnN3ZXJfY2VsbF9jb250ZW50cykKZXhjZXB0IEV4Y2VwdGlvbiBhcyBlOgogICAgZ3JhZGluZ19yZXN1bHRzLmFkZF9yZXN1bHQoRmFsc2UsICJjb3VsZCBub3QgcnVuIGFuc3dlciBjZWxsOiAiICsgZS5hcmdzWzBdKQplbHNlOgogICAgbW9ja19mdW5jcyA9IFttb2NrX2YsIG1vY2tfZywgbW9ja19oLCBtb2NrX2ksIG1vY2tfal0KICAgIGFyZ19saXN0ID0gWzEwLCAxNywgMywgMTYsIDBdCiAgICBmb3IgaW5kZXggaW4gcmFuZ2UobGVuKG1vY2tfZnVuY3MpKToKICAgICAgICB0cnk6CiAgICAgICAgICAgIG1vY2tfZnVuY3NbaW5kZXhdLmFzc2VydF9jYWxsZWRfd2l0aChhcmdfbGlzdFtpbmRleF0pCiAgICAgICAgZXhjZXB0IEFzc2VydGlvbkVycm9yIGFzIGU6CiAgICAgICAgICAgIGdyYWRpbmdfcmVzdWx0cy5hZGRfcmVzdWx0KEZhbHNlLCAnPGRpdiBzdHlsZT0ibWFyZ2luLWxlZnQ6MjBweDsiPicrZS5hcmdzWzBdLnJlcGxhY2UoIlxuIiwgIjxicj4iKSsiPC9kaXY+IikKICAgICAgICBlbHNlOgogICAgICAgICAgICBncmFkaW5nX3Jlc3VsdHMuYWRkX3Jlc3VsdChUcnVlLCBmInJlZ2lzdGVyZWQgZXhwZWN0ZWQgZnVuY3Rpb24gY2FsbCB7bW9ja19mdW5jc1tpbmRleF0uX21vY2tfbmFtZX0oe2FyZ19saXN0W2luZGV4XX0pIikKCnJvdW5kKGdyYWRpbmdfcmVzdWx0cy5nZXRfcmVzdWx0cygpKjIsIDIp"
    },
    "deletable": false,
    "editable": false,
    "execution": {
     "iopub.execute_input": "2024-08-20T10:43:44.509908Z",
     "iopub.status.busy": "2024-08-20T10:43:44.509561Z",
     "iopub.status.idle": "2024-08-20T10:43:44.575623Z",
     "shell.execute_reply": "2024-08-20T10:43:44.572973Z"
    },
    "nbgrader": {
     "cell_type": "code",
     "checksum": "741257c2be996a711dfe63d0a1f0b69f",
     "grade": true,
     "grade_id": "cell-271a66ce45a58d63",
     "locked": true,
     "points": 2,
     "schema_version": 3,
     "solution": false,
     "task": false
    },
    "slideshow": {
     "slide_type": ""
    },
    "tags": []
   },
   "outputs": [],
   "source": [
    "# Denne kodecellen brukes under retting. La stå!"
   ]
  },
  {
   "cell_type": "markdown",
   "id": "25aca721-b652-4013-a2d4-30858f01cccb",
   "metadata": {
    "deletable": false,
    "editable": false
   },
   "source": [
    "## Funksjoner i større beregninger\n",
    "\n",
    "Videre kan det i mange situasjoner være aktuelt å dele opp en kompleks beregning inn i flere funksjonskall, der returverdien fra én funksjon bestemmer hva som går inn i neste funksjon. Dette er spesielt aktuelt dersom det er en regneoperasjon man gjør mange ganger. For eksempel kunne vi laget en egen funksjon for å konvertere en vinkel fra grader til radianer, slik at man slipper å multiplisere en vinkel med $\\frac{\\pi}{180}$ mange forskjellige steder i programmet:\n",
    "```Python\n",
    "import numpy as np\n",
    "def grader_til_radianer(grader):\n",
    "    radianer = grader/180*np.pi\n",
    "    return radianer\n",
    "\n",
    "vinkel = 15  # Grader\n",
    "vinkel_rad = grader_til_radianer(vinkel)\n",
    "cos_vinkel = np.cos(vinkel_rad)\n",
    "\n",
    "ny_vinkel = 35  # Grader\n",
    "ny_vinkel_rad = grader_til_radianer(ny_vinkel)\n",
    "cos_ny_vinkel = np.cos(ny_vinkel_rad)\n",
    "```\n",
    "Så lenge vi vet at funksjonen `grader_til_radianer` fungerer slik den skal, kan vi ta den i bruk hver gang vi skal konvertere en vinkel fra grader til radianer. Slik unngår man slurvefeil som å skrive `grader/18*np.pi` hvis man er utålmoding når man utfører denne konverteringen for 5. gang i programmet.\n",
    "\n",
    "Legg også merke til at vi bruker litt lengre og mer beskrivende navn på både funksjonen og variablene i eksempelet ovenfor. Selv om funksjoner i Python ligner veldig på funksjoner i matematikk, er det ofte en fordel å gi de navn beskriver hva funksjonen gjør.\n",
    "\n",
    "\n",
    "### c) Beregninger med funksjoner\n",
    "\n",
    "Gitt verdiene $a = 7$ og $b = 6$. Skriv et python-program som utfører følgende beregninger basert på funksjonene i deloppgave **a)**.\n",
    "$$\\begin{align}\n",
    "x &= f(a) + h(b) \\\\\n",
    "y &= i(x)\n",
    "\\end{align}$$\n",
    "\n",
    "Programmet skal skrive ut en oversikt av regneoperasjonene, samt verdien til både $x$ og $y$. Eksempel på utskrift:<br>\n",
    "`f(7) + h(6) = 64`<br>\n",
    "`i(64) = 8.0`\n",
    "\n",
    "* *NB! husk at du må kjøre cellen i deloppgave **a)** uten feilmeldinger for at Python skal kunne vite at funksjonene `f`, `g` osv. eksisterer. Er du i tvil kan du trykke 'restart and run all cells'-knappen $\\blacktriangleright\\blacktriangleright$.*\n",
    "<!--I denne oppgaven skal du lagre verdien til f(7) + h(6) i variabelen \"min_utregning\"\n",
    "\n",
    "Deretter skal du bruke \"min_utregning\" som argument i funksjonen *i*, dette svaret skal du lagre i variabelen \"ferdig_utregning\".\n",
    "\n",
    "Så kan du printe resultatene dine med print-funksjonen. Dette kan for eksempel se slik ut ```print(f\"{min_utregning = }. {ferdig_utregning = }.\")```\n",
    "\n",
    "Har du gjort rett vil du få svaret ```min_utregning = 64. ferdig_utregning = 8.0.```\n",
    "-->"
   ]
  },
  {
   "cell_type": "code",
   "execution_count": null,
   "id": "eb0dc740-9808-4bb7-8c4d-2a342acd80df",
   "metadata": {
    "deletable": false,
    "execution": {
     "iopub.execute_input": "2024-08-20T10:43:44.585834Z",
     "iopub.status.busy": "2024-08-20T10:43:44.585129Z",
     "iopub.status.idle": "2024-08-20T10:43:44.598514Z",
     "shell.execute_reply": "2024-08-20T10:43:44.595885Z"
    },
    "nbgrader": {
     "cell_type": "code",
     "checksum": "91dcfbedf41e8187bb2b24d71be7dca1",
     "grade": false,
     "grade_id": "cell-3aa9db8352fe4aee",
     "locked": false,
     "schema_version": 3,
     "solution": true,
     "task": false
    }
   },
   "outputs": [],
   "source": [
    "a = 7\n",
    "b = 6\n",
    "#-------------------------------------\n",
    "# SKRIV DIN KODE HER!\n",
    "#-------------------------------------"
   ]
  },
  {
   "cell_type": "code",
   "execution_count": null,
   "id": "3fd2b7cf-212e-41c8-8bcd-5f2be8678ea4",
   "metadata": {
    "autofeedback": {
     "test_code": "ZnJvbSBhdXRvZmVlZGJhY2sgaW1wb3J0IENvZGVDZWxsVGVzdHMKCmFuc3dlcl9jZWxsX2luZGV4ID0gbGVuKEluKS0yCmFuc3dlcl9jZWxsX2NvbnRlbnRzID0gSW5bYW5zd2VyX2NlbGxfaW5kZXhdCgpncmFkaW5nX3Jlc3VsdHMgPSBDb2RlQ2VsbFRlc3RzKGFuc3dlcl9jZWxsX2NvbnRlbnRzLCBnbG9iYWxzPWdsb2JhbHMoKSwgbG9jYWxzPWxvY2FscygpKQpncmFkaW5nX3Jlc3VsdHMudGVzdF9vdXRwdXQociJcRCs2NFxEKyIsIHNhbXBsZSA9ICI2NCIsIGlnbm9yZV9jb2RlX21hdGNoPUZhbHNlKQpncmFkaW5nX3Jlc3VsdHMudGVzdF9vdXRwdXQociJcRCs4Wy5dPzAqXEQrIiwgc2FtcGxlID0gIjguMCIsIGlnbm9yZV9jb2RlX21hdGNoPUZhbHNlKQpyb3VuZChncmFkaW5nX3Jlc3VsdHMuZ2V0X3Jlc3VsdHMoKSoyLCAyKQ=="
    },
    "deletable": false,
    "editable": false,
    "execution": {
     "iopub.execute_input": "2024-08-20T10:43:44.609340Z",
     "iopub.status.busy": "2024-08-20T10:43:44.606251Z",
     "iopub.status.idle": "2024-08-20T10:43:44.666504Z",
     "shell.execute_reply": "2024-08-20T10:43:44.663297Z"
    },
    "nbgrader": {
     "cell_type": "code",
     "checksum": "5b89980083cd7bcb4d8df3580d53655f",
     "grade": true,
     "grade_id": "cell-13fad3e68fffd749",
     "locked": true,
     "points": 2,
     "schema_version": 3,
     "solution": false,
     "task": false
    }
   },
   "outputs": [],
   "source": [
    "# La stå, brukes for retting"
   ]
  },
  {
   "cell_type": "markdown",
   "id": "3c493a9c-5514-443d-8c2e-5eafd0c5522d",
   "metadata": {
    "deletable": false,
    "editable": false
   },
   "source": [
    "## Riktig bruk av funksjonsargument\n",
    "\n",
    "Det kanskje viktigste aspektet med funksjoner i Python er at de kan bruke input-argumentene til å gjøre beregninger som varierer avhengig av hva input-argumentet er. Det er derfor veldig viktig at man passer på å i størst mulig grad skrive funksjonen på en slik måte at den baserer utregningene på tallverdier i input-argumentet. \n",
    "\n",
    "#### Eksempel:\n",
    "```Python\n",
    "# Funksjon som kun gjør én ting (dårlig praksis)\n",
    "def ti_grader_til_radianer():\n",
    "    grader = 10\n",
    "    radianer = grader/180*np.pi\n",
    "    return radianer\n",
    "\n",
    "# Funksjon som gir ulike resultat avhengig av input (god praksis :) )\n",
    "def grader_til_radianer(grader):\n",
    "    radianer = grader/180*np.pi\n",
    "    return radianer\n",
    "```\n",
    "\n",
    "### d) Finn feilen\n",
    "\n",
    "Nedenfor ser du en funksjon som ikke funker. Dette ser vi når vi prøver å teste funksjonen i kodecellen under, og funksjonen forteller oss at en kule med radius $r=5\\text{cm}$ og en kule med radius $r = 10\\text{cm}$ har samme volum. Rett opp i feilen slik at koden funker som den skal."
   ]
  },
  {
   "cell_type": "code",
   "execution_count": null,
   "id": "885ef444-8868-4d63-ae2a-062289ec5c21",
   "metadata": {
    "deletable": false,
    "execution": {
     "iopub.execute_input": "2024-08-20T10:43:44.677379Z",
     "iopub.status.busy": "2024-08-20T10:43:44.676494Z",
     "iopub.status.idle": "2024-08-20T10:43:44.690422Z",
     "shell.execute_reply": "2024-08-20T10:43:44.687277Z"
    }
   },
   "outputs": [],
   "source": [
    "def kuleVolum(radius):\n",
    "    radius = 10 #cm\n",
    "    volum = 4/3*np.pi*radius**3\n",
    "    return volum #cm^3"
   ]
  },
  {
   "cell_type": "code",
   "execution_count": null,
   "id": "01dabc17-2ba5-4050-83b2-61d63a455cdc",
   "metadata": {
    "autofeedback": {
     "test_code": "IyBUbyBkbzogcmVtb3ZlICJpbml0IHRlc3RzIiBmcm9tIHRlc3Qgc2V0LiAKCmZyb20gcmFuZG9tIGltcG9ydCBzYW1wbGUKZnJvbSBhdXRvZmVlZGJhY2sgaW1wb3J0IEZ1bmN0aW9uVGVzdHMKaW1wb3J0IG51bXB5IGFzIG5wCgprdWxlVm9sdW1fc29sdXRpb24gPSBsYW1iZGEgcjogNC8zKm5wLnBpKnIqKjMKCmdyYWRpbmdfcmVzdWx0cyA9IEZ1bmN0aW9uVGVzdHMoa3VsZVZvbHVtX3NvbHV0aW9uKQoKdHJ5OgogICAgZ3JhZGluZ19yZXN1bHRzLmFkZF90ZXN0X2Z1bmMoa3VsZVZvbHVtKQpleGNlcHQgRXhjZXB0aW9uIGFzIGU6CiAgICBncmFkaW5nX3Jlc3VsdHMubG9nLmFwcGVuZCgiQ291bGQgbm90IHJ1biB0ZXN0cywgIitlLmFyZ3NbMF0pCmVsc2U6CiAgICByX3ZhbHMgPSBzYW1wbGUobGlzdChyYW5nZSgxLCAyMSkpLCA1KQogICAgZm9yIHIgaW4gcl92YWxzOgogICAgICAgIGdyYWRpbmdfcmVzdWx0cy50ZXN0X3JldHVybl92YWx1ZShyKQpyb3VuZChncmFkaW5nX3Jlc3VsdHMuZ2V0X3Jlc3VsdHMoKSoyLCAyKQ=="
    },
    "deletable": false,
    "editable": false,
    "execution": {
     "iopub.execute_input": "2024-08-20T10:43:44.699861Z",
     "iopub.status.busy": "2024-08-20T10:43:44.699084Z",
     "iopub.status.idle": "2024-08-20T10:43:44.777726Z",
     "shell.execute_reply": "2024-08-20T10:43:44.775254Z"
    },
    "nbgrader": {
     "cell_type": "code",
     "checksum": "e01047bf90661b38da4ee43225b5cb3d",
     "grade": true,
     "grade_id": "cell-212e1e40252f5e96",
     "locked": true,
     "points": 2,
     "schema_version": 3,
     "solution": false,
     "task": false
    },
    "slideshow": {
     "slide_type": ""
    },
    "tags": []
   },
   "outputs": [],
   "source": [
    "# Bruk denne cellen til å teste funksjonene dine!\n",
    "print(f\"Volumet til en kule med 10 cm radius er {kuleVolum(10):.2f} cm3\")\n",
    "print(f\"Volumet til en kule med 5 cm radius er {kuleVolum(5):.2f} cm3\")"
   ]
  },
  {
   "cell_type": "markdown",
   "id": "579457fe-71ac-48b6-8b9c-71cdfe6555b0",
   "metadata": {
    "deletable": false,
    "editable": false
   },
   "source": [
    "<br>\n",
    "<nav class=\"navbar navbar-default\">\n",
    "  <div class=\"container-fluid\">\n",
    "    <div class=\"navbar-header\" style=\"float: left\">\n",
    "      <a class=\"navbar-brand\" href=\"4_Moduler.ipynb\" target=\"_self\">&lt; Forrige side: <i>Moduler</i></a>\n",
    "      </div>\n",
    "    <div class=\"navbar-header\" style=\"float: right\">\n",
    "      <a class=\"navbar-brand\" href=\"6_Funksjoner_forts.ipynb\" target=\"_self\">Neste side: <i>Funksjoner II</i> &gt;</a>\n",
    "    </div>\n",
    "  </div>\n",
    "</nav>"
   ]
  }
 ],
 "metadata": {
  "kernelspec": {
   "display_name": "Python 3 (ipykernel)",
   "language": "python",
   "name": "python3"
  },
  "language_info": {
   "codemirror_mode": {
    "name": "ipython",
    "version": 3
   },
   "file_extension": ".py",
   "mimetype": "text/x-python",
   "name": "python",
   "nbconvert_exporter": "python",
   "pygments_lexer": "ipython3",
   "version": "3.11.6"
  },
  "scenes_data": {
   "active_scene": "Default Scene",
   "init_scene": "",
   "scenes": [
    "Default Scene"
   ]
  },
  "toc": {
   "base_numbering": 1
  }
 },
 "nbformat": 4,
 "nbformat_minor": 5
}
