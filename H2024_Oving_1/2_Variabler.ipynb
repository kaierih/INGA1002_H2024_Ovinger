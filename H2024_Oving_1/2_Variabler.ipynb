{
 "cells": [
  {
   "cell_type": "markdown",
   "id": "ede9837b-30f2-430c-b304-1be24df1fb29",
   "metadata": {
    "deletable": false,
    "editable": false,
    "tags": []
   },
   "source": [
    "<nav class=\"navbar navbar-default\">\n",
    "  <div class=\"container-fluid\">\n",
    "    <div class=\"navbar-header\" style=\"float: left\">\n",
    "        <a class=\"navbar-brand\" href=\"0_Forside.ipynb\" target=\"_self\"> <h2> &uarr; Tilbake til forsiden</h2></a>\n",
    "    </div>\n",
    "  </div>\n",
    "</nav>"
   ]
  },
  {
   "cell_type": "markdown",
   "id": "45106fc6-ebe7-4c1e-82a1-26e6d3356c88",
   "metadata": {
    "deletable": false,
    "editable": false,
    "tags": []
   },
   "source": [
    "# Variabler\n",
    "\n",
    "I de fleste ingeniørfag vil det være nødvendig å gjøre kompliserte beregninger, og ofte inkluderer disse både matematiske/fysiske konstanter og fysiske størrelser spesifikke til en gitt situasjon. Om man skal skrive inn alle tallverdiene manuelt hver gang man gjør en utregning er det fort gjort å gjøre slurvefeil da regnestykket fort blir uoversiktlig, og det blir mer arbeidskrevende å endre verdier underveis.\n",
    "\n",
    "\n",
    "\n",
    "## Hvorfor trenger vi variabler?\n",
    "\n",
    "Hensikten med variabler er å kunne **huske data underveis** i utførelsen av et program. Variabler er derfor et sentralt konsept i programmering, ikke bare i Python men uansett hva slags språk man programmerer i. \n",
    "\n",
    "Uten variabler støter vi fort på en rekke problemer fordi programmet vårt ikke kan huske noe, f.eks. at\n",
    "\n",
    "* vi må regne ut på nytt data vi allerede har regnet ut tidligere.\n",
    "* vi risikerer gjenta samme tallverdi mange forskjellige steder i en utregning. \n",
    "\n",
    "Dette sløser tid og strøm og vil i mange tilfeller gjøre det svært tungvindt å endre på tallverdier i etterkant. I det lille eksempelprogrammet under, klarer vi oss uten noen variabel, fordi navnet som skrives utkun blir benyttet én gang.\n",
    "  \n",
    "```python \n",
    "print('Pi, med seks desimaler er 3.141592') \n",
    "```\n",
    "\n",
    "  \n",
    "```\n",
    "Pi, med seks desimaler er 3.141592\n",
    ">>>>\n",
    "```\n",
    "\n",
    "Men ofte skal samme data brukes flere ganger, og etter at vi har gjort andre ting i mellomtiden. Da må data huskes i variable. Anta at vi ønsker en bare litt mer avansert dialog.\n",
    "\n",
    " \n",
    "```\n",
    "Pi, med seks desimaler er 3.141592  \n",
    "3.141592 er pi, avrundet til seks desimaler.\n",
    ">>>>\n",
    "```\n",
    "\n",
    "Her vil vi bruke verdien til pi i to påfølgende print-setninger. Hvis vi prøver samme triks som tidligere med å sette tallet direkte i print-setning, får vi koden:\n",
    "\n",
    " \n",
    "```python\n",
    "print('Pi, med seks desimaler er 3.141592')\n",
    "print('3.141592 er pi, avrundet til seks desimaler.') \n",
    "```\n",
    "\n",
    "\n",
    "```\n",
    "Pi, med seks desimaler er 3.141592\n",
    "3.141592 er Pi, avrundet til seks desimaler.\n",
    "```\n",
    "\n",
    "Ikke noe katastrofalt problem her, men tenk deg et program hvor samme opplysning skal brukes 100 ganger eller mer i en kritisk arbeidsoppgave som haster. Da kan det bli tungvindt å for eksempel skrive 3.141592 100 ganger.\n",
    "\n",
    "Kan vi løse det på en bedre måte? JA - med en variabel for å huske navnet. Koden blir da"
   ]
  },
  {
   "cell_type": "code",
   "execution_count": null,
   "id": "a814a463-c8f2-46a2-a774-2c68cb2311f9",
   "metadata": {
    "deletable": false,
    "execution": {
     "iopub.execute_input": "2024-08-20T10:43:22.614320Z",
     "iopub.status.busy": "2024-08-20T10:43:22.613426Z",
     "iopub.status.idle": "2024-08-20T10:43:22.638410Z",
     "shell.execute_reply": "2024-08-20T10:43:22.635803Z"
    }
   },
   "outputs": [],
   "source": [
    "pi = 3.141592\n",
    "print(f\"Pi, med seks desimaler er {pi}\")\n",
    "print(f\"{pi}, er pi, avrundet til seks desimaler\")"
   ]
  },
  {
   "cell_type": "markdown",
   "id": "607116a0-926f-4724-8149-1fc8ae85295b",
   "metadata": {
    "deletable": false,
    "editable": false,
    "tags": []
   },
   "source": [
    "Dette programmet kan forklares som følger:\n",
    "\n",
    "* linje 1, til høyre for `=` : verdien vi ønsker å lagre (3.141592)\n",
    "* linje 1, til venstre for `=`: oppretter en variabel som heter `pi`.\n",
    "* linje 1, tegnet `=`. Dette er **tilordningsoperatoren**. Betyr at verdien av uttrykket på høyre side, verdien 3.141592, blir husket i variabelen kalt `pi`.\n",
    "* linje 2, variabelen `pi` brukes sist i  print-setningen. Merk at variabelnavnet **ikke** skal ha hermetegn rundt seg. Med hermetegn ville ikke akkurat dette programmet kjørt. Ordet pi som står som det tredje ordet i setningen \"3.141592 er pi, avrundet til seks desimaler\" er ikke variabelen, her er ordet navn bare del av en tekststreng.\n",
    "* linje 3, variabelen `pi` brukes fremst i print-setningen. Igjen uten fnutter; det er ikke ordet pi vi ønsker å skrive, men den verdien som variabelen `pi` inneholder (f.eks. 3.141592)\n",
    "\n",
    "NB! Legg spesielt merke til at symbolet for komma i desimaltall er et punktum (`.`), og *ikke* komma (`,`).\n",
    "\n",
    "Ved hjelp av variabelen som her ble kalt pi, unngår vi å måtte skrive ut verdien to ganger. Vi skriver den bare én gang, i starten av programmet, og husker da opplysningen ved å putte den inn i en variabel.\n",
    "\n",
    "Videre i programmet kan vi benytte denne variabelen hver gang vi trenger verdien - enten det som her var bare to ganger, eller om det hadde vært flere.\n",
    "\n"
   ]
  },
  {
   "cell_type": "markdown",
   "id": "3090ec55-4098-4c9b-a0b7-efc20c8c3cd9",
   "metadata": {
    "deletable": false,
    "editable": false,
    "slideshow": {
     "slide_type": ""
    },
    "tags": []
   },
   "source": [
    "## a) Klassisk fysikk med variabler\n",
    "\n",
    "<img src=\"Figurer/Stationary_mass.png\"  style=\"width: 400px; margin-left: 10%\" />\n",
    "\n",
    "En gjenstand med masse $m=10kg$ hviler i ro på en flat hylle. Gitt at tyngdekraftsakselerasjonen er $g=9.81$, bruk *variabler* til å regne ut størrelsen til *tyngdekraften* $\\vec{G}$ som påvirker gjenstanden fra hylla med bruk av formelen $\\vec{G}=m\\cdot g$ som allerede er skrevet i kodecellen, og skriv ut resultatet i variabelen `G` med bruk av `print()`. Utskriften kan f.eks. være `En gjenstand med masse 10kg trykker på underlaget med en kraft G = 98.1 newton`."
   ]
  },
  {
   "cell_type": "code",
   "execution_count": null,
   "id": "1bef9bde-1098-4d81-b6ab-d77d08599fcd",
   "metadata": {
    "deletable": false,
    "editable": true,
    "execution": {
     "iopub.execute_input": "2024-08-20T10:43:22.648311Z",
     "iopub.status.busy": "2024-08-20T10:43:22.647462Z",
     "iopub.status.idle": "2024-08-20T10:43:22.661207Z",
     "shell.execute_reply": "2024-08-20T10:43:22.658383Z"
    },
    "nbgrader": {
     "cell_type": "code",
     "checksum": "1b163ebe9c2dc65b72a3c07ea18f4561",
     "grade": false,
     "grade_id": "cell-ede4fd9cff033cfa",
     "locked": false,
     "schema_version": 3,
     "solution": true,
     "task": false
    },
    "slideshow": {
     "slide_type": ""
    },
    "tags": []
   },
   "outputs": [],
   "source": [
    "#-------------------------------------\n",
    "# SKRIV DIN KODE HER!\n",
    "#-------------------------------------\n",
    "G = m*g\n",
    "#-------------------------------------\n",
    "# SKRIV DIN KODE HER!\n",
    "#-------------------------------------"
   ]
  },
  {
   "cell_type": "code",
   "execution_count": null,
   "id": "db43f4c7-5008-4899-b99c-c123ca2736b6",
   "metadata": {
    "autofeedback": {
     "test_code": "ZnJvbSBhdXRvZmVlZGJhY2sgaW1wb3J0IENvZGVDZWxsVGVzdHMKCmFuc3dlcl9jZWxsX2luZGV4ID0gbGVuKEluKS0yCgphbnN3ZXJfY2VsbF9jb250ZW50cyA9IEluW2Fuc3dlcl9jZWxsX2luZGV4XQoKZ3JhZGluZ19yZXN1bHRzID0gQ29kZUNlbGxUZXN0cyhhbnN3ZXJfY2VsbF9jb250ZW50cykKZ3JhZGluZ19yZXN1bHRzLnRlc3Rfb3V0cHV0KHIiOThbLl17MX0xIiwgc2FtcGxlPSI5OC4xIikKcm91bmQoZ3JhZGluZ19yZXN1bHRzLmdldF9yZXN1bHRzKCkqMywgMik="
    },
    "deletable": false,
    "editable": false,
    "execution": {
     "iopub.execute_input": "2024-08-20T10:43:22.671562Z",
     "iopub.status.busy": "2024-08-20T10:43:22.670672Z",
     "iopub.status.idle": "2024-08-20T10:43:24.379945Z",
     "shell.execute_reply": "2024-08-20T10:43:24.377472Z"
    },
    "nbgrader": {
     "cell_type": "code",
     "checksum": "53dc824df99d0f548e60eaf5562ef679",
     "grade": true,
     "grade_id": "cell-4d2a6ecd21ef1f16",
     "locked": true,
     "points": 3,
     "schema_version": 3,
     "solution": false,
     "task": false
    },
    "slideshow": {
     "slide_type": ""
    },
    "tags": []
   },
   "outputs": [],
   "source": []
  },
  {
   "cell_type": "markdown",
   "id": "566b521b-6570-4abe-9578-e8e24cf633b1",
   "metadata": {
    "deletable": false,
    "editable": false,
    "tags": []
   },
   "source": [
    "## Variabler med tekst (strenger)\n",
    "\n",
    "Variabler er ikke begrenset til å lagre kun tall. De kan i grunn være hva som helst, som for eksempel en tekst. Det offisielle navnet på en variabel som inneholder tekst er en *streng* eller *tekststreng*. Å lage en variabel som inneholder en streng følger samme logikk som variabler med tallverider:"
   ]
  },
  {
   "cell_type": "code",
   "execution_count": null,
   "id": "1875e75c-2a2a-4fa6-80f1-fc089d0ead74",
   "metadata": {
    "deletable": false,
    "execution": {
     "iopub.execute_input": "2024-08-20T10:43:24.388234Z",
     "iopub.status.busy": "2024-08-20T10:43:24.387658Z",
     "iopub.status.idle": "2024-08-20T10:43:24.394584Z",
     "shell.execute_reply": "2024-08-20T10:43:24.392870Z"
    }
   },
   "outputs": [],
   "source": [
    "message = \"Jupyter er kult\""
   ]
  },
  {
   "cell_type": "markdown",
   "id": "1d4599e2-a02e-4e60-8e94-bba193a3c3bf",
   "metadata": {
    "deletable": false,
    "editable": false,
    "tags": []
   },
   "source": [
    "## Variabler mellom kodeceller\n",
    "Noe som er verdt å merke seg er at data kan eksistere mellom kodeblokkene i en Jupyter Notebook. Som et eksempel kan vi bruke tekstrengen vi lagret til variabelen `message` i cellen ovenfor.  Kjør først kodecellen ovenfor, så kodecellen under:"
   ]
  },
  {
   "cell_type": "code",
   "execution_count": null,
   "id": "75189dd8-a4f5-4538-b0d4-8c673cffb7e8",
   "metadata": {
    "deletable": false,
    "execution": {
     "iopub.execute_input": "2024-08-20T10:43:24.402677Z",
     "iopub.status.busy": "2024-08-20T10:43:24.402311Z",
     "iopub.status.idle": "2024-08-20T10:43:24.411136Z",
     "shell.execute_reply": "2024-08-20T10:43:24.408991Z"
    }
   },
   "outputs": [],
   "source": [
    "print(message)"
   ]
  },
  {
   "cell_type": "markdown",
   "id": "622173fe-faef-401a-8529-fc3928441b78",
   "metadata": {
    "deletable": false,
    "editable": false,
    "tags": []
   },
   "source": [
    "Som du ser får vi printet ut verdien av `message` selv om `message` ikke er definert i den nederste kodeblokken. Dette kan være veldig praktisk, men kan noen ganger være forvirrende. Prøv å endre på verdien til `message` (\"Wow! Dette var kult!\") i den første kodeblokken, for så å trykke `ctrl + enter` i den andre blokken.\n",
    "\n",
    "Som du ser er ikke `message` blitt oppdatert. Dette er fordi **vi er nødt til å kjøre kodeblokken med `message =` for at `message` skal bli oppdatert**. \n",
    "\n",
    "Prøv nå å kjøre kodeblokken med `message =` igjen for så å kjøre blokken med `print` på nytt. Da burde riktig melding printes.\n",
    "\n",
    "Dette gjelder ikke bare for *variabler*, men også for *funksjoner*, som dere skal lære å bruke etterhvert. Hvis du skriver en funksjon og ønsker å bruke den i en annen kodeblokk må du kjøre kodeblokken hver gang funksjonen endres akkurat som med variabler.\n",
    "\n",
    "## b)\n",
    "\n",
    "Deklarer variabler slik at den neste kodecellen kjører uten feilmelding, og skriver ut meldingen `We are the Knights who say Ni!`"
   ]
  },
  {
   "cell_type": "code",
   "execution_count": null,
   "id": "6bb59be3",
   "metadata": {
    "deletable": false,
    "execution": {
     "iopub.execute_input": "2024-08-20T10:43:24.420039Z",
     "iopub.status.busy": "2024-08-20T10:43:24.419613Z",
     "iopub.status.idle": "2024-08-20T10:43:24.456356Z",
     "shell.execute_reply": "2024-08-20T10:43:24.453480Z"
    },
    "nbgrader": {
     "cell_type": "code",
     "checksum": "b20d70fb1bc1735164da3eb9401a1688",
     "grade": false,
     "grade_id": "cell-7fbda95c1d12481a",
     "locked": false,
     "schema_version": 3,
     "solution": true,
     "task": false
    },
    "tags": []
   },
   "outputs": [],
   "source": [
    "#-------------------------------------\n",
    "# SKRIV DIN KODE HER!\n",
    "#-------------------------------------"
   ]
  },
  {
   "cell_type": "markdown",
   "id": "5e2180a9-ab65-4bd3-a6a6-2022ad083b44",
   "metadata": {
    "deletable": false,
    "editable": false
   },
   "source": [
    "*PS: Koden nedenfor vil skrive ut innholdet i variablene `who` og `what` plassert inni f-strengen slik som spesifisert. Her kan det være nyttig å tenke på f-strengen som en mal for hvordan variabelinnholdet skal skrives ut.*"
   ]
  },
  {
   "cell_type": "code",
   "execution_count": null,
   "id": "064f6c57",
   "metadata": {
    "autofeedback": {
     "test_code": "ZnJvbSBhdXRvZmVlZGJhY2sgaW1wb3J0IEN1c3RvbVRlc3RzCmltcG9ydCByZQpncmFkaW5nX3Jlc3VsdHMgPSBDdXN0b21UZXN0cygpCmdyYWRpbmdfcmVzdWx0cy50ZXN0KHJlLnNlYXJjaCgia25pZ2h0cyIsIHdoby5sb3dlcigpKSBpcyBub3QgTm9uZSwKICAgICAgICAgICAgICAgICAgICAgc3VjY2VzcyA9ICJ2YXJpYWJsZSAnd2hvJyBtYXRjaGVzIHRoZSB3b3JkICdLbmlnaHRzJy4iLAogICAgICAgICAgICAgICAgICAgICBmYWlsID0gInZhcmlhYmxlICd3aG8nIGRvZXMgbm90IG1hdGNoIHRoZSB3b3JkICdLbmlnaHRzJy4iKQpncmFkaW5nX3Jlc3VsdHMudGVzdChyZS5zZWFyY2goIm5pISIsIHdoYXQubG93ZXIoKSkgaXMgbm90IE5vbmUsCiAgICAgICAgICAgICAgICAgICAgIHN1Y2Nlc3MgPSAidmFyaWFibGUgJ3doYXQnIG1hdGNoZXMgdGhlIHdvcmQgJ05pIScuIiwKICAgICAgICAgICAgICAgICAgICAgZmFpbCA9ICJ2YXJpYWJsZSAnd2hhdCcgZG9lcyBub3QgbWF0Y2ggdGhlIHdvcmQgJ05pIScuIikKcm91bmQoZ3JhZGluZ19yZXN1bHRzLmdldF9yZXN1bHRzKCkqMyk="
    },
    "deletable": false,
    "editable": false,
    "execution": {
     "iopub.execute_input": "2024-08-20T10:43:24.466732Z",
     "iopub.status.busy": "2024-08-20T10:43:24.465831Z",
     "iopub.status.idle": "2024-08-20T10:43:24.494711Z",
     "shell.execute_reply": "2024-08-20T10:43:24.491938Z"
    },
    "nbgrader": {
     "cell_type": "code",
     "checksum": "b7cddc66867fa25cec988aa91cd1d244",
     "grade": true,
     "grade_id": "cell-570c5a8051f39eee",
     "locked": true,
     "points": 3,
     "schema_version": 3,
     "solution": false,
     "task": false
    },
    "tags": []
   },
   "outputs": [],
   "source": [
    "print(f\"We are the {who} who say {what}\")"
   ]
  },
  {
   "cell_type": "markdown",
   "id": "54c337cc-c4e6-42fb-a0d7-03aebbd6c2af",
   "metadata": {
    "deletable": false,
    "editable": false,
    "tags": []
   },
   "source": [
    "<div class=\"alert alert-danger\">\n",
    "\n",
    "<h3> Advarsel!</h3>\n",
    "\n",
    "En konsekvens av at variabler tas vare på i datamaskinens arbeidsminne mellom kodeceller, er at det fortsatt kan være mulig å bruke variabler selv om du fjernet kodelinjen der den ble deklarert for lenge siden. Dette kan skape uforutsette problemer, men har heldivgis en enkel løsning. Trykker du på $\\circlearrowright$-symbolet i verktøylinjen vil du restarte kernel, noe som betyr at alt som er lagret i arbeidsminnet blir slettet, og kodecellene du nå kjører starter med \"blanke ark\".\n",
    "    \n",
    "Det vil være god praksis å restarte kernelen ofte når man programmerer i Jupyter. \n",
    "\n",
    "</div>"
   ]
  },
  {
   "cell_type": "markdown",
   "id": "12858775-32c0-490e-8cf4-481395462e80",
   "metadata": {
    "deletable": false,
    "editable": false,
    "tags": []
   },
   "source": [
    "## Navngivning av variabler\n",
    "\n",
    "En variabel er et navn som representerer en verdi som lagres i datamaskinens minne. Den vanligste måten å opprette en variabel på er ved en tilordningssetning:\n",
    "\n",
    "`variable = expression`\n",
    "\n",
    "I dette tilfellet er variable navnet til variabelen, mens expression er verdien. Noen regler for slike tilordningssetninger:\n",
    "\n",
    "* variabelen som opprettes skal alltid stå på venstre side av uttrykket, og venstre side skal kun inneholde denne variabelen, ikke noe annet\n",
    "* høyde side kan alt fra en enkelt verdi (f.eks. et tall) eller en enkelt variabel, til mer sammensatte uttrykk som må beregnes. Hvis høyre side inneholder variable, må dette være variable som allerede er opprettet tidligere i koden.\n",
    "* variabelnavnet må tilfredsstille følgende regler:\n",
    " * ord som er reserverte ord i Python, f.eks. `if`, `def`, eller som er navn på standardfunksjoner som `print`, `min`, `max`, ... bør unngås som varibelnavn\n",
    " * variabelnavn må begynne med en bokstav eller tegnet _ (understrek)\n",
    " * kan ellers inneholde bokstaver, tall og understrek, dvs. kan f.eks. ikke inneholde blanke tegn.\n",
    "* Python skiller mellom små og store bokstaver, så `Areal` og `areal` vil være to ulike variable.\n",
    "\n",
    "Det anbefales å lage variabelnavn som er intuitivt forståelige, f.eks. er `areal` et bedre navn enn `x` på en variabel som inneholder et areal. Sammensatte variabelnavn skrives typisk som pukkelord (eng.: camelCase) eller med understrek for å vise hvor ett ord slutter og det neste begynner, f.eks. `startTime`, `pricePerLiter` eller `start_time`, `price_per_liter`, siden direkte sammensetning uten noe som helst skille vil gi lange variabelnavn som blir vanskelige å lese.\n",
    "\n",
    "Kodeblokka under viser eksempler på variable som funker og ikke funker:"
   ]
  },
  {
   "cell_type": "code",
   "execution_count": null,
   "id": "eb43e125-be25-4b9e-9f75-c70d066701bd",
   "metadata": {
    "deletable": false,
    "execution": {
     "iopub.execute_input": "2024-08-20T10:43:24.504714Z",
     "iopub.status.busy": "2024-08-20T10:43:24.503832Z",
     "iopub.status.idle": "2024-08-20T10:43:24.556619Z",
     "shell.execute_reply": "2024-08-20T10:43:24.553274Z"
    }
   },
   "outputs": [],
   "source": [
    "# Eksempel på tilordningssetninger som funker\n",
    "pokemon_name = \"Tyranitar\"\n",
    "MaxCP = 3670\n",
    "antall = 3\n",
    "antall = antall + 1      # høyre side regnes ut som 3+1, så 4 blir ny verdi i variabelen antall\n",
    "resists_fighting = False\n",
    "level42 = \"to be done\"   # tall er OK i variabelnavn unntatt helt fremst\n",
    "  \n",
    "# Eksempel på tilordninger som IKKE funker\n",
    "1 = antall              # variabelen må stå på venstre side\n",
    "antall + 1 = antall     # og venstre side kan KUN inneholde et variabelnavn, ikke et større uttrykk\n",
    "10kamp = \"gøy\"          # variabel kan ikke begynne med tall, kun bokstav eller _\n",
    "antall = 3              # denne er OK, men se neste linje\n",
    "antall = Antall + 1     # Python skiller mellom store og små bokstaver, Antall vil være en annen\n",
    "                        # variabel og gir NameError her fordi den ikke er opprettet i en tidligere setning\n",
    "happy hour = 20         # navn kan ikke inneholde mellomrom, burde vært happy_hour eller happyHour\n",
    "alkohol% = 4.5          # % kan ikke brukes i variabelnavn (betyr modulo). Samme gjelder andre spesialtegn,\n",
    "                        # hold deg til vanlige bokstaver og tall"
   ]
  },
  {
   "cell_type": "markdown",
   "id": "9e97bd45-b34b-4005-9424-b0e5b95371f8",
   "metadata": {
    "deletable": false,
    "editable": false,
    "tags": []
   },
   "source": [
    "## c) \n",
    "\n",
    "Prøv å kjør koden under. Som du vil se, funker den ikke pga. diverse feil med variabelnavn og tilordningssetninger. Fiks feilene så programmet kjører som det skal. Fungerer koden slik den skal, vil utskriften være `Per er 5 år unna idealalderen`."
   ]
  },
  {
   "cell_type": "code",
   "execution_count": null,
   "id": "243b82c4-3b1c-4f04-a638-a3b1304486ae",
   "metadata": {
    "deletable": false,
    "execution": {
     "iopub.execute_input": "2024-08-20T10:43:24.567231Z",
     "iopub.status.busy": "2024-08-20T10:43:24.566093Z",
     "iopub.status.idle": "2024-08-20T10:43:24.583996Z",
     "shell.execute_reply": "2024-08-20T10:43:24.580549Z"
    },
    "tags": []
   },
   "outputs": [],
   "source": [
    "# Gjør endringer på denne cellen:\n",
    "4navn = \"Per\"\n",
    "ideal alder = 42\n",
    "37 = kundensAlder\n",
    "differanse = ideal alder - kundensAlder\n",
    "print(f'{4navn} er {Differanse} år unna idealalderen')"
   ]
  },
  {
   "cell_type": "code",
   "execution_count": null,
   "id": "fb8d6740",
   "metadata": {
    "autofeedback": {
     "test_code": "ZnJvbSBhdXRvZmVlZGJhY2sgaW1wb3J0IENvZGVDZWxsVGVzdHMKCmFuc3dlcl9jZWxsX2luZGV4ID0gbGVuKEluKS0yCmFuc3dlcl9kZXRlY3RlZCA9IEZhbHNlCmFuc3dlcl9jZWxsX2NvbnRlbnRzID0gSW5bYW5zd2VyX2NlbGxfaW5kZXhdCgpncmFkaW5nX3Jlc3VsdHMgPSBDb2RlQ2VsbFRlc3RzKGFuc3dlcl9jZWxsX2NvbnRlbnRzLCBpbml0X3dndD0wLjUpCmdyYWRpbmdfcmVzdWx0cy50ZXN0X291dHB1dChyIltQcF1lciBlciA1KC4wKT8gw6VyIHVubmEgaWRlYWxhbGRlcmVuIikKZ3JhZGluZ19yZXN1bHRzLmdldF9yZXN1bHRzKCkqNAo="
    },
    "deletable": false,
    "editable": false,
    "execution": {
     "iopub.execute_input": "2024-08-20T10:43:24.593597Z",
     "iopub.status.busy": "2024-08-20T10:43:24.592880Z",
     "iopub.status.idle": "2024-08-20T10:43:24.656067Z",
     "shell.execute_reply": "2024-08-20T10:43:24.653619Z"
    },
    "nbgrader": {
     "cell_type": "code",
     "checksum": "6dee991f2216e9881231ac4e7d6dff01",
     "grade": true,
     "grade_id": "cell-fec7c8ece7627a16",
     "locked": true,
     "points": 4,
     "schema_version": 3,
     "solution": false,
     "task": false
    },
    "tags": []
   },
   "outputs": [],
   "source": [
    "# Denne cellen brukes til retting. La stå!"
   ]
  },
  {
   "cell_type": "markdown",
   "id": "9bfdcfc8-480a-4b92-a478-951ee3524bbb",
   "metadata": {
    "deletable": false,
    "editable": false,
    "tags": []
   },
   "source": [
    "<div class=\"alert alert-danger\">\n",
    "\n",
    "<h3> Advarsel!</h3>\n",
    "\n",
    "Når vi deklarerer en variabel så vil variabelnavnet kun assosieres med verdien vi har gitt variabelen deretter. Dette betyr at det er fullt mulig å \"skrive over\" eksisterende python-funksjoner dersom vi ikke er forsiktig med navngivingen. For å illustrere dette kan vi prøve å kjøre kodecellen nedenfor som skriver over `print`-funksjonen (den første linjen `%%script python --no-raise-error` er der for at denne cellen ikke skal påvirke resten av kodecellene i denne oppgaven der `print` blir brukt).\n",
    "    \n",
    "</div>"
   ]
  },
  {
   "cell_type": "code",
   "execution_count": null,
   "id": "f799b456-024f-4588-841c-3e43413921f1",
   "metadata": {
    "deletable": false,
    "execution": {
     "iopub.execute_input": "2024-08-20T10:43:24.665209Z",
     "iopub.status.busy": "2024-08-20T10:43:24.664662Z",
     "iopub.status.idle": "2024-08-20T10:43:24.759605Z",
     "shell.execute_reply": "2024-08-20T10:43:24.756275Z"
    },
    "tags": []
   },
   "outputs": [],
   "source": [
    "%%script python --no-raise-error\n",
    "print(\"Dette vil bli skrevet ut\")\n",
    "print = \"Nå skriver vi over print-funksjonen\" # NB! IKKE GJØR DETTE!\n",
    "print(\"Dette vil gi en feilmelding\")"
   ]
  },
  {
   "cell_type": "markdown",
   "id": "a15cb40e-fd9f-4080-837e-f02c623ac245",
   "metadata": {
    "deletable": false,
    "editable": false,
    "tags": []
   },
   "source": [
    "<div class=\"alert alert-danger\">\n",
    "\n",
    "Som vi ser når vi prøver å kjøre cellen, vil første kall til `print` gi utskriften `Dette vil bli skrevet ut`, men etter at `print` blir deklarert som variabel får vi en feilmelding når vi prøver å skrive ut tekst. Feilmeldingen `'str' object is not callable' ` forteller oss videre at `print` ikke er gjenkjent som en funksjon, og dermed ikke lengre kan \"kalles\" slik som vi gjør i kodelinje 2.\n",
    "    \n",
    "</div>"
   ]
  },
  {
   "cell_type": "markdown",
   "id": "05fd1c44-5266-4010-9665-707836b67c57",
   "metadata": {
    "deletable": false,
    "editable": false
   },
   "source": [
    "<br>\n",
    "<nav class=\"navbar navbar-default\">\n",
    "  <div class=\"container-fluid\">\n",
    "    <div class=\"navbar-header\" style=\"float: left\">\n",
    "      <a class=\"navbar-brand\" href=\"1_Intro_til_jupyter.ipynb\" target=\"_self\">&lt; Forrige side: <i>intro til jupyter</i></a>\n",
    "      </div>\n",
    "    <div class=\"navbar-header\" style=\"float: right\">\n",
    "      <a class=\"navbar-brand\" href=\"3_Kalkulasjoner.ipynb\" target=\"_self\">Neste side: <i>kalkulasjoner</i> &gt;</a>\n",
    "    </div>\n",
    "  </div>\n",
    "</nav>"
   ]
  }
 ],
 "metadata": {
  "kernelspec": {
   "display_name": "Python 3 (ipykernel)",
   "language": "python",
   "name": "python3"
  },
  "language_info": {
   "codemirror_mode": {
    "name": "ipython",
    "version": 3
   },
   "file_extension": ".py",
   "mimetype": "text/x-python",
   "name": "python",
   "nbconvert_exporter": "python",
   "pygments_lexer": "ipython3",
   "version": "3.11.6"
  },
  "scenes_data": {
   "active_scene": "Default Scene",
   "init_scene": "",
   "scenes": [
    "Default Scene"
   ]
  }
 },
 "nbformat": 4,
 "nbformat_minor": 5
}
