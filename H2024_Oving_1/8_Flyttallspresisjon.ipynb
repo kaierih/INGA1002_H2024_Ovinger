{
 "cells": [
  {
   "cell_type": "markdown",
   "id": "23d52b5f-f5ec-4f4f-9c55-11d55abb49bb",
   "metadata": {},
   "source": [
    "<nav class=\"navbar navbar-default\">\n",
    "  <div class=\"container-fluid\">\n",
    "    <div class=\"navbar-header\" style=\"float: left\">\n",
    "        <a class=\"navbar-brand\" href=\"0_Forside.ipynb\" target=\"_self\"> <h2> &uarr; Tilbake til forsiden</h2></a>\n",
    "    </div>\n",
    "  </div>\n",
    "</nav>"
   ]
  },
  {
   "cell_type": "markdown",
   "id": "8a6e0751-ba81-4d7d-91be-dc7570cb05ce",
   "metadata": {},
   "source": [
    "# Flyttall og nøyaktiget i beregninger\n",
    "\n",
    "**Læringsmål:**\n",
    "\n",
    "* Flyttallrepresentasjon\n",
    "* Avrundingsfeil"
   ]
  },
  {
   "cell_type": "markdown",
   "id": "a9d1ec05-5ec5-4fa8-8208-280496ebf251",
   "metadata": {},
   "source": [
    "## Intro til avrundignsfeil\n",
    "\n",
    "Programmering kan være et svært nyttig verktøy til å utføre tunge matematiske beregnigner men det er viktig å være klar over at det også finnes begrensninger, og at disse kan gi resultat som kanskje ikke ser helt ut som man hadde forventet.\n",
    "\n",
    "La oss ta for oss et eksempel:\n",
    ">Basert på det vi har lært i geometrien vet vi at $\\sin(180^\\circ)=0$, eventuelt at $\\sin(\\pi)=0$ når vi måler vinkel i radianer. Når vi prøver å regne ut dette med bruk av Python får vi derimot et litt annet svar, slik kodecellen nedenfor demonstrerer:"
   ]
  },
  {
   "cell_type": "code",
   "execution_count": null,
   "id": "90d46aaf-1c86-4f5d-8781-ae3b574f889e",
   "metadata": {},
   "outputs": [],
   "source": [
    "from numpy import sin, pi\n",
    "print(f\"{sin(pi) = }\")"
   ]
  },
  {
   "cell_type": "markdown",
   "id": "2d944925-d2a0-404d-b8c0-27f2112eb8aa",
   "metadata": {},
   "source": [
    ">Svaret vi får med Python kan ved første øyekast se veldig galt ut, men det er viktig å legge merke til at dette tallet bruker vitenskapelig notasjon. Dersom vi skulle skrevet ut dette som et ordinært desimaltall ville vi fått $15$ nuller bak desimaltegnet. Med andre ord er dette et veldig lite tall som er ***nesten*** er lik $0$, men måten datamaskiner utfører beregninger på har medført en aldri så liten regnefeil. Årsaken til dette er at en datamaskin ikke faktisk arbeider med den nøyaktige verdien til tallet $\\pi$, men må rett og slett gjøre en avrunding da $\\pi$ er et uendelig langt tall."
   ]
  },
  {
   "cell_type": "code",
   "execution_count": null,
   "id": "aa519d38-8429-4666-a310-c7f9d71ce8d3",
   "metadata": {},
   "outputs": [],
   "source": [
    "print(f\"{pi = }\")"
   ]
  },
  {
   "cell_type": "markdown",
   "id": "6c18ddb9-36ee-435a-b566-395142f113e4",
   "metadata": {},
   "source": [
    "## Representasjon av desimaltall\n",
    "Python representerer altså tallet $\\pi$ med 15 desimalers nøyaktighet, men i forrige oppgave gjorde vi beregninger med planck's konstant $h = 6.626\\cdot10^{-34} \\text{ J/s}$. Hvordan kan det ha seg at vi kan gjøre beregninger på et så lite tall, men samtidig rundes $\\pi$ av til $15$ desimaler?\n",
    "\n",
    "For å svare på dette spørsmålet skal vi ta for oss et tankeeksperiment; To fanger sitter i hver sin fengselcelle, mellom cellene er et vindu med fire små glassruter. Fangene kan kommunisere ved å skrive kun ett tallsymbol $0\\text{-}9$ på hver av glassrutene. Gitt disse begrensningene kan fangene bruke 10-tallsystemet til å skrive ned alle heltall mellom $0$ og $9999$, men målet til fangene er å finne et sett med regler for hvordan de fire tallysmbolene tolkes som lar de formidle både små tall (f.eks. $0.001$) og store tall (f.eks. $100\\ 000$) til hverandre.\n",
    "\n",
    "Løsningen er å ta i bruk *vitenskapelig notasjon*. Dersom fangene blir enig om at at én av de fire glassrutene er eksponenten og de tre resterende rutene er signifikanden, betyr det at tallverdiene vi kan skrive ned kan bli så store som $999\\cdot 10^9 = 999\\ 000\\ 000\\ 000$. Men, legg merke til at når eksponenten blir så stor, så blir også avrundingsfeilen veldig stor fordi vi ender opp med å runde av til nærmeste milliard. \n",
    "\n",
    "For å klare å skrive ned veldig små tall, må fangene ha muligheten til å skrive eksponenten med negativt fortegn. Én løsning er å trekke fra f.esk, $5$ fra tallsymbolet skrevet i eksponent-ruten, før man setter det inn i eksponentialuttrykket. Gitt fire variabler $\\text{A}$, $\\text{B}$, $\\text{C}$ og $\\text{D}$ som representerer de fire glassrutene, kan den ferdige oppskriften på konvertering fra 4 énsifrede tallsymbol til en tallverdi kan dermed oppsummeres som i formel $1$ nedenfor:\n",
    "\n",
    ">$$\\text{tall} = \\left(\\text{A} \\cdot 100 + \\text{B}\\cdot 10 + \\text{C}\\right)\\cdot 10 ^{\\text{D-5}} \\tag{1}$$\n",
    ">der symbolene $\\text{A}$, $\\text{B}$, $\\text{C}$ og $\\text{D}$ er énsifrede heltall $[0\\text{-}9]$."
   ]
  },
  {
   "cell_type": "markdown",
   "id": "e2e00693-b347-4997-b9fd-a94a3f565ebf",
   "metadata": {},
   "source": [
    "### a)\n",
    "Gitt regelen for tolking av tallverdi gitt i formel $1$, hva er den aller største tallverdien det går an å representere? <br>Skriv svaret til variabelen `maks_tallverdi` i kodecellen under."
   ]
  },
  {
   "cell_type": "code",
   "execution_count": null,
   "id": "bf61345a-ad27-4dc1-afae-c5c37905518f",
   "metadata": {},
   "outputs": [],
   "source": [
    "maks_tallverdi = ?"
   ]
  },
  {
   "cell_type": "code",
   "execution_count": null,
   "id": "58c99174-9483-4941-b96d-80e5f692b5f2",
   "metadata": {
    "deletable": false,
    "distributed_autograding": {
     "test_code": "ZnJvbSBhdXRvZmVlZGJhY2sgaW1wb3J0IFZhcmlhYmxlVGVzdHMKdGVzdF9yZXN1bHRzID0gVmFyaWFibGVUZXN0cygpCnRlc3RfcmVzdWx0cy5jb21wYXJlX3ZhbHVlcyhtYWtzX3RhbGx2ZXJkaSwgOV85OTBfMDAwKQp0ZXN0X3Jlc3VsdHMuZ2V0X3Jlc3VsdHMoKSoy"
    },
    "editable": false,
    "nbgrader": {
     "cell_type": "code",
     "checksum": "855dff1173ea63633fb60c927e949ddc",
     "grade": true,
     "grade_id": "cell-f68f639aadee5a67",
     "locked": true,
     "points": 2,
     "schema_version": 3,
     "solution": false,
     "task": false
    }
   },
   "outputs": [],
   "source": []
  },
  {
   "cell_type": "markdown",
   "id": "9660ae1a-9930-4d20-a491-29076d670ca6",
   "metadata": {},
   "source": [
    "### b)\n",
    "Gitt regelen for tolking av tallverdi gitt i formel $1$, hva er den aller minste tallverdien det går an å representere (annet enn $0.0$)? <br>Skriv svaret til variabelen `min_tallverdi` i kodecellen under."
   ]
  },
  {
   "cell_type": "code",
   "execution_count": null,
   "id": "25d50baf-6a3f-4f63-b304-1c4a218bfb0e",
   "metadata": {},
   "outputs": [],
   "source": [
    "min_tallverdi = ?"
   ]
  },
  {
   "cell_type": "code",
   "execution_count": null,
   "id": "da50e39d-3a6d-4c99-859b-7ed64c5173f7",
   "metadata": {
    "deletable": false,
    "distributed_autograding": {
     "test_code": "ZnJvbSBhdXRvZmVlZGJhY2sgaW1wb3J0IFZhcmlhYmxlVGVzdHMKdGVzdF9yZXN1bHRzID0gVmFyaWFibGVUZXN0cygpCnRlc3RfcmVzdWx0cy5jb21wYXJlX3ZhbHVlcyhtYWtzX3RhbGx2ZXJkaSwgLjAwMDAxKQp0ZXN0X3Jlc3VsdHMuZ2V0X3Jlc3VsdHMoKSoy"
    },
    "editable": false,
    "nbgrader": {
     "cell_type": "code",
     "checksum": "a7099fe1782001a94cacb1747a66c393",
     "grade": true,
     "grade_id": "cell-975a3b3efdcc6236",
     "locked": true,
     "points": 2,
     "schema_version": 3,
     "solution": false,
     "task": false
    }
   },
   "outputs": [],
   "source": []
  },
  {
   "cell_type": "markdown",
   "id": "54966516-5198-43ee-96f3-e2cb8a3f67e2",
   "metadata": {},
   "source": [
    "Generelt kan man si at metoden for å for å representere tall gitt i formel $1$ vil involvere å alltid runde av til 3 signifikante siffer, der det fjerde tallsymbolet bestemmer plasseringen av desimaltegnet. Slik vil eksempelvis $59\\ 293$ avrundes til $59\\ 300$ og representeres med symbolene $\\fbox{5}\\fbox{9}\\fbox{3}\\fbox{7}$, og $\\pi$ avrundes til $3.14$ og representeres med symbolene $\\fbox{3}\\fbox{1}\\fbox{4}\\fbox{3}$. \n",
    "\n",
    "## Absolutt feil og relativ feil\n",
    "I numerikk er absolutt feil et begrep vi bruker om avviket mellom en tilnærmet tallverdi og en eksakt tallverdi. Absolutt feil defineres som i formel $2$ nedenfor:\n",
    "\n",
    "$$\\text{absolutt feil} = \\big| \\text{avrundet tallverdi} - \\text{eksakt tallverdi} \\big| \\tag{2}$$\n",
    "\n",
    "Et annet mål på hvor nøyaktig en tallverdi er, er *relativ feil*, som er en indikasjon på hvor stor en avrundingsfeil er relativ til den eksakte verdien. Relativ feil kan regnes ut med formelen $3$ nedenfor:\n",
    "\n",
    "$$\\text{relativ feil} = \\left|\\frac{ \\text{avrundet tallverdi} - \\text{eksakt tallverdi} }{\\text{eksakt tallverdi}}\\right| \\tag{3}$$\n",
    "\n",
    "### c) \n",
    "Finn den avrundede verdien, og hva den den absolutte og relative feilen blir når man representerer en tilnærming til tallet $16\\ 384$ ved hjelp av regneregelen i formel $1$. Du kan regne det ut enten for hånd eller med bruk av pythonkode."
   ]
  },
  {
   "cell_type": "code",
   "execution_count": null,
   "id": "588e8f54-dd13-4b79-8d64-d670034a7a89",
   "metadata": {},
   "outputs": [],
   "source": [
    "tall = 16_384\n",
    "\n",
    "avrundet_tallverdi = ? \n",
    "absolutt_feil = ?\n",
    "relativ_feil = ?\n",
    "\n",
    "print(f\"Avrundet tallverdi: {avrundet_tallverdi}\")\n",
    "print(f\"Absolutt feil: {absolutt_feil}\")\n",
    "print(f\"Relativ feil: {relativ_feil}\")"
   ]
  },
  {
   "cell_type": "code",
   "execution_count": null,
   "id": "8bb2c3bd-e736-4b05-97df-0b6ee0c739d5",
   "metadata": {
    "deletable": false,
    "distributed_autograding": {
     "test_code": "ZnJvbSBhdXRvZmVlZGJhY2sgaW1wb3J0IFZhcmlhYmxlVGVzdHMKdGVzdF9yZXN1bHRzID0gVmFyaWFibGVUZXN0cygpCnRlc3RfcmVzdWx0cy5jb21wYXJlX3ZhbHVlcyhhdnJ1bmRldF90YWxsdmVyZGksIDE2Mzg0KQp0ZXN0X3Jlc3VsdHMuY29tcGFyZV92YWx1ZXMoYWJzb2x1dHRfZmVpbCwgMTYpCnRlc3RfcmVzdWx0cy5jb21wYXJlX3ZhbHVlcyhyZWxhdGl2X2ZlaWwsIDAuMDAwOTc2NTYyNSkKdGVzdF9yZXN1bHRzLmdldF9yZXN1bHRzKCkqMw=="
    },
    "editable": false,
    "nbgrader": {
     "cell_type": "code",
     "checksum": "c51c7751ced9c0efea3d9df13bf4e0f1",
     "grade": true,
     "grade_id": "cell-ed27a9df46f57a1d",
     "locked": true,
     "points": 3,
     "schema_version": 3,
     "solution": false,
     "task": false
    }
   },
   "outputs": [],
   "source": []
  },
  {
   "cell_type": "markdown",
   "id": "7dd94535-01e8-4b11-b637-b1b951724edb",
   "metadata": {},
   "source": [
    "### d) \n",
    "Finn den avrundede verdien, og hva den den absolutte og relative feilen blir når man representerer en tilnærming til tallet $0.001436$ ved hjelp av metoden i formel $1$. Du kan regne det ut enten for hånd eller med bruk av pythonkode."
   ]
  },
  {
   "cell_type": "code",
   "execution_count": null,
   "id": "53fcb171-38ec-4b2f-b05e-096a5653f5ad",
   "metadata": {},
   "outputs": [],
   "source": [
    "tall = 0.001438\n",
    "\n",
    "avrundet_tallverdi = ?\n",
    "absolutt_feil = ?\n",
    "relativ_feil = ?\n",
    "\n",
    "print(f\"Avrundet tallverdi: {avrundet_tallverdi}\")\n",
    "print(f\"Absolutt feil: {absolutt_feil}\")\n",
    "print(f\"Relativ feil: {relativ_feil}\")"
   ]
  },
  {
   "cell_type": "code",
   "execution_count": null,
   "id": "a84a1710-6c78-4da3-b2ee-056827ae72a0",
   "metadata": {
    "deletable": false,
    "distributed_autograding": {
     "test_code": "ZnJvbSBhdXRvZmVlZGJhY2sgaW1wb3J0IFZhcmlhYmxlVGVzdHMKdGVzdF9yZXN1bHRzID0gVmFyaWFibGVUZXN0cygpCnRlc3RfcmVzdWx0cy5jb21wYXJlX3ZhbHVlcyhhdnJ1bmRldF90YWxsdmVyZGksIDAuMDAxNDQpCnRlc3RfcmVzdWx0cy5jb21wYXJlX3ZhbHVlcyhhYnNvbHV0dF9mZWlsLCAyZS02KQp0ZXN0X3Jlc3VsdHMuY29tcGFyZV92YWx1ZXMocmVsYXRpdl9mZWlsLCAwLjAwMTM5MDgpCnRlc3RfcmVzdWx0cy5nZXRfcmVzdWx0cygpKjM="
    },
    "editable": false,
    "nbgrader": {
     "cell_type": "code",
     "checksum": "dac623f667b745542fdab3df182fda6a",
     "grade": true,
     "grade_id": "cell-4c431f1fcd5f2ae1",
     "locked": true,
     "points": 3,
     "schema_version": 3,
     "solution": false,
     "task": false
    }
   },
   "outputs": [],
   "source": []
  },
  {
   "cell_type": "markdown",
   "id": "a6e56635-54e4-4b8b-bf01-12f03f46508a",
   "metadata": {},
   "source": [
    "Måten vi har representert tallverdien i denne oppgaven er en forenkling av hvordan en datamaskin representerer desimaltall. Ettersom talleverdien representeres med et justerbart, eller \"flytende\" desimaltegn, kalles desimaltall typisk for [*flyttall*](https://docs.python.org/3/tutorial/floatingpoint.html). Som vi har sett i oppgave **c)** og **d)**, vil den absolutte feilen for et flyttall avhenge av størrelseordenen til den eksakte tallverdien, men den relative feilen vil være i samme størrelsesorden for både store og små tall. Dette er grunnen til at den absolutte avrundingsfeilen for $\\pi$ er så mye større enn Planck's konstant $h = 6.626\\cdot10^{-34} \\text{ J/s}$.\n",
    "\n",
    "Én detalj som gjør flyttall i Python mer kompliserte enn tankeeksperimentet vårt er at det er mange flere siffer i tallene. I tillegg bruker ikke datamaskiner titall-systemet, men det *binære* tallsystemet til å representere tallverdier. I neste oppgave skal vi se litt nærmere på hvordan binære tall fungerer, og hvordan dette påvirker oppførselen til flyttall i Python."
   ]
  },
  {
   "cell_type": "markdown",
   "id": "b7f696b7-fae0-462b-bba8-a8b535afaf28",
   "metadata": {},
   "source": [
    "<br>\n",
    "<nav class=\"navbar navbar-default\">\n",
    "  <div class=\"container-fluid\">\n",
    "    <div class=\"navbar-header\" style=\"float: left\">\n",
    "      <a class=\"navbar-brand\" href=\"6_Vitenskapelig_notasjon.ipynb\" target=\"_self\">&lt; Forrige side: <i>Vitenskapelig notasjon</i></a>\n",
    "      </div>\n",
    "    <div class=\"navbar-header\" style=\"float: right\">\n",
    "      <a class=\"navbar-brand\" href=\"9_Binaertall.ipynb\" target=\"_self\">Neste side: <i>Binære tall</i> &gt;</a>\n",
    "    </div>\n",
    "  </div>\n",
    "</nav>"
   ]
  },
  {
   "cell_type": "code",
   "execution_count": null,
   "id": "524dbf59-8399-472f-8989-30385fef2d30",
   "metadata": {},
   "outputs": [],
   "source": []
  }
 ],
 "metadata": {
  "kernelspec": {
   "display_name": "Python 3 (ipykernel)",
   "language": "python",
   "name": "python3"
  },
  "language_info": {
   "codemirror_mode": {
    "name": "ipython",
    "version": 3
   },
   "file_extension": ".py",
   "mimetype": "text/x-python",
   "name": "python",
   "nbconvert_exporter": "python",
   "pygments_lexer": "ipython3",
   "version": "3.11.6"
  }
 },
 "nbformat": 4,
 "nbformat_minor": 5
}
