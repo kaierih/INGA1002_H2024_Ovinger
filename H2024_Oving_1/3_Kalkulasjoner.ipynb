{
 "cells": [
  {
   "cell_type": "markdown",
   "metadata": {
    "deletable": false,
    "editable": false,
    "slideshow": {
     "slide_type": ""
    },
    "tags": []
   },
   "source": [
    "<nav class=\"navbar navbar-default\">\n",
    "  <div class=\"container-fluid\">\n",
    "    <div class=\"navbar-header\" style=\"float: left\">\n",
    "        <a class=\"navbar-brand\" href=\"0_Forside.ipynb\" target=\"_self\"> <h2> &uarr; Tilbake til forsiden</h2></a>\n",
    "    </div>\n",
    "  </div>\n",
    "</nav>"
   ]
  },
  {
   "cell_type": "markdown",
   "metadata": {
    "deletable": false,
    "editable": false,
    "run_control": {
     "frozen": true
    }
   },
   "source": [
    "# Kalkulasjoner\n",
    "\n",
    "**Læringsmål**:\n",
    "\n",
    "* Aritmetikk\n",
    "* Matematiske utrykk i Python\n",
    "\n",
    "I denne oppgaven skal du lære hvordan du skriver matematiske uttrykk for å gjøre utregninger i Python. Vi har allerede vert borti addisjon i de forrige oppgavene, men nå skal vi se litt nærmere på hvilke regler som gjelder når utregningene blir mer kompliserte."
   ]
  },
  {
   "cell_type": "markdown",
   "metadata": {
    "deletable": false,
    "editable": false
   },
   "source": [
    "### Matematiske Operatorer\n",
    "\n",
    "Et av de mest grunnleggende bruksområdene for programmering er matematiske beregninger, og for å utføre matematiske beregninger begynner vi med å lære oss hvordan grunnleggende matteoperasjoner fungerer i Python. \n",
    "\n",
    "Gitt ukjente tallverdier `a` og `b`, viser tabellen nedenfor hvordan utregninger kan skrives i programkode:\n",
    "\n",
    "Matematikk | Python | Merknad\n",
    "--- | --- | ---\n",
    "a + b | `a + b` | Det er vanlig å sette et mellomrom på hver side av + men ikke påkrevd. <br> Kunne også ha skrevet a+b. Samme gjelder for andre regneoperatorer. <br> Smak og behag, men litt luft gjør ofte uttrykk lettere å lese.\n",
    "a - b | `a - b` | Bruk det vanlige bindestrek-tegnet for minus\n",
    "a · b |`a * b`| Bruk stjerntegn (asterisk) for multiplikasjon\n",
    "ab|<span style=\"color:red\">**NEI**</span>| I Python må gangetegn **alltid** skrives eksplisitt, kan ikke utelates\n",
    "a : b|`a / b`|Vanlig skråstrek brukes for divisjon, **ikke** kolon eller horsintal brøkstrek.\n",
    "a<sup>b</sup>|`a ** b`| Dobbel stjerne for potens. De to stjernene må stå kloss inntil hverandre.\n",
    "\n",
    "### Presedens\n",
    "\n",
    "Når matematiske uttrykk utregnes er det svært viktig å holde seg til en innenforstått rekkefølge av operasjoner. Her følger programmering i Python samme regler som man har lært i tidligere matematiske fag:\n",
    "\n",
    "* Multiplikasjon og divisjon har høyere presedens enn addisjon og subtraksjon. Det har med andre ord ingenting å si at f.eks. addisjons-operasjonen befinner seg \"først\" i leserekkefølgen venstre $\\rightarrow$ høyre når operatorene har ulik presedens.\n",
    " * `3 + 2 * 5` gir 13, fordi `*` utføres før `+`.\n",
    " * `5 - 1 / 2` gir 4.5, fordi `/` utføres før `-`.\n",
    "* Potens har høyere presedens enn multiplikasjon og divisjon.\n",
    " * `5 * 2 ** 3` gir 40, fordi `**` utføres før `*`.\n",
    " \n",
    " \n"
   ]
  },
  {
   "cell_type": "markdown",
   "metadata": {
    "deletable": false,
    "editable": false
   },
   "source": [
    "### Oppgave a) \n",
    "Nedenfor er variabelen `x` tilegnet tallverdien $64$. Bruk denne til å regne ut verdien til en ny variabel `y` gitt ved $y=\\frac{x^{0.5}}{4}-10$."
   ]
  },
  {
   "cell_type": "code",
   "execution_count": null,
   "metadata": {
    "deletable": false,
    "execution": {
     "iopub.execute_input": "2024-08-19T11:33:31.227465Z",
     "iopub.status.busy": "2024-08-19T11:33:31.226644Z",
     "iopub.status.idle": "2024-08-19T11:33:31.247697Z",
     "shell.execute_reply": "2024-08-19T11:33:31.245234Z"
    },
    "nbgrader": {
     "cell_type": "code",
     "checksum": "54687310beb63a7c9b01db49087fc421",
     "grade": false,
     "grade_id": "cell-0ab6ca7b46cf74dc",
     "locked": false,
     "schema_version": 3,
     "solution": true,
     "task": false
    }
   },
   "outputs": [],
   "source": [
    "x = 64\n",
    "#-------------------------------------\n",
    "# SKRIV DIN KODE HER!\n",
    "#-------------------------------------"
   ]
  },
  {
   "cell_type": "markdown",
   "metadata": {
    "deletable": false,
    "editable": false
   },
   "source": [
    "Kjør cellen nedenfor for å teste løsningen din. Utskriften skal være `y = -8.0 når x = 64`."
   ]
  },
  {
   "cell_type": "code",
   "execution_count": null,
   "metadata": {
    "autofeedback": {
     "test_code": "YW5zd2VyX2NlbGxfaW5kZXggPSBsZW4oSW4pLTIKYW5zd2VyX2NlbGxfY29udGVudHMgPSBJblthbnN3ZXJfY2VsbF9pbmRleF0KCmZyb20gYXV0b2ZlZWRiYWNrIGltcG9ydCBWYXJpYWJsZVRlc3RzCmdyYWRpbmdfcmVzdWx0cyA9IFZhcmlhYmxlVGVzdHMoKQpncmFkaW5nX3Jlc3VsdHMuY29tcGFyZV92YWx1ZXMoeSwgLTguMCwgbmFtZT0neScpCnJvdW5kKGdyYWRpbmdfcmVzdWx0cy5nZXRfcmVzdWx0cygpKjIsIDIp"
    },
    "deletable": false,
    "editable": false,
    "execution": {
     "iopub.execute_input": "2024-08-19T11:33:31.257142Z",
     "iopub.status.busy": "2024-08-19T11:33:31.256339Z",
     "iopub.status.idle": "2024-08-19T11:33:32.875082Z",
     "shell.execute_reply": "2024-08-19T11:33:32.872993Z"
    },
    "nbgrader": {
     "cell_type": "code",
     "checksum": "a7816bec0e1c55846ecbec5d8f54bb48",
     "grade": true,
     "grade_id": "cell-e19305b2bec25a1a",
     "locked": true,
     "points": 2,
     "schema_version": 3,
     "solution": false,
     "task": false
    },
    "slideshow": {
     "slide_type": ""
    },
    "tags": []
   },
   "outputs": [],
   "source": [
    "print(f\"{y = } når {x = }\")"
   ]
  },
  {
   "cell_type": "markdown",
   "metadata": {
    "deletable": false,
    "editable": false
   },
   "source": [
    "### Parantes\n",
    "\n",
    "Når regneoperasjonene i en matematisk formel skal utføres i en annen rekkefølge enn den gitt av ovenfor, er det vanlig å framheve dette med bruk av paranteser. Denne praksisen har også blitt adoptert av python, så vanlig parantes `()` blir brukt til å omslutte regneoperasjoner som skal utføres før det som står utenfor:\n",
    "\n",
    "* Eksempler:\n",
    " * `(3 + 2) * 5` blir 25, fordi `+` utføres før `*`.\n",
    " * `(5 - 1) / 2` blir 2, fordi `-` utføres før `/`.\n",
    " * `(3+1)*(3-1)` blir 8, fordi innholdet i begge parantesene nå utføres før `*`.\n",
    " * `(5 * 2) ** 3` blir 1000, fordi `*` nå utføres før `**`.\n",
    " \n",
    "Med andre ord, hvis du skal \"oversette\" et matematisk uttrykk med parenteser til Python kan vi også benytte parenteser på samme sted også i Python-koden, men det er et par detaljer vi bør være oppmerksom på:\n",
    "* I en del tilfeller med matematisk notasjon er paranteser implisitt, selvo om de ikke fremstår i det matematiske uttrykket. \n",
    "    * **Brøk**: I uttrykket nedenfor er det innenforstått at operasjonene i teller og nevner utføres *før* divisjonen representert med brøkstreken. $$\\\\ \\frac{2-x}{2+x} \\\\ $$ Med python vil dette uttrykket skrives med paranteser på følgende vis: `(2-x)/(2+x)`\n",
    "    * **Potens**: I uttrykket nedenfor er det innenforståt at hele uttrykket $2x-1$ er eksponenten til tallet $10$. $$\\\\ 10^{2x-1} \\\\ $$ Med python vil dette uttrykket skrives med paranteser på følgende vis: `10**(2*x-1)`\n",
    "* I matematisk notasjon brukes av og til ulike parentessymboler () [] {} <br> hvis det er uttrykk med flere nivåer av parenteser nøstet inn i hverandre. <br> I Python må vanlig parentes () brukes for **alle** nivåer. [] og {} har en annen betydning.\n"
   ]
  },
  {
   "cell_type": "markdown",
   "metadata": {
    "deletable": false,
    "editable": false
   },
   "source": [
    "### Oppgave b)  \n",
    "\n",
    "I kodecellen nedenfor har vi angitt $x=2$, og $y=3$. Bruk variablene `x`, og `y`, og utfør følgende beregninger:\n",
    "\n",
    "\n",
    "\n",
    "La $a$ være $5x + y$\n",
    "\n",
    "La $b$ være $x \\cdot y + a$\n",
    "\n",
    "La $c$ være $\\frac{-y + 4}{x - 4}$\n",
    "\n",
    "La $d$ være $5^{x \\cdot y + 2}$\n",
    "\n",
    "La $e$ være $\\big((x + y) \\cdot a - b\\big)$"
   ]
  },
  {
   "cell_type": "code",
   "execution_count": null,
   "metadata": {
    "deletable": false,
    "execution": {
     "iopub.execute_input": "2024-08-19T11:33:32.883646Z",
     "iopub.status.busy": "2024-08-19T11:33:32.883055Z",
     "iopub.status.idle": "2024-08-19T11:33:32.894629Z",
     "shell.execute_reply": "2024-08-19T11:33:32.891260Z"
    },
    "nbgrader": {
     "cell_type": "code",
     "checksum": "ac19426dc44f50d1b6be2532f13347bd",
     "grade": false,
     "grade_id": "cell-ab10ec74533037a2",
     "locked": false,
     "schema_version": 3,
     "solution": true,
     "task": false
    }
   },
   "outputs": [],
   "source": [
    "x = 2\n",
    "y = 3\n",
    "#-------------------------------------\n",
    "# SKRIV DIN KODE HER!\n",
    "#-------------------------------------"
   ]
  },
  {
   "cell_type": "markdown",
   "metadata": {
    "deletable": false,
    "editable": false
   },
   "source": [
    "*PS: Kodecellen nedenfor vil skrie ut tallverdien til variablene `a`, `b`, `c`, `d` og `e` etter tur. Bruk av likhetstegn i f-strengen tolker python som at tallet skal skrives ut på formatet `x = 2`. Med andre ord så vil `print(f\"{a = }\")` gi samme utskrift som `print(f\"a = {a}\")`.*"
   ]
  },
  {
   "cell_type": "code",
   "execution_count": null,
   "metadata": {
    "autofeedback": {
     "test_code": "ZnJvbSBhdXRvZmVlZGJhY2sgaW1wb3J0IFZhcmlhYmxlVGVzdHMKZ3JhZGluZ19yZXN1bHRzID0gVmFyaWFibGVUZXN0cygpCmdyYWRpbmdfcmVzdWx0cy5jb21wYXJlX3ZhbHVlcyhhLCAxMywgbmFtZT0nYScpCmdyYWRpbmdfcmVzdWx0cy5jb21wYXJlX3ZhbHVlcyhiLCAxOSwgbmFtZT0nYicpCmdyYWRpbmdfcmVzdWx0cy5jb21wYXJlX3ZhbHVlcyhjLCAtMC41LCBuYW1lPSdjJykKZ3JhZGluZ19yZXN1bHRzLmNvbXBhcmVfdmFsdWVzKGQsIDM5MDYyNSwgbmFtZT0nZCcpCmdyYWRpbmdfcmVzdWx0cy5jb21wYXJlX3ZhbHVlcyhlLCA0NiwgbmFtZT0nZScpCnJvdW5kKGdyYWRpbmdfcmVzdWx0cy5nZXRfcmVzdWx0cygpKjQsIDIp"
    },
    "deletable": false,
    "editable": false,
    "execution": {
     "iopub.execute_input": "2024-08-19T11:33:32.903696Z",
     "iopub.status.busy": "2024-08-19T11:33:32.902908Z",
     "iopub.status.idle": "2024-08-19T11:33:32.965349Z",
     "shell.execute_reply": "2024-08-19T11:33:32.962281Z"
    },
    "nbgrader": {
     "cell_type": "code",
     "checksum": "6d2e1d7084dae81ed1413997803383cf",
     "grade": true,
     "grade_id": "cell-d642c95165267ed6",
     "locked": true,
     "points": 4,
     "schema_version": 3,
     "solution": false,
     "task": false
    },
    "tags": []
   },
   "outputs": [],
   "source": [
    "print(f\"{a = }\")\n",
    "print(f\"{b = }\")\n",
    "print(f\"{c = }\")\n",
    "print(f\"{d = }\")\n",
    "print(f\"{e = }\")\n"
   ]
  },
  {
   "cell_type": "markdown",
   "metadata": {
    "deletable": false,
    "editable": false
   },
   "source": [
    "## Avrunding og absoluttverdi\n",
    "\n",
    "Funksjonen `print()` som vi allerede har brukt er én av en rekke innebygde funksjoner python har å by på. To andre funksjoner som er  spesielt relevante til matematikk er `abs()` for absoluttverdi og `round()` for avrunding. Nedenfor ser du noen eksempler på hvordan disse kan brukes:\n"
   ]
  },
  {
   "cell_type": "code",
   "execution_count": null,
   "metadata": {
    "deletable": false,
    "execution": {
     "iopub.execute_input": "2024-08-19T11:33:32.975468Z",
     "iopub.status.busy": "2024-08-19T11:33:32.974661Z",
     "iopub.status.idle": "2024-08-19T11:33:32.989315Z",
     "shell.execute_reply": "2024-08-19T11:33:32.986277Z"
    },
    "tags": []
   },
   "outputs": [],
   "source": [
    "negative_value = -4.75\n",
    "\n",
    "print(\"Vi skal nå se på bruk av funksjoner for avrunding og absoluttverdi.\")\n",
    "print(f\"|{negative_value}|, dvs. absoluttverdien til {negative_value}, er {abs(negative_value)}\" )\n",
    "print(f\"{negative_value} avrundet til helt tall er {round(negative_value)}\")\n",
    "print(f\"{negative_value} avrundet til én desimal er {round(negative_value, 1)}\")"
   ]
  },
  {
   "cell_type": "markdown",
   "metadata": {
    "deletable": false,
    "editable": false
   },
   "source": [
    "En fullstendig oversikt over innebygde funksjoner i python kan du finne [her](https://docs.python.org/3/library/functions.html)."
   ]
  },
  {
   "cell_type": "markdown",
   "metadata": {
    "deletable": false,
    "editable": false
   },
   "source": [
    "## c) Klassisk fysikk II\n",
    "<img src=\"Figurer/Shelf.png\"  style=\"width: 400px; margin-left: 10%\" />\n",
    "\n",
    "\n",
    "En kule faller ned fra en hylle med høyde $h=6$ meter over bakken. Gitt en tyngdekraftsakselerajson $g=9.81\\ ^m/s^2$ og at det ikke er noe luftmotstand, vil tiden $T$ det tar for kulen å nå bakken være:\n",
    "\n",
    "$$T = \\sqrt{\\frac{h\\cdot 2}{g}} $$\n",
    "\n",
    "Regn ut tiden $T$ det tar for kulen å treffe bakken, og skriv svaret med inntil 3 desimaler nøyaktighet. Du skal også skrive ut høyden $h$ over bakken som kulen faller fra.\n",
    "\n",
    "*Et nyttig tips for utregning av kvadratrot: $\\sqrt{x} = x^{\\frac{1}{2}}$*"
   ]
  },
  {
   "cell_type": "code",
   "execution_count": null,
   "metadata": {
    "deletable": false,
    "execution": {
     "iopub.execute_input": "2024-08-19T11:33:32.998679Z",
     "iopub.status.busy": "2024-08-19T11:33:32.997849Z",
     "iopub.status.idle": "2024-08-19T11:33:33.054994Z",
     "shell.execute_reply": "2024-08-19T11:33:33.051755Z"
    },
    "nbgrader": {
     "cell_type": "code",
     "checksum": "a80642bd12763ddf7ea4917d1362545e",
     "grade": false,
     "grade_id": "cell-b6bf62cf3ec2c626",
     "locked": false,
     "schema_version": 3,
     "solution": true,
     "task": false
    },
    "tags": []
   },
   "outputs": [],
   "source": [
    "h = 6 # meter\n",
    "#-------------------------------------\n",
    "# SKRIV DIN KODE HER!\n",
    "#-------------------------------------"
   ]
  },
  {
   "cell_type": "markdown",
   "metadata": {
    "deletable": false,
    "editable": false
   },
   "source": [
    "Eksempel på utskrift:\\\n",
    "`En kule som faller fra høyde 6 meter over bakken bruker _.___ sekunder på å nå bakken.`"
   ]
  },
  {
   "cell_type": "code",
   "execution_count": null,
   "metadata": {
    "autofeedback": {
     "test_code": "ZnJvbSBhdXRvZmVlZGJhY2sgaW1wb3J0IENvZGVDZWxsVGVzdHMKCmFuc3dlcl9jZWxsX2luZGV4ID0gbGVuKEluKS0yCmFuc3dlcl9jZWxsX2NvbnRlbnRzID0gSW5bYW5zd2VyX2NlbGxfaW5kZXhdCgpncmFkaW5nX3Jlc3VsdHMgPSBDb2RlQ2VsbFRlc3RzKGFuc3dlcl9jZWxsX2NvbnRlbnRzKQpncmFkaW5nX3Jlc3VsdHMudGVzdF9vdXRwdXQociI2IikKZ3JhZGluZ19yZXN1bHRzLnRlc3Rfb3V0cHV0KHIiMVsuXTEwNiIsIHNhbXBsZT0iMS4xMDYiLCBpZ25vcmVfY29kZV9tYXRjaD1GYWxzZSkKZ3JhZGluZ19yZXN1bHRzLnJlcGxhY2UociJoXHM/PVxzPzZccyIsICJoID0gNTAgIikKZ3JhZGluZ19yZXN1bHRzLnRlc3Rfb3V0cHV0KHIiM1suXTE5MyIsIHNhbXBsZT0iMy4xOTMiLCBpZ25vcmVfY29kZV9tYXRjaD1GYWxzZSkKcm91bmQoZ3JhZGluZ19yZXN1bHRzLmdldF9yZXN1bHRzKCkqNCwgMik="
    },
    "deletable": false,
    "editable": false,
    "execution": {
     "iopub.execute_input": "2024-08-19T11:33:33.066815Z",
     "iopub.status.busy": "2024-08-19T11:33:33.064473Z",
     "iopub.status.idle": "2024-08-19T11:33:33.094630Z",
     "shell.execute_reply": "2024-08-19T11:33:33.091947Z"
    },
    "nbgrader": {
     "cell_type": "code",
     "checksum": "d7a1b46d37f855d4a2fff5cc1d1b4611",
     "grade": true,
     "grade_id": "cell-d4827ebb6140c0cd",
     "locked": true,
     "points": 4,
     "schema_version": 3,
     "solution": false,
     "task": false
    },
    "slideshow": {
     "slide_type": ""
    },
    "tags": []
   },
   "outputs": [],
   "source": []
  },
  {
   "cell_type": "markdown",
   "metadata": {
    "deletable": false,
    "editable": false
   },
   "source": [
    "*Alle* funksjonene vi har brukt så langt (`print()`, `abs()` og `round()`) er en del av python sitt ***standardbibliotek***. En fullstendig liste over funksjoner som finnes i standardbiblioteket kan du se [her](https://docs.python.org/3/library/functions.html)."
   ]
  },
  {
   "cell_type": "markdown",
   "metadata": {
    "deletable": false,
    "editable": false
   },
   "source": [
    "### Nyttig å vite: *heltallsdivisjon* og *modulo*\n",
    "\n",
    "I tillegg til vanlig divisjon `/` har Python også heltallsdivisjon som skrives `//` og modulo som skrives med operatoren `%`.\n",
    "\n",
    "Heltallsdivisjon og modulo minner om måten du lærte divisjon på barneskolen før du hadde lært desimaltall, altså med hele tall og rest.\n",
    "\n",
    "Tabellen under illustrerer hvordan disse operatorene virker:\n",
    "\n",
    "**Utrykk i Python**|**Resultat**|**Forklaring**\n",
    "---|---|---\n",
    "17 / 5\t|3.4\t|Vanlig divisjon\n",
    "17 // 5|\t3\t|Heltallsdivisjon, gir hvor mange hele ganger nevneren 5 går opp i telleren 17\n",
    "17 % 5\t|2|\tModulo, gir resten av 17 // 5, dvs. de 2 som blir til over\n",
    "7.75 / 2.5\t|3.1|\tVanlig divisjon\n",
    "7.75 // 2.5\t|3.0|\tHeltallsdivisjon, gir hvor mange hele ganger nevneren 2.5 går opp i 7.75.<br> Her blir svaret et flyttall (3.0) heller enn heltallet 3, fordi teller og nevner er flyttall.\n",
    "7.75 % 2.5\t|0.25|\tModulo, Resten av 7.75//2.5 er 0.25 fordi 2.5 * 3.0 er 7.5\n",
    "\n",
    "Heltallsdivisjon og modulo har en rekke nyttige bruksområder i programmering.\n",
    "\n",
    "Ett eksempel er regning med enheter som aggregeres på andre måter enn det typiske 10, 100, 1000, slik som 60 sekund per minutt, 60 minutt per time, 24 timer per døgn, 7 døgn per uke.\n",
    "\n",
    "#### Eksempel:"
   ]
  },
  {
   "cell_type": "code",
   "execution_count": null,
   "metadata": {
    "deletable": false,
    "execution": {
     "iopub.execute_input": "2024-08-19T11:33:33.106115Z",
     "iopub.status.busy": "2024-08-19T11:33:33.105310Z",
     "iopub.status.idle": "2024-08-19T11:33:33.155080Z",
     "shell.execute_reply": "2024-08-19T11:33:33.118586Z"
    }
   },
   "outputs": [],
   "source": [
    "sekund = 12634  # Lang tidsperiode oppgitt i sekund er knotete å forholde seg til\n",
    "print(f\"{sekund} sekund tilsvarer...\")\n",
    "\n",
    "# La oss regne om til timer, minutt og sekund\n",
    "minutt = sekund // 60  # Hvor mange hele minutt som går opp i \"sekund\" antall sekund\n",
    "sekund = sekund % 60   # Hvor mange sekund som er igjen etter å ha trukket fra hele minutt\n",
    "timer = minutt // 60   # Hvor mange hele timer som går opp i \"minutt\" antall minutt\n",
    "minutt = minutt % 60   # Hvor mange minutt som er igjen etter å ha trukket fra hele timer\n",
    "\n",
    "# Skriv ut resultatet\n",
    "print(f\"{timer} timer, {minutt} minutt og {sekund} sekund.\")"
   ]
  },
  {
   "cell_type": "markdown",
   "metadata": {
    "deletable": false,
    "editable": false
   },
   "source": [
    "<br>\n",
    "<nav class=\"navbar navbar-default\">\n",
    "  <div class=\"container-fluid\">\n",
    "    <div class=\"navbar-header\" style=\"float: left\">\n",
    "      <a class=\"navbar-brand\" href=\"2_Variabler.ipynb\" target=\"_self\">&lt; Forrige side: <i>Variabler</i></a>\n",
    "      </div>\n",
    "    <div class=\"navbar-header\" style=\"float: right\">\n",
    "      <a class=\"navbar-brand\" href=\"4_Moduler.ipynb\" target=\"_self\">Neste side: <i>Moduler</i> &gt;</a>\n",
    "    </div>\n",
    "  </div>\n",
    "</nav>"
   ]
  }
 ],
 "metadata": {
  "hide_input": false,
  "kernelspec": {
   "display_name": "Python 3 (ipykernel)",
   "language": "python",
   "name": "python3"
  },
  "language_info": {
   "codemirror_mode": {
    "name": "ipython",
    "version": 3
   },
   "file_extension": ".py",
   "mimetype": "text/x-python",
   "name": "python",
   "nbconvert_exporter": "python",
   "pygments_lexer": "ipython3",
   "version": "3.11.6"
  },
  "scenes_data": {
   "active_scene": "Default Scene",
   "init_scene": "",
   "scenes": [
    "Default Scene"
   ]
  },
  "toc": {
   "base_numbering": 1,
   "nav_menu": {},
   "number_sections": false,
   "sideBar": true,
   "skip_h1_title": false,
   "title_cell": "Table of Contents",
   "title_sidebar": "Contents",
   "toc_cell": false,
   "toc_position": {},
   "toc_section_display": true,
   "toc_window_display": false
  },
  "varInspector": {
   "cols": {
    "lenName": 16,
    "lenType": 16,
    "lenVar": 40
   },
   "kernels_config": {
    "python": {
     "delete_cmd_postfix": "",
     "delete_cmd_prefix": "del ",
     "library": "var_list.py",
     "varRefreshCmd": "print(var_dic_list())"
    },
    "r": {
     "delete_cmd_postfix": ") ",
     "delete_cmd_prefix": "rm(",
     "library": "var_list.r",
     "varRefreshCmd": "cat(var_dic_list()) "
    }
   },
   "types_to_exclude": [
    "module",
    "function",
    "builtin_function_or_method",
    "instance",
    "_Feature"
   ],
   "window_display": false
  }
 },
 "nbformat": 4,
 "nbformat_minor": 4
}
