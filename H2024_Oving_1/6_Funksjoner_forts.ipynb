{
 "cells": [
  {
   "cell_type": "markdown",
   "id": "fcb524df-d012-4485-99db-c25e4cd59628",
   "metadata": {
    "deletable": false,
    "editable": false,
    "slideshow": {
     "slide_type": ""
    },
    "tags": []
   },
   "source": [
    "<nav class=\"navbar navbar-default\">\n",
    "  <div class=\"container-fluid\">\n",
    "    <div class=\"navbar-header\" style=\"float: left\">\n",
    "        <a class=\"navbar-brand\" href=\"0_Forside.ipynb\" target=\"_self\"> <h2> &uarr; Tilbake til forsiden</h2></a>\n",
    "    </div>\n",
    "  </div>\n",
    "</nav>"
   ]
  },
  {
   "cell_type": "markdown",
   "id": "73f538ea-bc22-4ab3-abb2-e009eb472f95",
   "metadata": {
    "deletable": false,
    "editable": false
   },
   "source": [
    "# Funksjoner av flere variabler\n",
    "\n",
    "Akkurat som i matematikk er heller ikke funksjoner i Python nødvendigvis begrenset til mapping av én inngangsverdi til én utgangsverdi. Funksjoner kan ha så mange input-argument vi skulle ønske. Et eksempel på en funksjon som avhenger av flere variabler, kan være en funksjon for å regne ut arealet av et rektangel: \n",
    "\n",
    "> Gitt et rektangel med bredde $b$ og høyde $h$, så kan vi skrive arealet $A$ som en funksjon av *både* $b$ *og* $h$:\n",
    ">\n",
    "> ## $$A(b, h) = b\\cdot h $$\n",
    "> <img src=\"Figurer/Rect_Area.png\"  style=\"width: 500px; margin-left: 10%\" />\n",
    ">\n",
    "> Funksjonen $A(b, h)$ ville vi i python skrevet på følgende måte:\n",
    "\n",
    "<!--Vi kan for eksempel lage en funksjon $f(x, y)$ som \"mapper\" inngangsverdiene $x$ og $y$ til en utgangsverdi $z$. Dette kan være for eksempel en funksjon som beskriver en overflate der høyden i den tredje dimensjonen $z$ er avhengig av posisjonen på et todimensjonalt koordinatsystem gitt av $x$ og $y$. Figuren nedenfor illustrerer hvordan dette kan se ut for funksjonen $f(x, y) = e^{-x^2-y^2}$ vil se ut i et tredimensjonalt rom.-->\n",
    "\n",
    "\n",
    "<!--\n",
    "I figuren ser vi tydelig at høyden til overflaten i $z$-retning er avhengiv av *både* posisjonen langs $x$-aksen *og* $y$-aksen. I Python ville vi skrevet funksjonen $f(x, y)$ på følgende måte:-->"
   ]
  },
  {
   "cell_type": "code",
   "execution_count": null,
   "id": "a2e75fc5-415c-4e28-8de7-149fcad07f47",
   "metadata": {
    "deletable": false,
    "execution": {
     "iopub.execute_input": "2024-08-23T09:19:23.368631Z",
     "iopub.status.busy": "2024-08-23T09:19:23.367921Z",
     "iopub.status.idle": "2024-08-23T09:19:23.390614Z",
     "shell.execute_reply": "2024-08-23T09:19:23.388676Z"
    }
   },
   "outputs": [],
   "source": [
    "def A(b, h):\n",
    "    Areal = b*h\n",
    "    return Areal\n",
    "\n",
    "# Vi bruker så et funksjonskall for å \"kalle\" på funksjonen A(b,h) og finne ut hva f.eks. A(1,2) blir.\n",
    "print(f\"A(1,2) = {A(1,2)}\")"
   ]
  },
  {
   "cell_type": "markdown",
   "id": "28de665a-7774-4cb7-8b60-b67e47817038",
   "metadata": {
    "deletable": false,
    "editable": false
   },
   "source": [
    "> På samme måte som i oppgave **5** kan vi nå bruke variabelnavnet `b` inne i funksjonsbeskrivelsen for å antyde at verdien til `Areal` vil være avhengig av inngangsvariabelen `b`. Forskjellen er at her har vi i tillegg enda en inngangsvariabel `h` som også har innvirkning på verdien til `Areal`, så når den er definert som et input-argument i linjen `def A(b, h)` kan den også tas i bruk inne i funksjonen i linjen `A = b*h`.\n",
    "\n",
    "Noe annet som er verdt å påpeke er at inngangsvariablene ikke trenger å være enkeltbokstaver slik som vi ofte burker i matematikk. De kan i grunn hete hva som helst så lenge det er et gyldig variabelnavn (slik vi gjennomgikk i oppgave 2). Ofte foretrekker programmerere å gi variabler og funksjoner noe lengre og mer beskrivende navn, slik at det ikke like lett skal oppstå tvil om hva funksjonen gjør."
   ]
  },
  {
   "cell_type": "markdown",
   "id": "8591590b-0d22-4c00-86b8-fa2d6354cee8",
   "metadata": {
    "deletable": false,
    "editable": false
   },
   "source": [
    "### a) Funksjon for volum av syllinder\n",
    "\n",
    "Nedenfor skal du lage en funksjon som regner ut volumet til en syllinder. For å finne volumet trenger du både radiusen til grunnflaten, og høyden til syllinderen.\n",
    "$$V(r, h) = \\pi\\cdot  r^{2}\\cdot  h$$\n",
    "\n",
    "Bruk formelen ovenfor og verdien til $\\pi$ i biblioteket `numpy` til å fullføre funksjonen `sylinder_volum` som regner ut volumet (V) fra radiusen (r) og høyden (h) til en sylinder."
   ]
  },
  {
   "cell_type": "code",
   "execution_count": null,
   "id": "08f7e640-066a-4420-a1d9-ba86409bad2f",
   "metadata": {
    "deletable": false,
    "execution": {
     "iopub.execute_input": "2024-08-23T09:19:23.400788Z",
     "iopub.status.busy": "2024-08-23T09:19:23.400092Z",
     "iopub.status.idle": "2024-08-23T09:19:23.727802Z",
     "shell.execute_reply": "2024-08-23T09:19:23.726054Z"
    },
    "nbgrader": {
     "cell_type": "code",
     "checksum": "323638b5b34624d10b219158b09487e2",
     "grade": false,
     "grade_id": "cell-bd490163e856dc03",
     "locked": false,
     "schema_version": 3,
     "solution": true,
     "task": false
    }
   },
   "outputs": [],
   "source": [
    "import numpy as np\n",
    "def sylinder_volum(r, h):\n",
    "    #-------------------------------------\n",
    "    # SKRIV DIN KODE HER!\n",
    "    #-------------------------------------"
   ]
  },
  {
   "cell_type": "code",
   "execution_count": null,
   "id": "0cb92a99-b3e9-4da1-961d-9ba66caaa3e3",
   "metadata": {
    "autofeedback": {
     "test_code": "ZnJvbSByYW5kb20gaW1wb3J0IHNhbXBsZQpmcm9tIGF1dG9mZWVkYmFjayBpbXBvcnQgRnVuY3Rpb25UZXN0cwppbXBvcnQgbnVtcHkgYXMgbnAKCmRlZiBzeWxpbmRlcl92b2x1bV9zb2x1dGlvbihyLCBoKToKICAgIHJldHVybiBucC5waSAqIHIqKjIgKiBoCgpncmFkaW5nX3Jlc3VsdHMgPSBGdW5jdGlvblRlc3RzKHN5bGluZGVyX3ZvbHVtX3NvbHV0aW9uKQoKdHJ5OgogICAgZ3JhZGluZ19yZXN1bHRzLmFkZF90ZXN0X2Z1bmMoc3lsaW5kZXJfdm9sdW0pCmV4Y2VwdCBFeGNlcHRpb24gYXMgZToKICAgIGdyYWRpbmdfcmVzdWx0cy5sb2cuYXBwZW5kKCJDb3VsZCBub3QgcnVuIHRlc3RzLCAiK2UuYXJnc1swXSkKZWxzZToKICAgIHJfdmFscyA9IHNhbXBsZShsaXN0KHJhbmdlKDEsIDIxKSksIDIpCiAgICBoX3ZhbHMgPSBzYW1wbGUobGlzdChyYW5nZSgxMCwgMjEpKSwgMikKICAgIGZvciByIGluIHJfdmFsczoKICAgICAgICBmb3IgaCBpbiBoX3ZhbHM6CiAgICAgICAgICAgIGdyYWRpbmdfcmVzdWx0cy50ZXN0X3JldHVybl92YWx1ZShyLCBoKQpyb3VuZChncmFkaW5nX3Jlc3VsdHMuZ2V0X3Jlc3VsdHMoKSozLCAyKQ=="
    },
    "deletable": false,
    "editable": false,
    "execution": {
     "iopub.execute_input": "2024-08-23T09:19:23.736390Z",
     "iopub.status.busy": "2024-08-23T09:19:23.735951Z",
     "iopub.status.idle": "2024-08-23T09:19:25.254464Z",
     "shell.execute_reply": "2024-08-23T09:19:25.236646Z"
    },
    "nbgrader": {
     "cell_type": "code",
     "checksum": "0d69f65307732ab970a61eb89d3e964e",
     "grade": true,
     "grade_id": "cell-e6e47cd5d1947c19",
     "locked": true,
     "points": 3,
     "schema_version": 3,
     "solution": false,
     "task": false
    },
    "slideshow": {
     "slide_type": ""
    },
    "tags": []
   },
   "outputs": [],
   "source": []
  },
  {
   "cell_type": "markdown",
   "id": "19b71a3d-7d79-431c-9888-92ad6e78fc8a",
   "metadata": {
    "deletable": false,
    "editable": false
   },
   "source": [
    "### b) Funksjon for volum av rør\n",
    "\n",
    "La oss si at en produsent av plastrør vil finne en enkel måte å beregne hvor mye ulike rør veier. Da trenger man å vite hvor mange volumenheter md plast som går med på å lage et rør.\n",
    "\n",
    "Nedenfor skal du lage en ny funksjon kalt \"`ror_volum`\" som tar inn en ytre diameter $d_Y$, indre diameter $d_I$, og lengde $l$. Denne skal regne ut volumet til et hult rør (altså kun volumet til materialet røret er laget av, ikke tomrommet i midten) og returnere dette. \n",
    "\n",
    "<img src=\"Figurer/Ror_volum.png\"  style=\"width: 500px; margin-left: 10%\" />\n",
    "\n",
    "Når man skal finne volumet av et hult rør kan man ta volumet til hele syllinderformen til røret, og trekke fra tomrommet inni røret som også har en syllinderform.\n",
    "\n",
    "Hint: Man kan kalle funksjoner fra inni av andre funksjoner."
   ]
  },
  {
   "cell_type": "code",
   "execution_count": null,
   "id": "f6b7475c-28a1-4a56-972e-654b1d918be3",
   "metadata": {
    "deletable": false,
    "execution": {
     "iopub.execute_input": "2024-08-23T09:19:25.265741Z",
     "iopub.status.busy": "2024-08-23T09:19:25.264351Z",
     "iopub.status.idle": "2024-08-23T09:19:25.279645Z",
     "shell.execute_reply": "2024-08-23T09:19:25.276617Z"
    },
    "nbgrader": {
     "cell_type": "code",
     "checksum": "0ec46c1c427738a110d6a611ad66df41",
     "grade": false,
     "grade_id": "cell-4f277726d29fdf6f",
     "locked": false,
     "schema_version": 3,
     "solution": true,
     "task": false
    }
   },
   "outputs": [],
   "source": [
    "def ror_volum(dY, dI, l):\n",
    "    #-------------------------------------\n",
    "    # SKRIV DIN KODE HER!\n",
    "    #-------------------------------------"
   ]
  },
  {
   "cell_type": "code",
   "execution_count": null,
   "id": "f57b9dca-fd9f-4122-a6c9-050662706ee2",
   "metadata": {
    "autofeedback": {
     "test_code": "ZnJvbSByYW5kb20gaW1wb3J0IHJhbmRpbnQsIHNhbXBsZQpmcm9tIGF1dG9mZWVkYmFjayBpbXBvcnQgRnVuY3Rpb25UZXN0cwppbXBvcnQgbnVtcHkgYXMgbnAKCmRlZiByb3Jfdm9sdW1fc29sdXRpb24oZFksIGRJLCBsKToKICAgIHJldHVybiBzeWxpbmRlcl92b2x1bV9zb2x1dGlvbihkWS8yLCBsKSAtIHN5bGluZGVyX3ZvbHVtX3NvbHV0aW9uKGRJLzIsIGwpCgpncmFkaW5nX3Jlc3VsdHMgPSBGdW5jdGlvblRlc3RzKHJvcl92b2x1bV9zb2x1dGlvbikKCnRyeToKICAgIGdyYWRpbmdfcmVzdWx0cy5hZGRfdGVzdF9mdW5jKHJvcl92b2x1bSkKZXhjZXB0IEV4Y2VwdGlvbiBhcyBlOgogICAgZ3JhZGluZ19yZXN1bHRzLmxvZy5hcHBlbmQoIkNvdWxkIG5vdCBydW4gdGVzdHMsICIrZS5hcmdzWzBdKQplbHNlOgogICAgcllfdmFscyA9IHNhbXBsZShsaXN0KHJhbmdlKDEwLCAyMSkpLCA1KQogICAgcklfdmFscyA9IFt4IC0gcmFuZGludCgxLCA1KSBmb3IgeCBpbiByWV92YWxzXQogICAgaF92YWxzID0gc2FtcGxlKGxpc3QocmFuZ2UoMjAsIDMxKSksIDUpCiAgICBmb3IgaSBpbiByYW5nZSg1KToKICAgICAgICByWSwgckksIGggPSByWV92YWxzW2ldLCBySV92YWxzW2ldLCBoX3ZhbHNbaV0KICAgICAgICBncmFkaW5nX3Jlc3VsdHMudGVzdF9yZXR1cm5fdmFsdWUoclksIHJJLCBoKQpyb3VuZChncmFkaW5nX3Jlc3VsdHMuZ2V0X3Jlc3VsdHMoKSo0LCAyKQ=="
    },
    "deletable": false,
    "editable": false,
    "execution": {
     "iopub.execute_input": "2024-08-23T09:19:25.289560Z",
     "iopub.status.busy": "2024-08-23T09:19:25.288777Z",
     "iopub.status.idle": "2024-08-23T09:19:25.353831Z",
     "shell.execute_reply": "2024-08-23T09:19:25.322510Z"
    },
    "nbgrader": {
     "cell_type": "code",
     "checksum": "47ac44abbe95c85dae00128a78c7c39d",
     "grade": true,
     "grade_id": "cell-4ff67afb9e582e6f",
     "locked": true,
     "points": 4,
     "schema_version": 3,
     "solution": false,
     "task": false
    }
   },
   "outputs": [],
   "source": []
  },
  {
   "cell_type": "markdown",
   "id": "bf652661-455e-4072-b056-a364f0199f31",
   "metadata": {
    "deletable": false,
    "editable": false
   },
   "source": [
    "## Globale vs Lokale variabler\n",
    "\n",
    "Noen ganger vil man jobbe med en verdi som er nyttig i store deler av koden sin. Da kan det være veldig tungvindt å sende den inn i alle funksjonkallene sine. Derfor har man Globale variabler. Disse variablene vil være tilgjengelig for hele programmet, og ikke bare inni funksjoner.\n",
    "\n",
    "Når man bruker variabler vil python først lete etter verdien i ett \"lokalt scope\", og deretter i ett \"globalt scope\". Om man er inni en funksjon vil dette være ett lokalt scope, mens utenfor vil være det globale scopet. Siden python leter først i det lokale scopet, og deretter i det globale scopet kan dette skape forvirringer hvis man har 2 variabler med samme navn i ulike scope. I eksempelkoden nedenfor vil dere kunne prøve dere frem med globale og lokale variabler.\n",
    "\n",
    "Kjør kodecellen under, deretter kan du prøve å kommentere ut \"message = ...\" inni funksjonen. Hva blir printet da?"
   ]
  },
  {
   "cell_type": "code",
   "execution_count": null,
   "id": "c5e74168-7b7f-4714-b770-1b4899b09ff3",
   "metadata": {
    "deletable": false,
    "execution": {
     "iopub.execute_input": "2024-08-23T09:19:25.364725Z",
     "iopub.status.busy": "2024-08-23T09:19:25.363916Z",
     "iopub.status.idle": "2024-08-23T09:19:25.379566Z",
     "shell.execute_reply": "2024-08-23T09:19:25.375903Z"
    }
   },
   "outputs": [],
   "source": [
    "message = \"Hallo fra det globale skop\" # Dette er en global variabel\n",
    "\n",
    "\n",
    "def min_funksjon():\n",
    "    message = \"Hallo fra ett lokalt skop\" # Dette er en lokal variabel\n",
    "\n",
    "    print(message)\n",
    "\n",
    "min_funksjon()"
   ]
  },
  {
   "cell_type": "markdown",
   "id": "0cece1ec-a175-4769-b704-13144f916db7",
   "metadata": {
    "deletable": false,
    "editable": false
   },
   "source": [
    "### c) Globale utregning\n",
    "\n",
    "<img src=\"Figurer/lokaleVsGlobale.png\" width=\"40%\" align=\"right\" />\n",
    "\n",
    "Nedenfor skal du lage en funksjon `calculate_force` som tar inn masse og regner ut tyngdekraften. Siden vi regner med at alle kalkulasjoner er for objekter på jorden skal du lage en global variabel for jordens tyngdekraft. Bruk $g=9.81$\n",
    "\n",
    "Funksjonen skal hete \"calculateForce\" og formelen for tyngdekraft er $F=m\\cdot g$"
   ]
  },
  {
   "cell_type": "code",
   "execution_count": null,
   "id": "d5d93df7-4574-44da-8482-9c30bc94d0b1",
   "metadata": {
    "deletable": false,
    "execution": {
     "iopub.execute_input": "2024-08-23T09:19:25.389779Z",
     "iopub.status.busy": "2024-08-23T09:19:25.388994Z",
     "iopub.status.idle": "2024-08-23T09:19:25.401782Z",
     "shell.execute_reply": "2024-08-23T09:19:25.399388Z"
    },
    "nbgrader": {
     "cell_type": "code",
     "checksum": "ab7b3e43b475953612efd60c5736301a",
     "grade": false,
     "grade_id": "cell-f58f02afe70a3607",
     "locked": false,
     "schema_version": 3,
     "solution": true,
     "task": false
    }
   },
   "outputs": [],
   "source": [
    "#-------------------------------------\n",
    "# SKRIV DIN KODE HER!\n",
    "#-------------------------------------"
   ]
  },
  {
   "cell_type": "code",
   "execution_count": null,
   "id": "4dd2bb71-43c2-4bd1-acb7-64ee03363720",
   "metadata": {
    "autofeedback": {
     "test_code": "ZnJvbSByYW5kb20gaW1wb3J0IHJhbmRpbnQsIHNhbXBsZQpmcm9tIGF1dG9mZWVkYmFjayBpbXBvcnQgRnVuY3Rpb25UZXN0cwppbXBvcnQgbnVtcHkgYXMgbnAKCmdfc29sdXRpb24gPSA5LjgxCmRlZiBjYWxjdWxhdGVfZm9yY2Vfc29sdXRpb24obSk6CiAgICByZXR1cm4gbSAqIGdfc29sdXRpb24KCmdyYWRpbmdfcmVzdWx0cyA9IEZ1bmN0aW9uVGVzdHMoY2FsY3VsYXRlX2ZvcmNlX3NvbHV0aW9uKQoKaWYgJ2cnIG5vdCBpbiBnbG9iYWxzKCk6CiAgICBncmFkaW5nX3Jlc3VsdHMuYWRkX3Jlc3VsdChGYWxzZSwgZiJubyBnbG9iYWwgdmFyaWFibGUgJ2cnIGlzIGRlY2xhcmVkIikKZWxpZiBub3QgbnAuaXNjbG9zZShnLCBnX3NvbHV0aW9uKToKICAgIGdyYWRpbmdfcmVzdWx0cy5hZGRfcmVzdWx0KFRydWUsIGYiZ2xvYmFsIHZhcmlhYmxlICdnJyBpcyBkZWNsYXJlZCIsIHdndD0wLjMpCiAgICBncmFkaW5nX3Jlc3VsdHMuYWRkX3Jlc3VsdChGYWxzZSwgZiJ2YWx1ZSBmb3IgZ2xvYmFsIHZhcmlhYmxlIHtnID0gfSBpcyBpbmNvcnJlY3QiLCB3Z3Q9MC43KQplbHNlOgogICAgZ3JhZGluZ19yZXN1bHRzLmFkZF9yZXN1bHQoVHJ1ZSwgZiJnbG9iYWwgdmFyaWFibGUge2c9fSBpcyBjb3JyZWN0bHkgZGVjbGFyZWQiKQoKdHJ5OgogICAgZ3JhZGluZ19yZXN1bHRzLmFkZF90ZXN0X2Z1bmMoY2FsY3VsYXRlX2ZvcmNlKQpleGNlcHQgRXhjZXB0aW9uIGFzIGU6CiAgICBncmFkaW5nX3Jlc3VsdHMubG9nLmFwcGVuZCgiQ291bGQgbm90IHJ1biB0ZXN0cywgIitlLmFyZ3NbMF0pCmVsc2U6CiAgICBtX3ZhbHMgPSBzYW1wbGUobGlzdChyYW5nZSgxMCwgMTAwLCAxMCkpLCAzKQogICAgZm9yIG0gaW4gbV92YWxzOgogICAgICAgIGdyYWRpbmdfcmVzdWx0cy50ZXN0X3JldHVybl92YWx1ZShtKQpyb3VuZChncmFkaW5nX3Jlc3VsdHMuZ2V0X3Jlc3VsdHMoKSozLCAyKQ=="
    },
    "deletable": false,
    "editable": false,
    "execution": {
     "iopub.execute_input": "2024-08-23T09:19:25.411680Z",
     "iopub.status.busy": "2024-08-23T09:19:25.410909Z",
     "iopub.status.idle": "2024-08-23T09:19:25.480647Z",
     "shell.execute_reply": "2024-08-23T09:19:25.478616Z"
    },
    "nbgrader": {
     "cell_type": "code",
     "checksum": "83ba84ca795d3ebc8efc968546ee2038",
     "grade": true,
     "grade_id": "cell-056139f02bd29ac8",
     "locked": true,
     "points": 3,
     "schema_version": 3,
     "solution": false,
     "task": false
    }
   },
   "outputs": [],
   "source": []
  },
  {
   "cell_type": "markdown",
   "id": "e2906ca3-314a-485d-bd46-56e526cb2e7e",
   "metadata": {
    "deletable": false,
    "editable": false
   },
   "source": [
    "<br>\n",
    "<nav class=\"navbar navbar-default\">\n",
    "  <div class=\"container-fluid\">\n",
    "    <div class=\"navbar-header\" style=\"float: left\">\n",
    "      <a class=\"navbar-brand\" href=\"5_Funksjoner.ipynb\" target=\"_self\">&lt; Forrige side: <i>Funksjoner</i></a>\n",
    "      </div>\n",
    "    <div class=\"navbar-header\" style=\"float: right\">\n",
    "      <a class=\"navbar-brand\" href=\"7_Vitenskapelig_notasjon.ipynb\" target=\"_self\">Neste side: <i>Vitenskapelig Notasjon</i> &gt;</a>\n",
    "    </div>\n",
    "  </div>\n",
    "</nav>"
   ]
  }
 ],
 "metadata": {
  "kernelspec": {
   "display_name": "Python 3 (ipykernel)",
   "language": "python",
   "name": "python3"
  },
  "language_info": {
   "codemirror_mode": {
    "name": "ipython",
    "version": 3
   },
   "file_extension": ".py",
   "mimetype": "text/x-python",
   "name": "python",
   "nbconvert_exporter": "python",
   "pygments_lexer": "ipython3",
   "version": "3.11.6"
  },
  "toc": {
   "base_numbering": 1
  }
 },
 "nbformat": 4,
 "nbformat_minor": 5
}
