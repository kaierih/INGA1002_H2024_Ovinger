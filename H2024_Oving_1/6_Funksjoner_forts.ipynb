{
 "cells": [
  {
   "cell_type": "markdown",
   "id": "fcb524df-d012-4485-99db-c25e4cd59628",
   "metadata": {},
   "source": [
    "<nav class=\"navbar navbar-default\">\n",
    "  <div class=\"container-fluid\">\n",
    "    <div class=\"navbar-header\" style=\"float: left\">\n",
    "        <a class=\"navbar-brand\" href=\"0_Forside.ipynb\" target=\"_self\"> <h2> &uarr; Tilbake til forsiden</h2></a>\n",
    "    </div>\n",
    "  </div>\n",
    "</nav>"
   ]
  },
  {
   "cell_type": "markdown",
   "id": "73f538ea-bc22-4ab3-abb2-e009eb472f95",
   "metadata": {},
   "source": [
    "# Funksjoner av flere variabler\n",
    "\n",
    "Akkurat som i matematikk er heller ikke funksjoner i Python nødvendigvis begrenset til mapping av én inngangsverdi til én utgangsverdi. Vi kan for eksempel lage en funksjon $f(x, y)$ som \"mapper\" inngangsverdiene $x$ og $y$ til en utgangsverdi $z$. Dette kan være for eksempel en funksjon som beskriver en overflate der høyden i den tredje dimensjonen $z$ er avhengig av posisjonen på et todimensjonalt koordinatsystem gitt av $x$ og $y$. Figuren nedenfor illustrerer hvordan dette kan se ut for funksjonen $f(x, y) = e^{-x^2-y^2}$ vil se ut i et tredimensjonalt rom.\n",
    "\n",
    "<img src=\"Figurer/surface_plot.png\"  style=\"width: 40%; margin-left: 10%\" />\n",
    "\n",
    "I figuren ser vi tydelig at høyden til overflaten i $z$-retning er avhengiv av *både* posisjonen langs $x$-aksen *og* $y$-aksen. I Python ville vi skrevet funksjonen $f(x, y)$ på følgende måte:"
   ]
  },
  {
   "cell_type": "code",
   "execution_count": null,
   "id": "a2e75fc5-415c-4e28-8de7-149fcad07f47",
   "metadata": {},
   "outputs": [],
   "source": [
    "import numpy as np\n",
    "def f(x, y):\n",
    "    z = np.exp(-x**2-y**2)\n",
    "    return z\n",
    "# Vi bruker så et funksjonskall for å \"kalle\" på funksjonen f(x,y) og finne ut hva f(1,2) blir.\n",
    "print(f\"f(1,2) = {f(1,2)}\")"
   ]
  },
  {
   "cell_type": "markdown",
   "id": "28de665a-7774-4cb7-8b60-b67e47817038",
   "metadata": {},
   "source": [
    "På samme måte som i oppgave **5** kan vi nå bruke variabelnavnet `x` inne i funksjonen for å antyde at verdien til `z` vil være avhengig av inngangsvariabelen `x`. Forskjellen er at her har vi i tillegg enda en inngangsvariabel `y` som også har innvirkning på verdien til `z`, så den inkluderer vi i beregningene i linjen `z = np.exp(-x**2-y**2)` på nøyaktig samme måte.\n",
    "\n",
    "Noe annet som er verdt å påpeke er at inngangsvariablene ikke trenger å hete `x` eller `y`, og funksjnen kan også ha et annet navn enn `f`. De kan i grunn hete hva som helst så lenge det er et gyldig variabelnavn (slik vi gjennomgikk i oppgave 2). Ofte foretrekker programmerere å gi variabler og funksjoner noe lengre og mer beskrivende navn, slik at det ikke like lett skal oppstå tvil om hva funksjonen gjør."
   ]
  },
  {
   "cell_type": "markdown",
   "id": "8591590b-0d22-4c00-86b8-fa2d6354cee8",
   "metadata": {},
   "source": [
    "### a) Funksjon for volum av syllinder\n",
    "\n",
    "Nedenfor skal du lage en funksjon som regner ut volumet til en syllinder. For å finne volumet trenger du både radiusen til grunnflaten, og høyden til syllinderen.\n",
    "$$V(r, h) = \\pi\\cdot  r^{2}\\cdot  h$$\n",
    "\n",
    "Bruk formelen ovenfor og verdien til $\\pi$ i biblioteket `numpy` til å fullføre funksjonen `sylinder_volum` som regner ut volumet (V) fra radiusen (r) og høyden (h) til en sylinder."
   ]
  },
  {
   "cell_type": "code",
   "execution_count": null,
   "id": "08f7e640-066a-4420-a1d9-ba86409bad2f",
   "metadata": {
    "deletable": false,
    "nbgrader": {
     "cell_type": "code",
     "checksum": "6a33dcc9445e405b92a715358d7d4570",
     "grade": false,
     "grade_id": "cell-bd490163e856dc03",
     "locked": false,
     "schema_version": 3,
     "solution": true,
     "task": false
    }
   },
   "outputs": [],
   "source": [
    "import numpy as np\n",
    "def sylinder_volum(r, h):\n",
    "    #-------------------------------------\n",
    "    # SKRIV DIN KODE HER:\n",
    "    #-------------------------------------"
   ]
  },
  {
   "cell_type": "code",
   "execution_count": null,
   "id": "0cb92a99-b3e9-4da1-961d-9ba66caaa3e3",
   "metadata": {
    "deletable": false,
    "distributed_autograding": {
     "test_code": "ZnJvbSByYW5kb20gaW1wb3J0IHNhbXBsZQpmcm9tIGF1dG9mZWVkYmFjayBpbXBvcnQgRnVuY3Rpb25UZXN0cwppbXBvcnQgbnVtcHkgYXMgbnAKCmRlZiBzeWxpbmRlcl92b2x1bV9zb2x1dGlvbihyLCBoKToKICAgIHJldHVybiBucC5waSAqIHIqKjIgKiBoCgpncmFkaW5nX3Jlc3VsdHMgPSBGdW5jdGlvblRlc3RzKHN5bGluZGVyX3ZvbHVtX3NvbHV0aW9uKQoKdHJ5OgogICAgZ3JhZGluZ19yZXN1bHRzLmFkZF90ZXN0X2Z1bmMoc3lsaW5kZXJfdm9sdW0pCmV4Y2VwdCBFeGNlcHRpb24gYXMgZToKICAgIGdyYWRpbmdfcmVzdWx0cy5sb2cuYXBwZW5kKCJDb3VsZCBub3QgcnVuIHRlc3RzLCAiK2UuYXJnc1swXSkKZWxzZToKICAgIHJfdmFscyA9IHNhbXBsZShsaXN0KHJhbmdlKDEsIDIxKSksIDIpCiAgICBoX3ZhbHMgPSBzYW1wbGUobGlzdChyYW5nZSgxMCwgMjEpKSwgMikKICAgIGZvciByIGluIHJfdmFsczoKICAgICAgICBmb3IgaCBpbiBoX3ZhbHM6CiAgICAgICAgICAgIGdyYWRpbmdfcmVzdWx0cy50ZXN0X3JldHVybl92YWx1ZShyLCBoKQpyb3VuZChncmFkaW5nX3Jlc3VsdHMuZ2V0X3Jlc3VsdHMoKSozKQ=="
    },
    "editable": false,
    "nbgrader": {
     "cell_type": "code",
     "checksum": "0d69f65307732ab970a61eb89d3e964e",
     "grade": true,
     "grade_id": "cell-e6e47cd5d1947c19",
     "locked": true,
     "points": 3,
     "schema_version": 3,
     "solution": false,
     "task": false
    }
   },
   "outputs": [],
   "source": []
  },
  {
   "cell_type": "markdown",
   "id": "19b71a3d-7d79-431c-9888-92ad6e78fc8a",
   "metadata": {},
   "source": [
    "### b) Funksjon for volum av rør\n",
    "\n",
    "La oss si at en produsent av plastrør vil finne en enkel måte å beregne hvor mye ulike rør veier. Da trenger man å vite hvor mange volumenheter md plast som går med på å lage et rør.\n",
    "\n",
    "Nedenfor skal du lage en ny funksjon kalt \"rørVolum\" som tar inn en ytre radius, indre radius, og høyde. Denne skal regne ut volumet til et hult rør og returnere dette. \n",
    ">Illustrasjon vil være nyttig her\n",
    "\n",
    "Når man skal finne volumet av et hult rør kan man ta volumet til hele syllinderformen til røret, og trekke fra den luft syllinderen inni røret.\n",
    "\n",
    "Hint: Man kan kalle funksjoner fra innsiden av andre funksjoner."
   ]
  },
  {
   "cell_type": "code",
   "execution_count": null,
   "id": "f6b7475c-28a1-4a56-972e-654b1d918be3",
   "metadata": {
    "deletable": false,
    "nbgrader": {
     "cell_type": "code",
     "checksum": "6addb42cee1c13e9521625b81c765b36",
     "grade": false,
     "grade_id": "cell-4f277726d29fdf6f",
     "locked": false,
     "schema_version": 3,
     "solution": true,
     "task": false
    }
   },
   "outputs": [],
   "source": [
    "def rør_volum(rY, rI, h):\n",
    "    #-------------------------------------\n",
    "    # SKRIV DIN KODE HER:\n",
    "    #-------------------------------------"
   ]
  },
  {
   "cell_type": "code",
   "execution_count": null,
   "id": "f57b9dca-fd9f-4122-a6c9-050662706ee2",
   "metadata": {
    "deletable": false,
    "distributed_autograding": {
     "test_code": "ZnJvbSByYW5kb20gaW1wb3J0IHJhbmRpbnQsIHNhbXBsZQpmcm9tIGF1dG9mZWVkYmFjayBpbXBvcnQgRnVuY3Rpb25UZXN0cwppbXBvcnQgbnVtcHkgYXMgbnAKCmRlZiByw7hyX3ZvbHVtX3NvbHV0aW9uKHJZLCBySSwgaCk6CiAgICByZXR1cm4gc3lsaW5kZXJfdm9sdW1fc29sdXRpb24oclksIGgpIC0gc3lsaW5kZXJfdm9sdW1fc29sdXRpb24ockksIGgpCgpncmFkaW5nX3Jlc3VsdHMgPSBGdW5jdGlvblRlc3RzKHLDuHJfdm9sdW1fc29sdXRpb24pCgp0cnk6CiAgICBncmFkaW5nX3Jlc3VsdHMuYWRkX3Rlc3RfZnVuYyhyw7hyX3ZvbHVtKQpleGNlcHQgRXhjZXB0aW9uIGFzIGU6CiAgICBncmFkaW5nX3Jlc3VsdHMubG9nLmFwcGVuZCgiQ291bGQgbm90IHJ1biB0ZXN0cywgIitlLmFyZ3NbMF0pCmVsc2U6CiAgICByWV92YWxzID0gc2FtcGxlKGxpc3QocmFuZ2UoMTAsIDIxKSksIDUpCiAgICBySV92YWxzID0gW3ggLSByYW5kaW50KDEsIDUpIGZvciB4IGluIHJZX3ZhbHNdCiAgICBoX3ZhbHMgPSBzYW1wbGUobGlzdChyYW5nZSgyMCwgMzEpKSwgNSkKICAgIGZvciBpIGluIHJhbmdlKDUpOgogICAgICAgIHJZLCBySSwgaCA9IHJZX3ZhbHNbaV0sIHJJX3ZhbHNbaV0sIGhfdmFsc1tpXQogICAgICAgIGdyYWRpbmdfcmVzdWx0cy50ZXN0X3JldHVybl92YWx1ZShyWSwgckksIGgpCnJvdW5kKGdyYWRpbmdfcmVzdWx0cy5nZXRfcmVzdWx0cygpKjQp"
    },
    "editable": false,
    "nbgrader": {
     "cell_type": "code",
     "checksum": "47ac44abbe95c85dae00128a78c7c39d",
     "grade": true,
     "grade_id": "cell-4ff67afb9e582e6f",
     "locked": true,
     "points": 4,
     "schema_version": 3,
     "solution": false,
     "task": false
    }
   },
   "outputs": [],
   "source": []
  },
  {
   "cell_type": "markdown",
   "id": "bf652661-455e-4072-b056-a364f0199f31",
   "metadata": {},
   "source": [
    "## Globale vs Lokale variabler\n",
    "\n",
    "Noen ganger vil man jobbe med en verdi som er nyttig i store deler av koden sin. Da kan det være veldig tungvindt å sende den inn i alle funksjonkallene sine. Derfor har man Globale variabler. Disse variablene vil være tilgjengelig for hele programmet, og ikke bare inni funksjoner.\n",
    "\n",
    "Når man bruker variabler vil python først lete etter verdien i ett \"lokalt scope\", og deretter i ett \"globalt scope\". Om man er inni en funksjon vil dette være ett lokalt scope, mens utenfor vil være det globale scopet. Siden python leter først i det lokale scopet, og deretter i det globale scopet kan dette skape forvirringer hvis man har 2 variabler med samme navn i ulike scope. I eksempelkoden nedenfor vil dere kunne prøve dere frem med globale og lokale variabler.\n",
    "\n",
    "Kjør kodecellen under, deretter kan du prøve å kommentere ut \"message = ...\" inni funksjonen. Hva blir printet da?"
   ]
  },
  {
   "cell_type": "code",
   "execution_count": null,
   "id": "c5e74168-7b7f-4714-b770-1b4899b09ff3",
   "metadata": {},
   "outputs": [],
   "source": [
    "message = \"Hallo fra det globale skop\" # Dette er en global variabel\n",
    "\n",
    "\n",
    "def min_funksjon():\n",
    "    message = \"Hallo fra ett lokalt skop\" # Dette er en lokal variabel\n",
    "\n",
    "    print(message)\n",
    "\n",
    "min_funksjon()"
   ]
  },
  {
   "cell_type": "markdown",
   "id": "0cece1ec-a175-4769-b704-13144f916db7",
   "metadata": {},
   "source": [
    "### c) Globale utregning\n",
    "\n",
    "<img src=\"Figurer/lokaleVsGlobale.png\" width=\"40%\" align=\"right\" />\n",
    "\n",
    "Nedenfor skal du lage en funksjon `calculate_force` som tar inn masse og regner ut tyngdekraften. Siden vi regner med at alle kalkulasjoner er for objekter på jorden skal du lage en global variabel for jordens tyngdekraft. Bruk $g=9.81$\n",
    "\n",
    "Funksjonen skal hete \"calculateForce\" og formelen for tyngdekraft er $F=m\\cdot g$"
   ]
  },
  {
   "cell_type": "code",
   "execution_count": null,
   "id": "d5d93df7-4574-44da-8482-9c30bc94d0b1",
   "metadata": {
    "deletable": false,
    "nbgrader": {
     "cell_type": "code",
     "checksum": "d72a039932e53a5a147c93c46353708b",
     "grade": false,
     "grade_id": "cell-f58f02afe70a3607",
     "locked": false,
     "schema_version": 3,
     "solution": true,
     "task": false
    }
   },
   "outputs": [],
   "source": [
    "#-------------------------------------\n",
    "# SKRIV DIN KODE HER:\n",
    "#-------------------------------------"
   ]
  },
  {
   "cell_type": "code",
   "execution_count": null,
   "id": "4dd2bb71-43c2-4bd1-acb7-64ee03363720",
   "metadata": {
    "deletable": false,
    "distributed_autograding": {
     "test_code": "ZnJvbSByYW5kb20gaW1wb3J0IHJhbmRpbnQsIHNhbXBsZQpmcm9tIGF1dG9mZWVkYmFjayBpbXBvcnQgRnVuY3Rpb25UZXN0cwppbXBvcnQgbnVtcHkgYXMgbnAKCmdfc29sdXRpb24gPSA5LjgxCmRlZiBjYWxjdWxhdGVfZm9yY2Vfc29sdXRpb24obSk6CiAgICByZXR1cm4gbSAqIGdfc29sdXRpb24KCmdyYWRpbmdfcmVzdWx0cyA9IEZ1bmN0aW9uVGVzdHMoY2FsY3VsYXRlX2ZvcmNlX3NvbHV0aW9uKQoKaWYgJ2cnIG5vdCBpbiBnbG9iYWxzKCk6CiAgICBncmFkaW5nX3Jlc3VsdHMuYWRkX3Jlc3VsdChGYWxzZSwgZiJubyBnbG9iYWwgdmFyaWFibGUgJ2cnIGlzIGRlY2xhcmVkIikKZWxpZiBub3QgbnAuaXNjbG9zZShnLCBnX3NvbHV0aW9uKToKICAgIGdyYWRpbmdfcmVzdWx0cy5hZGRfcmVzdWx0KFRydWUsIGYiZ2xvYmFsIHZhcmlhYmxlICdnJyBpcyBkZWNsYXJlZCIsIHdndD0wLjMpCiAgICBncmFkaW5nX3Jlc3VsdHMuYWRkX3Jlc3VsdChGYWxzZSwgZiJ2YWx1ZSBmb3IgZ2xvYmFsIHZhcmlhYmxlIHtnID0gfSBpcyBpbmNvcnJlY3QiLCB3Z3Q9MC43KQplbHNlOgogICAgZ3JhZGluZ19yZXN1bHRzLmFkZF9yZXN1bHQoVHJ1ZSwgZiJnbG9iYWwgdmFyaWFibGUge2c9fSBpcyBjb3JyZWN0bHkgZGVjbGFyZWQiKQoKdHJ5OgogICAgZ3JhZGluZ19yZXN1bHRzLmFkZF90ZXN0X2Z1bmMoY2FsY3VsYXRlX2ZvcmNlKQpleGNlcHQgRXhjZXB0aW9uIGFzIGU6CiAgICBncmFkaW5nX3Jlc3VsdHMubG9nLmFwcGVuZCgiQ291bGQgbm90IHJ1biB0ZXN0cywgIitlLmFyZ3NbMF0pCmVsc2U6CiAgICBtX3ZhbHMgPSBzYW1wbGUobGlzdChyYW5nZSgxMCwgMTAwLCAxMCkpLCAzKQogICAgZm9yIG0gaW4gbV92YWxzOgogICAgICAgIGdyYWRpbmdfcmVzdWx0cy50ZXN0X3JldHVybl92YWx1ZShtKQpyb3VkbihncmFkaW5nX3Jlc3VsdHMuZ2V0X3Jlc3VsdHMoKSoyLDMp"
    },
    "editable": false,
    "nbgrader": {
     "cell_type": "code",
     "checksum": "83ba84ca795d3ebc8efc968546ee2038",
     "grade": true,
     "grade_id": "cell-056139f02bd29ac8",
     "locked": true,
     "points": 3,
     "schema_version": 3,
     "solution": false,
     "task": false
    }
   },
   "outputs": [],
   "source": []
  },
  {
   "cell_type": "markdown",
   "id": "dad0bfa7-95e2-43c3-8af1-86406450632c",
   "metadata": {},
   "source": [
    "## Klassisk fysikk IV (Valgfri)\n",
    "\n",
    "<img src=\"Figurer/Skier_forces.jpg\"  style=\"width: 300px; margin-left: 10%\" />\n",
    "\n",
    "## d)\n",
    "\n",
    "Vi tar utgangspunkt i skiløperen i Oppgave 4 - Moduler. Bruk løsningen din fra oppgave 4, og ferdigstill *funksjonen* `calculate_accel()` som regner ut skiløperens akselerasjon basert på inngangsvariabler `mass` for masse $m$, `angle` for helningsvinkel $\\alpha$ og `friction` for friksjonstall $\\mu$. "
   ]
  },
  {
   "cell_type": "code",
   "execution_count": null,
   "id": "9bc67bf7-bc07-4ef6-8c95-0cb3b355885c",
   "metadata": {
    "deletable": false,
    "nbgrader": {
     "cell_type": "code",
     "checksum": "0554c4bc58d72abf7ef00980b909c197",
     "grade": false,
     "grade_id": "cell-61a3eb98c513b48f",
     "locked": false,
     "schema_version": 3,
     "solution": true,
     "task": false
    },
    "tags": []
   },
   "outputs": [],
   "source": [
    "import numpy as np\n",
    "\n",
    "def calculate_accel(mass, angle, friction):\n",
    "    #-------------------------------------\n",
    "    # SKRIV DIN KODE HER:\n",
    "    #-------------------------------------\n",
    "    return accel\n",
    "\n",
    "# Skriv funksjonskall for å teste funksjonen her:\n",
    "#-------------------------------------\n",
    "# SKRIV DIN KODE HER:\n",
    "#-------------------------------------"
   ]
  },
  {
   "cell_type": "code",
   "execution_count": null,
   "id": "fe7d10be-c5bf-486c-92ed-ad837a218daf",
   "metadata": {
    "deletable": false,
    "distributed_autograding": {
     "test_code": "I2Zyb20gcmFuZG9tIGltcG9ydCBzYW1wbGUKI2Zyb20gYXV0b2ZlZWRiYWNrIGltcG9ydCBGdW5jdGlvblRlc3RzCgojaW1wb3J0IG51bXB5IGFzIG5wCgojZGVmIGFjY2VsX3NvbHV0aW9uKG1hc3MsIGFuZ2xlLCBmcmljdGlvbik6CiMgICAgRyA9IGcqbWFzcwojICAgIE4gPSBHKm5wLmNvcyhhbmdsZS8xODAqbnAucGkpCiMgICAgR19wID0gRypucC5zaW4oYW5nbGUvMTgwKm5wLnBpKQojICAgIFIgPSBOKmZyaWN0aW9uCiMgICAgYWNjZWwgPSAoR19wIC0gUikvbWFzcwojICAgIHJldHVybiBhY2NlbAoKI2dyYWRpbmdfcmVzdWx0cyA9IEZ1bmN0aW9uVGVzdHMoYWNjZWxfc29sdXRpb24pCgojdHJ5OgojICAgIGdyYWRpbmdfcmVzdWx0cy5hZGRfdGVzdF9mdW5jKGNhbGN1bGF0ZV9hY2NlbCkKI2V4Y2VwdCBFeGNlcHRpb24gYXMgZToKIyAgICBncmFkaW5nX3Jlc3VsdHMubG9nLmFwcGVuZCgiQ291bGQgbm90IHJ1biB0ZXN0cywgIitlLmFyZ3NbMF0pCiNlbHNlOgojICAgIG1hc3NfdmFscyA9IHNhbXBsZShsaXN0KHJhbmdlKDEsIDIxKSksIDUpCiMgICAgbWFzc192YWxzID0gc2FtcGxlKGxpc3QocmFuZ2UoMSwgMjEpKSwgNSkKIyAgICBtYXNzX3ZhbHMgPSBzYW1wbGUobGlzdChyYW5nZSgxLCAyMSkpLCA1KQojICAgIGZvciByIGluIHJfdmFsczoKIyAgICAgICAgZ3JhZGluZ19yZXN1bHRzLnRlc3RfcmV0dXJuX3ZhbHVlKHJhbmRpbnQoMSwgMjApKQojZ3JhZGluZ19yZXN1bHRzLmdldF9yZXN1bHRzKCkqNA=="
    },
    "editable": false,
    "nbgrader": {
     "cell_type": "code",
     "checksum": "5640800097c01e7aad2d0e04e5e8e8f0",
     "grade": true,
     "grade_id": "cell-62082c5c3418d87e",
     "locked": true,
     "points": 0,
     "schema_version": 3,
     "solution": false,
     "task": false
    },
    "tags": []
   },
   "outputs": [],
   "source": []
  },
  {
   "cell_type": "markdown",
   "id": "e6f281de-d991-4bf6-b046-84b7db712c7b",
   "metadata": {},
   "source": [
    "*P.S. I kodecellen ser du kanskje at vi bruker trippel hermetegn for strengen vi printer ut. Dette lar oss lage en streng som går over flere linjer.*"
   ]
  },
  {
   "cell_type": "markdown",
   "id": "e2906ca3-314a-485d-bd46-56e526cb2e7e",
   "metadata": {},
   "source": [
    "<br>\n",
    "<nav class=\"navbar navbar-default\">\n",
    "  <div class=\"container-fluid\">\n",
    "    <div class=\"navbar-header\" style=\"float: left\">\n",
    "      <a class=\"navbar-brand\" href=\"5_Funksjoner.ipynb\" target=\"_self\">&lt; Forrige side: <i>Funksjoner</i></a>\n",
    "      </div>\n",
    "    <div class=\"navbar-header\" style=\"float: right\">\n",
    "      <a class=\"navbar-brand\" href=\"7_Vitenskapelig_notasjon.ipynb\" target=\"_self\">Neste side: <i>Vitenskapelig Notasjon</i> &gt;</a>\n",
    "    </div>\n",
    "  </div>\n",
    "</nav>"
   ]
  }
 ],
 "metadata": {
  "kernelspec": {
   "display_name": "Python 3 (ipykernel)",
   "language": "python",
   "name": "python3"
  },
  "language_info": {
   "codemirror_mode": {
    "name": "ipython",
    "version": 3
   },
   "file_extension": ".py",
   "mimetype": "text/x-python",
   "name": "python",
   "nbconvert_exporter": "python",
   "pygments_lexer": "ipython3",
   "version": "3.11.6"
  }
 },
 "nbformat": 4,
 "nbformat_minor": 5
}
