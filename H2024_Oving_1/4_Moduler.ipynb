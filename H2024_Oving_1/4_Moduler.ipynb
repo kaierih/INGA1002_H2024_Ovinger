{
 "cells": [
  {
   "cell_type": "markdown",
   "id": "e7e7a97f-3435-413b-bfe9-ab2b9bbb3c59",
   "metadata": {
    "deletable": false,
    "editable": false,
    "slideshow": {
     "slide_type": ""
    },
    "tags": []
   },
   "source": [
    "<nav class=\"navbar navbar-default\">\n",
    "  <div class=\"container-fluid\">\n",
    "    <div class=\"navbar-header\" style=\"float: left\">\n",
    "        <a class=\"navbar-brand\" href=\"0_Forside.ipynb\" target=\"_self\"> <h2> &uarr; Tilbake til forsiden</h2></a>\n",
    "    </div>\n",
    "  </div>\n",
    "</nav>"
   ]
  },
  {
   "cell_type": "markdown",
   "id": "e9c5ed12-92f7-40d2-8c6c-ebc14bf4dfb3",
   "metadata": {
    "deletable": false,
    "editable": false
   },
   "source": [
    "# Moduler og matematiske funksjoner\n",
    "\n",
    "I oppgave 2 så vi på hvordan vi kan bruke variabler til å lagre f.eks. konstanter, og så på et eksempel der vi laget en variabel som inneholdt Pi($\\pi$) med seks desimalers presisjon. Dette er ikke en spesielt god måte å lage program som skal løse geometriske utregninger på, da det fortsatt krever at vi skriver inn tallverdien til Pi($\\pi$) hver gang vi lager et program. I tillegg kan det hende at vi trenger flere enn 6 desimalers presisjon. \n",
    "\n",
    "Heldigvis finnes noe det *moduler* i python som inneholder denne typen informasjon, og én modul vi skal se nærmere på er `numpy`. For python-programmet vårt skal få tilgang til alle ressursene `numpy` har å by på bruker vi en import-setning slik som følger: \n",
    "```python\n",
    "import numpy\n",
    "```\n",
    "\n"
   ]
  },
  {
   "cell_type": "code",
   "execution_count": null,
   "id": "c5411ad6-2e49-469f-bf84-d784b7e89b3f",
   "metadata": {
    "deletable": false,
    "execution": {
     "iopub.execute_input": "2024-08-19T11:47:32.771513Z",
     "iopub.status.busy": "2024-08-19T11:47:32.770602Z",
     "iopub.status.idle": "2024-08-19T11:47:33.052765Z",
     "shell.execute_reply": "2024-08-19T11:47:33.035681Z"
    }
   },
   "outputs": [],
   "source": [
    "import numpy\n",
    "print(f\"Pi avrundet til seks desimaler er {round(numpy.pi, 6)}\")"
   ]
  },
  {
   "cell_type": "markdown",
   "id": "36113e25-7f85-4ee2-a9d8-573656300e27",
   "metadata": {
    "deletable": false,
    "editable": false
   },
   "source": [
    "* `import` er et reservert ord som forteller datamaskinen som leser programmet vårt at den skal hente (importere) kode fra en annen plass, i dette tilfellet et bibliotek med navnet `numpy`. \n",
    "* For å kunne bruke funksjonene eller variablene som er lagret i biblioteket `numpy`, må man starte med en *prefiks* `numpy.` for å si at nå skal vi hente noe fra biblioteket `numpy`. Verdien til Pi er dermed tilgjengelig som `numpy.pi`\n",
    "\n",
    "Selv om det er fort gjort å importere biblioteket `numpy`, så kan det allikevel være tungvindt å skrive hele ordet `numpy` hver gang man skal bruke noe fra biblioteket. Heldigvis går det an å lage en forkortet *alias* som fungerer på samme måte. Dette kan vi gjøre med nøkkelordet `as`:"
   ]
  },
  {
   "cell_type": "code",
   "execution_count": null,
   "id": "fd3f6f74-ec8d-43bc-b344-dffd8f1c06cd",
   "metadata": {
    "deletable": false,
    "execution": {
     "iopub.execute_input": "2024-08-19T11:47:33.064788Z",
     "iopub.status.busy": "2024-08-19T11:47:33.061517Z",
     "iopub.status.idle": "2024-08-19T11:47:33.074749Z",
     "shell.execute_reply": "2024-08-19T11:47:33.072205Z"
    },
    "tags": []
   },
   "outputs": [],
   "source": [
    "import numpy as np\n",
    "print(f\"Pi avrundet til seks desimaler er {round(np.pi, 6)}\")"
   ]
  },
  {
   "cell_type": "markdown",
   "id": "92f435ad",
   "metadata": {
    "deletable": false,
    "editable": false
   },
   "source": [
    "Men `numpy`-biblioteket inneholder ikke bare variabler for matematiske konstanter. Den har også mange nyttige matematiske funksjoner som [`sqrt()`](https://numpy.org/doc/stable/reference/generated/numpy.sqrt.html), [`sin()`](https://numpy.org/doc/stable/reference/generated/numpy.sin.html), [`cos()`](https://numpy.org/doc/stable/reference/generated/numpy.cos.html) og [`tan()`](https://numpy.org/doc/stable/reference/generated/numpy.tan.html) for å nevne noen få. En fullstendig liste over alle matematiske funksjoner som er inkludert kan du finne [her](https://numpy.org/doc/stable/reference/routines.math.html#)."
   ]
  },
  {
   "cell_type": "markdown",
   "id": "9357f036-c5ce-40ca-981b-5ae3442bd960",
   "metadata": {
    "deletable": false,
    "editable": false
   },
   "source": [
    "## Geometri\n",
    "\n",
    "Volumet til en kule med radius $r$ er gitt ved formelen\n",
    "\n",
    "<img src=\"Figurer/volume-sphere.png\" width=\"30%\" align=\"center\" />\n",
    "\n",
    "## a) \n",
    "Bruk formelen ovenfor og verdien til $\\pi$ i biblioteket `numpy` til å regne ut volumet $V$ til en kule med radius $r = 5$cm i kubikkcentimeter ($\\text{cm}^3$). Skriv ut svaret sammen med forklarende tekst med bruk av `print()`. Eksempel på utskrift: `Volumet til en kule med radius 5 cm er ____ cm3.`"
   ]
  },
  {
   "cell_type": "code",
   "execution_count": null,
   "id": "14c69f0f-6f14-49fd-b0d0-162d73258f68",
   "metadata": {
    "deletable": false,
    "execution": {
     "iopub.execute_input": "2024-08-19T11:47:33.085307Z",
     "iopub.status.busy": "2024-08-19T11:47:33.084546Z",
     "iopub.status.idle": "2024-08-19T11:47:33.096797Z",
     "shell.execute_reply": "2024-08-19T11:47:33.094421Z"
    },
    "nbgrader": {
     "cell_type": "code",
     "checksum": "7d7cfa757ce422906bb5ee5ee8e50b5f",
     "grade": false,
     "grade_id": "cell-a437f1a4fdc2528b",
     "locked": false,
     "schema_version": 3,
     "solution": true,
     "task": false
    },
    "tags": []
   },
   "outputs": [],
   "source": [
    "import numpy as np\n",
    "r = 5 #cm\n",
    "#-------------------------------------\n",
    "# SKRIV DIN KODE HER!\n",
    "#-------------------------------------"
   ]
  },
  {
   "cell_type": "code",
   "execution_count": null,
   "id": "4bdd643d-b765-4656-8ae6-072985ef6fa5",
   "metadata": {
    "autofeedback": {
     "test_code": "ZnJvbSBhdXRvZmVlZGJhY2sgaW1wb3J0IENvZGVDZWxsVGVzdHMKCmFuc3dlcl9jZWxsX2luZGV4ID0gbGVuKEluKS0yCmFuc3dlcl9jZWxsX2NvbnRlbnRzID0gSW5bYW5zd2VyX2NlbGxfaW5kZXhdCgpncmFkaW5nX3Jlc3VsdHMgPSBDb2RlQ2VsbFRlc3RzKGFuc3dlcl9jZWxsX2NvbnRlbnRzLCBnbG9iYWxzPWdsb2JhbHMoKSwgbG9jYWxzPWxvY2FscygpKQojZ3JhZGluZ19yZXN1bHRzLnRlc3Rfb3V0cHV0KHIiXEQrNVxEKyIpCmdyYWRpbmdfcmVzdWx0cy50ZXN0X291dHB1dChyIjUyMyIsIGlnbm9yZV9jb2RlX21hdGNoPUZhbHNlKQojZ3JhZGluZ19yZXN1bHRzLnJlcGxhY2UociJyXHM/PVxzPzVccyIsICJyID0gOCAiKQojZ3JhZGluZ19yZXN1bHRzLnRlc3Rfb3V0cHV0KHIiXEQrOFxEKyIpCiNncmFkaW5nX3Jlc3VsdHMudGVzdF9vdXRwdXQociIyMTQ0IiwgaWdub3JlX2NvZGVfbWF0Y2g9RmFsc2UpCnJvdW5kKGdyYWRpbmdfcmVzdWx0cy5nZXRfcmVzdWx0cygpKjMsIDIp"
    },
    "deletable": false,
    "editable": false,
    "execution": {
     "iopub.execute_input": "2024-08-19T11:47:33.105670Z",
     "iopub.status.busy": "2024-08-19T11:47:33.104949Z",
     "iopub.status.idle": "2024-08-19T11:47:34.636421Z",
     "shell.execute_reply": "2024-08-19T11:47:34.633893Z"
    },
    "nbgrader": {
     "cell_type": "code",
     "checksum": "37bb47a8e20d47976957ecb5220bcafc",
     "grade": true,
     "grade_id": "cell-6d1a756d77467da8",
     "locked": true,
     "points": 3,
     "schema_version": 3,
     "solution": false,
     "task": false
    },
    "tags": []
   },
   "outputs": [],
   "source": []
  },
  {
   "cell_type": "markdown",
   "id": "34e50156-3ea5-4b9d-aef8-4c5479c682bf",
   "metadata": {
    "deletable": false,
    "editable": false
   },
   "source": [
    "Dersom vi snur på formelen vi brukte i oppgave **a)** finner vi at radiusen til en kule med volum $V$ er gitt ved formelen\n",
    "$$r = \\sqrt[3]{\\frac{3\\cdot V}{4\\cdot\\pi}}$$\n",
    "\n",
    "## b)\n",
    "Bruk formelen ovenfor og verdien til $\\pi$ i biblioteket `numpy` til å regne ut radiusen $r$ til en kule med volum $V = 113 \\text{ cm}^3$ i kubikkcentimeter ($\\text{cm}^3$). Skriv ut svaret med minst én desimal presisjon sammen med forklarende tekst med bruk av `print()`. Eksempel på utskrift: `Radiusen til en kule med volum 113 cm3 er ____._ cm.`\n",
    "\n",
    "*Hint: $\\sqrt[3]{x} = x^{\\frac{1}{3}}$. Ellers har numpy en funksjon kalt `cbrt` som tar tredjerot. Eks: `np.cbrt(8) = 2.0`*\n"
   ]
  },
  {
   "cell_type": "code",
   "execution_count": null,
   "id": "24abfb25-330c-48f4-970d-48ec71114da3",
   "metadata": {
    "deletable": false,
    "execution": {
     "iopub.execute_input": "2024-08-19T11:47:34.657224Z",
     "iopub.status.busy": "2024-08-19T11:47:34.656557Z",
     "iopub.status.idle": "2024-08-19T11:47:34.668084Z",
     "shell.execute_reply": "2024-08-19T11:47:34.665854Z"
    },
    "nbgrader": {
     "cell_type": "code",
     "checksum": "c16ecd20bd4c6ecb4e9388c895fd4be8",
     "grade": false,
     "grade_id": "cell-a8dae4a52c38ef50",
     "locked": false,
     "schema_version": 3,
     "solution": true,
     "task": false
    }
   },
   "outputs": [],
   "source": [
    "import numpy as np\n",
    "V = 113 #cm\n",
    "#-------------------------------------\n",
    "# SKRIV DIN KODE HER!\n",
    "#-------------------------------------"
   ]
  },
  {
   "cell_type": "code",
   "execution_count": null,
   "id": "f275bc81-16d1-43fe-88ba-84c100f644bc",
   "metadata": {
    "autofeedback": {
     "test_code": "ZnJvbSBhdXRvZmVlZGJhY2sgaW1wb3J0IENvZGVDZWxsVGVzdHMKCmFuc3dlcl9jZWxsX2luZGV4ID0gbGVuKEluKS0yCmFuc3dlcl9jZWxsX2NvbnRlbnRzID0gSW5bYW5zd2VyX2NlbGxfaW5kZXhdCgpncmFkaW5nX3Jlc3VsdHMgPSBDb2RlQ2VsbFRlc3RzKGFuc3dlcl9jZWxsX2NvbnRlbnRzLCBnbG9iYWxzPWdsb2JhbHMoKSwgbG9jYWxzPWxvY2FscygpKQpncmFkaW5nX3Jlc3VsdHMudGVzdF9vdXRwdXQociJcRCsxMTNcRCsiLCBzYW1wbGU9IjExMyIpCmdyYWRpbmdfcmVzdWx0cy50ZXN0X291dHB1dChyIlxEM1suXXsxfVxkKnxcRDJbLl17MX05XGQqIiwgc2FtcGxlPSIzLjAgb3IgMi45OSIsIGlnbm9yZV9jb2RlX21hdGNoPUZhbHNlKQpyb3VuZChncmFkaW5nX3Jlc3VsdHMuZ2V0X3Jlc3VsdHMoKSozLCAyKQ=="
    },
    "deletable": false,
    "editable": false,
    "execution": {
     "iopub.execute_input": "2024-08-19T11:47:34.675744Z",
     "iopub.status.busy": "2024-08-19T11:47:34.675320Z",
     "iopub.status.idle": "2024-08-19T11:47:34.696450Z",
     "shell.execute_reply": "2024-08-19T11:47:34.694489Z"
    },
    "nbgrader": {
     "cell_type": "code",
     "checksum": "d587b93ac6d52360eb80262f5d53ef57",
     "grade": true,
     "grade_id": "cell-83c6f3ff37c1eb3a",
     "locked": true,
     "points": 3,
     "schema_version": 3,
     "solution": false,
     "task": false
    }
   },
   "outputs": [],
   "source": []
  },
  {
   "cell_type": "markdown",
   "id": "2da20488",
   "metadata": {
    "deletable": false,
    "editable": false
   },
   "source": [
    "## Klassisk fysikk III\n",
    "\n",
    "En skiløper med massen $m=80$kg kjører nedoveren bakke med helningsvinkel $\\alpha = 35^\\circ$. Skikjøreren har slurvet med voksing av skiene, så friksjonstallet er $\\mu = 0.1$. Vi regner ikke med luftmotstand i denne oppgaven. En illustrasjon med de relevante kraftvektorene kan du se i figuren nedenfor.\n",
    "\n",
    "<img src=\"Figurer/Skier_forces.jpg\"  style=\"width: 600px; margin-left: 10%\" />\n",
    "\n",
    "Formelen for de ulike kreftene blir:\n",
    "\\begin{align}\n",
    "G  &= g \\cdot m\\\\\n",
    "G_n &= G \\cdot \\cos(\\alpha)\\\\\n",
    "N &= G_n\\\\\n",
    "R &= \\mu \\cdot G_n\\\\\n",
    "G_p &= G \\cdot \\sin(\\alpha)\n",
    "\\end{align}\n",
    "\n",
    "Akselerasjonen $a$ parallelt med bakken blir da til slutt:\n",
    "\n",
    "$$a = \\frac{G_p - R}{m}$$\n",
    "\n",
    "## c)\n",
    "Bruk formlene ovenfor til å regne ut akselerasjonen $a$ til skiløperen. Vi bruker fortsatt tyngdeakselerasjon $g=9.81 \\ \\text{m/s}^2$. Husk at trigonometriske funksjoner opererer i radianer og ***ikke*** grader. For å regne ut $\\cos(15^\\circ)$ kan vi for eksempel bruke følgende metode: \n",
    "```python\n",
    "grader = 15\n",
    "radianer = grader/180*np.pi\n",
    "resultat = np.cos(radianer)\n",
    "```"
   ]
  },
  {
   "cell_type": "code",
   "execution_count": null,
   "id": "9761fa46",
   "metadata": {
    "deletable": false,
    "execution": {
     "iopub.execute_input": "2024-08-19T11:47:34.705834Z",
     "iopub.status.busy": "2024-08-19T11:47:34.705151Z",
     "iopub.status.idle": "2024-08-19T11:47:34.753953Z",
     "shell.execute_reply": "2024-08-19T11:47:34.714723Z"
    },
    "nbgrader": {
     "cell_type": "code",
     "checksum": "85564f301960b8e33b464370a1aa5a14",
     "grade": false,
     "grade_id": "cell-f27006dcac537f19",
     "locked": false,
     "schema_version": 3,
     "solution": true,
     "task": false
    },
    "tags": []
   },
   "outputs": [],
   "source": [
    "# Parametre\n",
    "g = 9.81 # m/s^2\n",
    "m = 80 # kg\n",
    "alpha = 35 # grader\n",
    "mu = 0.1\n",
    "#-------------------------------------\n",
    "# SKRIV DIN KODE HER!\n",
    "#-------------------------------------"
   ]
  },
  {
   "cell_type": "markdown",
   "id": "4ca9a8ff-ee77-4bfa-8b28-a375e134319e",
   "metadata": {
    "deletable": false,
    "editable": false
   },
   "source": [
    "Kjør cellen nedenfor for å sjekke om du har regnet ut riktig verdi for akselerasjonen. Pass på at den utregnede verdien til akselerasjonen er lagret i en variabel som heter `accel`. Om du har regnet ut riktig skal utskriften være: \n",
    "\n",
    "`Akselerasjonen til skiløperen er a=4.82 m/s^2.`\n",
    "\n",
    "*Merk: verdien til* `accel` *skal beholdes uten avrunding. Den faktiske verdien til* `accel` *vil ha langt flere desimaler enn skrevet ovenfor.*"
   ]
  },
  {
   "cell_type": "code",
   "execution_count": null,
   "id": "4ac91182-347c-47ea-8141-203bfc330756",
   "metadata": {
    "autofeedback": {
     "test_code": "CmRlZiBjYWxjX3NvbHV0aW9uKCk6CiAgICBnID0gOS44MSAjIG0vc14yCiAgICBtID0gODAgIyBrZwogICAgYWxwaGEgPSAzNSAjIGdyYWRlcgogICAgbXUgPSAwLjEKICAgIEcgPSBnKm0KICAgIE4gPSBHKm5wLmNvcyhhbHBoYS8xODAqbnAucGkpCiAgICBHX3AgPSBHKm5wLnNpbihhbHBoYS8xODAqbnAucGkpCiAgICBSID0gTiptdQogICAgYWNjZWwgPSAoR19wIC0gUikvbQogICAgcmV0dXJuIGFjY2VsCiAgICAKZnJvbSBhdXRvZmVlZGJhY2sgaW1wb3J0IFZhcmlhYmxlVGVzdHMKZ3JhZGluZ19yZXN1bHRzID0gVmFyaWFibGVUZXN0cygpCmdyYWRpbmdfcmVzdWx0cy5jb21wYXJlX3ZhbHVlcyhhY2NlbCwgY2FsY19zb2x1dGlvbigpICwgcnRvbD0xZS02LCBuYW1lPSdhY2NlbCcpCmdyYWRpbmdfcmVzdWx0cy5nZXRfcmVzdWx0cygpKjQ="
    },
    "deletable": false,
    "editable": false,
    "execution": {
     "iopub.execute_input": "2024-08-19T11:47:34.764133Z",
     "iopub.status.busy": "2024-08-19T11:47:34.763310Z",
     "iopub.status.idle": "2024-08-19T11:47:34.788920Z",
     "shell.execute_reply": "2024-08-19T11:47:34.787123Z"
    },
    "nbgrader": {
     "cell_type": "code",
     "checksum": "da33194bc9c24d67c10019884e1897a9",
     "grade": true,
     "grade_id": "cell-0d1b1b84770a439d",
     "locked": true,
     "points": 4,
     "schema_version": 3,
     "solution": false,
     "task": false
    },
    "tags": []
   },
   "outputs": [],
   "source": [
    "print(f\"Akselerasjonen til skiløperen er a={accel:.2f} m/s^2.\")"
   ]
  },
  {
   "cell_type": "markdown",
   "id": "03f00d9d-76d5-4f5c-96aa-04fcef1d5520",
   "metadata": {
    "deletable": false,
    "editable": false
   },
   "source": [
    "**Til info:** Symbolene `:.2f` bak variabelen `accel`i kodecellen ovenfor utfører strengformatering. Dette betyr at vi tilpasser notasjonen i tallverdien til et format som vi kan bestemme. `:.2f` betyr i denne sammenheng at verdien skal skrives som et flyttall (`f`), med to desimaler bak komma (`.2`). "
   ]
  },
  {
   "cell_type": "markdown",
   "id": "64ef363d-3bb5-49c7-9fd4-d77a91c50e17",
   "metadata": {
    "deletable": false,
    "editable": false
   },
   "source": [
    "<br>\n",
    "<nav class=\"navbar navbar-default\">\n",
    "  <div class=\"container-fluid\">\n",
    "    <div class=\"navbar-header\" style=\"float: left\">\n",
    "      <a class=\"navbar-brand\" href=\"3_Kalkulasjoner.ipynb\" target=\"_self\">&lt; Forrige side: <i>Kalkulasjoner</i></a>\n",
    "      </div>\n",
    "    <div class=\"navbar-header\" style=\"float: right\">\n",
    "      <a class=\"navbar-brand\" href=\"5_Funksjoner.ipynb\" target=\"_self\">Neste side: <i>Funksjoner</i> &gt;</a>\n",
    "    </div>\n",
    "  </div>\n",
    "</nav>"
   ]
  }
 ],
 "metadata": {
  "kernelspec": {
   "display_name": "Python 3 (ipykernel)",
   "language": "python",
   "name": "python3"
  },
  "language_info": {
   "codemirror_mode": {
    "name": "ipython",
    "version": 3
   },
   "file_extension": ".py",
   "mimetype": "text/x-python",
   "name": "python",
   "nbconvert_exporter": "python",
   "pygments_lexer": "ipython3",
   "version": "3.11.6"
  },
  "scenes_data": {
   "active_scene": "Default Scene",
   "init_scene": "",
   "scenes": [
    "Default Scene"
   ]
  },
  "toc": {
   "base_numbering": 1
  }
 },
 "nbformat": 4,
 "nbformat_minor": 5
}
