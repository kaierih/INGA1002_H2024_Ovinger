{
 "cells": [
  {
   "cell_type": "markdown",
   "metadata": {
    "deletable": false,
    "editable": false,
    "slideshow": {
     "slide_type": ""
    },
    "tags": []
   },
   "source": [
    "<nav class=\"navbar navbar-default\">\n",
    "  <div class=\"container-fluid\">\n",
    "    <div class=\"navbar-header\" style=\"float: left\">\n",
    "        <a class=\"navbar-brand\" href=\"0_Forside.ipynb\" target=\"_self\"> <h2> &uarr; Tilbake til forsiden</h2></a>\n",
    "    </div>\n",
    "  </div>\n",
    "</nav>"
   ]
  },
  {
   "cell_type": "markdown",
   "metadata": {
    "deletable": false,
    "editable": false,
    "run_control": {
     "frozen": true
    }
   },
   "source": [
    "\n",
    "\n",
    "\n",
    "# Vitenskapelig notasjon / tall på standardform\n",
    "\n",
    "**Læringsmål:**\n",
    "\n",
    "* Vitenskapelig notasjon for spesielt små og spesielt store flyttall"
   ]
  },
  {
   "cell_type": "markdown",
   "metadata": {
    "deletable": false,
    "editable": false,
    "hidden": true,
    "run_control": {
     "frozen": true
    }
   },
   "source": [
    "## Nyttig info om formatering av store (og små) tall\n",
    "\n",
    "<img src=\"Figurer/scientificNotation.jpg\" width=\"30%\" align=\"right\" />\n",
    "\n",
    "Når vi skriver flyttall i Python, er det enkleste ofte å skrive tallet rett frem, for eksempel 9.80665 eller 0.0002. Hvis tallet blir veldig stort eller veldig lite, er det derimot tidkrevende å skrive tallet fullt ut, samtidig som at det lett dukker opp slurvefeil. Da vil resultatet av en beregning bli helt feil. Derfor er det vanlig å bruke vitenskapelig notasjon for store og små tall.\n",
    "\n",
    "I Python kan vi skrive tallene 3.0 × 10 $^{9}$ og 3.19 × 10$^{-10}$ ved bruk av multiplikasjon(`*`) og potensregning(`**`) slik: `3.0*10**9` og `3.19*10 **(-10)`. Det vil gi riktig resultat, men kaster bort tid og strøm på å gjøre helt unyttige beregninger, først en potensering, så en multiplikasjon, for å finne fram til et tall vi egentlig allerede vet hva er. Det er derfor bedre å bruke notasjonen `3.0e9` og `3.19e-10`, hvor tallet bak `e` viser tierpotensen for å uttrykke store og små tall. \n",
    "\n",
    "Notasjonen med `e` (som her ikke har noe med eulers konstant $e$ å gjøre) lar oss legge tallet rett inn i variabelen uten noe regning. Eksemplet under viser bruk av denne notasjonen i linje 3.\n",
    "\n",
    "Eksempel på kode (**Prøv å kjør koden!**)"
   ]
  },
  {
   "cell_type": "code",
   "execution_count": null,
   "metadata": {
    "ExecuteTime": {
     "end_time": "2019-07-01T12:28:51.461020Z",
     "start_time": "2019-07-01T12:28:46.220125Z"
    },
    "deletable": false,
    "execution": {
     "iopub.execute_input": "2024-08-19T11:47:49.402638Z",
     "iopub.status.busy": "2024-08-19T11:47:49.400112Z",
     "iopub.status.idle": "2024-08-19T11:47:49.423675Z",
     "shell.execute_reply": "2024-08-19T11:47:49.420997Z"
    },
    "hidden": true
   },
   "outputs": [],
   "source": [
    "tid_60m = 20       # Målt tid for 60 meter sprint\n",
    "m_sek = 60/tid_60m # Løpehastighet\n",
    "lysfart = 3.0e8    # Lysets hastighet\n",
    "x = lysfart / m_sek \n",
    "print(f'Bra! Du hadde en løpehafart på {m_sek:.2f} m/s')\n",
    "print(f'Men for å nå igjen lyset må du løpe {x} ganger fortere')\n",
    "print(f'som også kan skrives {x:.1e} ganger fortere.')"
   ]
  },
  {
   "cell_type": "markdown",
   "metadata": {
    "deletable": false,
    "editable": false,
    "hidden": true,
    "run_control": {
     "frozen": true
    }
   },
   "source": [
    "`:.1e` i bak `x` i den siste print-setningen viser at det er ønskelig med én desimal i den vitenskapelige notasjonen. `.2e` ville gitt `1.00e+08`. Et annet eksempel bå bruk av f-strings sin \"innebygde\" strengformatering kan du se under:"
   ]
  },
  {
   "cell_type": "code",
   "execution_count": null,
   "metadata": {
    "deletable": false,
    "execution": {
     "iopub.execute_input": "2024-08-19T11:47:49.434758Z",
     "iopub.status.busy": "2024-08-19T11:47:49.432558Z",
     "iopub.status.idle": "2024-08-19T11:47:49.446195Z",
     "shell.execute_reply": "2024-08-19T11:47:49.443665Z"
    },
    "hidden": true
   },
   "outputs": [],
   "source": [
    "lysfart = 3.0e8\n",
    "x = 1/lysfart\n",
    "print(f'Uten formatering er x = {x}')\n",
    "print(f'Med formaterting er x = {x:.3e}')\n",
    "print(f'På vanlig desmialform er x = {x:.15f}')"
   ]
  },
  {
   "cell_type": "markdown",
   "metadata": {
    "deletable": false,
    "editable": false,
    "hidden": true
   },
   "source": [
    "Hvor `x:` sier \"la oss formatere stringen `x`\", og `.3e` sier at vi skal ha tre desimaler og vitenskapelig notasjon, slik som i eksempelet over."
   ]
  },
  {
   "cell_type": "markdown",
   "metadata": {
    "deletable": false,
    "editable": false,
    "heading_collapsed": true,
    "run_control": {
     "frozen": true
    }
   },
   "source": [
    "## a) "
   ]
  },
  {
   "cell_type": "markdown",
   "metadata": {
    "deletable": false,
    "editable": false,
    "hidden": true,
    "run_control": {
     "frozen": true
    }
   },
   "source": [
    "Plancks konstant, $6.626\\cdot10^{-34} J/s$, karakteriserer et _kvant_, den minste enheten av energi. Einstein viste, ved hjelp av Plancks konstant, at et _foton_ med frekvens $\\nu$ har energi $E = h\\cdot \\nu$, hvor $h$ er _Plancks konstant_.\n",
    "\n",
    "I denne oppgaven skal du lage en funksjon `E(v)` som tar inn en frekvens $\\nu$ og gir ut energien til fotonet. Bruk vitenskapelig notasjon for Plancks konstant.\n",
    "\n",
    "***Skriv koden din i blokka under.***"
   ]
  },
  {
   "cell_type": "code",
   "execution_count": null,
   "metadata": {
    "deletable": false,
    "execution": {
     "iopub.execute_input": "2024-08-19T11:47:49.459393Z",
     "iopub.status.busy": "2024-08-19T11:47:49.457429Z",
     "iopub.status.idle": "2024-08-19T11:47:49.468829Z",
     "shell.execute_reply": "2024-08-19T11:47:49.466231Z"
    },
    "hidden": true,
    "nbgrader": {
     "cell_type": "code",
     "checksum": "3765270959e989d97ce3f586b37becac",
     "grade": false,
     "grade_id": "cell-d8569eab3b647124",
     "locked": false,
     "schema_version": 3,
     "solution": true,
     "task": false
    },
    "tags": []
   },
   "outputs": [],
   "source": [
    "#-------------------------------------\n",
    "# SKRIV DIN KODE HER!\n",
    "#-------------------------------------"
   ]
  },
  {
   "cell_type": "markdown",
   "metadata": {
    "deletable": false,
    "editable": false,
    "hidden": true
   },
   "source": [
    "Har du skrevet funksjonen rett, skal kodeblokken under gi følgende output:\n",
    "\n",
    "```python\n",
    "Rødt lys, som har frekvens 4.29e+14Hz, har en energi på 2.84e-19J\n",
    "Fiolett lys, som har en frekvens 7.50e+14, har en energi på 4.97e-19J\n",
    "```"
   ]
  },
  {
   "cell_type": "code",
   "execution_count": null,
   "metadata": {
    "autofeedback": {
     "test_code": "ZnJvbSByYW5kb20gaW1wb3J0IHJhbmRpbnQsIHNhbXBsZQpmcm9tIGF1dG9mZWVkYmFjayBpbXBvcnQgRnVuY3Rpb25UZXN0cwoKcGxhbmNrX2NvbnN0X3NvbHV0aW9uID0gNi42MjZlLTM0CmRlZiBFX3NvbHV0aW9uKHYpOgogICAgZSA9IHBsYW5ja19jb25zdF9zb2x1dGlvbip2CiAgICByZXR1cm4gZQogICAgCmdyYWRpbmdfcmVzdWx0cyA9IEZ1bmN0aW9uVGVzdHMoRV9zb2x1dGlvbikKdHJ5OgogICAgZ3JhZGluZ19yZXN1bHRzLmFkZF90ZXN0X2Z1bmMoRSkKZXhjZXB0IEV4Y2VwdGlvbiBhcyBlOgogICAgZ3JhZGluZ19yZXN1bHRzLmxvZy5hcHBlbmQoIkNvdWxkIG5vdCBydW4gdGVzdHMsICIrZS5hcmdzWzBdKQplbHNlOgogICAgbG9nX3ZhbHMgPSBzYW1wbGUobGlzdChyYW5nZSg2LCAyMCwgMSkpLCAzKQogICAgZm9yIHZhbCBpbiBsb2dfdmFsczoKICAgICAgICB2ID0gMTAqKnZhbAogICAgICAgIGdyYWRpbmdfcmVzdWx0cy50ZXN0X3JldHVybl92YWx1ZSh2KQpyb3VuZChncmFkaW5nX3Jlc3VsdHMuZ2V0X3Jlc3VsdHMoKSo1KQ=="
    },
    "deletable": false,
    "editable": false,
    "execution": {
     "iopub.execute_input": "2024-08-19T11:47:49.478753Z",
     "iopub.status.busy": "2024-08-19T11:47:49.477794Z",
     "iopub.status.idle": "2024-08-19T11:47:51.475783Z",
     "shell.execute_reply": "2024-08-19T11:47:51.473947Z"
    },
    "hidden": true,
    "nbgrader": {
     "cell_type": "code",
     "checksum": "71d083d58292fc9e7df786f37504e3f0",
     "grade": true,
     "grade_id": "cell-9af5007939041304",
     "locked": true,
     "points": 5,
     "schema_version": 3,
     "solution": false,
     "task": false
    },
    "slideshow": {
     "slide_type": ""
    },
    "tags": []
   },
   "outputs": [],
   "source": [
    "v = 4.29e14 # Rødt lys\n",
    "print(f'Rødt lys, som har frekvens {v:.2e}Hz, har en energi på {E(v):.2e}J')\n",
    "v = 7.5e14 # Fiolett lys\n",
    "print(f'Fiolett lys, som har frekvens {v:.2e}Hz, har en energi på {E(v):.2e}J')"
   ]
  },
  {
   "cell_type": "markdown",
   "metadata": {
    "deletable": false,
    "editable": false,
    "heading_collapsed": true,
    "run_control": {
     "frozen": true
    },
    "slideshow": {
     "slide_type": ""
    },
    "tags": []
   },
   "source": [
    "## b) "
   ]
  },
  {
   "cell_type": "markdown",
   "metadata": {
    "deletable": false,
    "editable": false,
    "hidden": true,
    "slideshow": {
     "slide_type": ""
    },
    "tags": []
   },
   "source": [
    "Tyngdekraften mellom to legemer med masse $m_1$ og $m_2$ (for eksempel ett menneske og en stjerne) blir utrykt av denne formelen\n",
    "\n",
    "<img src=\"Figurer/gravityFormula.png\" width=\"30%\" align=\"center\" />\n",
    "\n",
    "Hvor $G$ er den universielle gravitasjonskonstanten $G = 6.67\\cdot 10^{-11}$.\n",
    "\n",
    "Skriv ferdig funksjonen `calculate_force(m1, m2, r)` som returnerer tyngdekraften $F_g$ mellom to legemer med masse `m1` og `m2` $\\text{kg}$ som befinner seg en avstand `r` meter fra hverandre. Benytt så funksjonen din og de oppgitte variabelverdiene til å regne ut hvor stor tyngdekraften som påvirker deg fra månen og solen er.\n",
    " \n",
    "***Skriv koden din i kodeblokken under.***"
   ]
  },
  {
   "cell_type": "code",
   "execution_count": null,
   "metadata": {
    "deletable": false,
    "editable": true,
    "execution": {
     "iopub.execute_input": "2024-08-19T11:47:51.483971Z",
     "iopub.status.busy": "2024-08-19T11:47:51.483469Z",
     "iopub.status.idle": "2024-08-19T11:47:51.494299Z",
     "shell.execute_reply": "2024-08-19T11:47:51.492108Z"
    },
    "hidden": true,
    "nbgrader": {
     "cell_type": "code",
     "checksum": "48398d5d2f2b49ac500cd6a28474ea69",
     "grade": false,
     "grade_id": "cell-1a06b2feee7d4fae",
     "locked": false,
     "schema_version": 3,
     "solution": true,
     "task": false
    },
    "slideshow": {
     "slide_type": ""
    },
    "tags": []
   },
   "outputs": [],
   "source": [
    "# Funksjonsbeskrivelse\n",
    "def calculate_force(m1, m2, r):\n",
    "    #-------------------------------------\n",
    "    # SKRIV DIN KODE HER!\n",
    "    #-------------------------------------\n",
    "\n",
    "\n",
    "\n",
    "masse_sol = 1.989e30\n",
    "distanse_sol = 1.49e11\n",
    "\n",
    "masse_måne = 7.342e22\n",
    "distanse_måne = 3.844e8\n",
    "\n",
    "# Beregninger med funksjonen 'calculate_force'\n",
    "#-------------------------------------\n",
    "# SKRIV DIN KODE HER!\n",
    "#-------------------------------------"
   ]
  },
  {
   "cell_type": "markdown",
   "metadata": {
    "deletable": false,
    "editable": false,
    "hidden": true,
    "slideshow": {
     "slide_type": ""
    },
    "tags": []
   },
   "source": [
    "Nedenfor ser du forslag på et mulig resultat for en person som veier $70\\text{kg}$:<br>\n",
    "    `Kraften fra solen som virker på deg er lik 4.18e-01N`<br>\n",
    "    `Kraften fra månen som virker på deg er lik 2.32e-03N`"
   ]
  },
  {
   "cell_type": "code",
   "execution_count": null,
   "metadata": {
    "autofeedback": {
     "test_code": "ZnJvbSByYW5kb20gaW1wb3J0IHJhbmRpbnQsIHNhbXBsZQpmcm9tIGF1dG9mZWVkYmFjayBpbXBvcnQgRnVuY3Rpb25UZXN0cwoKZGVmIHNvbHV0aW9uX2ZvcmNlKG0xLCBtMiwgcik6CiAgICBHID0gNi42N2UtMTEKICAgIHJldHVybiBHICogKG0xICogbTIpIC8gcioqMgoKZ3JhZGluZ19yZXN1bHRzID0gRnVuY3Rpb25UZXN0cyhzb2x1dGlvbl9mb3JjZSkKdHJ5OgogICAgZ3JhZGluZ19yZXN1bHRzLmFkZF90ZXN0X2Z1bmMoY2FsY3VsYXRlX2ZvcmNlKQpleGNlcHQgRXhjZXB0aW9uIGFzIGU6CiAgICBncmFkaW5nX3Jlc3VsdHMubG9nLmFwcGVuZCgiQ291bGQgbm90IHJ1biB0ZXN0cywgIitlLmFyZ3NbMF0pCmVsc2U6CiAgICBOID0gMwogICAgbTFfdmFscyA9IHNhbXBsZShsaXN0KHJhbmdlKDQwLCAxNTAsIDEwKSksIE4pCiAgICBtMl92YWxzID0gc2FtcGxlKGxpc3QocmFuZ2UoNDAwLCAxNTAwLCAxMDApKSwgTikKICAgIHJfdmFscyA9IHNhbXBsZShsaXN0KHJhbmdlKDFfMDAwXzAwMCwgMV8wMDBfMDAwXzAwMCwgMTBfMDAwKSksIE4pCiAgICBmb3IgaSBpbiByYW5nZShOKToKICAgICAgICBncmFkaW5nX3Jlc3VsdHMudGVzdF9yZXR1cm5fdmFsdWUobTFfdmFsc1tpXSwgbTJfdmFsc1tpXSwgcl92YWxzW2ldKQpyb3VuZChncmFkaW5nX3Jlc3VsdHMuZ2V0X3Jlc3VsdHMoKSo1KQ=="
    },
    "deletable": false,
    "editable": false,
    "execution": {
     "iopub.execute_input": "2024-08-19T11:47:51.502338Z",
     "iopub.status.busy": "2024-08-19T11:47:51.501947Z",
     "iopub.status.idle": "2024-08-19T11:47:51.564025Z",
     "shell.execute_reply": "2024-08-19T11:47:51.561348Z"
    },
    "hidden": true,
    "nbgrader": {
     "cell_type": "code",
     "checksum": "6c81a27f13960f33b0094e1fe857ef39",
     "grade": true,
     "grade_id": "cell-9af5dfcea2fcd177",
     "locked": true,
     "points": 5,
     "schema_version": 3,
     "solution": false,
     "task": false
    },
    "slideshow": {
     "slide_type": ""
    },
    "tags": []
   },
   "outputs": [],
   "source": []
  },
  {
   "cell_type": "markdown",
   "metadata": {
    "deletable": false,
    "editable": false
   },
   "source": [
    "### Kort om store heltall\n",
    "\n",
    "I python kan også det også være nyttig med store heltall. For at disse skal være lettere å skrive kan man bruke understreker til å dele opp stykket. Dette gjør det mye lettere å sørge for at det blir rett antall 0'er. Grunnen til at vi ikke alltid kan skrive 1e6 er at dette blir ett flytall. Når vi etterhvert begynner med løkker, indeksering, etc vil disse kreve heltall."
   ]
  },
  {
   "cell_type": "code",
   "execution_count": null,
   "metadata": {
    "deletable": false,
    "execution": {
     "iopub.execute_input": "2024-08-19T11:47:51.574952Z",
     "iopub.status.busy": "2024-08-19T11:47:51.574209Z",
     "iopub.status.idle": "2024-08-19T11:47:51.584698Z",
     "shell.execute_reply": "2024-08-19T11:47:51.582453Z"
    }
   },
   "outputs": [],
   "source": [
    "x = 1000000\n",
    "x = 1_000_000"
   ]
  },
  {
   "cell_type": "markdown",
   "metadata": {
    "deletable": false,
    "editable": false,
    "slideshow": {
     "slide_type": ""
    },
    "tags": []
   },
   "source": [
    "<br>\n",
    "<nav class=\"navbar navbar-default\">\n",
    "  <div class=\"container-fluid\">\n",
    "    <div class=\"navbar-header\" style=\"float: left\">\n",
    "      <a class=\"navbar-brand\" href=\"6_Funksjoner_forts.ipynb\" target=\"_self\">&lt; Forrige side: <i>Funksjoner av flere variabler</i></a>\n",
    "      </div>\n",
    "    <div class=\"navbar-header\" style=\"float: right\">\n",
    "      <a class=\"navbar-brand\" href=\"8_Flyttallspresisjon.ipynb\" target=\"_self\">Neste side: <i>Flyttallspresisjon</i> &gt;</a>\n",
    "    </div>\n",
    "  </div>\n",
    "</nav>"
   ]
  }
 ],
 "metadata": {
  "kernelspec": {
   "display_name": "Python 3 (ipykernel)",
   "language": "python",
   "name": "python3"
  },
  "language_info": {
   "codemirror_mode": {
    "name": "ipython",
    "version": 3
   },
   "file_extension": ".py",
   "mimetype": "text/x-python",
   "name": "python",
   "nbconvert_exporter": "python",
   "pygments_lexer": "ipython3",
   "version": "3.11.6"
  },
  "scenes_data": {
   "active_scene": "Default Scene",
   "init_scene": "",
   "scenes": [
    "Default Scene"
   ]
  },
  "toc": {
   "base_numbering": 1,
   "nav_menu": {},
   "number_sections": false,
   "sideBar": true,
   "skip_h1_title": false,
   "title_cell": "Table of Contents",
   "title_sidebar": "Contents",
   "toc_cell": false,
   "toc_position": {},
   "toc_section_display": true,
   "toc_window_display": false
  }
 },
 "nbformat": 4,
 "nbformat_minor": 4
}
