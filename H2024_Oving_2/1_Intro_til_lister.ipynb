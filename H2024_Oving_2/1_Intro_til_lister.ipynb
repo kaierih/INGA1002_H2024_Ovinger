{
 "cells": [
  {
   "cell_type": "markdown",
   "metadata": {
    "deletable": false,
    "editable": false,
    "slideshow": {
     "slide_type": ""
    },
    "tags": []
   },
   "source": [
    "\n",
    "<nav class=\"navbar navbar-default\">\n",
    "  <div class=\"container-fluid\">\n",
    "    <div class=\"navbar-header\" style=\"float: left\">\n",
    "        <a class=\"navbar-brand\" href=\"0_Forside.ipynb\" target=\"_self\"> <h2> &uarr; Tilbake til forsiden</h2></a>\n",
    "    </div>\n",
    "  </div>\n",
    "</nav>"
   ]
  },
  {
   "cell_type": "markdown",
   "metadata": {
    "deletable": false,
    "editable": false,
    "run_control": {
     "frozen": true
    }
   },
   "source": [
    "# Generelt om lister\n",
    "\n",
    "**Læringsmål:**\n",
    "\n",
    "* Lister\n",
    "* Indeksering\n",
    "\n",
    "\n",
    "**Oversikt:**\n",
    "* [Oppgave a) listedeklarasjon](#oppg_1a)\n",
    "* [Oppgave b) indeksering](#oppg_1b)\n",
    "* [Oppgave c) modifisering av element](#oppg_1c)\n",
    "\n",
    "I denne oppgaven skal vi bli kjent med hvordan lister fungerer i Python ved å opprette enkle lister, endre på dem, og skrive ut listene til konsollen. "
   ]
  },
  {
   "cell_type": "markdown",
   "metadata": {
    "deletable": false,
    "editable": false,
    "heading_collapsed": true,
    "run_control": {
     "frozen": true
    }
   },
   "source": [
    "### Generelt om lister"
   ]
  },
  {
   "cell_type": "markdown",
   "metadata": {
    "deletable": false,
    "editable": false,
    "hidden": true,
    "run_control": {
     "frozen": true
    }
   },
   "source": [
    "Lister er en mye brukt datastruktur for å tilordne én variabel en rekke med verdier. Lister kan blant annet inneholde tall, strenger eller andre lister.\n",
    "\n",
    "For å opprette en tom liste i Python skriver vi []. Vilkårlig lange lister kan lages ved å skrive [a, b, c, ... ], der a, b, og c er elementer i listen. For eksempel:"
   ]
  },
  {
   "cell_type": "code",
   "execution_count": null,
   "metadata": {
    "ExecuteTime": {
     "end_time": "2019-07-03T07:01:11.287280Z",
     "start_time": "2019-07-03T07:01:11.230243Z"
    },
    "deletable": false,
    "execution": {
     "iopub.execute_input": "2024-08-21T13:15:24.807236Z",
     "iopub.status.busy": "2024-08-21T13:15:24.806349Z",
     "iopub.status.idle": "2024-08-21T13:15:24.827138Z",
     "shell.execute_reply": "2024-08-21T13:15:24.824684Z"
    },
    "hidden": true
   },
   "outputs": [],
   "source": [
    "min_liste = [4, 'elementer', 'i', 'listen']"
   ]
  },
  {
   "cell_type": "markdown",
   "metadata": {
    "deletable": false,
    "editable": false,
    "hidden": true,
    "run_control": {
     "frozen": true
    }
   },
   "source": [
    "Hvert element i en liste har en indeks, som beskriver posisjonen elementet har i listen. Denne brukes når vi skal endre eller finne et element i en liste.\n",
    "\n",
    "Lister i Python er nullindeksert, det vil si at det første elementet har indeks 0, det neste elementet har indeks 1, osv. Ved å skrive liste[index] kan vi finne eller endre elementer i en liste. Dvs. at min_liste[0] er 4, min_liste[1] er 'elementer', min_liste[2] er 'i' og min_liste[3] er 'listen'.\n",
    "\n",
    "For eksempel: (**Prøv gjerne å endre på koden og se hva som skjer**)"
   ]
  },
  {
   "cell_type": "code",
   "execution_count": null,
   "metadata": {
    "ExecuteTime": {
     "end_time": "2019-07-03T07:01:58.309772Z",
     "start_time": "2019-07-03T07:01:58.301527Z"
    },
    "deletable": false,
    "execution": {
     "iopub.execute_input": "2024-08-21T13:15:24.837879Z",
     "iopub.status.busy": "2024-08-21T13:15:24.835700Z",
     "iopub.status.idle": "2024-08-21T13:15:24.847920Z",
     "shell.execute_reply": "2024-08-21T13:15:24.845594Z"
    },
    "hidden": true
   },
   "outputs": [],
   "source": [
    "min_liste = [4,'elementer','i','listen']\n",
    "print(min_liste[0])  # koden skriver ut elementet på posisjon 0 i listen: 4\n",
    "min_liste[1] = 'ting'\n",
    "print(min_liste[1])  # koden skriver ut elementet på posisjon 1 i listen: ting"
   ]
  },
  {
   "cell_type": "markdown",
   "metadata": {
    "deletable": false,
    "editable": false,
    "run_control": {
     "frozen": true
    },
    "slideshow": {
     "slide_type": ""
    },
    "tags": []
   },
   "source": [
    "<a id=\"oppg_1a\"></a>\n",
    "## Oppgave a)"
   ]
  },
  {
   "cell_type": "markdown",
   "metadata": {
    "deletable": false,
    "editable": false,
    "run_control": {
     "frozen": true
    }
   },
   "source": [
    "Lag en liste **my_first_list** med alle partallene fra og med 2 til og med 12, og skriv den ut til med funksjonen `print`.\n",
    "\n",
    "Eksempel på utskrift:<br>\n",
    "`[2, 4, 6, 8, 10, 12]`\n",
    "\n",
    "***Skriv koden din i boksen under.***"
   ]
  },
  {
   "cell_type": "code",
   "execution_count": null,
   "metadata": {
    "ExecuteTime": {
     "end_time": "2019-07-03T07:04:40.859385Z",
     "start_time": "2019-07-03T07:04:40.850440Z"
    },
    "deletable": false,
    "execution": {
     "iopub.execute_input": "2024-08-21T13:15:24.858244Z",
     "iopub.status.busy": "2024-08-21T13:15:24.857452Z",
     "iopub.status.idle": "2024-08-21T13:15:24.869459Z",
     "shell.execute_reply": "2024-08-21T13:15:24.866189Z"
    },
    "nbgrader": {
     "cell_type": "code",
     "checksum": "edf27871f633411427e35570c296e870",
     "grade": false,
     "grade_id": "cell-a95656f24120fd8f",
     "locked": false,
     "schema_version": 3,
     "solution": true,
     "task": false
    }
   },
   "outputs": [],
   "source": [
    "#-------------------------------------\n",
    "# SKRIV DIN KODE HER!\n",
    "#-------------------------------------"
   ]
  },
  {
   "cell_type": "code",
   "execution_count": null,
   "metadata": {
    "autofeedback": {
     "test_code": "ZnJvbSBhdXRvZmVlZGJhY2sgaW1wb3J0IFZhcmlhYmxlVGVzdHMKdGVzdF9yZXN1bHRzID0gVmFyaWFibGVUZXN0cygpCnRlc3RfcmVzdWx0cy5jb21wYXJlX3ZhbHVlcyhteV9maXJzdF9saXN0LCBbMiwgNCwgNiwgOCwgMTAsIDEyXSkKcm91bmQodGVzdF9yZXN1bHRzLmdldF9yZXN1bHRzKCkqMywgMik="
    },
    "deletable": false,
    "editable": false,
    "execution": {
     "iopub.execute_input": "2024-08-21T13:15:24.880033Z",
     "iopub.status.busy": "2024-08-21T13:15:24.879334Z",
     "iopub.status.idle": "2024-08-21T13:15:26.671774Z",
     "shell.execute_reply": "2024-08-21T13:15:26.668930Z"
    },
    "nbgrader": {
     "cell_type": "code",
     "checksum": "1d8cf91824869c72ff0a508e9efe108b",
     "grade": true,
     "grade_id": "cell-253dcfc115756138",
     "locked": true,
     "points": 3,
     "schema_version": 3,
     "solution": false,
     "task": false
    }
   },
   "outputs": [],
   "source": []
  },
  {
   "cell_type": "markdown",
   "metadata": {
    "deletable": false,
    "editable": false,
    "run_control": {
     "frozen": true
    }
   },
   "source": [
    "### Lengde av lister"
   ]
  },
  {
   "cell_type": "markdown",
   "metadata": {
    "deletable": false,
    "editable": false,
    "run_control": {
     "frozen": true
    }
   },
   "source": [
    "For å finne lengden på en liste er det nyttig å benytte seg av den innebygde funksjonen, len(). Dersom vi tar len(min_liste) vil dette være lik 4 dersom min_liste er lik som under Generelt om lister. Lengden er altså lik antall elementer i listen. Ettersom en liste er nullindeksert vil indeksen til det siste elementet alltid være lik lengden-1. For eksempel vil det siste elementet i min_liste være på indeks 3 når lengden er 4. \n",
    "```Python\n",
    "min_liste[len(min_liste)-1]  # Henter ut siste element i listen\n",
    "```\n",
    "\n",
    "For å gjøre det enklere er det faktisk ikke nødvendig å skrive inn lengden til listen, men bruke negative tall til å hente ut elementer fra slutten av listen. På denne måten vil det siste elementet har indeks -1, da vil det nest siste elementet ha indeks -2 osv.\n",
    "```Python\n",
    "min_liste[-1]                # Henter ut siste element i listen\n",
    "```"
   ]
  },
  {
   "cell_type": "markdown",
   "metadata": {
    "deletable": false,
    "editable": false,
    "run_control": {
     "frozen": true
    }
   },
   "source": [
    "<a id=\"oppg_1b\"></a>\n",
    "## Oppgave b)"
   ]
  },
  {
   "cell_type": "markdown",
   "metadata": {
    "deletable": false,
    "editable": false,
    "run_control": {
     "frozen": true
    }
   },
   "source": [
    "Skriv ut det siste elementet i listen til skjerm. **Husk at du kan bruke listen fra forrige oppgave uten å definere my_first_list på nytt.**\n",
    "\n",
    "(obs: dette kan gjøres på forskjellige måter)\n",
    "\n",
    "Eksempel på kjøring:\n",
    "```python\n",
    "print(lengde)\n",
    "6\n",
    "```\n",
    "***Skriv koden din i boksen under.***"
   ]
  },
  {
   "cell_type": "code",
   "execution_count": null,
   "metadata": {
    "ExecuteTime": {
     "end_time": "2019-07-03T07:08:45.565459Z",
     "start_time": "2019-07-03T07:08:45.558296Z"
    },
    "deletable": false,
    "execution": {
     "iopub.execute_input": "2024-08-21T13:15:26.680677Z",
     "iopub.status.busy": "2024-08-21T13:15:26.680081Z",
     "iopub.status.idle": "2024-08-21T13:15:26.689821Z",
     "shell.execute_reply": "2024-08-21T13:15:26.687753Z"
    },
    "nbgrader": {
     "cell_type": "code",
     "checksum": "f9026ef37994de0af0525f4030172c1f",
     "grade": false,
     "grade_id": "cell-585d8b0cb25320fa",
     "locked": false,
     "schema_version": 3,
     "solution": true,
     "task": false
    }
   },
   "outputs": [],
   "source": [
    "#-------------------------------------\n",
    "# SKRIV DIN KODE HER!\n",
    "#-------------------------------------"
   ]
  },
  {
   "cell_type": "code",
   "execution_count": null,
   "metadata": {
    "autofeedback": {
     "test_code": "ZnJvbSBhdXRvZmVlZGJhY2sgaW1wb3J0IENvZGVDZWxsVGVzdHMKCmFuc3dlcl9jZWxsX2luZGV4ID0gbGVuKEluKS0yCmFuc3dlcl9jZWxsX2NvbnRlbnRzID0gSW5bYW5zd2VyX2NlbGxfaW5kZXhdCgpncmFkaW5nX3Jlc3VsdHMgPSBDb2RlQ2VsbFRlc3RzKGFuc3dlcl9jZWxsX2NvbnRlbnRzLCBpbml0X3dndCA9IDAuMiwgZ2xvYmFscz1nbG9iYWxzKCksIGxvY2Fscz1sb2NhbHMoKSkKZ3JhZGluZ19yZXN1bHRzLnRlc3Rfb3V0cHV0KHIiMTIiKQpyb3VuZChncmFkaW5nX3Jlc3VsdHMuZ2V0X3Jlc3VsdHMoKSozLCAyKQ=="
    },
    "deletable": false,
    "editable": false,
    "execution": {
     "iopub.execute_input": "2024-08-21T13:15:26.697083Z",
     "iopub.status.busy": "2024-08-21T13:15:26.696736Z",
     "iopub.status.idle": "2024-08-21T13:15:26.713134Z",
     "shell.execute_reply": "2024-08-21T13:15:26.710692Z"
    },
    "nbgrader": {
     "cell_type": "code",
     "checksum": "0d2782945de6a28056171f8fed2b76ab",
     "grade": true,
     "grade_id": "cell-d98d74349341b87a",
     "locked": true,
     "points": 3,
     "schema_version": 3,
     "solution": false,
     "task": false
    },
    "slideshow": {
     "slide_type": ""
    },
    "tags": []
   },
   "outputs": [],
   "source": []
  },
  {
   "cell_type": "markdown",
   "metadata": {
    "deletable": false,
    "editable": false,
    "run_control": {
     "frozen": true
    }
   },
   "source": [
    "<a id=\"oppg_1c\"></a>\n",
    "### Oppgave c) \n",
    "Bytt ut det nest siste elementet (5) med bokstaven 'A', og skriv ut den modifiserte listen med bruk av `print`.\n",
    "\n",
    "Eksempel på utskrift:<br>\n",
    "`[2, 4, 6, 8, 'A', 12]`\n",
    "\n",
    "***Skriv koden din i boksen under.***"
   ]
  },
  {
   "cell_type": "code",
   "execution_count": null,
   "metadata": {
    "deletable": false,
    "editable": true,
    "execution": {
     "iopub.execute_input": "2024-08-21T13:15:26.753120Z",
     "iopub.status.busy": "2024-08-21T13:15:26.752050Z",
     "iopub.status.idle": "2024-08-21T13:15:26.765581Z",
     "shell.execute_reply": "2024-08-21T13:15:26.762205Z"
    },
    "nbgrader": {
     "cell_type": "code",
     "checksum": "0fe6adc6d48026e0b9927b7807dedcad",
     "grade": false,
     "grade_id": "cell-c7ec1d0dd1232a50",
     "locked": false,
     "schema_version": 3,
     "solution": true,
     "task": false
    },
    "slideshow": {
     "slide_type": ""
    },
    "tags": []
   },
   "outputs": [],
   "source": [
    "#-------------------------------------\n",
    "# SKRIV DIN KODE HER!\n",
    "#-------------------------------------"
   ]
  },
  {
   "cell_type": "code",
   "execution_count": null,
   "metadata": {
    "autofeedback": {
     "test_code": "ZnJvbSBhdXRvZmVlZGJhY2sgaW1wb3J0IENvZGVDZWxsVGVzdHMKCmFuc3dlcl9jZWxsX2luZGV4ID0gbGVuKEluKS0yCmFuc3dlcl9jZWxsX2NvbnRlbnRzID0gSW5bYW5zd2VyX2NlbGxfaW5kZXhdCgp0ZXN0X3Jlc3VsdHMgPSBDb2RlQ2VsbFRlc3RzKGFuc3dlcl9jZWxsX2NvbnRlbnRzLCBnbG9iYWxzPWdsb2JhbHMoKSwgbG9jYWxzPWxvY2FscygpKQppZiAibXlfZmlyc3RfbGlzdCIgaW4gZ2xvYmFscygpIGFuZCBteV9maXJzdF9saXN0ID09IFsyLCA0LCA2LCA4LCAnQScsIDEyXToKICAgIHRlc3RfcmVzdWx0cy5hZGRfcmVzdWx0KFRydWUsICInbXlfZmlyc3RfbGlzdCcgaXMgdGhlIGNvcnJlY3QgdmFsdWUiKQplbGlmICJteV9maXJzdF9saXN0IiBpbiBnbG9iYWxzKCk6CiAgICB0ZXN0X3Jlc3VsdHMuYWRkX3Jlc3VsdChUcnVlLCBmIidteV9maXJzdF9saXN0JyBlcXVhbHMgJ3tteV9maXJzdF9saXN0fScgYW5kIG5vdCAnWzIsIDQsIDYsIDgsICdBJywgMTJdJyIpCmVsc2U6CiAgICB0ZXN0X3Jlc3VsdHMuYWRkX3Jlc3VsdChGYWxzZSwgZiInbm8gdmFyaWFibGUgbmFtZWQgJ215X2ZpcnN0X2xpc3QnIikKCnRlc3RfcmVzdWx0cy50ZXN0X291dHB1dChyIlsyLFxzPzQsXHM/Nixccz84LFxzPydBJyxccz8xMl0iLCBzYW1wbGU9ICJbMiwgNCwgNiwgOCwgJ0EnLCAxMl0iKQpyb3VuZCh0ZXN0X3Jlc3VsdHMuZ2V0X3Jlc3VsdHMoKSo0LCAyKQ=="
    },
    "deletable": false,
    "editable": false,
    "execution": {
     "iopub.execute_input": "2024-08-21T13:15:26.776078Z",
     "iopub.status.busy": "2024-08-21T13:15:26.775305Z",
     "iopub.status.idle": "2024-08-21T13:15:26.803733Z",
     "shell.execute_reply": "2024-08-21T13:15:26.800991Z"
    },
    "nbgrader": {
     "cell_type": "code",
     "checksum": "a45523354684eabd1193095ab8ad39c6",
     "grade": true,
     "grade_id": "cell-50e8bafd8d17d06c",
     "locked": true,
     "points": 4,
     "schema_version": 3,
     "solution": false,
     "task": false
    },
    "slideshow": {
     "slide_type": ""
    },
    "tags": []
   },
   "outputs": [],
   "source": []
  },
  {
   "cell_type": "markdown",
   "metadata": {
    "deletable": false,
    "editable": false
   },
   "source": [
    "<br>\n",
    "<nav class=\"navbar navbar-default\">\n",
    "    <div class=\"container-fluid\">\n",
    "        <div class=\"navbar-header\" style=\"float: right\">\n",
    "            <a class=\"navbar-brand\" href=\"2_Slicing.ipynb\" target=\"_self\">Neste side: <i>slicing av lister</i> &gt;</a>\n",
    "        </div>\n",
    "    </div>\n",
    "</nav>"
   ]
  }
 ],
 "metadata": {
  "kernelspec": {
   "display_name": "Python 3 (ipykernel)",
   "language": "python",
   "name": "python3"
  },
  "language_info": {
   "codemirror_mode": {
    "name": "ipython",
    "version": 3
   },
   "file_extension": ".py",
   "mimetype": "text/x-python",
   "name": "python",
   "nbconvert_exporter": "python",
   "pygments_lexer": "ipython3",
   "version": "3.11.6"
  },
  "scenes_data": {
   "active_scene": "Default Scene",
   "init_scene": "",
   "scenes": [
    "Default Scene"
   ]
  },
  "toc": {
   "base_numbering": 1,
   "nav_menu": {},
   "number_sections": false,
   "sideBar": true,
   "skip_h1_title": false,
   "title_cell": "Table of Contents",
   "title_sidebar": "Contents",
   "toc_cell": false,
   "toc_position": {},
   "toc_section_display": true,
   "toc_window_display": false
  },
  "vscode": {
   "interpreter": {
    "hash": "aee8b7b246df8f9039afb4144a1f6fd8d2ca17a180786b69acc140d282b71a49"
   }
  }
 },
 "nbformat": 4,
 "nbformat_minor": 4
}
