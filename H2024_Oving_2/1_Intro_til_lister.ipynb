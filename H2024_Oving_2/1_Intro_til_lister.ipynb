{
 "cells": [
  {
   "cell_type": "markdown",
   "metadata": {
    "deletable": false,
    "slideshow": {
     "slide_type": ""
    },
    "tags": []
   },
   "source": [
    "\n",
    "<nav class=\"navbar navbar-default\">\n",
    "  <div class=\"container-fluid\">\n",
    "    <div class=\"navbar-header\" style=\"float: left\">\n",
    "        <a class=\"navbar-brand\" href=\"0_Forside.ipynb\" target=\"_self\"> <h2> &uarr; Tilbake til forsiden</h2></a>\n",
    "    </div>\n",
    "  </div>\n",
    "</nav>"
   ]
  },
  {
   "cell_type": "markdown",
   "metadata": {
    "deletable": false,
    "run_control": {
     "frozen": true
    }
   },
   "source": [
    "# Generelt om lister\n",
    "\n",
    "**Læringsmål:**\n",
    "\n",
    "* Lister\n",
    "* Indeksering\n",
    "\n",
    "\n",
    "**Oversikt:**\n",
    "* [Oppgave a) listedeklarasjon](#oppg_1a)\n",
    "* [Oppgave b) indeksering](#oppg_1b)\n",
    "* [Oppgave c) modifisering av element](#oppg_1c)\n",
    "\n",
    "I denne oppgaven skal vi bli kjent med hvordan lister fungerer i Python ved å opprette enkle lister, endre på dem, og skrive ut listene til konsollen. "
   ]
  },
  {
   "cell_type": "markdown",
   "metadata": {
    "deletable": false,
    "editable": false,
    "heading_collapsed": true,
    "run_control": {
     "frozen": true
    }
   },
   "source": [
    "### Generelt om lister"
   ]
  },
  {
   "cell_type": "markdown",
   "metadata": {
    "deletable": false,
    "hidden": true,
    "run_control": {
     "frozen": true
    }
   },
   "source": [
    "Lister er en mye brukt datastruktur for å tilordne én variabel en rekke med verdier. Lister kan blant annet inneholde tall, strenger eller andre lister.\n",
    "\n",
    "For å opprette en tom liste i Python skriver vi `[]`. Vilkårlig lange lister kan lages ved å skrive [a, b, c, ... ], der a, b, og c er elementer i listen. For eksempel:"
   ]
  },
  {
   "cell_type": "code",
   "execution_count": 1,
   "metadata": {
    "ExecuteTime": {
     "end_time": "2019-07-03T07:01:11.287280Z",
     "start_time": "2019-07-03T07:01:11.230243Z"
    },
    "hidden": true
   },
   "outputs": [],
   "source": [
    "min_liste = [4, 'elementer', 'i', 'listen']"
   ]
  },
  {
   "cell_type": "markdown",
   "metadata": {
    "deletable": false,
    "editable": true,
    "hidden": false,
    "run_control": {
     "frozen": true
    }
   },
   "source": [
    "### Indeksering\n",
    "Vi kan hente ut elementer fra en liste ved å spesifisere hvilken *indeks* elementet vi vil ha tak i har i listen. Indeksen til et element kan tenkes på som *posisjonen* elementet har i rekken med element, og vi begynner å telle fra `0`. Tabellen nedenfor gir en oversikt over alle elementene i `min_liste`, og hvilken indeks de har.\n",
    "\n",
    "|Element: | `4` | `'elementer'` | `'i'` | `'listen'`|\n",
    "|--:|:--|:--|:--|:--|\n",
    "|Indeks: | `0`|`1`|`2`|`3`|\n",
    "\n",
    "Vi bruker klammeparantes `[]` til å hente ut elementer fra en liste. Syntaksen for å hente ut et element med indeks `2` er med andre ord `min_liste[2]`.\n",
    "\n",
    "Eksempel på kjøring:\n",
    "```Python\n",
    "print(min_liste[2]) # Henter ut element med indeks 2 fra min_liste, altså strengen 'i'\n",
    "'i'\n",
    "```\n",
    "\n",
    "\n",
    "\n",
    "<!--\n",
    "Hvert element i en liste har en indeks, som beskriver posisjonen elementet har i listen. Denne brukes når vi skal endre eller finne et element i en liste.\n",
    "\n",
    "\n",
    "\n",
    "Lister i Python er nullindeksert, det vil si at det første elementet har indeks 0, det neste elementet har indeks 1, osv. \n",
    "-->\n",
    "Ved å skrive `liste[index]` kan vi finne eller endre elementer i en liste.\n",
    "\n",
    "For eksempel: (**Prøv gjerne å endre på koden og se hva som skjer**)"
   ]
  },
  {
   "cell_type": "code",
   "execution_count": 2,
   "metadata": {
    "ExecuteTime": {
     "end_time": "2019-07-03T07:01:58.309772Z",
     "start_time": "2019-07-03T07:01:58.301527Z"
    },
    "hidden": true
   },
   "outputs": [
    {
     "name": "stdout",
     "output_type": "stream",
     "text": [
      "4\n",
      "ting\n"
     ]
    }
   ],
   "source": [
    "min_liste = [4,'elementer','i','listen']\n",
    "print(min_liste[0])  # koden skriver ut elementet på posisjon 0 i listen: 4\n",
    "min_liste[1] = 'ting'\n",
    "print(min_liste[1])  # koden skriver ut elementet på posisjon 1 i listen: ting"
   ]
  },
  {
   "cell_type": "markdown",
   "metadata": {
    "deletable": false,
    "run_control": {
     "frozen": true
    },
    "slideshow": {
     "slide_type": ""
    },
    "tags": []
   },
   "source": [
    "<a id=\"oppg_1a\"></a>\n",
    "## Oppgave a)"
   ]
  },
  {
   "cell_type": "markdown",
   "metadata": {
    "deletable": false,
    "run_control": {
     "frozen": true
    }
   },
   "source": [
    "Lag en liste **my_first_list** med alle partallene fra og med 2 til og med 12, og skriv den ut med funksjonen `print`.\n",
    "\n",
    "Eksempel på utskrift:<br>\n",
    "`[2, 4, 6, 8, 10, 12]`\n",
    "\n",
    "***Skriv koden din i boksen under.***"
   ]
  },
  {
   "cell_type": "code",
   "execution_count": 3,
   "metadata": {
    "ExecuteTime": {
     "end_time": "2019-07-03T07:04:40.859385Z",
     "start_time": "2019-07-03T07:04:40.850440Z"
    },
    "nbgrader": {
     "grade": false,
     "grade_id": "cell-a95656f24120fd8f",
     "locked": false,
     "schema_version": 3,
     "solution": true,
     "task": false
    }
   },
   "outputs": [],
   "source": [
    "### BEGIN SOLUTION\n",
    "my_first_list = [2, 4, 6, 8, 10, 12]\n",
    "### END SOLUTION"
   ]
  },
  {
   "cell_type": "code",
   "execution_count": 4,
   "metadata": {
    "nbgrader": {
     "grade": true,
     "grade_id": "cell-253dcfc115756138",
     "locked": true,
     "points": 3,
     "schema_version": 3,
     "solution": false,
     "task": false
    }
   },
   "outputs": [
    {
     "data": {
      "text/html": [
       "<div class = \"alert alert-success\">All tests passed!</div>"
      ],
      "text/plain": [
       "<IPython.core.display.HTML object>"
      ]
     },
     "metadata": {},
     "output_type": "display_data"
    },
    {
     "data": {
      "text/plain": [
       "3.0"
      ]
     },
     "execution_count": 4,
     "metadata": {},
     "output_type": "execute_result"
    }
   ],
   "source": [
    "### BEGIN HIDDEN TESTS\n",
    "from autofeedback import VariableTests\n",
    "test_results = VariableTests()\n",
    "test_results.compare_values(my_first_list, [2, 4, 6, 8, 10, 12])\n",
    "round(test_results.get_results()*3, 2)\n",
    "### END HIDDEN TESTS"
   ]
  },
  {
   "cell_type": "markdown",
   "metadata": {
    "deletable": false,
    "editable": false,
    "run_control": {
     "frozen": true
    }
   },
   "source": [
    "### Lengde av lister"
   ]
  },
  {
   "cell_type": "markdown",
   "metadata": {
    "deletable": false,
    "run_control": {
     "frozen": true
    }
   },
   "source": [
    "For å finne lengden på en liste er det nyttig å benytte seg av den innebygde funksjonen, [`len()`](https://www.w3schools.com/python/ref_func_len.asp). Dersom vi tar `len(min_liste)` når vi allerede har definert `min_liste = [4, 'elementer', 'i', 'listen']` vil dette være lik 4. Lengden er altså lik antall elementer i listen. \n",
    "\n",
    "```Python\n",
    "min_liste = [4, 'elementer', 'i', 'listen']\n",
    "print(len(min_liste))\n",
    "4\n",
    "```\n",
    "\n",
    "Ettersom en liste er nullindeksert vil indeksen til det siste elementet alltid være lik lengden-1. For eksempel vil det siste elementet i min_liste være på indeks 3 når lengden er 4. \n",
    "```Python\n",
    "min_liste[len(min_liste)-1]  # Henter ut siste element i listen\n",
    "```\n",
    "\n",
    "For å gjøre det enklere er det faktisk ikke nødvendig å skrive inn lengden til listen, men bruke negative tall til å hente ut elementer fra slutten av listen. På denne måten vil det siste elementet har indeks -1, da vil det nest siste elementet ha indeks -2 osv.\n",
    "```Python\n",
    "min_liste[-1]                # Henter ut siste element i listen\n",
    "```\n",
    "\n",
    "Merk at vi får en feilmelding dersom vi prøver å bruke en indeks som er høyere enn det siste elementet i lista:\n",
    "\n",
    "```Python\n",
    "print(min_liste[4]) # Gir feilmelding\n",
    "```\n",
    "\n",
    "<div class=\"alert alert-danger\">\n",
    "IndexError: list index out of range\n",
    "</div>"
   ]
  },
  {
   "cell_type": "markdown",
   "metadata": {
    "deletable": false,
    "run_control": {
     "frozen": true
    }
   },
   "source": [
    "<a id=\"oppg_1b\"></a>\n",
    "## Oppgave b)"
   ]
  },
  {
   "cell_type": "markdown",
   "metadata": {
    "deletable": false,
    "run_control": {
     "frozen": true
    }
   },
   "source": [
    "Skriv ut det siste elementet i listen til skjerm. **Husk at du kan bruke listen fra forrige oppgave uten å definere my_first_list på nytt.**\n",
    "\n",
    "(obs: dette kan gjøres på forskjellige måter)\n",
    "\n",
    "Eksempel på kjøring:\n",
    "```python\n",
    "print(siste_element)\n",
    "12\n",
    "```\n",
    "***Skriv koden din i boksen under.***"
   ]
  },
  {
   "cell_type": "code",
   "execution_count": 5,
   "metadata": {
    "ExecuteTime": {
     "end_time": "2019-07-03T07:08:45.565459Z",
     "start_time": "2019-07-03T07:08:45.558296Z"
    },
    "nbgrader": {
     "grade": false,
     "grade_id": "cell-585d8b0cb25320fa",
     "locked": false,
     "schema_version": 3,
     "solution": true,
     "task": false
    }
   },
   "outputs": [
    {
     "name": "stdout",
     "output_type": "stream",
     "text": [
      "12\n"
     ]
    }
   ],
   "source": [
    "### BEGIN SOLUTION\n",
    "lengde = len(my_first_list)\n",
    "print(my_first_list[lengde - 1])\n",
    "### END SOLUTION"
   ]
  },
  {
   "cell_type": "code",
   "execution_count": 6,
   "metadata": {
    "editable": true,
    "nbgrader": {
     "grade": true,
     "grade_id": "cell-d98d74349341b87a",
     "locked": true,
     "points": 3,
     "schema_version": 3,
     "solution": false,
     "task": false
    },
    "slideshow": {
     "slide_type": ""
    },
    "tags": []
   },
   "outputs": [
    {
     "data": {
      "text/html": [
       "<div class = \"alert alert-success\">All tests passed!</div>"
      ],
      "text/plain": [
       "<IPython.core.display.HTML object>"
      ]
     },
     "metadata": {},
     "output_type": "display_data"
    },
    {
     "data": {
      "text/plain": [
       "3.0"
      ]
     },
     "execution_count": 6,
     "metadata": {},
     "output_type": "execute_result"
    }
   ],
   "source": [
    "### BEGIN HIDDEN TESTS\n",
    "from autofeedback import CodeCellTests\n",
    "\n",
    "answer_cell_index = len(In)-2\n",
    "answer_cell_contents = In[answer_cell_index]\n",
    "\n",
    "grading_results = CodeCellTests(answer_cell_contents, init_wgt = 0.2, globals=globals(), locals=locals())\n",
    "grading_results.test_output(r\"12\")\n",
    "round(grading_results.get_results()*3, 2)\n",
    "### END HIDDEN TESTS"
   ]
  },
  {
   "cell_type": "markdown",
   "metadata": {
    "deletable": false,
    "run_control": {
     "frozen": true
    }
   },
   "source": [
    "<a id=\"oppg_1c\"></a>\n",
    "### Oppgave c) \n",
    "Bytt ut det nest siste elementet (5) med bokstaven 'A', og skriv ut den modifiserte listen med bruk av `print`.\n",
    "\n",
    "Eksempel på utskrift:<br>\n",
    "`[2, 4, 6, 8, 'A', 12]`\n",
    "\n",
    "***Skriv koden din i boksen under.***"
   ]
  },
  {
   "cell_type": "code",
   "execution_count": 7,
   "metadata": {
    "editable": true,
    "nbgrader": {
     "grade": false,
     "grade_id": "cell-c7ec1d0dd1232a50",
     "locked": false,
     "schema_version": 3,
     "solution": true,
     "task": false
    },
    "slideshow": {
     "slide_type": ""
    },
    "tags": []
   },
   "outputs": [
    {
     "name": "stdout",
     "output_type": "stream",
     "text": [
      "[2, 4, 6, 8, 'A', 12]\n"
     ]
    }
   ],
   "source": [
    "### BEGIN SOLUTION\n",
    "my_first_list[4] = 'A'\n",
    "print(my_first_list)\n",
    "### END SOLUTION"
   ]
  },
  {
   "cell_type": "code",
   "execution_count": 8,
   "metadata": {
    "editable": true,
    "nbgrader": {
     "grade": true,
     "grade_id": "cell-50e8bafd8d17d06c",
     "locked": true,
     "points": 4,
     "schema_version": 3,
     "solution": false,
     "task": false
    },
    "slideshow": {
     "slide_type": ""
    },
    "tags": []
   },
   "outputs": [
    {
     "data": {
      "text/html": [
       "<div class = \"alert alert-success\">All tests passed!</div>"
      ],
      "text/plain": [
       "<IPython.core.display.HTML object>"
      ]
     },
     "metadata": {},
     "output_type": "display_data"
    },
    {
     "data": {
      "text/plain": [
       "4.0"
      ]
     },
     "execution_count": 8,
     "metadata": {},
     "output_type": "execute_result"
    }
   ],
   "source": [
    "### BEGIN HIDDEN TESTS\n",
    "from autofeedback import CodeCellTests\n",
    "\n",
    "answer_cell_index = len(In)-2\n",
    "answer_cell_contents = In[answer_cell_index]\n",
    "\n",
    "test_results = CodeCellTests(answer_cell_contents, globals=globals(), locals=locals())\n",
    "if \"my_first_list\" in globals() and my_first_list == [2, 4, 6, 8, 'A', 12]:\n",
    "    test_results.add_result(True, \"'my_first_list' is the correct value\")\n",
    "elif \"my_first_list\" in globals():\n",
    "    test_results.add_result(False, f\"'my_first_list' equals '{my_first_list}' and not '[2, 4, 6, 8, 'A', 12]'\")\n",
    "else:\n",
    "    test_results.add_result(False, f\"'no variable named 'my_first_list'\")\n",
    "\n",
    "test_results.test_output(r\"[2,\\s?4,\\s?6,\\s?8,\\s?'A',\\s?12]\", sample= \"[2, 4, 6, 8, 'A', 12]\")\n",
    "round(test_results.get_results()*4, 2)\n",
    "### END HIDDEN TESTS"
   ]
  },
  {
   "cell_type": "markdown",
   "metadata": {
    "deletable": false,
    "editable": false
   },
   "source": [
    "<br>\n",
    "<nav class=\"navbar navbar-default\">\n",
    "    <div class=\"container-fluid\">\n",
    "        <div class=\"navbar-header\" style=\"float: right\">\n",
    "            <a class=\"navbar-brand\" href=\"2_Slicing.ipynb\" target=\"_self\">Neste side: <i>slicing av lister</i> &gt;</a>\n",
    "        </div>\n",
    "    </div>\n",
    "</nav>"
   ]
  }
 ],
 "metadata": {
  "celltoolbar": "Create Assignment",
  "kernelspec": {
   "display_name": "Python 3 (ipykernel)",
   "language": "python",
   "name": "python3"
  },
  "language_info": {
   "codemirror_mode": {
    "name": "ipython",
    "version": 3
   },
   "file_extension": ".py",
   "mimetype": "text/x-python",
   "name": "python",
   "nbconvert_exporter": "python",
   "pygments_lexer": "ipython3",
   "version": "3.11.6"
  },
  "scenes_data": {
   "active_scene": "Default Scene",
   "init_scene": "",
   "scenes": [
    "Default Scene"
   ]
  },
  "toc": {
   "base_numbering": 1,
   "nav_menu": {},
   "number_sections": false,
   "sideBar": true,
   "skip_h1_title": false,
   "title_cell": "Table of Contents",
   "title_sidebar": "Contents",
   "toc_cell": false,
   "toc_position": {},
   "toc_section_display": true,
   "toc_window_display": false
  },
  "vscode": {
   "interpreter": {
    "hash": "aee8b7b246df8f9039afb4144a1f6fd8d2ca17a180786b69acc140d282b71a49"
   }
  }
 },
 "nbformat": 4,
 "nbformat_minor": 4
}
