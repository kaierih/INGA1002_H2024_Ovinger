{
 "cells": [
  {
   "cell_type": "markdown",
   "id": "506f5bed",
   "metadata": {
    "deletable": false,
    "editable": false
   },
   "source": [
    "\n",
    "<nav class=\"navbar navbar-default\">\n",
    "  <div class=\"container-fluid\">\n",
    "    <div class=\"navbar-header\" style=\"float: left\">\n",
    "        <a class=\"navbar-brand\" href=\"0_Forside.ipynb\" target=\"_self\"> <h2> &uarr; Tilbake til forsiden</h2></a>\n",
    "    </div>\n",
    "  </div>\n",
    "</nav>"
   ]
  },
  {
   "cell_type": "markdown",
   "id": "cd57d3f1-5331-4257-9fe5-bdd98f1e3f53",
   "metadata": {},
   "source": [
    "# Spill en melodi\n",
    "\n",
    "Det er mye rart man kan gjøre med tallsekvenser. For eksempel er digitale lydopptak også i grunn ikke mer enn en sekvens med veldig hyppige målinger fra en mikrofon, noe som tilsier at man også kan syntetisere enkelte lyder matematisk med Python. For eksempel viser formelen nedenfor det matematiske uttrykket for en \"ren sinustone\" (slik som bl.a. typisk brukes i hørselstester) med frekvens lik $440$Hz (tonen A for musikkinteresserte).\n",
    "\n",
    "$$x_{\\text{tone\\_A}}(t) = \\sin(2\\pi \\cdot 440 \\cdot t)$$\n",
    "\n",
    "Koden nedenfor vil generere en slik \"ren sinustone\" med varignet en på 2 sekund. Variabelen `sample_rate` er nødvendig for å fortelle datamaskinen hvor raskt den skal \"mate\" nye tallverdier til høyttaleren, og betyr \"antall målepunkter per sekund\"."
   ]
  },
  {
   "cell_type": "code",
   "execution_count": null,
   "id": "e3954f4b-8e2a-440e-94af-12e263e01e9c",
   "metadata": {
    "deletable": false,
    "editable": false,
    "execution": {
     "iopub.execute_input": "2024-06-25T10:14:57.486851Z",
     "iopub.status.busy": "2024-06-25T10:14:57.485751Z",
     "iopub.status.idle": "2024-06-25T10:14:57.688433Z",
     "shell.execute_reply": "2024-06-25T10:14:57.687401Z"
    },
    "nbgrader": {
     "cell_type": "code",
     "checksum": "dd55e2c078e396da0fc37e1cbc6c54a1",
     "grade": false,
     "grade_id": "cell-c3906e934a8878ed",
     "locked": true,
     "schema_version": 3,
     "solution": false,
     "task": false
    }
   },
   "outputs": [],
   "source": [
    "import numpy as np\n",
    "from IPython.display import Audio\n",
    "\n",
    "# Generer tonen\n",
    "F = 440\n",
    "tone_duration = 2.0 # Seconds\n",
    "sample_rate = 8000 # Values per second in playback\n",
    "t = np.linspace(0,  # Starttid t=0\n",
    "                tone_duration, # Sluttid t = tone_duration\n",
    "                int(sample_rate*tone_duration), # Antall datapunkt i tidsintervall\n",
    "                endpoint=False) # Ekskluder sluttiden fra array\n",
    "tone = np.sin(2*np.pi*F*t)\n",
    "\n",
    "# Spill av lyden med funksjonen Audio\n",
    "# (setter normalize=False og deler på 16 for å være litt skånsom med lydnivå)\n",
    "Audio(tone/(max(abs(tone))*16), rate=sample_rate, normalize=False)"
   ]
  },
  {
   "cell_type": "markdown",
   "id": "b02bacf8-fd9d-4b21-b96f-2d253e3d20c6",
   "metadata": {},
   "source": [
    "## a)\n",
    "\n",
    "Lag en funksjon `generate_tone(frequency, duration, rate)` som kan brukes til å generere toner med valgfri frekvens `frequency` og lengde `duration`, med `rate` antall målepunkter per sekund."
   ]
  },
  {
   "cell_type": "code",
   "execution_count": null,
   "id": "45d613ba-69f0-4763-95e1-c1a395450a4d",
   "metadata": {
    "deletable": false,
    "execution": {
     "iopub.execute_input": "2024-06-25T10:14:57.692331Z",
     "iopub.status.busy": "2024-06-25T10:14:57.691993Z",
     "iopub.status.idle": "2024-06-25T10:14:57.697252Z",
     "shell.execute_reply": "2024-06-25T10:14:57.696419Z"
    },
    "nbgrader": {
     "cell_type": "code",
     "checksum": "784d8771c2934d5047417dd229405b09",
     "grade": false,
     "grade_id": "cell-81d7356d9f7e017d",
     "locked": false,
     "schema_version": 3,
     "solution": true,
     "task": false
    }
   },
   "outputs": [],
   "source": [
    "#-------------------------------------\n",
    "# SKRIV DIN KODE HER:\n",
    "#-------------------------------------"
   ]
  },
  {
   "cell_type": "code",
   "execution_count": null,
   "id": "15bce73d-7949-4b0a-82fc-35e16b326d21",
   "metadata": {
    "autofeedback": {
     "test_code": "ZnJvbSByYW5kb20gaW1wb3J0IHNhbXBsZQpmcm9tIGF1dG9mZWVkYmFjayBpbXBvcnQgRnVuY3Rpb25UZXN0cwppbXBvcnQgbnVtcHkgYXMgbnAKCmRlZiB0b25lX3NvbHV0aW9uKGZyZXF1ZW5jeSwgZHVyYXRpb24sIHJhdGUpOgogICAgdCA9IG5wLmxpbnNwYWNlKDAsIGR1cmF0aW9uLCBpbnQocmF0ZSpkdXJhdGlvbiksIGVuZHBvaW50PUZhbHNlKQogICAgdG9uZSA9IG5wLnNpbigyKm5wLnBpKmZyZXF1ZW5jeSp0KQogICAgcmV0dXJuIHRvbmUKICAgIApncmFkaW5nX3Jlc3VsdHMgPSBGdW5jdGlvblRlc3RzKHRvbmVfc29sdXRpb24pCgp0cnk6CiAgICBncmFkaW5nX3Jlc3VsdHMuYWRkX3Rlc3RfZnVuYyhnZW5lcmF0ZV90b25lKQpleGNlcHQgRXhjZXB0aW9uIGFzIGU6CiAgICBncmFkaW5nX3Jlc3VsdHMubG9nLmFwcGVuZCgiQ291bGQgbm90IHJ1biB0ZXN0cywgIitlLmFyZ3NbMF0pCmVsc2U6CiAgICBOID0gMyAgIyBOdW1iZXIgb2YgdGVzdHMKICAgIFRfdmFscyA9IHNhbXBsZShbeC8xMCBmb3IgeCBpbiByYW5nZSgxLCAxMSldLCBOKQogICAgRl92YWxzID0gc2FtcGxlKFt4KjEwMCBmb3IgeCBpbiByYW5nZSgxLCAxMSldLCBOKQogICAgZnNfdmFscyA9IHNhbXBsZShsaXN0KHJhbmdlKDQwMDAsIDEzMDAwLCAxMDAwKSksIE4pCiAgICBmb3IgVCwgRiwgZnMgaW4gemlwKFRfdmFscywgRl92YWxzLCBmc192YWxzKToKICAgICAgICBncmFkaW5nX3Jlc3VsdHMudGVzdF9yZXR1cm5fdmFsdWUoRiwgVCwgZnMpCnJvdW5kKGdyYWRpbmdfcmVzdWx0cy5nZXRfcmVzdWx0cygpKjQsIDIp"
    },
    "deletable": false,
    "editable": false,
    "execution": {
     "iopub.execute_input": "2024-06-25T10:14:57.701034Z",
     "iopub.status.busy": "2024-06-25T10:14:57.700513Z",
     "iopub.status.idle": "2024-06-25T10:14:59.001308Z",
     "shell.execute_reply": "2024-06-25T10:14:58.999463Z"
    },
    "nbgrader": {
     "cell_type": "code",
     "checksum": "bd5e6cad68449dedd63b871a36008a19",
     "grade": true,
     "grade_id": "cell-950f17e096dad38e",
     "locked": true,
     "points": 4,
     "schema_version": 3,
     "solution": false,
     "task": false
    }
   },
   "outputs": [],
   "source": []
  },
  {
   "cell_type": "markdown",
   "id": "964cd7c4-adbf-47cb-85cb-22b966b4b6bd",
   "metadata": {},
   "source": [
    "## b) \n",
    "Bruk funksjonen fra oppgave **a)** til å lage én lang array `melody` med mange toner etter hverandre. Hvilke toner, hvor langvarige og hvilken rekkefølge er oppgitt i tabellen under.\n",
    "\n",
    "|Frekvens|Varighet|\n",
    "|---|---|\n",
    "|392Hz|0.9s|\n",
    "|0Hz (stille)|0.1s|\n",
    "|587Hz|0.9s|\n",
    "|0Hz (stille)|0.1s|\n",
    "|494Hz|0.4s|\n",
    "|0Hz (stille)|0.1s|\n",
    "|494Hz|0.4s|\n",
    "|0Hz (stille)|0.1s|\n",
    "|392Hz|0.9s|\n",
    "\n",
    "Bruk 8000 målepunkt per sekund (`sample_rate = 8000`).\\\n",
    "*Hint: funksjonene `numpy.zeros()` og `numpy.concatenate()` kan være grei å se litt nærmere på.*<br>\n",
    "*Hint 2: sicing av arrays kan også være nokså nyttig i denne oppgaven.*"
   ]
  },
  {
   "cell_type": "code",
   "execution_count": null,
   "id": "cc46fb06-19fb-44c5-acf0-095ea05f24c1",
   "metadata": {
    "deletable": false,
    "editable": true,
    "execution": {
     "iopub.execute_input": "2024-06-25T10:14:59.008162Z",
     "iopub.status.busy": "2024-06-25T10:14:59.007700Z",
     "iopub.status.idle": "2024-06-25T10:14:59.017852Z",
     "shell.execute_reply": "2024-06-25T10:14:59.016435Z"
    },
    "nbgrader": {
     "cell_type": "code",
     "checksum": "c2aa6dac09093a950714bf695764eed6",
     "grade": false,
     "grade_id": "cell-d1d89ad567399b6a",
     "locked": false,
     "schema_version": 3,
     "solution": true,
     "task": false
    },
    "slideshow": {
     "slide_type": ""
    },
    "tags": []
   },
   "outputs": [],
   "source": [
    "#-------------------------------------\n",
    "# SKRIV DIN KODE HER:\n",
    "#-------------------------------------"
   ]
  },
  {
   "cell_type": "markdown",
   "id": "6b5e90c4-d30a-40b8-9246-f3ce06bdadcc",
   "metadata": {},
   "source": [
    "Kjør cellen nedenfor for å lytte til melodien:"
   ]
  },
  {
   "cell_type": "code",
   "execution_count": null,
   "id": "adc8cc55-a7bb-417b-97ae-7b3d215009c2",
   "metadata": {
    "autofeedback": {
     "test_code": "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"
    },
    "deletable": false,
    "editable": false,
    "execution": {
     "iopub.execute_input": "2024-06-25T10:14:59.024243Z",
     "iopub.status.busy": "2024-06-25T10:14:59.023912Z",
     "iopub.status.idle": "2024-06-25T10:14:59.045800Z",
     "shell.execute_reply": "2024-06-25T10:14:59.044389Z"
    },
    "nbgrader": {
     "cell_type": "code",
     "checksum": "61e2839f10a210d0b5a71660dc1ad30c",
     "grade": true,
     "grade_id": "cell-e2cefed11eddc6a4",
     "locked": true,
     "points": 6,
     "schema_version": 3,
     "solution": false,
     "task": false
    }
   },
   "outputs": [],
   "source": [
    "# Spill av lyden med funksjonen Audio\n",
    "# (setter normalize=False og deler melodien på 16 for å være litt skånsom med lydnivå)\n",
    "Audio(melody/(max(abs(melody))*16), rate=sample_rate, normalize=False)"
   ]
  },
  {
   "cell_type": "markdown",
   "id": "8309affd",
   "metadata": {
    "deletable": false,
    "editable": false
   },
   "source": [
    "<br>\n",
    "<nav class=\"navbar navbar-default\">\n",
    "    <div class=\"container-fluid\">\n",
    "        <div class=\"navbar-header\" style=\"float: left\">\n",
    "            <a class=\"navbar-brand\" href=\"9_Plotting_3.ipynb\" target=\"_self\">&lt; Forrige side: <i>logaritmisk plotting</i></a>\n",
    "            </div>\n",
    "    </div>\n",
    "</nav>"
   ]
  }
 ],
 "metadata": {
  "kernelspec": {
   "display_name": "Python 3 (ipykernel)",
   "language": "python",
   "name": "python3"
  },
  "language_info": {
   "codemirror_mode": {
    "name": "ipython",
    "version": 3
   },
   "file_extension": ".py",
   "mimetype": "text/x-python",
   "name": "python",
   "nbconvert_exporter": "python",
   "pygments_lexer": "ipython3",
   "version": "3.11.6"
  },
  "scenes_data": {
   "active_scene": "Default Scene",
   "init_scene": "",
   "scenes": [
    "Default Scene"
   ]
  }
 },
 "nbformat": 4,
 "nbformat_minor": 5
}
