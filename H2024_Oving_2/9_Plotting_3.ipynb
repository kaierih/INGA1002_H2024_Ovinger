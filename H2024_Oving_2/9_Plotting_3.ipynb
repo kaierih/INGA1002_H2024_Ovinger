{
 "cells": [
  {
   "cell_type": "markdown",
   "id": "794c3e41",
   "metadata": {
    "deletable": false,
    "editable": false
   },
   "source": [
    "\n",
    "<nav class=\"navbar navbar-default\">\n",
    "  <div class=\"container-fluid\">\n",
    "    <div class=\"navbar-header\" style=\"float: left\">\n",
    "        <a class=\"navbar-brand\" href=\"0_Forside.ipynb\" target=\"_self\"> <h2> &uarr; Tilbake til forsiden</h2></a>\n",
    "    </div>\n",
    "  </div>\n",
    "</nav>"
   ]
  },
  {
   "cell_type": "markdown",
   "id": "b9249a80-2e08-41f8-9db1-d7628d9fd20b",
   "metadata": {},
   "source": [
    "# Logaritmiske plot og flere grafer\n",
    "\n",
    "**Læringsmål:**\n",
    "* Forståelse for logaritmiske funksjoner og akser\n",
    "* Kunne bruke subplot for å sidestille grafer\n",
    "\n",
    "**Oversikt:**\n",
    "* [Oppgave a) logaritmisk y-akse](#oppg_9a)\n",
    "* [Oppgave b) logaritmsik x-akse](#oppg_9b)\n",
    "* [Oppgave c) logaritmisk x- og y-akse](#oppg_9c)\n",
    "* [Oppgave d) bruk av subplot](#oppg_9d)\n",
    "\n",
    "## Intro til logaritmiske plot\n",
    "\n",
    "Noen ganger ønsker man å plotte funksjoner av `logaritmisk` natur. Ta for eksempel funksjonen $f(x) = e^x$ som ilustrert nedenfor. Vi kan se at grafen til venstre ser tilnærmet ut helt flat frem til $x = 2.5$, mens på grafen til høyre kan vi se at y-verdien endrer seg gjennom hele grafen. \n",
    "\n",
    "*PS: Kodecellen under tar i bruk enkelte funksjoner vi ikke har utforsket før, så det er OK dersom noe av det ikke gir mening enda. Ta det med ro, vi skal ta oss tid til å bli bedre kjent med disse nye funksjonene i løpet av denne oppgaven.*"
   ]
  },
  {
   "cell_type": "code",
   "execution_count": null,
   "id": "df418999-2dc3-464d-90d1-c23fc22d0b9a",
   "metadata": {
    "execution": {
     "iopub.execute_input": "2024-06-25T10:15:41.790257Z",
     "iopub.status.busy": "2024-06-25T10:15:41.788893Z",
     "iopub.status.idle": "2024-06-25T10:15:43.542899Z",
     "shell.execute_reply": "2024-06-25T10:15:43.541877Z"
    }
   },
   "outputs": [],
   "source": [
    "import matplotlib.pyplot as plt\n",
    "import numpy as np\n",
    "\n",
    "def f(x):\n",
    "    return np.exp(x)\n",
    "\n",
    "x = np.linspace(-10, 10, 1001)\n",
    "\n",
    "\n",
    "plt.figure(figsize=(12, 5))  # Lag en ny \"blank\" figur med bredde 12 og høyde 6\n",
    "plt.subplot(1, 2, 1)         # \"Aktiver\" en graf i venstre halvdel av figuren for å \"tegne\" i\n",
    "\n",
    "# Plot f(x) med lineær skala\n",
    "plt.plot(x, f(x))\n",
    "plt.title('Exponential Function: y = e^x')\n",
    "plt.xlabel('x')\n",
    "plt.ylabel('y')\n",
    "plt.grid(True) # Lag et rutenett i grafen\n",
    "\n",
    "plt.subplot(1, 2, 2)          # \"Aktiver\" en graf i høyre halvdel av figuren for å \"tegne\" i\n",
    "# Plot f(x) med logaritmisk skala\n",
    "plt.plot(x, f(x))\n",
    "plt.title('Exponential Function with Log Scale')\n",
    "plt.xlabel('x')\n",
    "plt.ylabel('y')\n",
    "plt.yscale('log')  # Sett y-aksen som logaritmisk heller enn lineær\n",
    "plt.grid(True) # Lag et rutenett i grafen"
   ]
  },
  {
   "cell_type": "markdown",
   "id": "1a336a4c-3d01-4afe-bf42-e0f1f9cc95d6",
   "metadata": {},
   "source": [
    "Dette betyr at for dette tilfellet kan vi få mer informasjon av en graf med logaritmisk y-akse, enn en graf med lineær y-akse.\n",
    "\n",
    "Bli gjerne kjent med å lese av den logaritmiske grafen. Du kan se de store y-verdiene på aksen som $10 ^ 0$ og $10^1$, men de mindre strekene mellom er ikke markert. For intervallet mellom $10^0$ og $10^1$ betyr de $2 \\cdot 10^0$, $3 \\cdot 10^0$, ..., $9 \\cdot 10 ^0$\n",
    "\n",
    "I koden som lager figuren ovenfor er det tatt i bruk et par funksjoner som vi ikke har sett før:\n",
    "\n",
    "### [`plt.subplot()`](https://matplotlib.org/stable/api/_as_gen/matplotlib.pyplot.subplot.html)\n",
    "\n",
    "Når vi kaller funksjonen `plt.subplot(rows, cols, index)` vil den dele opp figuren i et rutenett, og \"aktiverer\" de(n) ruten(e) angitt i `pos`. Ved å f.eks. skrive `plt.subplot(2,3,5)`, vil \"hovedfiguren\" deles opp på følgende vis:\n",
    "| $$1$$ | $$2$$| $$3$$ |\n",
    "| --- | --- | --- |\n",
    "| $$4$$ | $$[5]$$ | $$6$$ |\n",
    "\n",
    "Bruk av funksjoner som f.eks. `plt.plot()` som kommer etter `plt.subplots(2,3,5)` vil da tegne en liten graf i den kolonnen ruten på nedre rad, altså i indeks 5.\n",
    "\n",
    "### [`plt.yscale('log')`](https://matplotlib.org/stable/api/_as_gen/matplotlib.pyplot.yscale.html)\n",
    "\n",
    "Setter skaleringen av y-aksen til å følge en logaritmisk økning heller enn lineær økning. Det vil si at hver \"linje\" oppover i rutenettet tilsvarer en verdi som er 10 ganger større enn forrige \"linje\". Funksjonen kan også brukes til å sette andre skaleringsregler.\n",
    "\n",
    "Det finnes også en funksjon [`xscale()`](https://matplotlib.org/stable/api/_as_gen/matplotlib.pyplot.xscale.html) som fungerer på samme måte, men endrer på skaleringen av $x$-aksen istedenfor.\n"
   ]
  },
  {
   "cell_type": "markdown",
   "id": "81257a13-b319-4fdd-b378-4a0c95ce0527",
   "metadata": {},
   "source": [
    "## Eksempel på bruk\n",
    "\n",
    "Logaritmiske plot blir brukt støtt og stadig til mye innenfor dataanalyse, fysikk, statistikk, signalbehandling, etc. Vi skal ta for oss et litt kjent eksempel med tyngdekraften mellom to legemer. Fra øving 1, oppg 7b brukte vi formelen til tyngdekraft mellom to legemer til å finne kraften solen og månen virker med på et menneske på jorden\n",
    "\n",
    "<img src=\"Figurer/gravityFormula.png\" width=\"30%\" align=\"center\" />\n",
    "\n",
    "der $G$ er tyngdekraftkonstanten $G = 6.67\\cdot 10^{-11}$. Dersom massen er konstant, og vi ønsker å analysere grafisk hvordan tyngdekraften utvikler seg som funksjon av avstand, vil en graf med lineær y-akse gi umiddelbare problemer grunnet $r^2$-leddet i nevneren. Figuren nedenfor viser hvordan en slik graf vil se ut:\n",
    "\n",
    "<img src=\"Figurer/GravityLinScale.png\" width=\"50%\" align=\"center\" />\n",
    "\n",
    "\n",
    "<!-- NB! Se gjerne på kodecellen under, men du trenger ikke skjønne all koden, bare kjøre den. -->"
   ]
  },
  {
   "cell_type": "markdown",
   "id": "f8c77468-f951-4bc0-9ae4-27cde7e16e5d",
   "metadata": {},
   "source": [
    "<a id=\"oppg_9a\"></a>\n",
    "## a) \n",
    "Gitt to objekt med masse $m_1 = 1\\text{ kg}$ og $m_2 = 1\\text{ kg}$ som befinner seg $r$ meter unna hverandre. Lag en figur som plotter tyngdekraften mellom de objektene som funksjon av avstand $r$ i intervallet $1\\text{ m} \\leq r \\leq 10^6 \\text{ m}$.  Figuren skal ha logaritisk $y$-akse og lineær $x$-akse."
   ]
  },
  {
   "cell_type": "code",
   "execution_count": null,
   "id": "649f8012-1e5e-41e9-a661-7d7ae4ade2f6",
   "metadata": {
    "deletable": false,
    "execution": {
     "iopub.execute_input": "2024-06-25T10:15:43.548299Z",
     "iopub.status.busy": "2024-06-25T10:15:43.547652Z",
     "iopub.status.idle": "2024-06-25T10:15:44.084343Z",
     "shell.execute_reply": "2024-06-25T10:15:44.083186Z"
    },
    "nbgrader": {
     "cell_type": "code",
     "checksum": "e5169e57b14205be5f60218d737a88a9",
     "grade": false,
     "grade_id": "cell-9517bab1b9ccf398",
     "locked": false,
     "schema_version": 3,
     "solution": true,
     "task": false
    }
   },
   "outputs": [],
   "source": [
    "#-------------------------------------\n",
    "# SKRIV DIN KODE HER:\n",
    "#-------------------------------------\n",
    "fig = plt.gcf() # La denne stå helt til slutt"
   ]
  },
  {
   "cell_type": "code",
   "execution_count": null,
   "id": "af97abe0-0f0f-4b20-acc3-556cfbf55a22",
   "metadata": {
    "autofeedback": {
     "test_code": "ZnJvbSBhdXRvZmVlZGJhY2sgaW1wb3J0IEN1c3RvbVRlc3RzCgpncmFkaW5nX3Jlc3VsdHMgPSBDdXN0b21UZXN0cygpCgp0cnk6CiAgICB5c2NhbGUgPSBmaWcuYXhlc1stMV0uZ2V0X3lzY2FsZSgpCiAgICB4c2NhbGUgPSBmaWcuYXhlc1stMV0uZ2V0X3hzY2FsZSgpCiAgICB4X3ZhbHMgPSBmaWcuYXhlc1stMV0ubGluZXNbLTFdLmdldF94ZGF0YSgpCmV4Y2VwdCBFeGNlcHRpb24gYXMgZToKICAgIGdyYWRpbmdfcmVzdWx0cy5hZGRfcmVzdWx0KCJGYWlsZWQgdG8gYWNxdWlyZSBheGlzIGluZm9ybWF0aW9uIGZvciBwbG90OiAiKyBlLmFyZ3NbMF0pCmVsc2U6CiAgICBncmFkaW5nX3Jlc3VsdHMudGVzdCh4X3ZhbHNbMF0gPT0gMS4wIGFuZCB4X3ZhbHNbLTFdID09IDFlNiwgCiAgICAgICAgICAgICAgICAgICAgICAgICJGdW5jdGlvbiBwbG90dGVkIGZvciBjb3JyZWN0IHJhbmdlIG9mIGRpc3RhbmNlcyAnMS4wIDw9IHIgPD0gMTBeNiIsCiAgICAgICAgICAgICAgICAgICAgICAgIGYiVGhlIHJhbmdlIG9mIHBsb3R0ZWQgYWxvbmcgdGhlIHgtYXhpcyBjb3ZlcnMgdGhlIHJhbmdlICd7eF92YWxzWzBdfSA8PSByIDw9IHt4X3ZhbHNbLTFdfScgYW5kIG5vdCAnMCA8PSByIDw9IDEwXjYiKQoKICAgIGdyYWRpbmdfcmVzdWx0cy50ZXN0KHlzY2FsZSA9PSAnbG9nJywKICAgICAgICAgICAgICAgICAgICAgICAgICJZLWF4aXMgc2NhbGUgaXMgbG9nYXJpdGhtaWMiLAogICAgICAgICAgICAgICAgICAgICAgICAgZiJZLWF4aXMgaGFzIHNjYWxlICd7eXNjYWxlfScgYW5kIG5vdCAnbG9nJy4iKQogICAgZ3JhZGluZ19yZXN1bHRzLnRlc3QoeHNjYWxlID09ICdsaW5lYXInLAogICAgICAgICAgICAgICAgICAgICAgICAgIlgtYXhpcyBzY2FsZSBpcyBsaW5lYXIiLAogICAgICAgICAgICAgICAgICAgICAgICAgZiJYLWF4aXMgaGFzIHNjYWxlICd7eHNjYWxlfScgYW5kIG5vdCAnbGluZWFyJy4iKQpyb3VuZChncmFkaW5nX3Jlc3VsdHMuZ2V0X3Jlc3VsdHMoKSozLCAyKQ=="
    },
    "deletable": false,
    "editable": false,
    "execution": {
     "iopub.execute_input": "2024-06-25T10:15:44.088127Z",
     "iopub.status.busy": "2024-06-25T10:15:44.087793Z",
     "iopub.status.idle": "2024-06-25T10:15:45.511407Z",
     "shell.execute_reply": "2024-06-25T10:15:45.510542Z"
    },
    "nbgrader": {
     "cell_type": "code",
     "checksum": "5d00e331626598c792414c05e9cb8337",
     "grade": true,
     "grade_id": "cell-f2cac9124ab107a5",
     "locked": true,
     "points": 3,
     "schema_version": 3,
     "solution": false,
     "task": false
    }
   },
   "outputs": [],
   "source": []
  },
  {
   "cell_type": "markdown",
   "id": "2478cd51-adea-4f79-a53c-71e67b0f638a",
   "metadata": {},
   "source": [
    "Dersom du har løst deloppgave **a)** riktig så skal du sitte igjen med et plot som ser ca. [slik](Figurer/oppg9a_LF.png) ut, og viser tydeligere hvordan funksjonen $F(r)$ utvikler seg avhengig av  avstand $r$. Men, det vil fortsatt være vanskelig å bruke grafen fra deloppgave **a)** til å tyde f.eks. $F(100)$. I situasjoner som denne kan det ofte være ønskelig å ha en graf der det er like lett å differensiere mellom $10$ og $100$ meter som det er å differensiere mellom $100$ og $1000$ kilometer. Da trenger vi en logaritmisk $x$-akse.\n",
    "\n",
    "Men, logaritmisk $x$-akse krever litt mere forarbeid enn logaritmisk $y$-akse. Det er viktig å passe på at arrayen med verider langs x-aksen ***også*** er logaritmisk fordelt. Hvis ikke kan vi ende opp med en graf som er veldig \"hakkete\" i den éne enden. Dette gjør vi med numpy-funksjonen [`np.logspace(start, stop, num)`](https://numpy.org/doc/stable/reference/generated/numpy.logspace.html). Denne fungerer *nesten* på samme måte som `linspace(start, stop, num)`, men parametrene `start`og `stop` er *eksponenter*. Med andre ord så er `np.logspace(start, stop, num)` det samme som `10**np.linspace(start, stop, num)`.\n",
    "```Python\n",
    "x = np.logspace(0, 4, 5)      # Gir en array [1, 10, 100, 1000, 10000]\n",
    "x = 10**np.linspace(0, 4, 5)  # Gir også en array [1, 10, 100, 1000, 10000]\n",
    "```\n",
    "<!--Hadde jeg nå spurt om tyngdekraften var størst ved stor eller liten avstand mellom objektene håper jeg at du sier deg enig i at grafen til høyre er mer hjelpsom. Med den grafen kan vi mye lettere se hvordan kraften endrer seg selv når den dekker et veldig stor område.-->"
   ]
  },
  {
   "cell_type": "markdown",
   "id": "de018126-e32b-4c13-affc-f420a7446562",
   "metadata": {},
   "source": [
    "<a id=\"oppg_9b\"></a>\n",
    "## b) \n",
    "Lag et nytt plot av funksjonen $F(r)$ i intervallet $1\\text{ m} \\leq r \\leq 10^6 \\text{ m}$ der $x$-aksen er logaritmisk (men $y$-aksen er lineær)"
   ]
  },
  {
   "cell_type": "code",
   "execution_count": null,
   "id": "9323ea6d-b4a9-44df-a654-f016a87d9010",
   "metadata": {
    "deletable": false,
    "execution": {
     "iopub.execute_input": "2024-06-25T10:15:45.515602Z",
     "iopub.status.busy": "2024-06-25T10:15:45.515071Z",
     "iopub.status.idle": "2024-06-25T10:15:46.345188Z",
     "shell.execute_reply": "2024-06-25T10:15:46.344058Z"
    },
    "nbgrader": {
     "cell_type": "code",
     "checksum": "37002251aefc40349749b758614fe0df",
     "grade": false,
     "grade_id": "cell-e5960f761b89cdf9",
     "locked": false,
     "schema_version": 3,
     "solution": true,
     "task": false
    }
   },
   "outputs": [],
   "source": [
    "#-------------------------------------\n",
    "# SKRIV DIN KODE HER:\n",
    "#-------------------------------------\n",
    "fig = plt.gcf()"
   ]
  },
  {
   "cell_type": "code",
   "execution_count": null,
   "id": "d2f664ac-77f1-4fb7-90cc-cbab627efcee",
   "metadata": {
    "autofeedback": {
     "test_code": "ZnJvbSBhdXRvZmVlZGJhY2sgaW1wb3J0IEN1c3RvbVRlc3RzCgpncmFkaW5nX3Jlc3VsdHMgPSBDdXN0b21UZXN0cygpCgp0cnk6CiAgICB5c2NhbGUgPSBmaWcuYXhlc1stMV0uZ2V0X3lzY2FsZSgpCiAgICB4c2NhbGUgPSBmaWcuYXhlc1stMV0uZ2V0X3hzY2FsZSgpCiAgICB4X3ZhbHMgPSBmaWcuYXhlc1stMV0ubGluZXNbLTFdLmdldF94ZGF0YSgpCmV4Y2VwdCBFeGNlcHRpb24gYXMgZToKICAgIGdyYWRpbmdfcmVzdWx0cy5hZGRfcmVzdWx0KCJGYWlsZWQgdG8gYWNxdWlyZSBheGlzIGluZm9ybWF0aW9uIGZvciBwbG90OiAiKyBlLmFyZ3NbMF0pCmVsc2U6CiAgICBncmFkaW5nX3Jlc3VsdHMudGVzdCh5c2NhbGUgPT0gJ2xpbmVhcicsCiAgICAgICAgICAgICAgICAgICAgICAgICAiWS1heGlzIHNjYWxlIGlzIGxpbmVhciIsCiAgICAgICAgICAgICAgICAgICAgICAgICBmIlktYXhpcyBoYXMgc2NhbGUgJ3t5c2NhbGV9JyBhbmQgbm90ICdsaW5lYXInLiIpCiAgICBncmFkaW5nX3Jlc3VsdHMudGVzdCh4c2NhbGUgPT0gJ2xvZycsCiAgICAgICAgICAgICAgICAgICAgICAgICAiWC1heGlzIHNjYWxlIGlzIGxvZyIsCiAgICAgICAgICAgICAgICAgICAgICAgICBmIlgtYXhpcyBoYXMgc2NhbGUgJ3t4c2NhbGV9JyBhbmQgbm90ICdsb2cnLiIpCiAgICBncmFkaW5nX3Jlc3VsdHMudGVzdCh4X3ZhbHNbbGVuKHhfdmFscykvLzJdIDw9IHhfdmFsc1stMV0vMTAsIAogICAgICAgICAgICAgICAgICAgICAgICAgIkRhdGEgcG9pbnRzIGFyZSBsb2dhcml0aG1pY2FsbHkgc3BhY2VkIGFsb25nIFgtYXhpcyIsCiAgICAgICAgICAgICAgICAgICAgICAgICAiRGF0YSBwb2ludHMgZG8gbm90IGFwcGVhciB0byBiZSBsb2dhcml0aG1pY2FsbHkgc3BhY2VkIGFsb25nIFgtYXhpcyIpCnJvdW5kKGdyYWRpbmdfcmVzdWx0cy5nZXRfcmVzdWx0cygpKjMsIDIp"
    },
    "deletable": false,
    "editable": false,
    "execution": {
     "iopub.execute_input": "2024-06-25T10:15:46.349842Z",
     "iopub.status.busy": "2024-06-25T10:15:46.348999Z",
     "iopub.status.idle": "2024-06-25T10:15:46.359738Z",
     "shell.execute_reply": "2024-06-25T10:15:46.358677Z"
    },
    "nbgrader": {
     "cell_type": "code",
     "checksum": "96ad114b4732f52415529920c0cadad1",
     "grade": true,
     "grade_id": "cell-f75b83a730560c21",
     "locked": true,
     "points": 3,
     "schema_version": 3,
     "solution": false,
     "task": false
    }
   },
   "outputs": [],
   "source": []
  },
  {
   "cell_type": "markdown",
   "id": "b0226575-6284-4e65-80c6-bcd9b7dfc11a",
   "metadata": {},
   "source": [
    "Har du løst deloppgve **b)** riktig skal du sitte igjen med et plot som ser ca. [slik](Figurer/oppg9b_LF.png) ut. Her har vi litt mulighet til å hente ut informasjon om tyngdekraften i starten, men så ser det ut som tyngdekraften er konstant lik $0$ fra ca. $40 \\text{ m}$ og utover. Den beste måten å visualisere funksjonen $F(r)$ på er nok med *både* logaritmisk $x$-akse *og* logaritmisk $y$-akse."
   ]
  },
  {
   "cell_type": "markdown",
   "id": "59a5154d-4a34-427c-8fbb-e08bd3e1910a",
   "metadata": {},
   "source": [
    "<a id=\"oppg_9c\"></a>\n",
    "## c) \n",
    "\n",
    "Lag en figur som plotter tyngdekraften $F$ mellom de objektene som funksjon av avstand $r$ i intervallet $1\\text{ m} \\leq r \\leq 10^6 \\text{ m}$.  Figuren skal ha logaritisk $y$-akse *og* logaritmisk $x$-akse. Figuren bør se ca. [slik](Figurer/oppg9c_LF.png) ut."
   ]
  },
  {
   "cell_type": "code",
   "execution_count": null,
   "id": "c7de523a-9d29-457c-9e26-5fcff36efee0",
   "metadata": {
    "deletable": false,
    "execution": {
     "iopub.execute_input": "2024-06-25T10:15:46.363997Z",
     "iopub.status.busy": "2024-06-25T10:15:46.363730Z",
     "iopub.status.idle": "2024-06-25T10:15:47.270319Z",
     "shell.execute_reply": "2024-06-25T10:15:47.268854Z"
    },
    "nbgrader": {
     "cell_type": "code",
     "checksum": "7f55296a88d4421796256e95677833c7",
     "grade": false,
     "grade_id": "cell-c42cec41aede2ddb",
     "locked": false,
     "schema_version": 3,
     "solution": true,
     "task": false
    }
   },
   "outputs": [],
   "source": [
    "#-------------------------------------\n",
    "# SKRIV DIN KODE HER:\n",
    "#-------------------------------------"
   ]
  },
  {
   "cell_type": "code",
   "execution_count": null,
   "id": "2361dfba-dec8-4acf-992a-34a2e008e6c5",
   "metadata": {
    "autofeedback": {
     "test_code": "ZnJvbSBhdXRvZmVlZGJhY2sgaW1wb3J0IEN1c3RvbVRlc3RzCgpncmFkaW5nX3Jlc3VsdHMgPSBDdXN0b21UZXN0cygpCgp0cnk6CiAgICB5c2NhbGUgPSBmaWcuYXhlc1stMV0uZ2V0X3lzY2FsZSgpCiAgICB4c2NhbGUgPSBmaWcuYXhlc1stMV0uZ2V0X3hzY2FsZSgpCiAgICB4X3ZhbHMgPSBmaWcuYXhlc1stMV0ubGluZXNbLTFdLmdldF94ZGF0YSgpCmV4Y2VwdCBFeGNlcHRpb24gYXMgZToKICAgIGdyYWRpbmdfcmVzdWx0cy5hZGRfcmVzdWx0KCJGYWlsZWQgdG8gYWNxdWlyZSBheGlzIGluZm9ybWF0aW9uIGZvciBwbG90OiAiKyBlLmFyZ3NbMF0pCmVsc2U6CiAgICBncmFkaW5nX3Jlc3VsdHMudGVzdCh5c2NhbGUgPT0gJ2xvZycsCiAgICAgICAgICAgICAgICAgICAgICAgICAiWS1heGlzIHNjYWxlIGlzIGxvZ2FyaXRobWljIiwKICAgICAgICAgICAgICAgICAgICAgICAgIGYiWS1heGlzIGhhcyBzY2FsZSAne3lzY2FsZX0nIGFuZCBub3QgJ2xvZycuIikKICAgIGdyYWRpbmdfcmVzdWx0cy50ZXN0KHhzY2FsZSA9PSAnbG9nJywKICAgICAgICAgICAgICAgICAgICAgICAgICJYLWF4aXMgc2NhbGUgaXMgbG9nYXJpdGhtaWMiLAogICAgICAgICAgICAgICAgICAgICAgICAgZiJYLWF4aXMgaGFzIHNjYWxlICd7eHNjYWxlfScgYW5kIG5vdCAnbG9nJy4iKQogICAgZ3JhZGluZ19yZXN1bHRzLnRlc3QoeF92YWxzW2xlbih4X3ZhbHMpLy8yXSA8PSB4X3ZhbHNbLTFdLzEwLCAKICAgICAgICAgICAgICAgICAgICAgICAgICJEYXRhIHBvaW50cyBhcmUgbG9nYXJpdGhtaWNhbGx5IHNwYWNlZCBhbG9uZyBYLWF4aXMiLAogICAgICAgICAgICAgICAgICAgICAgICAgIkRhdGEgcG9pbnRzIGRvIG5vdCBhcHBlYXIgdG8gYmUgbG9nYXJpdGhtaWNhbGx5IHNwYWNlZCBhbG9uZyBYLWF4aXMiKQpyb3VuZChncmFkaW5nX3Jlc3VsdHMuZ2V0X3Jlc3VsdHMoKSoyLCAyKQ=="
    },
    "deletable": false,
    "editable": false,
    "execution": {
     "iopub.execute_input": "2024-06-25T10:15:47.278282Z",
     "iopub.status.busy": "2024-06-25T10:15:47.277981Z",
     "iopub.status.idle": "2024-06-25T10:15:47.292643Z",
     "shell.execute_reply": "2024-06-25T10:15:47.290933Z"
    },
    "nbgrader": {
     "cell_type": "code",
     "checksum": "fd9111289ae8fe1da7c5fcf42e7a94a6",
     "grade": true,
     "grade_id": "cell-767ca75dbfa263e5",
     "locked": true,
     "points": 2,
     "schema_version": 3,
     "solution": false,
     "task": false
    }
   },
   "outputs": [],
   "source": []
  },
  {
   "cell_type": "markdown",
   "id": "254e8762-a74c-48fa-a429-94c5a77cb311",
   "metadata": {},
   "source": [
    "<a id=\"oppg_9d\"></a>\n",
    "## d)\n",
    "\n",
    "Lag til slutt en ny figur som inneholder alle plottene fra deloppgave **a)**, **b)** og **c)**, såvel som en figur der både x- og y -aksen er lineær. [Her](Figurer/oppg9d_LF.png) er et forslag til hvordan figuren kan se ut.<br>\n",
    "\n",
    "*PS: Ikke bekymre deg alt for mye dersom du ikke får figuren til å se helt lik ut. Dersom du ser at noe av teksten for ett plot overlapper teksten for et annet plot, kan dette fikses ved å kalle funksjonen [`plt.tight_Layout()`](https://matplotlib.org/stable/api/_as_gen/matplotlib.pyplot.tight_layout.html#) helt til slutt.* "
   ]
  },
  {
   "cell_type": "code",
   "execution_count": null,
   "id": "ae0d1189-54ec-4461-a797-736adb693543",
   "metadata": {
    "deletable": false,
    "execution": {
     "iopub.execute_input": "2024-06-25T10:15:47.301009Z",
     "iopub.status.busy": "2024-06-25T10:15:47.300208Z",
     "iopub.status.idle": "2024-06-25T10:15:48.551942Z",
     "shell.execute_reply": "2024-06-25T10:15:48.550842Z"
    },
    "nbgrader": {
     "cell_type": "code",
     "checksum": "ee692484b4fae56b4ad16279f6aa5a8c",
     "grade": false,
     "grade_id": "cell-70f96c5315dc9437",
     "locked": false,
     "schema_version": 3,
     "solution": true,
     "task": false
    }
   },
   "outputs": [],
   "source": [
    "#-------------------------------------\n",
    "# SKRIV DIN KODE HER:\n",
    "#-------------------------------------\n",
    "fig = plt.gcf()"
   ]
  },
  {
   "cell_type": "code",
   "execution_count": null,
   "id": "67318576-8e47-4634-980c-12be45054848",
   "metadata": {
    "autofeedback": {
     "test_code": "ZnJvbSBhdXRvZmVlZGJhY2sgaW1wb3J0IEN1c3RvbVRlc3RzCgpncmFkaW5nX3Jlc3VsdHMgPSBDdXN0b21UZXN0cygpCgp0cnk6CiAgICBheGVzID0gZmlnLmF4ZXMKZXhjZXB0IEV4Y2VwdGlvbiBhcyBlOgogICAgZ3JhZGluZ19yZXN1bHRzLmFkZF9yZXN1bHQoIkZhaWxlZCB0byBhY3F1aXJlIGF4aXMgaW5mb3JtYXRpb24gZm9yIHBsb3Q6ICIrIGUuYXJnc1swXSkKZWxzZToKICAgIGdyYWRpbmdfcmVzdWx0cy50ZXN0KGxlbihheGVzKT09NCwgCiAgICAgICAgICAgICAgICAgICAgICAgICAiRmlndXJlIGhhcyA0IHN1YnBsb3RzIiwKICAgICAgICAgICAgICAgICAgICAgICAgIGYiRmlndXJlIGhhcyB7bGVuKGF4ZXMpfSBzdWJwbG90cyBhbmQgbm90IDQiKQpyb3VuZChncmFkaW5nX3Jlc3VsdHMuZ2V0X3Jlc3VsdHMoKSoyLCAyKQ=="
    },
    "deletable": false,
    "editable": false,
    "execution": {
     "iopub.execute_input": "2024-06-25T10:15:48.559601Z",
     "iopub.status.busy": "2024-06-25T10:15:48.559275Z",
     "iopub.status.idle": "2024-06-25T10:15:48.570359Z",
     "shell.execute_reply": "2024-06-25T10:15:48.569188Z"
    },
    "nbgrader": {
     "cell_type": "code",
     "checksum": "bc127e6656dc27ba5f435ec2a8c4dce9",
     "grade": true,
     "grade_id": "cell-d649add21f46bccf",
     "locked": true,
     "points": 2,
     "schema_version": 3,
     "solution": false,
     "task": false
    }
   },
   "outputs": [],
   "source": []
  },
  {
   "cell_type": "markdown",
   "id": "109a9e1b",
   "metadata": {
    "deletable": false,
    "editable": false
   },
   "source": [
    "<br>\n",
    "<nav class=\"navbar navbar-default\">\n",
    "    <div class=\"container-fluid\">\n",
    "        <div class=\"navbar-header\" style=\"float: left\">\n",
    "            <a class=\"navbar-brand\" href=\"8_Dataanalyse.ipynb\" target=\"_self\">&lt; Forrige side: <i>dataanalyse med python</i></a>\n",
    "            </div>\n",
    "        <div class=\"navbar-header\" style=\"float: right\">\n",
    "            <a class=\"navbar-brand\" href=\"10_spill_en_melodi.ipynb\" target=\"_self\">Neste side: <i>spill en melodi</i> &gt;</a>\n",
    "        </div>\n",
    "    </div>\n",
    "</nav>"
   ]
  }
 ],
 "metadata": {
  "kernelspec": {
   "display_name": "Python 3 (ipykernel)",
   "language": "python",
   "name": "python3"
  },
  "language_info": {
   "codemirror_mode": {
    "name": "ipython",
    "version": 3
   },
   "file_extension": ".py",
   "mimetype": "text/x-python",
   "name": "python",
   "nbconvert_exporter": "python",
   "pygments_lexer": "ipython3",
   "version": "3.11.6"
  }
 },
 "nbformat": 4,
 "nbformat_minor": 5
}
