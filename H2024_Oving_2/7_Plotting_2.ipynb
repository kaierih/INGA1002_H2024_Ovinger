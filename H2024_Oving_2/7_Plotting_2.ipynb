{
 "cells": [
  {
   "cell_type": "markdown",
   "id": "41bc0367",
   "metadata": {
    "deletable": false,
    "editable": false
   },
   "source": [
    "\n",
    "<nav class=\"navbar navbar-default\">\n",
    "  <div class=\"container-fluid\">\n",
    "    <div class=\"navbar-header\" style=\"float: left\">\n",
    "        <a class=\"navbar-brand\" href=\"0_Forside.ipynb\" target=\"_self\"> <h2> &uarr; Tilbake til forsiden</h2></a>\n",
    "    </div>\n",
    "  </div>\n",
    "</nav>"
   ]
  },
  {
   "cell_type": "markdown",
   "id": "44033e93-5c00-4888-85d7-760dc0ba3c4c",
   "metadata": {
    "deletable": false,
    "editable": false
   },
   "source": [
    "# Styling av figurer i matplotlib\n",
    "\n",
    "**Læringsmål:**\n",
    "* Bli kjent med valg av farge/linjestil o.l. for grafer\n",
    "* Lære å merke kurver i figurer med flere grafer\n",
    "\n",
    "**Oversikt:**\n",
    "* [Oppgave a) valg av farge](#oppg_7a)\n",
    "* [Oppgave b) valg av linjestil](#oppg_7b)\n",
    "* [Oppgave c) valg av punktmarkør](#oppg_7c)\n",
    "* [Oppgave d) merkelapper](#oppg_7d)\n",
    "\n",
    "## Om valgfrie parametere og plot()-funksjonen\n",
    "\n",
    "En ting som er kjekt å kunne før vi går videre er *valgfrie parametre*. Dette blir ofte brukt i store funksjoner som har potensiale til gjøre mye forskjellig. Da ønsker man gjerne å ha mye fleksibilitet, men ønsker kanskje ikke måtte skrive ned hva man ønsker på alle de ulike innstillingene. Da bruker man parameter som har en `default` verdi.\n",
    "\n",
    "For å lage en slik funksjon skriver man ned hva default verdien er i funksjons *deklarasjon*. Deretter når man skal bruke funksjonen kan man velge hvor mange paramter man ønsker å endre på. Du trenger ikke full forståelse av dette, men må vite at det går an. Se på kodecellen under for et eksempel før du går videre.\n"
   ]
  },
  {
   "cell_type": "code",
   "execution_count": null,
   "id": "c8203940-ce09-4bf1-b043-851788ec7fc0",
   "metadata": {
    "deletable": false,
    "execution": {
     "iopub.execute_input": "2024-08-21T13:16:06.744545Z",
     "iopub.status.busy": "2024-08-21T13:16:06.741269Z",
     "iopub.status.idle": "2024-08-21T13:16:06.768980Z",
     "shell.execute_reply": "2024-08-21T13:16:06.766390Z"
    }
   },
   "outputs": [],
   "source": [
    "def optional_function(arg0 = 5, arg1 = 10, arg2 = 15):\n",
    "    print(f\"{arg0 = } | {arg1 = } | {arg2 = }\")\n",
    "\n",
    "optional_function()\n",
    "optional_function(1, 2, 3)\n",
    "optional_function(1, arg2 = 5)\n",
    "optional_function(arg1 = 7)"
   ]
  },
  {
   "cell_type": "markdown",
   "id": "e28fad67-1a34-4bb7-82a2-e690ec87ea0d",
   "metadata": {
    "deletable": false,
    "editable": false
   },
   "source": [
    "Mange funksjoner vi bruker i Python har slike optional-parametre, og `plot()`-funksjonen til matplotlib er en slik funksjon. For å gi kurven vi skal plotte et spesielt utseende, kan vil legge til en *formateringsstreng* med en rekke nøkkelsymbol som et tredje argument i `plot()`-funksjonen. For eksempel så vil følgende kommando plotte kurven gitt ved punktene i `x` og `y` som en prikkete linje med blå farge: \n",
    "\n",
    "\n",
    "```Python\n",
    "plt.plot(x, y, ':b') # Tegn kurven som en prikkete blå linje\n",
    "```\n",
    "\n",
    "Vi skal nå se på ulike \"ekstra-instrukser\" vi kan gi denne funksjonen for å pynte på grafen vår.\n",
    "\n",
    "### Farge\n",
    "Farge er relativt intuitivt å forholde seg til, ihvertfall når man holder seg til basisfargene gitt i tabellen under. Da kan man angi en farge ved å inkludere én enkelt bokstav i formateringsstrengen.\n",
    "\n",
    "| Bokstav | Farge |\n",
    "|---|---|\n",
    "|`'b'` | Blå |\n",
    "|`'g'` | Grønn |\n",
    "|`'r'` | Rød\n",
    "|`'c'` | Lyseblå (Cyan)|\n",
    "|`'m'` | Lilla (Magenta)|\n",
    "|`'y'` | Gul|\n",
    "|`'k'` | Svart |\n",
    "|`'w'`| Hvit |\n",
    "\n",
    "Du kan lese mer om fargene som er tilgjengelig [her](https://matplotlib.org/stable/users/explain/colors/colors.html#colors-def).\n",
    "<!--\n",
    "### Pynting\n",
    "\n",
    "Det finnes mange måter å gjøre grafer i matplotlib penere på. Eksperimenter med å kopiere inn linjene under inn i kodecellen. Legg inn en om gangen under `# Legg inn ekstra her`\n",
    "\n",
    "```python\n",
    "plt.title(\"Insert tittel\")\n",
    "plt.xlabel(\"Xlabel\")\n",
    "plt.xscale(\"log\")\n",
    "plt.legend()\n",
    "plt.grid()\n",
    "```\n",
    "-->"
   ]
  },
  {
   "cell_type": "markdown",
   "id": "b5b2886e-08f9-4816-89f8-d538a9bf2ee2",
   "metadata": {
    "deletable": false,
    "editable": false
   },
   "source": [
    "<a id=\"oppg_7a\"></a>\n",
    "## a) \n",
    "Gitt funksjonen $f(x) = \\sin(x)$, lag et plot som viser kurven til $f(x)$ i intervallet $0\\leq x \\leq 10$ der fargen på kurven er **svart**."
   ]
  },
  {
   "cell_type": "code",
   "execution_count": null,
   "id": "cb2610e3-db9e-4c74-a4c0-b0f2c96fadea",
   "metadata": {
    "autofeedback": {
     "plot_task": true
    },
    "deletable": false,
    "execution": {
     "iopub.execute_input": "2024-08-21T13:16:06.779436Z",
     "iopub.status.busy": "2024-08-21T13:16:06.778596Z",
     "iopub.status.idle": "2024-08-21T13:16:07.844881Z",
     "shell.execute_reply": "2024-08-21T13:16:07.842319Z"
    },
    "nbgrader": {
     "cell_type": "code",
     "checksum": "83111c4c56dce5ee64298c460ece3961",
     "grade": false,
     "grade_id": "cell-8f1a676135d22b5b",
     "locked": false,
     "schema_version": 3,
     "solution": true,
     "task": false
    }
   },
   "outputs": [],
   "source": [
    "#-------------------------------------\n",
    "# SKRIV DIN KODE HER!\n",
    "#-------------------------------------"
   ]
  },
  {
   "cell_type": "markdown",
   "id": "dea8e567-936e-493a-8fd3-def41bc72797",
   "metadata": {
    "deletable": false,
    "editable": false
   },
   "source": [
    "Har du løst oppgaven riktig skal du se en figur som ser noe [slik](Figurer/oppg7a_LF.png) ut. "
   ]
  },
  {
   "cell_type": "code",
   "execution_count": null,
   "id": "71415899-b1c8-4099-8b37-f25217a00f0c",
   "metadata": {
    "autofeedback": {
     "test_code": "ZnJvbSBhdXRvZmVlZGJhY2sgaW1wb3J0IEN1c3RvbVRlc3RzCgpncmFkaW5nX3Jlc3VsdHMgPSBDdXN0b21UZXN0cygpCgp0cnk6CiAgICBjdXJ2ZV9jb2xvciA9IGZpZy5heGVzWy0xXS5saW5lc1stMV0uZ2V0X2NvbG9yKCkKICAgIGJsYWNrX2N1cnZlID0gY3VydmVfY29sb3IgPT0gKDAuMCwgMC4wLCAwLjAsIDEuMCkKZXhjZXB0IEV4Y2VwdGlvbiBhcyBlOgogICAgZ3JhZGluZ19yZXN1bHRzLmFkZF9yZXN1bHQoRmFsc2UsICJDb3VsZCBub3QgZXh0cmFjdCBwbG90IGNvbG9yIGluZm9ybWF0aW9uIGZvciBwbG90OiAiKyBlLmFyZ3NbMF0pCmVsc2U6CiAgICBncmFkaW5nX3Jlc3VsdHMudGVzdChibGFja19jdXJ2ZSwKICAgICAgICAgICAgICAgICAgICAgICAgICJQbG90IGN1cnZlIGlzIGJsYWNrIiwKICAgICAgICAgICAgICAgICAgICAgICAgIGYiQ3VydmUgY29sb3Ige2N1cnZlX2NvbG9yfSBpcyBpbmNvcnJlY3QsIGV4cGVjdGVkICMwMDAwMDAuIikKcm91bmQoZ3JhZGluZ19yZXN1bHRzLmdldF9yZXN1bHRzKCkqMiwgMik="
    },
    "deletable": false,
    "editable": false,
    "execution": {
     "iopub.execute_input": "2024-08-21T13:16:07.859134Z",
     "iopub.status.busy": "2024-08-21T13:16:07.858619Z",
     "iopub.status.idle": "2024-08-21T13:16:09.678209Z",
     "shell.execute_reply": "2024-08-21T13:16:09.675148Z"
    },
    "nbgrader": {
     "cell_type": "code",
     "checksum": "3b749b868beb44cab8b0b66af6f6452d",
     "grade": true,
     "grade_id": "cell-6be63cba3f09af5d",
     "locked": true,
     "points": 2,
     "schema_version": 3,
     "solution": false,
     "task": false
    }
   },
   "outputs": [],
   "source": []
  },
  {
   "cell_type": "markdown",
   "id": "a016e906-8e47-42b2-a59c-41bb1e78db50",
   "metadata": {
    "deletable": false,
    "editable": false
   },
   "source": [
    "### Linjestil \n",
    "\n",
    "Man kan også endre linjestilen til grafene i matplotlib. \n",
    "\n",
    "Når man plotter bruker man argumentet `ls` for linjestil, og `color` for farge\n",
    "\n",
    "Når man bruker `ls` kan man velge mellom 4 alternativer\n",
    "\n",
    "|Symboler| Linjestil|\n",
    "| --- | --- |\n",
    "|`'-'`| Én kontinuerlig linje |\n",
    "|`':'`| Prikkete linje|\n",
    "|`'--'`| Strekete linje |\n",
    "|`'-.'`| Streker og prikker |\n",
    "\n"
   ]
  },
  {
   "cell_type": "markdown",
   "id": "7bda7ca0-e6d8-4c65-ac2d-7f352f29e706",
   "metadata": {
    "deletable": false,
    "editable": false
   },
   "source": [
    "<a id=\"oppg_7b\"></a>\n",
    "## b) \n",
    "Gitt funksjonen $g(x) = \\cos(x)$, lag et plot som viser kurven til $f(x)$ i intervallet $0\\leq x \\leq 10$ der linjestilen er en prikkete linje."
   ]
  },
  {
   "cell_type": "code",
   "execution_count": null,
   "id": "0d1c0e10-9362-4d1a-a5f9-ef7f5607a3cf",
   "metadata": {
    "autofeedback": {
     "plot_task": true
    },
    "deletable": false,
    "execution": {
     "iopub.execute_input": "2024-08-21T13:16:09.687220Z",
     "iopub.status.busy": "2024-08-21T13:16:09.686561Z",
     "iopub.status.idle": "2024-08-21T13:16:10.041642Z",
     "shell.execute_reply": "2024-08-21T13:16:10.038759Z"
    },
    "nbgrader": {
     "cell_type": "code",
     "checksum": "d7a9514fb4a8158b267046b2b4e5fc33",
     "grade": false,
     "grade_id": "cell-c5c0807a8c2de637",
     "locked": false,
     "schema_version": 3,
     "solution": true,
     "task": false
    }
   },
   "outputs": [],
   "source": [
    "#-------------------------------------\n",
    "# SKRIV DIN KODE HER!\n",
    "#-------------------------------------"
   ]
  },
  {
   "cell_type": "markdown",
   "id": "b32c4e5e-0bd8-4b9b-b52f-75a460967abc",
   "metadata": {
    "deletable": false,
    "editable": false
   },
   "source": [
    "Har du løst oppgaven riktig skal du se en figur som ser noe [slik](Figurer/oppg7b_LF.png) ut. "
   ]
  },
  {
   "cell_type": "code",
   "execution_count": null,
   "id": "67dec232-e3f1-4a5b-8cd5-d4111c513ab9",
   "metadata": {
    "autofeedback": {
     "test_code": "ZnJvbSBhdXRvZmVlZGJhY2sgaW1wb3J0IEN1c3RvbVRlc3RzCgpncmFkaW5nX3Jlc3VsdHMgPSBDdXN0b21UZXN0cygpCgp0cnk6CiAgICBsaW5lc3R5bGUgPSBmaWcuYXhlc1stMV0ubGluZXNbLTFdLmdldF9saW5lc3R5bGUoKQogICAgZG90dGVkX2N1cnZlID0gbGluZXN0eWxlID09ICI6IgpleGNlcHQgRXhjZXB0aW9uIGFzIGU6CiAgICBncmFkaW5nX3Jlc3VsdHMuYWRkX3Jlc3VsdChGYWxzZSwgIkNvdWxkIG5vdCBleHRyYWN0IGxpbmVzdHlsZSBpbmZvcm1hdGlvbiBmb3IgcGxvdDogIisgZS5hcmdzWzBdKQplbHNlOgogICAgZ3JhZGluZ19yZXN1bHRzLnRlc3QoZG90dGVkX2N1cnZlLAogICAgICAgICAgICAgICAgICAgICAgICAgIlBsb3QgbGluZXN0eWxlIGlzIGRvdHRlZCIsCiAgICAgICAgICAgICAgICAgICAgICAgICBmIkluY29ycmVjdCBsaW5lc3R5bGUgJ3tsaW5lc3R5bGV9JywgZXhwZWN0ZWQgJzonIikKcm91bmQoZ3JhZGluZ19yZXN1bHRzLmdldF9yZXN1bHRzKCkqMiwgMik="
    },
    "deletable": false,
    "editable": false,
    "execution": {
     "iopub.execute_input": "2024-08-21T13:16:10.057031Z",
     "iopub.status.busy": "2024-08-21T13:16:10.056648Z",
     "iopub.status.idle": "2024-08-21T13:16:10.075586Z",
     "shell.execute_reply": "2024-08-21T13:16:10.072717Z"
    },
    "nbgrader": {
     "cell_type": "code",
     "checksum": "d7e9be9e0dedc0ae7315e938767b85e6",
     "grade": true,
     "grade_id": "cell-64655a9074e707d6",
     "locked": true,
     "points": 2,
     "schema_version": 3,
     "solution": false,
     "task": false
    }
   },
   "outputs": [],
   "source": []
  },
  {
   "cell_type": "markdown",
   "id": "35365eee-40d7-4c5a-8222-2dfe9d4e85cd",
   "metadata": {
    "deletable": false,
    "editable": false
   },
   "source": [
    "### Punktmarkører\n",
    "\n",
    "Av og til kan det være nyttig å markere punktene som man tenger en kurve gjennom. Da kan man legge til et symbol i formateringsstrengen som oppgir hvordan de ulike punktene skal markeres. Det er veldig mange mulige det går an å velge mellom, men her er et utvalg:\n",
    "\n",
    "|Symbol | Punktmarkør |\n",
    "| --- | --- |\n",
    "|`'o'`| Sirkel $\\circ$|\n",
    "|`'v'`| Trekant $\\triangledown$ | \n",
    "|`'d'`| Diamant $\\diamond$|\n",
    "|`'+'`| Kryss $+$ |"
   ]
  },
  {
   "cell_type": "markdown",
   "id": "e4d71487-c525-45b9-99da-3e52d146dd27",
   "metadata": {
    "deletable": false,
    "editable": false
   },
   "source": [
    "<a id=\"oppg_7c\"></a>\n",
    "## c)\n",
    "\n",
    "Et sett med $x$- og $y$-korrdinater er gitt i en tabell:\n",
    "\n",
    "|$$x$$||$$\\frac{\\pi}{4}$$|$$\\frac{5\\pi}{4}$$|$$\\frac{9\\pi}{4}$$|\n",
    "|---|---|---|---|---|\n",
    "|$$y$$||$$\\frac{1}{\\sqrt{2}}$$|$$-\\frac{1}{\\sqrt{2}}$$|$$\\frac{1}{\\sqrt{2}}$$|\n",
    "\n",
    "Lag et plot som markerer de tre punktene med diamantsymbol"
   ]
  },
  {
   "cell_type": "code",
   "execution_count": null,
   "id": "0a0420ad-c956-4983-ad6c-e2dc6430b7d5",
   "metadata": {
    "autofeedback": {
     "plot_task": true
    },
    "deletable": false,
    "execution": {
     "iopub.execute_input": "2024-08-21T13:16:10.085830Z",
     "iopub.status.busy": "2024-08-21T13:16:10.085319Z",
     "iopub.status.idle": "2024-08-21T13:16:10.456052Z",
     "shell.execute_reply": "2024-08-21T13:16:10.453753Z"
    },
    "nbgrader": {
     "cell_type": "code",
     "checksum": "eb3bb2c544e2f8aca0263c3999770a1a",
     "grade": false,
     "grade_id": "cell-e638aec5a8865f94",
     "locked": false,
     "schema_version": 3,
     "solution": true,
     "task": false
    }
   },
   "outputs": [],
   "source": [
    "#-------------------------------------\n",
    "# SKRIV DIN KODE HER!\n",
    "#-------------------------------------"
   ]
  },
  {
   "cell_type": "markdown",
   "id": "b26d93b0-a3e8-4e2a-8e09-8a520805550b",
   "metadata": {
    "deletable": false,
    "editable": false
   },
   "source": [
    "Har du løst oppgaven riktig skal du se en figur som ser noe [slik](Figurer/oppg7c_LF.png) ut. "
   ]
  },
  {
   "cell_type": "code",
   "execution_count": null,
   "id": "e0bebbb7-7c6a-40d8-b47a-dd292fb7d522",
   "metadata": {
    "autofeedback": {
     "test_code": "ZnJvbSBhdXRvZmVlZGJhY2sgaW1wb3J0IEN1c3RvbVRlc3RzCgpncmFkaW5nX3Jlc3VsdHMgPSBDdXN0b21UZXN0cygpCgp0cnk6CiAgICBtYXJrZXJzdHlsZSA9IGZpZy5heGVzWy0xXS5saW5lc1stMV0uZ2V0X21hcmtlcigpCiAgICBkb3R0ZWRfY3VydmUgPSBtYXJrZXJzdHlsZSA9PSAiZCIKICAgIHBvaW50cyA9IGxlbihmaWcuYXhlc1stMV0ubGluZXNbLTFdLmdldF94ZGF0YSgpKQogICAgY29ycmVjdF9sZW5ndGggPSBwb2ludHMgPT0gMwpleGNlcHQgRXhjZXB0aW9uIGFzIGU6CiAgICBncmFkaW5nX3Jlc3VsdHMuYWRkX3Jlc3VsdChGYWxzZSwgIkNvdWxkIG5vdCBleHRyYWN0IG1hcmtlciBzdHlsZSBpbmZvcm1hdGlvbiBmb3IgcGxvdDogIisgZS5hcmdzWzBdKQplbHNlOgogICAgZ3JhZGluZ19yZXN1bHRzLnRlc3QoZG90dGVkX2N1cnZlLAogICAgICAgICAgICAgICAgICAgICAgICAgIlBsb3QgbWFya2VyIHN0eWxlIGlzIGRpYW1vbmQiLAogICAgICAgICAgICAgICAgICAgICAgICAgZiJMaW5lc3R5bGUgaXMgJ3ttYXJrZXJzdHlsZX0nIGlzIGluY29ycmVjdCwgZXhwZWN0ZWQgJ2QnIikKICAgIGdyYWRpbmdfcmVzdWx0cy50ZXN0KGNvcnJlY3RfbGVuZ3RoLAogICAgICAgICAgICAgICAgICAgICAgICAgciIzIHBvaW50cyBtYXJrZWQgaW4gdGhlIHgveSBwbGFuZSIsCiAgICAgICAgICAgICAgICAgICAgICAgICByIkV4cGVjdGVkIDMgbWFya2VkIHBvaW50cyBpbiB0aGUgeC95IHBsYW5lLCBwbG90IGhhcyAlZCBwb2ludHMiJShwb2ludHMpKQoKcm91bmQoZ3JhZGluZ19yZXN1bHRzLmdldF9yZXN1bHRzKCkqMywgMik="
    },
    "deletable": false,
    "editable": false,
    "execution": {
     "iopub.execute_input": "2024-08-21T13:16:10.464969Z",
     "iopub.status.busy": "2024-08-21T13:16:10.464498Z",
     "iopub.status.idle": "2024-08-21T13:16:10.482805Z",
     "shell.execute_reply": "2024-08-21T13:16:10.480723Z"
    },
    "nbgrader": {
     "cell_type": "code",
     "checksum": "fcda12027c0802078b200cc68ab6d32b",
     "grade": true,
     "grade_id": "cell-abdf484e518f99ae",
     "locked": true,
     "points": 3,
     "schema_version": 3,
     "solution": false,
     "task": false
    }
   },
   "outputs": [],
   "source": []
  },
  {
   "cell_type": "markdown",
   "id": "4fbcbdf9-ff1e-4e04-99e1-e73896d482ea",
   "metadata": {
    "deletable": false,
    "editable": false
   },
   "source": [
    "### Merkelapper\n",
    "\n",
    "Med flere kurver i samme figur kan det være nyttig med en merkelapp for å differensiere mellom kurvene. Dette gjøres i to steg:\n",
    "1. Angi teksten i en merkelapp ved å bruke optional parameter `label`\n",
    "2. La merkelappene vises i plottet ved å kalle funksjonen [`plt.legend()`](https://matplotlib.org/stable/api/_as_gen/matplotlib.pyplot.legend.html)\n",
    "    * PS: Det er også mulig å spesifisere hvorf merkelappene skal vises ved skrive posisjonen som et optional argument til funksjonen `plt.legend()`. Eksempel: `plt.legend(loc=\"upper center\")`\n",
    "\n",
    "**Eksempel:**"
   ]
  },
  {
   "cell_type": "code",
   "execution_count": null,
   "id": "e407e1d4-0625-4cdf-b35a-59dec84e4436",
   "metadata": {
    "deletable": false,
    "execution": {
     "iopub.execute_input": "2024-08-21T13:16:10.491033Z",
     "iopub.status.busy": "2024-08-21T13:16:10.490636Z",
     "iopub.status.idle": "2024-08-21T13:16:10.894889Z",
     "shell.execute_reply": "2024-08-21T13:16:10.891314Z"
    }
   },
   "outputs": [],
   "source": [
    "x = np.linspace(-3, 3)\n",
    "y1 = x**2\n",
    "y2 = 0.2*x**3\n",
    "plt.plot(y1, label=\"f(x) = x^2\")\n",
    "plt.plot(y2, label=\"f(x) = 0.2*x^3\")\n",
    "plt.legend()"
   ]
  },
  {
   "cell_type": "markdown",
   "id": "0a99ce2a-5e0d-4b56-b694-9deb3e59e9cf",
   "metadata": {
    "deletable": false,
    "editable": false
   },
   "source": [
    "<a id=\"oppg_7d\"></a>\n",
    "## d)\n",
    "Lag et plot som viser kurven til $f(x)$ fra deloppgave **a)** og $g(x)$ fra deloppgave **b)** i tillegg til punktene i deloppgave **c)**. Kurvene skal merkes med forklarende merkelapper.<br>\n",
    "*Til info: punktene fra deloppgave **c** skal markere krysningspunktene til funksjonene $f(x)$ og $g(x)$.*"
   ]
  },
  {
   "cell_type": "code",
   "execution_count": null,
   "id": "bcd8df60-d41a-4a70-ba19-296aa5e76be7",
   "metadata": {
    "autofeedback": {
     "plot_task": true
    },
    "deletable": false,
    "execution": {
     "iopub.execute_input": "2024-08-21T13:16:10.906574Z",
     "iopub.status.busy": "2024-08-21T13:16:10.905428Z",
     "iopub.status.idle": "2024-08-21T13:16:11.389248Z",
     "shell.execute_reply": "2024-08-21T13:16:11.386695Z"
    },
    "nbgrader": {
     "cell_type": "code",
     "checksum": "8d72648fb6a21ce50b0c135184f66fad",
     "grade": false,
     "grade_id": "cell-364370c100e8eba7",
     "locked": false,
     "schema_version": 3,
     "solution": true,
     "task": false
    }
   },
   "outputs": [],
   "source": [
    "#-------------------------------------\n",
    "# SKRIV DIN KODE HER!\n",
    "#-------------------------------------"
   ]
  },
  {
   "cell_type": "markdown",
   "id": "68da4674-fab3-4b4c-adc3-d424426eef5b",
   "metadata": {
    "deletable": false,
    "editable": false
   },
   "source": [
    "Har du løst oppgaven riktig skal du se en figur som ser noe [slik](Figurer/oppg7d_LF.png) ut. "
   ]
  },
  {
   "cell_type": "code",
   "execution_count": null,
   "id": "6ee31a9a-aa87-4db0-9978-f3236b2cc9f2",
   "metadata": {
    "autofeedback": {
     "test_code": "ZnJvbSBhdXRvZmVlZGJhY2sgaW1wb3J0IEN1c3RvbVRlc3RzCmltcG9ydCByZQoKZ3JhZGluZ19yZXN1bHRzID0gQ3VzdG9tVGVzdHMoKQoKdHJ5OgogICAgbGluZXMgPSBmaWcuYXhlc1stMV0ubGluZXMKICAgIG5fb2ZfbGluZXMgPSBsZW4obGluZXMpCiAgICBoYXNfbGVnZW5kID0gZmlnLmF4ZXNbLTFdLmdldF9sZWdlbmQoKSBpcyBub3QgTm9uZQogICAgcGxvdHNfd2l0aF9sYWJlbCA9IHN1bShbcmUuc2VhcmNoKHIiX2NoaWxkXGQiLCB4LmdldF9sYWJlbCgpKSBpcyBOb25lIGZvciB4IGluIGxpbmVzXSkKZXhjZXB0IEV4Y2VwdGlvbiBhcyBlOgogICAgZ3JhZGluZ19yZXN1bHRzLmFkZF9yZXN1bHQoRmFsc2UsICJDb3VsZCBub3QgZXh0cmFjdCBsYWJlbCBpbmZvcm1hdGlvbiBmb3IgcGxvdDogIisgZS5hcmdzWzBdKQplbHNlOgogICAgZ3JhZGluZ19yZXN1bHRzLnRlc3Qobl9vZl9saW5lcyA9PSAzLAogICAgICAgICAgICAgICAgICAgICAgICAgIjMgZGF0YXNldHMgcGxvdHRlZCBpbiBmaWd1cmUiLAogICAgICAgICAgICAgICAgICAgICAgICAgZiJGaWd1cmUgY29udGFpbnMgcGxvdHMgZm9yIHtuX29mX2xpbmVzfSBkYXRhc2V0cyBhbmQgbm90IDMiKQogICAgZ3JhZGluZ19yZXN1bHRzLnRlc3QoaGFzX2xlZ2VuZCwKICAgICAgICAgICAgICAgICAgICAgICAgICJMZWdlbmQgZGV0ZWN0ZWQgaW4gZmlndXJlIiwKICAgICAgICAgICAgICAgICAgICAgICAgICJObyBsZWdlbmQgZm91bmQgaW4gZmlndXJlIiwKICAgICAgICAgICAgICAgICAgICAgICAgIHdndD0yKQogICAgZ3JhZGluZ19yZXN1bHRzLnRlc3QocGxvdHNfd2l0aF9sYWJlbCA9PSAzLCAKICAgICAgICAgICAgICAgICAgICAgICAgICIzIGxhYmVsZWQgcGxvdHMgaW4gcGljdHVyZSIsIAogICAgICAgICAgICAgICAgICAgICAgICAgZiJGaWd1cmUgY29udGFpbnMgbGFiZWxzIGZvciB7cGxvdHNfd2l0aF9sYWJlbH0gZGF0YXNldHMgYW5kIG5vdCAzIiwKICAgICAgICAgICAgICAgICAgICAgICAgIHdndD02KQoKcm91bmQoZ3JhZGluZ19yZXN1bHRzLmdldF9yZXN1bHRzKCkqMywgMik="
    },
    "deletable": false,
    "editable": false,
    "execution": {
     "iopub.execute_input": "2024-08-21T13:16:11.398125Z",
     "iopub.status.busy": "2024-08-21T13:16:11.397741Z",
     "iopub.status.idle": "2024-08-21T13:16:11.410977Z",
     "shell.execute_reply": "2024-08-21T13:16:11.410050Z"
    },
    "nbgrader": {
     "cell_type": "code",
     "checksum": "b8f2343b7e7309cdd8b6e83d71e2c3bd",
     "grade": true,
     "grade_id": "cell-42c0d3c97f8c9312",
     "locked": true,
     "points": 3,
     "schema_version": 3,
     "solution": false,
     "task": false
    }
   },
   "outputs": [],
   "source": []
  },
  {
   "cell_type": "markdown",
   "id": "4dc4e095-536a-416b-a8ef-799157872950",
   "metadata": {
    "deletable": false,
    "editable": false
   },
   "source": [
    "[**For mer informasjon om plotting kan denne tutorialen være nyttig!**](https://matplotlib.org/stable/tutorials/pyplot.html)"
   ]
  },
  {
   "cell_type": "markdown",
   "id": "797174ea",
   "metadata": {
    "deletable": false,
    "editable": false
   },
   "source": [
    "<br>\n",
    "<nav class=\"navbar navbar-default\">\n",
    "    <div class=\"container-fluid\">\n",
    "        <div class=\"navbar-header\" style=\"float: left\">\n",
    "            <a class=\"navbar-brand\" href=\"6_Plotting_1.ipynb\" target=\"_self\">&lt; Forrige side: <i>plotting intro</i></a>\n",
    "            </div>\n",
    "        <div class=\"navbar-header\" style=\"float: right\">\n",
    "            <a class=\"navbar-brand\" href=\"8_Dataanalyse.ipynb\" target=\"_self\">Neste side: <i>dataanalyse med python</i> &gt;</a>\n",
    "        </div>\n",
    "    </div>\n",
    "</nav>"
   ]
  }
 ],
 "metadata": {
  "kernelspec": {
   "display_name": "Python 3 (ipykernel)",
   "language": "python",
   "name": "python3"
  },
  "language_info": {
   "codemirror_mode": {
    "name": "ipython",
    "version": 3
   },
   "file_extension": ".py",
   "mimetype": "text/x-python",
   "name": "python",
   "nbconvert_exporter": "python",
   "pygments_lexer": "ipython3",
   "version": "3.11.6"
  }
 },
 "nbformat": 4,
 "nbformat_minor": 5
}
