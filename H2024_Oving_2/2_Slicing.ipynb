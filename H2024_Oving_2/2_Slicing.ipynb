{
 "cells": [
  {
   "cell_type": "markdown",
   "id": "21b0336a",
   "metadata": {
    "deletable": false,
    "editable": false
   },
   "source": [
    "\n",
    "<nav class=\"navbar navbar-default\">\n",
    "  <div class=\"container-fluid\">\n",
    "    <div class=\"navbar-header\" style=\"float: left\">\n",
    "        <a class=\"navbar-brand\" href=\"0_Forside.ipynb\" target=\"_self\"> <h2> &uarr; Tilbake til forsiden</h2></a>\n",
    "    </div>\n",
    "  </div>\n",
    "</nav>"
   ]
  },
  {
   "cell_type": "markdown",
   "id": "b1c9a759-3057-4e0d-aa27-9a6635f6021e",
   "metadata": {},
   "source": [
    "# Slicing av lister\n",
    "\n",
    "**Læringsmål:**\n",
    "\n",
    "* Håndtering av utklipp(slices) av lister\n",
    "\n",
    "**Oversikt:**\n",
    "* [Oppgave a) grunnleggende slicing](#oppg_2a)\n",
    "* [Oppgave b) slicing med steg](#oppg_2b)\n",
    "* [Oppgave c) baklengs slicing](#oppg_2c)\n"
   ]
  },
  {
   "cell_type": "markdown",
   "id": "2212b55d-6760-4c1b-a093-3129728f746c",
   "metadata": {},
   "source": [
    "La oss si at vi har en liste med 5 elementer"
   ]
  },
  {
   "cell_type": "code",
   "execution_count": 1,
   "id": "4546d701-3761-4263-a787-eec3f67b0e78",
   "metadata": {},
   "outputs": [],
   "source": [
    "bokstaver = ['a', 'b', 'c', 'd', 'e']"
   ]
  },
  {
   "cell_type": "markdown",
   "id": "8c22b964-2733-438e-80f6-3262fb566fd1",
   "metadata": {},
   "source": [
    "Hva om vi nå ønsker en ny liste, med bare de første 3 elementene? Dette kan gjøres med slicing."
   ]
  },
  {
   "cell_type": "code",
   "execution_count": 2,
   "id": "2437c57d-cbd5-4403-af8c-c2512c7f1344",
   "metadata": {},
   "outputs": [
    {
     "name": "stdout",
     "output_type": "stream",
     "text": [
      "['a', 'b', 'c']\n"
     ]
    }
   ],
   "source": [
    "abc = bokstaver[0:3]\n",
    "print(abc)"
   ]
  },
  {
   "cell_type": "markdown",
   "id": "4b1f8825-ee6b-43e6-90b0-bf3661330342",
   "metadata": {},
   "source": [
    "Her sier vi til python at vi ønsker elementene fra index 0, opp til (men ikke med) indeks 3.\n",
    "\n",
    "En generell formel for slicing er:\n",
    "\n",
    "nyListe = liste[start:slutt]\n",
    "\n",
    "hvor start er indeksen til det første tallet du ønsker å ha med, og slutt er indeksen+1 til det siste tallet du ønsker å ha med. Altså er den formelen skrevet som \"fra og med\" start og \"til, men ikke med\" slutt. Dersom man ikke skriver noe på start som i eksempelet over, vil programmet anta at du mener fra starten av listen, og dersom du ikke skriver noe på slutt vil programmet anta at du mener frem til listen er ferdig."
   ]
  },
  {
   "cell_type": "code",
   "execution_count": 3,
   "id": "5337d002-2e35-4ee4-8298-aff8cf6bc809",
   "metadata": {},
   "outputs": [
    {
     "name": "stdout",
     "output_type": "stream",
     "text": [
      "['a', 'b', 'c']\n"
     ]
    }
   ],
   "source": [
    "abc_2 = bokstaver[:3]\n",
    "print(abc_2)"
   ]
  },
  {
   "cell_type": "code",
   "execution_count": 4,
   "id": "118e9268-bbd5-475f-a6a6-22dee22cdfc9",
   "metadata": {
    "editable": true,
    "nbgrader": {
     "grade": true,
     "grade_id": "cell-e3a06ebb14096592",
     "locked": true,
     "points": 0,
     "schema_version": 3,
     "solution": false,
     "task": false
    },
    "slideshow": {
     "slide_type": ""
    },
    "tags": []
   },
   "outputs": [],
   "source": [
    "tall_navn = [\"null\", \"en\", \"to\", \"tre\", \"fire\", \"fem\"]\n",
    "### BEGIN HIDDEN TESTS\n",
    "tall_navn = [\"seks\", \"sju\", \"åtte\", \"ni\", \"ti\", \"elleve\"]\n",
    "### END HIDDEN TESTS"
   ]
  },
  {
   "cell_type": "markdown",
   "id": "f0da0628-c86c-44c1-aeb1-c50cd02b6ad9",
   "metadata": {
    "deletable": false,
    "run_control": {
     "frozen": true
    }
   },
   "source": [
    "<a id=\"oppg_2a\"></a>\n",
    "# a)"
   ]
  },
  {
   "cell_type": "markdown",
   "id": "09184826-f4bc-4fd4-8dc9-f4fba8863954",
   "metadata": {
    "editable": true,
    "slideshow": {
     "slide_type": ""
    },
    "tags": []
   },
   "source": [
    "Ovenfor er det definert en liste med navn på tallene $0$ til $5$.\n",
    "Lag en ny liste **ny_liste** som skal inneholde de tre siste elementene i **tall_navn**. Husk at du *kun* skal løse oppgaven ved å gjøre modifikasjoner til den eksisterende listen **tall_navn**.\n",
    "\n",
    "***Skriv koden din i boksen under.***"
   ]
  },
  {
   "cell_type": "code",
   "execution_count": 5,
   "id": "c3debc80-7379-407a-8827-c6e7500ca8b9",
   "metadata": {
    "editable": true,
    "nbgrader": {
     "grade": false,
     "grade_id": "cell-88cc72931573b871",
     "locked": false,
     "schema_version": 3,
     "solution": true,
     "task": false
    },
    "slideshow": {
     "slide_type": ""
    },
    "tags": []
   },
   "outputs": [
    {
     "name": "stdout",
     "output_type": "stream",
     "text": [
      "['ni', 'ti', 'elleve']\n"
     ]
    }
   ],
   "source": [
    "### BEGIN SOLUTION\n",
    "ny_liste = tall_navn[-3:]\n",
    "### END SOLUTION\n",
    "print(ny_liste)"
   ]
  },
  {
   "cell_type": "code",
   "execution_count": 6,
   "id": "c931be52-a977-4463-8f05-01538301f642",
   "metadata": {
    "editable": true,
    "nbgrader": {
     "grade": true,
     "grade_id": "cell-b5c409ac6005539c",
     "locked": true,
     "points": 3,
     "schema_version": 3,
     "solution": false,
     "task": false
    },
    "slideshow": {
     "slide_type": ""
    },
    "tags": []
   },
   "outputs": [
    {
     "data": {
      "text/html": [
       "<div class = \"alert alert-success\">All tests passed. </div>"
      ],
      "text/plain": [
       "<IPython.core.display.HTML object>"
      ]
     },
     "metadata": {},
     "output_type": "display_data"
    },
    {
     "data": {
      "text/plain": [
       "3.0"
      ]
     },
     "execution_count": 6,
     "metadata": {},
     "output_type": "execute_result"
    }
   ],
   "source": [
    "### BEGIN HIDDEN TESTS\n",
    "from autofeedback import TestClass\n",
    "\n",
    "test_results = TestClass()\n",
    "if \"ny_liste\" not in globals():\n",
    "    test_results.add_result(False, \"no list named 'ny_liste' found.\")\n",
    "elif not isinstance(ny_liste, list):\n",
    "    test_results.add_result(False, f\"'ny_liste' is type {type(ny_liste).__name__} and not 'list'.\")\n",
    "else:\n",
    "    if ny_liste == [\"ni\", \"ti\", \"elleve\"]:\n",
    "        test_results.add_result(True, \"the list 'ny_liste' contains expected values.\")\n",
    "    elif ny_liste == [\"tre\", \"fire\", \"fem\"]:\n",
    "        test_results.add_result(False, \"elements in 'ny_liste' appears to be declared directly in answer cell instead of using 'tall_navn'.\")\n",
    "    else:\n",
    "        test_results.add_result(False, \"elements in 'ny_liste' are incorrect.\")\n",
    "\n",
    "round(test_results.get_results()*3, 2)\n",
    "### END HIDDEN TESTS"
   ]
  },
  {
   "cell_type": "markdown",
   "id": "8fb67331-cf17-49fa-bfd5-830832c06910",
   "metadata": {
    "editable": true,
    "slideshow": {
     "slide_type": ""
    },
    "tags": []
   },
   "source": [
    "## Slicing steg\n",
    "\n",
    "Med slicing kan man også velge å bare ha med hvert n'te element. Så den fulle formen for slicing er\n",
    "\n",
    "ny_liste = liste[start:stop:step]\n",
    "\n",
    "Hvor step er hvor stort hopp den skal gjøre."
   ]
  },
  {
   "cell_type": "code",
   "execution_count": 7,
   "id": "e7c6b0ca-dfaa-455e-83a1-14ff11e22b0e",
   "metadata": {
    "editable": true,
    "slideshow": {
     "slide_type": ""
    },
    "tags": []
   },
   "outputs": [
    {
     "name": "stdout",
     "output_type": "stream",
     "text": [
      "['seks', 'åtte', 'ti']\n"
     ]
    }
   ],
   "source": [
    "annenhver = tall_navn[::2]\n",
    "print(annenhver)"
   ]
  },
  {
   "cell_type": "markdown",
   "id": "3e1d08bd-a486-4b79-8249-f70929dc0efb",
   "metadata": {
    "editable": true,
    "slideshow": {
     "slide_type": ""
    },
    "tags": []
   },
   "source": [
    "Nedenfor lages en liste med elementene 0 til 100. Legg merke til at det er mulig å fortsette en listedeklarasjon på neste kodelinje dersom listen er for lang å holde oversikt over på én linje."
   ]
  },
  {
   "cell_type": "code",
   "execution_count": 9,
   "id": "2caf2963-c988-4a34-ab07-d030829c3193",
   "metadata": {
    "editable": true,
    "nbgrader": {
     "grade": true,
     "grade_id": "cell-4ac28f0bf73efb7f",
     "locked": true,
     "points": 0,
     "schema_version": 3,
     "solution": false,
     "task": false
    },
    "slideshow": {
     "slide_type": ""
    },
    "tags": []
   },
   "outputs": [
    {
     "data": {
      "text/html": [
       "<div class = \"alert alert-info\">\n",
       "Replacing data in 'stor_liste' for testing. New data: <br>\n",
       "<div style=\"margin-left:20px\">stor_liste = [100, 101, 102, 103, 104, 105, 106, 107, 108, 109, 110, 111, 112, 113, 114, 115, 116, 117, 118, 119, 120, 121, 122, 123, 124, 125, 126, 127, 128, 129, 130, 131, 132, 133, 134, 135, 136, 137, 138, 139, 140, 141, 142, 143, 144, 145, 146, 147, 148, 149, 150, 151, 152, 153, 154, 155, 156, 157, 158, 159, 160, 161, 162, 163, 164, 165, 166, 167, 168, 169, 170, 171, 172, 173, 174, 175, 176, 177, 178, 179, 180, 181, 182, 183, 184, 185, 186, 187, 188, 189, 190, 191, 192, 193, 194, 195, 196, 197, 198, 199, 200]</div><br>\n",
       "Subsequent tests will fail if code solutions do not use updated data.\n",
       "</div>"
      ],
      "text/plain": [
       "<IPython.core.display.HTML object>"
      ]
     },
     "execution_count": 9,
     "metadata": {},
     "output_type": "execute_result"
    }
   ],
   "source": [
    "stor_liste = [0, 1, 2, 3, 4, 5, 6, 7, 8, 9, 10,\n",
    "              11, 12, 13, 14, 15, 16, 17, 18, 19, 20,\n",
    "              21, 22, 23, 24, 25, 26, 27, 28, 29, 30,\n",
    "              31, 32, 33, 34, 35, 36, 37, 38, 39, 40,\n",
    "              41, 42, 43, 44, 45, 46, 47, 48, 49, 50,\n",
    "              51, 52, 53, 54, 55, 56, 57, 58, 59, 60,\n",
    "              61, 62, 63, 64, 65, 66, 67, 68, 69, 70,\n",
    "              71, 72, 73, 74, 75, 76, 77, 78, 79, 80,\n",
    "              81, 82, 83, 84, 85, 86, 87, 88, 89, 90,\n",
    "              91, 92, 93, 94, 95, 96, 97, 98, 99, 100]\n",
    "### BEGIN HIDDEN TESTS\n",
    "from IPython.display import HTML\n",
    "stor_liste = list(range(100, 201))\n",
    "HTML(f\"\"\"<div class = \"alert alert-info\">\n",
    "Replacing data in 'stor_liste' for testing. New data: <br>\n",
    "<div style=\"margin-left:20px\">stor_liste = {str(stor_liste)}</div><br>\n",
    "Subsequent tests will fail if code solutions do not use updated data.\n",
    "</div>\"\"\")\n",
    "### END HIDDEN TESTS"
   ]
  },
  {
   "cell_type": "markdown",
   "id": "fa68b353-1c1d-40bc-847e-339b39d7e07f",
   "metadata": {
    "editable": true,
    "slideshow": {
     "slide_type": ""
    },
    "tags": []
   },
   "source": [
    "<a id=\"oppg_2b\"></a>\n",
    "# b)\n",
    "\n",
    "Din oppgave er å bruke slicing relgene å lage en ny liste med disse elementene: [5, 22, 39, 56, 73, 90]\n",
    "\n",
    "Listen skal hete `utsnitt` og blir laget slik:\n",
    "\n",
    "\n",
    "```Python\n",
    "utsnitt = stor_liste[start:slutt:steg]\n",
    "```\n",
    "\n",
    "Hint: Det kan være nyttig å se på de ulike argumentene til listeslicingen hver for seg. Prøv først å finne ut hvor listen starter, deretter slutten, og til slutt hvor stort hopp den gjør.\n",
    "\n",
    "Når du er ferdig kan det være at 1 av argumentene ikke trengs og kan være blank som tidligere."
   ]
  },
  {
   "cell_type": "code",
   "execution_count": 11,
   "id": "a9c1671e-d293-4180-a7a8-84308b58e09d",
   "metadata": {
    "editable": true,
    "nbgrader": {
     "grade": false,
     "grade_id": "cell-8a1cba691e1a4c53",
     "locked": false,
     "schema_version": 3,
     "solution": true,
     "task": false
    },
    "slideshow": {
     "slide_type": ""
    },
    "tags": []
   },
   "outputs": [
    {
     "name": "stdout",
     "output_type": "stream",
     "text": [
      "[105, 122, 139, 156, 173, 190]\n"
     ]
    }
   ],
   "source": [
    "### BEGIN SOLUTION\n",
    "utsnitt = stor_liste[5::17]\n",
    "### END SOLUTION\n",
    "print(utsnitt)"
   ]
  },
  {
   "cell_type": "code",
   "execution_count": 10,
   "id": "d51d33b6-4be6-4ed5-814f-f193cd76c784",
   "metadata": {
    "editable": true,
    "nbgrader": {
     "grade": true,
     "grade_id": "cell-005120bff6b656f9",
     "locked": true,
     "points": 3,
     "schema_version": 3,
     "solution": false,
     "task": false
    },
    "slideshow": {
     "slide_type": ""
    },
    "tags": []
   },
   "outputs": [
    {
     "ename": "ModuleNotFoundError",
     "evalue": "No module named 'autofeedback'",
     "output_type": "error",
     "traceback": [
      "\u001b[0;31m---------------------------------------------------------------------------\u001b[0m",
      "\u001b[0;31mModuleNotFoundError\u001b[0m                       Traceback (most recent call last)",
      "Cell \u001b[0;32mIn[10], line 2\u001b[0m\n\u001b[1;32m      1\u001b[0m \u001b[38;5;66;03m### BEGIN HIDDEN TESTS\u001b[39;00m\n\u001b[0;32m----> 2\u001b[0m \u001b[38;5;28;01mfrom\u001b[39;00m \u001b[38;5;21;01mautofeedback\u001b[39;00m \u001b[38;5;28;01mimport\u001b[39;00m TestClass\n\u001b[1;32m      4\u001b[0m test_results \u001b[38;5;241m=\u001b[39m TestClass()\n\u001b[1;32m      5\u001b[0m \u001b[38;5;28;01mif\u001b[39;00m \u001b[38;5;124m\"\u001b[39m\u001b[38;5;124mutsnitt\u001b[39m\u001b[38;5;124m\"\u001b[39m \u001b[38;5;129;01mnot\u001b[39;00m \u001b[38;5;129;01min\u001b[39;00m \u001b[38;5;28mglobals\u001b[39m():\n",
      "\u001b[0;31mModuleNotFoundError\u001b[0m: No module named 'autofeedback'"
     ]
    }
   ],
   "source": [
    "### BEGIN HIDDEN TESTS\n",
    "from autofeedback import TestClass\n",
    "\n",
    "test_results = TestClass()\n",
    "if \"utsnitt\" not in globals():\n",
    "    test_results.add_result(False, \"no list named 'utsnitt' found.\")\n",
    "elif not isinstance(utsnitt, list):\n",
    "    test_results.add_result(False, f\"'utsnitt' is type {type(utsnitt).__name__} and not 'list'.\")\n",
    "else:\n",
    "    if utsnitt == [105, 122, 139, 156, 173, 190]:\n",
    "        test_results.add_result(True, \"the list 'utsnitt' contains expected values.\")\n",
    "    elif utsnitt == [5, 22, 39, 56, 73, 90]:\n",
    "        test_results.add_result(False, f\"contents of list 'utsnitt' are {utsnitt}. Expected [105, .....] after replacement of data in 'utsnitt'.\")\n",
    "    else:\n",
    "        test_results.add_result(False, \"elements in 'utsnitt' are incorrect.\")\n",
    "\n",
    "round(test_results.get_results()*3, 2)\n",
    "### END HIDDEN TESTS"
   ]
  },
  {
   "cell_type": "markdown",
   "id": "888674f8-a0a6-4a06-9432-0ec6e54686ec",
   "metadata": {
    "editable": true,
    "slideshow": {
     "slide_type": ""
    },
    "tags": []
   },
   "source": [
    "## Reversering av lister\n",
    "\n",
    "Med listeslicing kan også lister reverseres, dette gjøres med å ha steglengden som et negativt tall. Når steglengden er negativ er det også viktig å huske at starten må være *etter* slutten, siden den går baklengs.\n",
    "\n",
    "Om du skal reverse en hel liste trenger du ikke fylle inn start og slutt, så reversing av en hel liste kan se slik ut: `big_list[::-1]`\n",
    "\n",
    "\n"
   ]
  },
  {
   "cell_type": "markdown",
   "id": "9d3124d3-0823-42b2-81c3-8f7b20ebda2c",
   "metadata": {},
   "source": [
    "<a id=\"oppg_2c\"></a>\n",
    "# c)\n",
    "\n",
    "Samme som forrige oppgave, du skal bruke slicing av **stor_liste** til å lage en ny liste. Denne listen skal hete **baklengs_utsnitt** og ha disse elementene: [72, 69, 66, 63, 60, 57, 54, 51]\n"
   ]
  },
  {
   "cell_type": "code",
   "execution_count": 11,
   "id": "de218929-4a3a-4f27-bb9d-99b38ad990ca",
   "metadata": {
    "editable": true,
    "nbgrader": {
     "grade": false,
     "grade_id": "cell-c57be4b45d27b004",
     "locked": false,
     "schema_version": 3,
     "solution": true,
     "task": false
    },
    "slideshow": {
     "slide_type": ""
    },
    "tags": []
   },
   "outputs": [
    {
     "name": "stdout",
     "output_type": "stream",
     "text": [
      "[172, 169, 166, 163, 160, 157, 154, 151]\n"
     ]
    }
   ],
   "source": [
    "### BEGIN SOLUTION\n",
    "baklengs_utsnitt = stor_liste[72:50:-3]\n",
    "### END SOLUTION\n",
    "print(baklengs_utsnitt)"
   ]
  },
  {
   "cell_type": "code",
   "execution_count": 12,
   "id": "ab034f29-f27a-4c71-9263-f42806d81df2",
   "metadata": {
    "editable": true,
    "nbgrader": {
     "grade": true,
     "grade_id": "cell-debeef035f7da908",
     "locked": true,
     "points": 4,
     "schema_version": 3,
     "solution": false,
     "task": false
    },
    "slideshow": {
     "slide_type": ""
    },
    "tags": []
   },
   "outputs": [
    {
     "data": {
      "text/html": [
       "<div class = \"alert alert-success\">All tests passed. </div>"
      ],
      "text/plain": [
       "<IPython.core.display.HTML object>"
      ]
     },
     "metadata": {},
     "output_type": "display_data"
    },
    {
     "data": {
      "text/plain": [
       "4.0"
      ]
     },
     "execution_count": 12,
     "metadata": {},
     "output_type": "execute_result"
    }
   ],
   "source": [
    "### BEGIN HIDDEN TESTS\n",
    "from autofeedback import TestClass\n",
    "\n",
    "test_results = TestClass()\n",
    "if \"baklengs_utsnitt\" not in globals():\n",
    "    test_results.add_result(False, \"no list named 'baklengs_utsnitt' found.\")\n",
    "elif not isinstance(baklengs_utsnitt, list):\n",
    "    test_results.add_result(False, f\"'baklengs_utsnitt' is type {type(baklengs_utsnitt).__name__} and not 'list'.\")\n",
    "else:\n",
    "    if baklengs_utsnitt == [172, 169, 166, 163, 160, 157, 154, 151]:\n",
    "        test_results.add_result(True, \"the list 'baklengs_utsnitt' contains expected values.\")\n",
    "    elif baklengs_utsnitt == [72, 69, 66, 63, 60, 57, 54, 51]:\n",
    "        test_results.add_result(False, \"elements in 'baklengs_utsnitt' appears to be declared directly in answer cell instead of using 'stor_liste'.\")\n",
    "    else:\n",
    "        test_results.add_result(False, \"elements in 'baklengs_utsnitt' are incorrect.\")\n",
    "\n",
    "round(test_results.get_results()*4, 2)\n",
    "### END HIDDEN TESTS"
   ]
  },
  {
   "cell_type": "markdown",
   "id": "bfe1e9fe",
   "metadata": {
    "deletable": false,
    "editable": false
   },
   "source": [
    "<br>\n",
    "<nav class=\"navbar navbar-default\">\n",
    "    <div class=\"container-fluid\">\n",
    "        <div class=\"navbar-header\" style=\"float: left\">\n",
    "            <a class=\"navbar-brand\" href=\"1_Intro_til_lister.ipynb\" target=\"_self\">&lt; Forrige side: <i>intro til lister</i></a>\n",
    "            </div>\n",
    "        <div class=\"navbar-header\" style=\"float: right\">\n",
    "            <a class=\"navbar-brand\" href=\"3_Mer_lister_strenger.ipynb\" target=\"_self\">Neste side: <i>mer om lister og strenger</i> &gt;</a>\n",
    "        </div>\n",
    "    </div>\n",
    "</nav>"
   ]
  }
 ],
 "metadata": {
  "kernelspec": {
   "display_name": "Python 3 (ipykernel)",
   "language": "python",
   "name": "python3"
  },
  "language_info": {
   "codemirror_mode": {
    "name": "ipython",
    "version": 3
   },
   "file_extension": ".py",
   "mimetype": "text/x-python",
   "name": "python",
   "nbconvert_exporter": "python",
   "pygments_lexer": "ipython3",
   "version": "3.11.6"
  }
 },
 "nbformat": 4,
 "nbformat_minor": 5
}
