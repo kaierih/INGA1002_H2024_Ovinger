{
 "cells": [
  {
   "cell_type": "markdown",
   "metadata": {
    "deletable": false,
    "editable": false
   },
   "source": [
    "# Øving 2\n",
    "\n",
    "Hei og velkommen til andre øving i Programmeringsdelen av emnet INGA1002 - Programmering, numerikk og sikkerhet. Hovedfokuset for denne øvingen er *sekvenstypene* `list` og spesielt `numpy` sin `array`. Kunnskaper om å arbeide med slike variabler er fundamentalt for å kunne analysere og visualisere data, gjøre simuleringer i en rekke fagfelt, og mye mer. \n",
    "\n",
    "\n",
    "## Læringsmål\n",
    "\n",
    "- Bli kjent med sekvenstyper som `list` og `np.array`, og hva forskjellene på disse er.\n",
    "- Bruke indeks og slice på sekvenser, for å hente ut eller endre verdier i sekvenser.\n",
    "- Forstå at datatyper som `int`, `float`, `str`, `list` osv. ofte må behandles på sine egne måter\n",
    "- Forstå hvordan å bruke numpy-arrays i vanlige funksjoner, for å utføre beregninger på flere verdier samtidig.\n",
    "- Plotting og visualisere funksjoner/datasett."
   ]
  },
  {
   "cell_type": "markdown",
   "metadata": {
    "deletable": false,
    "editable": false
   },
   "source": [
    "## Om oppgavene\n",
    "\n",
    "Oppgaver markert som \"grunnleggende\" dekker tema som er regnet som kjernepensum, og er nødvendig å beherske for å gå videre med øving 3 & 4. Andre oppgaver vil absolutt styrke forståelsen for faget, og kan ofte være mer spennende å jobbe med, men er i større grad frivillig å arbeide med. Er du ny til programmering, er det anbefalt å begynne med de grunnleggende oppgavene, men om du har programmert litt før, kan det være mer spennende å arbeide med de øvrige oppgavene.\n",
    "\n",
    "Alle oppgavene til sammen kan gi inntil 100 poeng. Kravet for godkjenning er 40 poeng eller mer."
   ]
  },
  {
   "cell_type": "markdown",
   "metadata": {
    "deletable": false,
    "editable": false,
    "run_control": {
     "frozen": true
    }
   },
   "source": [
    "Oppgave | Tema | Merknad |Poeng\n",
    "--- | --- | --- | ---\n",
    "[Intro til Lister](1_Intro_til_lister.ipynb) | Lister og indeksering | Grunnleggende | 10\n",
    "[Slicing av Lister](2_Slicing.ipynb) | Uthenting av flere elementer i en liste | Grunnleggende | 10\n",
    "[Mer om lister og strenger](3_Mer_lister_strenger.ipynb) | Nyttige detaljer om strenger og lister | Grunnleggende men litt innviklet | 10\n",
    "[Introduksjon til Numpy](4_Numpy_intro.ipynb) | Numpy-arrays og elementvise regneoperasjoner | Grunnleggende | 10\n",
    "[Ofte brukte arrays](5_Ofte_brukte_arrays.ipynb) | Generering av tallrekker med Numpy | Grunnleggende men litt innviklet | 10\n",
    "[Plotting intro](6_Plotting_1.ipynb) | Hvordan tegne grafer av matematiske funksjoner | Grunnleggende | 10\n",
    "[Viderekommen plotting](7_Plotting_2.ipynb) | Styling av grafer, sammensetting av flere kurver | Kjekt å kunne | 10\n",
    "[Dataanalyse med Python](8_Dataanalyse.ipynb) | Grunnleggende analyse av datasett med Python | Kjekt å kunne og litt komplisert | 10\n",
    "[Logaritmisk plotting](9_Plotting_3.ipynb) | Logaritmisk skalering av akser, flere plot i samme figur | Kjekt å kunne men komplisert | 10\n",
    "[Spill en melodi](10_spill_en_melodi.ipynb) | Bruk av numpy-arrays til å lage lydsignal (vanskelig) | Artig men vanskelig | 10"
   ]
  },
  {
   "cell_type": "markdown",
   "metadata": {
    "deletable": false,
    "editable": false
   },
   "source": [
    "### For å generere tilbakemelding på oppgavesvar, kjør kodecellen nedenfor:\n",
    "\n",
    "*NB! Husk å lagre alle oppgavefilene før du kjører retting*"
   ]
  },
  {
   "cell_type": "code",
   "execution_count": null,
   "metadata": {
    "deletable": false,
    "editable": true,
    "execution": {
     "iopub.execute_input": "2024-08-21T13:14:42.525060Z",
     "iopub.status.busy": "2024-08-21T13:14:42.524310Z",
     "iopub.status.idle": "2024-08-21T13:15:14.572433Z",
     "shell.execute_reply": "2024-08-21T13:15:12.524975Z"
    },
    "slideshow": {
     "slide_type": ""
    },
    "tags": []
   },
   "outputs": [],
   "source": [
    "# Make sure autofeedback package is installed\n",
    "try:\n",
    "    from autofeedback import autograde_notebooks\n",
    "except ModuleNotFoundError:\n",
    "    print(\"Installing autofeedback. Please Wait...\")\n",
    "    output = !pip install git+https://github.com/kaierih/autofeedback.git\n",
    "    from autofeedback import autograde_notebooks\n",
    "    print(\"Autofeedback installed.\")\n",
    "\n",
    "# Generate feedback from grading tests\n",
    "task_files = [\"1_Intro_til_lister.ipynb\",\n",
    "              \"2_Slicing.ipynb\",\n",
    "              \"3_Mer_lister_strenger.ipynb\",\n",
    "              \"4_Numpy_intro.ipynb\",\n",
    "              \"5_Ofte_brukte_arrays.ipynb\",\n",
    "              \"6_Plotting_1.ipynb\",\n",
    "              \"7_Plotting_2.ipynb\",\n",
    "              \"8_Dataanalyse.ipynb\",\n",
    "              \"9_Plotting_3.ipynb\",\n",
    "              \"10_spill_en_melodi.ipynb\"]\n",
    "autograde_notebooks(task_files)"
   ]
  }
 ],
 "metadata": {
  "kernelspec": {
   "display_name": "Python 3 (ipykernel)",
   "language": "python",
   "name": "python3"
  },
  "language_info": {
   "codemirror_mode": {
    "name": "ipython",
    "version": 3
   },
   "file_extension": ".py",
   "mimetype": "text/x-python",
   "name": "python",
   "nbconvert_exporter": "python",
   "pygments_lexer": "ipython3",
   "version": "3.11.6"
  },
  "scenes_data": {
   "active_scene": "Default Scene",
   "init_scene": "",
   "scenes": [
    "Default Scene"
   ]
  },
  "toc": {
   "base_numbering": 1,
   "nav_menu": {},
   "number_sections": false,
   "sideBar": true,
   "skip_h1_title": false,
   "title_cell": "Table of Contents",
   "title_sidebar": "Contents",
   "toc_cell": false,
   "toc_position": {},
   "toc_section_display": true,
   "toc_window_display": false
  }
 },
 "nbformat": 4,
 "nbformat_minor": 4
}
