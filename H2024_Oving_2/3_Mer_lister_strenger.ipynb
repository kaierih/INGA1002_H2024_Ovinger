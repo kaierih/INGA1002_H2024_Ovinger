{
 "cells": [
  {
   "cell_type": "markdown",
   "id": "30c5f36e",
   "metadata": {
    "deletable": false,
    "editable": false
   },
   "source": [
    "\n",
    "<nav class=\"navbar navbar-default\">\n",
    "  <div class=\"container-fluid\">\n",
    "    <div class=\"navbar-header\" style=\"float: left\">\n",
    "        <a class=\"navbar-brand\" href=\"0_Forside.ipynb\" target=\"_self\"> <h2> &uarr; Tilbake til forsiden</h2></a>\n",
    "    </div>\n",
    "  </div>\n",
    "</nav>"
   ]
  },
  {
   "cell_type": "markdown",
   "id": "572599e5-7246-4142-8b50-f6d4c707cb9b",
   "metadata": {
    "editable": true,
    "slideshow": {
     "slide_type": ""
    },
    "tags": []
   },
   "source": [
    "# Mer om lister og tekststrenger\n",
    "\n",
    "**Læringsmål:**\n",
    "\n",
    "* Bli kjent med utvalgte listeoperasjoner (sammenslåing, repetisjon)\n",
    "* Forstå at indeksering og slicing kan brukes for flere datatyper enn bare lister.\n",
    "\n",
    "**Oversikt:**\n",
    "\n",
    "* [Oppgave a) slicing av strenger](#oppg_3a)\n",
    "* [Oppgave b) sammenslåing av lister](#oppg_3b)\n",
    "* [Oppgave c) tallformat og indeksering](#oppg_3c)\n",
    "\n",
    "### Tekst som en sekvens med bokstaver\n",
    "\n",
    "Lister i Python er det vi kaller sekvenstyper, altså datatyper som lar oss lage en variabel som inneholder en rekke med verdier. Listen er ikke den ene datatypen av dette slaget, og vi har faktisk arbeidet med en annen sekvenstype allerede: ***tekst***.\n",
    "\n",
    "En tekststreng er å regne som en rekke med alfabetiske symbol, og hver av disse symbolene har en egen indeksverdi akkurat som verdiene i en liste. For eksempel er det mulig å bruke *slicing* til å hente ut en liten del av en streng.\n",
    "\n",
    "> #### Eksempel:\n",
    "> La oss si at vi har en tekststreng `'2024.08.19 08:15:00'`, som er en typisk måte å skrive dato og klokkeslett, kan vi bruke slicing til å hente ut årstallet:"
   ]
  },
  {
   "cell_type": "code",
   "execution_count": 1,
   "id": "35b256b9-8b97-4e09-a090-ba9e3daa7262",
   "metadata": {},
   "outputs": [
    {
     "name": "stdout",
     "output_type": "stream",
     "text": [
      "2024\n"
     ]
    }
   ],
   "source": [
    "tidsstempel = '2024.08.19 08:15:00'\n",
    "arstall = tidsstempel[0:4]\n",
    "print(arstall)"
   ]
  },
  {
   "cell_type": "markdown",
   "id": "70d0d72e-83fb-4b1d-8986-15ac83eff88b",
   "metadata": {},
   "source": [
    "> Merk at variabelen `arstall` fortsatt er en *tekststreng*, og vi må bruke f.eks. funksjonen `int()` til å konvertere rekken med tallsymbol til en tallverdi dersom vi skal utføre beregninger."
   ]
  },
  {
   "cell_type": "markdown",
   "id": "f9b51f7b-904d-47f2-9d4d-a8fecfef3280",
   "metadata": {},
   "source": [
    "<a id=\"oppg_3a\"></a>\n",
    "## a) \n",
    "Bruk slicing til å hente ut *klokkeslettet* som er lagret i variabelen `tidsstempel`, og skriv ut klokkeslettet på formatet `hh:mm:ss` med bruk av `print()`."
   ]
  },
  {
   "cell_type": "code",
   "execution_count": 2,
   "id": "2941ec1c-f486-4824-be45-15fc3c187afe",
   "metadata": {
    "nbgrader": {
     "grade": false,
     "grade_id": "cell-252af29aca78c0bc",
     "locked": false,
     "schema_version": 3,
     "solution": true,
     "task": false
    }
   },
   "outputs": [
    {
     "name": "stdout",
     "output_type": "stream",
     "text": [
      "08:15:00\n"
     ]
    }
   ],
   "source": [
    "### BEGIN SOLUTION\n",
    "klokkeslett = tidsstempel[11:]\n",
    "print(klokkeslett)\n",
    "### END SOLUTION"
   ]
  },
  {
   "cell_type": "code",
   "execution_count": 3,
   "id": "717e5193-9135-4483-bb62-b8b6303587d6",
   "metadata": {
    "nbgrader": {
     "grade": true,
     "grade_id": "cell-2689d71dfc6c4168",
     "locked": true,
     "points": 3,
     "schema_version": 3,
     "solution": false,
     "task": false
    }
   },
   "outputs": [
    {
     "data": {
      "text/html": [
       "<div class = \"alert alert-success\">All tests passed!</div>"
      ],
      "text/plain": [
       "<IPython.core.display.HTML object>"
      ]
     },
     "metadata": {},
     "output_type": "display_data"
    },
    {
     "data": {
      "text/plain": [
       "1.0"
      ]
     },
     "execution_count": 3,
     "metadata": {},
     "output_type": "execute_result"
    }
   ],
   "source": [
    "### BEGIN HIDDEN TESTS\n",
    "from autofeedback import CodeCellTests\n",
    "\n",
    "previous_cell_contents = In[-2]\n",
    "#previous_cell_contents = \"klokkeslett = \n",
    "\n",
    "grading_results = CodeCellTests(previous_cell_contents, globals=globals(), locals=locals())\n",
    "grading_results.test_output(r\"^08:15:00$\", sample=\"08:15:00\")\n",
    "grading_results.insert_top(\"tidsstempel = '2024.08.19 09:45:00'\")\n",
    "grading_results.test_output(r\"^09:45:00$\", sample=\"09:45:00\")\n",
    "round(grading_results.get_results()*3, 2)\n",
    "### END HIDDEN TESTS"
   ]
  },
  {
   "cell_type": "markdown",
   "id": "82c72c45-d2d3-44cc-9b03-0156df5a696e",
   "metadata": {},
   "source": [
    "### Vanlige operasjoner med lister og strenger\n",
    "\n",
    "I tillegg til indeksering og slicing er det enkelte andre handlinger som er svært vanlige å utføre med lister og strenger at de bruker aritmetiske operatorer som `+` og `*`.\n",
    "\n",
    "* Addisjon (`+`): Brukes til å slå sammen to lister/strenger\n",
    "* Multiplikasjon (`*`): Brukes til å repetere en liste/streng et gitt antall ganger.\n",
    "\n",
    "Andre aritmetiske operatorer som `/`, `**` o.l. har ikke en egen funksjon for lister/strenger, og vil resultere i feilmelding.\n",
    "\n",
    "> **Eksempel på addisjon og multiplikasjon med strenger:**"
   ]
  },
  {
   "cell_type": "code",
   "execution_count": 4,
   "id": "56bc121c-9c2a-4f55-90f2-0f347f62b107",
   "metadata": {},
   "outputs": [
    {
     "name": "stdout",
     "output_type": "stream",
     "text": [
      "Hipp! Hipp! Hipp! Hurra!\n"
     ]
    }
   ],
   "source": [
    "hurrarop = 3*\"Hipp! \" + \"Hurra!\"\n",
    "print(hurrarop)"
   ]
  },
  {
   "cell_type": "markdown",
   "id": "79c24daa-8b3e-480e-999c-c1154a7821e0",
   "metadata": {},
   "source": [
    "> **Eksempel på addisjon og multiplikasjon med lister:**"
   ]
  },
  {
   "cell_type": "code",
   "execution_count": 5,
   "id": "3c1053b2-dfb0-487c-8247-122829e499d1",
   "metadata": {},
   "outputs": [
    {
     "name": "stdout",
     "output_type": "stream",
     "text": [
      "[3, 2, 1, 0, 0, 0, 0, 0, 0, 0]\n"
     ]
    }
   ],
   "source": [
    "eksempel_liste = [3, 2, 1] + [0]*7 # Legger til 7 nuller på slutten av lista\n",
    "print(eksempel_liste)"
   ]
  },
  {
   "cell_type": "markdown",
   "id": "15bfaad7-0d41-462d-9f4d-05552ca1c608",
   "metadata": {},
   "source": [
    "Akkurat dette med å utvide lister ved å legge til nye element bakerst er noe vi kommer til å få mye bruk for i numerikk. Et eksempel kan være at man utfører en utregning i mange steg, og ønsker å føre en logg med resultatet etter hvert steg. Da kan det være nyttig å ha muligheten til å legge til resultatet fra hvert steg i en liste underveis i beregningene.\n",
    "\n"
   ]
  },
  {
   "cell_type": "markdown",
   "id": "b66ac952-93b3-4c9f-8792-5cd87af0c41d",
   "metadata": {},
   "source": [
    "<a id=\"oppg_3b\"></a>\n",
    "## b)\n",
    "Skriv ferdig en funksjon `legg_verdi_bakerst(liste, verdi)`, tar inn en liste `liste` og en verdi `verdi`, og bruker addisjonsoperatoren til å utvide listen slik at den etterpå inneholder veriden `verdi` helt barerst.\n",
    "\n",
    "**Eksempel på bruk:**\n",
    "```Python\n",
    "legg_verdi_bakerst([1, 3, 3], 4)\n",
    "[1, 2, 3, 3]\n",
    "```"
   ]
  },
  {
   "cell_type": "code",
   "execution_count": 1,
   "id": "8dee956e-caad-475b-88b1-dbee58ef108a",
   "metadata": {
    "nbgrader": {
     "grade": false,
     "grade_id": "cell-b7bfbe32c35bc23d",
     "locked": false,
     "schema_version": 3,
     "solution": true,
     "task": false
    }
   },
   "outputs": [],
   "source": [
    "def legg_verdi_bakerst(liste, verdi):\n",
    "    ### BEGIN SOLUTION\n",
    "    utvidet_liste = liste + [verdi]\n",
    "    ### END SOLUTION\n",
    "    return utvidet_liste\n",
    "\n",
    "# Forslag til funksjonskall for å teste funksjonen\n",
    "legg_verdi_bakerst([1, 3, 3], 4)"
   ]
  },
  {
   "cell_type": "code",
   "execution_count": 30,
   "id": "64d30f90-6606-4276-9cfd-d45f362dd6b8",
   "metadata": {
    "nbgrader": {
     "grade": true,
     "grade_id": "cell-e8ebdd23b631fb0e",
     "locked": true,
     "points": 3,
     "schema_version": 3,
     "solution": false,
     "task": false
    }
   },
   "outputs": [
    {
     "data": {
      "text/html": [
       "<div class = \"alert alert-success\">All tests passed!</div>"
      ],
      "text/plain": [
       "<IPython.core.display.HTML object>"
      ]
     },
     "metadata": {},
     "output_type": "display_data"
    },
    {
     "data": {
      "text/plain": [
       "5.0"
      ]
     },
     "execution_count": 30,
     "metadata": {},
     "output_type": "execute_result"
    }
   ],
   "source": [
    "### BEGIN HIDDEN TESTS\n",
    "from random import sample\n",
    "from autofeedback import FunctionTests\n",
    "\n",
    "def sol_append(liste, verdi):\n",
    "    return liste + [verdi]\n",
    "\n",
    "grading_results = FunctionTests(sol_append)\n",
    "try:\n",
    "    grading_results.add_test_func(legg_verdi_bakerst)\n",
    "except Exception as e:\n",
    "    grading_results.log.append(\"Could not run tests, \"+e.args[0])\n",
    "else:\n",
    "    N = 3  # Number of tests\n",
    "    lists = [sample(list(range(100)), 5) for _ in range(N)]\n",
    "    values = sample(list(range(10)), N)\n",
    "    for test_list, test_val in zip(lists, values):\n",
    "        grading_results.test_return_value(test_list, test_val)\n",
    "round(grading_results.get_results()*3, 2)\n",
    "### END HIDDEN TESTS"
   ]
  },
  {
   "cell_type": "markdown",
   "id": "23691b61-ef7e-4d89-b6d2-318161ef01da",
   "metadata": {},
   "source": [
    "En enda enklere måte å legge til en verdi bakerst i en liste kan være med bruk av metoden [`append()`](https://www.w3schools.com/python/ref_list_append.asp). En *metode* er en spesiell type funksjon som er koblet til en variabel av en gitt type. Maten man typisk bruker en slik *metode* er ved å skrive `<variabelnavn>.metode(<input-argument>)`. Metoden vil da utføre en gitt handling *på* variabelen.\n",
    "\n",
    "**Eksempel på bruk:**"
   ]
  },
  {
   "cell_type": "code",
   "execution_count": 1,
   "id": "9a36df63-f465-4e65-9867-f1aaaadbfa72",
   "metadata": {},
   "outputs": [
    {
     "name": "stdout",
     "output_type": "stream",
     "text": [
      "[1, 2, 3]\n",
      "[1, 2, 3, 4]\n"
     ]
    }
   ],
   "source": [
    "test_liste = [1, 2, 3]\n",
    "print(test_liste)\n",
    "test_liste.append(4)\n",
    "print(test_liste)"
   ]
  },
  {
   "cell_type": "markdown",
   "id": "ef41bf8d-bcd7-4b56-9801-a3247505d6b9",
   "metadata": {},
   "source": [
    "Lister er med andre ord en veldig fleksibel datatype som kan inneholde en rekke ulike verdier, og kan utvides ved behov. Men, å bruke lister til å utføre matematiske beregninger på store rekker med tall blir veldig fort tungvindt, så til numerikk og andre ingeniørfaglige formål er det ofte en annen datatype som er foretrukket: en *numpy-array*. I resten av øvingen skal vi bli kjent med denne variabeltypen, og se hvordan den lar oss enkelt og effektivt utføre beregninger på store tallrekker samt plotte funksjoner og datasett."
   ]
  },
  {
   "cell_type": "markdown",
   "id": "3b87c47d-1552-4316-a442-816c423317d4",
   "metadata": {},
   "source": [
    "### Utregning av indeks og datatype\n",
    "\n",
    "La oss si at vi ønsker å hente ut det *midterste* elementet i en liste, uavhengig av hvor lang listen er (for partallslengder velger vi høyeste indeks av de to i midten). Det vil si at for en liste med 7 element så vil vi ha elementet med indeks `3`, og for en liste med 12 element så vil vi ha elementet med indeks `6`. Det naturlige vil være å beregne indeksen ved å dele listens lengde på to, slik som i eksempelet nedenfor:"
   ]
  },
  {
   "cell_type": "code",
   "execution_count": null,
   "id": "8d6a7542-8ed3-4ede-a37b-580029dd92a4",
   "metadata": {},
   "outputs": [],
   "source": [
    "eksempel_liste = [11, 12, 13, 14, 15, 16]\n",
    "indeks_i_midten = len(eksempel_liste)/2\n",
    "print(f\"Indeks til element i midten: {indeks_i_midten}\")\n",
    "print(f\"Element i midten: {eksempel_liste[indeks_i_midten]}\")"
   ]
  },
  {
   "cell_type": "markdown",
   "id": "7c374a08-911a-44eb-94bd-e164c2baca7b",
   "metadata": {},
   "source": [
    "Det vi ser når vi prøver å kjøre cellen er at vi får en feilmelding. Når vi deler lengden `6` på `2` blir resultatet et *flyttall* `3.0` og ikke heltallet `3`, fordi divisjon er en matteoperasjon som *kan* resultere i desimaltall. Flyttall er ikke gyldige til indeksering, selv om de ikke har en deltallsdel.\n",
    "\n",
    "For at vi skal klare å hente ut et element fra listen basert på en utregnet indeksverdi må vi altså avrunde og konvertere til datatypen `int` (heltall). Dette gjøres f.eks. med funksjonen [`int()`](https://www.w3schools.com/python/ref_func_int.asp).\n",
    "\n"
   ]
  },
  {
   "cell_type": "markdown",
   "id": "e61c96b8-374d-4f43-9c04-8d22cc25df03",
   "metadata": {},
   "source": [
    "<a id=\"oppg_3c\"></a>\n",
    "## c)\n",
    "\n",
    "Skriv ferdig funksjonen nedenfor som returnerer det midterste elementet i en liste med ukjent lengde.\n",
    "\n",
    "**Eksempel på bruk:**\n",
    "```Python\n",
    "finn_midtpunkt([2, 3, 5, 7, 11])\n",
    "5\n",
    "```"
   ]
  },
  {
   "cell_type": "code",
   "execution_count": null,
   "id": "37991b3c-84a3-4d8c-9409-e00381faf220",
   "metadata": {
    "nbgrader": {
     "grade": false,
     "grade_id": "cell-0c6b26787837f6e0",
     "locked": false,
     "schema_version": 3,
     "solution": true,
     "task": false
    }
   },
   "outputs": [],
   "source": [
    "def finn_midtpunkt(ukjent_liste):\n",
    "    ### BEGIN SOLUTION\n",
    "    L = len(ukjent_liste)\n",
    "    midtpunkt = ukjent_liste[L//2]\n",
    "    ### END SOLUTION\n",
    "    return midtpunkt\n",
    "\n",
    "# Forslag til funksjonskall til å verifisere koden\n",
    "finn_midtpunkt([2, 3, 5, 7, 11])"
   ]
  },
  {
   "cell_type": "code",
   "execution_count": null,
   "id": "435fad48-218e-416f-a04a-e2b85577722d",
   "metadata": {
    "nbgrader": {
     "grade": true,
     "grade_id": "cell-e442c6eb1ea0f498",
     "locked": true,
     "points": 4,
     "schema_version": 3,
     "solution": false,
     "task": false
    }
   },
   "outputs": [],
   "source": [
    "### BEGIN HIDDEN TESTS\n",
    "from random import sample\n",
    "from autofeedback import FunctionTests\n",
    "import numpy as np\n",
    "\n",
    "def middle_solution(some_list):\n",
    "    return some_list[len(some_list)//2]\n",
    "grading_results = FunctionTests(middle_solution)\n",
    "try:\n",
    "    grading_results.add_test_func(finn_midtpunkt)\n",
    "except Exception as e:\n",
    "    grading_results.log.append(\"Could not run tests, \"+e.args[0])\n",
    "else:\n",
    "    L_vals = sample(list(range(3, 13)), 4)\n",
    "    for L in L_vals:\n",
    "        grading_results.test_return_value(list(range(10, 10+L)))\n",
    "round(grading_results.get_results()*4, 2)\n",
    "### END HIDDEN TESTS"
   ]
  },
  {
   "cell_type": "markdown",
   "id": "5ee790e3",
   "metadata": {
    "deletable": false,
    "editable": false
   },
   "source": [
    "<br>\n",
    "<nav class=\"navbar navbar-default\">\n",
    "    <div class=\"container-fluid\">\n",
    "        <div class=\"navbar-header\" style=\"float: left\">\n",
    "            <a class=\"navbar-brand\" href=\"2_Slicing.ipynb\" target=\"_self\">&lt; Forrige side: <i>slicing av lister</i></a>\n",
    "            </div>\n",
    "        <div class=\"navbar-header\" style=\"float: right\">\n",
    "            <a class=\"navbar-brand\" href=\"4_Numpy_intro.ipynb\" target=\"_self\">Neste side: <i>introduksjon til numpy</i> &gt;</a>\n",
    "        </div>\n",
    "    </div>\n",
    "</nav>"
   ]
  }
 ],
 "metadata": {
  "kernelspec": {
   "display_name": "Python 3 (ipykernel)",
   "language": "python",
   "name": "python3"
  },
  "language_info": {
   "codemirror_mode": {
    "name": "ipython",
    "version": 3
   },
   "file_extension": ".py",
   "mimetype": "text/x-python",
   "name": "python",
   "nbconvert_exporter": "python",
   "pygments_lexer": "ipython3",
   "version": "3.11.6"
  }
 },
 "nbformat": 4,
 "nbformat_minor": 5
}
