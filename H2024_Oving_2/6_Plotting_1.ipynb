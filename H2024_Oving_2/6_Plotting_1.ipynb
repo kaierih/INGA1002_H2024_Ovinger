{
 "cells": [
  {
   "cell_type": "markdown",
   "id": "90a83b5d",
   "metadata": {
    "deletable": false,
    "editable": false
   },
   "source": [
    "\n",
    "<nav class=\"navbar navbar-default\">\n",
    "  <div class=\"container-fluid\">\n",
    "    <div class=\"navbar-header\" style=\"float: left\">\n",
    "        <a class=\"navbar-brand\" href=\"0_Forside.ipynb\" target=\"_self\"> <h2> &uarr; Tilbake til forsiden</h2></a>\n",
    "    </div>\n",
    "  </div>\n",
    "</nav>"
   ]
  },
  {
   "cell_type": "markdown",
   "id": "89ad0fe4-5c54-4e90-a341-ba562a7aa6a3",
   "metadata": {
    "deletable": false,
    "editable": false
   },
   "source": [
    "# Plotting med bruk av matplotlib\n",
    "\n",
    "**Læringsmål:**\n",
    "* Bli kjent med funksjoner for å generere basis-arrays\n",
    "* Forståelse for når de forskjellige basis-arrayene er aktuelle\n",
    "\n",
    "**Oversikt:**\n",
    "* [Oppgave a) `plot()`-funksjonen](#oppg_6a)\n",
    "* [Oppgave b) oppløsning i grafer](#oppg_6b)\n",
    "* [Oppgave c) tilleggsinformasjon i grafer](#oppg_6c)\n",
    "\n",
    "### Introduksjon til matplotlib\n",
    "\n",
    "Når vi jobber numerisk i python kan det være veldig nyttig å plotte verdier. Et av de beste verktøyene for dette i python er matplotlib. Dette biblioteket er veldig lavterskel å bruke, samtidig som at det åpner opp for mye mer komplekse plot.\n",
    "\n",
    "Først må vi starte med å importere biblioteket, dette har vi gått gjennom tidligere men her er det en liten variasjon. Vi ønsker nemlig ikke hele biblioteket (ihvertfall ikke enda), vi skal derform importere bare en del av det. Nedenfor ser dere hvordan dere importerer deler av bibliotek. Disse også kan få navn av oss, og standard navngiving for matplotlib er `plt`"
   ]
  },
  {
   "cell_type": "code",
   "execution_count": null,
   "id": "396fef04-3abf-4142-95ae-fcc6fabbcd9a",
   "metadata": {
    "deletable": false,
    "execution": {
     "iopub.execute_input": "2024-08-23T07:32:56.746037Z",
     "iopub.status.busy": "2024-08-23T07:32:56.745142Z",
     "iopub.status.idle": "2024-08-23T07:32:57.622852Z",
     "shell.execute_reply": "2024-08-23T07:32:57.620726Z"
    }
   },
   "outputs": [],
   "source": [
    "import matplotlib.pyplot as plt"
   ]
  },
  {
   "cell_type": "markdown",
   "id": "49ef0924-ce8e-4250-9fdc-3400647490ce",
   "metadata": {
    "deletable": false,
    "editable": false
   },
   "source": [
    "Med dette kan vi plotte det meste, og nedenfor kan dere se et enkelt eksempel."
   ]
  },
  {
   "cell_type": "code",
   "execution_count": null,
   "id": "089248d6-c65e-45be-b127-dca12423a360",
   "metadata": {
    "deletable": false,
    "execution": {
     "iopub.execute_input": "2024-08-23T07:32:57.635085Z",
     "iopub.status.busy": "2024-08-23T07:32:57.634627Z",
     "iopub.status.idle": "2024-08-23T07:32:57.984288Z",
     "shell.execute_reply": "2024-08-23T07:32:57.982656Z"
    }
   },
   "outputs": [],
   "source": [
    "import numpy as np\n",
    "\n",
    "x_axis = np.array([1, 2, 3, 4, 5, 6, 7, 8, 9])\n",
    "plt.plot(x_axis)"
   ]
  },
  {
   "cell_type": "markdown",
   "id": "e48d11ff-45d9-453b-acc5-e2a190f7e8cb",
   "metadata": {
    "deletable": false,
    "editable": false
   },
   "source": [
    "Det virker kanskje som om `plt.plot` ikke er så nyttig, siden alle punktene kun har 1 mellom seg på x-aksen. Dette er feil. Funksjonen har faktisk et hav av muligheter! Vi kan for eksempel spesifisere punkter både på x-aksen og y-aksen ved å gi inn to lister til funksjonen.\n",
    "\n",
    "**Kjør koden under og prøv å endre verdiene for å se hva som skjer!** Prøv gjerne også å se hva som skjer hvis man har x-verdier som ikke er i stigende rekkefølge som nå."
   ]
  },
  {
   "cell_type": "code",
   "execution_count": null,
   "id": "70aed4af-58e4-41e8-b71d-1b9baa67b9af",
   "metadata": {
    "deletable": false,
    "execution": {
     "iopub.execute_input": "2024-08-23T07:32:57.992477Z",
     "iopub.status.busy": "2024-08-23T07:32:57.992149Z",
     "iopub.status.idle": "2024-08-23T07:32:58.282825Z",
     "shell.execute_reply": "2024-08-23T07:32:58.279375Z"
    }
   },
   "outputs": [],
   "source": [
    "import matplotlib.pyplot as plt\n",
    "import numpy as np \n",
    "\n",
    "x_verdier = np.array([2, 4, 8, 16])\n",
    "y_verdier = np.array([2, 4, 6, 8])\n",
    "plt.plot(x_verdier, y_verdier)"
   ]
  },
  {
   "cell_type": "markdown",
   "id": "b0f40020-13c0-4d2a-838d-eb3648dbdc7d",
   "metadata": {
    "deletable": false,
    "editable": false
   },
   "source": [
    "Det er også viktig å bli oppmerksom på hva som skjer om akse-argumentene vi sender inn har ulike lengde. Kjør kodecellen under og se at du får en feilmelding. Du trenger ikke å lese feilmeldingen."
   ]
  },
  {
   "cell_type": "code",
   "execution_count": null,
   "id": "c886043d-71a1-4764-b998-7125a95bff19",
   "metadata": {
    "deletable": false,
    "execution": {
     "iopub.execute_input": "2024-08-23T07:32:58.293279Z",
     "iopub.status.busy": "2024-08-23T07:32:58.292484Z",
     "iopub.status.idle": "2024-08-23T07:32:59.560512Z",
     "shell.execute_reply": "2024-08-23T07:32:59.559271Z"
    }
   },
   "outputs": [],
   "source": [
    "import matplotlib.pyplot as plt\n",
    "import numpy as np \n",
    "\n",
    "x_verdier = np.array([1, 2, 3])\n",
    "y_verdier = np.array([1, 2, 3, 4])\n",
    "plt.plot(x_verdier, y_verdier)"
   ]
  },
  {
   "cell_type": "markdown",
   "id": "0de5e62a-3099-4aff-aa13-b619bca6fd35",
   "metadata": {
    "deletable": false,
    "editable": false
   },
   "source": [
    "Du trenger ikke lese feilmeldingen, men du ser at den er veldig lang og kompleks. Etterhvert som man får flere og flere feilmeldinger vil man lære seg å skjønne hva de betyr, og hvordan man løser dem. Feilmeldingen over for eksempel har en kort setning helt nederst hvor det står `ValueError: x and y must have same first dimension, but have shapes (3,) and (4,)`. Denne linjen er egentlig alt man trenger i dette eksempelet for å skjønne at `x` og `y` må ha like mange elementer.\n",
    "\n",
    "### Plotting av funksjoner\n",
    "\n",
    "Vi kan også plotte funksjoner med hjelp av matplotlib. "
   ]
  },
  {
   "cell_type": "code",
   "execution_count": null,
   "id": "599bf994-dad4-4f3c-b7c9-27adb8752583",
   "metadata": {
    "deletable": false,
    "execution": {
     "iopub.execute_input": "2024-08-23T07:32:59.569565Z",
     "iopub.status.busy": "2024-08-23T07:32:59.569218Z",
     "iopub.status.idle": "2024-08-23T07:32:59.578011Z",
     "shell.execute_reply": "2024-08-23T07:32:59.575824Z"
    }
   },
   "outputs": [],
   "source": [
    "def f(x):\n",
    "    return x**2"
   ]
  },
  {
   "cell_type": "markdown",
   "id": "ef769184-50f1-41fa-bb10-b2dcc1124bcd",
   "metadata": {
    "deletable": false,
    "editable": false
   },
   "source": [
    "Når vi så har funksjonen vår, trenger vi x-verdier. Da kan vi bruke `numpy.linspace` for å lage x-verdiene våre, samt plotte funksjonen $f(x) = x^2$ i et gitt x-intervall. Etter vi har laget oss disse x-verdiene, kan vi lage y-verdier som er x-verdiene kjørt igjennom funksjonen `f(x)`. Deretter kan vi plotte resultatet.\n",
    "\n",
    "**Kjør koden nedenfor og se hva som skjer!**. Prøv også å endre både `f(x)` over, `start`, `stop` og `intervaller` for å se hvordan grafen endrer seg. Legg spesielt merke til hvordan grafen blir \"hakkete\" jo mindre `intervaller` vi har."
   ]
  },
  {
   "cell_type": "code",
   "execution_count": null,
   "id": "22eff4b5-dac1-4669-9906-523cfb3126c4",
   "metadata": {
    "deletable": false,
    "execution": {
     "iopub.execute_input": "2024-08-23T07:32:59.585624Z",
     "iopub.status.busy": "2024-08-23T07:32:59.585338Z",
     "iopub.status.idle": "2024-08-23T07:32:59.909607Z",
     "shell.execute_reply": "2024-08-23T07:32:59.907532Z"
    }
   },
   "outputs": [],
   "source": [
    "import matplotlib.pyplot as plt\n",
    "import numpy as np\n",
    "\n",
    "start = -10\n",
    "stop = 10\n",
    "intervaller = 5\n",
    "\n",
    "x_verdier = np.linspace(start, stop, intervaller)\n",
    "y_verdier = f(x_verdier) # Her kjører vi alle x-verdiene våre gjennom funksjonen f(x)\n",
    "\n",
    "plt.plot(x_verdier, y_verdier)"
   ]
  },
  {
   "cell_type": "markdown",
   "id": "25132258-086d-4846-a398-2257c5f843fe",
   "metadata": {
    "deletable": false,
    "editable": false
   },
   "source": [
    "<a id=\"oppg_6a\"></a>\n",
    "## a)\n",
    "\n",
    "Bruk de opgitte verdiene for `x` til å plotte funksjonen  $f(x) = x^2 - 3x + 2$\n",
    "\n",
    "\n",
    "i Python, og plotte disse i _samme_ plot. Bruk de oppgitte x-verdiene. Husk å importere **matplotlib** :)\n",
    "\n",
    "***Skriv koden din i kodeblokken under***"
   ]
  },
  {
   "cell_type": "code",
   "execution_count": null,
   "id": "fb917f97-35d2-4dc9-b332-e5ff25d7ea80",
   "metadata": {
    "autofeedback": {
     "plot_task": true
    },
    "deletable": false,
    "execution": {
     "iopub.execute_input": "2024-08-23T07:32:59.917216Z",
     "iopub.status.busy": "2024-08-23T07:32:59.916892Z",
     "iopub.status.idle": "2024-08-23T07:33:00.271315Z",
     "shell.execute_reply": "2024-08-23T07:33:00.268983Z"
    },
    "nbgrader": {
     "cell_type": "code",
     "checksum": "877f2a5cc61b6c6c03b075b0abf60424",
     "grade": false,
     "grade_id": "cell-0b7404225866802a",
     "locked": false,
     "schema_version": 3,
     "solution": true,
     "task": false
    }
   },
   "outputs": [],
   "source": [
    "import numpy as np\n",
    "x_verdier = np.array([-3, -1, 1, 3, 5])\n",
    "#-------------------------------------\n",
    "# SKRIV DIN KODE HER!\n",
    "#-------------------------------------"
   ]
  },
  {
   "cell_type": "markdown",
   "id": "54b0a7c1-4ef1-4b62-99c2-847a9e8e62fa",
   "metadata": {
    "deletable": false,
    "editable": false
   },
   "source": [
    "Har du løst oppgaven riktig skal du se en figur som ser noe [slik](Figurer/oppg6a_LF.png) ut."
   ]
  },
  {
   "cell_type": "code",
   "execution_count": null,
   "id": "31c10068-40b5-4e9f-a7bd-159a3e8c8f86",
   "metadata": {
    "autofeedback": {
     "test_code": "ZnJvbSBhdXRvZmVlZGJhY2sgaW1wb3J0IFZhcmlhYmxlVGVzdHMKaW1wb3J0IG51bXB5IGFzIG5wCgpmX3NvbCA9IGxhbWJkYSB4OiB4KioyLTMqeCsyCgp0ZXN0X3Jlc3VsdHMgPSBWYXJpYWJsZVRlc3RzKCkKCmlmIGxlbihmaWcuYXhlcykgPCAxOgogICAgdGVzdF9yZXN1bHRzLmFkZF9yZXN1bHQoRmFsc2UsICJObyBwbG90IGRldGVjdGVkLiIpCmVsc2U6CiAgICB0cnk6CiAgICAgICAgbGluZSA9IGZpZy5heGVzWy0xXS5saW5lc1stMV0KICAgIGV4Y2VwdCBFeGNlcHRpb24gYXMgZToKICAgICAgICB0ZXN0X3Jlc3VsdHMubG9nLmFwcGVuZCgiQ291bGQgbm90IHJ1biB0ZXN0cywgIitlLmFyZ3NbMF0pCiAgICBlbHNlOgogICAgICAgIHRlc3RfcmVzdWx0cy5jb21wYXJlX3ZhbHVlcyhsaW5lLmdldF95ZGF0YSgpLCBmX3NvbChsaW5lLmdldF94ZGF0YSgpKSwgbmFtZT0iJ3lkYXRhJyB3aGljaCB3YXMgZXh0cmFjdGVkIGZyb20gcGxvdCIpCnJvdW5kKHRlc3RfcmVzdWx0cy5nZXRfcmVzdWx0cygpKjMsIDIp"
    },
    "deletable": false,
    "editable": false,
    "execution": {
     "iopub.execute_input": "2024-08-23T07:33:00.279838Z",
     "iopub.status.busy": "2024-08-23T07:33:00.279505Z",
     "iopub.status.idle": "2024-08-23T07:33:01.692913Z",
     "shell.execute_reply": "2024-08-23T07:33:01.691072Z"
    },
    "nbgrader": {
     "cell_type": "code",
     "checksum": "c3e8c39a33d16a492008d7f47ca05063",
     "grade": true,
     "grade_id": "cell-0b2c34b95270ff59",
     "locked": true,
     "points": 3,
     "schema_version": 3,
     "solution": false,
     "task": false
    },
    "slideshow": {
     "slide_type": ""
    },
    "tags": []
   },
   "outputs": [],
   "source": []
  },
  {
   "cell_type": "markdown",
   "id": "aaf54f3b-c850-4dd8-bc21-8d1541393ffc",
   "metadata": {
    "deletable": false,
    "editable": false
   },
   "source": [
    "<a id=\"oppg_6b\"></a>\n",
    "### b) \n",
    "Ser du at plottene i oppgave **a)** er \"hakkete\"? I denne oppgaven skal du fikse opp i det. Bruk de samme funksjonene som du lagde i oppgave **a)**, men denne gangen, skriv om koden slik at plottene blir \"glattere\" og ligner mer på en annengradskurve. \n",
    "\n",
    "***Skriv koden din i kodeblokken nedenfor***"
   ]
  },
  {
   "cell_type": "code",
   "execution_count": null,
   "id": "a3959821-c4b3-4089-8662-976684ced9c1",
   "metadata": {
    "autofeedback": {
     "plot_task": true
    },
    "deletable": false,
    "execution": {
     "iopub.execute_input": "2024-08-23T07:33:01.701546Z",
     "iopub.status.busy": "2024-08-23T07:33:01.700980Z",
     "iopub.status.idle": "2024-08-23T07:33:02.052801Z",
     "shell.execute_reply": "2024-08-23T07:33:02.047220Z"
    },
    "nbgrader": {
     "cell_type": "code",
     "checksum": "b69d38aa2c407f7b2fa6af5685ceaa22",
     "grade": false,
     "grade_id": "cell-2bedff5857e25ba1",
     "locked": false,
     "schema_version": 3,
     "solution": true,
     "task": false
    }
   },
   "outputs": [],
   "source": [
    "#-------------------------------------\n",
    "# SKRIV DIN KODE HER!\n",
    "#-------------------------------------"
   ]
  },
  {
   "cell_type": "markdown",
   "id": "4b177cae-4ecd-4b0e-af52-1376dbe0dedb",
   "metadata": {
    "deletable": false,
    "editable": false
   },
   "source": [
    "Har du løst oppgaven riktig skal du se en figur som ser noe [slik](Figurer/oppg6b_LF.png) ut."
   ]
  },
  {
   "cell_type": "code",
   "execution_count": null,
   "id": "7ababa28-46ea-4027-8428-b717557d3f50",
   "metadata": {
    "autofeedback": {
     "test_code": "ZnJvbSBhdXRvZmVlZGJhY2sgaW1wb3J0IFZhcmlhYmxlVGVzdHMKaW1wb3J0IG51bXB5IGFzIG5wCgpmX3NvbCA9IGxhbWJkYSB4OiB4KioyLTMqeCsyCgp0ZXN0X3Jlc3VsdHMgPSBWYXJpYWJsZVRlc3RzKCkKCmlmIGxlbihmaWcuYXhlcykgPCAxOgogICAgdGVzdF9yZXN1bHRzLmFkZF9yZXN1bHQoRmFsc2UsICJObyBwbG90IGRldGVjdGVkLiIpCmVsc2U6CiAgICB0cnk6CiAgICAgICAgbGluZSA9IGZpZy5heGVzWy0xXS5saW5lc1stMV0KICAgIGV4Y2VwdCBFeGNlcHRpb24gYXMgZToKICAgICAgICB0ZXN0X3Jlc3VsdHMubG9nLmFwcGVuZCgiQ291bGQgbm90IHJ1biB0ZXN0cywgIitlLmFyZ3NbMF0pCiAgICBlbHNlOgogICAgICAgIHRlc3RfcmVzdWx0cy5jb21wYXJlX3ZhbHVlcyhsaW5lLmdldF95ZGF0YSgpLCBmX3NvbChsaW5lLmdldF94ZGF0YSgpKSwgbmFtZT0iJ3lkYXRhJyB3aGljaCB3YXMgZXh0cmFjdGVkIGZyb20gcGxvdCIpCiAgICAgICAgdGVzdF9yZXN1bHRzLmFkZF9yZXN1bHQobGVuKGxpbmUuZ2V0X3hkYXRhKCkpID4gMTAsCiAgICAgICAgICAgICAgICAgICAgICAgICAgICAgICAgIlN1ZmZpY2llbnQgbnVtYmVyIG9mIGRhdGEgcG9pbnRzIGluIHBsb3QiIGlmIGxlbihsaW5lLmdldF94ZGF0YSgpKT4xMCBlbHNlICJub3QgZW5vdWdoIGRhdGEgcG9pbnRzIGluIHBsb3QiKQoKcm91bmQodGVzdF9yZXN1bHRzLmdldF9yZXN1bHRzKCkqMywgMik="
    },
    "deletable": false,
    "editable": false,
    "execution": {
     "iopub.execute_input": "2024-08-23T07:33:02.060943Z",
     "iopub.status.busy": "2024-08-23T07:33:02.060628Z",
     "iopub.status.idle": "2024-08-23T07:33:02.078427Z",
     "shell.execute_reply": "2024-08-23T07:33:02.076057Z"
    },
    "nbgrader": {
     "cell_type": "code",
     "checksum": "7a073905fe53c908c6074252eb8acfd4",
     "grade": true,
     "grade_id": "cell-d5f0a4ad047ea826",
     "locked": true,
     "points": 3,
     "schema_version": 3,
     "solution": false,
     "task": false
    }
   },
   "outputs": [],
   "source": []
  },
  {
   "cell_type": "markdown",
   "id": "4449039d-61b4-468e-ae92-0fa047dc9658",
   "metadata": {
    "deletable": false,
    "editable": false
   },
   "source": [
    "<a id=\"oppg_6c\"></a>\n",
    "## c) \n",
    "\n",
    "\n",
    "I denne oppgaven skal du tilføre plottet fra **b)** litt kontekst. Typisk når man lager plot er det nødvenig med en tittel, og merking av aksene for at leseren skal skjønne hva kurven representerer. Kopier koden fra **b)** og legg til følgende informasjon i plottet.\n",
    "\n",
    "* En tittel til plottet med funksjonen `title`, f.eks. \"Plot av fuksjonen f(x)\".\n",
    "* Merkelapper på aksene med funksjonene `xlabel` og `ylabel`, f.eks \"x\" og \"y.\"\n",
    "\n",
    "Det er bare å være kreativ når du bestemmer *hva* plottet og aksene skal hete ;)\n",
    "\n",
    "**Valgfritt**\n",
    "* Legg til et rutenett i plottet (se `grid`)\n",
    "\n",
    "Vi oppfordrer til å lese [dokumentasjonen til matplotlib](https://matplotlib.org/3.5.2/api/index.html) for å løse denne oppgaven.\n",
    "\n",
    "***Kopier koden din fra oppgave b) og gjør modifikasjoner:***"
   ]
  },
  {
   "cell_type": "code",
   "execution_count": null,
   "id": "3cbb90c9-103e-4997-b26a-6ecbfa802c43",
   "metadata": {
    "autofeedback": {
     "plot_task": true
    },
    "deletable": false,
    "execution": {
     "iopub.execute_input": "2024-08-23T07:33:02.085588Z",
     "iopub.status.busy": "2024-08-23T07:33:02.085134Z",
     "iopub.status.idle": "2024-08-23T07:33:02.598765Z",
     "shell.execute_reply": "2024-08-23T07:33:02.596983Z"
    },
    "nbgrader": {
     "cell_type": "code",
     "checksum": "e01b3c1804f13ff96f7997cdeb38ce41",
     "grade": false,
     "grade_id": "cell-90b55d8116becf4b",
     "locked": false,
     "schema_version": 3,
     "solution": true,
     "task": false
    }
   },
   "outputs": [],
   "source": [
    "#-------------------------------------\n",
    "# SKRIV DIN KODE HER!\n",
    "#-------------------------------------"
   ]
  },
  {
   "cell_type": "markdown",
   "id": "83f1dfcd-edf2-470b-be77-cbbaaa265e62",
   "metadata": {
    "deletable": false,
    "editable": false
   },
   "source": [
    "Har du løst oppgaven riktig skal du se en figur som ser noe [slik](Figurer/oppg6c_LF.png) ut."
   ]
  },
  {
   "cell_type": "code",
   "execution_count": null,
   "id": "9f8477fe-bd47-4dee-bb04-244da45ad26e",
   "metadata": {
    "autofeedback": {
     "test_code": "ZnJvbSBhdXRvZmVlZGJhY2sgaW1wb3J0IEN1c3RvbVRlc3RzCmltcG9ydCBudW1weSBhcyBucApmX3NvbCA9IGxhbWJkYSB4OiB4KioyLTMqeCsyCgp0ZXN0X3Jlc3VsdHMgPSBDdXN0b21UZXN0cygpCgppZiBsZW4oZmlnLmF4ZXMpIDwgMToKICAgIHRlc3RfcmVzdWx0cy5hZGRfcmVzdWx0KEZhbHNlLCAiTm8gcGxvdCBkZXRlY3RlZC4iKQplbHNlOgogICAgdHJ5OgogICAgICAgIHN0dWRlbnRfYW5zd2VyX2F4ZXMgPSBmaWcuYXhlc1stMV0KICAgIGV4Y2VwdCBFeGNlcHRpb24gYXMgZToKICAgICAgICB0ZXN0X3Jlc3VsdHMuYWRkX3Jlc3VsdChGYWxzZSwgIk5vIHBsb3QgZGV0ZWN0ZWQiKQogICAgZWxzZToKICAgICAgICB0ZXN0X3Jlc3VsdHMudGVzdChzdHVkZW50X2Fuc3dlcl9heGVzLmdldF90aXRsZSgpICE9ICIiLAogICAgICAgICAgICAgICAgICAgICAgICAgICAgICAgICJQbG90IHRpdGxlIHByZXNlbnQiLAogICAgICAgICAgICAgICAgICAgICAgICAgICAgICAgICJObyB0aXRsZSBkZXRlY3RlZCBmb3IgcGxvdCIpCiAgICAgICAgdGVzdF9yZXN1bHRzLnRlc3Qoc3R1ZGVudF9hbnN3ZXJfYXhlcy5nZXRfeGxhYmVsKCkgIT0gIiIsCiAgICAgICAgICAgICAgICAgICAgICAgICAgICAgICAgIkxhYmVsIGRlZmluZWQgZm9yIHgtYXhpcyIsCiAgICAgICAgICAgICAgICAgICAgICAgICAgICAgICAgIk5vIGxhYmVsIGZvdW5kIGZvciB4LWF4aXMiKQogICAgICAgIHRlc3RfcmVzdWx0cy50ZXN0KHN0dWRlbnRfYW5zd2VyX2F4ZXMuZ2V0X3lsYWJlbCgpICE9ICIiLAogICAgICAgICAgICAgICAgICAgICAgICAgICAgICAgICJMYWJlbCBkZWZpbmVkIGZvciB5LWF4aXMiLAogICAgICAgICAgICAgICAgICAgICAgICAgICAgICAgICJObyBsYWJlbCBmb3VuZCBmb3IgeS1heGlzIikKICAgICAgICAKcm91bmQodGVzdF9yZXN1bHRzLmdldF9yZXN1bHRzKCkqNCwgMik="
    },
    "deletable": false,
    "editable": false,
    "execution": {
     "iopub.execute_input": "2024-08-23T07:33:02.608200Z",
     "iopub.status.busy": "2024-08-23T07:33:02.607859Z",
     "iopub.status.idle": "2024-08-23T07:33:02.625083Z",
     "shell.execute_reply": "2024-08-23T07:33:02.622646Z"
    },
    "nbgrader": {
     "cell_type": "code",
     "checksum": "aec8a90ac0af2b4ae59fa8d80bf7ee90",
     "grade": true,
     "grade_id": "cell-9fab1764cafbbe56",
     "locked": true,
     "points": 4,
     "schema_version": 3,
     "solution": false,
     "task": false
    }
   },
   "outputs": [],
   "source": []
  },
  {
   "cell_type": "markdown",
   "id": "7a34da7a",
   "metadata": {
    "deletable": false,
    "editable": false
   },
   "source": [
    "<br>\n",
    "<nav class=\"navbar navbar-default\">\n",
    "    <div class=\"container-fluid\">\n",
    "        <div class=\"navbar-header\" style=\"float: left\">\n",
    "            <a class=\"navbar-brand\" href=\"5_Ofte_brukte_arrays.ipynb\" target=\"_self\">&lt; Forrige side: <i>ofte brukte arrays</i></a>\n",
    "            </div>\n",
    "        <div class=\"navbar-header\" style=\"float: right\">\n",
    "            <a class=\"navbar-brand\" href=\"7_Plotting_2.ipynb\" target=\"_self\">Neste side: <i>viderekommen plotting</i> &gt;</a>\n",
    "        </div>\n",
    "    </div>\n",
    "</nav>"
   ]
  }
 ],
 "metadata": {
  "kernelspec": {
   "display_name": "Python 3 (ipykernel)",
   "language": "python",
   "name": "python3"
  },
  "language_info": {
   "codemirror_mode": {
    "name": "ipython",
    "version": 3
   },
   "file_extension": ".py",
   "mimetype": "text/x-python",
   "name": "python",
   "nbconvert_exporter": "python",
   "pygments_lexer": "ipython3",
   "version": "3.11.6"
  },
  "toc": {
   "base_numbering": 1
  }
 },
 "nbformat": 4,
 "nbformat_minor": 5
}
