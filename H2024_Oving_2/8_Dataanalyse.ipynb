{
 "cells": [
  {
   "cell_type": "markdown",
   "id": "d5a84ee8",
   "metadata": {
    "deletable": false,
    "editable": false
   },
   "source": [
    "\n",
    "<nav class=\"navbar navbar-default\">\n",
    "  <div class=\"container-fluid\">\n",
    "    <div class=\"navbar-header\" style=\"float: left\">\n",
    "        <a class=\"navbar-brand\" href=\"0_Forside.ipynb\" target=\"_self\"> <h2> &uarr; Tilbake til forsiden</h2></a>\n",
    "    </div>\n",
    "  </div>\n",
    "</nav>"
   ]
  },
  {
   "cell_type": "markdown",
   "id": "5d14094e-d9ba-49e2-afe9-e0379439b52e",
   "metadata": {},
   "source": [
    "# Dataanalyse med Python\n",
    "\n",
    "**Læringsmål:**\n",
    "* Grunnleggende analyse av datasett\n",
    "* Abstraksjon av funksjoner\n",
    "\n",
    "**Oversikt:**\n",
    "* [Oppgave a) ekstremverdier](#oppg_8a)\n",
    "* [Oppgave b) matching av data](#oppg_8b)\n",
    "* [Oppgave c) generalisering av funksjoner](#oppg_8c)\n",
    "* [Oppgave d) behandling av store datasett](#oppg_8d)\n",
    "\n",
    "\n",
    "## Intro til datasett med tidevannsmålinger\n",
    "\n",
    "Et anvendelsesområde for Python som er aktuelt for mange ingeniørfag er dataanalyse. La oss si at vi tar målinger av havnivået i Ålesund over ett døgn for å kartlegge flo og fjære i denne tidsperioden. Da vil man typisk føre opp klokkeslett og målt havnivå i en slags tabell.\n",
    "\n",
    "| Klokkeslett | Havnivå (cm) |\n",
    "| --- | --- |\n",
    "|00:00|180.5|\n",
    "|01:00|192.8|\n",
    "|02:00|190.4|\n",
    "|$\\ \\vdots$|$\\ \\vdots$|\n",
    "|23:00|129.2|\n",
    "\n",
    "\n",
    "Med python kan vi bruke f.eks. lister til holde oversikt over denne dataen, der vi har én liste for kolonnen med klokkeslett, og en annen liste for kolonnen med havnivåmålinger."
   ]
  },
  {
   "cell_type": "code",
   "execution_count": null,
   "id": "b1c7736b-a0a0-4082-98b8-0c17e05a0af0",
   "metadata": {
    "execution": {
     "iopub.execute_input": "2024-06-25T10:15:36.681667Z",
     "iopub.status.busy": "2024-06-25T10:15:36.680605Z",
     "iopub.status.idle": "2024-06-25T10:15:36.698968Z",
     "shell.execute_reply": "2024-06-25T10:15:36.697076Z"
    }
   },
   "outputs": [],
   "source": [
    "waterlevel_data = [180.5, 192.8, 190.4, 176.8, 144.7, 104.8,  \n",
    "                    73.9,  55.0,  53.3,  62.6,  87.8, 125.1,\n",
    "                   156.0, 178.9, 183.1, 173.4, 152.3, 119.6, \n",
    "                    89.5,  68.5,  66.7,  75.0,  96.3, 129.2]\n",
    "\n",
    "timestamps = ['00:00', '01:00', '02:00', '03:00', '04:00', '05:00', \n",
    "              '06:00', '07:00', '08:00', '09:00', '10:00', '11:00', \n",
    "              '12:00', '13:00', '14:00', '15:00', '16:00', '17:00', \n",
    "              '18:00', '19:00', '20:00', '21:00', '22:00', '23:00']"
   ]
  },
  {
   "cell_type": "markdown",
   "id": "c2742c99-e5ce-4c08-bed6-51f832165d31",
   "metadata": {},
   "source": [
    "Gitt listene over, kan vi for eksempel lage en graf som viser havnivået over tid med bruk av matpotlib slik kodecellen under gjør.<br>\n",
    "*PS: kodeeksempelet bruker litt spesielle funksjoner for å bl.a. kunne skrive klokkeslett langs x-aksen med rotert tekst. Dette er ikke pensum, men heller et eksempel på hva som er mulig å gjøre.*"
   ]
  },
  {
   "cell_type": "code",
   "execution_count": null,
   "id": "dd817fdc-748c-41dd-985a-4eacce6e750e",
   "metadata": {
    "execution": {
     "iopub.execute_input": "2024-06-25T10:15:36.704496Z",
     "iopub.status.busy": "2024-06-25T10:15:36.703463Z",
     "iopub.status.idle": "2024-06-25T10:15:37.683921Z",
     "shell.execute_reply": "2024-06-25T10:15:37.682627Z"
    }
   },
   "outputs": [],
   "source": [
    "import matplotlib.pyplot as plt\n",
    "import numpy as np\n",
    "\n",
    "# Kode for å lage plott av havnivå ut ifra klokkeslett.\n",
    "plt.figure(figsize=(12,6))  # Sett opp en tom figur med bredde 16 og høyde 6\n",
    "plt.plot(waterlevel_data)   # Plott tidevannsdata\n",
    "plt.xticks(np.arange(len(timestamps)), timestamps, rotation=-30); # Merk x-aksen med klokkeslett\n",
    "plt.margins(x=0) # Fjern marginene i x-retning\n",
    "plt.grid(True)   # Slå på rutenett\n",
    "plt.xlabel(\"Klokkeslett\")\n",
    "plt.ylabel(\"Havnivå (cm)\")\n",
    "plt.title(\"Havnivå i Ålesund i løpet av et døgn\")"
   ]
  },
  {
   "cell_type": "markdown",
   "id": "17750f21-30ae-438b-a2bd-420b15bf0326",
   "metadata": {},
   "source": [
    "Noe som også er aktuelt i dataanalyse er å hente ut nøkkelinformasjon som man eventuelt skulle ha interesse av fra et datasett automatisk, uten å måtte studere en tabell eller et plott manuelt. Vi skal nå ta for oss et par scenario der vi tar i bruk dataen i listene `waterlevel_data` og `timestamps`."
   ]
  },
  {
   "cell_type": "markdown",
   "id": "6623f277-d232-4041-abee-e8e9d4987af1",
   "metadata": {},
   "source": [
    "<a id=\"oppg_8a\"></a>\n",
    "## a)\n",
    "Du skal nå bruke python til å finne ut hva som var det høyeste og det laveste havnivået som ble målt i løpet av de 24 timene. For å få til dette er det spesielt to funksjoner i `numpy`-biblioteket som kan komme godt med:\n",
    "- [`numpy.max()`](https://numpy.org/doc/stable/reference/generated/numpy.max.html), som finner ut hva den høyeste tallverdien i en liste med tall er.\n",
    "- [`numpy.min()`](https://numpy.org/doc/stable/reference/generated/numpy.min.html), som finner ut hva den laveste tallverdien i en liste med tall er.\n",
    "\n",
    "Pass på å lagre maks havnivå og minimum havnivå i variablene `max_value` og `min_value` slik malen nedenfor indikerer. Om du er usikker på om svaret er riktig når du skriver ut tallverdien, kan det være en idé å kontrollere med havnivåene som vises i plottet ovenfor.\n",
    "<!--\n",
    "Bruk numpy funksjonene til å finne max, min, og snitt verdi til tidevannsdataen. Bruk variabel navnene:\n",
    "- `max_value`\n",
    "- `min_value`\n",
    "- `avg_value`\n",
    "\n",
    "For å lagre de ulike resultatene av datanalysen.\n",
    "\n",
    "Merk at arrayet dere skal bruke heter `waterlevel_measurements`-->"
   ]
  },
  {
   "cell_type": "code",
   "execution_count": null,
   "id": "64c8755d-2934-4694-862b-7b933346c96e",
   "metadata": {
    "execution": {
     "iopub.execute_input": "2024-06-25T10:15:37.691429Z",
     "iopub.status.busy": "2024-06-25T10:15:37.690366Z",
     "iopub.status.idle": "2024-06-25T10:15:37.696371Z",
     "shell.execute_reply": "2024-06-25T10:15:37.695442Z"
    }
   },
   "outputs": [],
   "source": [
    "max_value = ??? # Fyll inn korrekt kode her\n",
    "min_value = ??? # Fyll inn korrekt kode her\n",
    "print(f\"{max_value = }\")\n",
    "print(f\"{min_value = }\")"
   ]
  },
  {
   "cell_type": "code",
   "execution_count": null,
   "id": "027706bd-ec4a-48b6-8315-ea404d859c73",
   "metadata": {
    "autofeedback": {
     "test_code": "ZnJvbSBhdXRvZmVlZGJhY2sgaW1wb3J0IFZhcmlhYmxlVGVzdHMKCmdyYWRpbmdfcmVzdWx0cyA9IFZhcmlhYmxlVGVzdHMoKQoKaWYgJ21heF92YWx1ZScgaW4gZ2xvYmFscygpOgogICAgZ3JhZGluZ19yZXN1bHRzLmNvbXBhcmVfdmFsdWVzKG1heF92YWx1ZSwgMTkyLjgpCmVsc2U6CiAgICBncmFkaW5nX3Jlc3VsdHMuYWRkX3Jlc3VsdChGYWxzZSwgIk5vIHZhcmlhYmxlIG5hbWVkICdtYXhfdmFsdWUnIGRlY2xhcmVkIikKCmlmICdtaW5fdmFsdWUnIGluIGdsb2JhbHMoKToKICAgIGdyYWRpbmdfcmVzdWx0cy5jb21wYXJlX3ZhbHVlcyhtaW5fdmFsdWUsIDUzLjMpCmVsc2U6CiAgICBncmFkaW5nX3Jlc3VsdHMuYWRkX3Jlc3VsdChGYWxzZSwgIk5vIHZhcmlhYmxlIG5hbWVkICdtaW5fdmFsdWUnIGRlY2xhcmVkIikKCnJvdW5kKGdyYWRpbmdfcmVzdWx0cy5nZXRfcmVzdWx0cygpKjIsIDIp"
    },
    "deletable": false,
    "editable": false,
    "execution": {
     "iopub.execute_input": "2024-06-25T10:15:37.699873Z",
     "iopub.status.busy": "2024-06-25T10:15:37.699500Z",
     "iopub.status.idle": "2024-06-25T10:15:39.124637Z",
     "shell.execute_reply": "2024-06-25T10:15:39.123658Z"
    },
    "nbgrader": {
     "cell_type": "code",
     "checksum": "fb03f5656654b9b854364e2fd0c3f85b",
     "grade": true,
     "grade_id": "cell-6b062fc80014cd96",
     "locked": true,
     "points": 2,
     "schema_version": 3,
     "solution": false,
     "task": false
    }
   },
   "outputs": [],
   "source": []
  },
  {
   "cell_type": "markdown",
   "id": "6bdbbea9-78f3-4e0f-a15e-f18a79d90271",
   "metadata": {},
   "source": [
    "### Finne laveste/høyeste verdi\n",
    "\n",
    "Fra oppgave **a)** vet du hvordan man finner ut *hva* den høyeste/laveste verdien i en array er, men hva om du skal finne ut *hvor* dette elementet er? Da bruker du [`np.argmax`](https://numpy.org/doc/stable/reference/generated/numpy.argmax.html)/[`np.argmin`](https://numpy.org/doc/stable/reference/generated/numpy.argmin.html), som returnerer *indeksen* til den høyeste/laveste tallverdien.\n",
    "\n",
    "For denne oppgaven er det viktig å påpeke at `waterlevel_data` og `timestamps` hører sammen. Om vi for eksempel velger index 7 vil `timestamps[7]` være klokkeslett og dato når høyden til tidevannet er `waterlevel_data[7]`"
   ]
  },
  {
   "cell_type": "markdown",
   "id": "3a38b72d-7764-45c8-9d45-9e5e4a228139",
   "metadata": {},
   "source": [
    "<a id=\"oppg_8b\"></a>\n",
    "## b)\n",
    "Finn ut når på døgnet tidevannet er på sitt høyeste/lavestse, og lagre dette klokkeslettet i variablene `max_water_timestamp` og `min_water_timestamp`."
   ]
  },
  {
   "cell_type": "code",
   "execution_count": null,
   "id": "41ed3e58-7e25-4d0e-94d1-2d12ecfa364e",
   "metadata": {
    "deletable": false,
    "editable": true,
    "execution": {
     "iopub.execute_input": "2024-06-25T10:15:39.133857Z",
     "iopub.status.busy": "2024-06-25T10:15:39.133346Z",
     "iopub.status.idle": "2024-06-25T10:15:39.138701Z",
     "shell.execute_reply": "2024-06-25T10:15:39.137624Z"
    },
    "nbgrader": {
     "cell_type": "code",
     "checksum": "d93f1c0786fc37849cdb7b6b1c8eecc4",
     "grade": false,
     "grade_id": "cell-f9abc9fea6205dc8",
     "locked": false,
     "schema_version": 3,
     "solution": true,
     "task": false
    },
    "slideshow": {
     "slide_type": ""
    },
    "tags": []
   },
   "outputs": [],
   "source": [
    "#-------------------------------------\n",
    "# SKRIV DIN KODE HER:\n",
    "#-------------------------------------"
   ]
  },
  {
   "cell_type": "code",
   "execution_count": null,
   "id": "8cda6a1c-a991-41ab-b283-2f90a0a0d5f0",
   "metadata": {
    "autofeedback": {
     "test_code": "ZnJvbSBhdXRvZmVlZGJhY2sgaW1wb3J0IFZhcmlhYmxlVGVzdHMKCmdyYWRpbmdfcmVzdWx0cyA9IFZhcmlhYmxlVGVzdHMoKQoKdmFyX25hbWUgPSAnbWF4X3dhdGVyX3RpbWVzdGFtcCcKaWYgdmFyX25hbWUgaW4gZ2xvYmFscygpOgogICAgZ3JhZGluZ19yZXN1bHRzLmNvbXBhcmVfdmFsdWVzKGdsb2JhbHMoKVt2YXJfbmFtZV0sICIwMTowMCIpCmVsc2U6CiAgICBncmFkaW5nX3Jlc3VsdHMuYWRkX3Jlc3VsdChGYWxzZSwgZiJObyB2YXJpYWJsZSBuYW1lZCAne3Zhcl9uYW1lfScgZGVjbGFyZWQiKQoKdmFyX25hbWUgPSAnbWluX3dhdGVyX3RpbWVzdGFtcCcKaWYgdmFyX25hbWUgaW4gZ2xvYmFscygpOgogICAgZ3JhZGluZ19yZXN1bHRzLmNvbXBhcmVfdmFsdWVzKGdsb2JhbHMoKVt2YXJfbmFtZV0sICIwODowMCIpCmVsc2U6CiAgICBncmFkaW5nX3Jlc3VsdHMuYWRkX3Jlc3VsdChGYWxzZSwgZiJObyB2YXJpYWJsZSBuYW1lZCAne3Zhcl9uYW1lfScgZGVjbGFyZWQiKQoKcm91bmQoZ3JhZGluZ19yZXN1bHRzLmdldF9yZXN1bHRzKCkqMywgMik="
    },
    "deletable": false,
    "editable": false,
    "execution": {
     "iopub.execute_input": "2024-06-25T10:15:39.145154Z",
     "iopub.status.busy": "2024-06-25T10:15:39.144863Z",
     "iopub.status.idle": "2024-06-25T10:15:39.156992Z",
     "shell.execute_reply": "2024-06-25T10:15:39.156024Z"
    },
    "nbgrader": {
     "cell_type": "code",
     "checksum": "a1e7b8e3fd0ebd625c5632bdcbfb289b",
     "grade": true,
     "grade_id": "cell-0a856d8e799b3ae8",
     "locked": true,
     "points": 3,
     "schema_version": 3,
     "solution": false,
     "task": false
    }
   },
   "outputs": [],
   "source": []
  },
  {
   "cell_type": "markdown",
   "id": "55c34776-7a98-41f2-9e2e-fb4c355df5b8",
   "metadata": {},
   "source": [
    "I programmering er det alltid en fordel å skrive funksjoner som kan generaliseres der det passer. I denne situasjonen kan det for eksempel være ønskelig å lage en funksjon som tar inn listene med måledata og tidsstempel, og returnerer maksverdi sammen med det korresponderende tidspunktet da maksverdien ble målt. Da kan disse funksjonene brukes opp igjen om man får tak i et nytt datasett med målinger fra f.esk. Tromsø."
   ]
  },
  {
   "cell_type": "markdown",
   "id": "16721e7c-3cfa-4b16-a4a3-aad9870ff8a9",
   "metadata": {},
   "source": [
    "<a id=\"oppg_8c\"></a>\n",
    "## c)\n",
    "Ta utgangspunkt i koden fra deloppgave **a)** og **b)** og fullfør funksjonene `get_max_info(data, timestamps)` og `get_min_info(data, timestamps)` nedenfor."
   ]
  },
  {
   "cell_type": "code",
   "execution_count": null,
   "id": "f21b90bc-84a5-4198-b280-3813c9292b78",
   "metadata": {
    "deletable": false,
    "editable": true,
    "execution": {
     "iopub.execute_input": "2024-06-25T10:15:39.167813Z",
     "iopub.status.busy": "2024-06-25T10:15:39.167461Z",
     "iopub.status.idle": "2024-06-25T10:15:39.174078Z",
     "shell.execute_reply": "2024-06-25T10:15:39.172862Z"
    },
    "nbgrader": {
     "cell_type": "code",
     "checksum": "5fef83895f4e4e3e06b38dbb83108ad2",
     "grade": false,
     "grade_id": "cell-dd190bb7537c2d93",
     "locked": false,
     "schema_version": 3,
     "solution": true,
     "task": false
    },
    "slideshow": {
     "slide_type": ""
    },
    "tags": []
   },
   "outputs": [],
   "source": [
    "def get_max_info(data, timestamps):\n",
    "    #-------------------------------------\n",
    "    # SKRIV DIN KODE HER:\n",
    "    #-------------------------------------\n",
    "    return max_value, time_at_max\n",
    "\n",
    "def get_min_info(data, timestamps):\n",
    "    #-------------------------------------\n",
    "    # SKRIV DIN KODE HER:\n",
    "    #-------------------------------------\n",
    "    return min_value, time_at_min"
   ]
  },
  {
   "cell_type": "code",
   "execution_count": null,
   "id": "33013c6f-1088-416f-8b2a-63d3be8dcf41",
   "metadata": {
    "autofeedback": {
     "test_code": "ZnJvbSBhdXRvZmVlZGJhY2sgaW1wb3J0IEN1c3RvbVRlc3RzCgpncmFkaW5nX3Jlc3VsdHMgPSBDdXN0b21UZXN0cygpCnJldHVybl92YWxzID0gZ2V0X21pbl9pbmZvKFsyLCAxLCAzLCAyXSwgWydhJywgJ2InLCAnYycsICdkJ10pIAoKZ3JhZGluZ19yZXN1bHRzLnRlc3QocmV0dXJuX3ZhbHMgPT0gKDEsICdiJyksCiAgICAgICAgICAgICAgICAgICAgICJjb3JyZWN0IHJldHVybiB2YWx1ZXMgZm9yICdnZXRfbWluX2luZm8oWzIsIDEsIDMsIDJdLCBbJ2EnLCAnYicsICdjJywgJ2QnXSknIiwKICAgICAgICAgICAgICAgICAgICAgZiJmdW5jdGlvbiBjYWxsICdnZXRfbWluX2luZm8oWzIsMSwzLDJdLCBbJ2EnLCAnYicsICdjJywgJ2QnXSknIHJldHVybmVkICd7cmV0dXJuX3ZhbHN9JywgRXhwZWN0ZWQgJygxLCAnYicpJyIpCnJldHVybl92YWxzID0gZ2V0X21heF9pbmZvKFsyLCAxLCAzLCAyXSwgWydhJywgJ2InLCAnYycsICdkJ10pIApncmFkaW5nX3Jlc3VsdHMudGVzdChyZXR1cm5fdmFscyA9PSAoMywgJ2MnKSwKICAgICAgICAgICAgICAgICAgICAgImNvcnJlY3QgcmV0dXJuIHZhbHVlcyBmb3IgJ2dldF9taW5faW5mbyhbMiwgMSwgMywgMl0sIFsnYScsICdiJywgJ2MnLCAnZCddKSciLAogICAgICAgICAgICAgICAgICAgICBmImZ1bmN0aW9uIGNhbGwgJ2dldF9taW5faW5mbyhbMiwxLDMsMl0sIFsnYScsICdiJywgJ2MnLCAnZCddKScgcmV0dXJuZWQgJ3tyZXR1cm5fdmFsc30nLCBFeHBlY3RlZCAnKDMsICdjJyknIikKcm91bmQoZ3JhZGluZ19yZXN1bHRzLmdldF9yZXN1bHRzKCkqMywgMik="
    },
    "deletable": false,
    "editable": false,
    "execution": {
     "iopub.execute_input": "2024-06-25T10:15:39.180061Z",
     "iopub.status.busy": "2024-06-25T10:15:39.179763Z",
     "iopub.status.idle": "2024-06-25T10:15:39.192114Z",
     "shell.execute_reply": "2024-06-25T10:15:39.190992Z"
    },
    "nbgrader": {
     "cell_type": "code",
     "checksum": "af67b9b2e61b86c728e3affc60fc8722",
     "grade": true,
     "grade_id": "cell-b8c2bac5c0f85a46",
     "locked": true,
     "points": 3,
     "schema_version": 3,
     "solution": false,
     "task": false
    },
    "slideshow": {
     "slide_type": ""
    },
    "tags": []
   },
   "outputs": [],
   "source": [
    "time_at_min, min_value = get_min_info(timestamps, waterlevel_data)\n",
    "time_at_max, max_value = get_max_info(timestamps, waterlevel_data)\n",
    "print(f\"Det laveste registrerte havnivået var {min_value} cm på tidspunktet {time_at_min}.\")\n",
    "print(f\"Det høyeste registrerte havnivået var {max_value} cm på tidspunktet {time_at_max}.\")"
   ]
  },
  {
   "cell_type": "markdown",
   "id": "7d7f89f4-756d-48de-92aa-49feaab471bb",
   "metadata": {
    "editable": true,
    "slideshow": {
     "slide_type": ""
    },
    "tags": []
   },
   "source": [
    "### Analyse av større datasett\n",
    "\n",
    "I denne programmeringsoppgaven skal vi begynne bruke koden vi har skrevet tidligere analysere et stort datasett fra en virkelige verden. Som vedlegg til denne øvingen finnes en fil [`tidevannsdata_aalesund_uke34_2023.csv`](tidevannsdata_aalesund_uke34_2023.csv) med tidevannsmålinger for hele Juli i 2024. Filen inneholder en liste med målinger tatt hver time, samt de korresponderende tidsstemplene. Filendingen `.csv` brukes mye til å lagre data i tabellform og står for \"**c**omma **s**eparated **v**alues\", som er en referanse til hvilke tekstsymbol som brukes i tesktfilen til å skille kollonnene fra hverandre. \n",
    "\n",
    "Informasjonen som er lagret i filen [`tidevannsdata_aalesund_juli_2024.csv`](tidevannsdata_aalesund_uke34_2023.csv) kan vi laste inn i python-programmet ved hjelp av biblioteket `pandas`. Dette er et svært omfattende bibliotek som vi ikke skal utforske i nærmere detalj, så koden for å laste inn fildataen og konvertere dataen til lister er oppgitt i kodecellen nedenfor, og det er ***ikke*** forvenet at dere setter du inn i hvordan den fungerer. Alt du trenger å gjøre på dette stadier er å kjøre kodecellen. "
   ]
  },
  {
   "cell_type": "code",
   "execution_count": null,
   "id": "16c61f67-7b79-47c3-9f95-6ea64b3e406f",
   "metadata": {
    "editable": true,
    "execution": {
     "iopub.execute_input": "2024-06-25T10:15:39.199138Z",
     "iopub.status.busy": "2024-06-25T10:15:39.198760Z",
     "iopub.status.idle": "2024-06-25T10:15:39.209679Z",
     "shell.execute_reply": "2024-06-25T10:15:39.208433Z"
    },
    "slideshow": {
     "slide_type": ""
    },
    "tags": []
   },
   "outputs": [],
   "source": [
    "import pandas as pd\n",
    "waterlevel_july_df = pd.read_csv(\"tidevannsdata_aalesund_uke34_2023.csv\", sep=',')\n",
    "waterlevels_july = list(pd.to_numeric(waterlevel_july_df['value']))\n",
    "july_timestamps = list(waterlevel_july_df['time'])"
   ]
  },
  {
   "cell_type": "markdown",
   "id": "86d5e575-137b-4648-b1b6-218b8711a82b",
   "metadata": {},
   "source": [
    "For de spesielt interesserte, gjør kodecellen ovenfor følgende:\n",
    "1. Importer biblioteket `pandas` med alias `pd`\n",
    "2. Last inn tabellen med den innebygde funksjonen `pandas.read_csv()`. Denne trenger filnavnet som input, og ofte bør kolonneseparasjonstegnet (`,`) spesifiseres.\n",
    "3. Hent ut kolonnen med navn `value`, og konverter dataen til en liste. Legg spesielt merke til at vi må konvertere dataen i kolonnen `value` til tallverdier med funksjonen `pandas.to_numeric()` da tall også skrives med tekstsymbol i en tekstfil, og man må fortelle python hvilke tekstsymbols som representerer tallverdier og hvilke som ikke gjør det.\n",
    "4. Hent ut kolonnen med navn `time`, og konverter dataen til en liste. Tidsstemplene vil vi bevare som strenger."
   ]
  },
  {
   "cell_type": "markdown",
   "id": "cc231e13-3a4b-425d-b4b1-40b2c2aee0ea",
   "metadata": {},
   "source": [
    "<a id=\"oppg_8d\"></a>\n",
    "## d)\n",
    "Bruk funksjonene fra deloppgave **c)** til å finne tidspunkt og målt havnivå for det høyeste og det laveste vannivået i Juli måned, og skriv ut resultatet med bruk av `print()`."
   ]
  },
  {
   "cell_type": "code",
   "execution_count": null,
   "id": "c4780e2b-12c3-45ac-b279-a97134b049ea",
   "metadata": {
    "deletable": false,
    "editable": true,
    "execution": {
     "iopub.execute_input": "2024-06-25T10:15:39.214303Z",
     "iopub.status.busy": "2024-06-25T10:15:39.213459Z",
     "iopub.status.idle": "2024-06-25T10:15:39.222487Z",
     "shell.execute_reply": "2024-06-25T10:15:39.221134Z"
    },
    "nbgrader": {
     "cell_type": "code",
     "checksum": "bc1008417fe885214ddc6be40614762f",
     "grade": false,
     "grade_id": "cell-27630e51abd869be",
     "locked": false,
     "schema_version": 3,
     "solution": true,
     "task": false
    },
    "slideshow": {
     "slide_type": ""
    },
    "tags": []
   },
   "outputs": [],
   "source": [
    "#-------------------------------------\n",
    "# SKRIV DIN KODE HER:\n",
    "#-------------------------------------"
   ]
  },
  {
   "cell_type": "code",
   "execution_count": null,
   "id": "c4545e57-33a9-4037-a2df-bdb6dee0e320",
   "metadata": {
    "autofeedback": {
     "test_code": "ZnJvbSBhdXRvZmVlZGJhY2sgaW1wb3J0IENvZGVDZWxsVGVzdHMKCmFuc3dlcl9jZWxsX2luZGV4ID0gbGVuKEluKSAtIDIKYW5zd2VyX2NlbGxfY29udGVudHMgPSBJblthbnN3ZXJfY2VsbF9pbmRleF0KCmdyYWRpbmdfcmVzdWx0cyA9IENvZGVDZWxsVGVzdHMoYW5zd2VyX2NlbGxfY29udGVudHMsIGdsb2JhbHM9Z2xvYmFscygpLCBsb2NhbHM9bG9jYWxzKCkpCiMgVVBEQVRFIEZPUiBORVcgREFUQSEhISEhIQpncmFkaW5nX3Jlc3VsdHMudGVzdF9vdXRwdXQociJcRDE5MlsuXThcRCIsIHNhbXBsZT0iMTkyLjgiKSAKZ3JhZGluZ19yZXN1bHRzLnRlc3Rfb3V0cHV0KHIiXEQ1M1suXTNcRCIsIHNhbXBsZT0iNTMuMyIpCmdyYWRpbmdfcmVzdWx0cy50ZXN0X291dHB1dCgiMjAyMy0wOC0yMVQwMTowMDowMCIpCmdyYWRpbmdfcmVzdWx0cy50ZXN0X291dHB1dCgiMjAyMy0wOC0yMVQwODowMDowMCIpCnJvdW5kKGdyYWRpbmdfcmVzdWx0cy5nZXRfcmVzdWx0cygpKjIsIDIp"
    },
    "deletable": false,
    "editable": false,
    "execution": {
     "iopub.execute_input": "2024-06-25T10:15:39.227458Z",
     "iopub.status.busy": "2024-06-25T10:15:39.226433Z",
     "iopub.status.idle": "2024-06-25T10:15:39.245751Z",
     "shell.execute_reply": "2024-06-25T10:15:39.244414Z"
    },
    "nbgrader": {
     "cell_type": "code",
     "checksum": "ab45bc2e0534399552b2361a8c8d6e4e",
     "grade": true,
     "grade_id": "cell-fa6a885f246a8730",
     "locked": true,
     "points": 2,
     "schema_version": 3,
     "solution": false,
     "task": false
    }
   },
   "outputs": [],
   "source": []
  },
  {
   "cell_type": "markdown",
   "id": "eb468544",
   "metadata": {
    "deletable": false,
    "editable": false
   },
   "source": [
    "<br>\n",
    "<nav class=\"navbar navbar-default\">\n",
    "    <div class=\"container-fluid\">\n",
    "        <div class=\"navbar-header\" style=\"float: left\">\n",
    "            <a class=\"navbar-brand\" href=\"7_Plotting_2.ipynb\" target=\"_self\">&lt; Forrige side: <i>viderekommen plotting</i></a>\n",
    "            </div>\n",
    "        <div class=\"navbar-header\" style=\"float: right\">\n",
    "            <a class=\"navbar-brand\" href=\"9_Plotting_3.ipynb\" target=\"_self\">Neste side: <i>logaritmisk plotting</i> &gt;</a>\n",
    "        </div>\n",
    "    </div>\n",
    "</nav>"
   ]
  }
 ],
 "metadata": {
  "kernelspec": {
   "display_name": "Python 3 (ipykernel)",
   "language": "python",
   "name": "python3"
  },
  "language_info": {
   "codemirror_mode": {
    "name": "ipython",
    "version": 3
   },
   "file_extension": ".py",
   "mimetype": "text/x-python",
   "name": "python",
   "nbconvert_exporter": "python",
   "pygments_lexer": "ipython3",
   "version": "3.11.6"
  }
 },
 "nbformat": 4,
 "nbformat_minor": 5
}
