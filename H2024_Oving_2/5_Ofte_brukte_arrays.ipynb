{
 "cells": [
  {
   "cell_type": "markdown",
   "id": "089feda5",
   "metadata": {
    "deletable": false,
    "editable": false
   },
   "source": [
    "\n",
    "<nav class=\"navbar navbar-default\">\n",
    "  <div class=\"container-fluid\">\n",
    "    <div class=\"navbar-header\" style=\"float: left\">\n",
    "        <a class=\"navbar-brand\" href=\"0_Forside.ipynb\" target=\"_self\"> <h2> &uarr; Tilbake til forsiden</h2></a>\n",
    "    </div>\n",
    "  </div>\n",
    "</nav>"
   ]
  },
  {
   "cell_type": "markdown",
   "id": "5c86490d-f8a2-4ee1-98ef-94c567dc140f",
   "metadata": {
    "deletable": false,
    "editable": false
   },
   "source": [
    "# Ofte brukte arrays\n",
    "\n",
    "**Læringsmål:**\n",
    "* Bli kjent med funksjoner for å generere basis-arrays\n",
    "* Forståelse for når de forskjellige basis-arrayene er aktuelle\n",
    "\n",
    "**Oversikt:**\n",
    "* [Oppgave a) arange og zeros](#oppg_5a)\n",
    "* [Oppgave b) linspace](#oppg_5b)\n",
    "* [Oppgave c) skrittlengde i linspace](#oppg_5c)\n",
    "* [Oppgave d) uniforme arrays](#oppg_5d)\n",
    "\n",
    "## Funksjoner for å generere basis-arrays\n",
    "\n",
    "Så langt er alt dette veldig greit, men ofte vil vi arbeide med arrays som inneholder en del mer enn 6 datapunkt, og da blir det svært tungvindt å skrive hver individuell veri når vi deklarerer en array. Derfor har numpy en rekke funksjone som kan dekke en del \"vanlige\" behov:\n",
    "\n",
    "- Vi lager en array med elementer fra og med `start`, til og med `end`, med `num` elementer, ved å skrive [`np.linspace(start, stop, num)`](https://numpy.org/doc/stable/reference/generated/numpy.linspace.html). \n",
    "- For å lage en array med elementer fra og med `start` til **(men ikke med)** `end`, med steglengde `stepsize`, bruker du funksjone [`np.arange(start, stop, stepsize)`](https://numpy.org/doc/stable/reference/generated/numpy.arange.html).\n",
    "- Vi kan lage en array med `N` antall elementer, hvor hvert element har verdien 0.0, ved å skrive [`np.zeros(N)`](https://numpy.org/doc/stable/reference/generated/numpy.zeros.html), og lagre den i en variabel.\n",
    "- Vi kan lage en array med `N` antall elementer, hvor hvert element har verdien 1.0, ved å skrive [`np.ones(N)`](https://numpy.org/doc/stable/reference/generated/numpy.ones.html), og lagre den i en variabel.\n",
    "\n",
    "```python\n",
    "arr0 = np.linspace(-2, 3, 6) => [-2, -1, 0, 1, 2, 3]\n",
    "arr1 = np.arange(7, 21, 3) => [7, 10, 13, 16, 19]\n",
    "arr2 = np.arange(7) => [0, 1, 2, 3, 4, 5, 6]\n",
    "arr3 = np.zeros(4) => [0, 0, 0, 0]\n",
    "arr4 = np.ones(3) => [1, 1, 1]\n",
    "```\n",
    "\n",
    "<!-- \n",
    "Legg til eksempler for hver av funksjonene, og kanskje helst ha en egen oppgave om array-generering\n",
    "-->\n"
   ]
  },
  {
   "cell_type": "markdown",
   "id": "e7dd32ce-69dc-44d9-9e51-211323e512b4",
   "metadata": {
    "deletable": false,
    "editable": false
   },
   "source": [
    "<a id=\"oppg_5a\"></a>\n",
    "## a)\n",
    "Bruk funksjonen `arange` til å lage en array `m0` med alle heltall f.o.m $-7$ t.o.m. $0$\n",
    "\n",
    "Bruk funksjonen `zeros` til å lage en array `m1` med $7$ nuller."
   ]
  },
  {
   "cell_type": "code",
   "execution_count": null,
   "id": "6c3601ea-12f9-454a-9953-73a88044ef8c",
   "metadata": {
    "deletable": false,
    "execution": {
     "iopub.execute_input": "2024-08-29T13:23:33.730615Z",
     "iopub.status.busy": "2024-08-29T13:23:33.729786Z",
     "iopub.status.idle": "2024-08-29T13:23:34.027845Z",
     "shell.execute_reply": "2024-08-29T13:23:34.026219Z"
    },
    "nbgrader": {
     "cell_type": "code",
     "checksum": "d3441b7a04d7e7cf87928ec42fb4d445",
     "grade": false,
     "grade_id": "cell-ad2a035f387821fc",
     "locked": false,
     "schema_version": 3,
     "solution": true,
     "task": false
    }
   },
   "outputs": [],
   "source": [
    "#-------------------------------------\n",
    "# SKRIV DIN KODE HER!\n",
    "#-------------------------------------"
   ]
  },
  {
   "cell_type": "code",
   "execution_count": null,
   "id": "221b6f76-17c3-451d-b02f-5f74acd19c0f",
   "metadata": {
    "autofeedback": {
     "test_code": "ZnJvbSBhdXRvZmVlZGJhY2sgaW1wb3J0IFZhcmlhYmxlVGVzdHMKaW1wb3J0IG51bXB5IGFzIG5wCmZyb20gdW5pdHRlc3QubW9jayBpbXBvcnQgcGF0Y2gKCmdyYWRpbmdfcmVzdWx0cyA9IFZhcmlhYmxlVGVzdHMoKQoKYW5zd2VyX2NlbGxfaW5kZXggPSBsZW4oSW4pLTIKYW5zd2VyX2NlbGxfY29udGVudHMgPSBJblthbnN3ZXJfY2VsbF9pbmRleF0KCnRyeToKICAgIHdpdGggKHBhdGNoKCJudW1weS5hcmFuZ2UiKSBhcyBtb2NrX2FyYW5nZSwKICAgICAgICAgIHBhdGNoKCJudW1weS56ZXJvcyIpIGFzIG1vY2tfemVyb3MpOgogICAgICAgIGV4ZWMoYW5zd2VyX2NlbGxfY29udGVudHMpCiAgICBleGVjKGFuc3dlcl9jZWxsX2NvbnRlbnRzKQpleGNlcHQgRXhjZXB0aW9uIGFzIGU6CiAgICBncmFkaW5nX3Jlc3VsdHMuYWRkX3Jlc3VsdChGYWxzZSwgImNvdWxkIG5vdCBydW4gYW5zd2VyIGNlbGw6ICIgKyBlLmFyZ3NbMF0pCmVsc2U6CiAgICBpZiBub3QgaXNpbnN0YW5jZShtMCwgbnAubmRhcnJheSk6CiAgICAgICAgZ3JhZGluZ19yZXN1bHRzLmFkZF9yZXN1bHQoRmFsc2UsIGYidmFyaWFibGUgJ20wJyBpcyBvZiB0eXBlIHt0eXBlKG0wKS5fX25hbWVfX30gYW5kIG5vdCBudW1weSBhcnJheSIpCiAgICBlbGlmIG5vdCBtb2NrX2FyYW5nZS5jYWxsZWQ6CiAgICAgICAgZ3JhZGluZ19yZXN1bHRzLmFkZF9yZXN1bHQoRmFsc2UsIGYiZnVuY3Rpb24gJ251bXB5LmFyYW5nZScgbm90IHVzZWQgaW4gYW5zd2VyLiIpCiAgICBlbHNlOgogICAgICAgIGdyYWRpbmdfcmVzdWx0cy5jb21wYXJlX3ZhbHVlcyhtMCwgbnAuYXJhbmdlKC03LCAxKSkKCiAgICBpZiBub3QgaXNpbnN0YW5jZShtMSwgbnAubmRhcnJheSk6CiAgICAgICAgZ3JhZGluZ19yZXN1bHRzLmFkZF9yZXN1bHQoRmFsc2UsIGYidmFyaWFibGUgJ20xJyBpcyBvZiB0eXBlIHt0eXBlKG0xKS5fX25hbWVfX30gYW5kIG5vdCBudW1weSBhcnJheSIpCiAgICBlbGlmIG5vdCBtb2NrX3plcm9zLmNhbGxlZDoKICAgICAgICBncmFkaW5nX3Jlc3VsdHMuYWRkX3Jlc3VsdChGYWxzZSwgZiJmdW5jdGlvbiAnbnVtcHkuemVyb3MnIG5vdCB1c2VkIGluIGFuc3dlci4iKQogICAgZWxzZToKICAgICAgICBncmFkaW5nX3Jlc3VsdHMuY29tcGFyZV92YWx1ZXMobTEsIG5wLnplcm9zKDcpKQoKcm91bmQoZ3JhZGluZ19yZXN1bHRzLmdldF9yZXN1bHRzKCkqMi41LCAyKQ=="
    },
    "deletable": false,
    "editable": false,
    "execution": {
     "iopub.execute_input": "2024-08-29T13:23:34.033386Z",
     "iopub.status.busy": "2024-08-29T13:23:34.032962Z",
     "iopub.status.idle": "2024-08-29T13:23:35.457879Z",
     "shell.execute_reply": "2024-08-29T13:23:35.455396Z"
    },
    "nbgrader": {
     "cell_type": "code",
     "checksum": "86799ce5a96135e613a5659bfe94413a",
     "grade": true,
     "grade_id": "cell-beacf97df60477bf",
     "locked": true,
     "points": 2.5,
     "schema_version": 3,
     "solution": false,
     "task": false
    },
    "slideshow": {
     "slide_type": ""
    },
    "tags": []
   },
   "outputs": [],
   "source": []
  },
  {
   "cell_type": "markdown",
   "id": "4cdf1b0e-f2b7-4a73-aa2d-e3b5e287d52b",
   "metadata": {
    "deletable": false,
    "editable": false
   },
   "source": [
    "<a id=\"oppg_5b\"></a>\n",
    "## b)\n",
    "\n",
    "Bruk funksjonen `linspace` til å lage en array `m2` med verdiene $n \\in \\{-2, -1, 0, 1, 2, 3, 4, 5\\}$"
   ]
  },
  {
   "cell_type": "code",
   "execution_count": null,
   "id": "dfed9ca2-92a4-47fa-abc7-7aa0889b6fa3",
   "metadata": {
    "deletable": false,
    "execution": {
     "iopub.execute_input": "2024-08-29T13:23:35.465991Z",
     "iopub.status.busy": "2024-08-29T13:23:35.465477Z",
     "iopub.status.idle": "2024-08-29T13:23:35.473491Z",
     "shell.execute_reply": "2024-08-29T13:23:35.471054Z"
    },
    "nbgrader": {
     "cell_type": "code",
     "checksum": "29a587d60a375ac32e45abe0f0d4458e",
     "grade": false,
     "grade_id": "cell-ce8dd36a7703d05a",
     "locked": false,
     "schema_version": 3,
     "solution": true,
     "task": false
    }
   },
   "outputs": [],
   "source": [
    "#-------------------------------------\n",
    "# SKRIV DIN KODE HER!\n",
    "#-------------------------------------"
   ]
  },
  {
   "cell_type": "code",
   "execution_count": null,
   "id": "a5f2ad0a-2245-4408-ae19-3a15626d58ec",
   "metadata": {
    "autofeedback": {
     "test_code": "ZnJvbSBhdXRvZmVlZGJhY2sgaW1wb3J0IFZhcmlhYmxlVGVzdHMKaW1wb3J0IG51bXB5IGFzIG5wCmZyb20gdW5pdHRlc3QubW9jayBpbXBvcnQgcGF0Y2gKCmdyYWRpbmdfcmVzdWx0cyA9IFZhcmlhYmxlVGVzdHMoKQoKYW5zd2VyX2NlbGxfaW5kZXggPSBsZW4oSW4pLTIKYW5zd2VyX2NlbGxfY29udGVudHMgPSBJblthbnN3ZXJfY2VsbF9pbmRleF0KCnRyeToKICAgIHdpdGggcGF0Y2goIm51bXB5LmxpbnNwYWNlIikgYXMgbW9ja19saW5zcGFjZToKICAgICAgICBleGVjKGFuc3dlcl9jZWxsX2NvbnRlbnRzKQogICAgZXhlYyhhbnN3ZXJfY2VsbF9jb250ZW50cykKZXhjZXB0IEV4Y2VwdGlvbiBhcyBlOgogICAgZ3JhZGluZ19yZXN1bHRzLmFkZF9yZXN1bHQoRmFsc2UsICJjb3VsZCBub3QgcnVuIGFuc3dlciBjZWxsOiAiICsgZS5hcmdzWzBdKQplbHNlOgogICAgaWYgbm90IGlzaW5zdGFuY2UobTIsIG5wLm5kYXJyYXkpOgogICAgICAgIGdyYWRpbmdfcmVzdWx0cy5hZGRfcmVzdWx0KEZhbHNlLCBmInZhcmlhYmxlICdtMicgaXMgb2YgdHlwZSB7dHlwZShtMikuX19uYW1lX199IGFuZCBub3QgbnVtcHkgYXJyYXkiKQogICAgZWxpZiBub3QgbW9ja19saW5zcGFjZS5jYWxsZWQ6CiAgICAgICAgZ3JhZGluZ19yZXN1bHRzLmFkZF9yZXN1bHQoRmFsc2UsIGYiZnVuY3Rpb24gJ251bXB5LmxpbnNwYWNlJyBub3QgdXNlZCBpbiBhbnN3ZXIuIikKICAgIGVsc2U6CiAgICAgICAgZ3JhZGluZ19yZXN1bHRzLmNvbXBhcmVfdmFsdWVzKG0yLCBucC5saW5zcGFjZSgtMiwgNSwgOCkpCgpyb3VuZChncmFkaW5nX3Jlc3VsdHMuZ2V0X3Jlc3VsdHMoKSoyLjUsIDIp"
    },
    "deletable": false,
    "editable": false,
    "execution": {
     "iopub.execute_input": "2024-08-29T13:23:35.481201Z",
     "iopub.status.busy": "2024-08-29T13:23:35.480790Z",
     "iopub.status.idle": "2024-08-29T13:23:35.504516Z",
     "shell.execute_reply": "2024-08-29T13:23:35.502846Z"
    },
    "nbgrader": {
     "cell_type": "code",
     "checksum": "725bbdfdf23b8122b9555b87eaf92a5a",
     "grade": true,
     "grade_id": "cell-5247bb6af4145be4",
     "locked": true,
     "points": 2.5,
     "schema_version": 3,
     "solution": false,
     "task": false
    }
   },
   "outputs": [],
   "source": [
    "print(f\"m2: {m2}\")"
   ]
  },
  {
   "cell_type": "markdown",
   "id": "d1a36e49-08ff-4266-b8ae-a7abd9680bfb",
   "metadata": {
    "deletable": false,
    "editable": false
   },
   "source": [
    "Numpy anbefaler å bruke `linspace` til å generere lineær en `array` dersom skrittlengden er et flyttall (pga. kumulative flyttallsfeil). Ettersom sluttverdien er inklusiv, må vi derfor ta høyde for ['fencepost problemet'](https://en.wikipedia.org/wiki/Off-by-one_error#Fencepost_error). For eksempel vil funksjonskallet `np.linspace(0, 1, 3)` gi arrayen `[0.0, 0.5, 1.0]` og ikke `[0.0 0.333, 0.667]`.\n"
   ]
  },
  {
   "cell_type": "markdown",
   "id": "f8a93bb5-c140-4dd3-bc79-4fbb373d62a2",
   "metadata": {
    "deletable": false,
    "editable": false
   },
   "source": [
    "<a id=\"oppg_5c\"></a>\n",
    "## c)\n",
    "\n",
    "Bruk funksjonen `linspace` til å lage en array `m3` fra (og med) 0, til (og med) 10, med steglengde 0.1. Altså skal arrayen se noe slik ut $m_3 \\in \\{0, 0.1, 0.2, ..., 9.9, 10\\}$"
   ]
  },
  {
   "cell_type": "code",
   "execution_count": null,
   "id": "34c212b1-63cc-4713-a053-f11446d4c0a2",
   "metadata": {
    "deletable": false,
    "execution": {
     "iopub.execute_input": "2024-08-29T13:23:35.514284Z",
     "iopub.status.busy": "2024-08-29T13:23:35.512952Z",
     "iopub.status.idle": "2024-08-29T13:23:35.560271Z",
     "shell.execute_reply": "2024-08-29T13:23:35.556942Z"
    },
    "nbgrader": {
     "cell_type": "code",
     "checksum": "d45091958a8fb9401f59b918fb533b6e",
     "grade": false,
     "grade_id": "cell-dbfb38daeabf8042",
     "locked": false,
     "schema_version": 3,
     "solution": true,
     "task": false
    }
   },
   "outputs": [],
   "source": [
    "#-------------------------------------\n",
    "# SKRIV DIN KODE HER!\n",
    "#-------------------------------------"
   ]
  },
  {
   "cell_type": "code",
   "execution_count": null,
   "id": "5417c2b1-b64e-48b7-a553-612cbee28d6c",
   "metadata": {
    "autofeedback": {
     "test_code": "ZnJvbSBhdXRvZmVlZGJhY2sgaW1wb3J0IFZhcmlhYmxlVGVzdHMKaW1wb3J0IG51bXB5IGFzIG5wCmZyb20gdW5pdHRlc3QubW9jayBpbXBvcnQgcGF0Y2gKCmdyYWRpbmdfcmVzdWx0cyA9IFZhcmlhYmxlVGVzdHMoKQoKYW5zd2VyX2NlbGxfaW5kZXggPSBsZW4oSW4pLTIKYW5zd2VyX2NlbGxfY29udGVudHMgPSBJblthbnN3ZXJfY2VsbF9pbmRleF0KCnRyeToKICAgIHdpdGggcGF0Y2goIm51bXB5LmxpbnNwYWNlIikgYXMgbW9ja19saW5zcGFjZToKICAgICAgICBleGVjKGFuc3dlcl9jZWxsX2NvbnRlbnRzKQogICAgZXhlYyhhbnN3ZXJfY2VsbF9jb250ZW50cykKZXhjZXB0IEV4Y2VwdGlvbiBhcyBlOgogICAgZ3JhZGluZ19yZXN1bHRzLmFkZF9yZXN1bHQoRmFsc2UsICJjb3VsZCBub3QgcnVuIGFuc3dlciBjZWxsOiAiICsgZS5hcmdzWzBdKQplbHNlOgogICAgaWYgbm90IGlzaW5zdGFuY2UobTMsIG5wLm5kYXJyYXkpOgogICAgICAgIGdyYWRpbmdfcmVzdWx0cy5hZGRfcmVzdWx0KEZhbHNlLCBmInZhcmlhYmxlICdtMycgaXMgb2YgdHlwZSB7dHlwZShtMykuX19uYW1lX199IGFuZCBub3QgbnVtcHkgYXJyYXkiKQogICAgZWxpZiBub3QgbW9ja19saW5zcGFjZS5jYWxsZWQ6CiAgICAgICAgZ3JhZGluZ19yZXN1bHRzLmFkZF9yZXN1bHQoRmFsc2UsIGYiZnVuY3Rpb24gJ251bXB5LmxpbnNwYWNlJyBub3QgdXNlZCBpbiBhbnN3ZXIuIikKICAgIGVsc2U6CiAgICAgICAgZ3JhZGluZ19yZXN1bHRzLmNvbXBhcmVfdmFsdWVzKG0zLCBucC5saW5zcGFjZSgwLCAxMCwgMTAxKSkKCnJvdW5kKGdyYWRpbmdfcmVzdWx0cy5nZXRfcmVzdWx0cygpKjIuNSwgMik="
    },
    "deletable": false,
    "editable": false,
    "execution": {
     "iopub.execute_input": "2024-08-29T13:23:35.571130Z",
     "iopub.status.busy": "2024-08-29T13:23:35.570350Z",
     "iopub.status.idle": "2024-08-29T13:23:35.603589Z",
     "shell.execute_reply": "2024-08-29T13:23:35.601248Z"
    },
    "nbgrader": {
     "cell_type": "code",
     "checksum": "c48fb074deecc4bf82b776bdcb018cdb",
     "grade": true,
     "grade_id": "cell-228fb2cb5257398d",
     "locked": true,
     "points": 2.5,
     "schema_version": 3,
     "solution": false,
     "task": false
    }
   },
   "outputs": [],
   "source": [
    "print(f\"m3: {m3}\")"
   ]
  },
  {
   "cell_type": "markdown",
   "id": "a4f7280a-3f1f-4459-b238-0ba81eae9908",
   "metadata": {
    "deletable": false,
    "editable": false
   },
   "source": [
    "<a id=\"oppg_5d\"></a>\n",
    "## d)\n",
    "\n",
    "Lag en array `m4` med verdien $17$ gjentatt $20$ ganger. Her anbefales det å bruke `np.ones` eller `np.zeros`, i tilegg til matte-operasjonene fra oppgave 4."
   ]
  },
  {
   "cell_type": "code",
   "execution_count": null,
   "id": "15c0e7a8-8d91-4f61-bf98-df91fbe28648",
   "metadata": {
    "deletable": false,
    "execution": {
     "iopub.execute_input": "2024-08-29T13:23:35.612114Z",
     "iopub.status.busy": "2024-08-29T13:23:35.611587Z",
     "iopub.status.idle": "2024-08-29T13:23:35.652909Z",
     "shell.execute_reply": "2024-08-29T13:23:35.618251Z"
    },
    "nbgrader": {
     "cell_type": "code",
     "checksum": "a69cd1dc8f37228b0b4f9335f47fc5f1",
     "grade": false,
     "grade_id": "cell-e15e41a0a4c89630",
     "locked": false,
     "schema_version": 3,
     "solution": true,
     "task": false
    }
   },
   "outputs": [],
   "source": [
    "#-------------------------------------\n",
    "# SKRIV DIN KODE HER!\n",
    "#-------------------------------------"
   ]
  },
  {
   "cell_type": "code",
   "execution_count": null,
   "id": "104485d6-8335-47d2-b23c-20407e2ffdf7",
   "metadata": {
    "autofeedback": {
     "test_code": "ZnJvbSBhdXRvZmVlZGJhY2sgaW1wb3J0IFZhcmlhYmxlVGVzdHMKaW1wb3J0IG51bXB5IGFzIG5wCmZyb20gdW5pdHRlc3QubW9jayBpbXBvcnQgcGF0Y2gKCmdyYWRpbmdfcmVzdWx0cyA9IFZhcmlhYmxlVGVzdHMoKQoKYW5zd2VyX2NlbGxfaW5kZXggPSBsZW4oSW4pLTIKYW5zd2VyX2NlbGxfY29udGVudHMgPSBJblthbnN3ZXJfY2VsbF9pbmRleF0KCnRyeToKICAgIHdpdGggKHBhdGNoKCJudW1weS5vbmVzIikgYXMgbW9ja19vbmVzLAogICAgICAgICAgcGF0Y2goIm51bXB5Lnplcm9zIikgYXMgbW9ja196ZXJvcyk6CiAgICAgICAgZXhlYyhhbnN3ZXJfY2VsbF9jb250ZW50cykKICAgIGV4ZWMoYW5zd2VyX2NlbGxfY29udGVudHMpCmV4Y2VwdCBFeGNlcHRpb24gYXMgZToKICAgIGdyYWRpbmdfcmVzdWx0cy5hZGRfcmVzdWx0KEZhbHNlLCAiY291bGQgbm90IHJ1biBhbnN3ZXIgY2VsbDogIiArIGUuYXJnc1swXSkKZWxzZToKICAgIGlmIG5vdCBpc2luc3RhbmNlKG00LCBucC5uZGFycmF5KToKICAgICAgICBncmFkaW5nX3Jlc3VsdHMuYWRkX3Jlc3VsdChGYWxzZSwgZiJ2YXJpYWJsZSAnbTQnIGlzIG9mIHR5cGUge3R5cGUobTQpLl9fbmFtZV9ffSBhbmQgbm90IG51bXB5IGFycmF5IikKICAgIGVsaWYgbm90IG1vY2tfb25lcy5jYWxsZWQgYW5kIG5vdCBtb2NrX3plcm9zLmNhbGxlZDoKICAgICAgICBncmFkaW5nX3Jlc3VsdHMuYWRkX3Jlc3VsdChGYWxzZSwgZiJuZWl0aGVyICdudW1weS5vbmVzJyBub3IgJ251bXB5Lnplcm9zJyB3ZXJlIHVzZWQgaW4gYW5zd2VyLiIpCiAgICBlbHNlOgogICAgICAgIGdyYWRpbmdfcmVzdWx0cy5jb21wYXJlX3ZhbHVlcyhtNCwgbnAub25lcygyMCkqMTcpCgpyb3VuZChncmFkaW5nX3Jlc3VsdHMuZ2V0X3Jlc3VsdHMoKSoyLjUsIDIp"
    },
    "deletable": false,
    "editable": false,
    "execution": {
     "iopub.execute_input": "2024-08-29T13:23:35.664489Z",
     "iopub.status.busy": "2024-08-29T13:23:35.662407Z",
     "iopub.status.idle": "2024-08-29T13:23:35.695013Z",
     "shell.execute_reply": "2024-08-29T13:23:35.692409Z"
    },
    "nbgrader": {
     "cell_type": "code",
     "checksum": "3fed2a5fc98f4c5533badd0594f99df8",
     "grade": true,
     "grade_id": "cell-023a70e64401a822",
     "locked": true,
     "points": 2.5,
     "schema_version": 3,
     "solution": false,
     "task": false
    }
   },
   "outputs": [],
   "source": [
    "print(f\"m4: {m4}\")"
   ]
  },
  {
   "cell_type": "markdown",
   "id": "6e75b0c1",
   "metadata": {
    "deletable": false,
    "editable": false
   },
   "source": [
    "<br>\n",
    "<nav class=\"navbar navbar-default\">\n",
    "    <div class=\"container-fluid\">\n",
    "        <div class=\"navbar-header\" style=\"float: left\">\n",
    "            <a class=\"navbar-brand\" href=\"4_Numpy_intro.ipynb\" target=\"_self\">&lt; Forrige side: <i>introduksjon til numpy</i></a>\n",
    "            </div>\n",
    "        <div class=\"navbar-header\" style=\"float: right\">\n",
    "            <a class=\"navbar-brand\" href=\"6_Plotting_1.ipynb\" target=\"_self\">Neste side: <i>plotting intro</i> &gt;</a>\n",
    "        </div>\n",
    "    </div>\n",
    "</nav>"
   ]
  }
 ],
 "metadata": {
  "kernelspec": {
   "display_name": "Python 3 (ipykernel)",
   "language": "python",
   "name": "python3"
  },
  "language_info": {
   "codemirror_mode": {
    "name": "ipython",
    "version": 3
   },
   "file_extension": ".py",
   "mimetype": "text/x-python",
   "name": "python",
   "nbconvert_exporter": "python",
   "pygments_lexer": "ipython3",
   "version": "3.11.6"
  }
 },
 "nbformat": 4,
 "nbformat_minor": 5
}
