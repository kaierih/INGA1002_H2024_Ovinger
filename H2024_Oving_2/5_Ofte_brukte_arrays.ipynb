{
 "cells": [
  {
   "cell_type": "markdown",
   "id": "089feda5",
   "metadata": {
    "deletable": false,
    "editable": false
   },
   "source": [
    "\n",
    "<nav class=\"navbar navbar-default\">\n",
    "  <div class=\"container-fluid\">\n",
    "    <div class=\"navbar-header\" style=\"float: left\">\n",
    "        <a class=\"navbar-brand\" href=\"0_Forside.ipynb\" target=\"_self\"> <h2> &uarr; Tilbake til forsiden</h2></a>\n",
    "    </div>\n",
    "  </div>\n",
    "</nav>"
   ]
  },
  {
   "cell_type": "markdown",
   "id": "5c86490d-f8a2-4ee1-98ef-94c567dc140f",
   "metadata": {},
   "source": [
    "# Ofte brukte arrays\n",
    "\n",
    "**Læringsmål:**\n",
    "* Bli kjent med funksjoner for å generere basis-arrays\n",
    "* Forståelse for når de forskjellige basis-arrayene er aktuelle\n",
    "\n",
    "**Oversikt:**\n",
    "* [Oppgave a) arange og zeros](#oppg_5a)\n",
    "* [Oppgave b) linspace](#oppg_5b)\n",
    "* [Oppgave c) skrittlengde i linspace](#oppg_5c)\n",
    "* [Oppgave d) uniforme arrays](#oppg_5d)\n",
    "\n",
    "## Funksjoner for å generere basis-arrays\n",
    "\n",
    "Så langt er alt dette veldig greit, men ofte vil vi arbeide med arrays som inneholder en del mer enn 6 datapunkt, og da blir det svært tungvindt å skrive hver individuell veri når vi deklarerer en array. Derfor har numpy en rekke funksjone som kan dekke en del \"vanlige\" behov:\n",
    "\n",
    "- Vi lager en array med elementer fra og med `start`, til og med `end`, med `num` elementer, ved å skrive [`np.linspace(start, stop, num)`](https://numpy.org/doc/stable/reference/generated/numpy.linspace.html). \n",
    "- For å lage en array med elementer fra og med `start` til **(men ikke med)** `end`, med steglengde `stepsize`, bruker du funksjone [`np.arange(start, stop, stepsize)`](https://numpy.org/doc/stable/reference/generated/numpy.arange.html).\n",
    "- Vi kan lage en array med `N` antall elementer, hvor hvert element har verdien 0.0, ved å skrive [`np.zeros(N)`](https://numpy.org/doc/stable/reference/generated/numpy.zeros.html), og lagre den i en variabel.\n",
    "- Vi kan lage en array med `N` antall elementer, hvor hvert element har verdien 1.0, ved å skrive [`np.ones(N)`](https://numpy.org/doc/stable/reference/generated/numpy.ones.html), og lagre den i en variabel.\n",
    "\n",
    "```python\n",
    "arr0 = np.linspace(-2, 3, 6) => [-2, -1, 0, 1, 2, 3]\n",
    "arr1 = np.arange(7, 21, 3) => [7, 10, 13, 16, 19]\n",
    "arr2 = np.arange(7) => [0, 1, 2, 3, 4, 5, 6]\n",
    "arr3 = np.zeros(4) => [0, 0, 0, 0]\n",
    "arr4 = np.ones(3) => [1, 1, 1]\n",
    "```\n",
    "\n",
    "<!-- \n",
    "Legg til eksempler for hver av funksjonene, og kanskje helst ha en egen oppgave om array-generering\n",
    "-->\n"
   ]
  },
  {
   "cell_type": "markdown",
   "id": "e7dd32ce-69dc-44d9-9e51-211323e512b4",
   "metadata": {},
   "source": [
    "<a id=\"oppg_5a\"></a>\n",
    "## a)\n",
    "Bruk funksjonen `arange` til å lage en array `m0` med alle heltall f.o.m $-7$ t.o.m. $0$\n",
    "\n",
    "Bruk funksjonen `zeros` til å lage en array `m1` med $7$ nuller."
   ]
  },
  {
   "cell_type": "code",
   "execution_count": 1,
   "id": "6c3601ea-12f9-454a-9953-73a88044ef8c",
   "metadata": {
    "nbgrader": {
     "grade": false,
     "grade_id": "cell-ad2a035f387821fc",
     "locked": false,
     "schema_version": 3,
     "solution": true,
     "task": false
    }
   },
   "outputs": [],
   "source": [
    "### BEGIN SOLUTION\n",
    "import numpy as np\n",
    "\n",
    "m0 = np.arange(-7, 1)\n",
    "m1 = np.zeros(7)\n",
    "### END SOLUTION"
   ]
  },
  {
   "cell_type": "code",
   "execution_count": 2,
   "id": "221b6f76-17c3-451d-b02f-5f74acd19c0f",
   "metadata": {
    "editable": true,
    "nbgrader": {
     "grade": true,
     "grade_id": "cell-beacf97df60477bf",
     "locked": true,
     "points": 2.5,
     "schema_version": 3,
     "solution": false,
     "task": false
    },
    "slideshow": {
     "slide_type": ""
    },
    "tags": []
   },
   "outputs": [
    {
     "data": {
      "text/html": [
       "<div class = \"alert alert-success\">All tests passed!</div>"
      ],
      "text/plain": [
       "<IPython.core.display.HTML object>"
      ]
     },
     "metadata": {},
     "output_type": "display_data"
    },
    {
     "data": {
      "text/plain": [
       "2.5"
      ]
     },
     "execution_count": 2,
     "metadata": {},
     "output_type": "execute_result"
    }
   ],
   "source": [
    "### BEGIN HIDDEN TESTS\n",
    "from autofeedback import VariableTests\n",
    "import numpy as np\n",
    "from unittest.mock import patch\n",
    "\n",
    "grading_results = VariableTests()\n",
    "\n",
    "answer_cell_index = len(In)-2\n",
    "answer_cell_contents = In[answer_cell_index]\n",
    "\n",
    "try:\n",
    "    with (patch(\"numpy.arange\") as mock_arange,\n",
    "          patch(\"numpy.zeros\") as mock_zeros):\n",
    "        exec(answer_cell_contents)\n",
    "    exec(answer_cell_contents)\n",
    "except Exception as e:\n",
    "    grading_results.add_result(False, \"could not run answer cell: \" + e.args[0])\n",
    "else:\n",
    "    if not isinstance(m0, np.ndarray):\n",
    "        grading_results.add_result(False, f\"variable 'm0' is of type {type(m0).__name__} and not numpy array\")\n",
    "    elif not mock_arange.called:\n",
    "        grading_results.add_result(False, f\"function 'numpy.arange' not used in answer.\")\n",
    "    else:\n",
    "        grading_results.compare_values(m0, np.arange(-7, 1))\n",
    "\n",
    "    if not isinstance(m1, np.ndarray):\n",
    "        grading_results.add_result(False, f\"variable 'm1' is of type {type(m1).__name__} and not numpy array\")\n",
    "    elif not mock_zeros.called:\n",
    "        grading_results.add_result(False, f\"function 'numpy.zeros' not used in answer.\")\n",
    "    else:\n",
    "        grading_results.compare_values(m1, np.zeros(7))\n",
    "\n",
    "round(grading_results.get_results()*2.5, 2)\n",
    "### END HIDDEN TESTS"
   ]
  },
  {
   "cell_type": "markdown",
   "id": "4cdf1b0e-f2b7-4a73-aa2d-e3b5e287d52b",
   "metadata": {},
   "source": [
    "<a id=\"oppg_5b\"></a>\n",
    "## b)\n",
    "\n",
    "Bruk funksjonen `linspace` til å lage en array `m2` med verdiene $n \\in \\{-2, -1, 0, 1, 2, 3, 4, 5\\}$"
   ]
  },
  {
   "cell_type": "code",
   "execution_count": 3,
   "id": "dfed9ca2-92a4-47fa-abc7-7aa0889b6fa3",
   "metadata": {
    "nbgrader": {
     "grade": false,
     "grade_id": "cell-ce8dd36a7703d05a",
     "locked": false,
     "schema_version": 3,
     "solution": true,
     "task": false
    }
   },
   "outputs": [],
   "source": [
    "### BEGIN SOLUTION\n",
    "m2 = np.linspace(-2, 5, 8)\n",
    "### END SOLUTION"
   ]
  },
  {
   "cell_type": "code",
   "execution_count": 4,
   "id": "a5f2ad0a-2245-4408-ae19-3a15626d58ec",
   "metadata": {
    "nbgrader": {
     "grade": true,
     "grade_id": "cell-5247bb6af4145be4",
     "locked": true,
     "points": 2.5,
     "schema_version": 3,
     "solution": false,
     "task": false
    }
   },
   "outputs": [
    {
     "name": "stdout",
     "output_type": "stream",
     "text": [
      "m2: [-2. -1.  0.  1.  2.  3.  4.  5.]\n"
     ]
    },
    {
     "data": {
      "text/html": [
       "<div class = \"alert alert-success\">All tests passed!</div>"
      ],
      "text/plain": [
       "<IPython.core.display.HTML object>"
      ]
     },
     "metadata": {},
     "output_type": "display_data"
    },
    {
     "data": {
      "text/plain": [
       "2.5"
      ]
     },
     "execution_count": 4,
     "metadata": {},
     "output_type": "execute_result"
    }
   ],
   "source": [
    "print(f\"m2: {m2}\")\n",
    "### BEGIN HIDDEN TESTS\n",
    "from autofeedback import VariableTests\n",
    "import numpy as np\n",
    "from unittest.mock import patch\n",
    "\n",
    "grading_results = VariableTests()\n",
    "\n",
    "answer_cell_index = len(In)-2\n",
    "answer_cell_contents = In[answer_cell_index]\n",
    "\n",
    "try:\n",
    "    with patch(\"numpy.linspace\") as mock_linspace:\n",
    "        exec(answer_cell_contents)\n",
    "    exec(answer_cell_contents)\n",
    "except Exception as e:\n",
    "    grading_results.add_result(False, \"could not run answer cell: \" + e.args[0])\n",
    "else:\n",
    "    if not isinstance(m2, np.ndarray):\n",
    "        grading_results.add_result(False, f\"variable 'm2' is of type {type(m2).__name__} and not numpy array\")\n",
    "    elif not mock_linspace.called:\n",
    "        grading_results.add_result(False, f\"function 'numpy.linspace' not used in answer.\")\n",
    "    else:\n",
    "        grading_results.compare_values(m2, np.linspace(-2, 5, 8))\n",
    "\n",
    "round(grading_results.get_results()*2.5, 2)\n",
    "### END HIDDEN TESTS"
   ]
  },
  {
   "cell_type": "markdown",
   "id": "d1a36e49-08ff-4266-b8ae-a7abd9680bfb",
   "metadata": {},
   "source": [
    "Numpy anbefaler å bruke `linspace` til å generere lineær en `array` dersom skrittlengden er et flyttall (pga. kumulative flyttallsfeil). Ettersom sluttverdien er inklusiv, må vi derfor ta høyde for ['fencepost problemet'](https://en.wikipedia.org/wiki/Off-by-one_error#Fencepost_error). For eksempel vil funksjonskallet `np.linspace(0, 1, 3)` gi arrayen `[0.0, 0.5, 1.0]` og ikke `[0.0 0.333, 0.667]`.\n"
   ]
  },
  {
   "cell_type": "markdown",
   "id": "f8a93bb5-c140-4dd3-bc79-4fbb373d62a2",
   "metadata": {},
   "source": [
    "<a id=\"oppg_5c\"></a>\n",
    "## c)\n",
    "\n",
    "Bruk funksjonen `linspace` til å lage en array `m3` fra (og med) 0, til (og med) 10, med steglengde 0.1. Altså skal arrayen se noe slik ut $m_3 \\in \\{0, 0.1, 0.2, ..., 9.9, 10\\}$"
   ]
  },
  {
   "cell_type": "code",
   "execution_count": 5,
   "id": "34c212b1-63cc-4713-a053-f11446d4c0a2",
   "metadata": {
    "nbgrader": {
     "grade": false,
     "grade_id": "cell-dbfb38daeabf8042",
     "locked": false,
     "schema_version": 3,
     "solution": true,
     "task": false
    }
   },
   "outputs": [],
   "source": [
    "### BEGIN SOLUTION\n",
    "import numpy as np\n",
    "m3 = np.linspace(0, 10, 101)\n",
    "### END SOLUTION"
   ]
  },
  {
   "cell_type": "code",
   "execution_count": 6,
   "id": "5417c2b1-b64e-48b7-a553-612cbee28d6c",
   "metadata": {
    "nbgrader": {
     "grade": true,
     "grade_id": "cell-228fb2cb5257398d",
     "locked": true,
     "points": 2.5,
     "schema_version": 3,
     "solution": false,
     "task": false
    }
   },
   "outputs": [
    {
     "name": "stdout",
     "output_type": "stream",
     "text": [
      "m3: [ 0.   0.1  0.2  0.3  0.4  0.5  0.6  0.7  0.8  0.9  1.   1.1  1.2  1.3\n",
      "  1.4  1.5  1.6  1.7  1.8  1.9  2.   2.1  2.2  2.3  2.4  2.5  2.6  2.7\n",
      "  2.8  2.9  3.   3.1  3.2  3.3  3.4  3.5  3.6  3.7  3.8  3.9  4.   4.1\n",
      "  4.2  4.3  4.4  4.5  4.6  4.7  4.8  4.9  5.   5.1  5.2  5.3  5.4  5.5\n",
      "  5.6  5.7  5.8  5.9  6.   6.1  6.2  6.3  6.4  6.5  6.6  6.7  6.8  6.9\n",
      "  7.   7.1  7.2  7.3  7.4  7.5  7.6  7.7  7.8  7.9  8.   8.1  8.2  8.3\n",
      "  8.4  8.5  8.6  8.7  8.8  8.9  9.   9.1  9.2  9.3  9.4  9.5  9.6  9.7\n",
      "  9.8  9.9 10. ]\n"
     ]
    },
    {
     "data": {
      "text/html": [
       "<div class = \"alert alert-success\">All tests passed!</div>"
      ],
      "text/plain": [
       "<IPython.core.display.HTML object>"
      ]
     },
     "metadata": {},
     "output_type": "display_data"
    },
    {
     "data": {
      "text/plain": [
       "2.5"
      ]
     },
     "execution_count": 6,
     "metadata": {},
     "output_type": "execute_result"
    }
   ],
   "source": [
    "print(f\"m3: {m3}\")\n",
    "### BEGIN HIDDEN TESTS\n",
    "from autofeedback import VariableTests\n",
    "import numpy as np\n",
    "from unittest.mock import patch\n",
    "\n",
    "grading_results = VariableTests()\n",
    "\n",
    "answer_cell_index = len(In)-2\n",
    "answer_cell_contents = In[answer_cell_index]\n",
    "\n",
    "try:\n",
    "    with patch(\"numpy.linspace\") as mock_linspace:\n",
    "        exec(answer_cell_contents)\n",
    "    exec(answer_cell_contents)\n",
    "except Exception as e:\n",
    "    grading_results.add_result(False, \"could not run answer cell: \" + e.args[0])\n",
    "else:\n",
    "    if not isinstance(m3, np.ndarray):\n",
    "        grading_results.add_result(False, f\"variable 'm3' is of type {type(m3).__name__} and not numpy array\")\n",
    "    elif not mock_linspace.called:\n",
    "        grading_results.add_result(False, f\"function 'numpy.linspace' not used in answer.\")\n",
    "    else:\n",
    "        grading_results.compare_values(m3, np.linspace(0, 10, 101))\n",
    "\n",
    "round(grading_results.get_results()*2.5, 2)\n",
    "### END HIDDEN TESTS"
   ]
  },
  {
   "cell_type": "markdown",
   "id": "a4f7280a-3f1f-4459-b238-0ba81eae9908",
   "metadata": {},
   "source": [
    "<a id=\"oppg_5d\"></a>\n",
    "## d)\n",
    "\n",
    "Lag en array `m4` med verdien $17$ gjentatt $20$ ganger. Her anbefales det å bruke `np.ones` eller `np.zeros`, i tilegg til matte-operasjonene fra oppgave 4."
   ]
  },
  {
   "cell_type": "code",
   "execution_count": 7,
   "id": "15c0e7a8-8d91-4f61-bf98-df91fbe28648",
   "metadata": {
    "nbgrader": {
     "grade": false,
     "grade_id": "cell-e15e41a0a4c89630",
     "locked": false,
     "schema_version": 3,
     "solution": true,
     "task": false
    }
   },
   "outputs": [],
   "source": [
    "### BEGIN SOLUTION\n",
    "m4 = np.ones(20) * 17\n",
    "### END SOLUTION"
   ]
  },
  {
   "cell_type": "code",
   "execution_count": 8,
   "id": "104485d6-8335-47d2-b23c-20407e2ffdf7",
   "metadata": {
    "nbgrader": {
     "grade": true,
     "grade_id": "cell-023a70e64401a822",
     "locked": true,
     "points": 2.5,
     "schema_version": 3,
     "solution": false,
     "task": false
    }
   },
   "outputs": [
    {
     "name": "stdout",
     "output_type": "stream",
     "text": [
      "m4: [17. 17. 17. 17. 17. 17. 17. 17. 17. 17. 17. 17. 17. 17. 17. 17. 17. 17.\n",
      " 17. 17.]\n"
     ]
    },
    {
     "data": {
      "text/html": [
       "<div class = \"alert alert-success\">All tests passed!</div>"
      ],
      "text/plain": [
       "<IPython.core.display.HTML object>"
      ]
     },
     "metadata": {},
     "output_type": "display_data"
    },
    {
     "data": {
      "text/plain": [
       "2.5"
      ]
     },
     "execution_count": 8,
     "metadata": {},
     "output_type": "execute_result"
    }
   ],
   "source": [
    "print(f\"m4: {m4}\")\n",
    "### BEGIN HIDDEN TESTS\n",
    "from autofeedback import VariableTests\n",
    "import numpy as np\n",
    "from unittest.mock import patch\n",
    "\n",
    "grading_results = VariableTests()\n",
    "\n",
    "answer_cell_index = len(In)-2\n",
    "answer_cell_contents = In[answer_cell_index]\n",
    "\n",
    "try:\n",
    "    with (patch(\"numpy.ones\") as mock_ones,\n",
    "          patch(\"numpy.zeros\") as mock_zeros):\n",
    "        exec(answer_cell_contents)\n",
    "    exec(answer_cell_contents)\n",
    "except Exception as e:\n",
    "    grading_results.add_result(False, \"could not run answer cell: \" + e.args[0])\n",
    "else:\n",
    "    if not isinstance(m4, np.ndarray):\n",
    "        grading_results.add_result(False, f\"variable 'm4' is of type {type(m4).__name__} and not numpy array\")\n",
    "    elif not mock_ones.called and not mock_zeros.called:\n",
    "        grading_results.add_result(False, f\"neither 'numpy.ones' nor 'numpy.zeros' were used in answer.\")\n",
    "    else:\n",
    "        grading_results.compare_values(m4, np.ones(20)*17)\n",
    "\n",
    "round(grading_results.get_results()*2.5, 2)\n",
    "### END HIDDEN TESTS"
   ]
  },
  {
   "cell_type": "markdown",
   "id": "6e75b0c1",
   "metadata": {
    "deletable": false,
    "editable": false
   },
   "source": [
    "<br>\n",
    "<nav class=\"navbar navbar-default\">\n",
    "    <div class=\"container-fluid\">\n",
    "        <div class=\"navbar-header\" style=\"float: left\">\n",
    "            <a class=\"navbar-brand\" href=\"4_Numpy_intro.ipynb\" target=\"_self\">&lt; Forrige side: <i>introduksjon til numpy</i></a>\n",
    "            </div>\n",
    "        <div class=\"navbar-header\" style=\"float: right\">\n",
    "            <a class=\"navbar-brand\" href=\"6_Plotting_1.ipynb\" target=\"_self\">Neste side: <i>plotting intro</i> &gt;</a>\n",
    "        </div>\n",
    "    </div>\n",
    "</nav>"
   ]
  }
 ],
 "metadata": {
  "kernelspec": {
   "display_name": "Python 3 (ipykernel)",
   "language": "python",
   "name": "python3"
  },
  "language_info": {
   "codemirror_mode": {
    "name": "ipython",
    "version": 3
   },
   "file_extension": ".py",
   "mimetype": "text/x-python",
   "name": "python",
   "nbconvert_exporter": "python",
   "pygments_lexer": "ipython3",
   "version": "3.11.6"
  }
 },
 "nbformat": 4,
 "nbformat_minor": 5
}
