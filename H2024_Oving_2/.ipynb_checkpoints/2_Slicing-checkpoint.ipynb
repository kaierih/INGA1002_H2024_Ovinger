{
 "cells": [
  {
   "cell_type": "markdown",
   "id": "21b0336a",
   "metadata": {
    "deletable": false,
    "editable": false
   },
   "source": [
    "\n",
    "<nav class=\"navbar navbar-default\">\n",
    "  <div class=\"container-fluid\">\n",
    "    <div class=\"navbar-header\" style=\"float: left\">\n",
    "        <a class=\"navbar-brand\" href=\"0_Forside.ipynb\" target=\"_self\"> <h2> &uarr; Tilbake til forsiden</h2></a>\n",
    "    </div>\n",
    "  </div>\n",
    "</nav>"
   ]
  },
  {
   "cell_type": "markdown",
   "id": "b1c9a759-3057-4e0d-aa27-9a6635f6021e",
   "metadata": {},
   "source": [
    "# Slicing av lister\n",
    "\n",
    "**Læringsmål:**\n",
    "\n",
    "* Håndtering av utklipp(slices) av lister\n",
    "\n",
    "**Oversikt:**\n",
    "* [Oppgave a) grunnleggende slicing](#oppg_2a)\n",
    "* [Oppgave b) slicing med steg](#oppg_2b)\n",
    "* [Oppgave c) baklengs slicing](#oppg_2c)\n"
   ]
  },
  {
   "cell_type": "markdown",
   "id": "2212b55d-6760-4c1b-a093-3129728f746c",
   "metadata": {},
   "source": [
    "La oss si at vi har en liste med 5 elementer"
   ]
  },
  {
   "cell_type": "code",
   "execution_count": null,
   "id": "4546d701-3761-4263-a787-eec3f67b0e78",
   "metadata": {
    "execution": {
     "iopub.execute_input": "2024-06-25T10:15:05.683675Z",
     "iopub.status.busy": "2024-06-25T10:15:05.683177Z",
     "iopub.status.idle": "2024-06-25T10:15:05.695720Z",
     "shell.execute_reply": "2024-06-25T10:15:05.694076Z"
    }
   },
   "outputs": [],
   "source": [
    "bokstaver = ['a', 'b', 'c', 'd', 'e']"
   ]
  },
  {
   "cell_type": "markdown",
   "id": "8c22b964-2733-438e-80f6-3262fb566fd1",
   "metadata": {},
   "source": [
    "Hva om vi nå ønsker en ny liste, med bare de første 3 elementene? Dette kan gjøres med slicing."
   ]
  },
  {
   "cell_type": "code",
   "execution_count": null,
   "id": "2437c57d-cbd5-4403-af8c-c2512c7f1344",
   "metadata": {
    "execution": {
     "iopub.execute_input": "2024-06-25T10:15:05.702065Z",
     "iopub.status.busy": "2024-06-25T10:15:05.701434Z",
     "iopub.status.idle": "2024-06-25T10:15:05.709295Z",
     "shell.execute_reply": "2024-06-25T10:15:05.707802Z"
    }
   },
   "outputs": [],
   "source": [
    "abc = bokstaver[0:3]\n",
    "print(abc)"
   ]
  },
  {
   "cell_type": "markdown",
   "id": "4b1f8825-ee6b-43e6-90b0-bf3661330342",
   "metadata": {},
   "source": [
    "Her sier vi til python at vi ønsker elementene fra index 0, opp til (men ikke med) indeks 3.\n",
    "\n",
    "En generell formel for slicing er:\n",
    "\n",
    "nyListe = liste[start:slutt]\n",
    "\n",
    "hvor start er indeksen til det første tallet du ønsker å ha med, og slutt er indeksen+1 til det siste tallet du ønsker å ha med. Altså er den formelen skrevet som \"fra og med\" start og \"til, men ikke med\" slutt. Dersom man ikke skriver noe på start som i eksempelet over, vil programmet anta at du mener fra starten av listen, og dersom du ikke skriver noe på slutt vil programmet anta at du mener frem til listen er ferdig."
   ]
  },
  {
   "cell_type": "code",
   "execution_count": null,
   "id": "5337d002-2e35-4ee4-8298-aff8cf6bc809",
   "metadata": {
    "execution": {
     "iopub.execute_input": "2024-06-25T10:15:05.717256Z",
     "iopub.status.busy": "2024-06-25T10:15:05.715511Z",
     "iopub.status.idle": "2024-06-25T10:15:05.723737Z",
     "shell.execute_reply": "2024-06-25T10:15:05.722046Z"
    }
   },
   "outputs": [],
   "source": [
    "abc_2 = bokstaver[:3]\n",
    "print(abc_2)"
   ]
  },
  {
   "cell_type": "code",
   "execution_count": null,
   "id": "118e9268-bbd5-475f-a6a6-22dee22cdfc9",
   "metadata": {
    "autofeedback": {
     "test_code": "dGFsbF9uYXZuID0gWyJzZWtzIiwgInNqdSIsICLDpXR0ZSIsICJuaSIsICJ0aSIsICJlbGxldmUiXQ=="
    },
    "deletable": false,
    "editable": false,
    "execution": {
     "iopub.execute_input": "2024-06-25T10:15:05.733519Z",
     "iopub.status.busy": "2024-06-25T10:15:05.732311Z",
     "iopub.status.idle": "2024-06-25T10:15:05.740248Z",
     "shell.execute_reply": "2024-06-25T10:15:05.738619Z"
    },
    "nbgrader": {
     "cell_type": "code",
     "checksum": "c344df975ecef00caa4407403a17f2e2",
     "grade": true,
     "grade_id": "cell-e3a06ebb14096592",
     "locked": true,
     "points": 0,
     "schema_version": 3,
     "solution": false,
     "task": false
    },
    "slideshow": {
     "slide_type": ""
    },
    "tags": []
   },
   "outputs": [],
   "source": [
    "tall_navn = [\"null\", \"en\", \"to\", \"tre\", \"fire\", \"fem\"]"
   ]
  },
  {
   "cell_type": "markdown",
   "id": "f0da0628-c86c-44c1-aeb1-c50cd02b6ad9",
   "metadata": {
    "deletable": false,
    "run_control": {
     "frozen": true
    }
   },
   "source": [
    "<a id=\"oppg_2a\"></a>\n",
    "# a)"
   ]
  },
  {
   "cell_type": "markdown",
   "id": "09184826-f4bc-4fd4-8dc9-f4fba8863954",
   "metadata": {
    "editable": true,
    "slideshow": {
     "slide_type": ""
    },
    "tags": []
   },
   "source": [
    "Ovenfor er det definert en liste med navn på tallene $0$ til $5$.\n",
    "Lag en ny liste **ny_liste** som skal inneholde de tre siste elementene i **tall_navn**. Husk at du *kun* skal løse oppgaven ved å gjøre modifikasjoner til den eksisterende listen **tall_navn**.\n",
    "\n",
    "***Skriv koden din i boksen under.***"
   ]
  },
  {
   "cell_type": "code",
   "execution_count": null,
   "id": "c3debc80-7379-407a-8827-c6e7500ca8b9",
   "metadata": {
    "deletable": false,
    "editable": true,
    "execution": {
     "iopub.execute_input": "2024-06-25T10:15:05.746529Z",
     "iopub.status.busy": "2024-06-25T10:15:05.745328Z",
     "iopub.status.idle": "2024-06-25T10:15:05.753933Z",
     "shell.execute_reply": "2024-06-25T10:15:05.752298Z"
    },
    "nbgrader": {
     "cell_type": "code",
     "checksum": "ced549618e5c3aee1b2d21cc05cfad25",
     "grade": false,
     "grade_id": "cell-88cc72931573b871",
     "locked": false,
     "schema_version": 3,
     "solution": true,
     "task": false
    },
    "slideshow": {
     "slide_type": ""
    },
    "tags": []
   },
   "outputs": [],
   "source": [
    "#-------------------------------------\n",
    "# SKRIV DIN KODE HER:\n",
    "#-------------------------------------\n",
    "print(ny_liste)"
   ]
  },
  {
   "cell_type": "code",
   "execution_count": null,
   "id": "c931be52-a977-4463-8f05-01538301f642",
   "metadata": {
    "autofeedback": {
     "test_code": "ZnJvbSBhdXRvZmVlZGJhY2sgaW1wb3J0IFRlc3RDbGFzcwoKdGVzdF9yZXN1bHRzID0gVGVzdENsYXNzKCkKaWYgIm55X2xpc3RlIiBub3QgaW4gZ2xvYmFscygpOgogICAgdGVzdF9yZXN1bHRzLmFkZF9yZXN1bHQoRmFsc2UsICJubyBsaXN0IG5hbWVkICdueV9saXN0ZScgZm91bmQuIikKZWxpZiBub3QgaXNpbnN0YW5jZShueV9saXN0ZSwgbGlzdCk6CiAgICB0ZXN0X3Jlc3VsdHMuYWRkX3Jlc3VsdChGYWxzZSwgZiInbnlfbGlzdGUnIGlzIHR5cGUge3R5cGUobnlfbGlzdGUpLl9fbmFtZV9ffSBhbmQgbm90ICdsaXN0Jy4iKQplbHNlOgogICAgaWYgbnlfbGlzdGUgPT0gWyJuaSIsICJ0aSIsICJlbGxldmUiXToKICAgICAgICB0ZXN0X3Jlc3VsdHMuYWRkX3Jlc3VsdChUcnVlLCAidGhlIGxpc3QgJ255X2xpc3RlJyBjb250YWlucyBleHBlY3RlZCB2YWx1ZXMuIikKICAgIGVsaWYgbnlfbGlzdGUgPT0gWyJ0cmUiLCAiZmlyZSIsICJmZW0iXToKICAgICAgICB0ZXN0X3Jlc3VsdHMuYWRkX3Jlc3VsdChGYWxzZSwgImVsZW1lbnRzIGluICdueV9saXN0ZScgYXBwZWFycyB0byBiZSBkZWNsYXJlZCBkaXJlY3RseSBpbiBhbnN3ZXIgY2VsbCBpbnN0ZWFkIG9mIHVzaW5nICd0YWxsX25hdm4nLiIpCiAgICBlbHNlOgogICAgICAgIHRlc3RfcmVzdWx0cy5hZGRfcmVzdWx0KEZhbHNlLCAiZWxlbWVudHMgaW4gJ255X2xpc3RlJyBhcmUgaW5jb3JyZWN0LiIpCgpyb3VuZCh0ZXN0X3Jlc3VsdHMuZ2V0X3Jlc3VsdHMoKSozLCAyKQ=="
    },
    "deletable": false,
    "editable": false,
    "execution": {
     "iopub.execute_input": "2024-06-25T10:15:05.758090Z",
     "iopub.status.busy": "2024-06-25T10:15:05.757757Z",
     "iopub.status.idle": "2024-06-25T10:15:07.373592Z",
     "shell.execute_reply": "2024-06-25T10:15:07.372314Z"
    },
    "nbgrader": {
     "cell_type": "code",
     "checksum": "c27aee48412c8aae93423fe87ee7564e",
     "grade": true,
     "grade_id": "cell-b5c409ac6005539c",
     "locked": true,
     "points": 3,
     "schema_version": 3,
     "solution": false,
     "task": false
    },
    "slideshow": {
     "slide_type": ""
    },
    "tags": []
   },
   "outputs": [],
   "source": []
  },
  {
   "cell_type": "markdown",
   "id": "8fb67331-cf17-49fa-bfd5-830832c06910",
   "metadata": {
    "editable": true,
    "slideshow": {
     "slide_type": ""
    },
    "tags": []
   },
   "source": [
    "## Slicing steg\n",
    "\n",
    "Med slicing kan man også velge å bare ha med hvert n'te element. Så den fulle formen for slicing er\n",
    "\n",
    "ny_liste = liste[start:stop:step]\n",
    "\n",
    "Hvor step er hvor stort hopp den skal gjøre."
   ]
  },
  {
   "cell_type": "code",
   "execution_count": null,
   "id": "e7c6b0ca-dfaa-455e-83a1-14ff11e22b0e",
   "metadata": {
    "editable": true,
    "execution": {
     "iopub.execute_input": "2024-06-25T10:15:07.379038Z",
     "iopub.status.busy": "2024-06-25T10:15:07.378604Z",
     "iopub.status.idle": "2024-06-25T10:15:07.384654Z",
     "shell.execute_reply": "2024-06-25T10:15:07.383439Z"
    },
    "slideshow": {
     "slide_type": ""
    },
    "tags": []
   },
   "outputs": [],
   "source": [
    "annenhver = tall_navn[::2]\n",
    "print(annenhver)"
   ]
  },
  {
   "cell_type": "markdown",
   "id": "3e1d08bd-a486-4b79-8249-f70929dc0efb",
   "metadata": {
    "editable": true,
    "slideshow": {
     "slide_type": ""
    },
    "tags": []
   },
   "source": [
    "Nedenfor lages en liste med elementene 0 til 100. Legg merke til at det er mulig å fortsette en listedeklarasjon på neste kodelinje dersom listen er for lang å holde oversikt over på én linje."
   ]
  },
  {
   "cell_type": "code",
   "execution_count": null,
   "id": "2caf2963-c988-4a34-ab07-d030829c3193",
   "metadata": {
    "autofeedback": {
     "test_code": "c3Rvcl9saXN0ZSA9IGxpc3QocmFuZ2UoMTAwLCAyMDEpKQ=="
    },
    "deletable": false,
    "editable": false,
    "execution": {
     "iopub.execute_input": "2024-06-25T10:15:07.389533Z",
     "iopub.status.busy": "2024-06-25T10:15:07.389231Z",
     "iopub.status.idle": "2024-06-25T10:15:07.397160Z",
     "shell.execute_reply": "2024-06-25T10:15:07.395926Z"
    },
    "nbgrader": {
     "cell_type": "code",
     "checksum": "8f4dd39c734bc139bf7450172808c7fd",
     "grade": true,
     "grade_id": "cell-4ac28f0bf73efb7f",
     "locked": true,
     "points": 0,
     "schema_version": 3,
     "solution": false,
     "task": false
    },
    "slideshow": {
     "slide_type": ""
    },
    "tags": []
   },
   "outputs": [],
   "source": [
    "stor_liste = [0, 1, 2, 3, 4, 5, 6, 7, 8, 9, 10,\n",
    "              11, 12, 13, 14, 15, 16, 17, 18, 19, 20,\n",
    "              21, 22, 23, 24, 25, 26, 27, 28, 29, 30,\n",
    "              31, 32, 33, 34, 35, 36, 37, 38, 39, 40,\n",
    "              41, 42, 43, 44, 45, 46, 47, 48, 49, 50,\n",
    "              51, 52, 53, 54, 55, 56, 57, 58, 59, 60,\n",
    "              61, 62, 63, 64, 65, 66, 67, 68, 69, 70,\n",
    "              71, 72, 73, 74, 75, 76, 77, 78, 79, 80,\n",
    "              81, 82, 83, 84, 85, 86, 87, 88, 89, 90,\n",
    "              91, 92, 93, 94, 95, 96, 97, 98, 99, 100]"
   ]
  },
  {
   "cell_type": "markdown",
   "id": "fa68b353-1c1d-40bc-847e-339b39d7e07f",
   "metadata": {
    "editable": true,
    "slideshow": {
     "slide_type": ""
    },
    "tags": []
   },
   "source": [
    "<a id=\"oppg_2b\"></a>\n",
    "# b)\n",
    "\n",
    "Din oppgave er å bruke slicing relgene å lage en ny liste med disse elementene: [5, 22, 39, 56, 73, 90]\n",
    "\n",
    "Listen skal hete `utsnitt` og blir laget slik:\n",
    "\n",
    "\n",
    "```Python\n",
    "utsnitt = stor_liste[start:slutt:steg]\n",
    "```\n",
    "\n",
    "Hint: Det kan være nyttig å se på de ulike argumentene til listeslicingen hver for seg. Prøv først å finne ut hvor listen starter, deretter slutten, og til slutt hvor stort hopp den gjør.\n",
    "\n",
    "Når du er ferdig kan det være at 1 av argumentene ikke trengs og kan være blank som tidligere."
   ]
  },
  {
   "cell_type": "code",
   "execution_count": null,
   "id": "a9c1671e-d293-4180-a7a8-84308b58e09d",
   "metadata": {
    "deletable": false,
    "editable": true,
    "execution": {
     "iopub.execute_input": "2024-06-25T10:15:07.402700Z",
     "iopub.status.busy": "2024-06-25T10:15:07.402035Z",
     "iopub.status.idle": "2024-06-25T10:15:07.408798Z",
     "shell.execute_reply": "2024-06-25T10:15:07.407295Z"
    },
    "nbgrader": {
     "cell_type": "code",
     "checksum": "84fb553de1eac783f1a0e00bc483e758",
     "grade": false,
     "grade_id": "cell-8a1cba691e1a4c53",
     "locked": false,
     "schema_version": 3,
     "solution": true,
     "task": false
    },
    "slideshow": {
     "slide_type": ""
    },
    "tags": []
   },
   "outputs": [],
   "source": [
    "#-------------------------------------\n",
    "# SKRIV DIN KODE HER:\n",
    "#-------------------------------------\n",
    "print(utsnitt)"
   ]
  },
  {
   "cell_type": "code",
   "execution_count": null,
   "id": "d51d33b6-4be6-4ed5-814f-f193cd76c784",
   "metadata": {
    "autofeedback": {
     "test_code": "ZnJvbSBhdXRvZmVlZGJhY2sgaW1wb3J0IFRlc3RDbGFzcwoKdGVzdF9yZXN1bHRzID0gVGVzdENsYXNzKCkKaWYgInV0c25pdHQiIG5vdCBpbiBnbG9iYWxzKCk6CiAgICB0ZXN0X3Jlc3VsdHMuYWRkX3Jlc3VsdChGYWxzZSwgIm5vIGxpc3QgbmFtZWQgJ3V0c25pdHQnIGZvdW5kLiIpCmVsaWYgbm90IGlzaW5zdGFuY2UobnlfbGlzdGUsIGxpc3QpOgogICAgdGVzdF9yZXN1bHRzLmFkZF9yZXN1bHQoRmFsc2UsIGYiJ3V0c25pdHQnIGlzIHR5cGUge3R5cGUobnlfbGlzdGUpLl9fbmFtZV9ffSBhbmQgbm90ICdsaXN0Jy4iKQplbHNlOgogICAgaWYgdXRzbml0dCA9PSBbMTA1LCAxMjIsIDEzOSwgMTU2LCAxNzMsIDE5MF06CiAgICAgICAgdGVzdF9yZXN1bHRzLmFkZF9yZXN1bHQoVHJ1ZSwgInRoZSBsaXN0ICd1dHNuaXR0JyBjb250YWlucyBleHBlY3RlZCB2YWx1ZXMuIikKICAgIGVsaWYgdXRzbml0dCA9PSBbNSwgMjIsIDM5LCA1NiwgNzMsIDkwXToKICAgICAgICB0ZXN0X3Jlc3VsdHMuYWRkX3Jlc3VsdChGYWxzZSwgImVsZW1lbnRzIGluICd1dHNuaXR0JyBhcHBlYXJzIHRvIGJlIGRlY2xhcmVkIGRpcmVjdGx5IGluIGFuc3dlciBjZWxsIGluc3RlYWQgb2YgdXNpbmcgJ3N0b3JfbGlzdGUnLiIpCiAgICBlbHNlOgogICAgICAgIHRlc3RfcmVzdWx0cy5hZGRfcmVzdWx0KEZhbHNlLCAiZWxlbWVudHMgaW4gJ3V0c25pdHQnIGFyZSBpbmNvcnJlY3QuIikKCnJvdW5kKHRlc3RfcmVzdWx0cy5nZXRfcmVzdWx0cygpKjMsIDIp"
    },
    "deletable": false,
    "editable": false,
    "execution": {
     "iopub.execute_input": "2024-06-25T10:15:07.414820Z",
     "iopub.status.busy": "2024-06-25T10:15:07.414390Z",
     "iopub.status.idle": "2024-06-25T10:15:07.429421Z",
     "shell.execute_reply": "2024-06-25T10:15:07.427495Z"
    },
    "nbgrader": {
     "cell_type": "code",
     "checksum": "90171313f942436432215d32b9e62dff",
     "grade": true,
     "grade_id": "cell-005120bff6b656f9",
     "locked": true,
     "points": 3,
     "schema_version": 3,
     "solution": false,
     "task": false
    },
    "slideshow": {
     "slide_type": ""
    },
    "tags": []
   },
   "outputs": [],
   "source": []
  },
  {
   "cell_type": "markdown",
   "id": "888674f8-a0a6-4a06-9432-0ec6e54686ec",
   "metadata": {
    "editable": true,
    "slideshow": {
     "slide_type": ""
    },
    "tags": []
   },
   "source": [
    "## Reversering av lister\n",
    "\n",
    "Med listeslicing kan også lister reverseres, dette gjøres med å ha steglengden som et negativt tall. Når steglengden er negativ er det også viktig å huske at starten må være *etter* slutten, siden den går baklengs.\n",
    "\n",
    "Om du skal reverse en hel liste trenger du ikke fylle inn start og slutt, så reversing av en hel liste kan se slik ut: `big_list[::-1]`\n",
    "\n",
    "\n"
   ]
  },
  {
   "cell_type": "markdown",
   "id": "9d3124d3-0823-42b2-81c3-8f7b20ebda2c",
   "metadata": {},
   "source": [
    "<a id=\"oppg_2c\"></a>\n",
    "# c)\n",
    "\n",
    "Samme som forrige oppgave, du skal bruke slicing av **stor_liste** til å lage en ny liste. Denne listen skal hete **baklengs_utsnitt** og ha disse elementene: [72, 69, 66, 63, 60, 57, 54, 51]\n"
   ]
  },
  {
   "cell_type": "code",
   "execution_count": null,
   "id": "de218929-4a3a-4f27-bb9d-99b38ad990ca",
   "metadata": {
    "deletable": false,
    "editable": true,
    "execution": {
     "iopub.execute_input": "2024-06-25T10:15:07.437034Z",
     "iopub.status.busy": "2024-06-25T10:15:07.436642Z",
     "iopub.status.idle": "2024-06-25T10:15:07.445587Z",
     "shell.execute_reply": "2024-06-25T10:15:07.443673Z"
    },
    "nbgrader": {
     "cell_type": "code",
     "checksum": "c1cbdbdbaaef24237576192ce91b6184",
     "grade": false,
     "grade_id": "cell-c57be4b45d27b004",
     "locked": false,
     "schema_version": 3,
     "solution": true,
     "task": false
    },
    "slideshow": {
     "slide_type": ""
    },
    "tags": []
   },
   "outputs": [],
   "source": [
    "#-------------------------------------\n",
    "# SKRIV DIN KODE HER:\n",
    "#-------------------------------------\n",
    "print(baklengs_utsnitt)"
   ]
  },
  {
   "cell_type": "code",
   "execution_count": null,
   "id": "ab034f29-f27a-4c71-9263-f42806d81df2",
   "metadata": {
    "autofeedback": {
     "test_code": "ZnJvbSBhdXRvZmVlZGJhY2sgaW1wb3J0IFRlc3RDbGFzcwoKdGVzdF9yZXN1bHRzID0gVGVzdENsYXNzKCkKaWYgImJha2xlbmdzX3V0c25pdHQiIG5vdCBpbiBnbG9iYWxzKCk6CiAgICB0ZXN0X3Jlc3VsdHMuYWRkX3Jlc3VsdChGYWxzZSwgIm5vIGxpc3QgbmFtZWQgJ2Jha2xlbmdzX3V0c25pdHQnIGZvdW5kLiIpCmVsaWYgbm90IGlzaW5zdGFuY2UobnlfbGlzdGUsIGxpc3QpOgogICAgdGVzdF9yZXN1bHRzLmFkZF9yZXN1bHQoRmFsc2UsIGYiJ2Jha2xlbmdzX3V0c25pdHQnIGlzIHR5cGUge3R5cGUobnlfbGlzdGUpLl9fbmFtZV9ffSBhbmQgbm90ICdsaXN0Jy4iKQplbHNlOgogICAgaWYgYmFrbGVuZ3NfdXRzbml0dCA9PSBbMTcyLCAxNjksIDE2NiwgMTYzLCAxNjAsIDE1NywgMTU0LCAxNTFdOgogICAgICAgIHRlc3RfcmVzdWx0cy5hZGRfcmVzdWx0KFRydWUsICJ0aGUgbGlzdCAnYmFrbGVuZ3NfdXRzbml0dCcgY29udGFpbnMgZXhwZWN0ZWQgdmFsdWVzLiIpCiAgICBlbGlmIGJha2xlbmdzX3V0c25pdHQgPT0gWzcyLCA2OSwgNjYsIDYzLCA2MCwgNTcsIDU0LCA1MV06CiAgICAgICAgdGVzdF9yZXN1bHRzLmFkZF9yZXN1bHQoRmFsc2UsICJlbGVtZW50cyBpbiAnYmFrbGVuZ3NfdXRzbml0dCcgYXBwZWFycyB0byBiZSBkZWNsYXJlZCBkaXJlY3RseSBpbiBhbnN3ZXIgY2VsbCBpbnN0ZWFkIG9mIHVzaW5nICdzdG9yX2xpc3RlJy4iKQogICAgZWxzZToKICAgICAgICB0ZXN0X3Jlc3VsdHMuYWRkX3Jlc3VsdChGYWxzZSwgImVsZW1lbnRzIGluICdiYWtsZW5nc191dHNuaXR0JyBhcmUgaW5jb3JyZWN0LiIpCgpyb3VuZCh0ZXN0X3Jlc3VsdHMuZ2V0X3Jlc3VsdHMoKSo0LCAyKQ=="
    },
    "deletable": false,
    "editable": false,
    "execution": {
     "iopub.execute_input": "2024-06-25T10:15:07.452114Z",
     "iopub.status.busy": "2024-06-25T10:15:07.451114Z",
     "iopub.status.idle": "2024-06-25T10:15:07.462585Z",
     "shell.execute_reply": "2024-06-25T10:15:07.461470Z"
    },
    "nbgrader": {
     "cell_type": "code",
     "checksum": "4f635232e3359aa7651c82cb4533708a",
     "grade": true,
     "grade_id": "cell-debeef035f7da908",
     "locked": true,
     "points": 4,
     "schema_version": 3,
     "solution": false,
     "task": false
    },
    "slideshow": {
     "slide_type": ""
    },
    "tags": []
   },
   "outputs": [],
   "source": []
  },
  {
   "cell_type": "markdown",
   "id": "bfe1e9fe",
   "metadata": {
    "deletable": false,
    "editable": false
   },
   "source": [
    "<br>\n",
    "<nav class=\"navbar navbar-default\">\n",
    "    <div class=\"container-fluid\">\n",
    "        <div class=\"navbar-header\" style=\"float: left\">\n",
    "            <a class=\"navbar-brand\" href=\"1_Intro_til_lister.ipynb\" target=\"_self\">&lt; Forrige side: <i>intro til lister</i></a>\n",
    "            </div>\n",
    "        <div class=\"navbar-header\" style=\"float: right\">\n",
    "            <a class=\"navbar-brand\" href=\"3_Mer_lister_strenger.ipynb\" target=\"_self\">Neste side: <i>mer om lister og strenger</i> &gt;</a>\n",
    "        </div>\n",
    "    </div>\n",
    "</nav>"
   ]
  }
 ],
 "metadata": {
  "kernelspec": {
   "display_name": "Python 3 (ipykernel)",
   "language": "python",
   "name": "python3"
  },
  "language_info": {
   "codemirror_mode": {
    "name": "ipython",
    "version": 3
   },
   "file_extension": ".py",
   "mimetype": "text/x-python",
   "name": "python",
   "nbconvert_exporter": "python",
   "pygments_lexer": "ipython3",
   "version": "3.11.6"
  }
 },
 "nbformat": 4,
 "nbformat_minor": 5
}
