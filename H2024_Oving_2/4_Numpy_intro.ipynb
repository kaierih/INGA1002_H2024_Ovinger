{
 "cells": [
  {
   "cell_type": "markdown",
   "id": "d43c9e8e",
   "metadata": {
    "deletable": false,
    "editable": false
   },
   "source": [
    "\n",
    "<nav class=\"navbar navbar-default\">\n",
    "  <div class=\"container-fluid\">\n",
    "    <div class=\"navbar-header\" style=\"float: left\">\n",
    "        <a class=\"navbar-brand\" href=\"0_Forside.ipynb\" target=\"_self\"> <h2> &uarr; Tilbake til forsiden</h2></a>\n",
    "    </div>\n",
    "  </div>\n",
    "</nav>"
   ]
  },
  {
   "cell_type": "markdown",
   "id": "202243c8-af4c-459e-88e6-ec32a9b1c2a9",
   "metadata": {
    "editable": true,
    "slideshow": {
     "slide_type": ""
    },
    "tags": []
   },
   "source": [
    "# Intro til Numpy\n",
    "### Fra matematiske funksjonsuttrykk til python-kode\n",
    "\n",
    "__Læringsmål__:\n",
    "* Bli kjent med numpy-typen ndarray\n",
    "* Kune bruke arrays til å utføre elementvise beregninger\n",
    "\n",
    "**Oversikt:**\n",
    "* [Oppgave a) deklarasjon av arrays](#oppg_4a)\n",
    "* [Oppgave b) elementvis utregning](#oppg_4b)\n",
    "* [Oppgave c) arrays og funksjoner](#oppg_4c)\n",
    "* [Oppgave d) mer elementvis utregning](#oppg_4d)\n",
    "  \n",
    "NB! Denne oppgaven bes du ikke om å lage funksjoner, men heller variabler med et spesifikkt navn."
   ]
  },
  {
   "cell_type": "markdown",
   "id": "9c5428fb-adae-43eb-a8df-67bf3ed6c8d7",
   "metadata": {},
   "source": [
    "### Importering av `numpy`-biblioteket\n",
    "\n",
    "Numpy er noe som kalles et bibliotek. Dette er kode skrevet for å løse et problem som du kan ta i bruk i din egen kode. Numpy er laget for å gjøre numerikk i python mye lettere. Når man ønsker å bruke et bibliotek må man først fortelle til python at man skal bruke det, det gjør man med å *importere* biblioteket."
   ]
  },
  {
   "cell_type": "code",
   "execution_count": 1,
   "id": "34127121-b7ab-4f9a-8829-a0cf05c6c801",
   "metadata": {},
   "outputs": [],
   "source": [
    "import numpy\n",
    "import numpy as np\n",
    "from numpy import cos, sin"
   ]
  },
  {
   "cell_type": "markdown",
   "id": "f2ed0475-dc06-49ae-94de-192ef4902e77",
   "metadata": {},
   "source": [
    "Ovenfor ser du 3 forskjellige måter å importere funksjonalitet fra biblioteket på. Om du har et prosjekt som bare trenger en veldig liten del av et bibliotek kan det være en fordel å bruke den nederste. Da blir bare relevante funksjoner lastet inn, og du kan skrive navnet direkte istedenfor å måtte skrive `np.cos` eller `np.sin`.\n",
    "\n",
    "Ellers bruker vi nesten alltid den i midten. Den er ekvivalent med den øverste, men gjør at man slipper å skrive så mye når man bruker biblioteket. Den sier til python at vi ønsker å bruke biblioteket numpy, og vi kaller det for *np*."
   ]
  },
  {
   "cell_type": "markdown",
   "id": "454a84af-deea-4d4d-b67c-590e1db96cc7",
   "metadata": {},
   "source": [
    "### Bruk av biblioteker\n",
    "\n",
    "Om du ønsker å bruke den nederste linjen til å importere er det veldig lett å bruke funksjonalitetene. Da kaller du funksjonene du har importert som du ville gjort til vanlig. Dette kan gjøre python-program som regner ut matteformler mye lettere å lese."
   ]
  },
  {
   "cell_type": "code",
   "execution_count": 2,
   "id": "e51490b1-ef2e-42f7-bfdf-0530962c104f",
   "metadata": {},
   "outputs": [
    {
     "name": "stdout",
     "output_type": "stream",
     "text": [
      "Sin of 0.7 is 0.644217687237691\n",
      "Cos of 0.7 is 0.7648421872844885\n"
     ]
    }
   ],
   "source": [
    "from numpy import cos, sin\n",
    "\n",
    "value = 0.7\n",
    "sinValue = sin(value)\n",
    "cosValue = cos(value)\n",
    "\n",
    "print(f\"Sin of {value} is {sinValue}\")\n",
    "print(f\"Cos of {value} is {cosValue}\")"
   ]
  },
  {
   "cell_type": "markdown",
   "id": "2d1e17c3-52cb-4838-920a-9dec15fd5c90",
   "metadata": {},
   "source": [
    "Når vi bruker bibliotek med hjelp av *import numpy as np* gjøres dette relativt likt. Eneste forskjellen er at vi må si til python at vi ønsker å bruke numpy biblioteket med *np.* slik som vist nedenfor."
   ]
  },
  {
   "cell_type": "code",
   "execution_count": 3,
   "id": "1e41c757-73f5-4d2b-b5ee-c2eb2a390273",
   "metadata": {},
   "outputs": [
    {
     "name": "stdout",
     "output_type": "stream",
     "text": [
      "Sin of 0.7 is 0.644217687237691\n",
      "Cos of 0.7 is 0.7648421872844885\n"
     ]
    }
   ],
   "source": [
    "import numpy as np\n",
    "\n",
    "value = 0.7\n",
    "sinValue = np.sin(value)\n",
    "cosValue = np.cos(value)\n",
    "\n",
    "print(f\"Sin of {value} is {sinValue}\")\n",
    "print(f\"Cos of {value} is {cosValue}\")"
   ]
  },
  {
   "cell_type": "markdown",
   "id": "3267b36b-ccdb-4a98-8232-9a07c99bcb10",
   "metadata": {},
   "source": [
    "### Numpy-array\n",
    "\n",
    "Numpy har også noen datatyper som vi kan bruke, og en av de mest vanlige er ndarray (kort for N-dimensjonal array). Dette er litt som en liste, men med funksjonalitet laget for numerikk. Det er også viktig å merke seg at indeksering, slicing, ol er likt som med vanlige lister.\n",
    "\n",
    "Nedenfor ser du hvordan du lager en slik array."
   ]
  },
  {
   "cell_type": "code",
   "execution_count": 4,
   "id": "3157c2d2-dd2c-454c-a4b9-350b8586d85b",
   "metadata": {},
   "outputs": [
    {
     "name": "stdout",
     "output_type": "stream",
     "text": [
      "[1 2 3]\n"
     ]
    }
   ],
   "source": [
    "import numpy as np\n",
    "\n",
    "my_array = np.array([1, 2, 3])\n",
    "print(my_array)"
   ]
  },
  {
   "cell_type": "code",
   "execution_count": 5,
   "id": "395d22f7-4712-40b1-8d8a-977d916e688f",
   "metadata": {},
   "outputs": [
    {
     "name": "stdout",
     "output_type": "stream",
     "text": [
      "2\n"
     ]
    }
   ],
   "source": [
    "print(my_array[1])"
   ]
  },
  {
   "cell_type": "markdown",
   "id": "1d39a9c7-f251-4fb2-afcc-80181dfb80a2",
   "metadata": {},
   "source": [
    "<a id=\"oppg_4a\"></a>\n",
    "## a)\n",
    "Bruk funksjonen `numpy.array` til å lage en array `n` med tallverdiene $0,\\ 1,\\ 2,\\ 3,\\ 4\\ \\text{og}\\ 5$ i den rekkefølgen\n",
    "$$n \\in \\{0, 1, 2, 3, 4, 5\\}$$"
   ]
  },
  {
   "cell_type": "code",
   "execution_count": 6,
   "id": "1e2b3f7d-76ee-4074-bc59-45d4cb544f5f",
   "metadata": {
    "nbgrader": {
     "grade": false,
     "grade_id": "cell-59eb32d920dc617e",
     "locked": false,
     "schema_version": 3,
     "solution": true,
     "task": false
    }
   },
   "outputs": [],
   "source": [
    "### BEGIN SOLUTION\n",
    "n = np.array([0, 1, 2, 3, 4, 5])\n",
    "### END SOLUTION"
   ]
  },
  {
   "cell_type": "code",
   "execution_count": 7,
   "id": "72a5aa3e-579b-4bea-9c8d-5f57f93ec7c0",
   "metadata": {
    "editable": true,
    "nbgrader": {
     "grade": true,
     "grade_id": "cell-a80f88fecc4a5775",
     "locked": true,
     "points": 2,
     "schema_version": 3,
     "solution": false,
     "task": false
    },
    "slideshow": {
     "slide_type": ""
    },
    "tags": []
   },
   "outputs": [
    {
     "name": "stdout",
     "output_type": "stream",
     "text": [
      "n: [0 1 2 3 4 5]\n"
     ]
    },
    {
     "data": {
      "text/html": [
       "<div class = \"alert alert-success\">All tests passed!</div>"
      ],
      "text/plain": [
       "<IPython.core.display.HTML object>"
      ]
     },
     "metadata": {},
     "output_type": "display_data"
    },
    {
     "data": {
      "text/plain": [
       "2.0"
      ]
     },
     "execution_count": 7,
     "metadata": {},
     "output_type": "execute_result"
    }
   ],
   "source": [
    "print(f\"n: {n}\")\n",
    "### BEGIN HIDDEN TESTS\n",
    "from autofeedback import VariableTests\n",
    "import numpy as np\n",
    "\n",
    "test_results = VariableTests()\n",
    "if isinstance(n, np.ndarray):\n",
    "    test_results.add_result(True, \"variable 'n' is of type numpy array\", wgt = 0.5)\n",
    "    test_results.compare_values(n, np.arange(6))\n",
    "else:\n",
    "    test_results.add_result(False, f\"variable 'n' is of type {type(n).__name__} and not numpy array\")\n",
    "round(test_results.get_results()*2, 2)\n",
    "### END HIDDEN TESTS"
   ]
  },
  {
   "cell_type": "markdown",
   "id": "10376aab-1fcd-48fb-8f21-be9cdd676f77",
   "metadata": {},
   "source": [
    "### Regneoperasjoner med numpy array\n",
    "\n",
    "Det som er spesielt for nympy-arrays er hvordan matematiske operasjoner funker på arrays. Med arrays vil nemlig operasjoner være *elementvis*, noe som vil si at operasjoner vil virke på hvert element hver for seg, istedenfor på hele arrayen. Nedenfor bruker vi my_array fra forrige kodecelle $n \\in \\{1, 2, 3\\}$"
   ]
  },
  {
   "cell_type": "code",
   "execution_count": 8,
   "id": "ea761b2b-3029-463a-9d54-1dd1fc9b8113",
   "metadata": {},
   "outputs": [
    {
     "data": {
      "text/plain": [
       "array([2, 4, 6])"
      ]
     },
     "execution_count": 8,
     "metadata": {},
     "output_type": "execute_result"
    }
   ],
   "source": [
    "my_array * 2"
   ]
  },
  {
   "cell_type": "code",
   "execution_count": 9,
   "id": "e0edd1b0-b935-4654-88e8-29de41833b96",
   "metadata": {},
   "outputs": [
    {
     "data": {
      "text/plain": [
       "array([-6, -5, -4])"
      ]
     },
     "execution_count": 9,
     "metadata": {},
     "output_type": "execute_result"
    }
   ],
   "source": [
    "my_array - 7"
   ]
  },
  {
   "cell_type": "markdown",
   "id": "bd7d93e8-24c3-4086-baf8-b8109fac6e7d",
   "metadata": {},
   "source": [
    "Med denne egenskapen kan man også gjøre vanskeligere operasjoner mulig. Ta for eksempel funksjonen nedenfor\n",
    "$$x_{k} = \\frac{1}{2}\\cdot k^2 + 2\\cdot k -3, \\ \\ \\ \\ \\ k \\in \\{0, 1, 2, 3, 4, 5, 6 ,7 ,8, 9\\}$$\n",
    "\n",
    "Denne kan bli gjort relativt enkelt med numpy."
   ]
  },
  {
   "cell_type": "code",
   "execution_count": 10,
   "id": "63eb61e3-a2f7-48b1-9464-23c89c65b840",
   "metadata": {},
   "outputs": [
    {
     "name": "stdout",
     "output_type": "stream",
     "text": [
      "[-3.  -0.5  3.   7.5 13.  19.5 27.  35.5 45.  55.5]\n"
     ]
    }
   ],
   "source": [
    "k = np.array([0, 1, 2, 3, 4, 5, 6, 7, 8, 9])\n",
    "xa_k = k**2/2 + 2*k - 3\n",
    "print(xa_k)"
   ]
  },
  {
   "cell_type": "markdown",
   "id": "327cf431-1ac3-446c-bd7a-ece820487718",
   "metadata": {},
   "source": [
    "Vi ser her at addisjon `+`, subtraksjon `-` og potensoperasjonen `**` utfører de aktuelle matematiske utregningene på _hvert element_ i array-variabelen `n`.\n",
    "\n",
    "Dette lar oss utføre rimelig kompliserte og store utregninger med relativt få linjer. Tabellen nedenfor gir en forklaring på hvilke matematiske operatorer som støttes med numpy sine `ndarray` typer:\n",
    "\n",
    "|Operator | Forklaring|\n",
    "|---|---|\n",
    "|+ | Elementvis Addisjon|\n",
    "|- | Elementvis Subtraksjon|\n",
    "|* | Elementvis Multiplikasjon|\n",
    "|** | Elementvis Potensregning|"
   ]
  },
  {
   "cell_type": "markdown",
   "id": "b36835ab-162b-489c-87ed-e244ba166c9e",
   "metadata": {},
   "source": [
    "Når vi bruker numpy sine funksjoner vil også disse kunne brukes på arrays. "
   ]
  },
  {
   "cell_type": "code",
   "execution_count": 11,
   "id": "ad763716-9daf-448f-ba27-c4ec6b07df06",
   "metadata": {},
   "outputs": [
    {
     "name": "stdout",
     "output_type": "stream",
     "text": [
      "[ 1.22464680e-16 -7.56802495e-01  4.12118485e-01]\n",
      "[-1.         -0.65364362 -0.91113026]\n",
      "[1.77245385 2.         3.        ]\n"
     ]
    }
   ],
   "source": [
    "from numpy import sin, cos, sqrt, pi\n",
    "\n",
    "arr = np.array([pi, 4, 9])\n",
    "print(sin(arr))\n",
    "print(cos(arr))\n",
    "print(sqrt(arr))"
   ]
  },
  {
   "cell_type": "markdown",
   "id": "968b8256-23cf-4821-9da7-cfd439ba9a97",
   "metadata": {},
   "source": [
    "<a id=\"oppg_4b\"></a>\n",
    "## b)\n",
    "\n",
    "Med verdiene i arrayen `n` fra forrige oppgave, lag en ny array `x` med verdier gitt i uttrykket nedenfor.\n",
    "\n",
    "$$x_n = 0.64^{\\frac{n}{2}}, \\ \\ \\ \\ \\ n \\in \\{0, 1, 2, 3, 4, 5\\}$$"
   ]
  },
  {
   "cell_type": "code",
   "execution_count": 12,
   "id": "b5d3c422-e6dc-4162-b247-32482a693322",
   "metadata": {
    "nbgrader": {
     "grade": false,
     "grade_id": "cell-2e545966d8f4e437",
     "locked": false,
     "schema_version": 3,
     "solution": true,
     "task": false
    }
   },
   "outputs": [],
   "source": [
    "### BEGIN SOLUTION\n",
    "x = 0.64 ** (n / 2)\n",
    "### END SOLUTION"
   ]
  },
  {
   "cell_type": "code",
   "execution_count": 13,
   "id": "5472312f-205d-4ae7-a329-a99a8fcab986",
   "metadata": {
    "editable": true,
    "nbgrader": {
     "grade": true,
     "grade_id": "cell-fcf16a4ac0cae9f4",
     "locked": true,
     "points": 3,
     "schema_version": 3,
     "solution": false,
     "task": false
    },
    "slideshow": {
     "slide_type": ""
    },
    "tags": []
   },
   "outputs": [
    {
     "name": "stdout",
     "output_type": "stream",
     "text": [
      "x_n: [1.      0.8     0.64    0.512   0.4096  0.32768]\n"
     ]
    },
    {
     "data": {
      "text/html": [
       "<div class = \"alert alert-success\">All tests passed!</div>"
      ],
      "text/plain": [
       "<IPython.core.display.HTML object>"
      ]
     },
     "metadata": {},
     "output_type": "display_data"
    },
    {
     "data": {
      "text/plain": [
       "3.0"
      ]
     },
     "execution_count": 13,
     "metadata": {},
     "output_type": "execute_result"
    }
   ],
   "source": [
    "print(f\"x_n: {x}\")\n",
    "### BEGIN HIDDEN TESTS\n",
    "from autofeedback import VariableTests\n",
    "import numpy as np\n",
    "\n",
    "n_test = np.arange(6)\n",
    "x_test = 0.64**(n_test/2)\n",
    "\n",
    "test_results = VariableTests()\n",
    "if isinstance(x, np.ndarray):\n",
    "    test_results.compare_values(x, x_test)\n",
    "else:\n",
    "    test_results.add_result(False, f\"variable 'x' is of type {type(x).__name__} and not numpy array\")\n",
    "round(test_results.get_results()*3, 2)\n",
    "### END HIDDEN TESTS"
   ]
  },
  {
   "cell_type": "markdown",
   "id": "51613fa7-7d21-4f94-beed-d840e4ec4ce3",
   "metadata": {},
   "source": [
    "<a id=\"oppg_4c\"></a>\n",
    "## c)\n",
    "Med verdiene i arrayen `n` fra forrige oppgave, lag en ny array `y` som følger sinussekvensen.\n",
    "$$y_n = \\cos \\left( \\frac{\\pi \\cdot n}{11} + \\frac{\\pi}{6} \\right), \\ \\ \\ \\ \\ n \\in \\{0, 1, 2, 3, 4, 5\\}$$\n",
    "\n",
    "Hint: nympy biblioteket har en konstant kalt pi"
   ]
  },
  {
   "cell_type": "code",
   "execution_count": 14,
   "id": "ac5f17a0-283b-4654-917c-5854ee42a88c",
   "metadata": {
    "nbgrader": {
     "grade": false,
     "grade_id": "cell-31e924a1816a553e",
     "locked": false,
     "schema_version": 3,
     "solution": true,
     "task": false
    }
   },
   "outputs": [],
   "source": [
    "### BEGIN SOLUTION\n",
    "n = np.arange(6)\n",
    "y = np.cos(np.pi*n/11 + np.pi/6)\n",
    "### END SOLUTION"
   ]
  },
  {
   "cell_type": "code",
   "execution_count": 15,
   "id": "ea75d66e-a3ef-4c8f-bd08-1ed1c7c81dfd",
   "metadata": {
    "nbgrader": {
     "grade": true,
     "grade_id": "cell-81cb54c8a299b667",
     "locked": true,
     "points": 3,
     "schema_version": 3,
     "solution": false,
     "task": false
    }
   },
   "outputs": [
    {
     "name": "stdout",
     "output_type": "stream",
     "text": [
      "y_n: [ 0.8660254   0.69007901  0.45822652  0.18925124 -0.09505604 -0.37166246]\n"
     ]
    },
    {
     "data": {
      "text/html": [
       "<div class = \"alert alert-success\">All tests passed!</div>"
      ],
      "text/plain": [
       "<IPython.core.display.HTML object>"
      ]
     },
     "metadata": {},
     "output_type": "display_data"
    },
    {
     "data": {
      "text/plain": [
       "3.0"
      ]
     },
     "execution_count": 15,
     "metadata": {},
     "output_type": "execute_result"
    }
   ],
   "source": [
    "print(f\"y_n: {y}\")\n",
    "### BEGIN HIDDEN TESTS\n",
    "from autofeedback import VariableTests\n",
    "import numpy as np\n",
    "\n",
    "n_test = np.arange(6)\n",
    "y_test = np.cos(np.pi*n_test/11+np.pi/6)\n",
    "\n",
    "test_results = VariableTests()\n",
    "if isinstance(y, np.ndarray):\n",
    "    test_results.compare_values(y, y_test)\n",
    "else:\n",
    "    test_results.add_result(False, f\"variable 'y' is of type {type(y).__name__} and not numpy array\")\n",
    "round(test_results.get_results()*3, 2)\n",
    "### END HIDDEN TESTS"
   ]
  },
  {
   "cell_type": "markdown",
   "id": "fba1aef1-7ffe-49f4-872d-4f906a47e1e6",
   "metadata": {},
   "source": [
    "**Flere sekvenser i ett uttrykk.**\n",
    "\n",
    "Hittil har vi sett på tilfeller hvor vi en av operanden i en regneoperasjon er et enkelt tall, og den andre er en array. Men det er også fullt mulig at begge operander er en array, så lenge de er ***like lange***. \n",
    "\n",
    "Se for eksempel på kodesnutten nedenfor:\n",
    "```python\n",
    "x1 = np.array([1, 2, 3, 4, 5, 6])\n",
    "x2 = np.array([6, 5, 4, 3, 2, 1])\n",
    "\n",
    "x3 = x1/x2\n",
    "```\n",
    "\n",
    "Her vil hvert element i `x3` være resulatet av tilsvarende element i `x1` delt på tilsvarende element i `x2`. Med andre ord vil linjen `x3 = x1/x2` gjøre det samme som koden nedenfor:\n",
    "\n",
    "```python\n",
    "x3 = np.array([x1[0]/x2[0], \n",
    "               x1[1]/x2[1], \n",
    "               x1[2]/x2[2], \n",
    "               x1[3]/x2[3], \n",
    "               x1[4]/x2[4], \n",
    "               x1[5]/x2[5]])\n",
    "```"
   ]
  },
  {
   "cell_type": "markdown",
   "id": "f72a7cfe-3d2a-494a-9606-6d13dff9146a",
   "metadata": {},
   "source": [
    "<a id=\"oppg_4d\"></a>\n",
    "## d) \n",
    "Bruk elementvis multiplikasjon til å lage en array `z` som er _produktet_ av `x`og `y` fra deloppgave __b__ og __c__).\n",
    "$$z_n = x_n \\cdot y_n, \\ \\ \\ \\ \\ n \\in \\{0, 1, 2, 3, 4, 5\\}$$"
   ]
  },
  {
   "cell_type": "code",
   "execution_count": 16,
   "id": "3bb29ea0-037e-4111-ac8c-b9cdbbbb41d9",
   "metadata": {
    "nbgrader": {
     "grade": false,
     "grade_id": "cell-6e2e979e9605c4c1",
     "locked": false,
     "schema_version": 3,
     "solution": true,
     "task": false
    }
   },
   "outputs": [],
   "source": [
    "### BEGIN SOLUTION\n",
    "z = x*y\n",
    "### END SOLUTION"
   ]
  },
  {
   "cell_type": "code",
   "execution_count": 17,
   "id": "43cb4e2b-2fb6-4d5e-b121-41cbe12521d5",
   "metadata": {
    "nbgrader": {
     "grade": true,
     "grade_id": "cell-004a4d2c72e6cdc6",
     "locked": true,
     "points": 2,
     "schema_version": 3,
     "solution": false,
     "task": false
    }
   },
   "outputs": [
    {
     "name": "stdout",
     "output_type": "stream",
     "text": [
      "z_n: [ 0.8660254   0.55206321  0.29326497  0.09689664 -0.03893496 -0.12178635]\n"
     ]
    },
    {
     "data": {
      "text/html": [
       "<div class = \"alert alert-success\">All tests passed!</div>"
      ],
      "text/plain": [
       "<IPython.core.display.HTML object>"
      ]
     },
     "metadata": {},
     "output_type": "display_data"
    },
    {
     "data": {
      "text/plain": [
       "2.0"
      ]
     },
     "execution_count": 17,
     "metadata": {},
     "output_type": "execute_result"
    }
   ],
   "source": [
    "print(f\"z_n: {z}\")\n",
    "### BEGIN HIDDEN TESTS\n",
    "from autofeedback import VariableTests\n",
    "import numpy as np\n",
    "\n",
    "n_test = np.arange(6)\n",
    "x_test = 0.64**(n_test/2)\n",
    "y_test = np.cos(np.pi*n_test/11+np.pi/6)\n",
    "z_test = x_test*y_test\n",
    "\n",
    "test_results = VariableTests()\n",
    "if isinstance(z, np.ndarray):\n",
    "    test_results.compare_values(z, z_test)\n",
    "else:\n",
    "    test_results.add_result(False, f\"variable 'z' is of type {type(z).__name__} and not numpy array\")\n",
    "round(test_results.get_results()*2, 2)\n",
    "### END HIDDEN TESTS"
   ]
  },
  {
   "cell_type": "markdown",
   "id": "8530d032",
   "metadata": {
    "deletable": false,
    "editable": false
   },
   "source": [
    "<br>\n",
    "<nav class=\"navbar navbar-default\">\n",
    "    <div class=\"container-fluid\">\n",
    "        <div class=\"navbar-header\" style=\"float: left\">\n",
    "            <a class=\"navbar-brand\" href=\"3_Mer_lister_strenger.ipynb\" target=\"_self\">&lt; Forrige side: <i>mer om lister og strenger</i></a>\n",
    "            </div>\n",
    "        <div class=\"navbar-header\" style=\"float: right\">\n",
    "            <a class=\"navbar-brand\" href=\"5_Ofte_brukte_arrays.ipynb\" target=\"_self\">Neste side: <i>ofte brukte arrays</i> &gt;</a>\n",
    "        </div>\n",
    "    </div>\n",
    "</nav>"
   ]
  }
 ],
 "metadata": {
  "kernelspec": {
   "display_name": "Python 3 (ipykernel)",
   "language": "python",
   "name": "python3"
  },
  "language_info": {
   "codemirror_mode": {
    "name": "ipython",
    "version": 3
   },
   "file_extension": ".py",
   "mimetype": "text/x-python",
   "name": "python",
   "nbconvert_exporter": "python",
   "pygments_lexer": "ipython3",
   "version": "3.11.6"
  }
 },
 "nbformat": 4,
 "nbformat_minor": 5
}
