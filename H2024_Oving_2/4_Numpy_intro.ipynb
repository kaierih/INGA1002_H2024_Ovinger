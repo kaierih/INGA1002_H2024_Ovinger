{
 "cells": [
  {
   "cell_type": "markdown",
   "id": "d43c9e8e",
   "metadata": {
    "deletable": false,
    "editable": false
   },
   "source": [
    "\n",
    "<nav class=\"navbar navbar-default\">\n",
    "  <div class=\"container-fluid\">\n",
    "    <div class=\"navbar-header\" style=\"float: left\">\n",
    "        <a class=\"navbar-brand\" href=\"0_Forside.ipynb\" target=\"_self\"> <h2> &uarr; Tilbake til forsiden</h2></a>\n",
    "    </div>\n",
    "  </div>\n",
    "</nav>"
   ]
  },
  {
   "cell_type": "markdown",
   "id": "202243c8-af4c-459e-88e6-ec32a9b1c2a9",
   "metadata": {
    "deletable": false,
    "editable": false,
    "slideshow": {
     "slide_type": ""
    },
    "tags": []
   },
   "source": [
    "# Intro til Numpy\n",
    "### Fra matematiske funksjonsuttrykk til python-kode\n",
    "\n",
    "__Læringsmål__:\n",
    "* Bli kjent med numpy-typen ndarray\n",
    "* Kune bruke arrays til å utføre elementvise beregninger\n",
    "\n",
    "**Oversikt:**\n",
    "* [Oppgave a) deklarasjon av arrays](#oppg_4a)\n",
    "* [Oppgave b) elementvis utregning](#oppg_4b)\n",
    "* [Oppgave c) arrays og funksjoner](#oppg_4c)\n",
    "* [Oppgave d) mer elementvis utregning](#oppg_4d)\n",
    "  \n",
    "NB! Denne oppgaven bes du ikke om å lage funksjoner, men heller variabler med et spesifikkt navn."
   ]
  },
  {
   "cell_type": "markdown",
   "id": "9c5428fb-adae-43eb-a8df-67bf3ed6c8d7",
   "metadata": {
    "deletable": false,
    "editable": false
   },
   "source": [
    "### Importering av `numpy`-biblioteket\n",
    "\n",
    "Numpy er noe som kalles et bibliotek. Dette er kode skrevet for å løse et problem som du kan ta i bruk i din egen kode. Numpy er laget for å gjøre numerikk i python mye lettere. Når man ønsker å bruke et bibliotek må man først fortelle til python at man skal bruke det, det gjør man med å *importere* biblioteket."
   ]
  },
  {
   "cell_type": "code",
   "execution_count": null,
   "id": "34127121-b7ab-4f9a-8829-a0cf05c6c801",
   "metadata": {
    "deletable": false,
    "execution": {
     "iopub.execute_input": "2024-08-23T07:32:43.422985Z",
     "iopub.status.busy": "2024-08-23T07:32:43.422105Z",
     "iopub.status.idle": "2024-08-23T07:32:43.635206Z",
     "shell.execute_reply": "2024-08-23T07:32:43.633314Z"
    }
   },
   "outputs": [],
   "source": [
    "import numpy\n",
    "import numpy as np\n",
    "from numpy import cos, sin"
   ]
  },
  {
   "cell_type": "markdown",
   "id": "f2ed0475-dc06-49ae-94de-192ef4902e77",
   "metadata": {
    "deletable": false,
    "editable": false
   },
   "source": [
    "Ovenfor ser du 3 forskjellige måter å importere funksjonalitet fra biblioteket på. Om du har et prosjekt som bare trenger en veldig liten del av et bibliotek kan det være en fordel å bruke den nederste. Da blir bare relevante funksjoner lastet inn, og du kan skrive navnet direkte istedenfor å måtte skrive `np.cos` eller `np.sin`.\n",
    "\n",
    "Ellers bruker vi nesten alltid den i midten. Den er ekvivalent med den øverste, men gjør at man slipper å skrive så mye når man bruker biblioteket. Den sier til python at vi ønsker å bruke biblioteket numpy, og vi kaller det for *np*."
   ]
  },
  {
   "cell_type": "markdown",
   "id": "454a84af-deea-4d4d-b67c-590e1db96cc7",
   "metadata": {
    "deletable": false,
    "editable": false
   },
   "source": [
    "### Bruk av biblioteker\n",
    "\n",
    "Om du ønsker å bruke den nederste linjen til å importere er det veldig lett å bruke funksjonalitetene. Da kaller du funksjonene du har importert som du ville gjort til vanlig. Dette kan gjøre python-program som regner ut matteformler mye lettere å lese."
   ]
  },
  {
   "cell_type": "code",
   "execution_count": null,
   "id": "e51490b1-ef2e-42f7-bfdf-0530962c104f",
   "metadata": {
    "deletable": false,
    "execution": {
     "iopub.execute_input": "2024-08-23T07:32:43.660114Z",
     "iopub.status.busy": "2024-08-23T07:32:43.659212Z",
     "iopub.status.idle": "2024-08-23T07:32:43.674457Z",
     "shell.execute_reply": "2024-08-23T07:32:43.671455Z"
    }
   },
   "outputs": [],
   "source": [
    "from numpy import cos, sin\n",
    "\n",
    "value = 0.7\n",
    "sinValue = sin(value)\n",
    "cosValue = cos(value)\n",
    "\n",
    "print(f\"Sin of {value} is {sinValue}\")\n",
    "print(f\"Cos of {value} is {cosValue}\")"
   ]
  },
  {
   "cell_type": "markdown",
   "id": "2d1e17c3-52cb-4838-920a-9dec15fd5c90",
   "metadata": {
    "deletable": false,
    "editable": false
   },
   "source": [
    "Når vi bruker bibliotek med hjelp av *import numpy as np* gjøres dette relativt likt. Eneste forskjellen er at vi må si til python at vi ønsker å bruke numpy biblioteket med *np.* slik som vist nedenfor."
   ]
  },
  {
   "cell_type": "code",
   "execution_count": null,
   "id": "1e41c757-73f5-4d2b-b5ee-c2eb2a390273",
   "metadata": {
    "deletable": false,
    "execution": {
     "iopub.execute_input": "2024-08-23T07:32:43.684095Z",
     "iopub.status.busy": "2024-08-23T07:32:43.683386Z",
     "iopub.status.idle": "2024-08-23T07:32:43.696622Z",
     "shell.execute_reply": "2024-08-23T07:32:43.693985Z"
    }
   },
   "outputs": [],
   "source": [
    "import numpy as np\n",
    "\n",
    "value = 0.7\n",
    "sinValue = np.sin(value)\n",
    "cosValue = np.cos(value)\n",
    "\n",
    "print(f\"Sin of {value} is {sinValue}\")\n",
    "print(f\"Cos of {value} is {cosValue}\")"
   ]
  },
  {
   "cell_type": "markdown",
   "id": "3267b36b-ccdb-4a98-8232-9a07c99bcb10",
   "metadata": {
    "deletable": false,
    "editable": false
   },
   "source": [
    "### Numpy-array\n",
    "\n",
    "Numpy har også noen datatyper som vi kan bruke, og en av de mest vanlige er ndarray (kort for N-dimensjonal array). Dette er litt som en liste, men med funksjonalitet laget for numerikk. Det er også viktig å merke seg at indeksering, slicing, ol er likt som med vanlige lister.\n",
    "\n",
    "Nedenfor ser du hvordan du lager en slik array."
   ]
  },
  {
   "cell_type": "code",
   "execution_count": null,
   "id": "3157c2d2-dd2c-454c-a4b9-350b8586d85b",
   "metadata": {
    "deletable": false,
    "execution": {
     "iopub.execute_input": "2024-08-23T07:32:43.705948Z",
     "iopub.status.busy": "2024-08-23T07:32:43.705246Z",
     "iopub.status.idle": "2024-08-23T07:32:43.757596Z",
     "shell.execute_reply": "2024-08-23T07:32:43.754367Z"
    }
   },
   "outputs": [],
   "source": [
    "import numpy as np\n",
    "\n",
    "my_array = np.array([1, 2, 3])\n",
    "print(my_array)"
   ]
  },
  {
   "cell_type": "code",
   "execution_count": null,
   "id": "395d22f7-4712-40b1-8d8a-977d916e688f",
   "metadata": {
    "deletable": false,
    "execution": {
     "iopub.execute_input": "2024-08-23T07:32:43.766925Z",
     "iopub.status.busy": "2024-08-23T07:32:43.766130Z",
     "iopub.status.idle": "2024-08-23T07:32:43.778012Z",
     "shell.execute_reply": "2024-08-23T07:32:43.775240Z"
    }
   },
   "outputs": [],
   "source": [
    "print(my_array[1])"
   ]
  },
  {
   "cell_type": "markdown",
   "id": "1d39a9c7-f251-4fb2-afcc-80181dfb80a2",
   "metadata": {
    "deletable": false,
    "editable": false
   },
   "source": [
    "<a id=\"oppg_4a\"></a>\n",
    "## a)\n",
    "Bruk funksjonen `numpy.array` til å lage en array `n` med tallverdiene $0,\\ 1,\\ 2,\\ 3,\\ 4\\ \\text{og}\\ 5$ i den rekkefølgen\n",
    "$$n \\in \\{0, 1, 2, 3, 4, 5\\}$$"
   ]
  },
  {
   "cell_type": "code",
   "execution_count": null,
   "id": "1e2b3f7d-76ee-4074-bc59-45d4cb544f5f",
   "metadata": {
    "deletable": false,
    "execution": {
     "iopub.execute_input": "2024-08-23T07:32:43.788063Z",
     "iopub.status.busy": "2024-08-23T07:32:43.787277Z",
     "iopub.status.idle": "2024-08-23T07:32:43.798241Z",
     "shell.execute_reply": "2024-08-23T07:32:43.795329Z"
    },
    "nbgrader": {
     "cell_type": "code",
     "checksum": "1c77efead23d38b2f2da82d7a84e570e",
     "grade": false,
     "grade_id": "cell-59eb32d920dc617e",
     "locked": false,
     "schema_version": 3,
     "solution": true,
     "task": false
    }
   },
   "outputs": [],
   "source": [
    "#-------------------------------------\n",
    "# SKRIV DIN KODE HER!\n",
    "#-------------------------------------"
   ]
  },
  {
   "cell_type": "code",
   "execution_count": null,
   "id": "72a5aa3e-579b-4bea-9c8d-5f57f93ec7c0",
   "metadata": {
    "autofeedback": {
     "test_code": "ZnJvbSBhdXRvZmVlZGJhY2sgaW1wb3J0IFZhcmlhYmxlVGVzdHMKaW1wb3J0IG51bXB5IGFzIG5wCgp0ZXN0X3Jlc3VsdHMgPSBWYXJpYWJsZVRlc3RzKCkKaWYgaXNpbnN0YW5jZShuLCBucC5uZGFycmF5KToKICAgIHRlc3RfcmVzdWx0cy5hZGRfcmVzdWx0KFRydWUsICJ2YXJpYWJsZSAnbicgaXMgb2YgdHlwZSBudW1weSBhcnJheSIsIHdndCA9IDAuNSkKICAgIHRlc3RfcmVzdWx0cy5jb21wYXJlX3ZhbHVlcyhuLCBucC5hcmFuZ2UoNikpCmVsc2U6CiAgICB0ZXN0X3Jlc3VsdHMuYWRkX3Jlc3VsdChGYWxzZSwgZiJ2YXJpYWJsZSAnbicgaXMgb2YgdHlwZSB7dHlwZShuKS5fX25hbWVfX30gYW5kIG5vdCBudW1weSBhcnJheSIpCnJvdW5kKHRlc3RfcmVzdWx0cy5nZXRfcmVzdWx0cygpKjIsIDIp"
    },
    "deletable": false,
    "editable": false,
    "execution": {
     "iopub.execute_input": "2024-08-23T07:32:43.807429Z",
     "iopub.status.busy": "2024-08-23T07:32:43.806686Z",
     "iopub.status.idle": "2024-08-23T07:32:45.189853Z",
     "shell.execute_reply": "2024-08-23T07:32:45.188197Z"
    },
    "nbgrader": {
     "cell_type": "code",
     "checksum": "7340830f6b98fc0a2cc544cab6b8a8f4",
     "grade": true,
     "grade_id": "cell-a80f88fecc4a5775",
     "locked": true,
     "points": 2,
     "schema_version": 3,
     "solution": false,
     "task": false
    },
    "slideshow": {
     "slide_type": ""
    },
    "tags": []
   },
   "outputs": [],
   "source": [
    "print(f\"n: {n}\")"
   ]
  },
  {
   "cell_type": "markdown",
   "id": "10376aab-1fcd-48fb-8f21-be9cdd676f77",
   "metadata": {
    "deletable": false,
    "editable": false
   },
   "source": [
    "### Regneoperasjoner med numpy array\n",
    "\n",
    "Det som er spesielt for nympy-arrays er hvordan matematiske operasjoner funker på arrays. Med arrays vil nemlig operasjoner være *elementvis*, noe som vil si at operasjoner vil virke på hvert element hver for seg, istedenfor på hele arrayen. Nedenfor bruker vi my_array fra forrige kodecelle $n \\in \\{1, 2, 3\\}$"
   ]
  },
  {
   "cell_type": "code",
   "execution_count": null,
   "id": "ea761b2b-3029-463a-9d54-1dd1fc9b8113",
   "metadata": {
    "deletable": false,
    "execution": {
     "iopub.execute_input": "2024-08-23T07:32:45.199247Z",
     "iopub.status.busy": "2024-08-23T07:32:45.198728Z",
     "iopub.status.idle": "2024-08-23T07:32:45.209279Z",
     "shell.execute_reply": "2024-08-23T07:32:45.207541Z"
    }
   },
   "outputs": [],
   "source": [
    "my_array * 2"
   ]
  },
  {
   "cell_type": "code",
   "execution_count": null,
   "id": "e0edd1b0-b935-4654-88e8-29de41833b96",
   "metadata": {
    "deletable": false,
    "execution": {
     "iopub.execute_input": "2024-08-23T07:32:45.216771Z",
     "iopub.status.busy": "2024-08-23T07:32:45.216424Z",
     "iopub.status.idle": "2024-08-23T07:32:45.252852Z",
     "shell.execute_reply": "2024-08-23T07:32:45.225701Z"
    }
   },
   "outputs": [],
   "source": [
    "my_array - 7"
   ]
  },
  {
   "cell_type": "markdown",
   "id": "bd7d93e8-24c3-4086-baf8-b8109fac6e7d",
   "metadata": {
    "deletable": false,
    "editable": false
   },
   "source": [
    "Med denne egenskapen kan man også gjøre vanskeligere operasjoner mulig. Ta for eksempel funksjonen nedenfor\n",
    "$$x_{k} = \\frac{1}{2}\\cdot k^2 + 2\\cdot k -3, \\ \\ \\ \\ \\ k \\in \\{0, 1, 2, 3, 4, 5, 6 ,7 ,8, 9\\}$$\n",
    "\n",
    "Denne kan bli gjort relativt enkelt med numpy."
   ]
  },
  {
   "cell_type": "code",
   "execution_count": null,
   "id": "63eb61e3-a2f7-48b1-9464-23c89c65b840",
   "metadata": {
    "deletable": false,
    "execution": {
     "iopub.execute_input": "2024-08-23T07:32:45.262997Z",
     "iopub.status.busy": "2024-08-23T07:32:45.262215Z",
     "iopub.status.idle": "2024-08-23T07:32:45.275920Z",
     "shell.execute_reply": "2024-08-23T07:32:45.273346Z"
    }
   },
   "outputs": [],
   "source": [
    "k = np.array([0, 1, 2, 3, 4, 5, 6, 7, 8, 9])\n",
    "xa_k = k**2/2 + 2*k - 3\n",
    "print(xa_k)"
   ]
  },
  {
   "cell_type": "markdown",
   "id": "327cf431-1ac3-446c-bd7a-ece820487718",
   "metadata": {
    "deletable": false,
    "editable": false
   },
   "source": [
    "Vi ser her at addisjon `+`, subtraksjon `-` og potensoperasjonen `**` utfører de aktuelle matematiske utregningene på _hvert element_ i array-variabelen `n`.\n",
    "\n",
    "Dette lar oss utføre rimelig kompliserte og store utregninger med relativt få linjer. Tabellen nedenfor gir en forklaring på hvilke matematiske operatorer som støttes med numpy sine `ndarray` typer:\n",
    "\n",
    "|Operator | Forklaring|\n",
    "|---|---|\n",
    "|+ | Elementvis Addisjon|\n",
    "|- | Elementvis Subtraksjon|\n",
    "|* | Elementvis Multiplikasjon|\n",
    "|** | Elementvis Potensregning|"
   ]
  },
  {
   "cell_type": "markdown",
   "id": "b36835ab-162b-489c-87ed-e244ba166c9e",
   "metadata": {
    "deletable": false,
    "editable": false
   },
   "source": [
    "Når vi bruker numpy sine funksjoner vil også disse kunne brukes på arrays. "
   ]
  },
  {
   "cell_type": "code",
   "execution_count": null,
   "id": "ad763716-9daf-448f-ba27-c4ec6b07df06",
   "metadata": {
    "deletable": false,
    "execution": {
     "iopub.execute_input": "2024-08-23T07:32:45.285778Z",
     "iopub.status.busy": "2024-08-23T07:32:45.285096Z",
     "iopub.status.idle": "2024-08-23T07:32:45.299366Z",
     "shell.execute_reply": "2024-08-23T07:32:45.296684Z"
    }
   },
   "outputs": [],
   "source": [
    "from numpy import sin, cos, sqrt, pi\n",
    "\n",
    "arr = np.array([pi, 4, 9])\n",
    "print(sin(arr))\n",
    "print(cos(arr))\n",
    "print(sqrt(arr))"
   ]
  },
  {
   "cell_type": "markdown",
   "id": "968b8256-23cf-4821-9da7-cfd439ba9a97",
   "metadata": {
    "deletable": false,
    "editable": false
   },
   "source": [
    "<a id=\"oppg_4b\"></a>\n",
    "## b)\n",
    "\n",
    "Med verdiene i arrayen `n` fra forrige oppgave, lag en ny array `x` med verdier gitt i uttrykket nedenfor.\n",
    "\n",
    "$$x_n = 0.64^{\\frac{n}{2}}, \\ \\ \\ \\ \\ n \\in \\{0, 1, 2, 3, 4, 5\\}$$"
   ]
  },
  {
   "cell_type": "code",
   "execution_count": null,
   "id": "b5d3c422-e6dc-4162-b247-32482a693322",
   "metadata": {
    "deletable": false,
    "execution": {
     "iopub.execute_input": "2024-08-23T07:32:45.308959Z",
     "iopub.status.busy": "2024-08-23T07:32:45.308289Z",
     "iopub.status.idle": "2024-08-23T07:32:45.351858Z",
     "shell.execute_reply": "2024-08-23T07:32:45.316633Z"
    },
    "nbgrader": {
     "cell_type": "code",
     "checksum": "7fa00b1f93e86e40ee5866802238a2dc",
     "grade": false,
     "grade_id": "cell-2e545966d8f4e437",
     "locked": false,
     "schema_version": 3,
     "solution": true,
     "task": false
    }
   },
   "outputs": [],
   "source": [
    "#-------------------------------------\n",
    "# SKRIV DIN KODE HER!\n",
    "#-------------------------------------"
   ]
  },
  {
   "cell_type": "code",
   "execution_count": null,
   "id": "5472312f-205d-4ae7-a329-a99a8fcab986",
   "metadata": {
    "autofeedback": {
     "test_code": "ZnJvbSBhdXRvZmVlZGJhY2sgaW1wb3J0IFZhcmlhYmxlVGVzdHMKaW1wb3J0IG51bXB5IGFzIG5wCgpuX3Rlc3QgPSBucC5hcmFuZ2UoNikKeF90ZXN0ID0gMC42NCoqKG5fdGVzdC8yKQoKdGVzdF9yZXN1bHRzID0gVmFyaWFibGVUZXN0cygpCmlmIGlzaW5zdGFuY2UoeCwgbnAubmRhcnJheSk6CiAgICB0ZXN0X3Jlc3VsdHMuY29tcGFyZV92YWx1ZXMoeCwgeF90ZXN0KQplbHNlOgogICAgdGVzdF9yZXN1bHRzLmFkZF9yZXN1bHQoRmFsc2UsIGYidmFyaWFibGUgJ3gnIGlzIG9mIHR5cGUge3R5cGUoeCkuX19uYW1lX199IGFuZCBub3QgbnVtcHkgYXJyYXkiKQpyb3VuZCh0ZXN0X3Jlc3VsdHMuZ2V0X3Jlc3VsdHMoKSozLCAyKQ=="
    },
    "deletable": false,
    "editable": false,
    "execution": {
     "iopub.execute_input": "2024-08-23T07:32:45.362017Z",
     "iopub.status.busy": "2024-08-23T07:32:45.361125Z",
     "iopub.status.idle": "2024-08-23T07:32:45.388012Z",
     "shell.execute_reply": "2024-08-23T07:32:45.385880Z"
    },
    "nbgrader": {
     "cell_type": "code",
     "checksum": "497252709a6bf3e08db45d4a24f8ee93",
     "grade": true,
     "grade_id": "cell-fcf16a4ac0cae9f4",
     "locked": true,
     "points": 3,
     "schema_version": 3,
     "solution": false,
     "task": false
    },
    "slideshow": {
     "slide_type": ""
    },
    "tags": []
   },
   "outputs": [],
   "source": [
    "print(f\"x_n: {x}\")"
   ]
  },
  {
   "cell_type": "markdown",
   "id": "51613fa7-7d21-4f94-beed-d840e4ec4ce3",
   "metadata": {
    "deletable": false,
    "editable": false
   },
   "source": [
    "<a id=\"oppg_4c\"></a>\n",
    "## c)\n",
    "Med verdiene i arrayen `n` fra forrige oppgave, lag en ny array `y` som følger sinussekvensen.\n",
    "$$y_n = \\cos \\left( \\frac{\\pi \\cdot n}{11} + \\frac{\\pi}{6} \\right), \\ \\ \\ \\ \\ n \\in \\{0, 1, 2, 3, 4, 5\\}$$\n",
    "\n",
    "Hint: nympy biblioteket har en konstant kalt pi"
   ]
  },
  {
   "cell_type": "code",
   "execution_count": null,
   "id": "ac5f17a0-283b-4654-917c-5854ee42a88c",
   "metadata": {
    "deletable": false,
    "execution": {
     "iopub.execute_input": "2024-08-23T07:32:45.396829Z",
     "iopub.status.busy": "2024-08-23T07:32:45.396101Z",
     "iopub.status.idle": "2024-08-23T07:32:45.406802Z",
     "shell.execute_reply": "2024-08-23T07:32:45.404364Z"
    },
    "nbgrader": {
     "cell_type": "code",
     "checksum": "623be906a7f16386a39f7a72711cfa03",
     "grade": false,
     "grade_id": "cell-31e924a1816a553e",
     "locked": false,
     "schema_version": 3,
     "solution": true,
     "task": false
    }
   },
   "outputs": [],
   "source": [
    "#-------------------------------------\n",
    "# SKRIV DIN KODE HER!\n",
    "#-------------------------------------"
   ]
  },
  {
   "cell_type": "code",
   "execution_count": null,
   "id": "ea75d66e-a3ef-4c8f-bd08-1ed1c7c81dfd",
   "metadata": {
    "autofeedback": {
     "test_code": "ZnJvbSBhdXRvZmVlZGJhY2sgaW1wb3J0IFZhcmlhYmxlVGVzdHMKaW1wb3J0IG51bXB5IGFzIG5wCgpuX3Rlc3QgPSBucC5hcmFuZ2UoNikKeV90ZXN0ID0gbnAuY29zKG5wLnBpKm5fdGVzdC8xMStucC5waS82KQoKdGVzdF9yZXN1bHRzID0gVmFyaWFibGVUZXN0cygpCmlmIGlzaW5zdGFuY2UoeSwgbnAubmRhcnJheSk6CiAgICB0ZXN0X3Jlc3VsdHMuY29tcGFyZV92YWx1ZXMoeSwgeV90ZXN0KQplbHNlOgogICAgdGVzdF9yZXN1bHRzLmFkZF9yZXN1bHQoRmFsc2UsIGYidmFyaWFibGUgJ3knIGlzIG9mIHR5cGUge3R5cGUoeSkuX19uYW1lX199IGFuZCBub3QgbnVtcHkgYXJyYXkiKQpyb3VuZCh0ZXN0X3Jlc3VsdHMuZ2V0X3Jlc3VsdHMoKSozLCAyKQ=="
    },
    "deletable": false,
    "editable": false,
    "execution": {
     "iopub.execute_input": "2024-08-23T07:32:45.416356Z",
     "iopub.status.busy": "2024-08-23T07:32:45.415527Z",
     "iopub.status.idle": "2024-08-23T07:32:45.468633Z",
     "shell.execute_reply": "2024-08-23T07:32:45.466737Z"
    },
    "nbgrader": {
     "cell_type": "code",
     "checksum": "6071574067098bdb5ed698aa5e1fe7c7",
     "grade": true,
     "grade_id": "cell-81cb54c8a299b667",
     "locked": true,
     "points": 3,
     "schema_version": 3,
     "solution": false,
     "task": false
    }
   },
   "outputs": [],
   "source": [
    "print(f\"y_n: {y}\")"
   ]
  },
  {
   "cell_type": "markdown",
   "id": "fba1aef1-7ffe-49f4-872d-4f906a47e1e6",
   "metadata": {
    "deletable": false,
    "editable": false
   },
   "source": [
    "**Flere sekvenser i ett uttrykk.**\n",
    "\n",
    "Hittil har vi sett på tilfeller hvor vi en av operanden i en regneoperasjon er et enkelt tall, og den andre er en array. Men det er også fullt mulig at begge operander er en array, så lenge de er ***like lange***. \n",
    "\n",
    "Se for eksempel på kodesnutten nedenfor:\n",
    "```python\n",
    "x1 = np.array([1, 2, 3, 4, 5, 6])\n",
    "x2 = np.array([6, 5, 4, 3, 2, 1])\n",
    "\n",
    "x3 = x1/x2\n",
    "```\n",
    "\n",
    "Her vil hvert element i `x3` være resulatet av tilsvarende element i `x1` delt på tilsvarende element i `x2`. Med andre ord vil linjen `x3 = x1/x2` gjøre det samme som koden nedenfor:\n",
    "\n",
    "```python\n",
    "x3 = np.array([x1[0]/x2[0], \n",
    "               x1[1]/x2[1], \n",
    "               x1[2]/x2[2], \n",
    "               x1[3]/x2[3], \n",
    "               x1[4]/x2[4], \n",
    "               x1[5]/x2[5]])\n",
    "```"
   ]
  },
  {
   "cell_type": "markdown",
   "id": "f72a7cfe-3d2a-494a-9606-6d13dff9146a",
   "metadata": {
    "deletable": false,
    "editable": false
   },
   "source": [
    "<a id=\"oppg_4d\"></a>\n",
    "## d) \n",
    "Bruk elementvis multiplikasjon til å lage en array `z` som er _produktet_ av `x`og `y` fra deloppgave __b__ og __c__).\n",
    "$$z_n = x_n \\cdot y_n, \\ \\ \\ \\ \\ n \\in \\{0, 1, 2, 3, 4, 5\\}$$"
   ]
  },
  {
   "cell_type": "code",
   "execution_count": null,
   "id": "3bb29ea0-037e-4111-ac8c-b9cdbbbb41d9",
   "metadata": {
    "deletable": false,
    "execution": {
     "iopub.execute_input": "2024-08-23T07:32:45.475882Z",
     "iopub.status.busy": "2024-08-23T07:32:45.475585Z",
     "iopub.status.idle": "2024-08-23T07:32:45.483469Z",
     "shell.execute_reply": "2024-08-23T07:32:45.481417Z"
    },
    "nbgrader": {
     "cell_type": "code",
     "checksum": "602f58c19decffc5664e9e5406667417",
     "grade": false,
     "grade_id": "cell-6e2e979e9605c4c1",
     "locked": false,
     "schema_version": 3,
     "solution": true,
     "task": false
    }
   },
   "outputs": [],
   "source": [
    "#-------------------------------------\n",
    "# SKRIV DIN KODE HER!\n",
    "#-------------------------------------"
   ]
  },
  {
   "cell_type": "code",
   "execution_count": null,
   "id": "43cb4e2b-2fb6-4d5e-b121-41cbe12521d5",
   "metadata": {
    "autofeedback": {
     "test_code": "ZnJvbSBhdXRvZmVlZGJhY2sgaW1wb3J0IFZhcmlhYmxlVGVzdHMKaW1wb3J0IG51bXB5IGFzIG5wCgpuX3Rlc3QgPSBucC5hcmFuZ2UoNikKeF90ZXN0ID0gMC42NCoqKG5fdGVzdC8yKQp5X3Rlc3QgPSBucC5jb3MobnAucGkqbl90ZXN0LzExK25wLnBpLzYpCnpfdGVzdCA9IHhfdGVzdCp5X3Rlc3QKCnRlc3RfcmVzdWx0cyA9IFZhcmlhYmxlVGVzdHMoKQppZiBpc2luc3RhbmNlKHosIG5wLm5kYXJyYXkpOgogICAgdGVzdF9yZXN1bHRzLmNvbXBhcmVfdmFsdWVzKHosIHpfdGVzdCkKZWxzZToKICAgIHRlc3RfcmVzdWx0cy5hZGRfcmVzdWx0KEZhbHNlLCBmInZhcmlhYmxlICd6JyBpcyBvZiB0eXBlIHt0eXBlKHopLl9fbmFtZV9ffSBhbmQgbm90IG51bXB5IGFycmF5IikKcm91bmQodGVzdF9yZXN1bHRzLmdldF9yZXN1bHRzKCkqMiwgMik="
    },
    "deletable": false,
    "editable": false,
    "execution": {
     "iopub.execute_input": "2024-08-23T07:32:45.490030Z",
     "iopub.status.busy": "2024-08-23T07:32:45.489635Z",
     "iopub.status.idle": "2024-08-23T07:32:45.510093Z",
     "shell.execute_reply": "2024-08-23T07:32:45.507861Z"
    },
    "nbgrader": {
     "cell_type": "code",
     "checksum": "27cd18597d6b732d4a25bff99e9828bd",
     "grade": true,
     "grade_id": "cell-004a4d2c72e6cdc6",
     "locked": true,
     "points": 2,
     "schema_version": 3,
     "solution": false,
     "task": false
    }
   },
   "outputs": [],
   "source": [
    "print(f\"z_n: {z}\")"
   ]
  },
  {
   "cell_type": "markdown",
   "id": "8530d032",
   "metadata": {
    "deletable": false,
    "editable": false
   },
   "source": [
    "<br>\n",
    "<nav class=\"navbar navbar-default\">\n",
    "    <div class=\"container-fluid\">\n",
    "        <div class=\"navbar-header\" style=\"float: left\">\n",
    "            <a class=\"navbar-brand\" href=\"3_Mer_lister_strenger.ipynb\" target=\"_self\">&lt; Forrige side: <i>mer om lister og strenger</i></a>\n",
    "            </div>\n",
    "        <div class=\"navbar-header\" style=\"float: right\">\n",
    "            <a class=\"navbar-brand\" href=\"5_Ofte_brukte_arrays.ipynb\" target=\"_self\">Neste side: <i>ofte brukte arrays</i> &gt;</a>\n",
    "        </div>\n",
    "    </div>\n",
    "</nav>"
   ]
  }
 ],
 "metadata": {
  "kernelspec": {
   "display_name": "Python 3 (ipykernel)",
   "language": "python",
   "name": "python3"
  },
  "language_info": {
   "codemirror_mode": {
    "name": "ipython",
    "version": 3
   },
   "file_extension": ".py",
   "mimetype": "text/x-python",
   "name": "python",
   "nbconvert_exporter": "python",
   "pygments_lexer": "ipython3",
   "version": "3.11.6"
  }
 },
 "nbformat": 4,
 "nbformat_minor": 5
}
